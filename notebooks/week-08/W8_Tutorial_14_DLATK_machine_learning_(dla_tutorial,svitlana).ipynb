{
  "cells": [
    {
      "cell_type": "markdown",
      "metadata": {
        "id": "view-in-github",
        "colab_type": "text"
      },
      "source": [
        "<a href=\"https://colab.research.google.com/github/CompPsychology/psych290_colab_public/blob/main/notebooks/week-08/W8_Tutorial_14_DLATK_machine_learning_(dla_tutorial%2Csvitlana).ipynb\" target=\"_parent\"><img src=\"https://colab.research.google.com/assets/colab-badge.svg\" alt=\"Open In Colab\"/></a>"
      ]
    },
    {
      "cell_type": "markdown",
      "metadata": {
        "id": "7e_eYg-Px7-9"
      },
      "source": [
        "# Tutorial 14 - Machine learning prediction (regression & classification) (2025-05)\n",
        "\n",
        "✋🏻✋🏻 NOTE - You need to create a copy of this notebook before you work through it. Click on \"Save a copy in Drive\" option in the File menu, and safe it to your Google Drive.\n",
        "\n",
        "✉️🐞 If you find a bug/something doesn't work, please slack us a screenshot, or email johannes.courses@gmail.com.\n",
        "\n",
        "(c) Johannes Eichstaedt & the World Well-Being Project, 2023."
      ]
    },
    {
      "cell_type": "markdown",
      "source": [
        "In this tutorial, we get our feet wet with some basic machine learning using language features."
      ],
      "metadata": {
        "id": "2PcUS2vrHHmj"
      }
    },
    {
      "cell_type": "markdown",
      "source": [
        "## 1) Setting up: DLATK, databases, and feature tables  \n"
      ],
      "metadata": {
        "id": "MkGE2h8WytPO"
      }
    },
    {
      "cell_type": "markdown",
      "source": [
        "### a) Install DLATK"
      ],
      "metadata": {
        "id": "zVf7Sw7zroJ5"
      }
    },
    {
      "cell_type": "code",
      "execution_count": null,
      "metadata": {
        "id": "3-JeYt4fVXSR",
        "collapsed": true
      },
      "outputs": [],
      "source": [
        "# installing DLATK and necessary packages\n",
        "!git clone -b psych290 https://github.com/dlatk/dlatk.git\n",
        "!pip install -r dlatk/install/requirements.txt\n",
        "!pip install dlatk/\n",
        "!pip install wordcloud langid jupysql"
      ]
    },
    {
      "cell_type": "markdown",
      "source": [
        "### b) Mount Google Drive and copy databases"
      ],
      "metadata": {
        "id": "ORz4GM0ArvYS"
      }
    },
    {
      "cell_type": "markdown",
      "source": [
        "💡 **Uploading your own data**: if you're working with new data (CSVs), see how to upload them [with DLATK in Tutorial 5B](https://github.com/CompPsychology/psych290_colab_public/blob/main/notebooks/week-03/W3_Tutorial_05B_mini_tutorial_saving_SQLite_in_GoogleDrive_(dla_tutorial).ipynb) or [with R in Tutorial 7](https://github.com/CompPsychology/psych290_colab_public/blob/main/notebooks/week-05/W5_Tutorial_07_R_dataImport_metaTablePlots_(csv).ipynb)!\n",
        "\n",
        "For now, `dla_tutorial` should be saved in your Google Drive already 😎"
      ],
      "metadata": {
        "id": "gExftU6iZmQb"
      }
    },
    {
      "cell_type": "code",
      "source": [
        "database = \"dla_tutorial\""
      ],
      "metadata": {
        "id": "hsoYPwaGdDKI"
      },
      "execution_count": null,
      "outputs": []
    },
    {
      "cell_type": "code",
      "source": [
        "# Mount Google Drive & copy to Colab\n",
        "\n",
        "# connects & mounts your Google Drive to this colab space\n",
        "from google.colab import drive\n",
        "drive.mount('/content/drive', force_remount=True)\n",
        "\n",
        "# this copies dlatk_lexica.db from your Google Drive to Colab\n",
        "!cp -f \"/content/drive/MyDrive/sqlite_databases/dlatk_lexica.db\" \"sqlite_data\"\n",
        "\n",
        "# this copies {database}.db from your Google Drive to Colab\n",
        "!cp -f \"/content/drive/MyDrive/sqlite_databases/{database}.db\" \"sqlite_data\""
      ],
      "metadata": {
        "id": "I7XWXktOrzWP"
      },
      "execution_count": null,
      "outputs": []
    },
    {
      "cell_type": "markdown",
      "source": [
        "### c) Setup database connection"
      ],
      "metadata": {
        "id": "oCj9VppSr5Nz"
      }
    },
    {
      "cell_type": "code",
      "source": [
        "# loads the %%sql extension\n",
        "%load_ext sql\n",
        "\n",
        "# connects the extension to the databases - mounts both databases as engines\n",
        "from sqlalchemy import create_engine\n",
        "tutorial_db_engine = create_engine(f\"sqlite:///sqlite_data/{database}.db?charset=utf8mb4\")\n",
        "dlatk_lexica_engine = create_engine(f\"sqlite:///sqlite_data/dlatk_lexica.db?charset=utf8mb4\")\n",
        "\n",
        "# activate to dla_tutorial engine\n",
        "%sql tutorial_db_engine\n",
        "\n",
        "#set the output limit to 50\n",
        "%config SqlMagic.displaylimit = 50"
      ],
      "metadata": {
        "id": "8q73fy-7r50h"
      },
      "execution_count": null,
      "outputs": []
    },
    {
      "cell_type": "markdown",
      "source": [
        "### d) If you have a **\"database lock\"** problem"
      ],
      "metadata": {
        "id": "zEaWoSEh7gi5"
      }
    },
    {
      "cell_type": "markdown",
      "source": [
        "If you face a \"database locked\" issue:\n",
        "  1. **restart the session** (Runtime ==> Restart Session)\n",
        "  2. run this cell to get set back up!"
      ],
      "metadata": {
        "id": "mhYoe9Tu2x8j"
      }
    },
    {
      "cell_type": "code",
      "source": [
        "database = \"dla_tutorial\" # or whichever database you are working with!! (e.g., 'svitlana', 'reddit', etc)\n",
        "\n",
        "%reload_ext sql\n",
        "\n",
        "from sqlalchemy import create_engine\n",
        "tutorial_db_engine = create_engine(f\"sqlite:///sqlite_data/{database}.db?charset=utf8mb4\")\n",
        "dlatk_lexica_engine = create_engine(f\"sqlite:///sqlite_data/dlatk_lexica.db?charset=utf8mb4\")\n",
        "\n",
        "# set the output limit to 50\n",
        "%config SqlMagic.displaylimit = 50\n",
        "\n",
        "%sql tutorial_db_engine"
      ],
      "metadata": {
        "id": "fvWfMDXB7gEr"
      },
      "execution_count": null,
      "outputs": []
    },
    {
      "cell_type": "markdown",
      "source": [
        "### e) Extract 1grams & topic (if needed)"
      ],
      "metadata": {
        "id": "y0YJZKKH4t87"
      }
    },
    {
      "cell_type": "markdown",
      "source": [
        "For simplicity, we will use the 2,000 topics as features -- turns out that using the 2,000 topics as features has worked really well on different data sets from different sources and different levels of analysis (messages, people, counties). Using 10,000 1to3grams as predictive features can help marginally, but too little for us to care about at this level. The topics will give you 95% of the performance at considerably less complexity.\n",
        "\n"
      ],
      "metadata": {
        "id": "HYfdb1X4G45B"
      }
    },
    {
      "cell_type": "markdown",
      "metadata": {
        "id": "P68LuSsrx7-_"
      },
      "source": [
        "💡☝🏻 If you need to extract 1-gram features (i.e., `feat$1gram$msgs$user_id`) or get Facebook topic features (i.e., `feat$cat_fb2000_cp_w$msgs$user_id`), the code is below 🙂"
      ]
    },
    {
      "cell_type": "markdown",
      "source": [
        "For 1-gram extraction (you've done this one many times now!):"
      ],
      "metadata": {
        "id": "V8k1iy9ftROW"
      }
    },
    {
      "cell_type": "code",
      "execution_count": null,
      "metadata": {
        "id": "TnXIDzlDx7-_"
      },
      "outputs": [],
      "source": [
        "!dlatkInterface.py \\\n",
        "    --corpdb dla_tutorial \\\n",
        "    --corptable msgs \\\n",
        "    --correl_field user_id \\\n",
        "    --add_ngrams -n 1"
      ]
    },
    {
      "cell_type": "markdown",
      "source": [
        "For 2000 FB topics extraction:"
      ],
      "metadata": {
        "id": "xi7jguRttS7Z"
      }
    },
    {
      "cell_type": "code",
      "execution_count": null,
      "metadata": {
        "id": "LfCKJAwhx7_A"
      },
      "outputs": [],
      "source": [
        "!dlatkInterface.py \\\n",
        "    --corpdb dla_tutorial \\\n",
        "    --corptable msgs \\\n",
        "    --correl_field user_id \\\n",
        "    --add_lex_table -l fb2000_cp \\\n",
        "    --weighted_lexicon"
      ]
    },
    {
      "cell_type": "markdown",
      "metadata": {
        "id": "DLyvZVCnx7_A"
      },
      "source": [
        "## 2) Predicting a continuous variable (`age`) with ridge regression"
      ]
    },
    {
      "cell_type": "markdown",
      "metadata": {
        "id": "OgedAbkwx7_A"
      },
      "source": [
        "Below is the command to predict `age` through cross-validation with ridge regression. Note the machine learning commands which do the work here -- they replace `--correlate` command we have seen before.\n",
        "\n",
        "- `--nfold_test_regression` -  This activates the prediction of a continous variable - Regression, using cross-validation. The alternative is the prediction of a dichotomous variable - Classification, which we do later in the notebook.\n",
        "- `--model ridgecv` - Which machine learning model to use. Here we use ridge regression -- regression with a L2 (square) penalty on the coefficients themselves. The CV means it's picking the hyperparameter itself on the training data. Other options would be lasso regression, elastic net, logistic regression.\n",
        "- `--folds 10` - K-fold cross validation. this will split the data into 10 folds, and use 1 at a time as the test set, and the other 9 as the training set. trains a model on training set and predicts it on the test set, 10 times in total.  \n",
        "- `--csv` [Optional] Saves the results to a csv file, in the place specified by `--output_name.` If you leave this out, the final results will be printed to screen -- might be easier if you quickly want to iterate through different settings without always checking the file output.\n",
        "\n",
        "The output will show you the results for every one of the 10 folds at a time. So, it makes sense to redirect them to a file for later inspection."
      ]
    },
    {
      "cell_type": "code",
      "execution_count": null,
      "metadata": {
        "id": "trtIMAV9x7_A"
      },
      "outputs": [],
      "source": [
        "database = 'dla_tutorial'\n",
        "msgs_table = 'msgs'\n",
        "outcomes_table = 'outcomes'\n",
        "feat_topics_user = 'feat$cat_fb2000_cp_w$msgs$user_id$1gra'\n",
        "\n",
        "OUTPUT_FOLDER = './output_tutorial_14'\n",
        "OUTPUT_NAME = 'topics_age_ridgecv'\n",
        "\n",
        "!mkdir -p {OUTPUT_FOLDER}"
      ]
    },
    {
      "cell_type": "code",
      "execution_count": null,
      "metadata": {
        "id": "7XM3g_Awx7_B"
      },
      "outputs": [],
      "source": [
        "!dlatkInterface.py \\\n",
        "    --corpdb {database} \\\n",
        "    --corptable {msgs_table} \\\n",
        "    --correl_field user_id \\\n",
        "    --outcome_table {outcomes_table} \\\n",
        "    --outcomes age  \\\n",
        "    --group_freq_thresh 500 \\\n",
        "    --feat_table '{feat_topics_user}' \\\n",
        "    --nfold_test_regression --model ridgecv --folds 10 --csv \\\n",
        "    --output_name {OUTPUT_FOLDER}/{OUTPUT_NAME} > {OUTPUT_FOLDER}/{OUTPUT_NAME}_logs.txt"
      ]
    },
    {
      "cell_type": "markdown",
      "metadata": {
        "id": "ABpcFxcXx7_B"
      },
      "source": [
        "The above command wrote a csv  file to `./output_tutorial_14/topics_age_ridgecv.accuracy_data.csv`."
      ]
    },
    {
      "cell_type": "markdown",
      "source": [
        "**FYI**: This Python helper function will make it so that you can view the file in Colab! (Many DLATK CSV output files come with a first line with lots of (useful!) information but can't easily opened in Colab without some preprocessing.)"
      ],
      "metadata": {
        "id": "zOQKesH309q4"
      }
    },
    {
      "cell_type": "code",
      "source": [
        "import os\n",
        "\n",
        "def csv_format_helper(input_file_path):\n",
        "    with open(input_file_path, 'r') as f:\n",
        "        lines = f.readlines()[1:]\n",
        "\n",
        "    cleaned = []\n",
        "    for line in lines:\n",
        "        stripped = line.strip()\n",
        "        if stripped == 'SORTED:':\n",
        "            break\n",
        "        if stripped:\n",
        "            cleaned.append(line)\n",
        "\n",
        "    base, ext = os.path.splitext(input_file_path)\n",
        "    output_file = f\"{base}_cleaned{ext}\"\n",
        "\n",
        "    with open(output_file, 'w') as f:\n",
        "        f.writelines(cleaned)\n",
        "\n",
        "    return output_file"
      ],
      "metadata": {
        "id": "AbSX8yUy0wkV"
      },
      "execution_count": null,
      "outputs": []
    },
    {
      "cell_type": "code",
      "source": [
        "csv_format_helper('./output_tutorial_14/topics_age_ridgecv.accuracy_data.csv')"
      ],
      "metadata": {
        "colab": {
          "base_uri": "https://localhost:8080/",
          "height": 35
        },
        "id": "8bRpAf0l04Rm",
        "outputId": "7da76c86-e128-43cd-b550-918cd7ec6d64"
      },
      "execution_count": null,
      "outputs": [
        {
          "output_type": "execute_result",
          "data": {
            "text/plain": [
              "'./output_tutorial_14/topics_age_ridgecv.accuracy_data_cleaned.csv'"
            ],
            "application/vnd.google.colaboratory.intrinsic+json": {
              "type": "string"
            }
          },
          "metadata": {},
          "execution_count": 10
        }
      ]
    },
    {
      "cell_type": "markdown",
      "source": [
        "The function creates a new csv with the tag `_cleaned` added to the end of the file name!\n",
        "\n",
        "💡 Now, you can navigate to the file in the file tree and double click to open it in Colab. (Alternatively, you can download the file to your laptop and open with Excel or Google Sheets.)\n",
        "\n",
        "\n",
        "Let's go over the main results."
      ],
      "metadata": {
        "id": "TBeqUcOX59Ed"
      }
    },
    {
      "cell_type": "markdown",
      "metadata": {
        "id": "pvO7K_D-x7_B"
      },
      "source": [
        "\n",
        "\n",
        "In the output you see the performance for all of the 10 training/test fold splits and then at the end, you see the overall performance. They key\n",
        "things to look at in the output are  \n",
        "\n",
        "`Pearson r:            0.6238`  \n",
        "`Spearman rho:         0.6780`  \n",
        "`Train_Mean MAE:       4.7754`  \n",
        "\n",
        "The (small but not trivial) difference between Spearman and Pearson tells us that there are some outliers in the data; the MAE tells us that the model is 4.8 years off, on average. That's pretty good.\n",
        "\n",
        "For comparison, the correlation obtained with the EMNLP age dictionary in a previous tutorial/homework is 0.76, and doing it with 2,000 topics on a N ~ 65k Facebook dataset is 0.81 (see Eichstaedt et al., 2020)."
      ]
    },
    {
      "cell_type": "markdown",
      "metadata": {
        "id": "M10vGNmBx7_B"
      },
      "source": [
        "## 3) Predicting a dichotomous variable with classification (`gender`)\n",
        "\n",
        "Below is the command to predict `gender` through cross-validation with logistic regression.\n",
        "\n",
        "- `--nfold_test_classifiers` Similar to the regression command above, this activates the prediction of a categorical variable - Classification.\n",
        "- `--model lr` Which machine learning model to use. Here we use logistic regression to predict a categorical variable, gender.\n",
        "- `--folds 10` K-fold cross validation. this will split the data into 10 folds, and use 1 at a time as the test set, and the other 9 as the training set. trains a model on training set and predicts it on the test set, 10 times in total.  \n",
        "- `--csv` [Optional] Saves the results to a csv file, in the place specified by `--output_name.` If you leave this out, the final results will be printed to screen -- might be easier if you quickly want to iterate through different settings without always checking the file output."
      ]
    },
    {
      "cell_type": "code",
      "execution_count": null,
      "metadata": {
        "id": "9rib1KGlx7_B"
      },
      "outputs": [],
      "source": [
        "database = 'dla_tutorial'\n",
        "msgs_table = 'msgs'\n",
        "outcomes_table = 'outcomes'\n",
        "feat_topics_user = 'feat$cat_fb2000_cp_w$msgs$user_id$1gra'\n",
        "\n",
        "OUTPUT_FOLDER = './output_tutorial_14'\n",
        "OUTPUT_NAME = 'topics_gender_lr'\n",
        "\n",
        "!mkdir -p {OUTPUT_FOLDER}"
      ]
    },
    {
      "cell_type": "code",
      "execution_count": null,
      "metadata": {
        "id": "RinQji8Jx7_B"
      },
      "outputs": [],
      "source": [
        "!dlatkInterface.py \\\n",
        "    --corpdb {database} \\\n",
        "    --corptable {msgs_table} \\\n",
        "    --correl_field user_id \\\n",
        "    --outcome_table {outcomes_table} \\\n",
        "    --outcomes gender  \\\n",
        "    --group_freq_thresh 500 \\\n",
        "    --feat_table '{feat_topics_user}' \\\n",
        "    --nfold_test_classifiers --model lr --folds 10 --csv \\\n",
        "    --output_name {OUTPUT_FOLDER}/{OUTPUT_NAME} > {OUTPUT_FOLDER}/{OUTPUT_NAME}_logs.txt"
      ]
    },
    {
      "cell_type": "markdown",
      "metadata": {
        "id": "3PivOcI_x7_B"
      },
      "source": [
        "Like above, the command wrote a csv file to `./output_tutorial_14/topics_gender_lr.accuracy_data.csv`.\n",
        "\n",
        "Let's the Python function clean it and then take a peek at it in Colab."
      ]
    },
    {
      "cell_type": "code",
      "execution_count": null,
      "metadata": {
        "colab": {
          "base_uri": "https://localhost:8080/",
          "height": 35
        },
        "id": "CHRFnawcx7_B",
        "outputId": "e4297fa2-d08c-4ab1-8a28-663b53547ecf"
      },
      "outputs": [
        {
          "output_type": "execute_result",
          "data": {
            "text/plain": [
              "'./output_tutorial_14/topics_gender_lr.accuracy_data_cleaned.csv'"
            ],
            "application/vnd.google.colaboratory.intrinsic+json": {
              "type": "string"
            }
          },
          "metadata": {},
          "execution_count": 12
        }
      ],
      "source": [
        "csv_format_helper('./output_tutorial_14/topics_gender_lr.accuracy_data.csv')"
      ]
    },
    {
      "cell_type": "markdown",
      "metadata": {
        "id": "vQMSdzKcx7_C"
      },
      "source": [
        "Here are the main metrics.\n",
        "\n",
        "`acc:       0.747`  \n",
        "`precision: 0.748`  \n",
        "`recall:    0.747`  \n",
        "`f1:        0.747`\n",
        "\n",
        "For comparison, the accuracy obtained with the EMNLP gender dictionary is 0.866 for a threshold of -0.06, and doing it with 2,000 topics on a N ~ 65k Facebook dataset is 0.89."
      ]
    },
    {
      "cell_type": "markdown",
      "metadata": {
        "id": "qovudOZCx7_C"
      },
      "source": [
        "## 4) Using a feature selection pipeline\n",
        "\n",
        "We've already made a smart decision here by using the 2,000 topics rather than 10,000 1to3grams, but often we are in situations where the predictions get better if we do some feature dimensionality reduction upfront. As a general rule of thumb, we should try to get the number of features down to roughly the number of observations -- but good machine learning can also do that for you on the fly (particularly things like LASSO or elasticNet).\n",
        "\n",
        "Nevertheless, feature dimensionality reduction is often a good idea and rarely a bad one. We'll do this using PCA (Principal Component Analysis: basically factor analysis) by extracting the top X most predictive components, where X is chosen so that it's \"not too many.\"\n",
        "\n",
        "We've implemented it to be very simple in DLATK: just add `--feat_selection pca` to any prediction command."
      ]
    },
    {
      "cell_type": "code",
      "execution_count": null,
      "metadata": {
        "id": "UqQ9d1m2x7_C"
      },
      "outputs": [],
      "source": [
        "database = 'dla_tutorial'\n",
        "msgs_table = 'msgs'\n",
        "outcomes_table = 'outcomes'\n",
        "feat_topics_user = 'feat$cat_fb2000_cp_w$msgs$user_id$1gra'\n",
        "\n",
        "OUTPUT_FOLDER = './output_tutorial_14'\n",
        "OUTPUT_NAME = 'topics_age_ridgecv_ms'\n",
        "\n",
        "!mkdir -p {OUTPUT_FOLDER}"
      ]
    },
    {
      "cell_type": "code",
      "execution_count": null,
      "metadata": {
        "id": "KnMC4g3Yx7_C"
      },
      "outputs": [],
      "source": [
        "!dlatkInterface.py \\\n",
        "    --corpdb {database} \\\n",
        "    --corptable {msgs_table} \\\n",
        "    --correl_field user_id \\\n",
        "    --outcome_table {outcomes_table} \\\n",
        "    --outcomes age  \\\n",
        "    --group_freq_thresh 500 \\\n",
        "    --feat_table '{feat_topics_user}' \\\n",
        "    --feature_selection pca \\\n",
        "    --nfold_test_regression --model ridgecv --folds 10 --csv \\\n",
        "    --output_name {OUTPUT_FOLDER}/{OUTPUT_NAME} # > {OUTPUT_FOLDER}/{OUTPUT_NAME}_logs.txt (if you want to pipe away the output)"
      ]
    },
    {
      "cell_type": "markdown",
      "metadata": {
        "id": "FCJkWov6slkD"
      },
      "source": [
        "Like above, the command wrote a csv file to `./output_tutorial_14/topics_age_ridgecv_ms.accuracy_data.csv`.\n",
        "\n",
        "Let's the Python function clean it and then take a peek at it in Colab."
      ]
    },
    {
      "cell_type": "code",
      "execution_count": null,
      "metadata": {
        "colab": {
          "base_uri": "https://localhost:8080/",
          "height": 35
        },
        "outputId": "348988c4-3d5a-444b-d2a4-3dfe37d01252",
        "id": "tSiifv6FslkF"
      },
      "outputs": [
        {
          "output_type": "execute_result",
          "data": {
            "text/plain": [
              "'./output_tutorial_14/topics_age_ridgecv_ms.accuracy_data_cleaned.csv'"
            ],
            "application/vnd.google.colaboratory.intrinsic+json": {
              "type": "string"
            }
          },
          "metadata": {},
          "execution_count": 8
        }
      ],
      "source": [
        "csv_format_helper('./output_tutorial_14/topics_age_ridgecv_ms.accuracy_data.csv')"
      ]
    },
    {
      "cell_type": "markdown",
      "metadata": {
        "id": "9QIpuEJGx7_D"
      },
      "source": [
        "In the output in every fold, you see the step by step process feature reduction process yielding 587 PCA components (rather than 2,000 topics) as features\n",
        "    \n",
        "![Screenshot 2025-05-20 at 2.55.13 PM.png](data:image/png;base64,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)"
      ]
    },
    {
      "cell_type": "markdown",
      "metadata": {
        "id": "VnnMAoTCx7_D"
      },
      "source": [
        "The results you obtain a tiny amount better, because using the 2,000 topics with ridge regression also is a very solid choice.\n",
        "\n",
        "|            | before dim reduction | after dim reduction |\n",
        "|------------|----------------------|---------------------|\n",
        "|**Pearson** |0.6238                | 0.6252             |\n",
        "|**Spearman**|0.6780                | 0.6807              |\n",
        "\n",
        "We can add the feature selection pipeline to the gender classification as well."
      ]
    },
    {
      "cell_type": "code",
      "execution_count": null,
      "metadata": {
        "id": "3ynPB4Igx7_D"
      },
      "outputs": [],
      "source": [
        "database = 'dla_tutorial'\n",
        "msgs_table = 'msgs'\n",
        "outcomes_table = 'outcomes'\n",
        "feat_topics_user = 'feat$cat_fb2000_cp_w$msgs$user_id$1gra'\n",
        "\n",
        "OUTPUT_FOLDER = './output_tutorial_14'\n",
        "OUTPUT_NAME = 'topics_gender_lr_ms'\n",
        "\n",
        "!mkdir -p {OUTPUT_FOLDER}"
      ]
    },
    {
      "cell_type": "code",
      "execution_count": null,
      "metadata": {
        "id": "pe5pYAh5x7_D"
      },
      "outputs": [],
      "source": [
        "!dlatkInterface.py \\\n",
        "    --corpdb {database} \\\n",
        "    --corptable {msgs_table} \\\n",
        "    --correl_field user_id \\\n",
        "    --outcome_table {outcomes_table} \\\n",
        "    --outcomes gender  \\\n",
        "    --group_freq_thresh 500 \\\n",
        "    --feat_table '{feat_topics_user}' \\\n",
        "    --feature_selection pca \\\n",
        "    --nfold_test_classifiers --model lr --folds 10 --csv \\\n",
        "    --output_name {OUTPUT_FOLDER}/{OUTPUT_NAME} > {OUTPUT_FOLDER}/{OUTPUT_NAME}_logs.txt"
      ]
    },
    {
      "cell_type": "markdown",
      "metadata": {
        "id": "0DNEvNrnx7_D"
      },
      "source": [
        "The performance has reduced by tiny bit.\n",
        "\n",
        "|             | before dim reduction | after dim reduction |\n",
        "|-------------|----------------------|---------------------|\n",
        "|**acc**      | 0.747                | 0.731               |\n",
        "|**precision**| 0.748                | 0.731               |\n",
        "|**recall**   | 0.747                | 0.731               |\n",
        "|**f1**       | 0.747                | 0.731               |\n",
        "\n",
        "\n",
        "💡 Selecting the right features (such as topics) is often more important than many dimensionality reduction tricks, but the dimensionality reduction can really help when your sample is small (say a few hundred examples, where you'd also want to cross-validate to 5 folds)."
      ]
    },
    {
      "cell_type": "markdown",
      "metadata": {
        "id": "5ahitxIUx7_D"
      },
      "source": [
        "## 5) Considering case frequency and class balance in classification\n",
        "\n",
        "**Understanding class balance is really important.** If we are trying to do 0/1 classification, we need to consider class balance. For example, if 5% of the people have technology as their occupation, it means that 95% of the people are not working in technology. If we are trying to predict technology-or-not with machine learning, an algorithm that says not-technology all the time is correct 95% of the time. That is hard to beat. It is often impossible to improve on that baseline. That's also why reporting \"accuracy\" in that case is really misleading: such a trivial decision rule would be 95% accurate.\n",
        "\n",
        "Let's take a stab in the dark and try to predict occupations:\n",
        "(note we are using the `--categories_to_binary` flag here to make the binary prediction targets on the fly)"
      ]
    },
    {
      "cell_type": "code",
      "execution_count": null,
      "metadata": {
        "id": "y-7Cl7Cmx7_D"
      },
      "outputs": [],
      "source": [
        "database = 'dla_tutorial'\n",
        "msgs_table = 'msgs'\n",
        "outcomes_table = 'outcomes'\n",
        "feat_topics_user = 'feat$cat_fb2000_cp_w$msgs$user_id$1gra'\n",
        "\n",
        "OUTPUT_FOLDER = './output_tutorial_14'\n",
        "OUTPUT_NAME = 'topics_occu_lr'\n",
        "\n",
        "!mkdir -p {OUTPUT_FOLDER}"
      ]
    },
    {
      "cell_type": "code",
      "execution_count": null,
      "metadata": {
        "id": "lTjkZYzRx7_D"
      },
      "outputs": [],
      "source": [
        "!dlatkInterface.py \\\n",
        "    --corpdb {database} \\\n",
        "    --corptable {msgs_table} \\\n",
        "    --correl_field user_id \\\n",
        "    --outcome_table {outcomes_table} \\\n",
        "    --outcomes occu  \\\n",
        "    --categories_to_binary occu \\\n",
        "    --group_freq_thresh 500 \\\n",
        "    --feat_table '{feat_topics_user}' \\\n",
        "    --nfold_test_classifiers --model lr --folds 10 --csv \\\n",
        "    --output_name {OUTPUT_FOLDER}/{OUTPUT_NAME} > {OUTPUT_FOLDER}/{OUTPUT_NAME}_logs.txt"
      ]
    },
    {
      "cell_type": "markdown",
      "metadata": {
        "id": "oHND1pJyx7_D"
      },
      "source": [
        "🚨❓ That didn't work!! Do you have a sense why not? -- some of these professions are very rare in our dataset. When we are trying to split 2 accountants across 10 folds, we don't get a sufficient number of accounts in a given testing fold for any machine learning to make sense.\n",
        "\n",
        "So let's back up, and start by looking at the frequency of the occupations:"
      ]
    },
    {
      "cell_type": "code",
      "execution_count": null,
      "metadata": {
        "id": "I8WAFT74x7_D"
      },
      "outputs": [],
      "source": [
        "outcomes_table = 'outcomes'"
      ]
    },
    {
      "cell_type": "code",
      "execution_count": null,
      "metadata": {
        "id": "jVIg034Vx7_D"
      },
      "outputs": [],
      "source": [
        "%%sql\n",
        "\n",
        "SELECT COUNT(*), occu\n",
        "FROM {{outcomes_table}}\n",
        "GROUP BY occu;"
      ]
    },
    {
      "cell_type": "markdown",
      "metadata": {
        "id": "_4Ot8bV_x7_I"
      },
      "source": [
        "Most of them are very infrequent. Let's just try to predict if somebody is a `Student` (N = 275) out of the 1,000. We can make an `is_student` dummy column in the outcome table to help us here."
      ]
    },
    {
      "cell_type": "code",
      "source": [
        "%%sql\n",
        "\n",
        "ALTER TABLE {{outcomes_table}} DROP COLUMN is_student;\n",
        "ALTER TABLE {{outcomes_table}} ADD COLUMN is_student INTEGER;\n",
        "\n",
        "UPDATE {{outcomes_table}}\n",
        "SET is_student =\n",
        "    CASE\n",
        "        WHEN is_indunk = 1 THEN NULL\n",
        "        WHEN occu LIKE 'student' THEN 1\n",
        "        ELSE 0\n",
        "    END;"
      ],
      "metadata": {
        "colab": {
          "base_uri": "https://localhost:8080/",
          "height": 52
        },
        "id": "Up3_MWPE_56M",
        "outputId": "5013fd7e-e40a-40d2-90f3-3b2f80f7a0de"
      },
      "execution_count": null,
      "outputs": [
        {
          "output_type": "display_data",
          "data": {
            "text/plain": [
              "Running query in 'sqlite:///sqlite_data/dla_tutorial.db?charset=utf8mb4'"
            ],
            "text/html": [
              "<span style=\"None\">Running query in &#x27;sqlite:///sqlite_data/dla_tutorial.db?charset=utf8mb4&#x27;</span>"
            ]
          },
          "metadata": {}
        },
        {
          "output_type": "display_data",
          "data": {
            "text/plain": [
              "1000 rows affected."
            ],
            "text/html": [
              "<span style=\"color: green\">1000 rows affected.</span>"
            ]
          },
          "metadata": {}
        },
        {
          "output_type": "execute_result",
          "data": {
            "text/plain": [
              "++\n",
              "||\n",
              "++\n",
              "++"
            ],
            "text/html": [
              "<table>\n",
              "    <thead>\n",
              "        <tr>\n",
              "        </tr>\n",
              "    </thead>\n",
              "    <tbody>\n",
              "    </tbody>\n",
              "</table>"
            ]
          },
          "metadata": {},
          "execution_count": 88
        }
      ]
    },
    {
      "cell_type": "markdown",
      "metadata": {
        "id": "IFhfpVdkx7_I"
      },
      "source": [
        "So let's just try to predict is_student or not. Let's further modify our DLATK classification command by:\n",
        "* adding `--stratify_folds` to the command, which ensures that the same number of students (`is_student` = 1) are in the folds, rather than randomly drawing say 100 users into 10 folds and hoping that we have an adequate number of technology people in there.\n",
        "* lowering the number of folds to 5"
      ]
    },
    {
      "cell_type": "code",
      "execution_count": null,
      "metadata": {
        "id": "zSdYkJ1xx7_I"
      },
      "outputs": [],
      "source": [
        "database = 'dla_tutorial'\n",
        "msgs_table = 'msgs'\n",
        "outcomes_table = 'outcomes'\n",
        "feat_topics_user = 'feat$cat_fb2000_cp_w$msgs$user_id$1gra'\n",
        "\n",
        "OUTPUT_FOLDER = './output_tutorial_14'\n",
        "OUTPUT_NAME = 'topics_occu_lr'\n",
        "\n",
        "!mkdir -p {OUTPUT_FOLDER}"
      ]
    },
    {
      "cell_type": "code",
      "execution_count": null,
      "metadata": {
        "id": "_a9anbVXx7_I"
      },
      "outputs": [],
      "source": [
        "!dlatkInterface.py \\\n",
        "    --corpdb {database} \\\n",
        "    --corptable {msgs_table} \\\n",
        "    --correl_field user_id \\\n",
        "    --outcome_table {outcomes_table} \\\n",
        "    --outcomes is_student  \\\n",
        "    --group_freq_thresh 500 \\\n",
        "    --feat_table '{feat_topics_user}' \\\n",
        "    --nfold_test_classifiers --model lr --stratify_folds --folds 5 --csv \\\n",
        "    --output_name {OUTPUT_FOLDER}/{OUTPUT_NAME}"
      ]
    },
    {
      "cell_type": "code",
      "source": [
        "# if you want to check out the output file in Colab!\n",
        "csv_format_helper('./output_tutorial_14/topics_occu_lr.accuracy_data.csv')"
      ],
      "metadata": {
        "id": "lXWkaJsh4nuU"
      },
      "execution_count": null,
      "outputs": []
    },
    {
      "cell_type": "markdown",
      "metadata": {
        "id": "L9LN_La9x7_I"
      },
      "source": [
        "So this ran through without a hitch, note the final accuracy: .716.\n",
        "\n",
        "**The AUC value is independent of class balance / MFC accuracy, and often the better metric to compare between tasks.** Rule of thumb for interpretations of AUC in letter grades:\n",
        "* .9+ A\n",
        "* .8+ B\n",
        "* .7+ C <== .7 is often considered \"minimal diagnosticity\" in medical contexts\n",
        "* .6+ C--\n",
        "* .5 <== chance\n",
        "\n",
        "For comparison, all AUCs associated with trying to predict depression from social media hover around AUC = .70. So an AUC of .75 suggests that some language prediction was possible. Also note the `'folds_se_auc': 0.02`, which gives us the standard error of AUCs across the folds. So roughly, a 95% CI would be given by AUC = .75 [.73, .77]."
      ]
    },
    {
      "cell_type": "markdown",
      "metadata": {
        "id": "Kx7R6ZPHx7_I"
      },
      "source": [
        "### 5.1) Balancing classes\n",
        "\n",
        "What people end up doing frequently in these imbalanced cases is to create a synthetic dataset, where you balance your sample: take 50% technology say, and balance them with 50% non-technology. Now try to run the classification again.\n",
        "\n",
        "We will do a version of this: We will shortlist the outcome table to only users who are either `Technology` or `indUnk`, that is, have unknown occupations.\n",
        "\n",
        "💡🤓 We can cleverly do this by giving DLATK a SQL `WHERE` clause that it applies to the outcome table before it runs everything. We do this with a `--where` flag: `'--where \"occu LIKE 'Technology' or occu LIKE 'indUnk'\"`.\n",
        "\n",
        "In this application, we can stick with the `--categories_to_binary` switch to generate the binary technology or indUnk outcomes."
      ]
    },
    {
      "cell_type": "code",
      "execution_count": null,
      "metadata": {
        "id": "pwJCuCO3x7_I"
      },
      "outputs": [],
      "source": [
        "database = 'dla_tutorial'\n",
        "msgs_table = 'msgs'\n",
        "outcomes_table = 'outcomes'\n",
        "feat_topics_user = 'feat$cat_fb2000_cp_w$msgs$user_id$1gra'\n",
        "\n",
        "OUTPUT_FOLDER = './output_tutorial_14'\n",
        "OUTPUT_NAME = 'topics_occu_lr'\n",
        "\n",
        "!mkdir -p {OUTPUT_FOLDER}"
      ]
    },
    {
      "cell_type": "code",
      "execution_count": null,
      "metadata": {
        "id": "8Vz9y8VNx7_I"
      },
      "outputs": [],
      "source": [
        "!dlatkInterface.py \\\n",
        "    --corpdb {database} \\\n",
        "    --corptable {msgs_table} \\\n",
        "    --correl_field user_id \\\n",
        "    --outcome_table {outcomes_table} \\\n",
        "    --group_freq_thresh 500 \\\n",
        "    --feat_table '{feat_topics_user}' \\\n",
        "    --nfold_test_classifiers --model lr --csv --folds 10 \\\n",
        "    --where \"occu LIKE 'Technology' or occu LIKE 'indUnk'\" \\\n",
        "    --outcomes occu \\\n",
        "    --categories_to_binary occu \\\n",
        "    --output_name {OUTPUT_FOLDER}/{OUTPUT_NAME}"
      ]
    },
    {
      "cell_type": "markdown",
      "metadata": {
        "id": "_quXtl8Cx7_I"
      },
      "source": [
        "The first thing is to note in the output that we were now using 400 users (`number of groups: 400 (10 Folds)`. Technology vs. industry-Unknown split 13% to 87% (as you can tell from `(mfc_acc: 0.870)` -- so that's very unbalanced. But the accuracy is competetive to the most frequent class accuracy (.863 vs .870), for a good AUC of 0.753."
      ]
    },
    {
      "cell_type": "markdown",
      "metadata": {
        "id": "5N20peMhx7_I"
      },
      "source": [
        "## 6) There is just no language signal\n",
        "\n",
        "Finally, predictions will also not work if there is simply no language signal for the outcome of interest -- say for astrology. You will see that predicting star signs works terribly, for that reason:\n",
        "\n",
        "Let's run it with 5 folds so it runs a little quicker:"
      ]
    },
    {
      "cell_type": "code",
      "execution_count": null,
      "metadata": {
        "id": "ofv1od4zx7_I"
      },
      "outputs": [],
      "source": [
        "database = 'dla_tutorial'\n",
        "msgs_table = 'msgs'\n",
        "outcomes_table = 'outcomes'\n",
        "feat_topics_user = 'feat$cat_fb2000_cp_w$msgs$user_id$1gra'\n",
        "\n",
        "OUTPUT_FOLDER = './output_tutorial_14'\n",
        "OUTPUT_NAME = 'topics_sign_lr'\n",
        "\n",
        "!mkdir -p {OUTPUT_FOLDER}\n",
        "!rm -rf {OUTPUT_FOLDER}/{OUTPUT_NAME}*"
      ]
    },
    {
      "cell_type": "code",
      "execution_count": null,
      "metadata": {
        "id": "narukzE4x7_I"
      },
      "outputs": [],
      "source": [
        "!dlatkInterface.py \\\n",
        "    --corpdb {database} \\\n",
        "    --corptable {msgs_table} \\\n",
        "    --correl_field user_id \\\n",
        "    --outcome_table {outcomes_table} \\\n",
        "    --outcomes sign \\\n",
        "    --categories_to_binary sign \\\n",
        "    --group_freq_thresh 500 \\\n",
        "    --feat_table '{feat_topics_user}' \\\n",
        "    --nfold_test_classifiers --model lr --folds 5 --csv \\\n",
        "    --output_name {OUTPUT_FOLDER}/{OUTPUT_NAME}"
      ]
    },
    {
      "cell_type": "markdown",
      "metadata": {
        "id": "WTh2eacRx7_I"
      },
      "source": [
        "At the bottom of the output,\n",
        "\n",
        "* all accuracies hover around / are slightly lower than the MFC accuracies (not suprising the imbalance for predicting say taurus-vs-notTaurus), but\n",
        "* now the AUCs are also near .50 -- what we would expect by chance. Negative AUCs means that it predicted worse than chance.\n",
        "\n",
        "In other words, it doesn't seem like there is star sign variance in language that we could exploit to predict it. As you may remember, differential language analyses pointed to a similar conclusion. The one exception might be Pisces and Leos: these star signs notoriously like to talk about being... Pisces and Leos. But you may investigate in future work. (Particularly if you are  Pisces or a Leo 😜)."
      ]
    },
    {
      "cell_type": "markdown",
      "metadata": {
        "id": "3s85ZYCMx7_J"
      },
      "source": [
        "## 8) Beyond ridge regression and logistic regression\n",
        "\n",
        "Of course, there are other machine learning algorithms you could run, rather than `--model ridgecv` or `--model lr`.  \n",
        "For example, a completely different approch is \"decision trees\", which, when we put a lot of them together to make the prediction more robust, we call \"random trees\" or \"random forests.\"  Please check out [this excellent visualization](http://www.r2d3.us/visual-intro-to-machine-learning-part-1/) to give you an intuition.\n",
        "\n",
        "Here are other switches in DLATK you can play around with for different prediction methods.\n",
        "\n",
        "**Regression (continuous variable)**  \n",
        "(listed in order to what usually works best)\n",
        "* Ridge with feature reduction secret sauce (`--model \"ridgecv\" --feature_select \"magic sauce\"`)\n",
        "* LASSO L1 regression `--model \"lassocv\"` (with no separate feature selection) -- will set the least informative feature coefficietns to 0\n",
        "* ElasticNet regression `--model elasticnetcv` -- combines LASSO logic with ridge penalty\n",
        "\n",
        "**Classification (dichotomous variable)**\n",
        "* L1 linear-svm (`--model \"linear-svc\"`)\n",
        "* L1 logistic regression (`--model \"lr\"`)\n",
        "* Extremely randomized trees (`--model \"etc\"`)\n",
        "\n",
        "You now know the basics of using text-based machine learning for regression and classfication.  \n",
        "A good day indeed   ¯\\\\\\_(ツ)\\_/¯"
      ]
    },
    {
      "cell_type": "markdown",
      "metadata": {
        "id": "9eEl9W8Px7_J"
      },
      "source": [
        "## 9) Message-level classification of the emotion label\n",
        "\n",
        "In this section, we familiarize ourselves with the DLATK commands for Machine Learning using the `svitlana` dataset. Here we will use language features of a message to classify if the emotion expressed is `anger` or not.\n",
        "\n",
        "But before that let's get the `svitlana.db` database file from Google Drive and set up the %sql connection :-)"
      ]
    },
    {
      "cell_type": "code",
      "execution_count": null,
      "metadata": {
        "id": "YJjJSuGTx7_J"
      },
      "outputs": [],
      "source": [
        "database = 'svitlana'"
      ]
    },
    {
      "cell_type": "code",
      "source": [
        "# Mount Google Drive & copy to Colab\n",
        "\n",
        "# connects & mounts your Google Drive to this colab space\n",
        "from google.colab import drive\n",
        "drive.mount('/content/drive', force_remount=True)\n",
        "\n",
        "# this copies {database}.db from your Google Drive to Colab\n",
        "!cp -f \"/content/drive/MyDrive/sqlite_databases/{database}.db\" \"sqlite_data\""
      ],
      "metadata": {
        "colab": {
          "base_uri": "https://localhost:8080/"
        },
        "id": "IRFEMH3f95tH",
        "outputId": "5c67bbdf-2372-4f40-e39d-be54d90c596a"
      },
      "execution_count": null,
      "outputs": [
        {
          "output_type": "stream",
          "name": "stdout",
          "text": [
            "Mounted at /content/drive\n"
          ]
        }
      ]
    },
    {
      "cell_type": "markdown",
      "source": [
        "Now to reload the %sql connection and connect a new `svitlana` database engine!"
      ],
      "metadata": {
        "id": "NcAGEsjRBpx8"
      }
    },
    {
      "cell_type": "code",
      "source": [
        "%reload_ext sql\n",
        "\n",
        "svitlana_engine = create_engine(f\"sqlite:///sqlite_data/{database}.db?charset=utf8mb4\")"
      ],
      "metadata": {
        "id": "C8Mvb708-WRC"
      },
      "execution_count": null,
      "outputs": []
    },
    {
      "cell_type": "code",
      "execution_count": null,
      "metadata": {
        "id": "Sp2d0vmRx7_J"
      },
      "outputs": [],
      "source": [
        "# activate to svitlana engine!\n",
        "%sql svitlana_engine\n",
        "\n",
        "# set the output limit to 50\n",
        "%config SqlMagic.displaylimit = 50"
      ]
    },
    {
      "cell_type": "markdown",
      "metadata": {
        "id": "2pi2LjUrx7_J"
      },
      "source": [
        "Now that we have the dataset, we will create a binary outcome `isAnger` that is set to `1` if a message has expressed anger, and `0` otherwise. Before we do that let's also check the proportion of every emotion in the dataset."
      ]
    },
    {
      "cell_type": "code",
      "execution_count": null,
      "metadata": {
        "id": "NkY9-QdRx7_J",
        "colab": {
          "base_uri": "https://localhost:8080/",
          "height": 186
        },
        "outputId": "5e43002e-73b1-4e15-e1d9-42fe627fad2e"
      },
      "outputs": [
        {
          "output_type": "display_data",
          "data": {
            "text/plain": [
              "Running query in 'sqlite:///sqlite_data/svitlana.db?charset=utf8mb4'"
            ],
            "text/html": [
              "<span style=\"None\">Running query in &#x27;sqlite:///sqlite_data/svitlana.db?charset=utf8mb4&#x27;</span>"
            ]
          },
          "metadata": {}
        },
        {
          "output_type": "execute_result",
          "data": {
            "text/plain": [
              "+----------+------+---------------------+\n",
              "| emotion  | freq |       rel_freq      |\n",
              "+----------+------+---------------------+\n",
              "| disgust  | 9967 |  0.3445688999516006 |\n",
              "|   joy    | 5449 |  0.1883772384705801 |\n",
              "|   fear   | 4879 | 0.16867178317084974 |\n",
              "| surprise | 4676 | 0.16165387540620896 |\n",
              "|  anger   | 2168 | 0.07494987208739542 |\n",
              "| sadness  | 1787 | 0.06177833091336514 |\n",
              "+----------+------+---------------------+"
            ],
            "text/html": [
              "<table>\n",
              "    <thead>\n",
              "        <tr>\n",
              "            <th>emotion</th>\n",
              "            <th>freq</th>\n",
              "            <th>rel_freq</th>\n",
              "        </tr>\n",
              "    </thead>\n",
              "    <tbody>\n",
              "        <tr>\n",
              "            <td>disgust</td>\n",
              "            <td>9967</td>\n",
              "            <td>0.3445688999516006</td>\n",
              "        </tr>\n",
              "        <tr>\n",
              "            <td>joy</td>\n",
              "            <td>5449</td>\n",
              "            <td>0.1883772384705801</td>\n",
              "        </tr>\n",
              "        <tr>\n",
              "            <td>fear</td>\n",
              "            <td>4879</td>\n",
              "            <td>0.16867178317084974</td>\n",
              "        </tr>\n",
              "        <tr>\n",
              "            <td>surprise</td>\n",
              "            <td>4676</td>\n",
              "            <td>0.16165387540620896</td>\n",
              "        </tr>\n",
              "        <tr>\n",
              "            <td>anger</td>\n",
              "            <td>2168</td>\n",
              "            <td>0.07494987208739542</td>\n",
              "        </tr>\n",
              "        <tr>\n",
              "            <td>sadness</td>\n",
              "            <td>1787</td>\n",
              "            <td>0.06177833091336514</td>\n",
              "        </tr>\n",
              "    </tbody>\n",
              "</table>"
            ]
          },
          "metadata": {},
          "execution_count": 110
        }
      ],
      "source": [
        "%%sql\n",
        "\n",
        "SELECT emotion, COUNT(*) AS freq, (COUNT(*) *1.0 / (SELECT COUNT(*) *1.0 FROM svitlana_outcomes)) AS rel_freq\n",
        "FROM svitlana_outcomes\n",
        "GROUP BY emotion\n",
        "ORDER BY freq DESC;"
      ]
    },
    {
      "cell_type": "markdown",
      "metadata": {
        "id": "cJzn65Msx7_J"
      },
      "source": [
        "So, we see that `anger` is only `7.5%` of the dataset. When we binarize the message outcome as mentioned above, only `7.5%` will be `1`s and the rest `0`s. There's clear class imbalance here that the model needs to take care of.\n",
        "\n",
        "However, let's create the binary outcome before we continue."
      ]
    },
    {
      "cell_type": "code",
      "execution_count": null,
      "metadata": {
        "id": "nYZrKMfGx7_J"
      },
      "outputs": [],
      "source": [
        "outcomes_table = 'svitlana_outcomes'"
      ]
    },
    {
      "cell_type": "code",
      "execution_count": null,
      "metadata": {
        "id": "PiKJlQnvx7_J",
        "colab": {
          "base_uri": "https://localhost:8080/",
          "height": 52
        },
        "outputId": "10ddf7ac-180e-44a8-ea47-5d26745eb7d8"
      },
      "outputs": [
        {
          "output_type": "display_data",
          "data": {
            "text/plain": [
              "Running query in 'sqlite:///sqlite_data/svitlana.db?charset=utf8mb4'"
            ],
            "text/html": [
              "<span style=\"None\">Running query in &#x27;sqlite:///sqlite_data/svitlana.db?charset=utf8mb4&#x27;</span>"
            ]
          },
          "metadata": {}
        },
        {
          "output_type": "display_data",
          "data": {
            "text/plain": [
              "2168 rows affected."
            ],
            "text/html": [
              "<span style=\"color: green\">2168 rows affected.</span>"
            ]
          },
          "metadata": {}
        },
        {
          "output_type": "execute_result",
          "data": {
            "text/plain": [
              "++\n",
              "||\n",
              "++\n",
              "++"
            ],
            "text/html": [
              "<table>\n",
              "    <thead>\n",
              "        <tr>\n",
              "        </tr>\n",
              "    </thead>\n",
              "    <tbody>\n",
              "    </tbody>\n",
              "</table>"
            ]
          },
          "metadata": {},
          "execution_count": 112
        }
      ],
      "source": [
        "%%sql\n",
        "\n",
        "ALTER TABLE {{outcomes_table}} ADD COLUMN isAnger INT DEFAULT 0;\n",
        "UPDATE {{outcomes_table}} SET isAnger=1 WHERE emotion = 'anger';"
      ]
    },
    {
      "cell_type": "code",
      "execution_count": null,
      "metadata": {
        "id": "jjSCwwUVx7_J",
        "colab": {
          "base_uri": "https://localhost:8080/",
          "height": 271
        },
        "outputId": "268b989d-5943-4fca-d5a3-3e3370054be6"
      },
      "outputs": [
        {
          "output_type": "display_data",
          "data": {
            "text/plain": [
              "Running query in 'sqlite:///sqlite_data/svitlana.db?charset=utf8mb4'"
            ],
            "text/html": [
              "<span style=\"None\">Running query in &#x27;sqlite:///sqlite_data/svitlana.db?charset=utf8mb4&#x27;</span>"
            ]
          },
          "metadata": {}
        },
        {
          "output_type": "execute_result",
          "data": {
            "text/plain": [
              "+------------+----------+---------+\n",
              "| message_id | emotion  | isAnger |\n",
              "+------------+----------+---------+\n",
              "|   21616    | disgust  |    0    |\n",
              "|   28425    |  anger   |    1    |\n",
              "|   12447    |   fear   |    0    |\n",
              "|    2396    |   joy    |    0    |\n",
              "|    7936    | surprise |    0    |\n",
              "|   28744    |  anger   |    1    |\n",
              "|   15823    |   fear   |    0    |\n",
              "|   12703    |   fear   |    0    |\n",
              "|   21278    | disgust  |    0    |\n",
              "|    2162    |   joy    |    0    |\n",
              "+------------+----------+---------+"
            ],
            "text/html": [
              "<table>\n",
              "    <thead>\n",
              "        <tr>\n",
              "            <th>message_id</th>\n",
              "            <th>emotion</th>\n",
              "            <th>isAnger</th>\n",
              "        </tr>\n",
              "    </thead>\n",
              "    <tbody>\n",
              "        <tr>\n",
              "            <td>21616</td>\n",
              "            <td>disgust</td>\n",
              "            <td>0</td>\n",
              "        </tr>\n",
              "        <tr>\n",
              "            <td>28425</td>\n",
              "            <td>anger</td>\n",
              "            <td>1</td>\n",
              "        </tr>\n",
              "        <tr>\n",
              "            <td>12447</td>\n",
              "            <td>fear</td>\n",
              "            <td>0</td>\n",
              "        </tr>\n",
              "        <tr>\n",
              "            <td>2396</td>\n",
              "            <td>joy</td>\n",
              "            <td>0</td>\n",
              "        </tr>\n",
              "        <tr>\n",
              "            <td>7936</td>\n",
              "            <td>surprise</td>\n",
              "            <td>0</td>\n",
              "        </tr>\n",
              "        <tr>\n",
              "            <td>28744</td>\n",
              "            <td>anger</td>\n",
              "            <td>1</td>\n",
              "        </tr>\n",
              "        <tr>\n",
              "            <td>15823</td>\n",
              "            <td>fear</td>\n",
              "            <td>0</td>\n",
              "        </tr>\n",
              "        <tr>\n",
              "            <td>12703</td>\n",
              "            <td>fear</td>\n",
              "            <td>0</td>\n",
              "        </tr>\n",
              "        <tr>\n",
              "            <td>21278</td>\n",
              "            <td>disgust</td>\n",
              "            <td>0</td>\n",
              "        </tr>\n",
              "        <tr>\n",
              "            <td>2162</td>\n",
              "            <td>joy</td>\n",
              "            <td>0</td>\n",
              "        </tr>\n",
              "    </tbody>\n",
              "</table>"
            ]
          },
          "metadata": {},
          "execution_count": 115
        }
      ],
      "source": [
        "%%sql\n",
        "\n",
        "SELECT *\n",
        "FROM {{outcomes_table}}\n",
        "ORDER BY RANDOM()\n",
        "LIMIT 10;"
      ]
    },
    {
      "cell_type": "markdown",
      "metadata": {
        "id": "ImvfgwVvx7_J"
      },
      "source": [
        "Now the outcome table is prepare, let's extract message level 1grams."
      ]
    },
    {
      "cell_type": "code",
      "source": [
        "database='svitlana'\n",
        "msgs_table='svitlana_msgs'"
      ],
      "metadata": {
        "id": "Cxdhm5r3COlL"
      },
      "execution_count": null,
      "outputs": []
    },
    {
      "cell_type": "code",
      "execution_count": null,
      "metadata": {
        "id": "uMeamE5Tx7_J"
      },
      "outputs": [],
      "source": [
        "!dlatkInterface.py \\\n",
        "    --corpdb {database} \\\n",
        "    --corptable {msgs_table} \\\n",
        "    --correl_field message_id \\\n",
        "    --group_freq_thresh 0 \\\n",
        "    --add_ngrams -n 1"
      ]
    },
    {
      "cell_type": "markdown",
      "metadata": {
        "id": "WDAWLVxIx7_J"
      },
      "source": [
        "And also extract the topic features from the FB 500 topics lexica."
      ]
    },
    {
      "cell_type": "code",
      "execution_count": null,
      "metadata": {
        "id": "KyQWUIo4x7_K"
      },
      "outputs": [],
      "source": [
        "database =  'svitlana'\n",
        "lexicondb = 'dlatk_lexica'\n",
        "msgs_table = 'svitlana_msgs'\n",
        "topics_cp_table = 'fb22_all_500t_cp'"
      ]
    },
    {
      "cell_type": "code",
      "execution_count": null,
      "metadata": {
        "id": "F4uLkcbNx7_K"
      },
      "outputs": [],
      "source": [
        "!dlatkInterface.py \\\n",
        "    --corpdb {database} \\\n",
        "    --corptable {msgs_table} \\\n",
        "    --lexicondb {lexicondb} \\\n",
        "    --correl_field message_id \\\n",
        "    --group_freq_thresh 0 \\\n",
        "    --add_lex_table -l {topics_cp_table} \\\n",
        "    --weighted_lexicon"
      ]
    },
    {
      "cell_type": "markdown",
      "metadata": {
        "id": "udG0HsRkx7_K"
      },
      "source": [
        "Finally we run 10 fold cross validated logistic regression classifier against `isAnger` using these topic features. Remember to set the `--group_freq_thresh` to `0` because we need to classify every message."
      ]
    },
    {
      "cell_type": "code",
      "execution_count": null,
      "metadata": {
        "id": "7K-GwFvox7_K"
      },
      "outputs": [],
      "source": [
        "database =  'svitlana'\n",
        "lexicondb = 'dlatk_lexica'\n",
        "msgs_table = 'svitlana_msgs'\n",
        "outcomes_table = 'svitlana_outcomes'\n",
        "\n",
        "feat_topics_table = 'feat$cat_fb22_all_500t_cp_w$svitlana_msgs$message_id$1gra'\n",
        "\n",
        "OUTPUT_FOLDER = './output_tutorial_14'\n",
        "OUTPUT_NAME = 'topics_anger_lr'\n",
        "\n",
        "!mkdir -p {OUTPUT_FOLDER}"
      ]
    },
    {
      "cell_type": "code",
      "execution_count": null,
      "metadata": {
        "id": "_tY0xPJ4x7_K"
      },
      "outputs": [],
      "source": [
        "!dlatkInterface.py \\\n",
        "    --corpdb {database} \\\n",
        "    --corptable {msgs_table} \\\n",
        "    --lexicondb {lexicondb} \\\n",
        "    --correl_field message_id \\\n",
        "    --outcome_table {outcomes_table} \\\n",
        "    --outcomes isAnger \\\n",
        "    --group_freq_thresh 0 \\\n",
        "    --feat_table '{feat_topics_table}' \\\n",
        "    --nfold_test_classifiers --model lr --folds 10 --csv \\\n",
        "    --output_name {OUTPUT_FOLDER}/{OUTPUT_NAME}"
      ]
    },
    {
      "cell_type": "markdown",
      "metadata": {
        "id": "YxFvGYYXx7_K"
      },
      "source": [
        "With the class imbalance, how well did we do?\n",
        "\n",
        "Though the accuracy is `0.954` we know enough to say that it's not the right measure to validate the model. However, the AUC is `0.94`, which is really good (A). So, we'll pat on our backs saying we did a good job 😬."
      ]
    },
    {
      "cell_type": "markdown",
      "source": [
        "## ‼️ **Save your database and/or output files** ‼️"
      ],
      "metadata": {
        "id": "bS4qTq9zJdUS"
      }
    },
    {
      "cell_type": "markdown",
      "source": [
        "Let's save this new database into as a database file in your GDrive `sqlite_databases` folder!"
      ],
      "metadata": {
        "id": "qGExUsbZThmO"
      }
    },
    {
      "cell_type": "markdown",
      "source": [
        "First **`dla_tutorial`**!"
      ],
      "metadata": {
        "id": "Usl4N9KB6e39"
      }
    },
    {
      "cell_type": "code",
      "source": [
        "database = 'dla_tutorial'"
      ],
      "metadata": {
        "id": "F7RlPan-KkYX"
      },
      "execution_count": null,
      "outputs": []
    },
    {
      "cell_type": "code",
      "source": [
        "# mount Google Drive\n",
        "from google.colab import drive\n",
        "drive.mount('/content/drive', force_remount=True)\n",
        "\n",
        "# copy the database file to your Drive\n",
        "!cp -f \"sqlite_data/{database}.db\" \"/content/drive/MyDrive/sqlite_databases/\"\n",
        "\n",
        "print(f\"✅ Database '{database}.db' has been copied to your Google Drive.\")"
      ],
      "metadata": {
        "id": "Ls5d7ZXwJzxV"
      },
      "execution_count": null,
      "outputs": []
    },
    {
      "cell_type": "markdown",
      "source": [
        "Second **`svitlana`**."
      ],
      "metadata": {
        "id": "-sx-4yKX6gOb"
      }
    },
    {
      "cell_type": "code",
      "source": [
        "database = 'svitlana'"
      ],
      "metadata": {
        "id": "GRHbeF8G6sIx"
      },
      "execution_count": null,
      "outputs": []
    },
    {
      "cell_type": "code",
      "source": [
        "# mount Google Drive\n",
        "from google.colab import drive\n",
        "drive.mount('/content/drive', force_remount=True)\n",
        "\n",
        "# copy the database file to your Drive\n",
        "!cp -f \"sqlite_data/{database}.db\" \"/content/drive/MyDrive/sqlite_databases/\"\n",
        "\n",
        "print(f\"✅ Database '{database}.db' has been copied to your Google Drive.\")"
      ],
      "metadata": {
        "id": "IZN4_4uy6sIy",
        "colab": {
          "base_uri": "https://localhost:8080/"
        },
        "outputId": "0ffcebc3-b41b-4275-cde6-82bcca42fb3e"
      },
      "execution_count": null,
      "outputs": [
        {
          "output_type": "stream",
          "name": "stdout",
          "text": [
            "Mounted at /content/drive\n",
            "✅ Database 'svitlana.db' has been copied to your Google Drive.\n"
          ]
        }
      ]
    },
    {
      "cell_type": "markdown",
      "source": [
        "Now let's save the output in this tutorial! Here's how you can save it to your Drive (if you want to)!"
      ],
      "metadata": {
        "id": "_R0h2jyyJfah"
      }
    },
    {
      "cell_type": "code",
      "source": [
        "OUTPUT_FOLDER = './output_tutorial_14'"
      ],
      "metadata": {
        "id": "pZl5sNn-J655"
      },
      "execution_count": null,
      "outputs": []
    },
    {
      "cell_type": "code",
      "source": [
        "# Mount Google Drive\n",
        "from google.colab import drive\n",
        "drive.mount('/content/drive', force_remount=True)\n",
        "\n",
        "# Copy the database file to your Drive (-r makes it copy the folder and all files/folders inside)\n",
        "!cp -f -r {OUTPUT_FOLDER} \"/content/drive/MyDrive/\"\n",
        "\n",
        "print(f\"✅ '{OUTPUT_FOLDER}' has been copied to your Google Drive.\")"
      ],
      "metadata": {
        "id": "bwD74MqNJzR-"
      },
      "execution_count": null,
      "outputs": []
    },
    {
      "cell_type": "markdown",
      "source": [
        "A good day indeed  ¯\\\\\\_(ツ)_/¯"
      ],
      "metadata": {
        "id": "f8xV0KL5GAVO"
      }
    }
  ],
  "metadata": {
    "kernelspec": {
      "display_name": "Python 3",
      "language": "python",
      "name": "python3"
    },
    "language_info": {
      "codemirror_mode": {
        "name": "ipython",
        "version": 3
      },
      "file_extension": ".py",
      "mimetype": "text/x-python",
      "name": "python",
      "nbconvert_exporter": "python",
      "pygments_lexer": "ipython3",
      "version": "3.8.8"
    },
    "colab": {
      "provenance": [],
      "toc_visible": true,
      "include_colab_link": true
    }
  },
  "nbformat": 4,
  "nbformat_minor": 0
}