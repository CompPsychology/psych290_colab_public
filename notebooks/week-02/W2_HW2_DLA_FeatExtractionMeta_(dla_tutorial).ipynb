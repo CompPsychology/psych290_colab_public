{
  "cells": [
    {
      "cell_type": "markdown",
      "metadata": {
        "id": "view-in-github",
        "colab_type": "text"
      },
      "source": [
        "<a href=\"https://colab.research.google.com/github/CompPsychology/psych290_colab_public/blob/main/notebooks/week-02/W2_HW2_DLA_FeatExtractionMeta_(dla_tutorial).ipynb\" target=\"_parent\"><img src=\"https://colab.research.google.com/assets/colab-badge.svg\" alt=\"Open In Colab\"/></a>"
      ]
    },
    {
      "cell_type": "markdown",
      "id": "39528127",
      "metadata": {
        "id": "39528127"
      },
      "source": [
        "# W2 Homework 2: 1gram extraction and feat tables, meta tables (2025-03)\n",
        "\n",
        "(c) Johannes Eichstaedt & the World Well-Being Project, 2023.\n",
        "\n",
        "This homework is built on Tutorials 3 and 4. You can experiment below.\n",
        "- Please follow up every command cell with a markdown cell where you give the answer in a human sentence (see the \"Insert\" dropdown field at the top to choose the cell type).\n",
        "\n",
        "<br>\n",
        "\n",
        "✋🏻✋🏻 NOTE - You need to create a copy of this notebook before you work through it. Click on \"Save a copy in Drive\" option in the File menu, and safe it to your Google Drive.\n",
        "\n",
        "✉️🐞 If you find a bug/something doesn't work, please slack us a screenshot, or email johannes.courses@gmail.com.\n"
      ]
    },
    {
      "cell_type": "markdown",
      "source": [
        "## Setting up Colab with DLATK and SQLite\n",
        "\n",
        "If colab asks you about this not being authored by Google, say \"Run anyway.\""
      ],
      "metadata": {
        "id": "3ywzkuSISLDv"
      },
      "id": "3ywzkuSISLDv"
    },
    {
      "cell_type": "markdown",
      "source": [
        "### Streamlined setup"
      ],
      "metadata": {
        "id": "Ybc1hfhQTOtu"
      },
      "id": "Ybc1hfhQTOtu"
    },
    {
      "cell_type": "code",
      "execution_count": null,
      "metadata": {
        "id": "geGqHu8pR5ic",
        "collapsed": true
      },
      "outputs": [],
      "source": [
        "# assigning the corpus database name\n",
        "database_name = \"homework2_dlaTutorial\"\n",
        "\n",
        "########### 1a) Install\n",
        "\n",
        "# installing DLATK and necessary packages\n",
        "!git clone -b psych290 https://github.com/dlatk/dlatk.git\n",
        "!pip install -r dlatk/install/requirements.txt\n",
        "!pip install dlatk/\n",
        "!pip install wordcloud langid jupysql textstat\n",
        "\n",
        "########### 1b) Download data and insert into SQLite database\n",
        "\n",
        "# this download the csvs we need\n",
        "!git clone https://github.com/CompPsychology/psych290_data.git\n",
        "\n",
        "# load the required package -- similar to library() function in R\n",
        "import os\n",
        "from dlatk.tools.importmethods import csvToSQLite\n",
        "\n",
        "# store the complete path to the database -- sqlite_data/[database_name].db\n",
        "database = os.path.join(\"sqlite_data\", database_name)\n",
        "\n",
        "msgs = \"psych290_data/dla_tutorial/msgs.csv\"\n",
        "csvToSQLite(msgs, database, \"msgs\")\n",
        "\n",
        "outcomes = \"psych290_data/dla_tutorial/blog_outcomes.csv\"\n",
        "csvToSQLite(outcomes, database, \"outcomes\")\n",
        "\n",
        "############# 1c) Setup database connection\n",
        "\n",
        "# loads the %%sql extension\n",
        "%load_ext sql\n",
        "\n",
        "# connects the extension to the database\n",
        "from sqlalchemy import create_engine\n",
        "engine = create_engine(f\"sqlite:///sqlite_data/{database_name}.db?charset=utf8mb4\")\n",
        "%sql engine\n",
        "\n",
        "#set the output limit to 50\n",
        "%config SqlMagic.displaylimit = 100\n",
        "\n",
        "## PRINT FINISHED\n",
        "print(\" ******* LOAD FINISHED ¯\\_(ツ)_/ *******\")"
      ],
      "id": "geGqHu8pR5ic"
    },
    {
      "cell_type": "markdown",
      "source": [
        "## Extract features"
      ],
      "metadata": {
        "id": "LPWtosnj6vin"
      },
      "id": "LPWtosnj6vin"
    },
    {
      "cell_type": "markdown",
      "source": [
        "For this homework, you will need to work with feature tables and meta tables. Let's re-extract those from our message table!"
      ],
      "metadata": {
        "id": "-fhAqArq8xnJ"
      },
      "id": "-fhAqArq8xnJ"
    },
    {
      "cell_type": "code",
      "source": [
        "database = \"homework2_dlaTutorial\"\n",
        "msgs_table = \"msgs\""
      ],
      "metadata": {
        "id": "K_wkh7Ir4Amn"
      },
      "id": "K_wkh7Ir4Amn",
      "execution_count": 8,
      "outputs": []
    },
    {
      "cell_type": "code",
      "source": [
        "!dlatkInterface.py \\\n",
        "  --corpdb {database} \\\n",
        "  --corptable {msgs_table} \\\n",
        "  --correl_field user_id \\\n",
        "  --add_ngrams -n 1"
      ],
      "metadata": {
        "id": "wBLDkIVZ6xp8"
      },
      "id": "wBLDkIVZ6xp8",
      "execution_count": null,
      "outputs": []
    },
    {
      "cell_type": "code",
      "source": [
        "%sqlcmd tables"
      ],
      "metadata": {
        "id": "xYw3flPR8yqZ"
      },
      "id": "xYw3flPR8yqZ",
      "execution_count": null,
      "outputs": []
    },
    {
      "cell_type": "markdown",
      "source": [
        "## Questions"
      ],
      "metadata": {
        "id": "5oYqcxJj6nU2"
      },
      "id": "5oYqcxJj6nU2"
    },
    {
      "cell_type": "markdown",
      "id": "d41ec1e6",
      "metadata": {
        "id": "d41ec1e6"
      },
      "source": [
        "### 0) (Extra credit) Make yourself a new \"super table\" that has the 1gram feature table merged onto the outcome table. Put an index on `feat`, `gender`, `age`, `group_norm` and `sign`.\n",
        "\n",
        "How many rows does this new table have, and how does this length relate to the lengths of the tables you joined? (sanity check)"
      ]
    },
    {
      "cell_type": "markdown",
      "id": "731c75e4",
      "metadata": {
        "id": "731c75e4"
      },
      "source": [
        "Where helpful in the below queries, use your new table."
      ]
    },
    {
      "cell_type": "code",
      "source": [],
      "metadata": {
        "id": "o_m4Wy23tNo5"
      },
      "id": "o_m4Wy23tNo5",
      "execution_count": null,
      "outputs": []
    },
    {
      "cell_type": "markdown",
      "id": "85b08c4c",
      "metadata": {
        "id": "85b08c4c"
      },
      "source": [
        "### 1) How often was the word `the` mentioned, both in absolute numbers and as the average relative frequency across all users (accounting for sparse encoding of the tokens in the feature table)?"
      ]
    },
    {
      "cell_type": "code",
      "source": [],
      "metadata": {
        "id": "GF1vKn5Vt0tb"
      },
      "id": "GF1vKn5Vt0tb",
      "execution_count": null,
      "outputs": []
    },
    {
      "cell_type": "markdown",
      "id": "0873eae9",
      "metadata": {
        "id": "0873eae9"
      },
      "source": [
        "### 2) Please compute the average relative frequency of \"they\"\n",
        "- the dumb way: across all users who have said they (not accounting for sparsity)\n",
        "- the right way: across all users (accounting for sparsity)\n",
        "\n",
        "Which of the numbers is bigger? Why?\n",
        "\n",
        "Will the difference be smaller or bigger for a word that is more rare, such as \"backpack\"?"
      ]
    },
    {
      "cell_type": "code",
      "source": [],
      "metadata": {
        "id": "AqYFKPE3t1C4"
      },
      "id": "AqYFKPE3t1C4",
      "execution_count": null,
      "outputs": []
    },
    {
      "cell_type": "markdown",
      "id": "0852ae98",
      "metadata": {
        "id": "0852ae98"
      },
      "source": [
        "### 3) Averaging the correct way (accounting for sparse encoding), how often was `of`, as an average relative frequency across users mentioned by women? and by men? (Women = 1)"
      ]
    },
    {
      "cell_type": "code",
      "source": [],
      "metadata": {
        "id": "W7m03mYJt1Um"
      },
      "id": "W7m03mYJt1Um",
      "execution_count": null,
      "outputs": []
    },
    {
      "cell_type": "markdown",
      "id": "a20e8b84",
      "metadata": {
        "id": "a20e8b84"
      },
      "source": [
        "### 4) What are top 100 most frequent words across all users, in relative frequency terms?\n"
      ]
    },
    {
      "cell_type": "code",
      "source": [],
      "metadata": {
        "id": "gNPVcV_Gt17E"
      },
      "id": "gNPVcV_Gt17E",
      "execution_count": null,
      "outputs": []
    },
    {
      "cell_type": "markdown",
      "id": "57ef71c9",
      "metadata": {
        "id": "57ef71c9"
      },
      "source": [
        "### 5) Do women use more distinct tokens (token types) than men?\n",
        "\n",
        "Just nominally, we do significance tests later. Women are coded as 1."
      ]
    },
    {
      "cell_type": "code",
      "source": [],
      "metadata": {
        "id": "_BCP0ylGt2OC"
      },
      "id": "_BCP0ylGt2OC",
      "execution_count": null,
      "outputs": []
    },
    {
      "cell_type": "markdown",
      "id": "10a2358a",
      "metadata": {
        "id": "10a2358a"
      },
      "source": [
        "### 6) What's the min, max, and average number of blog posts written by every star sign, and number of users in every star sign?  Which star sign wrote the most, on average?\n",
        "\n",
        "Yes you can do this all in one query.\n",
        "\n",
        "Hint: Facebook is now called...what?"
      ]
    },
    {
      "cell_type": "code",
      "source": [],
      "metadata": {
        "id": "Z-Jp6SxQt2l4"
      },
      "id": "Z-Jp6SxQt2l4",
      "execution_count": null,
      "outputs": []
    },
    {
      "cell_type": "markdown",
      "id": "a6b65db3",
      "metadata": {
        "id": "a6b65db3"
      },
      "source": [
        "### 7) What is the the average Flesch-Kincaid grade level of different ages?"
      ]
    },
    {
      "cell_type": "code",
      "source": [],
      "metadata": {
        "id": "9iYclnxMt26F"
      },
      "id": "9iYclnxMt26F",
      "execution_count": null,
      "outputs": []
    },
    {
      "cell_type": "markdown",
      "id": "c2cda173",
      "metadata": {
        "id": "c2cda173"
      },
      "source": [
        "### 8) Averaging the dumb way (across those who use the feature) in terms of relative frequency, which age uses `i` the most? Are you surprised? We can sort of get away with this, because `i` is highly frequent, so likely to be used by most.\n",
        "\n",
        "For 0.1 points: check how many users use the word `i`."
      ]
    },
    {
      "cell_type": "code",
      "source": [],
      "metadata": {
        "id": "TDIjLC56t3JP"
      },
      "id": "TDIjLC56t3JP",
      "execution_count": null,
      "outputs": []
    },
    {
      "cell_type": "markdown",
      "id": "f25c27a9",
      "metadata": {
        "id": "f25c27a9"
      },
      "source": [
        "### 9) Double points: Which star sign has the biggest Type-Token-Ratio, on average?\n",
        "\n",
        "To do this, first you join the star signs and the extracted 1grams. Then find the ratio of vocabulary size per sign, and to it's respective number of tokens.\n",
        "\n",
        "**Hint:** you can do all of this in the same query.\n",
        "\n",
        "**Helpful**: If dividing, don't forget to multiply both the numerator and denominator by `1.0`!"
      ]
    },
    {
      "cell_type": "code",
      "source": [],
      "metadata": {
        "id": "um-cD-Agt3ci"
      },
      "id": "um-cD-Agt3ci",
      "execution_count": null,
      "outputs": []
    }
  ],
  "metadata": {
    "kernelspec": {
      "display_name": "Python 3",
      "language": "python",
      "name": "python3"
    },
    "language_info": {
      "codemirror_mode": {
        "name": "ipython",
        "version": 3
      },
      "file_extension": ".py",
      "mimetype": "text/x-python",
      "name": "python",
      "nbconvert_exporter": "python",
      "pygments_lexer": "ipython3",
      "version": "3.8.8"
    },
    "colab": {
      "provenance": [],
      "toc_visible": true,
      "include_colab_link": true
    }
  },
  "nbformat": 4,
  "nbformat_minor": 5
}