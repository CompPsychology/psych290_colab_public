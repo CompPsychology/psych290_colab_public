{
  "cells": [
    {
      "cell_type": "markdown",
      "metadata": {
        "id": "view-in-github",
        "colab_type": "text"
      },
      "source": [
        "<a href=\"https://colab.research.google.com/github/CompPsychology/psych290_colab_public/blob/main/notebooks/week-02/W2_Tutorial_04_DLATK_metaTablesComplexity_(dla_tutorial)_withSolutions.ipynb\" target=\"_parent\"><img src=\"https://colab.research.google.com/assets/colab-badge.svg\" alt=\"Open In Colab\"/></a>"
      ]
    },
    {
      "cell_type": "markdown",
      "metadata": {
        "id": "dhtnc8GunFX3"
      },
      "source": [
        "# W2 Tutorial 4 - Introduction to Meta Tables (DB: dla_tutorial) (2025-03)\n",
        "\n",
        "(c) Johannes Eichstaedt & the World Well-Being Project, 2023.\n",
        "\n",
        "✋🏻✋🏻 NOTE - You need to create a copy of this notebook before you work through it. Click on \"Save a copy in Drive\" option in the File menu, and safe it to your Google Drive.\n",
        "\n",
        "✉️🐞 If you find a bug/something doesn't work, please slack us a screenshot, or email johannes.courses@gmail.com."
      ]
    },
    {
      "cell_type": "markdown",
      "source": [
        "## 1) Setting up Colab with DLATK and SQLite\n",
        "\n",
        "As discussed in the tutorials, we begin by setting up the Colab environment.\n",
        "\n",
        "This will take ~1.5 to 2 minutes. If colab asks you about this not being authored by Google, say \"Run anyway.\""
      ],
      "metadata": {
        "id": "3dmRJoCleD4_"
      }
    },
    {
      "cell_type": "markdown",
      "source": [
        "### 1a to 1c) Streamlined: Setting up Colab with DLATK and your data"
      ],
      "metadata": {
        "id": "XqSoMgralqfD"
      }
    },
    {
      "cell_type": "code",
      "source": [
        "# assigning the corpus database name\n",
        "database_name = \"tutorial_4\"\n",
        "\n",
        "########### 1a) Install\n",
        "\n",
        "# installing DLATK and necessary packages\n",
        "!git clone -b psych290 https://github.com/dlatk/dlatk.git\n",
        "!pip install -r dlatk/install/requirements.txt\n",
        "!pip install dlatk/\n",
        "!pip install wordcloud langid jupysql textstat\n",
        "\n",
        "########### 1b) Download data and insert into SQLite database\n",
        "\n",
        "# this download the csvs we need for this tutorial\n",
        "!git clone https://github.com/CompPsychology/psych290_data.git\n",
        "\n",
        "# load the required package -- similar to library() function in R\n",
        "import os\n",
        "from dlatk.tools.importmethods import csvToSQLite\n",
        "\n",
        "# store the complete path to the database -- sqlite_data/[database_name].db\n",
        "database = os.path.join(\"sqlite_data\", database_name)\n",
        "\n",
        "# import CSVs into tables in this database\n",
        "msgs = \"psych290_data/dla_tutorial/msgs.csv\"\n",
        "csvToSQLite(msgs, database, \"msgs\")\n",
        "\n",
        "outcomes = \"psych290_data/dla_tutorial/blog_outcomes.csv\"\n",
        "csvToSQLite(outcomes, database, \"outcomes\")\n",
        "\n",
        "############# 1c) Setup database connection\n",
        "\n",
        "# loads the %%sql extension\n",
        "%load_ext sql\n",
        "\n",
        "# connects the extension to the database\n",
        "from sqlalchemy import create_engine\n",
        "engine = create_engine(f\"sqlite:///sqlite_data/{database_name}.db?charset=utf8mb4\")\n",
        "%sql engine\n",
        "\n",
        "#set the output limit to 50\n",
        "%config SqlMagic.displaylimit = 50\n",
        "\n",
        "## PRINT FINISHED\n",
        "print(\" ******* LOAD FINISHED ¯\\_(ツ)_/ *******\")"
      ],
      "metadata": {
        "outputId": "4d7b95a8-0793-48ae-9c1c-a82be761c933",
        "colab": {
          "base_uri": "https://localhost:8080/"
        },
        "collapsed": true,
        "id": "VUYWYP5FlqfE"
      },
      "execution_count": null,
      "outputs": [
        {
          "output_type": "stream",
          "name": "stdout",
          "text": [
            "Cloning into 'dlatk'...\n",
            "remote: Enumerating objects: 6991, done.\u001b[K\n",
            "remote: Counting objects: 100% (1076/1076), done.\u001b[K\n",
            "remote: Compressing objects: 100% (149/149), done.\u001b[K\n",
            "remote: Total 6991 (delta 994), reused 935 (delta 927), pack-reused 5915 (from 1)\u001b[K\n",
            "Receiving objects: 100% (6991/6991), 62.38 MiB | 6.56 MiB/s, done.\n",
            "Resolving deltas: 100% (4947/4947), done.\n",
            "Collecting image<=1.5.33 (from -r dlatk/install/requirements.txt (line 1))\n",
            "  Downloading image-1.5.33.tar.gz (15 kB)\n",
            "  Preparing metadata (setup.py) ... \u001b[?25l\u001b[?25hdone\n",
            "Collecting langid<=1.1.6,>=1.1.4 (from -r dlatk/install/requirements.txt (line 2))\n",
            "  Downloading langid-1.1.6.tar.gz (1.9 MB)\n",
            "\u001b[2K     \u001b[90m━━━━━━━━━━━━━━━━━━━━━━━━━━━━━━━━━━━━━━━━\u001b[0m \u001b[32m1.9/1.9 MB\u001b[0m \u001b[31m20.5 MB/s\u001b[0m eta \u001b[36m0:00:00\u001b[0m\n",
            "\u001b[?25h  Preparing metadata (setup.py) ... \u001b[?25l\u001b[?25hdone\n",
            "Requirement already satisfied: matplotlib<=3.10.0,>=1.3.1 in /usr/local/lib/python3.11/dist-packages (from -r dlatk/install/requirements.txt (line 3)) (3.10.0)\n",
            "Collecting mysqlclient<=2.1.1 (from -r dlatk/install/requirements.txt (line 4))\n",
            "  Downloading mysqlclient-2.1.1.tar.gz (88 kB)\n",
            "\u001b[2K     \u001b[90m━━━━━━━━━━━━━━━━━━━━━━━━━━━━━━━━━━━━━━━━\u001b[0m \u001b[32m88.1/88.1 kB\u001b[0m \u001b[31m5.3 MB/s\u001b[0m eta \u001b[36m0:00:00\u001b[0m\n",
            "\u001b[?25h  Preparing metadata (setup.py) ... \u001b[?25l\u001b[?25hdone\n",
            "Requirement already satisfied: nltk<=3.9.1,>=3.1 in /usr/local/lib/python3.11/dist-packages (from -r dlatk/install/requirements.txt (line 5)) (3.9.1)\n",
            "Requirement already satisfied: numpy<=2.0.2 in /usr/local/lib/python3.11/dist-packages (from -r dlatk/install/requirements.txt (line 6)) (2.0.2)\n",
            "Requirement already satisfied: pandas<=2.2.2,>=0.17.1 in /usr/local/lib/python3.11/dist-packages (from -r dlatk/install/requirements.txt (line 7)) (2.2.2)\n",
            "Requirement already satisfied: patsy<=1.0.1,>=0.2.1 in /usr/local/lib/python3.11/dist-packages (from -r dlatk/install/requirements.txt (line 8)) (1.0.1)\n",
            "Requirement already satisfied: python-dateutil<=2.8.2,>=2.5.0 in /usr/local/lib/python3.11/dist-packages (from -r dlatk/install/requirements.txt (line 9)) (2.8.2)\n",
            "Requirement already satisfied: rpy2<=3.5.17 in /usr/local/lib/python3.11/dist-packages (from -r dlatk/install/requirements.txt (line 10)) (3.5.17)\n",
            "Requirement already satisfied: scikit-learn<=1.6.1 in /usr/local/lib/python3.11/dist-packages (from -r dlatk/install/requirements.txt (line 11)) (1.6.1)\n",
            "Requirement already satisfied: scipy<=1.14.1,>=0.13.3 in /usr/local/lib/python3.11/dist-packages (from -r dlatk/install/requirements.txt (line 12)) (1.14.1)\n",
            "Collecting SQLAlchemy<=2.0.39,>=0.9.9 (from -r dlatk/install/requirements.txt (line 13))\n",
            "  Downloading sqlalchemy-2.0.39-cp311-cp311-manylinux_2_17_x86_64.manylinux2014_x86_64.whl.metadata (9.6 kB)\n",
            "Requirement already satisfied: statsmodels<=0.14.4,>=0.5.0 in /usr/local/lib/python3.11/dist-packages (from -r dlatk/install/requirements.txt (line 14)) (0.14.4)\n",
            "Requirement already satisfied: wordcloud<=1.9.4,>=1.1.3 in /usr/local/lib/python3.11/dist-packages (from -r dlatk/install/requirements.txt (line 15)) (1.9.4)\n",
            "Requirement already satisfied: pillow in /usr/local/lib/python3.11/dist-packages (from image<=1.5.33->-r dlatk/install/requirements.txt (line 1)) (11.1.0)\n",
            "Collecting django (from image<=1.5.33->-r dlatk/install/requirements.txt (line 1))\n",
            "  Downloading Django-5.2-py3-none-any.whl.metadata (4.1 kB)\n",
            "Requirement already satisfied: six in /usr/local/lib/python3.11/dist-packages (from image<=1.5.33->-r dlatk/install/requirements.txt (line 1)) (1.17.0)\n",
            "Requirement already satisfied: contourpy>=1.0.1 in /usr/local/lib/python3.11/dist-packages (from matplotlib<=3.10.0,>=1.3.1->-r dlatk/install/requirements.txt (line 3)) (1.3.1)\n",
            "Requirement already satisfied: cycler>=0.10 in /usr/local/lib/python3.11/dist-packages (from matplotlib<=3.10.0,>=1.3.1->-r dlatk/install/requirements.txt (line 3)) (0.12.1)\n",
            "Requirement already satisfied: fonttools>=4.22.0 in /usr/local/lib/python3.11/dist-packages (from matplotlib<=3.10.0,>=1.3.1->-r dlatk/install/requirements.txt (line 3)) (4.57.0)\n",
            "Requirement already satisfied: kiwisolver>=1.3.1 in /usr/local/lib/python3.11/dist-packages (from matplotlib<=3.10.0,>=1.3.1->-r dlatk/install/requirements.txt (line 3)) (1.4.8)\n",
            "Requirement already satisfied: packaging>=20.0 in /usr/local/lib/python3.11/dist-packages (from matplotlib<=3.10.0,>=1.3.1->-r dlatk/install/requirements.txt (line 3)) (24.2)\n",
            "Requirement already satisfied: pyparsing>=2.3.1 in /usr/local/lib/python3.11/dist-packages (from matplotlib<=3.10.0,>=1.3.1->-r dlatk/install/requirements.txt (line 3)) (3.2.3)\n",
            "Requirement already satisfied: click in /usr/local/lib/python3.11/dist-packages (from nltk<=3.9.1,>=3.1->-r dlatk/install/requirements.txt (line 5)) (8.1.8)\n",
            "Requirement already satisfied: joblib in /usr/local/lib/python3.11/dist-packages (from nltk<=3.9.1,>=3.1->-r dlatk/install/requirements.txt (line 5)) (1.4.2)\n",
            "Requirement already satisfied: regex>=2021.8.3 in /usr/local/lib/python3.11/dist-packages (from nltk<=3.9.1,>=3.1->-r dlatk/install/requirements.txt (line 5)) (2024.11.6)\n",
            "Requirement already satisfied: tqdm in /usr/local/lib/python3.11/dist-packages (from nltk<=3.9.1,>=3.1->-r dlatk/install/requirements.txt (line 5)) (4.67.1)\n",
            "Requirement already satisfied: pytz>=2020.1 in /usr/local/lib/python3.11/dist-packages (from pandas<=2.2.2,>=0.17.1->-r dlatk/install/requirements.txt (line 7)) (2025.2)\n",
            "Requirement already satisfied: tzdata>=2022.7 in /usr/local/lib/python3.11/dist-packages (from pandas<=2.2.2,>=0.17.1->-r dlatk/install/requirements.txt (line 7)) (2025.2)\n",
            "Requirement already satisfied: cffi>=1.15.1 in /usr/local/lib/python3.11/dist-packages (from rpy2<=3.5.17->-r dlatk/install/requirements.txt (line 10)) (1.17.1)\n",
            "Requirement already satisfied: jinja2 in /usr/local/lib/python3.11/dist-packages (from rpy2<=3.5.17->-r dlatk/install/requirements.txt (line 10)) (3.1.6)\n",
            "Requirement already satisfied: tzlocal in /usr/local/lib/python3.11/dist-packages (from rpy2<=3.5.17->-r dlatk/install/requirements.txt (line 10)) (5.3.1)\n",
            "Requirement already satisfied: threadpoolctl>=3.1.0 in /usr/local/lib/python3.11/dist-packages (from scikit-learn<=1.6.1->-r dlatk/install/requirements.txt (line 11)) (3.6.0)\n",
            "Requirement already satisfied: greenlet!=0.4.17 in /usr/local/lib/python3.11/dist-packages (from SQLAlchemy<=2.0.39,>=0.9.9->-r dlatk/install/requirements.txt (line 13)) (3.1.1)\n",
            "Requirement already satisfied: typing-extensions>=4.6.0 in /usr/local/lib/python3.11/dist-packages (from SQLAlchemy<=2.0.39,>=0.9.9->-r dlatk/install/requirements.txt (line 13)) (4.13.1)\n",
            "Requirement already satisfied: pycparser in /usr/local/lib/python3.11/dist-packages (from cffi>=1.15.1->rpy2<=3.5.17->-r dlatk/install/requirements.txt (line 10)) (2.22)\n",
            "Collecting asgiref>=3.8.1 (from django->image<=1.5.33->-r dlatk/install/requirements.txt (line 1))\n",
            "  Downloading asgiref-3.8.1-py3-none-any.whl.metadata (9.3 kB)\n",
            "Requirement already satisfied: sqlparse>=0.3.1 in /usr/local/lib/python3.11/dist-packages (from django->image<=1.5.33->-r dlatk/install/requirements.txt (line 1)) (0.5.3)\n",
            "Requirement already satisfied: MarkupSafe>=2.0 in /usr/local/lib/python3.11/dist-packages (from jinja2->rpy2<=3.5.17->-r dlatk/install/requirements.txt (line 10)) (3.0.2)\n",
            "Downloading sqlalchemy-2.0.39-cp311-cp311-manylinux_2_17_x86_64.manylinux2014_x86_64.whl (3.2 MB)\n",
            "\u001b[2K   \u001b[90m━━━━━━━━━━━━━━━━━━━━━━━━━━━━━━━━━━━━━━━━\u001b[0m \u001b[32m3.2/3.2 MB\u001b[0m \u001b[31m54.7 MB/s\u001b[0m eta \u001b[36m0:00:00\u001b[0m\n",
            "\u001b[?25hDownloading Django-5.2-py3-none-any.whl (8.3 MB)\n",
            "\u001b[2K   \u001b[90m━━━━━━━━━━━━━━━━━━━━━━━━━━━━━━━━━━━━━━━━\u001b[0m \u001b[32m8.3/8.3 MB\u001b[0m \u001b[31m32.5 MB/s\u001b[0m eta \u001b[36m0:00:00\u001b[0m\n",
            "\u001b[?25hDownloading asgiref-3.8.1-py3-none-any.whl (23 kB)\n",
            "Building wheels for collected packages: image, langid, mysqlclient\n",
            "  Building wheel for image (setup.py) ... \u001b[?25l\u001b[?25hdone\n",
            "  Created wheel for image: filename=image-1.5.33-py2.py3-none-any.whl size=19482 sha256=cb1bde46777687070b646443ca395b75fa614cc8aeffc08ce52b40922a103274\n",
            "  Stored in directory: /root/.cache/pip/wheels/62/40/4f/3c9a8d0f22a1a6f966975a460e5cb509a1e7dc42e2ce5d9a6d\n",
            "  Building wheel for langid (setup.py) ... \u001b[?25l\u001b[?25hdone\n",
            "  Created wheel for langid: filename=langid-1.1.6-py3-none-any.whl size=1941171 sha256=b737a0729ef991bcf8b5faea3f61018f5e0097d7ee4ecc668e2de3e3519f40fd\n",
            "  Stored in directory: /root/.cache/pip/wheels/32/6a/b6/b7eb43a6ad55b139c15c5daa29f3707659cfa6944d3c696f5b\n",
            "  Building wheel for mysqlclient (setup.py) ... \u001b[?25l\u001b[?25hdone\n",
            "  Created wheel for mysqlclient: filename=mysqlclient-2.1.1-cp311-cp311-linux_x86_64.whl size=106437 sha256=00a591b59fbbebc058d4b27d00fd6ba461b1a0a152acddf5e70ab9de5cde95a9\n",
            "  Stored in directory: /root/.cache/pip/wheels/19/44/b2/cdf313664c12c8b11f88afd90079823c63369ab9135fc79185\n",
            "Successfully built image langid mysqlclient\n",
            "Installing collected packages: SQLAlchemy, mysqlclient, langid, asgiref, django, image\n",
            "  Attempting uninstall: SQLAlchemy\n",
            "    Found existing installation: SQLAlchemy 2.0.40\n",
            "    Uninstalling SQLAlchemy-2.0.40:\n",
            "      Successfully uninstalled SQLAlchemy-2.0.40\n",
            "Successfully installed SQLAlchemy-2.0.39 asgiref-3.8.1 django-5.2 image-1.5.33 langid-1.1.6 mysqlclient-2.1.1\n",
            "Processing ./dlatk\n",
            "  Preparing metadata (setup.py) ... \u001b[?25l\u001b[?25hdone\n",
            "Requirement already satisfied: nltk<=3.9.1,>=3.1 in /usr/local/lib/python3.11/dist-packages (from dlatk==1.3.1) (3.9.1)\n",
            "Requirement already satisfied: numpy<=2.0.2 in /usr/local/lib/python3.11/dist-packages (from dlatk==1.3.1) (2.0.2)\n",
            "Requirement already satisfied: pandas<=2.2.2,>=0.17.1 in /usr/local/lib/python3.11/dist-packages (from dlatk==1.3.1) (2.2.2)\n",
            "Requirement already satisfied: patsy<=1.0.1,>=0.2.1 in /usr/local/lib/python3.11/dist-packages (from dlatk==1.3.1) (1.0.1)\n",
            "Requirement already satisfied: python-dateutil<=2.8.2,>=2.5.0 in /usr/local/lib/python3.11/dist-packages (from dlatk==1.3.1) (2.8.2)\n",
            "Requirement already satisfied: scikit-learn<=1.6.1 in /usr/local/lib/python3.11/dist-packages (from dlatk==1.3.1) (1.6.1)\n",
            "Requirement already satisfied: scipy<=1.14.1,>=0.13.3 in /usr/local/lib/python3.11/dist-packages (from dlatk==1.3.1) (1.14.1)\n",
            "Requirement already satisfied: statsmodels<=0.14.4,>=0.5.0 in /usr/local/lib/python3.11/dist-packages (from dlatk==1.3.1) (0.14.4)\n",
            "Requirement already satisfied: click in /usr/local/lib/python3.11/dist-packages (from nltk<=3.9.1,>=3.1->dlatk==1.3.1) (8.1.8)\n",
            "Requirement already satisfied: joblib in /usr/local/lib/python3.11/dist-packages (from nltk<=3.9.1,>=3.1->dlatk==1.3.1) (1.4.2)\n",
            "Requirement already satisfied: regex>=2021.8.3 in /usr/local/lib/python3.11/dist-packages (from nltk<=3.9.1,>=3.1->dlatk==1.3.1) (2024.11.6)\n",
            "Requirement already satisfied: tqdm in /usr/local/lib/python3.11/dist-packages (from nltk<=3.9.1,>=3.1->dlatk==1.3.1) (4.67.1)\n",
            "Requirement already satisfied: pytz>=2020.1 in /usr/local/lib/python3.11/dist-packages (from pandas<=2.2.2,>=0.17.1->dlatk==1.3.1) (2025.2)\n",
            "Requirement already satisfied: tzdata>=2022.7 in /usr/local/lib/python3.11/dist-packages (from pandas<=2.2.2,>=0.17.1->dlatk==1.3.1) (2025.2)\n",
            "Requirement already satisfied: six>=1.5 in /usr/local/lib/python3.11/dist-packages (from python-dateutil<=2.8.2,>=2.5.0->dlatk==1.3.1) (1.17.0)\n",
            "Requirement already satisfied: threadpoolctl>=3.1.0 in /usr/local/lib/python3.11/dist-packages (from scikit-learn<=1.6.1->dlatk==1.3.1) (3.6.0)\n",
            "Requirement already satisfied: packaging>=21.3 in /usr/local/lib/python3.11/dist-packages (from statsmodels<=0.14.4,>=0.5.0->dlatk==1.3.1) (24.2)\n",
            "Building wheels for collected packages: dlatk\n",
            "  Building wheel for dlatk (setup.py) ... \u001b[?25l\u001b[?25hdone\n",
            "  Created wheel for dlatk: filename=dlatk-1.3.1-py3-none-any.whl size=35635918 sha256=c76e1e812824440b4e3d5af5f4dbaaa79214f4d59d7d23d74ccbe25a75774b77\n",
            "  Stored in directory: /tmp/pip-ephem-wheel-cache-tumysuwm/wheels/cc/c9/65/e1ecc64bac68518c07b286fe86921aa938e11a0c3a87d8ff93\n",
            "Successfully built dlatk\n",
            "Installing collected packages: dlatk\n",
            "Successfully installed dlatk-1.3.1\n",
            "Requirement already satisfied: wordcloud in /usr/local/lib/python3.11/dist-packages (1.9.4)\n",
            "Requirement already satisfied: langid in /usr/local/lib/python3.11/dist-packages (1.1.6)\n",
            "Collecting jupysql\n",
            "  Downloading jupysql-0.11.1-py3-none-any.whl.metadata (5.9 kB)\n",
            "Collecting textstat\n",
            "  Downloading textstat-0.7.5-py3-none-any.whl.metadata (15 kB)\n",
            "Requirement already satisfied: numpy>=1.6.1 in /usr/local/lib/python3.11/dist-packages (from wordcloud) (2.0.2)\n",
            "Requirement already satisfied: pillow in /usr/local/lib/python3.11/dist-packages (from wordcloud) (11.1.0)\n",
            "Requirement already satisfied: matplotlib in /usr/local/lib/python3.11/dist-packages (from wordcloud) (3.10.0)\n",
            "Requirement already satisfied: prettytable>=3.12.0 in /usr/local/lib/python3.11/dist-packages (from jupysql) (3.16.0)\n",
            "Requirement already satisfied: sqlalchemy in /usr/local/lib/python3.11/dist-packages (from jupysql) (2.0.39)\n",
            "Requirement already satisfied: sqlparse in /usr/local/lib/python3.11/dist-packages (from jupysql) (0.5.3)\n",
            "Requirement already satisfied: ipython-genutils>=0.1.0 in /usr/local/lib/python3.11/dist-packages (from jupysql) (0.2.0)\n",
            "Requirement already satisfied: jinja2 in /usr/local/lib/python3.11/dist-packages (from jupysql) (3.1.6)\n",
            "Requirement already satisfied: sqlglot>=11.3.7 in /usr/local/lib/python3.11/dist-packages (from jupysql) (25.20.2)\n",
            "Collecting jupysql-plugin>=0.4.2 (from jupysql)\n",
            "  Downloading jupysql_plugin-0.4.5-py3-none-any.whl.metadata (7.8 kB)\n",
            "Collecting ploomber-core>=0.2.7 (from jupysql)\n",
            "  Downloading ploomber_core-0.2.26-py3-none-any.whl.metadata (527 bytes)\n",
            "Collecting pyphen (from textstat)\n",
            "  Downloading pyphen-0.17.2-py3-none-any.whl.metadata (3.2 kB)\n",
            "Collecting cmudict (from textstat)\n",
            "  Downloading cmudict-1.0.32-py3-none-any.whl.metadata (3.6 kB)\n",
            "Requirement already satisfied: setuptools in /usr/local/lib/python3.11/dist-packages (from textstat) (75.2.0)\n",
            "Requirement already satisfied: pyyaml in /usr/local/lib/python3.11/dist-packages (from ploomber-core>=0.2.7->jupysql) (6.0.2)\n",
            "Collecting posthog (from ploomber-core>=0.2.7->jupysql)\n",
            "  Downloading posthog-3.24.0-py2.py3-none-any.whl.metadata (3.0 kB)\n",
            "Requirement already satisfied: wcwidth in /usr/local/lib/python3.11/dist-packages (from prettytable>=3.12.0->jupysql) (0.2.13)\n",
            "Requirement already satisfied: importlib-metadata>=5 in /usr/local/lib/python3.11/dist-packages (from cmudict->textstat) (8.6.1)\n",
            "Requirement already satisfied: importlib-resources>=5 in /usr/local/lib/python3.11/dist-packages (from cmudict->textstat) (6.5.2)\n",
            "Requirement already satisfied: MarkupSafe>=2.0 in /usr/local/lib/python3.11/dist-packages (from jinja2->jupysql) (3.0.2)\n",
            "Requirement already satisfied: contourpy>=1.0.1 in /usr/local/lib/python3.11/dist-packages (from matplotlib->wordcloud) (1.3.1)\n",
            "Requirement already satisfied: cycler>=0.10 in /usr/local/lib/python3.11/dist-packages (from matplotlib->wordcloud) (0.12.1)\n",
            "Requirement already satisfied: fonttools>=4.22.0 in /usr/local/lib/python3.11/dist-packages (from matplotlib->wordcloud) (4.57.0)\n",
            "Requirement already satisfied: kiwisolver>=1.3.1 in /usr/local/lib/python3.11/dist-packages (from matplotlib->wordcloud) (1.4.8)\n",
            "Requirement already satisfied: packaging>=20.0 in /usr/local/lib/python3.11/dist-packages (from matplotlib->wordcloud) (24.2)\n",
            "Requirement already satisfied: pyparsing>=2.3.1 in /usr/local/lib/python3.11/dist-packages (from matplotlib->wordcloud) (3.2.3)\n",
            "Requirement already satisfied: python-dateutil>=2.7 in /usr/local/lib/python3.11/dist-packages (from matplotlib->wordcloud) (2.8.2)\n",
            "Requirement already satisfied: greenlet!=0.4.17 in /usr/local/lib/python3.11/dist-packages (from sqlalchemy->jupysql) (3.1.1)\n",
            "Requirement already satisfied: typing-extensions>=4.6.0 in /usr/local/lib/python3.11/dist-packages (from sqlalchemy->jupysql) (4.13.1)\n",
            "Requirement already satisfied: zipp>=3.20 in /usr/local/lib/python3.11/dist-packages (from importlib-metadata>=5->cmudict->textstat) (3.21.0)\n",
            "Requirement already satisfied: six>=1.5 in /usr/local/lib/python3.11/dist-packages (from python-dateutil>=2.7->matplotlib->wordcloud) (1.17.0)\n",
            "Requirement already satisfied: requests<3.0,>=2.7 in /usr/local/lib/python3.11/dist-packages (from posthog->ploomber-core>=0.2.7->jupysql) (2.32.3)\n",
            "Collecting monotonic>=1.5 (from posthog->ploomber-core>=0.2.7->jupysql)\n",
            "  Downloading monotonic-1.6-py2.py3-none-any.whl.metadata (1.5 kB)\n",
            "Collecting backoff>=1.10.0 (from posthog->ploomber-core>=0.2.7->jupysql)\n",
            "  Downloading backoff-2.2.1-py3-none-any.whl.metadata (14 kB)\n",
            "Requirement already satisfied: distro>=1.5.0 in /usr/local/lib/python3.11/dist-packages (from posthog->ploomber-core>=0.2.7->jupysql) (1.9.0)\n",
            "Requirement already satisfied: charset-normalizer<4,>=2 in /usr/local/lib/python3.11/dist-packages (from requests<3.0,>=2.7->posthog->ploomber-core>=0.2.7->jupysql) (3.4.1)\n",
            "Requirement already satisfied: idna<4,>=2.5 in /usr/local/lib/python3.11/dist-packages (from requests<3.0,>=2.7->posthog->ploomber-core>=0.2.7->jupysql) (3.10)\n",
            "Requirement already satisfied: urllib3<3,>=1.21.1 in /usr/local/lib/python3.11/dist-packages (from requests<3.0,>=2.7->posthog->ploomber-core>=0.2.7->jupysql) (2.3.0)\n",
            "Requirement already satisfied: certifi>=2017.4.17 in /usr/local/lib/python3.11/dist-packages (from requests<3.0,>=2.7->posthog->ploomber-core>=0.2.7->jupysql) (2025.1.31)\n",
            "Downloading jupysql-0.11.1-py3-none-any.whl (95 kB)\n",
            "\u001b[2K   \u001b[90m━━━━━━━━━━━━━━━━━━━━━━━━━━━━━━━━━━━━━━━━\u001b[0m \u001b[32m95.1/95.1 kB\u001b[0m \u001b[31m2.4 MB/s\u001b[0m eta \u001b[36m0:00:00\u001b[0m\n",
            "\u001b[?25hDownloading textstat-0.7.5-py3-none-any.whl (105 kB)\n",
            "\u001b[2K   \u001b[90m━━━━━━━━━━━━━━━━━━━━━━━━━━━━━━━━━━━━━━━━\u001b[0m \u001b[32m105.3/105.3 kB\u001b[0m \u001b[31m5.0 MB/s\u001b[0m eta \u001b[36m0:00:00\u001b[0m\n",
            "\u001b[?25hDownloading jupysql_plugin-0.4.5-py3-none-any.whl (192 kB)\n",
            "\u001b[2K   \u001b[90m━━━━━━━━━━━━━━━━━━━━━━━━━━━━━━━━━━━━━━━━\u001b[0m \u001b[32m192.8/192.8 kB\u001b[0m \u001b[31m15.6 MB/s\u001b[0m eta \u001b[36m0:00:00\u001b[0m\n",
            "\u001b[?25hDownloading ploomber_core-0.2.26-py3-none-any.whl (22 kB)\n",
            "Downloading cmudict-1.0.32-py3-none-any.whl (939 kB)\n",
            "\u001b[2K   \u001b[90m━━━━━━━━━━━━━━━━━━━━━━━━━━━━━━━━━━━━━━━━\u001b[0m \u001b[32m939.4/939.4 kB\u001b[0m \u001b[31m32.4 MB/s\u001b[0m eta \u001b[36m0:00:00\u001b[0m\n",
            "\u001b[?25hDownloading pyphen-0.17.2-py3-none-any.whl (2.1 MB)\n",
            "\u001b[2K   \u001b[90m━━━━━━━━━━━━━━━━━━━━━━━━━━━━━━━━━━━━━━━━\u001b[0m \u001b[32m2.1/2.1 MB\u001b[0m \u001b[31m44.6 MB/s\u001b[0m eta \u001b[36m0:00:00\u001b[0m\n",
            "\u001b[?25hDownloading posthog-3.24.0-py2.py3-none-any.whl (85 kB)\n",
            "\u001b[2K   \u001b[90m━━━━━━━━━━━━━━━━━━━━━━━━━━━━━━━━━━━━━━━━\u001b[0m \u001b[32m85.2/85.2 kB\u001b[0m \u001b[31m6.8 MB/s\u001b[0m eta \u001b[36m0:00:00\u001b[0m\n",
            "\u001b[?25hDownloading backoff-2.2.1-py3-none-any.whl (15 kB)\n",
            "Downloading monotonic-1.6-py2.py3-none-any.whl (8.2 kB)\n",
            "Installing collected packages: monotonic, pyphen, backoff, posthog, cmudict, textstat, ploomber-core, jupysql-plugin, jupysql\n",
            "Successfully installed backoff-2.2.1 cmudict-1.0.32 jupysql-0.11.1 jupysql-plugin-0.4.5 monotonic-1.6 ploomber-core-0.2.26 posthog-3.24.0 pyphen-0.17.2 textstat-0.7.5\n",
            "Cloning into 'psych290_data'...\n",
            "remote: Enumerating objects: 11, done.\u001b[K\n",
            "remote: Counting objects: 100% (11/11), done.\u001b[K\n",
            "remote: Compressing objects: 100% (9/9), done.\u001b[K\n",
            "remote: Total 11 (delta 0), reused 8 (delta 0), pack-reused 0 (from 0)\u001b[K\n",
            "Receiving objects: 100% (11/11), 13.84 MiB | 15.68 MiB/s, done.\n"
          ]
        },
        {
          "output_type": "stream",
          "name": "stderr",
          "text": [
            "SQL Query: CREATE TABLE msgs (message_id INT, user_id INT, date VARCHAR(31), created_time VARCHAR(31), message LONGTEXT);\n"
          ]
        },
        {
          "output_type": "stream",
          "name": "stdout",
          "text": [
            "Importing data, reading psych290_data/dla_tutorial/msgs.csv file\n",
            "Reading 10000 rows into the table...\n",
            "Reading 10000 rows into the table...\n",
            "Reading 10000 rows into the table...\n",
            "Reading remaining 1674 rows into the table...\n"
          ]
        },
        {
          "output_type": "stream",
          "name": "stderr",
          "text": [
            "SQL Query: CREATE TABLE outcomes (user_id INT, gender INT, age INT, occu VARCHAR(31), sign VARCHAR(15), is_indunk INT, is_student VARCHAR(7), is_education VARCHAR(7), is_technology VARCHAR(7));\n"
          ]
        },
        {
          "output_type": "stream",
          "name": "stdout",
          "text": [
            "Importing data, reading psych290_data/dla_tutorial/blog_outcomes.csv file\n",
            "Reading remaining 1000 rows into the table...\n",
            " ******* LOAD FINISHED ¯\\_(ツ)_/ *******\n"
          ]
        }
      ]
    },
    {
      "cell_type": "markdown",
      "metadata": {
        "id": "uV_n86TRnFX5"
      },
      "source": [
        "## 2) Let's extract features"
      ]
    },
    {
      "cell_type": "markdown",
      "metadata": {
        "id": "MmAcfkrFnFX5"
      },
      "source": [
        "Here we want to extract the `feat$1gram$msgs$user_id` table.\n",
        "\n",
        "FYI: If you're running this notebook on a server with 🐬🐬🐬 MySQL, you may have already extracted features and don't need to do it again. You can check by running the DLATK command below to see if the tables already exist."
      ]
    },
    {
      "cell_type": "code",
      "execution_count": null,
      "metadata": {
        "id": "NophKu3AnFX6"
      },
      "outputs": [],
      "source": [
        "database = 'tutorial_4'\n",
        "msgs_table = 'msgs'"
      ]
    },
    {
      "cell_type": "code",
      "source": [
        "%sqlcmd tables"
      ],
      "metadata": {
        "id": "FzdCH1r1m4tX",
        "outputId": "eed8b2dc-5cf9-4775-9ff9-d9670dab2a03",
        "colab": {
          "base_uri": "https://localhost:8080/",
          "height": 83
        }
      },
      "execution_count": null,
      "outputs": [
        {
          "output_type": "execute_result",
          "data": {
            "text/plain": [
              "+----------+\n",
              "|   Name   |\n",
              "+----------+\n",
              "|   msgs   |\n",
              "| outcomes |\n",
              "+----------+"
            ],
            "text/html": [
              "<table>\n",
              "    <thead>\n",
              "        <tr>\n",
              "            <th>Name</th>\n",
              "        </tr>\n",
              "    </thead>\n",
              "    <tbody>\n",
              "        <tr>\n",
              "            <td>msgs</td>\n",
              "        </tr>\n",
              "        <tr>\n",
              "            <td>outcomes</td>\n",
              "        </tr>\n",
              "    </tbody>\n",
              "</table>"
            ]
          },
          "metadata": {},
          "execution_count": 3
        }
      ]
    },
    {
      "cell_type": "code",
      "execution_count": null,
      "metadata": {
        "colab": {
          "base_uri": "https://localhost:8080/"
        },
        "id": "yYhsD6TlnFX6",
        "outputId": "b014f696-f150-46ad-cf6f-951ba6313d98"
      },
      "outputs": [
        {
          "output_type": "stream",
          "name": "stdout",
          "text": [
            "\n",
            "\n",
            "TopicExtractor: gensim Mallet wrapper unavailable, using Mallet directly.\n",
            "\n",
            "-----\n",
            "DLATK Interface Initiated: 2025-04-09 23:04:14\n",
            "-----\n",
            "Connecting to SQLite database: /content/sqlite_data/tutorial_4\n",
            "query: PRAGMA table_info(msgs)\n",
            "SQL Query: DROP TABLE IF EXISTS feat$1gram$msgs$user_id\n",
            "SQL Query: CREATE TABLE feat$1gram$msgs$user_id ( id INTEGER PRIMARY KEY, group_id INTEGER, feat VARCHAR(36), value INTEGER, group_norm DOUBLE)\n",
            "\n",
            "\n",
            "Creating index correl_field on table:feat$1gram$msgs$user_id, column:group_id \n",
            "\n",
            "\n",
            "SQL Query: CREATE INDEX correl_field$1gram$msgs$user_id ON feat$1gram$msgs$user_id (group_id)\n",
            "\n",
            "\n",
            "Creating index feature on table:feat$1gram$msgs$user_id, column:feat \n",
            "\n",
            "\n",
            "SQL Query: CREATE INDEX feature$1gram$msgs$user_id ON feat$1gram$msgs$user_id (feat)\n",
            "query: PRAGMA table_info(msgs)\n",
            "SQL Query: DROP TABLE IF EXISTS feat$meta_1gram$msgs$user_id\n",
            "SQL Query: CREATE TABLE feat$meta_1gram$msgs$user_id ( id INTEGER PRIMARY KEY, group_id INTEGER, feat VARCHAR(16), value INTEGER, group_norm DOUBLE)\n",
            "\n",
            "\n",
            "Creating index correl_field on table:feat$meta_1gram$msgs$user_id, column:group_id \n",
            "\n",
            "\n",
            "\n",
            "\n",
            "Creating index feature on table:feat$meta_1gram$msgs$user_id, column:feat \n",
            "\n",
            "\n",
            "finding messages for 1000 'user_id's\n",
            "WARNING: The table msgs does not have: a PRIMARY key on message_id. Consider adding.\n",
            "         Please check that all messages have a unique message_id, this can significantly impact all downstream analysis\n",
            "WARNING: The table msgs does not have: an index on user_id. Consider adding.\n",
            " [0%] Inserted 423 total ngram rows covering 1 user_ids\n",
            "Messages Read: 5k\n",
            " [5%] Inserted 168371 total ngram rows covering 50 user_ids\n",
            "Messages Read: 10k\n",
            " [10%] Inserted 312049 total ngram rows covering 100 user_ids\n",
            "Messages Read: 15k\n",
            " [15%] Inserted 441234 total ngram rows covering 150 user_ids\n",
            " [20%] Inserted 532745 total ngram rows covering 200 user_ids\n",
            " [25%] Inserted 582174 total ngram rows covering 250 user_ids\n",
            "Messages Read: 20k\n",
            " [30%] Inserted 642663 total ngram rows covering 300 user_ids\n",
            " [35%] Inserted 681322 total ngram rows covering 350 user_ids\n",
            " [40%] Inserted 743276 total ngram rows covering 400 user_ids\n",
            " [45%] Inserted 799722 total ngram rows covering 450 user_ids\n",
            " [50%] Inserted 845084 total ngram rows covering 500 user_ids\n",
            "Messages Read: 25k\n",
            " [55%] Inserted 891613 total ngram rows covering 550 user_ids\n",
            " [60%] Inserted 944308 total ngram rows covering 600 user_ids\n",
            " [65%] Inserted 989187 total ngram rows covering 650 user_ids\n",
            " [70%] Inserted 1044189 total ngram rows covering 700 user_ids\n",
            " [75%] Inserted 1088857 total ngram rows covering 750 user_ids\n",
            " [80%] Inserted 1136799 total ngram rows covering 800 user_ids\n",
            "Messages Read: 30k\n",
            " [85%] Inserted 1173547 total ngram rows covering 850 user_ids\n",
            " [90%] Inserted 1203121 total ngram rows covering 900 user_ids\n",
            " [95%] Inserted 1235410 total ngram rows covering 950 user_ids\n",
            " [100%] Inserted 1264232 total ngram rows covering 1000 user_ids\n",
            "Done Reading / Inserting.\n",
            "Adding Keys (if goes to keycache, then decrease MAX_TO_DISABLE_KEYS or run myisamchk -n).\n",
            "Done\n",
            "\n",
            "-------\n",
            "Settings:\n",
            "\n",
            "Database - tutorial_4\n",
            "Corpus - msgs\n",
            "Group ID - user_id\n",
            "Feature table(s) - feat$1gram$msgs$user_id\n",
            "-------\n",
            "Interface Runtime: 127.84 seconds\n",
            "DLATK exits with success! A good day indeed  ¯\\_(ツ)_/¯.\n"
          ]
        }
      ],
      "source": [
        "!dlatkInterface.py \\\n",
        "  --corpdb {database} \\\n",
        "  --corptable {msgs_table} \\\n",
        "  --correl_field user_id \\\n",
        "  --add_ngrams -n 1"
      ]
    },
    {
      "cell_type": "markdown",
      "metadata": {
        "id": "i4q35C8WnFX6"
      },
      "source": [
        "## 3) Getting to know the Meta tables\n",
        "\n",
        "The above command produced 2 tables:\n",
        "- `feat$1gram$msgs$user_id` - Feature table with feat/word counts grouped by user.\n",
        "\n",
        "This is the one we were expecting. But it also produced this table with meta-features:\n",
        "\n",
        "- `feat$meta_1gram$msgs$user_id` - Summary statistics regarding the above table. Note the word 'meta' in table name.\n",
        "\n",
        "as shown below."
      ]
    },
    {
      "cell_type": "code",
      "execution_count": null,
      "metadata": {
        "colab": {
          "base_uri": "https://localhost:8080/"
        },
        "id": "9WX5Ik08nFX6",
        "outputId": "d154605c-4ce8-4f2e-9c7c-d964dfd0694c"
      },
      "outputs": [
        {
          "output_type": "stream",
          "name": "stdout",
          "text": [
            "+------------------------------+\n",
            "|             Name             |\n",
            "+------------------------------+\n",
            "|   feat$1gram$msgs$user_id    |\n",
            "| feat$meta_1gram$msgs$user_id |\n",
            "|             msgs             |\n",
            "|           outcomes           |\n",
            "+------------------------------+\n"
          ]
        }
      ],
      "source": [
        "tables = %sqlcmd tables\n",
        "print(tables)"
      ]
    },
    {
      "cell_type": "markdown",
      "metadata": {
        "id": "KkPXM1XInFX6"
      },
      "source": [
        "Now let's check their contents."
      ]
    },
    {
      "cell_type": "code",
      "execution_count": null,
      "metadata": {
        "id": "_Z12Ke1qnFX7"
      },
      "outputs": [],
      "source": [
        "meta_1gram_table = \"feat$meta_1gram$msgs$user_id\""
      ]
    },
    {
      "cell_type": "markdown",
      "source": [
        "⚠️ ⚠️ In SQL cells, you need to use double curly braces `{{variable_name}}`. This is because of how `jupysql` interpolates Python variables into your queries."
      ],
      "metadata": {
        "id": "dxPfA5Fozk_Z"
      }
    },
    {
      "cell_type": "code",
      "execution_count": null,
      "metadata": {
        "id": "3OTrRH6pnFX7",
        "outputId": "4af4167b-5f7e-4d59-9c77-29ab49768418",
        "colab": {
          "base_uri": "https://localhost:8080/",
          "height": 271
        }
      },
      "outputs": [
        {
          "output_type": "display_data",
          "data": {
            "text/plain": [
              "Running query in 'sqlite:///sqlite_data/tutorial_4.db?charset=utf8mb4'"
            ],
            "text/html": [
              "<span style=\"None\">Running query in &#x27;sqlite:///sqlite_data/tutorial_4.db?charset=utf8mb4&#x27;</span>"
            ]
          },
          "metadata": {}
        },
        {
          "output_type": "execute_result",
          "data": {
            "text/plain": [
              "+----+----------+------------------+--------------------+--------------------+\n",
              "| id | group_id |       feat       |       value        |     group_norm     |\n",
              "+----+----------+------------------+--------------------+--------------------+\n",
              "| 1  |  28451   | _avg1gramLength  | 3.765490943755958  | 3.765490943755958  |\n",
              "| 2  |  28451   | _avg1gramsPerMsg |  80.6923076923077  |  80.6923076923077  |\n",
              "| 3  |  28451   |   _total1grams   |        1049        |       1049.0       |\n",
              "| 4  |  28451   |    _totalMsgs    |         13         |        13.0        |\n",
              "| 5  |  174357  | _avg1gramLength  | 3.7334360554699537 | 3.7334360554699537 |\n",
              "| 6  |  174357  | _avg1gramsPerMsg | 216.33333333333334 | 216.33333333333334 |\n",
              "| 7  |  174357  |   _total1grams   |        649         |       649.0        |\n",
              "| 8  |  174357  |    _totalMsgs    |         3          |        3.0         |\n",
              "| 9  |  216833  | _avg1gramLength  | 3.602441072928394  | 3.602441072928394  |\n",
              "| 10 |  216833  | _avg1gramsPerMsg | 252.06756756756758 | 252.06756756756758 |\n",
              "+----+----------+------------------+--------------------+--------------------+"
            ],
            "text/html": [
              "<table>\n",
              "    <thead>\n",
              "        <tr>\n",
              "            <th>id</th>\n",
              "            <th>group_id</th>\n",
              "            <th>feat</th>\n",
              "            <th>value</th>\n",
              "            <th>group_norm</th>\n",
              "        </tr>\n",
              "    </thead>\n",
              "    <tbody>\n",
              "        <tr>\n",
              "            <td>1</td>\n",
              "            <td>28451</td>\n",
              "            <td>_avg1gramLength</td>\n",
              "            <td>3.765490943755958</td>\n",
              "            <td>3.765490943755958</td>\n",
              "        </tr>\n",
              "        <tr>\n",
              "            <td>2</td>\n",
              "            <td>28451</td>\n",
              "            <td>_avg1gramsPerMsg</td>\n",
              "            <td>80.6923076923077</td>\n",
              "            <td>80.6923076923077</td>\n",
              "        </tr>\n",
              "        <tr>\n",
              "            <td>3</td>\n",
              "            <td>28451</td>\n",
              "            <td>_total1grams</td>\n",
              "            <td>1049</td>\n",
              "            <td>1049.0</td>\n",
              "        </tr>\n",
              "        <tr>\n",
              "            <td>4</td>\n",
              "            <td>28451</td>\n",
              "            <td>_totalMsgs</td>\n",
              "            <td>13</td>\n",
              "            <td>13.0</td>\n",
              "        </tr>\n",
              "        <tr>\n",
              "            <td>5</td>\n",
              "            <td>174357</td>\n",
              "            <td>_avg1gramLength</td>\n",
              "            <td>3.7334360554699537</td>\n",
              "            <td>3.7334360554699537</td>\n",
              "        </tr>\n",
              "        <tr>\n",
              "            <td>6</td>\n",
              "            <td>174357</td>\n",
              "            <td>_avg1gramsPerMsg</td>\n",
              "            <td>216.33333333333334</td>\n",
              "            <td>216.33333333333334</td>\n",
              "        </tr>\n",
              "        <tr>\n",
              "            <td>7</td>\n",
              "            <td>174357</td>\n",
              "            <td>_total1grams</td>\n",
              "            <td>649</td>\n",
              "            <td>649.0</td>\n",
              "        </tr>\n",
              "        <tr>\n",
              "            <td>8</td>\n",
              "            <td>174357</td>\n",
              "            <td>_totalMsgs</td>\n",
              "            <td>3</td>\n",
              "            <td>3.0</td>\n",
              "        </tr>\n",
              "        <tr>\n",
              "            <td>9</td>\n",
              "            <td>216833</td>\n",
              "            <td>_avg1gramLength</td>\n",
              "            <td>3.602441072928394</td>\n",
              "            <td>3.602441072928394</td>\n",
              "        </tr>\n",
              "        <tr>\n",
              "            <td>10</td>\n",
              "            <td>216833</td>\n",
              "            <td>_avg1gramsPerMsg</td>\n",
              "            <td>252.06756756756758</td>\n",
              "            <td>252.06756756756758</td>\n",
              "        </tr>\n",
              "    </tbody>\n",
              "</table>"
            ]
          },
          "metadata": {},
          "execution_count": 10
        }
      ],
      "source": [
        "%%sql\n",
        "\n",
        "SELECT *\n",
        "FROM {{meta_1gram_table}}\n",
        "ORDER BY group_id\n",
        "LIMIT 10;"
      ]
    },
    {
      "cell_type": "markdown",
      "metadata": {
        "id": "GIYL2WXhnFX7"
      },
      "source": [
        "It has 4 rows per `group_id`, which is `user_id` from table `msgs` because we grouped by `user_id` when extracting 1-grams. With 1000 users in our `msgs` table, we get 4000 rows in this meta table.  \n",
        "\n",
        "For each user we have:\n",
        "- **_avg1gramLength**  \n",
        "  `value` -- Average number of characters (i.e. length) in 1-grams extracted for this user. For example the word 'love' has 4 characters.  \n",
        "  `group_norm` -- Same as `value` (but in `float` data-type) because the group is this user and `value` is for the whole group already.\n",
        "  \n",
        "- **_total1grams**  \n",
        "  `value` -- Total number of 1-grams extracted for this user.  \n",
        "  `group_norm` -- Same as `value` because the group is this user and `value` is for the whole group already.\n",
        "  \n",
        "- **_totalMsgs**  \n",
        "  `value` -- Total number of messages/blogs posted by this user.  \n",
        "  `group_norm` -- Same as `value` because the group is the user and `value` is for the whole group already.\n",
        "  \n",
        "- **_avg1gramsPerMsg**  \n",
        "  `value` -- Average number of 1-grams per message/blog posted by this user.  \n",
        "  `group_norm` -- Same as `value` (but in `float` data-type) because the group is this user and `value` is for the whole group already.\n",
        "  \n",
        "  \n",
        "Why do we need these features? They can be helpful points of comparison, and good for descriptives -- how many words do users users, how long are there, across how many messages -- etc. We'll ingest them later to create descriptive tables.\n",
        "\n",
        "The point of this tutorial is that these meta_tables exist, and what's in it. The below is FYI -- it's so you can track all the details precisely, and reproduce them."
      ]
    },
    {
      "cell_type": "markdown",
      "source": [
        "### Let's reproduce what's in the table:"
      ],
      "metadata": {
        "id": "e8MV-j-ft4Gv"
      }
    },
    {
      "cell_type": "markdown",
      "metadata": {
        "id": "T1eaR6vAnFX7"
      },
      "source": [
        "### 3a) average 1 gram length"
      ]
    },
    {
      "cell_type": "markdown",
      "metadata": {
        "id": "JKBZxwTlnFX7"
      },
      "source": [
        "Now let's try to reproduce the above columns beginning with `_avg1gramLength` which is the average length of 1-grams extracted for this user. We can get this by computing average length of `feat` from 1gram table `feat$1gram$msgs$user_id`. When computing average 1-gram length, we need to account for their frequency as well.\n",
        "\n",
        "This uses the function `LENGTH()` to count the length of a string. `LENGTH('hi')` = 2\n",
        "\n",
        "FYI: In MySQL, the function 🐬🐬🐬 `char_length()` counts the length of strings."
      ]
    },
    {
      "cell_type": "markdown",
      "source": [
        "⚠️ Remember ⚠️ when doing division in SQLite, **always multiply the numerator and denominator by `1.0`** to ensure proper data type casting. `((numerator * 1.0) / (denominator * 1.0))`\n"
      ],
      "metadata": {
        "id": "DvNawues1OJt"
      }
    },
    {
      "cell_type": "code",
      "execution_count": null,
      "metadata": {
        "id": "LdjwEbnfnFX7"
      },
      "outputs": [],
      "source": [
        "feat_1gram_table = 'feat$1gram$msgs$user_id'"
      ]
    },
    {
      "cell_type": "code",
      "source": [
        "%%sql\n",
        "\n",
        "DROP TABLE IF EXISTS avg1gramLength;\n",
        "\n",
        "CREATE TABLE avg1gramLength AS SELECT group_id, ((SUM(LENGTH(feat) * value) * 1.0) / (SUM(value) * 1.0)) AS avg_1gram_len\n",
        "                                FROM {{feat_1gram_table}}\n",
        "                                GROUP BY group_id;"
      ],
      "metadata": {
        "id": "_vNdcJ0htVb2",
        "outputId": "703017cb-9f50-4be2-bf47-a9566abf8bd6",
        "colab": {
          "base_uri": "https://localhost:8080/",
          "height": 34
        }
      },
      "execution_count": null,
      "outputs": [
        {
          "output_type": "display_data",
          "data": {
            "text/plain": [
              "Running query in 'sqlite:///sqlite_data/tutorial_4.db?charset=utf8mb4'"
            ],
            "text/html": [
              "<span style=\"None\">Running query in &#x27;sqlite:///sqlite_data/tutorial_4.db?charset=utf8mb4&#x27;</span>"
            ]
          },
          "metadata": {}
        },
        {
          "output_type": "execute_result",
          "data": {
            "text/plain": [
              "++\n",
              "||\n",
              "++\n",
              "++"
            ],
            "text/html": [
              "<table>\n",
              "    <thead>\n",
              "        <tr>\n",
              "        </tr>\n",
              "    </thead>\n",
              "    <tbody>\n",
              "    </tbody>\n",
              "</table>"
            ]
          },
          "metadata": {},
          "execution_count": 12
        }
      ]
    },
    {
      "cell_type": "markdown",
      "metadata": {
        "id": "_ahoFNtWnFX8"
      },
      "source": [
        "We can merge our result to the meta table and cross-check our result."
      ]
    },
    {
      "cell_type": "code",
      "execution_count": null,
      "metadata": {
        "id": "uDMMdLSinFX8"
      },
      "outputs": [],
      "source": [
        "meta_1gram_table = 'feat$meta_1gram$msgs$user_id'"
      ]
    },
    {
      "cell_type": "code",
      "execution_count": null,
      "metadata": {
        "id": "N6pVFOJWnFX8",
        "outputId": "85bf4d43-f20c-4377-eece-b97abbe48fe0",
        "colab": {
          "base_uri": "https://localhost:8080/",
          "height": 271
        }
      },
      "outputs": [
        {
          "output_type": "display_data",
          "data": {
            "text/plain": [
              "Running query in 'sqlite:///sqlite_data/tutorial_4.db?charset=utf8mb4'"
            ],
            "text/html": [
              "<span style=\"None\">Running query in &#x27;sqlite:///sqlite_data/tutorial_4.db?charset=utf8mb4&#x27;</span>"
            ]
          },
          "metadata": {}
        },
        {
          "output_type": "execute_result",
          "data": {
            "text/plain": [
              "+----------+--------------------+--------------------+--------------------+\n",
              "| group_id |   avg_1gram_len    |       value        |     group_norm     |\n",
              "+----------+--------------------+--------------------+--------------------+\n",
              "|  28451   | 3.7283126787416587 | 3.765490943755958  | 3.765490943755958  |\n",
              "|  174357  | 3.7288135593220337 | 3.7334360554699537 | 3.7334360554699537 |\n",
              "|  216833  | 3.5908969066638075 | 3.602441072928394  | 3.602441072928394  |\n",
              "|  317581  | 3.6020974706971005 | 3.622828285726583  | 3.622828285726583  |\n",
              "|  446275  | 4.044959128065395  | 4.048592188919164  | 4.048592188919164  |\n",
              "|  450169  | 3.611111111111111  | 3.643605870020964  | 3.643605870020964  |\n",
              "|  468786  | 3.6770114942528735 | 3.732183908045977  | 3.732183908045977  |\n",
              "|  477665  | 3.5989177692283634 |  3.60382846955053  |  3.60382846955053  |\n",
              "|  483266  | 3.6283309957924264 | 3.6479663394109396 | 3.6479663394109396 |\n",
              "|  485307  | 3.5434782608695654 | 3.5531400966183573 | 3.5531400966183573 |\n",
              "+----------+--------------------+--------------------+--------------------+"
            ],
            "text/html": [
              "<table>\n",
              "    <thead>\n",
              "        <tr>\n",
              "            <th>group_id</th>\n",
              "            <th>avg_1gram_len</th>\n",
              "            <th>value</th>\n",
              "            <th>group_norm</th>\n",
              "        </tr>\n",
              "    </thead>\n",
              "    <tbody>\n",
              "        <tr>\n",
              "            <td>28451</td>\n",
              "            <td>3.7283126787416587</td>\n",
              "            <td>3.765490943755958</td>\n",
              "            <td>3.765490943755958</td>\n",
              "        </tr>\n",
              "        <tr>\n",
              "            <td>174357</td>\n",
              "            <td>3.7288135593220337</td>\n",
              "            <td>3.7334360554699537</td>\n",
              "            <td>3.7334360554699537</td>\n",
              "        </tr>\n",
              "        <tr>\n",
              "            <td>216833</td>\n",
              "            <td>3.5908969066638075</td>\n",
              "            <td>3.602441072928394</td>\n",
              "            <td>3.602441072928394</td>\n",
              "        </tr>\n",
              "        <tr>\n",
              "            <td>317581</td>\n",
              "            <td>3.6020974706971005</td>\n",
              "            <td>3.622828285726583</td>\n",
              "            <td>3.622828285726583</td>\n",
              "        </tr>\n",
              "        <tr>\n",
              "            <td>446275</td>\n",
              "            <td>4.044959128065395</td>\n",
              "            <td>4.048592188919164</td>\n",
              "            <td>4.048592188919164</td>\n",
              "        </tr>\n",
              "        <tr>\n",
              "            <td>450169</td>\n",
              "            <td>3.611111111111111</td>\n",
              "            <td>3.643605870020964</td>\n",
              "            <td>3.643605870020964</td>\n",
              "        </tr>\n",
              "        <tr>\n",
              "            <td>468786</td>\n",
              "            <td>3.6770114942528735</td>\n",
              "            <td>3.732183908045977</td>\n",
              "            <td>3.732183908045977</td>\n",
              "        </tr>\n",
              "        <tr>\n",
              "            <td>477665</td>\n",
              "            <td>3.5989177692283634</td>\n",
              "            <td>3.60382846955053</td>\n",
              "            <td>3.60382846955053</td>\n",
              "        </tr>\n",
              "        <tr>\n",
              "            <td>483266</td>\n",
              "            <td>3.6283309957924264</td>\n",
              "            <td>3.6479663394109396</td>\n",
              "            <td>3.6479663394109396</td>\n",
              "        </tr>\n",
              "        <tr>\n",
              "            <td>485307</td>\n",
              "            <td>3.5434782608695654</td>\n",
              "            <td>3.5531400966183573</td>\n",
              "            <td>3.5531400966183573</td>\n",
              "        </tr>\n",
              "    </tbody>\n",
              "</table>"
            ]
          },
          "metadata": {},
          "execution_count": 14
        }
      ],
      "source": [
        "%%sql\n",
        "\n",
        "SELECT a.*, b.value, b.group_norm\n",
        "FROM avg1gramLength AS a, {{meta_1gram_table}} AS b\n",
        "WHERE a.group_id = b.group_id AND b.feat = '_avg1gramLength'\n",
        "ORDER BY group_id\n",
        "LIMIT 10;"
      ]
    },
    {
      "cell_type": "markdown",
      "metadata": {
        "id": "bvZ8fbm8nFX8"
      },
      "source": [
        "The differences are because of differences in float-point arithmetic. DLATK likely uses a higher precision format for this computation. Not to worry here."
      ]
    },
    {
      "cell_type": "markdown",
      "metadata": {
        "id": "yFQlceLFnFX8"
      },
      "source": [
        "### 3b) Total 1grams per group\n",
        "\n",
        "We've done this before --\n",
        "\n",
        "Let us reproduce `_total1grams` which is the total number of words by every user. We can get this by summing `value` column in the 1-gram table `feat$1gram$msgs$user_id` grouped by user."
      ]
    },
    {
      "cell_type": "code",
      "execution_count": null,
      "metadata": {
        "id": "WFAX0yY2nFX8"
      },
      "outputs": [],
      "source": [
        "feat_1gram_table = 'feat$1gram$msgs$user_id'"
      ]
    },
    {
      "cell_type": "code",
      "execution_count": null,
      "metadata": {
        "id": "ZgTgFEOBnFX8",
        "outputId": "0a0abb90-0b4a-4ed4-b1ca-c4c5e7813991",
        "colab": {
          "base_uri": "https://localhost:8080/",
          "height": 34
        }
      },
      "outputs": [
        {
          "output_type": "display_data",
          "data": {
            "text/plain": [
              "Running query in 'sqlite:///sqlite_data/tutorial_4.db?charset=utf8mb4'"
            ],
            "text/html": [
              "<span style=\"None\">Running query in &#x27;sqlite:///sqlite_data/tutorial_4.db?charset=utf8mb4&#x27;</span>"
            ]
          },
          "metadata": {}
        },
        {
          "output_type": "execute_result",
          "data": {
            "text/plain": [
              "++\n",
              "||\n",
              "++\n",
              "++"
            ],
            "text/html": [
              "<table>\n",
              "    <thead>\n",
              "        <tr>\n",
              "        </tr>\n",
              "    </thead>\n",
              "    <tbody>\n",
              "    </tbody>\n",
              "</table>"
            ]
          },
          "metadata": {},
          "execution_count": 16
        }
      ],
      "source": [
        "%%sql\n",
        "\n",
        "DROP TABLE IF EXISTS total1grams;\n",
        "\n",
        "CREATE TABLE total1grams AS SELECT group_id, SUM(value) AS n_1grams\n",
        "                             FROM {{feat_1gram_table}}\n",
        "                             GROUP BY group_id;"
      ]
    },
    {
      "cell_type": "markdown",
      "metadata": {
        "id": "PmLEw-O5nFX8"
      },
      "source": [
        "Like last time, we can merge our result to the meta table and cross-check our result."
      ]
    },
    {
      "cell_type": "code",
      "execution_count": null,
      "metadata": {
        "id": "uVg7gTLJnFX8"
      },
      "outputs": [],
      "source": [
        "meta_1gram_table = 'feat$meta_1gram$msgs$user_id'"
      ]
    },
    {
      "cell_type": "code",
      "execution_count": null,
      "metadata": {
        "id": "tz94rJD-nFX8",
        "outputId": "f847119f-9808-4d49-c11f-bc6fc39ede6a",
        "colab": {
          "base_uri": "https://localhost:8080/",
          "height": 271
        }
      },
      "outputs": [
        {
          "output_type": "display_data",
          "data": {
            "text/plain": [
              "Running query in 'sqlite:///sqlite_data/tutorial_4.db?charset=utf8mb4'"
            ],
            "text/html": [
              "<span style=\"None\">Running query in &#x27;sqlite:///sqlite_data/tutorial_4.db?charset=utf8mb4&#x27;</span>"
            ]
          },
          "metadata": {}
        },
        {
          "output_type": "execute_result",
          "data": {
            "text/plain": [
              "+----------+----------+-------+------------+\n",
              "| group_id | n_1grams | value | group_norm |\n",
              "+----------+----------+-------+------------+\n",
              "|  28451   |   1049   |  1049 |   1049.0   |\n",
              "|  174357  |   649    |  649  |   649.0    |\n",
              "|  216833  |  55959   | 55959 |  55959.0   |\n",
              "|  317581  |  69703   | 69703 |  69703.0   |\n",
              "|  446275  |   2202   |  2202 |   2202.0   |\n",
              "|  450169  |   954    |  954  |   954.0    |\n",
              "|  468786  |   870    |  870  |   870.0    |\n",
              "|  477665  |  31971   | 31971 |  31971.0   |\n",
              "|  483266  |   713    |  713  |   713.0    |\n",
              "|  485307  |   1656   |  1656 |   1656.0   |\n",
              "+----------+----------+-------+------------+"
            ],
            "text/html": [
              "<table>\n",
              "    <thead>\n",
              "        <tr>\n",
              "            <th>group_id</th>\n",
              "            <th>n_1grams</th>\n",
              "            <th>value</th>\n",
              "            <th>group_norm</th>\n",
              "        </tr>\n",
              "    </thead>\n",
              "    <tbody>\n",
              "        <tr>\n",
              "            <td>28451</td>\n",
              "            <td>1049</td>\n",
              "            <td>1049</td>\n",
              "            <td>1049.0</td>\n",
              "        </tr>\n",
              "        <tr>\n",
              "            <td>174357</td>\n",
              "            <td>649</td>\n",
              "            <td>649</td>\n",
              "            <td>649.0</td>\n",
              "        </tr>\n",
              "        <tr>\n",
              "            <td>216833</td>\n",
              "            <td>55959</td>\n",
              "            <td>55959</td>\n",
              "            <td>55959.0</td>\n",
              "        </tr>\n",
              "        <tr>\n",
              "            <td>317581</td>\n",
              "            <td>69703</td>\n",
              "            <td>69703</td>\n",
              "            <td>69703.0</td>\n",
              "        </tr>\n",
              "        <tr>\n",
              "            <td>446275</td>\n",
              "            <td>2202</td>\n",
              "            <td>2202</td>\n",
              "            <td>2202.0</td>\n",
              "        </tr>\n",
              "        <tr>\n",
              "            <td>450169</td>\n",
              "            <td>954</td>\n",
              "            <td>954</td>\n",
              "            <td>954.0</td>\n",
              "        </tr>\n",
              "        <tr>\n",
              "            <td>468786</td>\n",
              "            <td>870</td>\n",
              "            <td>870</td>\n",
              "            <td>870.0</td>\n",
              "        </tr>\n",
              "        <tr>\n",
              "            <td>477665</td>\n",
              "            <td>31971</td>\n",
              "            <td>31971</td>\n",
              "            <td>31971.0</td>\n",
              "        </tr>\n",
              "        <tr>\n",
              "            <td>483266</td>\n",
              "            <td>713</td>\n",
              "            <td>713</td>\n",
              "            <td>713.0</td>\n",
              "        </tr>\n",
              "        <tr>\n",
              "            <td>485307</td>\n",
              "            <td>1656</td>\n",
              "            <td>1656</td>\n",
              "            <td>1656.0</td>\n",
              "        </tr>\n",
              "    </tbody>\n",
              "</table>"
            ]
          },
          "metadata": {},
          "execution_count": 18
        }
      ],
      "source": [
        "%%sql\n",
        "\n",
        "SELECT a.*, b.value, b.group_norm\n",
        "FROM total1grams AS a, {{meta_1gram_table}} AS b\n",
        "WHERE a.group_id = b.group_id AND b.feat = '_total1grams'\n",
        "ORDER BY group_id\n",
        "LIMIT 10;"
      ]
    },
    {
      "cell_type": "markdown",
      "metadata": {
        "id": "pm4ksHFJnFX8"
      },
      "source": [
        "### 3c) Total messages per user"
      ]
    },
    {
      "cell_type": "markdown",
      "metadata": {
        "id": "VJWqgkL9nFX8"
      },
      "source": [
        "Now, let's reproduce `_totalMsgs` which is the total number of messages/blogs by every user. We can get this by counting the number of entries in table `msgs` grouped by user."
      ]
    },
    {
      "cell_type": "markdown",
      "metadata": {
        "id": "kB5Pf0S7nFX8"
      },
      "source": [
        "#### 👩‍🔬💻 Exercise\n",
        "\n",
        "Can you create a new table `totalMsgs` with this information?"
      ]
    },
    {
      "cell_type": "code",
      "execution_count": null,
      "metadata": {
        "id": "RcC_ncvXnFX9"
      },
      "outputs": [],
      "source": [
        "msgs_table = 'msgs'"
      ]
    },
    {
      "cell_type": "code",
      "execution_count": null,
      "metadata": {
        "id": "2ia-REW2nFX9",
        "outputId": "bfd2a673-6138-43f7-ac8b-9588bcc1063a",
        "colab": {
          "base_uri": "https://localhost:8080/",
          "height": 34
        }
      },
      "outputs": [
        {
          "output_type": "display_data",
          "data": {
            "text/plain": [
              "Running query in 'sqlite:///sqlite_data/tutorial_4.db?charset=utf8mb4'"
            ],
            "text/html": [
              "<span style=\"None\">Running query in &#x27;sqlite:///sqlite_data/tutorial_4.db?charset=utf8mb4&#x27;</span>"
            ]
          },
          "metadata": {}
        },
        {
          "output_type": "execute_result",
          "data": {
            "text/plain": [
              "++\n",
              "||\n",
              "++\n",
              "++"
            ],
            "text/html": [
              "<table>\n",
              "    <thead>\n",
              "        <tr>\n",
              "        </tr>\n",
              "    </thead>\n",
              "    <tbody>\n",
              "    </tbody>\n",
              "</table>"
            ]
          },
          "metadata": {},
          "execution_count": 20
        }
      ],
      "source": [
        "%%sql\n",
        "\n",
        "DROP TABLE IF EXISTS totalMsgs;\n",
        "\n",
        "CREATE TABLE totalMsgs AS SELECT user_id, COUNT(*) AS n_msgs\n",
        "                           FROM {{msgs_table}}\n",
        "                           GROUP BY user_id;"
      ]
    },
    {
      "cell_type": "markdown",
      "metadata": {
        "id": "xOw84wmKnFX9"
      },
      "source": [
        "Then merge the result to the meta table to cross-check our result."
      ]
    },
    {
      "cell_type": "code",
      "execution_count": null,
      "metadata": {
        "id": "gjjzHMignFX9"
      },
      "outputs": [],
      "source": [
        "meta_1gram_table = 'feat$meta_1gram$msgs$user_id'"
      ]
    },
    {
      "cell_type": "code",
      "execution_count": null,
      "metadata": {
        "id": "M9Jo3_3enFX9",
        "outputId": "8864581f-8048-4e87-e904-70757a0e36ca",
        "colab": {
          "base_uri": "https://localhost:8080/",
          "height": 271
        }
      },
      "outputs": [
        {
          "output_type": "display_data",
          "data": {
            "text/plain": [
              "Running query in 'sqlite:///sqlite_data/tutorial_4.db?charset=utf8mb4'"
            ],
            "text/html": [
              "<span style=\"None\">Running query in &#x27;sqlite:///sqlite_data/tutorial_4.db?charset=utf8mb4&#x27;</span>"
            ]
          },
          "metadata": {}
        },
        {
          "output_type": "execute_result",
          "data": {
            "text/plain": [
              "+---------+--------+-------+------------+\n",
              "| user_id | n_msgs | value | group_norm |\n",
              "+---------+--------+-------+------------+\n",
              "|  28451  |   13   |   13  |    13.0    |\n",
              "|  174357 |   3    |   3   |    3.0     |\n",
              "|  216833 |  222   |  222  |   222.0    |\n",
              "|  317581 |  619   |  619  |   619.0    |\n",
              "|  446275 |   8    |   8   |    8.0     |\n",
              "|  450169 |   14   |   14  |    14.0    |\n",
              "|  468786 |   19   |   19  |    19.0    |\n",
              "|  477665 |   97   |   97  |    97.0    |\n",
              "|  483266 |   6    |   6   |    6.0     |\n",
              "|  485307 |   12   |   12  |    12.0    |\n",
              "+---------+--------+-------+------------+"
            ],
            "text/html": [
              "<table>\n",
              "    <thead>\n",
              "        <tr>\n",
              "            <th>user_id</th>\n",
              "            <th>n_msgs</th>\n",
              "            <th>value</th>\n",
              "            <th>group_norm</th>\n",
              "        </tr>\n",
              "    </thead>\n",
              "    <tbody>\n",
              "        <tr>\n",
              "            <td>28451</td>\n",
              "            <td>13</td>\n",
              "            <td>13</td>\n",
              "            <td>13.0</td>\n",
              "        </tr>\n",
              "        <tr>\n",
              "            <td>174357</td>\n",
              "            <td>3</td>\n",
              "            <td>3</td>\n",
              "            <td>3.0</td>\n",
              "        </tr>\n",
              "        <tr>\n",
              "            <td>216833</td>\n",
              "            <td>222</td>\n",
              "            <td>222</td>\n",
              "            <td>222.0</td>\n",
              "        </tr>\n",
              "        <tr>\n",
              "            <td>317581</td>\n",
              "            <td>619</td>\n",
              "            <td>619</td>\n",
              "            <td>619.0</td>\n",
              "        </tr>\n",
              "        <tr>\n",
              "            <td>446275</td>\n",
              "            <td>8</td>\n",
              "            <td>8</td>\n",
              "            <td>8.0</td>\n",
              "        </tr>\n",
              "        <tr>\n",
              "            <td>450169</td>\n",
              "            <td>14</td>\n",
              "            <td>14</td>\n",
              "            <td>14.0</td>\n",
              "        </tr>\n",
              "        <tr>\n",
              "            <td>468786</td>\n",
              "            <td>19</td>\n",
              "            <td>19</td>\n",
              "            <td>19.0</td>\n",
              "        </tr>\n",
              "        <tr>\n",
              "            <td>477665</td>\n",
              "            <td>97</td>\n",
              "            <td>97</td>\n",
              "            <td>97.0</td>\n",
              "        </tr>\n",
              "        <tr>\n",
              "            <td>483266</td>\n",
              "            <td>6</td>\n",
              "            <td>6</td>\n",
              "            <td>6.0</td>\n",
              "        </tr>\n",
              "        <tr>\n",
              "            <td>485307</td>\n",
              "            <td>12</td>\n",
              "            <td>12</td>\n",
              "            <td>12.0</td>\n",
              "        </tr>\n",
              "    </tbody>\n",
              "</table>"
            ]
          },
          "metadata": {},
          "execution_count": 22
        }
      ],
      "source": [
        "%%sql\n",
        "\n",
        "SELECT a.*, b.value, b.group_norm\n",
        "FROM totalMsgs AS a, {{meta_1gram_table}} AS b\n",
        "WHERE a.user_id = b.group_id AND b.feat = '_totalMsgs'\n",
        "ORDER BY user_id\n",
        "LIMIT 10;"
      ]
    },
    {
      "cell_type": "markdown",
      "metadata": {
        "id": "MzquV8OwnFX9"
      },
      "source": [
        "### 3d) Average 1grams / message"
      ]
    },
    {
      "cell_type": "markdown",
      "metadata": {
        "id": "fbm10TS2nFX9"
      },
      "source": [
        "Let us reproduce **_avg1gramsPerMsg** which is the average number of 1-grams extracted across all messages/blogs grouped by a user. We can created tables:\n",
        "- *total1grams* with total number of 1grams grouped by user\n",
        "- *totalMsgs* with total number of messages grouped by user\n",
        "\n",
        "The average number of 1-grams per message is simply the ratio:\n",
        "\\begin{equation}\n",
        "\\frac{total1grams.n\\_1grams}{totalMsgs.n\\_msgs}\n",
        "\\end{equation}\n",
        "\n",
        "For that we merge the tables _total1grams_ and _totalMsgs_ and get the ratio."
      ]
    },
    {
      "cell_type": "code",
      "execution_count": null,
      "metadata": {
        "id": "wtS8T_U0nFX-",
        "outputId": "5ce63abb-8ab7-47a1-ceb7-302a06da2f21",
        "colab": {
          "base_uri": "https://localhost:8080/",
          "height": 34
        }
      },
      "outputs": [
        {
          "output_type": "display_data",
          "data": {
            "text/plain": [
              "Running query in 'sqlite:///sqlite_data/tutorial_4.db?charset=utf8mb4'"
            ],
            "text/html": [
              "<span style=\"None\">Running query in &#x27;sqlite:///sqlite_data/tutorial_4.db?charset=utf8mb4&#x27;</span>"
            ]
          },
          "metadata": {}
        },
        {
          "output_type": "execute_result",
          "data": {
            "text/plain": [
              "++\n",
              "||\n",
              "++\n",
              "++"
            ],
            "text/html": [
              "<table>\n",
              "    <thead>\n",
              "        <tr>\n",
              "        </tr>\n",
              "    </thead>\n",
              "    <tbody>\n",
              "    </tbody>\n",
              "</table>"
            ]
          },
          "metadata": {},
          "execution_count": 23
        }
      ],
      "source": [
        "%%sql\n",
        "\n",
        "DROP TABLE IF EXISTS avg1gramsPerMsg;\n",
        "\n",
        "CREATE TABLE avg1gramsPerMsg AS SELECT b.user_id, (n_1grams * 1.0)/(n_msgs * 1.0) AS avg_1grams_per_msg\n",
        "                                FROM total1grams AS a, totalMsgs AS b\n",
        "                                WHERE a.group_id = b.user_id;"
      ]
    },
    {
      "cell_type": "markdown",
      "metadata": {
        "id": "xVZapZdtnFX-"
      },
      "source": [
        "We double-check our result by merging to the meta table."
      ]
    },
    {
      "cell_type": "code",
      "execution_count": null,
      "metadata": {
        "id": "GyVkfGHfnFX-",
        "outputId": "8bed20cd-a324-44ab-949a-5a0790163f7a",
        "colab": {
          "base_uri": "https://localhost:8080/",
          "height": 271
        }
      },
      "outputs": [
        {
          "output_type": "display_data",
          "data": {
            "text/plain": [
              "Running query in 'sqlite:///sqlite_data/tutorial_4.db?charset=utf8mb4'"
            ],
            "text/html": [
              "<span style=\"None\">Running query in &#x27;sqlite:///sqlite_data/tutorial_4.db?charset=utf8mb4&#x27;</span>"
            ]
          },
          "metadata": {}
        },
        {
          "output_type": "execute_result",
          "data": {
            "text/plain": [
              "+---------+--------------------+--------------------+--------------------+\n",
              "| user_id | avg_1grams_per_msg |       value        |     group_norm     |\n",
              "+---------+--------------------+--------------------+--------------------+\n",
              "|  28451  |  80.6923076923077  |  80.6923076923077  |  80.6923076923077  |\n",
              "|  174357 | 216.33333333333334 | 216.33333333333334 | 216.33333333333334 |\n",
              "|  216833 | 252.06756756756758 | 252.06756756756758 | 252.06756756756758 |\n",
              "|  317581 | 112.60581583198707 | 112.60581583198707 | 112.60581583198707 |\n",
              "|  446275 |       275.25       |       275.25       |       275.25       |\n",
              "|  450169 | 68.14285714285714  | 68.14285714285714  | 68.14285714285714  |\n",
              "|  468786 | 45.78947368421053  | 45.78947368421053  | 45.78947368421053  |\n",
              "|  477665 | 329.5979381443299  | 329.5979381443299  | 329.5979381443299  |\n",
              "|  483266 | 118.83333333333333 | 118.83333333333333 | 118.83333333333333 |\n",
              "|  485307 |       138.0        |        138         |       138.0        |\n",
              "+---------+--------------------+--------------------+--------------------+"
            ],
            "text/html": [
              "<table>\n",
              "    <thead>\n",
              "        <tr>\n",
              "            <th>user_id</th>\n",
              "            <th>avg_1grams_per_msg</th>\n",
              "            <th>value</th>\n",
              "            <th>group_norm</th>\n",
              "        </tr>\n",
              "    </thead>\n",
              "    <tbody>\n",
              "        <tr>\n",
              "            <td>28451</td>\n",
              "            <td>80.6923076923077</td>\n",
              "            <td>80.6923076923077</td>\n",
              "            <td>80.6923076923077</td>\n",
              "        </tr>\n",
              "        <tr>\n",
              "            <td>174357</td>\n",
              "            <td>216.33333333333334</td>\n",
              "            <td>216.33333333333334</td>\n",
              "            <td>216.33333333333334</td>\n",
              "        </tr>\n",
              "        <tr>\n",
              "            <td>216833</td>\n",
              "            <td>252.06756756756758</td>\n",
              "            <td>252.06756756756758</td>\n",
              "            <td>252.06756756756758</td>\n",
              "        </tr>\n",
              "        <tr>\n",
              "            <td>317581</td>\n",
              "            <td>112.60581583198707</td>\n",
              "            <td>112.60581583198707</td>\n",
              "            <td>112.60581583198707</td>\n",
              "        </tr>\n",
              "        <tr>\n",
              "            <td>446275</td>\n",
              "            <td>275.25</td>\n",
              "            <td>275.25</td>\n",
              "            <td>275.25</td>\n",
              "        </tr>\n",
              "        <tr>\n",
              "            <td>450169</td>\n",
              "            <td>68.14285714285714</td>\n",
              "            <td>68.14285714285714</td>\n",
              "            <td>68.14285714285714</td>\n",
              "        </tr>\n",
              "        <tr>\n",
              "            <td>468786</td>\n",
              "            <td>45.78947368421053</td>\n",
              "            <td>45.78947368421053</td>\n",
              "            <td>45.78947368421053</td>\n",
              "        </tr>\n",
              "        <tr>\n",
              "            <td>477665</td>\n",
              "            <td>329.5979381443299</td>\n",
              "            <td>329.5979381443299</td>\n",
              "            <td>329.5979381443299</td>\n",
              "        </tr>\n",
              "        <tr>\n",
              "            <td>483266</td>\n",
              "            <td>118.83333333333333</td>\n",
              "            <td>118.83333333333333</td>\n",
              "            <td>118.83333333333333</td>\n",
              "        </tr>\n",
              "        <tr>\n",
              "            <td>485307</td>\n",
              "            <td>138.0</td>\n",
              "            <td>138</td>\n",
              "            <td>138.0</td>\n",
              "        </tr>\n",
              "    </tbody>\n",
              "</table>"
            ]
          },
          "metadata": {},
          "execution_count": 25
        }
      ],
      "source": [
        "%%sql\n",
        "\n",
        "SELECT a.*, b.value, b.group_norm\n",
        "FROM avg1gramsPerMsg AS a, {{meta_1gram_table}} AS b\n",
        "WHERE a.user_id = b.group_id AND b.feat = '_avg1gramsPerMsg'\n",
        "ORDER BY user_id\n",
        "LIMIT 10;"
      ]
    },
    {
      "cell_type": "markdown",
      "metadata": {
        "id": "3WvVX6_bnFX-"
      },
      "source": [
        "## 4) Computing basic measures of language complexity\n",
        "\n",
        "With average `_avg1gramLength` and `_avg1gramsPerMsg` from the feature tables we already have two markers of language complexity.\n",
        "\n",
        "Let's compute two other measures of language complexity -\n",
        "\n",
        "- The Type-Token ratio (in SQL), and the\n",
        "- Flesch-Kincaid grade level (using DLATK)"
      ]
    },
    {
      "cell_type": "markdown",
      "metadata": {
        "id": "cTaBT_gxnFX-"
      },
      "source": [
        "### 4a) The way that's too simple: Type-Token ratio\n",
        "\n",
        "The Type-Token ratio is a good measure of lexical diversity in the corpus. A very small Type-Token ratio means that a small number of unique words are repeated many times, whereas a larger ratio means that the corpus contains a large number unique words but repeated only a few times.\n",
        "\n",
        "So, how do we calculate this using MySQL? Let's do this step by step. Firstly let's think of how do we get the distinct number of token types in the corpora -- we use the 1gram table for this `feat$1gram$msgs$user_id` as shown below.\n",
        "\n",
        "### ⚠️ DISCLAIMER -- longer texts (by orders of magnitude) have higher TTRs -- follows from language statistics. It's a very crude measure."
      ]
    },
    {
      "cell_type": "code",
      "execution_count": null,
      "metadata": {
        "id": "H9dsaD97nFX-",
        "outputId": "ddcbc457-0cd8-4d33-9235-c5dd562a48ce",
        "colab": {
          "base_uri": "https://localhost:8080/",
          "height": 79
        }
      },
      "outputs": [
        {
          "output_type": "display_data",
          "data": {
            "text/plain": [
              "Running query in 'sqlite:///sqlite_data/tutorial_4.db?charset=utf8mb4'"
            ],
            "text/html": [
              "<span style=\"None\">Running query in &#x27;sqlite:///sqlite_data/tutorial_4.db?charset=utf8mb4&#x27;</span>"
            ]
          },
          "metadata": {}
        },
        {
          "output_type": "execute_result",
          "data": {
            "text/plain": [
              "+--------+\n",
              "| types  |\n",
              "+--------+\n",
              "| 137687 |\n",
              "+--------+"
            ],
            "text/html": [
              "<table>\n",
              "    <thead>\n",
              "        <tr>\n",
              "            <th>types</th>\n",
              "        </tr>\n",
              "    </thead>\n",
              "    <tbody>\n",
              "        <tr>\n",
              "            <td>137687</td>\n",
              "        </tr>\n",
              "    </tbody>\n",
              "</table>"
            ]
          },
          "metadata": {},
          "execution_count": 26
        }
      ],
      "source": [
        "%%sql\n",
        "\n",
        "SELECT COUNT(DISTINCT feat) AS types\n",
        "FROM feat$1gram$msgs$user_id;"
      ]
    },
    {
      "cell_type": "markdown",
      "metadata": {
        "id": "C0G-GGbAnFX-"
      },
      "source": [
        "Now let's get the number of times all these types are instantiated, that is, how many token occurrences we have in the corpus.\n",
        "\n",
        "We can use either the meta 1gram table `feat$meta_1gram$msgs$user_id` or the 1gram feature table for this. Let's do it both ways.\n",
        "\n",
        "Using the meta table:"
      ]
    },
    {
      "cell_type": "code",
      "execution_count": null,
      "metadata": {
        "id": "GWDf_AzQnFX-",
        "outputId": "093df9b9-0480-451f-f587-89fbf02e2f2f",
        "colab": {
          "base_uri": "https://localhost:8080/",
          "height": 79
        }
      },
      "outputs": [
        {
          "output_type": "display_data",
          "data": {
            "text/plain": [
              "Running query in 'sqlite:///sqlite_data/tutorial_4.db?charset=utf8mb4'"
            ],
            "text/html": [
              "<span style=\"None\">Running query in &#x27;sqlite:///sqlite_data/tutorial_4.db?charset=utf8mb4&#x27;</span>"
            ]
          },
          "metadata": {}
        },
        {
          "output_type": "execute_result",
          "data": {
            "text/plain": [
              "+------------+\n",
              "| SUM(value) |\n",
              "+------------+\n",
              "|  7764052   |\n",
              "+------------+"
            ],
            "text/html": [
              "<table>\n",
              "    <thead>\n",
              "        <tr>\n",
              "            <th>SUM(value)</th>\n",
              "        </tr>\n",
              "    </thead>\n",
              "    <tbody>\n",
              "        <tr>\n",
              "            <td>7764052</td>\n",
              "        </tr>\n",
              "    </tbody>\n",
              "</table>"
            ]
          },
          "metadata": {},
          "execution_count": 27
        }
      ],
      "source": [
        "%%sql\n",
        "\n",
        "SELECT SUM(value)\n",
        "FROM feat$meta_1gram$msgs$user_id\n",
        "WHERE feat = '_total1grams';"
      ]
    },
    {
      "cell_type": "code",
      "execution_count": null,
      "metadata": {
        "id": "Jhgb_UsznFX-",
        "outputId": "1877a802-07f9-45f2-f4ab-8855e02faf45",
        "colab": {
          "base_uri": "https://localhost:8080/",
          "height": 79
        }
      },
      "outputs": [
        {
          "output_type": "display_data",
          "data": {
            "text/plain": [
              "Running query in 'sqlite:///sqlite_data/tutorial_4.db?charset=utf8mb4'"
            ],
            "text/html": [
              "<span style=\"None\">Running query in &#x27;sqlite:///sqlite_data/tutorial_4.db?charset=utf8mb4&#x27;</span>"
            ]
          },
          "metadata": {}
        },
        {
          "output_type": "execute_result",
          "data": {
            "text/plain": [
              "+------------+\n",
              "| SUM(value) |\n",
              "+------------+\n",
              "|  7764052   |\n",
              "+------------+"
            ],
            "text/html": [
              "<table>\n",
              "    <thead>\n",
              "        <tr>\n",
              "            <th>SUM(value)</th>\n",
              "        </tr>\n",
              "    </thead>\n",
              "    <tbody>\n",
              "        <tr>\n",
              "            <td>7764052</td>\n",
              "        </tr>\n",
              "    </tbody>\n",
              "</table>"
            ]
          },
          "metadata": {},
          "execution_count": 28
        }
      ],
      "source": [
        "%%sql\n",
        "\n",
        "SELECT SUM(value)\n",
        "FROM feat$1gram$msgs$user_id;"
      ]
    },
    {
      "cell_type": "markdown",
      "metadata": {
        "id": "FXvPXGlVnFX-"
      },
      "source": [
        "The concur! What are the odds! 7.7 million words."
      ]
    },
    {
      "cell_type": "markdown",
      "metadata": {
        "id": "_35sKg_TnFX-"
      },
      "source": [
        "And finally the type-token ratio with some SQL napkin math. The world's most over-powered calculator! (Remember to multiply the numerator and denominator by `1.0`!)"
      ]
    },
    {
      "cell_type": "code",
      "source": [
        "%%sql\n",
        "\n",
        "SELECT (137592 * 1.0) / (7772391 * 1.0) AS TTR;"
      ],
      "metadata": {
        "id": "Va8WTJVJwY_i",
        "outputId": "17ca8ad8-bb31-49de-e18f-625786efd85b",
        "colab": {
          "base_uri": "https://localhost:8080/",
          "height": 79
        }
      },
      "execution_count": null,
      "outputs": [
        {
          "output_type": "display_data",
          "data": {
            "text/plain": [
              "Running query in 'sqlite:///sqlite_data/tutorial_4.db?charset=utf8mb4'"
            ],
            "text/html": [
              "<span style=\"None\">Running query in &#x27;sqlite:///sqlite_data/tutorial_4.db?charset=utf8mb4&#x27;</span>"
            ]
          },
          "metadata": {}
        },
        {
          "output_type": "execute_result",
          "data": {
            "text/plain": [
              "+----------------------+\n",
              "|         TTR          |\n",
              "+----------------------+\n",
              "| 0.017702660609843227 |\n",
              "+----------------------+"
            ],
            "text/html": [
              "<table>\n",
              "    <thead>\n",
              "        <tr>\n",
              "            <th>TTR</th>\n",
              "        </tr>\n",
              "    </thead>\n",
              "    <tbody>\n",
              "        <tr>\n",
              "            <td>0.017702660609843227</td>\n",
              "        </tr>\n",
              "    </tbody>\n",
              "</table>"
            ]
          },
          "metadata": {},
          "execution_count": 32
        }
      ]
    },
    {
      "cell_type": "markdown",
      "metadata": {
        "id": "iLFvAOpYnFX-"
      },
      "source": [
        "How do we interpret this? (from https://lexically.net/downloads/version7/HTML/type_token_ratio_proc.html)\n",
        "\n",
        "#### Problems with TTR\n",
        "\n",
        "But this type/token ratio (TTR) varies very widely in accordance with the length of the text -- or corpus of texts -- which is being studied. A 1,000 word article might have a TTR of 40%; a shorter one might reach 70%; **4 million words will probably give a type/token ratio of about 2%, and so on**. Such type/token information is rather meaningless in most cases, though it is supplied in a WordList statistics display. The conventional TTR is informative, of course, if you're dealing with a corpus comprising lots of equal-sized text segments (...). But in the real world, especially if your research focus is the text as opposed to the language, you will probably be dealing with texts of different lengths and the conventional TTR will not help you much."
      ]
    },
    {
      "cell_type": "markdown",
      "metadata": {
        "id": "gBkk-IKUnFX-"
      },
      "source": [
        "FYI: We mostly did this as an exercise."
      ]
    },
    {
      "cell_type": "markdown",
      "metadata": {
        "id": "DwGT_8sDnFX-"
      },
      "source": [
        "### 4b) The better way: Flesch-Kincaid grade level\n",
        "\n",
        "The \"Flesch–Kincaid Grade Level Formula\" presents a score as a U.S. grade level, making it easier for teachers, parents, librarians, and others to judge the readability level of various books and texts. It can also mean the number of years of education generally required to understand this text, relevant when the formula results in a number greater than 10. The grade level is calculated with the following formula:\n",
        "\n",
        "\\begin{equation}\n",
        "0.39 (\\frac{\\text{total words}}{\\text{total sentences}}) + 11.8 (\\frac{\\text{total syllables}}{\\text{total words}}) - 15.59\n",
        "\\end{equation}\n",
        "\n",
        "DLATK provides a convenient flag to calculate Flesch–Kincaid Grade Level for the text per group (based on the `--correl_field` being either `user_id` or `message_id`).\n",
        "\n",
        "Let's try to get the score for every user (`user_id`) in the dataset."
      ]
    },
    {
      "cell_type": "code",
      "source": [
        "database = \"tutorial_4\"\n",
        "msgs_table = \"msgs\""
      ],
      "metadata": {
        "id": "3IvZXz4ez0OJ"
      },
      "execution_count": null,
      "outputs": []
    },
    {
      "cell_type": "code",
      "execution_count": null,
      "metadata": {
        "id": "cwg_VKfLnFX_",
        "outputId": "9f591e29-def8-4fd5-b647-a626b6f0b836",
        "colab": {
          "base_uri": "https://localhost:8080/"
        }
      },
      "outputs": [
        {
          "output_type": "stream",
          "name": "stdout",
          "text": [
            "\n",
            "\n",
            "TopicExtractor: gensim Mallet wrapper unavailable, using Mallet directly.\n",
            "\n",
            "-----\n",
            "DLATK Interface Initiated: 2025-04-10 16:26:20\n",
            "-----\n",
            "Connecting to SQLite database: /content/sqlite_data/tutorial_4\n",
            "query: PRAGMA table_info(msgs)\n",
            "SQL Query: DROP TABLE IF EXISTS feat$flkin$msgs$user_id\n",
            "SQL Query: CREATE TABLE feat$flkin$msgs$user_id ( id INTEGER PRIMARY KEY, group_id INTEGER, feat VARCHAR(16), value FLOAT, group_norm DOUBLE)\n",
            "\n",
            "\n",
            "Creating index correl_field on table:feat$flkin$msgs$user_id, column:group_id \n",
            "\n",
            "\n",
            "SQL Query: CREATE INDEX correl_field$flkin$msgs$user_id ON feat$flkin$msgs$user_id (group_id)\n",
            "\n",
            "\n",
            "Creating index feature on table:feat$flkin$msgs$user_id, column:feat \n",
            "\n",
            "\n",
            "SQL Query: CREATE INDEX feature$flkin$msgs$user_id ON feat$flkin$msgs$user_id (feat)\n",
            "finding messages for 1000 'user_id's\n",
            "WARNING: The table msgs does not have: a PRIMARY key on message_id. Consider adding.\n",
            "         Please check that all messages have a unique message_id, this can significantly impact all downstream analysis\n",
            "WARNING: The table msgs does not have: an index on user_id. Consider adding.\n",
            "Messages Read: 5k\n",
            "Messages Read: 10k\n",
            "Messages Read: 15k\n",
            "Messages Read: 20k\n",
            "Messages Read: 25k\n",
            "Messages Read: 30k\n",
            "Done Reading / Inserting.\n",
            "Adding Keys (if goes to keycache, then decrease MAX_TO_DISABLE_KEYS or run myisamchk -n).\n",
            "Done\n",
            "\n",
            "-------\n",
            "Settings:\n",
            "\n",
            "Database - tutorial_4\n",
            "Corpus - msgs\n",
            "Group ID - user_id\n",
            "Feature table(s) - feat$flkin$msgs$user_id\n",
            "-------\n",
            "Interface Runtime: 53.22 seconds\n",
            "DLATK exits with success! A good day indeed  ¯\\_(ツ)_/¯.\n"
          ]
        }
      ],
      "source": [
        "!dlatkInterface.py \\\n",
        "    --corpdb {database} \\\n",
        "    --corptable {msgs_table} \\\n",
        "    --correl_field user_id \\\n",
        "    --add_fleschkincaid"
      ]
    },
    {
      "cell_type": "markdown",
      "metadata": {
        "id": "4Y8ew-MKnFX_"
      },
      "source": [
        "This creates a new table named `feat$flkin$msgs$user_id` with a unique `user_id` per row (as `group_id`) and its associated Flesch–Kincaid Grade Level score in the `group_norm` field.\n",
        "\n",
        "Let's look at the table then."
      ]
    },
    {
      "cell_type": "code",
      "execution_count": null,
      "metadata": {
        "id": "mycH2_hUnFX_"
      },
      "outputs": [],
      "source": [
        "flkin_table = 'feat$flkin$msgs$user_id'"
      ]
    },
    {
      "cell_type": "code",
      "execution_count": null,
      "metadata": {
        "id": "u4piw6zinFX_",
        "outputId": "78bf2c67-c329-4fc4-8587-a17e343a689c",
        "colab": {
          "base_uri": "https://localhost:8080/",
          "height": 165
        }
      },
      "outputs": [
        {
          "output_type": "display_data",
          "data": {
            "text/plain": [
              "Running query in 'sqlite:///sqlite_data/tutorial_4.db?charset=utf8mb4'"
            ],
            "text/html": [
              "<span style=\"None\">Running query in &#x27;sqlite:///sqlite_data/tutorial_4.db?charset=utf8mb4&#x27;</span>"
            ]
          },
          "metadata": {}
        },
        {
          "output_type": "execute_result",
          "data": {
            "text/plain": [
              "+----+----------+------------+-------------------+-------------------+\n",
              "| id | group_id |    feat    |       value       |     group_norm    |\n",
              "+----+----------+------------+-------------------+-------------------+\n",
              "| 1  |  28451   | m_fk_score |        4.9        |        4.9        |\n",
              "| 2  |  174357  | m_fk_score | 9.166666666666666 | 9.166666666666666 |\n",
              "| 3  |  216833  | m_fk_score | 4.595945945945946 | 4.595945945945946 |\n",
              "| 4  |  317581  | m_fk_score | 5.358481421647819 | 5.358481421647819 |\n",
              "| 5  |  446275  | m_fk_score |       8.4375      |       8.4375      |\n",
              "+----+----------+------------+-------------------+-------------------+"
            ],
            "text/html": [
              "<table>\n",
              "    <thead>\n",
              "        <tr>\n",
              "            <th>id</th>\n",
              "            <th>group_id</th>\n",
              "            <th>feat</th>\n",
              "            <th>value</th>\n",
              "            <th>group_norm</th>\n",
              "        </tr>\n",
              "    </thead>\n",
              "    <tbody>\n",
              "        <tr>\n",
              "            <td>1</td>\n",
              "            <td>28451</td>\n",
              "            <td>m_fk_score</td>\n",
              "            <td>4.9</td>\n",
              "            <td>4.9</td>\n",
              "        </tr>\n",
              "        <tr>\n",
              "            <td>2</td>\n",
              "            <td>174357</td>\n",
              "            <td>m_fk_score</td>\n",
              "            <td>9.166666666666666</td>\n",
              "            <td>9.166666666666666</td>\n",
              "        </tr>\n",
              "        <tr>\n",
              "            <td>3</td>\n",
              "            <td>216833</td>\n",
              "            <td>m_fk_score</td>\n",
              "            <td>4.595945945945946</td>\n",
              "            <td>4.595945945945946</td>\n",
              "        </tr>\n",
              "        <tr>\n",
              "            <td>4</td>\n",
              "            <td>317581</td>\n",
              "            <td>m_fk_score</td>\n",
              "            <td>5.358481421647819</td>\n",
              "            <td>5.358481421647819</td>\n",
              "        </tr>\n",
              "        <tr>\n",
              "            <td>5</td>\n",
              "            <td>446275</td>\n",
              "            <td>m_fk_score</td>\n",
              "            <td>8.4375</td>\n",
              "            <td>8.4375</td>\n",
              "        </tr>\n",
              "    </tbody>\n",
              "</table>"
            ]
          },
          "metadata": {},
          "execution_count": 6
        }
      ],
      "source": [
        "%%sql\n",
        "\n",
        "SELECT *\n",
        "FROM {{flkin_table}}\n",
        "LIMIT 5;"
      ]
    },
    {
      "cell_type": "markdown",
      "metadata": {
        "id": "dSsQdE5pnFX_"
      },
      "source": [
        "This table gives a grade score for the text for every user (here indexed by `group_id`) in the `group_norm` field (also value, if in doubt -- you should always default to reading such output from the group_norm field)."
      ]
    },
    {
      "cell_type": "markdown",
      "metadata": {
        "id": "wBMREZhxnFX_"
      },
      "source": [
        "Ok, done with all this meta data stuff. Back to working with data. But first, the homework."
      ]
    }
  ],
  "metadata": {
    "kernelspec": {
      "display_name": "Python 3",
      "language": "python",
      "name": "python3"
    },
    "language_info": {
      "codemirror_mode": {
        "name": "ipython",
        "version": 3
      },
      "file_extension": ".py",
      "mimetype": "text/x-python",
      "name": "python",
      "nbconvert_exporter": "python",
      "pygments_lexer": "ipython3",
      "version": "3.8.8"
    },
    "colab": {
      "provenance": [],
      "toc_visible": true,
      "include_colab_link": true
    }
  },
  "nbformat": 4,
  "nbformat_minor": 0
}