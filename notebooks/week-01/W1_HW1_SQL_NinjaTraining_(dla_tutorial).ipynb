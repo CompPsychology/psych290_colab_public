{
  "cells": [
    {
      "cell_type": "markdown",
      "metadata": {
        "id": "view-in-github",
        "colab_type": "text"
      },
      "source": [
        "<a href=\"https://colab.research.google.com/github/CompPsychology/psych290_colab_public/blob/main/notebooks/week-01/W1_HW1_SQL_NinjaTraining_(dla_tutorial).ipynb\" target=\"_parent\"><img src=\"https://colab.research.google.com/assets/colab-badge.svg\" alt=\"Open In Colab\"/></a>"
      ]
    },
    {
      "cell_type": "markdown",
      "metadata": {
        "id": "HPz5L6BOR3uX"
      },
      "source": [
        "# W1 Homework 1: SQL Ninja Fundamentals (2025-03)\n",
        "\n",
        "(c) Johannes Eichstaedt & the World Well-Being Project, 2023.\n",
        "\n",
        "✋🏻✋🏻 NOTE - You need to create a copy of this notebook before you work through it. Click on \"Save a copy in Drive\" option in the File menu, and safe it to your Google Drive.\n",
        "\n",
        "✉️🐞 If you find a bug/something doesn't work, please slack us a screenshot, or email johannes.courses@gmail.com."
      ]
    },
    {
      "cell_type": "markdown",
      "source": [
        "## Setting up Colab with DLATK and SQLite\n",
        "\n",
        "As discussed in the tutorials, we begin by setting up the Colab environment.\n",
        "\n",
        "This will take ~1.5 to 2 minutes. If colab asks you about this not being authored by Google, say \"Run anyway.\""
      ],
      "metadata": {
        "id": "3dmRJoCleD4_"
      }
    },
    {
      "cell_type": "markdown",
      "source": [
        "### Install packages"
      ],
      "metadata": {
        "id": "h_bdneOWet61"
      }
    },
    {
      "cell_type": "code",
      "source": [
        "# installing DLATK and necessary packages\n",
        "!git clone -b psych290 https://github.com/dlatk/dlatk.git\n",
        "!pip install dlatk/\n",
        "!pip install jupysql"
      ],
      "metadata": {
        "id": "BBOLv6P-0cIf",
        "outputId": "bbe60133-3152-4578-ed08-efb744e0bfc2",
        "colab": {
          "base_uri": "https://localhost:8080/"
        }
      },
      "execution_count": null,
      "outputs": [
        {
          "output_type": "stream",
          "name": "stdout",
          "text": [
            "Cloning into 'dlatk'...\n",
            "remote: Enumerating objects: 6975, done.\u001b[K\n",
            "remote: Counting objects: 100% (1063/1063), done.\u001b[K\n",
            "remote: Compressing objects: 100% (138/138), done.\u001b[K\n",
            "remote: Total 6975 (delta 987), reused 930 (delta 925), pack-reused 5912 (from 1)\u001b[K\n",
            "Receiving objects: 100% (6975/6975), 62.36 MiB | 10.47 MiB/s, done.\n",
            "Resolving deltas: 100% (4940/4940), done.\n",
            "Processing ./dlatk\n",
            "  Preparing metadata (setup.py) ... \u001b[?25l\u001b[?25hdone\n",
            "Requirement already satisfied: nltk<=3.9.1,>=3.1 in /usr/local/lib/python3.11/dist-packages (from dlatk==1.3.1) (3.9.1)\n",
            "Requirement already satisfied: numpy<=2.0.2 in /usr/local/lib/python3.11/dist-packages (from dlatk==1.3.1) (2.0.2)\n",
            "Requirement already satisfied: pandas<=2.2.2,>=0.17.1 in /usr/local/lib/python3.11/dist-packages (from dlatk==1.3.1) (2.2.2)\n",
            "Requirement already satisfied: patsy<=1.0.1,>=0.2.1 in /usr/local/lib/python3.11/dist-packages (from dlatk==1.3.1) (1.0.1)\n",
            "Requirement already satisfied: python-dateutil<=2.8.2,>=2.5.0 in /usr/local/lib/python3.11/dist-packages (from dlatk==1.3.1) (2.8.2)\n",
            "Requirement already satisfied: scikit-learn<=1.6.1 in /usr/local/lib/python3.11/dist-packages (from dlatk==1.3.1) (1.6.1)\n",
            "Requirement already satisfied: scipy<=1.14.1,>=0.13.3 in /usr/local/lib/python3.11/dist-packages (from dlatk==1.3.1) (1.14.1)\n",
            "Requirement already satisfied: statsmodels<=0.14.4,>=0.5.0 in /usr/local/lib/python3.11/dist-packages (from dlatk==1.3.1) (0.14.4)\n",
            "Requirement already satisfied: click in /usr/local/lib/python3.11/dist-packages (from nltk<=3.9.1,>=3.1->dlatk==1.3.1) (8.1.8)\n",
            "Requirement already satisfied: joblib in /usr/local/lib/python3.11/dist-packages (from nltk<=3.9.1,>=3.1->dlatk==1.3.1) (1.4.2)\n",
            "Requirement already satisfied: regex>=2021.8.3 in /usr/local/lib/python3.11/dist-packages (from nltk<=3.9.1,>=3.1->dlatk==1.3.1) (2024.11.6)\n",
            "Requirement already satisfied: tqdm in /usr/local/lib/python3.11/dist-packages (from nltk<=3.9.1,>=3.1->dlatk==1.3.1) (4.67.1)\n",
            "Requirement already satisfied: pytz>=2020.1 in /usr/local/lib/python3.11/dist-packages (from pandas<=2.2.2,>=0.17.1->dlatk==1.3.1) (2025.2)\n",
            "Requirement already satisfied: tzdata>=2022.7 in /usr/local/lib/python3.11/dist-packages (from pandas<=2.2.2,>=0.17.1->dlatk==1.3.1) (2025.2)\n",
            "Requirement already satisfied: six>=1.5 in /usr/local/lib/python3.11/dist-packages (from python-dateutil<=2.8.2,>=2.5.0->dlatk==1.3.1) (1.17.0)\n",
            "Requirement already satisfied: threadpoolctl>=3.1.0 in /usr/local/lib/python3.11/dist-packages (from scikit-learn<=1.6.1->dlatk==1.3.1) (3.6.0)\n",
            "Requirement already satisfied: packaging>=21.3 in /usr/local/lib/python3.11/dist-packages (from statsmodels<=0.14.4,>=0.5.0->dlatk==1.3.1) (24.2)\n",
            "Building wheels for collected packages: dlatk\n",
            "  Building wheel for dlatk (setup.py) ... \u001b[?25l\u001b[?25hdone\n",
            "  Created wheel for dlatk: filename=dlatk-1.3.1-py3-none-any.whl size=35635829 sha256=21a7df4625cdfabac0ec0a623186e995e7106f90d6891ff10bfa2b7eec9dfe32\n",
            "  Stored in directory: /tmp/pip-ephem-wheel-cache-l5d8xqjw/wheels/cc/c9/65/e1ecc64bac68518c07b286fe86921aa938e11a0c3a87d8ff93\n",
            "Successfully built dlatk\n",
            "Installing collected packages: dlatk\n",
            "Successfully installed dlatk-1.3.1\n",
            "Collecting jupysql\n",
            "  Downloading jupysql-0.11.1-py3-none-any.whl.metadata (5.9 kB)\n",
            "Requirement already satisfied: prettytable>=3.12.0 in /usr/local/lib/python3.11/dist-packages (from jupysql) (3.16.0)\n",
            "Requirement already satisfied: sqlalchemy in /usr/local/lib/python3.11/dist-packages (from jupysql) (2.0.40)\n",
            "Requirement already satisfied: sqlparse in /usr/local/lib/python3.11/dist-packages (from jupysql) (0.5.3)\n",
            "Requirement already satisfied: ipython-genutils>=0.1.0 in /usr/local/lib/python3.11/dist-packages (from jupysql) (0.2.0)\n",
            "Requirement already satisfied: jinja2 in /usr/local/lib/python3.11/dist-packages (from jupysql) (3.1.6)\n",
            "Requirement already satisfied: sqlglot>=11.3.7 in /usr/local/lib/python3.11/dist-packages (from jupysql) (25.20.2)\n",
            "Collecting jupysql-plugin>=0.4.2 (from jupysql)\n",
            "  Downloading jupysql_plugin-0.4.5-py3-none-any.whl.metadata (7.8 kB)\n",
            "Collecting ploomber-core>=0.2.7 (from jupysql)\n",
            "  Downloading ploomber_core-0.2.26-py3-none-any.whl.metadata (527 bytes)\n",
            "Requirement already satisfied: pyyaml in /usr/local/lib/python3.11/dist-packages (from ploomber-core>=0.2.7->jupysql) (6.0.2)\n",
            "Collecting posthog (from ploomber-core>=0.2.7->jupysql)\n",
            "  Downloading posthog-3.23.0-py2.py3-none-any.whl.metadata (3.0 kB)\n",
            "Requirement already satisfied: wcwidth in /usr/local/lib/python3.11/dist-packages (from prettytable>=3.12.0->jupysql) (0.2.13)\n",
            "Requirement already satisfied: MarkupSafe>=2.0 in /usr/local/lib/python3.11/dist-packages (from jinja2->jupysql) (3.0.2)\n",
            "Requirement already satisfied: greenlet>=1 in /usr/local/lib/python3.11/dist-packages (from sqlalchemy->jupysql) (3.1.1)\n",
            "Requirement already satisfied: typing-extensions>=4.6.0 in /usr/local/lib/python3.11/dist-packages (from sqlalchemy->jupysql) (4.13.0)\n",
            "Requirement already satisfied: requests<3.0,>=2.7 in /usr/local/lib/python3.11/dist-packages (from posthog->ploomber-core>=0.2.7->jupysql) (2.32.3)\n",
            "Requirement already satisfied: six>=1.5 in /usr/local/lib/python3.11/dist-packages (from posthog->ploomber-core>=0.2.7->jupysql) (1.17.0)\n",
            "Collecting monotonic>=1.5 (from posthog->ploomber-core>=0.2.7->jupysql)\n",
            "  Downloading monotonic-1.6-py2.py3-none-any.whl.metadata (1.5 kB)\n",
            "Collecting backoff>=1.10.0 (from posthog->ploomber-core>=0.2.7->jupysql)\n",
            "  Downloading backoff-2.2.1-py3-none-any.whl.metadata (14 kB)\n",
            "Requirement already satisfied: python-dateutil>2.1 in /usr/local/lib/python3.11/dist-packages (from posthog->ploomber-core>=0.2.7->jupysql) (2.8.2)\n",
            "Requirement already satisfied: distro>=1.5.0 in /usr/local/lib/python3.11/dist-packages (from posthog->ploomber-core>=0.2.7->jupysql) (1.9.0)\n",
            "Requirement already satisfied: charset-normalizer<4,>=2 in /usr/local/lib/python3.11/dist-packages (from requests<3.0,>=2.7->posthog->ploomber-core>=0.2.7->jupysql) (3.4.1)\n",
            "Requirement already satisfied: idna<4,>=2.5 in /usr/local/lib/python3.11/dist-packages (from requests<3.0,>=2.7->posthog->ploomber-core>=0.2.7->jupysql) (3.10)\n",
            "Requirement already satisfied: urllib3<3,>=1.21.1 in /usr/local/lib/python3.11/dist-packages (from requests<3.0,>=2.7->posthog->ploomber-core>=0.2.7->jupysql) (2.3.0)\n",
            "Requirement already satisfied: certifi>=2017.4.17 in /usr/local/lib/python3.11/dist-packages (from requests<3.0,>=2.7->posthog->ploomber-core>=0.2.7->jupysql) (2025.1.31)\n",
            "Downloading jupysql-0.11.1-py3-none-any.whl (95 kB)\n",
            "\u001b[2K   \u001b[90m━━━━━━━━━━━━━━━━━━━━━━━━━━━━━━━━━━━━━━━━\u001b[0m \u001b[32m95.1/95.1 kB\u001b[0m \u001b[31m3.3 MB/s\u001b[0m eta \u001b[36m0:00:00\u001b[0m\n",
            "\u001b[?25hDownloading jupysql_plugin-0.4.5-py3-none-any.whl (192 kB)\n",
            "\u001b[2K   \u001b[90m━━━━━━━━━━━━━━━━━━━━━━━━━━━━━━━━━━━━━━━━\u001b[0m \u001b[32m192.8/192.8 kB\u001b[0m \u001b[31m7.0 MB/s\u001b[0m eta \u001b[36m0:00:00\u001b[0m\n",
            "\u001b[?25hDownloading ploomber_core-0.2.26-py3-none-any.whl (22 kB)\n",
            "Downloading posthog-3.23.0-py2.py3-none-any.whl (84 kB)\n",
            "\u001b[2K   \u001b[90m━━━━━━━━━━━━━━━━━━━━━━━━━━━━━━━━━━━━━━━━\u001b[0m \u001b[32m85.0/85.0 kB\u001b[0m \u001b[31m7.0 MB/s\u001b[0m eta \u001b[36m0:00:00\u001b[0m\n",
            "\u001b[?25hDownloading backoff-2.2.1-py3-none-any.whl (15 kB)\n",
            "Downloading monotonic-1.6-py2.py3-none-any.whl (8.2 kB)\n",
            "Installing collected packages: monotonic, backoff, posthog, ploomber-core, jupysql-plugin, jupysql\n",
            "Successfully installed backoff-2.2.1 jupysql-0.11.1 jupysql-plugin-0.4.5 monotonic-1.6 ploomber-core-0.2.26 posthog-3.23.0\n"
          ]
        }
      ]
    },
    {
      "cell_type": "markdown",
      "source": [
        "### Download data and insert into SQLite database"
      ],
      "metadata": {
        "id": "RoiXZeF8ezYm"
      }
    },
    {
      "cell_type": "code",
      "source": [
        "# this downloads the csvs you need\n",
        "!git clone https://github.com/CompPsychology/psych290_data.git"
      ],
      "metadata": {
        "id": "uPk0KmozQDHM",
        "outputId": "abaa9aa4-7729-4407-e7f2-7921320f0578",
        "colab": {
          "base_uri": "https://localhost:8080/"
        }
      },
      "execution_count": null,
      "outputs": [
        {
          "output_type": "stream",
          "name": "stdout",
          "text": [
            "Cloning into 'psych290_data'...\n",
            "remote: Enumerating objects: 11, done.\u001b[K\n",
            "remote: Counting objects: 100% (11/11), done.\u001b[K\n",
            "remote: Compressing objects: 100% (9/9), done.\u001b[K\n",
            "remote: Total 11 (delta 0), reused 8 (delta 0), pack-reused 0 (from 0)\u001b[K\n",
            "Receiving objects: 100% (11/11), 13.84 MiB | 11.44 MiB/s, done.\n"
          ]
        }
      ]
    },
    {
      "cell_type": "markdown",
      "metadata": {
        "id": "1eac4ada"
      },
      "source": [
        "Now, create a `username` variable which we use to name the database."
      ]
    },
    {
      "cell_type": "code",
      "source": [
        "username = \"your_name\""
      ],
      "metadata": {
        "id": "DQQ1o-f3m-j8"
      },
      "execution_count": null,
      "outputs": []
    },
    {
      "cell_type": "markdown",
      "source": [
        "We then load the downloaded data into a database named [username].db in the sqlite_data folder."
      ],
      "metadata": {
        "id": "0FeaD_ry3g_H"
      }
    },
    {
      "cell_type": "code",
      "source": [
        "# load the required package -- similar to library() function in R\n",
        "import os\n",
        "from dlatk.tools.importmethods import csvToSQLite\n",
        "\n",
        "# store the complete path to the database -- sqlite_data/[username].db\n",
        "database = os.path.join(\"sqlite_data\", username)\n",
        "\n",
        "# import CSVs into tables in this database\n",
        "csvToSQLite(\n",
        "    \"psych290_data/dla_tutorial/msgs.csv\",\n",
        "    database,\n",
        "    \"dla_tutorial_msgs\"\n",
        ")\n",
        "\n",
        "csvToSQLite(\n",
        "    \"psych290_data/dla_tutorial/blog_outcomes.csv\",\n",
        "    database,\n",
        "    \"dla_tutorial_outcomes\"\n",
        ")"
      ],
      "metadata": {
        "id": "rIGSacbpk3Hw",
        "outputId": "7249e2e9-17cb-4b5c-b223-ef47ad91f1ad",
        "colab": {
          "base_uri": "https://localhost:8080/"
        }
      },
      "execution_count": null,
      "outputs": [
        {
          "output_type": "stream",
          "name": "stderr",
          "text": [
            "SQL Query: CREATE TABLE dla_tutorial_msgs (message_id INT, user_id INT, date VARCHAR(31), created_time VARCHAR(31), message LONGTEXT);\n"
          ]
        },
        {
          "output_type": "stream",
          "name": "stdout",
          "text": [
            "Importing data, reading psych290_data/dla_tutorial/msgs.csv file\n",
            "Reading 10000 rows into the table...\n",
            "Reading 10000 rows into the table...\n",
            "Reading 10000 rows into the table...\n",
            "Reading remaining 1674 rows into the table...\n",
            "Importing data, reading psych290_data/dla_tutorial/blog_outcomes.csv file\n",
            "Reading remaining 1000 rows into the table...\n"
          ]
        },
        {
          "output_type": "stream",
          "name": "stderr",
          "text": [
            "SQL Query: CREATE TABLE dla_tutorial_outcomes (user_id INT, gender INT, age INT, occu VARCHAR(31), sign VARCHAR(15), is_indunk INT, is_student VARCHAR(7), is_education VARCHAR(7), is_technology VARCHAR(7));\n"
          ]
        }
      ]
    },
    {
      "cell_type": "markdown",
      "source": [
        "### Setup database connection"
      ],
      "metadata": {
        "id": "2u6O5Zwdewd4"
      }
    },
    {
      "cell_type": "markdown",
      "source": [
        "Finally, we establish a connection with the (SQLite) database with the `%sql` extension from colab."
      ],
      "metadata": {
        "id": "Cm5ROcmCqmxg"
      }
    },
    {
      "cell_type": "code",
      "source": [
        "# loads the %%sql extension\n",
        "%load_ext sql\n",
        "\n",
        "# connects the extension to the database\n",
        "from sqlalchemy import create_engine\n",
        "engine = create_engine(f\"sqlite:///sqlite_data/{username}.db?charset=utf8mb4\")\n",
        "%sql engine\n",
        "\n",
        "#set the output limit to 50\n",
        "%config SqlMagic.displaylimit = 50"
      ],
      "metadata": {
        "id": "BMB3WwaBeQgT"
      },
      "execution_count": null,
      "outputs": []
    },
    {
      "cell_type": "markdown",
      "metadata": {
        "id": "wCshrHBoR3uY"
      },
      "source": [
        "## Recap"
      ]
    },
    {
      "cell_type": "markdown",
      "metadata": {
        "id": "fVqe65kkR3uY"
      },
      "source": [
        "### List all the tables.\n",
        "\n",
        "After connecting to a specific database, list all the tables inside it using a `%sqlcmd` statement. For a more readable output, you can save the output to a variable and print it."
      ]
    },
    {
      "cell_type": "code",
      "execution_count": null,
      "metadata": {
        "id": "j1-foKEER3uZ",
        "outputId": "a6084ce5-0d94-4069-9f06-38727df6ade0",
        "colab": {
          "base_uri": "https://localhost:8080/"
        }
      },
      "outputs": [
        {
          "output_type": "stream",
          "name": "stdout",
          "text": [
            "+-----------------------+\n",
            "|          Name         |\n",
            "+-----------------------+\n",
            "|   dla_tutorial_msgs   |\n",
            "| dla_tutorial_outcomes |\n",
            "+-----------------------+\n"
          ]
        }
      ],
      "source": [
        "result = %sqlcmd tables\n",
        "print(result)"
      ]
    },
    {
      "cell_type": "markdown",
      "metadata": {
        "id": "_XXYLdjQR3uZ"
      },
      "source": [
        "This homework will use both `dla_tutorial_msgs` and `dla_tutorial_outcomes` tables."
      ]
    },
    {
      "cell_type": "markdown",
      "metadata": {
        "id": "Xun_Yn5KR3uZ"
      },
      "source": [
        "### Now, let's view schema of these tables."
      ]
    },
    {
      "cell_type": "markdown",
      "source": [
        "Remember, `PRAGMA` and  `%sqlcmd` are statements that help run meta commands like looking at table details and database properties."
      ],
      "metadata": {
        "id": "Eu4Yp5nkMaKr"
      }
    },
    {
      "cell_type": "code",
      "execution_count": null,
      "metadata": {
        "id": "0a1K6Kb3R3uZ",
        "outputId": "7977a556-0f7b-40da-d3d9-5f88ff9b1984",
        "colab": {
          "base_uri": "https://localhost:8080/",
          "height": 165
        }
      },
      "outputs": [
        {
          "output_type": "display_data",
          "data": {
            "text/plain": [
              "Running query in 'sqlite:///sqlite_data/your_name.db?charset=utf8mb4'"
            ],
            "text/html": [
              "<span style=\"None\">Running query in &#x27;sqlite:///sqlite_data/your_name.db?charset=utf8mb4&#x27;</span>"
            ]
          },
          "metadata": {}
        },
        {
          "output_type": "execute_result",
          "data": {
            "text/plain": [
              "+-----+--------------+-------------+---------+------------+----+\n",
              "| cid |     name     |     type    | notnull | dflt_value | pk |\n",
              "+-----+--------------+-------------+---------+------------+----+\n",
              "|  0  |  message_id  |     INT     |    0    |    None    | 0  |\n",
              "|  1  |   user_id    |     INT     |    0    |    None    | 0  |\n",
              "|  2  |     date     | VARCHAR(31) |    0    |    None    | 0  |\n",
              "|  3  | created_time | VARCHAR(31) |    0    |    None    | 0  |\n",
              "|  4  |   message    |   LONGTEXT  |    0    |    None    | 0  |\n",
              "+-----+--------------+-------------+---------+------------+----+"
            ],
            "text/html": [
              "<table>\n",
              "    <thead>\n",
              "        <tr>\n",
              "            <th>cid</th>\n",
              "            <th>name</th>\n",
              "            <th>type</th>\n",
              "            <th>notnull</th>\n",
              "            <th>dflt_value</th>\n",
              "            <th>pk</th>\n",
              "        </tr>\n",
              "    </thead>\n",
              "    <tbody>\n",
              "        <tr>\n",
              "            <td>0</td>\n",
              "            <td>message_id</td>\n",
              "            <td>INT</td>\n",
              "            <td>0</td>\n",
              "            <td>None</td>\n",
              "            <td>0</td>\n",
              "        </tr>\n",
              "        <tr>\n",
              "            <td>1</td>\n",
              "            <td>user_id</td>\n",
              "            <td>INT</td>\n",
              "            <td>0</td>\n",
              "            <td>None</td>\n",
              "            <td>0</td>\n",
              "        </tr>\n",
              "        <tr>\n",
              "            <td>2</td>\n",
              "            <td>date</td>\n",
              "            <td>VARCHAR(31)</td>\n",
              "            <td>0</td>\n",
              "            <td>None</td>\n",
              "            <td>0</td>\n",
              "        </tr>\n",
              "        <tr>\n",
              "            <td>3</td>\n",
              "            <td>created_time</td>\n",
              "            <td>VARCHAR(31)</td>\n",
              "            <td>0</td>\n",
              "            <td>None</td>\n",
              "            <td>0</td>\n",
              "        </tr>\n",
              "        <tr>\n",
              "            <td>4</td>\n",
              "            <td>message</td>\n",
              "            <td>LONGTEXT</td>\n",
              "            <td>0</td>\n",
              "            <td>None</td>\n",
              "            <td>0</td>\n",
              "        </tr>\n",
              "    </tbody>\n",
              "</table>"
            ]
          },
          "metadata": {},
          "execution_count": 8
        }
      ],
      "source": [
        "%%sql\n",
        "\n",
        "PRAGMA table_info(dla_tutorial_msgs);"
      ]
    },
    {
      "cell_type": "code",
      "execution_count": null,
      "metadata": {
        "id": "Mxl5rFw5R3uZ",
        "outputId": "d30d3009-3444-4b1d-d12a-6ea4b9c4c36e",
        "colab": {
          "base_uri": "https://localhost:8080/",
          "height": 250
        }
      },
      "outputs": [
        {
          "output_type": "display_data",
          "data": {
            "text/plain": [
              "Running query in 'sqlite:///sqlite_data/your_name.db?charset=utf8mb4'"
            ],
            "text/html": [
              "<span style=\"None\">Running query in &#x27;sqlite:///sqlite_data/your_name.db?charset=utf8mb4&#x27;</span>"
            ]
          },
          "metadata": {}
        },
        {
          "output_type": "execute_result",
          "data": {
            "text/plain": [
              "+-----+---------------+-------------+---------+------------+----+\n",
              "| cid |      name     |     type    | notnull | dflt_value | pk |\n",
              "+-----+---------------+-------------+---------+------------+----+\n",
              "|  0  |    user_id    |     INT     |    0    |    None    | 0  |\n",
              "|  1  |     gender    |     INT     |    0    |    None    | 0  |\n",
              "|  2  |      age      |     INT     |    0    |    None    | 0  |\n",
              "|  3  |      occu     | VARCHAR(31) |    0    |    None    | 0  |\n",
              "|  4  |      sign     | VARCHAR(15) |    0    |    None    | 0  |\n",
              "|  5  |   is_indunk   |     INT     |    0    |    None    | 0  |\n",
              "|  6  |   is_student  |  VARCHAR(7) |    0    |    None    | 0  |\n",
              "|  7  |  is_education |  VARCHAR(7) |    0    |    None    | 0  |\n",
              "|  8  | is_technology |  VARCHAR(7) |    0    |    None    | 0  |\n",
              "+-----+---------------+-------------+---------+------------+----+"
            ],
            "text/html": [
              "<table>\n",
              "    <thead>\n",
              "        <tr>\n",
              "            <th>cid</th>\n",
              "            <th>name</th>\n",
              "            <th>type</th>\n",
              "            <th>notnull</th>\n",
              "            <th>dflt_value</th>\n",
              "            <th>pk</th>\n",
              "        </tr>\n",
              "    </thead>\n",
              "    <tbody>\n",
              "        <tr>\n",
              "            <td>0</td>\n",
              "            <td>user_id</td>\n",
              "            <td>INT</td>\n",
              "            <td>0</td>\n",
              "            <td>None</td>\n",
              "            <td>0</td>\n",
              "        </tr>\n",
              "        <tr>\n",
              "            <td>1</td>\n",
              "            <td>gender</td>\n",
              "            <td>INT</td>\n",
              "            <td>0</td>\n",
              "            <td>None</td>\n",
              "            <td>0</td>\n",
              "        </tr>\n",
              "        <tr>\n",
              "            <td>2</td>\n",
              "            <td>age</td>\n",
              "            <td>INT</td>\n",
              "            <td>0</td>\n",
              "            <td>None</td>\n",
              "            <td>0</td>\n",
              "        </tr>\n",
              "        <tr>\n",
              "            <td>3</td>\n",
              "            <td>occu</td>\n",
              "            <td>VARCHAR(31)</td>\n",
              "            <td>0</td>\n",
              "            <td>None</td>\n",
              "            <td>0</td>\n",
              "        </tr>\n",
              "        <tr>\n",
              "            <td>4</td>\n",
              "            <td>sign</td>\n",
              "            <td>VARCHAR(15)</td>\n",
              "            <td>0</td>\n",
              "            <td>None</td>\n",
              "            <td>0</td>\n",
              "        </tr>\n",
              "        <tr>\n",
              "            <td>5</td>\n",
              "            <td>is_indunk</td>\n",
              "            <td>INT</td>\n",
              "            <td>0</td>\n",
              "            <td>None</td>\n",
              "            <td>0</td>\n",
              "        </tr>\n",
              "        <tr>\n",
              "            <td>6</td>\n",
              "            <td>is_student</td>\n",
              "            <td>VARCHAR(7)</td>\n",
              "            <td>0</td>\n",
              "            <td>None</td>\n",
              "            <td>0</td>\n",
              "        </tr>\n",
              "        <tr>\n",
              "            <td>7</td>\n",
              "            <td>is_education</td>\n",
              "            <td>VARCHAR(7)</td>\n",
              "            <td>0</td>\n",
              "            <td>None</td>\n",
              "            <td>0</td>\n",
              "        </tr>\n",
              "        <tr>\n",
              "            <td>8</td>\n",
              "            <td>is_technology</td>\n",
              "            <td>VARCHAR(7)</td>\n",
              "            <td>0</td>\n",
              "            <td>None</td>\n",
              "            <td>0</td>\n",
              "        </tr>\n",
              "    </tbody>\n",
              "</table>"
            ]
          },
          "metadata": {},
          "execution_count": 9
        }
      ],
      "source": [
        "%%sql\n",
        "\n",
        "PRAGMA table_info(dla_tutorial_outcomes);"
      ]
    },
    {
      "cell_type": "markdown",
      "metadata": {
        "id": "rPG52YctR3uZ"
      },
      "source": [
        "### They are missing indices. Let's add indices on the main column that connects the table.\n",
        "\n",
        "Since the `user_id` columns have the same name in both the tables, we'll use different names for their respective indices to avoid collision."
      ]
    },
    {
      "cell_type": "code",
      "execution_count": null,
      "metadata": {
        "id": "TY3kUa3QR3uZ",
        "outputId": "56ff1b75-c1b6-4cf0-ef70-c606be18b7ba",
        "colab": {
          "base_uri": "https://localhost:8080/",
          "height": 34
        }
      },
      "outputs": [
        {
          "output_type": "display_data",
          "data": {
            "text/plain": [
              "Running query in 'sqlite:///sqlite_data/your_name.db?charset=utf8mb4'"
            ],
            "text/html": [
              "<span style=\"None\">Running query in &#x27;sqlite:///sqlite_data/your_name.db?charset=utf8mb4&#x27;</span>"
            ]
          },
          "metadata": {}
        },
        {
          "output_type": "execute_result",
          "data": {
            "text/plain": [
              "++\n",
              "||\n",
              "++\n",
              "++"
            ],
            "text/html": [
              "<table>\n",
              "    <thead>\n",
              "        <tr>\n",
              "        </tr>\n",
              "    </thead>\n",
              "    <tbody>\n",
              "    </tbody>\n",
              "</table>"
            ]
          },
          "metadata": {},
          "execution_count": 10
        }
      ],
      "source": [
        "%%sql\n",
        "\n",
        "CREATE INDEX idx_dla_tutorial_msgs_user_id ON dla_tutorial_msgs (user_id);\n",
        "CREATE INDEX idx_dla_tutorial_msgs_message_id ON dla_tutorial_msgs (message_id);\n",
        "\n",
        "CREATE INDEX idx_dla_tutorial_outcomes_user_id ON dla_tutorial_outcomes (user_id);"
      ]
    },
    {
      "cell_type": "markdown",
      "metadata": {
        "id": "-Bo83qkTR3uZ"
      },
      "source": [
        "## Questions"
      ]
    },
    {
      "cell_type": "markdown",
      "metadata": {
        "id": "DMQwpag6R3uZ"
      },
      "source": [
        "### 0) Select 10 random rows from both tables.\n",
        "\n",
        "Look at the output, familiarize yourself with it a little bit. 👀 The messages in the msgs table are blog posts. Skim one."
      ]
    },
    {
      "cell_type": "markdown",
      "metadata": {
        "id": "dmF1FQTaR3ua"
      },
      "source": [
        "**Answer:**"
      ]
    },
    {
      "cell_type": "code",
      "execution_count": null,
      "metadata": {
        "id": "Z2nVoPbkR3ua"
      },
      "outputs": [],
      "source": [
        "%%sql\n",
        "\n"
      ]
    },
    {
      "cell_type": "markdown",
      "metadata": {
        "id": "jEmzXcrxR3ua"
      },
      "source": [
        "### 1) Calculate the minimum, maximum and average age for both genders, in one SQL command."
      ]
    },
    {
      "cell_type": "markdown",
      "metadata": {
        "id": "QP-f9eo9R3ua"
      },
      "source": [
        "**Answer:**"
      ]
    },
    {
      "cell_type": "code",
      "execution_count": null,
      "metadata": {
        "id": "uVeasTkzR3ua"
      },
      "outputs": [],
      "source": [
        "%%sql\n",
        "\n"
      ]
    },
    {
      "cell_type": "markdown",
      "metadata": {
        "id": "uSslAk10R3ua"
      },
      "source": [
        "### 2) Calculate the average age for every occupation, one command."
      ]
    },
    {
      "cell_type": "markdown",
      "metadata": {
        "id": "A3pS-kQgR3ua"
      },
      "source": [
        "**Answer:**"
      ]
    },
    {
      "cell_type": "code",
      "execution_count": null,
      "metadata": {
        "id": "NdRNMhpoR3ua"
      },
      "outputs": [],
      "source": [
        "%%sql\n",
        "\n"
      ]
    },
    {
      "cell_type": "markdown",
      "metadata": {
        "id": "NakiYcs-R3ua"
      },
      "source": [
        "### 3) What's the average age difference between Libras and Leos?"
      ]
    },
    {
      "cell_type": "markdown",
      "metadata": {
        "id": "K64J6nqdR3ua"
      },
      "source": [
        "We need a `GROUP BY` and `AVG` but we don't need to that for all groups, just the ones with care about.\n",
        "\n",
        "**Hint:** You can do just get the average age for Libras and Leos, and then subtract them from one another in a separate command or using phone calculator technology."
      ]
    },
    {
      "cell_type": "markdown",
      "metadata": {
        "id": "z884CC1KR3ua"
      },
      "source": [
        "**Answer:**"
      ]
    },
    {
      "cell_type": "code",
      "execution_count": null,
      "metadata": {
        "id": "alukNIGlR3ua"
      },
      "outputs": [],
      "source": [
        "%%sql\n",
        "\n"
      ]
    },
    {
      "cell_type": "markdown",
      "metadata": {
        "id": "zsW2lMVQR3ua"
      },
      "source": [
        "### 4) How many blog posts do we have from authors from a given age?\n",
        "\n",
        "i.e., how many from age 17, 18, etc.\n",
        "\n",
        "**Hint:** First create a table with number of messages per user, then join on the extra info that you need."
      ]
    },
    {
      "cell_type": "markdown",
      "metadata": {
        "id": "MJb8CpumR3ua"
      },
      "source": [
        "**Answer:**"
      ]
    },
    {
      "cell_type": "code",
      "execution_count": null,
      "metadata": {
        "id": "lhBmBkIeR3ub"
      },
      "outputs": [],
      "source": [
        "%%sql\n",
        "\n"
      ]
    },
    {
      "cell_type": "markdown",
      "metadata": {
        "id": "H_UVXJeWR3ug"
      },
      "source": [
        "### 5) How many blog posts do we have from authors in an industry?"
      ]
    },
    {
      "cell_type": "markdown",
      "metadata": {
        "id": "jr9_4I1KR3uh"
      },
      "source": [
        "**Answer:**"
      ]
    },
    {
      "cell_type": "code",
      "execution_count": null,
      "metadata": {
        "id": "LQyfKQkVR3uh"
      },
      "outputs": [],
      "source": [
        "%%sql\n",
        "\n"
      ]
    },
    {
      "cell_type": "markdown",
      "metadata": {
        "id": "oS48e7GOR3uh"
      },
      "source": [
        "### 6) How many blog posts do we have from a given year?\n",
        "\n",
        "**Hint:** remember the  `strftime('%Y', sql_timeformat)` command (or in MySQL 🐬🐬🐬\n",
        " `YEAR(sql_timeformat)`).\n",
        "\n",
        " Perhaps helpful: don't forget you can use `AS` to name the result of some other command/function."
      ]
    },
    {
      "cell_type": "markdown",
      "metadata": {
        "id": "89H-LuyQR3uh"
      },
      "source": [
        "**Answer:**"
      ]
    },
    {
      "cell_type": "code",
      "execution_count": null,
      "metadata": {
        "id": "K6L-NC3pR3uh"
      },
      "outputs": [],
      "source": [
        "%%sql\n",
        "\n"
      ]
    },
    {
      "cell_type": "markdown",
      "metadata": {
        "id": "k7LbnowvR3uh"
      },
      "source": [
        "### 7) How many blog posts do we have from a given year only written by  Tauruses?"
      ]
    },
    {
      "cell_type": "markdown",
      "metadata": {
        "id": "-SdRjtG2R3uh"
      },
      "source": [
        "**Answer:**"
      ]
    },
    {
      "cell_type": "code",
      "execution_count": null,
      "metadata": {
        "id": "23DNMZ4CR3uh"
      },
      "outputs": [],
      "source": [
        "%%sql\n",
        "\n"
      ]
    },
    {
      "cell_type": "markdown",
      "metadata": {
        "id": "kRFUngT8R3uh"
      },
      "source": [
        "### 8) Should you do something to make the last queries for questions 1 and 2 run faster? If so, give the query"
      ]
    },
    {
      "cell_type": "markdown",
      "metadata": {
        "id": "RljVLA84R3uh"
      },
      "source": [
        "In our queries, we are partitioning columns with **GROUP BY**. So, it may help _index_ these columns."
      ]
    },
    {
      "cell_type": "markdown",
      "metadata": {
        "id": "uyHTbXffR3uh"
      },
      "source": [
        "**Answer:**"
      ]
    },
    {
      "cell_type": "code",
      "execution_count": null,
      "metadata": {
        "id": "s4PMfsp8R3uh"
      },
      "outputs": [],
      "source": [
        "%%sql\n",
        "\n"
      ]
    },
    {
      "cell_type": "markdown",
      "metadata": {
        "id": "mWB2L0ErR3uh"
      },
      "source": [
        "### 9) Can you pull out 10 blog posts that mention the word \"boys\"?"
      ]
    },
    {
      "cell_type": "markdown",
      "metadata": {
        "id": "mBQXjX90R3uh"
      },
      "source": [
        "**Answer:**"
      ]
    },
    {
      "cell_type": "code",
      "execution_count": null,
      "metadata": {
        "id": "HNpJYHkUR3uh"
      },
      "outputs": [],
      "source": [
        "%%sql\n",
        "\n"
      ]
    },
    {
      "cell_type": "markdown",
      "metadata": {
        "id": "DzF5k9XhR3ui"
      },
      "source": [
        "### 10) (EXTRA CREDIT) How many blog posts do we have from a given month (i.e., from Feb of 2001, and so forth)?"
      ]
    },
    {
      "cell_type": "markdown",
      "metadata": {
        "id": "b9EmcIqjR3ui"
      },
      "source": [
        "**Hint:** **ORDER BY** (and another function) can use more than one variable..."
      ]
    },
    {
      "cell_type": "markdown",
      "metadata": {
        "id": "5uw7Fm-bR3ui"
      },
      "source": [
        "**Answer:**"
      ]
    },
    {
      "cell_type": "code",
      "execution_count": null,
      "metadata": {
        "id": "mh8gRp_FR3ui"
      },
      "outputs": [],
      "source": [
        "%%sql\n",
        "\n"
      ]
    }
  ],
  "metadata": {
    "kernelspec": {
      "display_name": "Python 3",
      "language": "python",
      "name": "python3"
    },
    "language_info": {
      "codemirror_mode": {
        "name": "ipython",
        "version": 3
      },
      "file_extension": ".py",
      "mimetype": "text/x-python",
      "name": "python",
      "nbconvert_exporter": "python",
      "pygments_lexer": "ipython3",
      "version": "3.8.8"
    },
    "colab": {
      "provenance": [],
      "toc_visible": true,
      "include_colab_link": true
    }
  },
  "nbformat": 4,
  "nbformat_minor": 0
}