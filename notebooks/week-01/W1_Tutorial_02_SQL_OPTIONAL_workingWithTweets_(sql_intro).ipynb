{
  "cells": [
    {
      "cell_type": "markdown",
      "metadata": {
        "id": "view-in-github",
        "colab_type": "text"
      },
      "source": [
        "<a href=\"https://colab.research.google.com/github/CompPsychology/psych290_colab_public/blob/main/notebooks/week-01/W1_Tutorial_02_SQL_OPTIONAL_workingWithTweets_(sql_intro).ipynb\" target=\"_parent\"><img src=\"https://colab.research.google.com/assets/colab-badge.svg\" alt=\"Open In Colab\"/></a>"
      ]
    },
    {
      "cell_type": "markdown",
      "metadata": {
        "id": "TkLTdDvvGXwz"
      },
      "source": [
        "# W1 Tutorial 2 - Intermediate SQL on Tweets (DB: sql_intro) (2025-03)\n",
        "\n",
        "(c) Johannes Eichstaedt & the World Well-Being Project, 2023.\n",
        "\n",
        "✋🏻✋🏻 NOTE - You need to create a copy of this notebook before you work through it. Click on \"Save a copy in Drive\" option in the File menu, and safe it to your Google Drive.\n",
        "\n",
        "✉️🐞 If you find a bug/something doesn't work, please slack us a screenshot, or email johannes.courses@gmail.com."
      ]
    },
    {
      "cell_type": "markdown",
      "source": [
        "In this tutorial we will learn how to remove duplicates and how to work with `DATETIME` fields to get counts across time.\n",
        "\n",
        "**FYI:** you can execute a cell by hitting `CTRL+Enter` (Win) or `Command+Enter` (Mac).   \n",
        "`Shift+Enter` or `Command+Enter` will execute + advance to the cell below.\n",
        "\n",
        "Please execute every cell as you go along.\n",
        "\n",
        "**FYI:**\n",
        "* 🤓🤓🤓 comparisons with the tidyverse are flagged with the triple nerd  \n",
        "* 🐬🐬🐬 when there is code that runs in MySQL but not in SQLite, this is marked with the triple dolphin"
      ],
      "metadata": {
        "id": "lN4f2t5_g5gx"
      }
    },
    {
      "cell_type": "markdown",
      "source": [
        "## 1) Setting up Colab with DLATK and SQLite\n",
        "\n",
        "This tutorial begins by setting up DLATK in the Colab environment, similar to the previous tutorials. The next couple of subsections do this for you.\n",
        "\n",
        "Remember, if Colab asks you about this not being authored by Google, say, \"Run anyway.\""
      ],
      "metadata": {
        "id": "3dmRJoCleD4_"
      }
    },
    {
      "cell_type": "markdown",
      "source": [
        "### 1a) Install packages"
      ],
      "metadata": {
        "id": "h_bdneOWet61"
      }
    },
    {
      "cell_type": "code",
      "source": [
        "#We first install the necessary packages and then download the dataset.\n",
        "\n",
        "#This cell does it for you.\n",
        "\n",
        "# installing DLATK and necessary packages\n",
        "!git clone -b psych290 https://github.com/dlatk/dlatk.git\n",
        "!pip install dlatk/\n",
        "!pip install jupysql"
      ],
      "metadata": {
        "id": "BBOLv6P-0cIf",
        "outputId": "23f80073-f9ac-49db-c785-4b12585297d1",
        "colab": {
          "base_uri": "https://localhost:8080/"
        }
      },
      "execution_count": 1,
      "outputs": [
        {
          "output_type": "stream",
          "name": "stdout",
          "text": [
            "Cloning into 'dlatk'...\n",
            "remote: Enumerating objects: 6975, done.\u001b[K\n",
            "remote: Counting objects: 100% (1070/1070), done.\u001b[K\n",
            "remote: Compressing objects: 100% (146/146), done.\u001b[K\n",
            "remote: Total 6975 (delta 992), reused 929 (delta 924), pack-reused 5905 (from 2)\u001b[K\n",
            "Receiving objects: 100% (6975/6975), 62.37 MiB | 6.59 MiB/s, done.\n",
            "Resolving deltas: 100% (4934/4934), done.\n",
            "Updating files: 100% (338/338), done.\n",
            "Processing ./dlatk\n",
            "  Preparing metadata (setup.py) ... \u001b[?25l\u001b[?25hdone\n",
            "Requirement already satisfied: nltk<=3.9.1,>=3.1 in /usr/local/lib/python3.11/dist-packages (from dlatk==1.3.1) (3.9.1)\n",
            "Requirement already satisfied: numpy<=2.0.2 in /usr/local/lib/python3.11/dist-packages (from dlatk==1.3.1) (2.0.2)\n",
            "Requirement already satisfied: pandas<=2.2.2,>=0.17.1 in /usr/local/lib/python3.11/dist-packages (from dlatk==1.3.1) (2.2.2)\n",
            "Requirement already satisfied: patsy<=1.0.1,>=0.2.1 in /usr/local/lib/python3.11/dist-packages (from dlatk==1.3.1) (1.0.1)\n",
            "Requirement already satisfied: python-dateutil<=2.8.2,>=2.5.0 in /usr/local/lib/python3.11/dist-packages (from dlatk==1.3.1) (2.8.2)\n",
            "Requirement already satisfied: scikit-learn<=1.6.1 in /usr/local/lib/python3.11/dist-packages (from dlatk==1.3.1) (1.6.1)\n",
            "Requirement already satisfied: scipy<=1.14.1,>=0.13.3 in /usr/local/lib/python3.11/dist-packages (from dlatk==1.3.1) (1.14.1)\n",
            "Requirement already satisfied: statsmodels<=0.14.4,>=0.5.0 in /usr/local/lib/python3.11/dist-packages (from dlatk==1.3.1) (0.14.4)\n",
            "Requirement already satisfied: click in /usr/local/lib/python3.11/dist-packages (from nltk<=3.9.1,>=3.1->dlatk==1.3.1) (8.1.8)\n",
            "Requirement already satisfied: joblib in /usr/local/lib/python3.11/dist-packages (from nltk<=3.9.1,>=3.1->dlatk==1.3.1) (1.4.2)\n",
            "Requirement already satisfied: regex>=2021.8.3 in /usr/local/lib/python3.11/dist-packages (from nltk<=3.9.1,>=3.1->dlatk==1.3.1) (2024.11.6)\n",
            "Requirement already satisfied: tqdm in /usr/local/lib/python3.11/dist-packages (from nltk<=3.9.1,>=3.1->dlatk==1.3.1) (4.67.1)\n",
            "Requirement already satisfied: pytz>=2020.1 in /usr/local/lib/python3.11/dist-packages (from pandas<=2.2.2,>=0.17.1->dlatk==1.3.1) (2025.2)\n",
            "Requirement already satisfied: tzdata>=2022.7 in /usr/local/lib/python3.11/dist-packages (from pandas<=2.2.2,>=0.17.1->dlatk==1.3.1) (2025.2)\n",
            "Requirement already satisfied: six>=1.5 in /usr/local/lib/python3.11/dist-packages (from python-dateutil<=2.8.2,>=2.5.0->dlatk==1.3.1) (1.17.0)\n",
            "Requirement already satisfied: threadpoolctl>=3.1.0 in /usr/local/lib/python3.11/dist-packages (from scikit-learn<=1.6.1->dlatk==1.3.1) (3.6.0)\n",
            "Requirement already satisfied: packaging>=21.3 in /usr/local/lib/python3.11/dist-packages (from statsmodels<=0.14.4,>=0.5.0->dlatk==1.3.1) (24.2)\n",
            "Building wheels for collected packages: dlatk\n",
            "  Building wheel for dlatk (setup.py) ... \u001b[?25l\u001b[?25hdone\n",
            "  Created wheel for dlatk: filename=dlatk-1.3.1-py3-none-any.whl size=35635829 sha256=fe6dcb4989894568651743b7d7b7004829ba6661b987ebf3d9da8f9646963508\n",
            "  Stored in directory: /tmp/pip-ephem-wheel-cache-wppp_z69/wheels/cc/c9/65/e1ecc64bac68518c07b286fe86921aa938e11a0c3a87d8ff93\n",
            "Successfully built dlatk\n",
            "Installing collected packages: dlatk\n",
            "Successfully installed dlatk-1.3.1\n",
            "Collecting jupysql\n",
            "  Downloading jupysql-0.11.1-py3-none-any.whl.metadata (5.9 kB)\n",
            "Requirement already satisfied: prettytable>=3.12.0 in /usr/local/lib/python3.11/dist-packages (from jupysql) (3.16.0)\n",
            "Requirement already satisfied: sqlalchemy in /usr/local/lib/python3.11/dist-packages (from jupysql) (2.0.40)\n",
            "Requirement already satisfied: sqlparse in /usr/local/lib/python3.11/dist-packages (from jupysql) (0.5.3)\n",
            "Requirement already satisfied: ipython-genutils>=0.1.0 in /usr/local/lib/python3.11/dist-packages (from jupysql) (0.2.0)\n",
            "Requirement already satisfied: jinja2 in /usr/local/lib/python3.11/dist-packages (from jupysql) (3.1.6)\n",
            "Requirement already satisfied: sqlglot>=11.3.7 in /usr/local/lib/python3.11/dist-packages (from jupysql) (25.20.2)\n",
            "Collecting jupysql-plugin>=0.4.2 (from jupysql)\n",
            "  Downloading jupysql_plugin-0.4.5-py3-none-any.whl.metadata (7.8 kB)\n",
            "Collecting ploomber-core>=0.2.7 (from jupysql)\n",
            "  Downloading ploomber_core-0.2.26-py3-none-any.whl.metadata (527 bytes)\n",
            "Requirement already satisfied: pyyaml in /usr/local/lib/python3.11/dist-packages (from ploomber-core>=0.2.7->jupysql) (6.0.2)\n",
            "Collecting posthog (from ploomber-core>=0.2.7->jupysql)\n",
            "  Downloading posthog-3.23.0-py2.py3-none-any.whl.metadata (3.0 kB)\n",
            "Requirement already satisfied: wcwidth in /usr/local/lib/python3.11/dist-packages (from prettytable>=3.12.0->jupysql) (0.2.13)\n",
            "Requirement already satisfied: MarkupSafe>=2.0 in /usr/local/lib/python3.11/dist-packages (from jinja2->jupysql) (3.0.2)\n",
            "Requirement already satisfied: greenlet>=1 in /usr/local/lib/python3.11/dist-packages (from sqlalchemy->jupysql) (3.1.1)\n",
            "Requirement already satisfied: typing-extensions>=4.6.0 in /usr/local/lib/python3.11/dist-packages (from sqlalchemy->jupysql) (4.13.0)\n",
            "Requirement already satisfied: requests<3.0,>=2.7 in /usr/local/lib/python3.11/dist-packages (from posthog->ploomber-core>=0.2.7->jupysql) (2.32.3)\n",
            "Requirement already satisfied: six>=1.5 in /usr/local/lib/python3.11/dist-packages (from posthog->ploomber-core>=0.2.7->jupysql) (1.17.0)\n",
            "Collecting monotonic>=1.5 (from posthog->ploomber-core>=0.2.7->jupysql)\n",
            "  Downloading monotonic-1.6-py2.py3-none-any.whl.metadata (1.5 kB)\n",
            "Collecting backoff>=1.10.0 (from posthog->ploomber-core>=0.2.7->jupysql)\n",
            "  Downloading backoff-2.2.1-py3-none-any.whl.metadata (14 kB)\n",
            "Requirement already satisfied: python-dateutil>2.1 in /usr/local/lib/python3.11/dist-packages (from posthog->ploomber-core>=0.2.7->jupysql) (2.8.2)\n",
            "Requirement already satisfied: distro>=1.5.0 in /usr/local/lib/python3.11/dist-packages (from posthog->ploomber-core>=0.2.7->jupysql) (1.9.0)\n",
            "Requirement already satisfied: charset-normalizer<4,>=2 in /usr/local/lib/python3.11/dist-packages (from requests<3.0,>=2.7->posthog->ploomber-core>=0.2.7->jupysql) (3.4.1)\n",
            "Requirement already satisfied: idna<4,>=2.5 in /usr/local/lib/python3.11/dist-packages (from requests<3.0,>=2.7->posthog->ploomber-core>=0.2.7->jupysql) (3.10)\n",
            "Requirement already satisfied: urllib3<3,>=1.21.1 in /usr/local/lib/python3.11/dist-packages (from requests<3.0,>=2.7->posthog->ploomber-core>=0.2.7->jupysql) (2.3.0)\n",
            "Requirement already satisfied: certifi>=2017.4.17 in /usr/local/lib/python3.11/dist-packages (from requests<3.0,>=2.7->posthog->ploomber-core>=0.2.7->jupysql) (2025.1.31)\n",
            "Downloading jupysql-0.11.1-py3-none-any.whl (95 kB)\n",
            "\u001b[2K   \u001b[90m━━━━━━━━━━━━━━━━━━━━━━━━━━━━━━━━━━━━━━━━\u001b[0m \u001b[32m95.1/95.1 kB\u001b[0m \u001b[31m2.0 MB/s\u001b[0m eta \u001b[36m0:00:00\u001b[0m\n",
            "\u001b[?25hDownloading jupysql_plugin-0.4.5-py3-none-any.whl (192 kB)\n",
            "\u001b[2K   \u001b[90m━━━━━━━━━━━━━━━━━━━━━━━━━━━━━━━━━━━━━━━━\u001b[0m \u001b[32m192.8/192.8 kB\u001b[0m \u001b[31m6.9 MB/s\u001b[0m eta \u001b[36m0:00:00\u001b[0m\n",
            "\u001b[?25hDownloading ploomber_core-0.2.26-py3-none-any.whl (22 kB)\n",
            "Downloading posthog-3.23.0-py2.py3-none-any.whl (84 kB)\n",
            "\u001b[2K   \u001b[90m━━━━━━━━━━━━━━━━━━━━━━━━━━━━━━━━━━━━━━━━\u001b[0m \u001b[32m85.0/85.0 kB\u001b[0m \u001b[31m4.9 MB/s\u001b[0m eta \u001b[36m0:00:00\u001b[0m\n",
            "\u001b[?25hDownloading backoff-2.2.1-py3-none-any.whl (15 kB)\n",
            "Downloading monotonic-1.6-py2.py3-none-any.whl (8.2 kB)\n",
            "Installing collected packages: monotonic, backoff, posthog, ploomber-core, jupysql-plugin, jupysql\n",
            "Successfully installed backoff-2.2.1 jupysql-0.11.1 jupysql-plugin-0.4.5 monotonic-1.6 ploomber-core-0.2.26 posthog-3.23.0\n"
          ]
        }
      ]
    },
    {
      "cell_type": "markdown",
      "source": [
        "### 1b) Download data and insert into SQLite database"
      ],
      "metadata": {
        "id": "RoiXZeF8ezYm"
      }
    },
    {
      "cell_type": "code",
      "source": [
        "# this download the csvs we need for this tutorial\n",
        "!git clone https://github.com/CompPsychology/sql_intro.git"
      ],
      "metadata": {
        "id": "GeghsdOGdzyw",
        "colab": {
          "base_uri": "https://localhost:8080/"
        },
        "outputId": "0b9d9ced-53c3-41d5-c902-f85ce47b1170"
      },
      "execution_count": 2,
      "outputs": [
        {
          "output_type": "stream",
          "name": "stdout",
          "text": [
            "Cloning into 'sql_intro'...\n",
            "remote: Enumerating objects: 7, done.\u001b[K\n",
            "remote: Counting objects:  14% (1/7)\u001b[K\rremote: Counting objects:  28% (2/7)\u001b[K\rremote: Counting objects:  42% (3/7)\u001b[K\rremote: Counting objects:  57% (4/7)\u001b[K\rremote: Counting objects:  71% (5/7)\u001b[K\rremote: Counting objects:  85% (6/7)\u001b[K\rremote: Counting objects: 100% (7/7)\u001b[K\rremote: Counting objects: 100% (7/7), done.\u001b[K\n",
            "remote: Compressing objects: 100% (6/6), done.\u001b[K\n",
            "remote: Total 7 (delta 1), reused 7 (delta 1), pack-reused 0 (from 0)\u001b[K\n",
            "Receiving objects: 100% (7/7), 1.29 MiB | 6.55 MiB/s, done.\n",
            "Resolving deltas: 100% (1/1), done.\n"
          ]
        }
      ]
    },
    {
      "cell_type": "markdown",
      "metadata": {
        "id": "1eac4ada"
      },
      "source": [
        "Now that you have set up Colab, create a `username` variable which we use to name the database for the rest of the tutorial."
      ]
    },
    {
      "cell_type": "code",
      "source": [
        "username = \"your_name\""
      ],
      "metadata": {
        "id": "DQQ1o-f3m-j8"
      },
      "execution_count": 1,
      "outputs": []
    },
    {
      "cell_type": "markdown",
      "source": [
        "We then load the downloaded data into a database named [username].db in the sqlite_data folder."
      ],
      "metadata": {
        "id": "Uy-o-KCqpis6"
      }
    },
    {
      "cell_type": "code",
      "source": [
        "# load the required package -- similar to library() function in R\n",
        "import os\n",
        "from dlatk.tools.importmethods import csvToSQLite\n",
        "\n",
        "# store the complete path to the database -- sqlite_data/[username].db\n",
        "database = os.path.join(\"sqlite_data\", username)\n",
        "\n",
        "# import CSVs into tables in this database\n",
        "csvToSQLite(\n",
        "    \"sql_intro/counties.csv\",\n",
        "    database,\n",
        "    \"counties\"\n",
        ")\n",
        "\n",
        "csvToSQLite(\n",
        "    \"sql_intro/tweets.csv\",\n",
        "    database,\n",
        "    \"tweets\"\n",
        ")"
      ],
      "metadata": {
        "id": "rIGSacbpk3Hw",
        "outputId": "65bec1b0-9fb5-413f-a552-b447a55330c8",
        "colab": {
          "base_uri": "https://localhost:8080/"
        }
      },
      "execution_count": 2,
      "outputs": [
        {
          "output_type": "stream",
          "name": "stderr",
          "text": [
            "Table already exists\n",
            "Table already exists\n"
          ]
        }
      ]
    },
    {
      "cell_type": "markdown",
      "source": [
        "### 1c) Setup database connection"
      ],
      "metadata": {
        "id": "2u6O5Zwdewd4"
      }
    },
    {
      "cell_type": "markdown",
      "source": [
        "Finally, we establish a connection with the (SQLite) database with the `%sql` extension from colab."
      ],
      "metadata": {
        "id": "QYtoqPvgpnmy"
      }
    },
    {
      "cell_type": "code",
      "source": [
        "# loads the %%sql extension\n",
        "%load_ext sql\n",
        "\n",
        "# connects the extension to the database\n",
        "from sqlalchemy import create_engine\n",
        "engine = create_engine(f\"sqlite:///sqlite_data/{username}.db?charset=utf8mb4\")\n",
        "%sql engine\n",
        "\n",
        "#set the output limit to 50\n",
        "%config SqlMagic.displaylimit = 50"
      ],
      "metadata": {
        "id": "BMB3WwaBeQgT"
      },
      "execution_count": 3,
      "outputs": []
    },
    {
      "cell_type": "markdown",
      "metadata": {
        "id": "lGpdCSuAGXw6"
      },
      "source": [
        "## 2) Check tables\n",
        "\n",
        "Let's check the tables within the database."
      ]
    },
    {
      "cell_type": "code",
      "execution_count": 6,
      "metadata": {
        "colab": {
          "base_uri": "https://localhost:8080/",
          "height": 83
        },
        "id": "RgQYRzcOGXw6",
        "outputId": "59818ac9-c019-4b8b-e419-74eaf41ed7e4"
      },
      "outputs": [
        {
          "output_type": "execute_result",
          "data": {
            "text/plain": [
              "+----------+\n",
              "|   Name   |\n",
              "+----------+\n",
              "| counties |\n",
              "|  tweets  |\n",
              "+----------+"
            ],
            "text/html": [
              "<table>\n",
              "    <thead>\n",
              "        <tr>\n",
              "            <th>Name</th>\n",
              "        </tr>\n",
              "    </thead>\n",
              "    <tbody>\n",
              "        <tr>\n",
              "            <td>counties</td>\n",
              "        </tr>\n",
              "        <tr>\n",
              "            <td>tweets</td>\n",
              "        </tr>\n",
              "    </tbody>\n",
              "</table>"
            ]
          },
          "metadata": {},
          "execution_count": 6
        }
      ],
      "source": [
        "%sqlcmd tables"
      ]
    },
    {
      "cell_type": "markdown",
      "metadata": {
        "id": "Wr3Ot8HCGXw6"
      },
      "source": [
        "We will use both the tables `counties` and `tweets` in this tutorial."
      ]
    },
    {
      "cell_type": "markdown",
      "metadata": {
        "id": "Z4iqkES9GXw6"
      },
      "source": [
        "#### 👩‍🔬💻 Exercise\n",
        "\n",
        "Can you check the columns in these tables?"
      ]
    },
    {
      "cell_type": "markdown",
      "metadata": {
        "id": "9p-Ws8twGXw7"
      },
      "source": [
        "**Ask Yourself:** What might be the primary key - foreign key relationship that connects the two tables? Basically, what column ties tables together?"
      ]
    },
    {
      "cell_type": "markdown",
      "metadata": {
        "id": "9Dw9-PN_GXw7"
      },
      "source": [
        "## 3) View Sample Of Records\n",
        "\n",
        "Now that we have copied the tables, let's look at a sample of tweets. Instead of looking at consecutive samples, lets look at random sample. This is where we use the **ORDER BY RANDOM( )**. Run it multiple times to see different samples."
      ]
    },
    {
      "cell_type": "code",
      "execution_count": 9,
      "metadata": {
        "colab": {
          "base_uri": "https://localhost:8080/",
          "height": 477
        },
        "id": "7ffvXbmaGXw7",
        "outputId": "1b5d7629-9f4a-482a-821a-f44efd93b891"
      },
      "outputs": [
        {
          "output_type": "display_data",
          "data": {
            "text/plain": [
              "Running query in 'sqlite:///sqlite_data/your_name.db?charset=utf8mb4'"
            ],
            "text/html": [
              "<span style=\"None\">Running query in &#x27;sqlite:///sqlite_data/your_name.db?charset=utf8mb4&#x27;</span>"
            ]
          },
          "metadata": {}
        },
        {
          "output_type": "execute_result",
          "data": {
            "text/plain": [
              "+-------------+---------------------+-------+---------------------+--------------------+-----------------+------------------------------------------------------------------------------------------------------------------------------------------------------------------------------------------------------------------------------------------------------------------------------------------------+--------------------------------+---------------------+---------------------+\n",
              "| coordinates |      created_at     |  fips |       tweet_id      | place_country_code | place_full_name |                                                                                                                                              text                                                                                                                                              |        user_created_at         |       user_id       | user_statuses_count |\n",
              "+-------------+---------------------+-------+---------------------+--------------------+-----------------+------------------------------------------------------------------------------------------------------------------------------------------------------------------------------------------------------------------------------------------------------------------------------------------------+--------------------------------+---------------------+---------------------+\n",
              "|             | 2020-05-18 15:36:58 | 36027 | 1262406833081397249 |                    |                 |                                                                                         Moderna's COVID-19 vaccine shows early promise; shares soar | Article [AMP] | Reuters https://t.co/uUZamwt7VI                                                                                          | Mon Mar 02 21:04:46 +0000 2020 | 1234585412787752971 |         97.0        |\n",
              "|             | 2020-05-18 20:46:44 | 35043 | 1262484789170442243 |                    |                 |                                                                                         Flirting at the grocery store while wearing dust masks is the modern equivalent of going to a masquerade ball                                                                                          | Thu Sep 06 22:15:01 +0000 2012 |      807699176      |        4927.0       |\n",
              "|             | 2020-05-14 14:07:55 | 20161 | 1260934871658016769 |                    |                 |                                                              If it wasn't for coronavirus, I would have been in a forest, climbing trees and eating kaphal (Myrica esculenta) like a monkey. I miss it .? https://t.co/RrKn9AUZIe                                                              | Mon Oct 19 09:19:25 +0000 2015 |      3945503725     |        586.0        |\n",
              "|             | 2020-05-13 23:00:40 | 17195 | 1260706558108893186 |                    |                 | Today we announce 1 new laboratory confirmed cases of COVID-19 and 3 additional recoveries in Whiteside County. This case is: (1)50s.  Today Illinois announced 1,677 new cases and 192 additional deaths.  For more information please visit: https://t.co/9ToMswgAtz https://t.co/vnPaPn5eKy | Fri Mar 06 19:09:32 +0000 2015 |      3075547853     |        3155.0       |\n",
              "|             | 2020-05-11 19:33:34 | 37195 | 1259929663847235585 |                    |                 |                                                                                               Nursing home resident dies, marking Wilson County's 9th coronavirus death https://t.co/0EeWx5VS7Z                                                                                                | Fri Oct 18 16:48:26 +0000 2013 |      1969237411     |       21920.0       |\n",
              "+-------------+---------------------+-------+---------------------+--------------------+-----------------+------------------------------------------------------------------------------------------------------------------------------------------------------------------------------------------------------------------------------------------------------------------------------------------------+--------------------------------+---------------------+---------------------+"
            ],
            "text/html": [
              "<table>\n",
              "    <thead>\n",
              "        <tr>\n",
              "            <th>coordinates</th>\n",
              "            <th>created_at</th>\n",
              "            <th>fips</th>\n",
              "            <th>tweet_id</th>\n",
              "            <th>place_country_code</th>\n",
              "            <th>place_full_name</th>\n",
              "            <th>text</th>\n",
              "            <th>user_created_at</th>\n",
              "            <th>user_id</th>\n",
              "            <th>user_statuses_count</th>\n",
              "        </tr>\n",
              "    </thead>\n",
              "    <tbody>\n",
              "        <tr>\n",
              "            <td></td>\n",
              "            <td>2020-05-18 15:36:58</td>\n",
              "            <td>36027</td>\n",
              "            <td>1262406833081397249</td>\n",
              "            <td></td>\n",
              "            <td></td>\n",
              "            <td>Moderna's COVID-19 vaccine shows early promise; shares soar | Article [AMP] | Reuters https://t.co/uUZamwt7VI</td>\n",
              "            <td>Mon Mar 02 21:04:46 +0000 2020</td>\n",
              "            <td>1234585412787752971</td>\n",
              "            <td>97.0</td>\n",
              "        </tr>\n",
              "        <tr>\n",
              "            <td></td>\n",
              "            <td>2020-05-18 20:46:44</td>\n",
              "            <td>35043</td>\n",
              "            <td>1262484789170442243</td>\n",
              "            <td></td>\n",
              "            <td></td>\n",
              "            <td>Flirting at the grocery store while wearing dust masks is the modern equivalent of going to a masquerade ball</td>\n",
              "            <td>Thu Sep 06 22:15:01 +0000 2012</td>\n",
              "            <td>807699176</td>\n",
              "            <td>4927.0</td>\n",
              "        </tr>\n",
              "        <tr>\n",
              "            <td></td>\n",
              "            <td>2020-05-14 14:07:55</td>\n",
              "            <td>20161</td>\n",
              "            <td>1260934871658016769</td>\n",
              "            <td></td>\n",
              "            <td></td>\n",
              "            <td>If it wasn't for coronavirus, I would have been in a forest, climbing trees and eating kaphal (Myrica esculenta) like a monkey. I miss it .? https://t.co/RrKn9AUZIe</td>\n",
              "            <td>Mon Oct 19 09:19:25 +0000 2015</td>\n",
              "            <td>3945503725</td>\n",
              "            <td>586.0</td>\n",
              "        </tr>\n",
              "        <tr>\n",
              "            <td></td>\n",
              "            <td>2020-05-13 23:00:40</td>\n",
              "            <td>17195</td>\n",
              "            <td>1260706558108893186</td>\n",
              "            <td></td>\n",
              "            <td></td>\n",
              "            <td>Today we announce 1 new laboratory confirmed cases of COVID-19 and 3 additional recoveries in Whiteside County. This case is: (1)50s.  Today Illinois announced 1,677 new cases and 192 additional deaths.  For more information please visit: https://t.co/9ToMswgAtz https://t.co/vnPaPn5eKy</td>\n",
              "            <td>Fri Mar 06 19:09:32 +0000 2015</td>\n",
              "            <td>3075547853</td>\n",
              "            <td>3155.0</td>\n",
              "        </tr>\n",
              "        <tr>\n",
              "            <td></td>\n",
              "            <td>2020-05-11 19:33:34</td>\n",
              "            <td>37195</td>\n",
              "            <td>1259929663847235585</td>\n",
              "            <td></td>\n",
              "            <td></td>\n",
              "            <td>Nursing home resident dies, marking Wilson County's 9th coronavirus death https://t.co/0EeWx5VS7Z</td>\n",
              "            <td>Fri Oct 18 16:48:26 +0000 2013</td>\n",
              "            <td>1969237411</td>\n",
              "            <td>21920.0</td>\n",
              "        </tr>\n",
              "    </tbody>\n",
              "</table>"
            ]
          },
          "metadata": {},
          "execution_count": 9
        }
      ],
      "source": [
        "%%sql\n",
        "\n",
        "SELECT *\n",
        "FROM tweets\n",
        "ORDER BY RANDOM()\n",
        "LIMIT 5;"
      ]
    },
    {
      "cell_type": "markdown",
      "metadata": {
        "id": "r2ynwqrjGXw7"
      },
      "source": [
        "## 4) Drop Column\n",
        "\n",
        "You can observe that the `coordinates` column is empty. Is that the case with all the rows? Lets check that."
      ]
    },
    {
      "cell_type": "code",
      "execution_count": 10,
      "metadata": {
        "colab": {
          "base_uri": "https://localhost:8080/",
          "height": 79
        },
        "id": "ZUvTo8p8GXw7",
        "outputId": "efa5300e-3646-4bef-dde1-26e0068af885"
      },
      "outputs": [
        {
          "output_type": "display_data",
          "data": {
            "text/plain": [
              "Running query in 'sqlite:///sqlite_data/your_name.db?charset=utf8mb4'"
            ],
            "text/html": [
              "<span style=\"None\">Running query in &#x27;sqlite:///sqlite_data/your_name.db?charset=utf8mb4&#x27;</span>"
            ]
          },
          "metadata": {}
        },
        {
          "output_type": "execute_result",
          "data": {
            "text/plain": [
              "+----------+\n",
              "| n_tweets |\n",
              "+----------+\n",
              "|    0     |\n",
              "+----------+"
            ],
            "text/html": [
              "<table>\n",
              "    <thead>\n",
              "        <tr>\n",
              "            <th>n_tweets</th>\n",
              "        </tr>\n",
              "    </thead>\n",
              "    <tbody>\n",
              "        <tr>\n",
              "            <td>0</td>\n",
              "        </tr>\n",
              "    </tbody>\n",
              "</table>"
            ]
          },
          "metadata": {},
          "execution_count": 10
        }
      ],
      "source": [
        "%%sql\n",
        "\n",
        "SELECT COUNT(*) AS n_tweets\n",
        "FROM tweets\n",
        "WHERE LENGTH(coordinates) > 0;"
      ]
    },
    {
      "cell_type": "markdown",
      "metadata": {
        "id": "otSoI3qnGXw7"
      },
      "source": [
        "So the _coordinates_ columns is empty for all rows table. We might as well drop the column altogether."
      ]
    },
    {
      "cell_type": "code",
      "execution_count": 11,
      "metadata": {
        "colab": {
          "base_uri": "https://localhost:8080/",
          "height": 34
        },
        "id": "YbdvD_oLGXw7",
        "outputId": "864f9938-16a2-4884-8457-ba051ceb93a5"
      },
      "outputs": [
        {
          "output_type": "display_data",
          "data": {
            "text/plain": [
              "Running query in 'sqlite:///sqlite_data/your_name.db?charset=utf8mb4'"
            ],
            "text/html": [
              "<span style=\"None\">Running query in &#x27;sqlite:///sqlite_data/your_name.db?charset=utf8mb4&#x27;</span>"
            ]
          },
          "metadata": {}
        },
        {
          "output_type": "execute_result",
          "data": {
            "text/plain": [
              "++\n",
              "||\n",
              "++\n",
              "++"
            ],
            "text/html": [
              "<table>\n",
              "    <thead>\n",
              "        <tr>\n",
              "        </tr>\n",
              "    </thead>\n",
              "    <tbody>\n",
              "    </tbody>\n",
              "</table>"
            ]
          },
          "metadata": {},
          "execution_count": 11
        }
      ],
      "source": [
        "%%sql\n",
        "\n",
        "ALTER TABLE tweets\n",
        "DROP COLUMN coordinates;"
      ]
    },
    {
      "cell_type": "markdown",
      "metadata": {
        "id": "YcAe9XiHGXw7"
      },
      "source": [
        "#### 👩‍🔬💻 Exercise\n",
        "\n",
        "Can you check the total number of **unique** users in the table?"
      ]
    },
    {
      "cell_type": "markdown",
      "metadata": {
        "id": "W8ZbF-feGXw8"
      },
      "source": [
        "#### 👩‍🔬💻 Exercise\n",
        "\n",
        "Verify if there are tweets from all the counties in `counties` table.        "
      ]
    },
    {
      "cell_type": "markdown",
      "metadata": {
        "id": "3qTr9mZtGXw8"
      },
      "source": [
        "## 5) Remove Duplicates\n",
        "\n",
        "Let's check if there are any duplicate tweets by finding number of distinct tweet ids."
      ]
    },
    {
      "cell_type": "code",
      "execution_count": 15,
      "metadata": {
        "colab": {
          "base_uri": "https://localhost:8080/",
          "height": 79
        },
        "id": "X3LGNDGFGXw8",
        "outputId": "a5232a2d-6c5c-4f96-82f4-a5246840610a"
      },
      "outputs": [
        {
          "output_type": "display_data",
          "data": {
            "text/plain": [
              "Running query in 'sqlite:///sqlite_data/your_name.db?charset=utf8mb4'"
            ],
            "text/html": [
              "<span style=\"None\">Running query in &#x27;sqlite:///sqlite_data/your_name.db?charset=utf8mb4&#x27;</span>"
            ]
          },
          "metadata": {}
        },
        {
          "output_type": "execute_result",
          "data": {
            "text/plain": [
              "+----------+-------+\n",
              "| n_tweets | total |\n",
              "+----------+-------+\n",
              "|  12145   | 12629 |\n",
              "+----------+-------+"
            ],
            "text/html": [
              "<table>\n",
              "    <thead>\n",
              "        <tr>\n",
              "            <th>n_tweets</th>\n",
              "            <th>total</th>\n",
              "        </tr>\n",
              "    </thead>\n",
              "    <tbody>\n",
              "        <tr>\n",
              "            <td>12145</td>\n",
              "            <td>12629</td>\n",
              "        </tr>\n",
              "    </tbody>\n",
              "</table>"
            ]
          },
          "metadata": {},
          "execution_count": 15
        }
      ],
      "source": [
        "%%sql\n",
        "\n",
        "SELECT COUNT(DISTINCT(tweet_id)) AS n_tweets, COUNT(*) AS total\n",
        "FROM tweets;"
      ]
    },
    {
      "cell_type": "markdown",
      "metadata": {
        "id": "J7hKRuSZGXw8"
      },
      "source": [
        "So there are duplicate tweets in this data. Let us make a table `n_duplicates` with number of duplicates for every tweet _id_ for only the tweets that have duplicates."
      ]
    },
    {
      "cell_type": "code",
      "execution_count": 16,
      "metadata": {
        "colab": {
          "base_uri": "https://localhost:8080/",
          "height": 34
        },
        "id": "2zDp-iiwGXw8",
        "outputId": "6d4e9370-3d4d-4c14-caf4-c67e9cabbc28"
      },
      "outputs": [
        {
          "output_type": "display_data",
          "data": {
            "text/plain": [
              "Running query in 'sqlite:///sqlite_data/your_name.db?charset=utf8mb4'"
            ],
            "text/html": [
              "<span style=\"None\">Running query in &#x27;sqlite:///sqlite_data/your_name.db?charset=utf8mb4&#x27;</span>"
            ]
          },
          "metadata": {}
        },
        {
          "output_type": "execute_result",
          "data": {
            "text/plain": [
              "++\n",
              "||\n",
              "++\n",
              "++"
            ],
            "text/html": [
              "<table>\n",
              "    <thead>\n",
              "        <tr>\n",
              "        </tr>\n",
              "    </thead>\n",
              "    <tbody>\n",
              "    </tbody>\n",
              "</table>"
            ]
          },
          "metadata": {},
          "execution_count": 16
        }
      ],
      "source": [
        "%%sql\n",
        "\n",
        "CREATE TABLE n_duplicates AS\n",
        "SELECT tweet_id, COUNT(*) AS n_duplicates\n",
        "FROM tweets\n",
        "GROUP BY tweet_id HAVING COUNT(*) > 1;"
      ]
    },
    {
      "cell_type": "markdown",
      "metadata": {
        "id": "cfyg_M_JGXw8"
      },
      "source": [
        "Let's check some of the entries in the `n_duplicates` table."
      ]
    },
    {
      "cell_type": "code",
      "execution_count": 17,
      "metadata": {
        "colab": {
          "base_uri": "https://localhost:8080/",
          "height": 271
        },
        "id": "ANGddVymGXw8",
        "outputId": "70998b69-ecd5-4871-a34b-7eb98862fb2e"
      },
      "outputs": [
        {
          "output_type": "display_data",
          "data": {
            "text/plain": [
              "Running query in 'sqlite:///sqlite_data/your_name.db?charset=utf8mb4'"
            ],
            "text/html": [
              "<span style=\"None\">Running query in &#x27;sqlite:///sqlite_data/your_name.db?charset=utf8mb4&#x27;</span>"
            ]
          },
          "metadata": {}
        },
        {
          "output_type": "execute_result",
          "data": {
            "text/plain": [
              "+---------------------+--------------+\n",
              "|       tweet_id      | n_duplicates |\n",
              "+---------------------+--------------+\n",
              "| 1258713300671647745 |      2       |\n",
              "| 1258728358613049346 |      2       |\n",
              "| 1258728373184008195 |      2       |\n",
              "| 1258728468495437824 |      2       |\n",
              "| 1258743455078989825 |      2       |\n",
              "| 1258743455976734720 |      2       |\n",
              "| 1258743695588892672 |      2       |\n",
              "| 1258743696117415937 |      2       |\n",
              "| 1258758558868365312 |      2       |\n",
              "| 1258758580087533569 |      2       |\n",
              "+---------------------+--------------+"
            ],
            "text/html": [
              "<table>\n",
              "    <thead>\n",
              "        <tr>\n",
              "            <th>tweet_id</th>\n",
              "            <th>n_duplicates</th>\n",
              "        </tr>\n",
              "    </thead>\n",
              "    <tbody>\n",
              "        <tr>\n",
              "            <td>1258713300671647745</td>\n",
              "            <td>2</td>\n",
              "        </tr>\n",
              "        <tr>\n",
              "            <td>1258728358613049346</td>\n",
              "            <td>2</td>\n",
              "        </tr>\n",
              "        <tr>\n",
              "            <td>1258728373184008195</td>\n",
              "            <td>2</td>\n",
              "        </tr>\n",
              "        <tr>\n",
              "            <td>1258728468495437824</td>\n",
              "            <td>2</td>\n",
              "        </tr>\n",
              "        <tr>\n",
              "            <td>1258743455078989825</td>\n",
              "            <td>2</td>\n",
              "        </tr>\n",
              "        <tr>\n",
              "            <td>1258743455976734720</td>\n",
              "            <td>2</td>\n",
              "        </tr>\n",
              "        <tr>\n",
              "            <td>1258743695588892672</td>\n",
              "            <td>2</td>\n",
              "        </tr>\n",
              "        <tr>\n",
              "            <td>1258743696117415937</td>\n",
              "            <td>2</td>\n",
              "        </tr>\n",
              "        <tr>\n",
              "            <td>1258758558868365312</td>\n",
              "            <td>2</td>\n",
              "        </tr>\n",
              "        <tr>\n",
              "            <td>1258758580087533569</td>\n",
              "            <td>2</td>\n",
              "        </tr>\n",
              "    </tbody>\n",
              "</table>"
            ]
          },
          "metadata": {},
          "execution_count": 17
        }
      ],
      "source": [
        "%%sql\n",
        "\n",
        "SELECT *\n",
        "FROM n_duplicates\n",
        "LIMIT 10\n",
        "OFFSET 100;"
      ]
    },
    {
      "cell_type": "markdown",
      "metadata": {
        "id": "yapU8pPdGXw8"
      },
      "source": [
        "There are indeed duplicate tweets in this data. Print the full tweets for some of these ids. Can you see why **ORDER BY** is needed here ?"
      ]
    },
    {
      "cell_type": "code",
      "execution_count": 18,
      "metadata": {
        "colab": {
          "base_uri": "https://localhost:8080/",
          "height": 757
        },
        "id": "U7-n_krFGXw8",
        "outputId": "e29f75e2-8a5e-45a7-bfd2-dabf142ac0e4"
      },
      "outputs": [
        {
          "output_type": "display_data",
          "data": {
            "text/plain": [
              "Running query in 'sqlite:///sqlite_data/your_name.db?charset=utf8mb4'"
            ],
            "text/html": [
              "<span style=\"None\">Running query in &#x27;sqlite:///sqlite_data/your_name.db?charset=utf8mb4&#x27;</span>"
            ]
          },
          "metadata": {}
        },
        {
          "output_type": "execute_result",
          "data": {
            "text/plain": [
              "+---------------------+-------+---------------------+--------------------+-----------------+------------------------------------------------------------------------------------------------------------------------------------------------------------------------------------------------------------------------------------------------------------------------------------------------------------+--------------------------------+---------------------+---------------------+\n",
              "|      created_at     |  fips |       tweet_id      | place_country_code | place_full_name |                                                                                                                                                    text                                                                                                                                                    |        user_created_at         |       user_id       | user_statuses_count |\n",
              "+---------------------+-------+---------------------+--------------------+-----------------+------------------------------------------------------------------------------------------------------------------------------------------------------------------------------------------------------------------------------------------------------------------------------------------------------------+--------------------------------+---------------------+---------------------+\n",
              "| 2020-05-07 18:00:00 | 37195 | 1258456564547158020 |                    |                 |                                                                                                                          Lessons from the Pandemic Police https://t.co/BCOzuBkTtS                                                                                                                          | Wed Jul 11 19:55:27 +0000 2012 |      633251100      |        5593.0       |\n",
              "| 2020-05-07 18:00:00 | 37195 | 1258456564547158020 |                    |                 |                                                                                                                          Lessons from the Pandemic Police https://t.co/BCOzuBkTtS                                                                                                                          | Wed Jul 11 19:55:27 +0000 2012 |      633251100      |        5593.0       |\n",
              "| 2020-05-07 18:00:38 | 36027 | 1258456722097811457 |                    |                 | The Northeast Face Shield Project is a collection of volunteers who 3D print #faceshield parts and distribute completed face shields to healthcare facilities in the Northeast. Thank you for donating 1,200 face shields to @NuvanceHealth locations, including @Vassar_Brothers. https://t.co/vMOdBnLzE9 | Tue Nov 12 20:40:55 +0000 2019 | 1194354342712750080 |        171.0        |\n",
              "| 2020-05-07 18:00:38 | 36027 | 1258456722097811457 |                    |                 | The Northeast Face Shield Project is a collection of volunteers who 3D print #faceshield parts and distribute completed face shields to healthcare facilities in the Northeast. Thank you for donating 1,200 face shields to @NuvanceHealth locations, including @Vassar_Brothers. https://t.co/vMOdBnLzE9 | Tue Nov 12 20:40:55 +0000 2019 | 1194354342712750080 |        171.0        |\n",
              "| 2020-05-07 18:00:52 | 48479 | 1258456782508298240 |                    |                 |                                                                                                         City of Laredo confirms four added cases of coronavirus, 414 total https://t.co/8J1Uf7TFTY                                                                                                         | Thu Jun 12 18:09:14 +0000 2008 |       15099229      |       70768.0       |\n",
              "| 2020-05-07 18:00:52 | 48479 | 1258456782508298240 |                    |                 |                                                                                                         City of Laredo confirms four added cases of coronavirus, 414 total https://t.co/8J1Uf7TFTY                                                                                                         | Thu Jun 12 18:09:14 +0000 2008 |       15099229      |       70768.0       |\n",
              "| 2020-05-07 18:00:57 | 36027 | 1258456802540339203 |                    |                 |                                                                                   Do you know which #HudsonValley parks and trails are closed to prevent the spread of #COVID19?  https://t.co/AZPYtraJ7n @scenichudson                                                                                    | Thu May 21 16:26:54 +0000 2009 |       41619175      |       16722.0       |\n",
              "| 2020-05-07 18:00:57 | 36027 | 1258456802540339203 |                    |                 |                                                                                   Do you know which #HudsonValley parks and trails are closed to prevent the spread of #COVID19?  https://t.co/AZPYtraJ7n @scenichudson                                                                                    | Thu May 21 16:26:54 +0000 2009 |       41619175      |       16722.0       |\n",
              "| 2020-05-07 18:00:57 | 33001 | 1258456802833895425 |                    |                 |                                                                                                                   Statewide coverage of COVID-19 topics and more https://t.co/qLmRpvNxWq                                                                                                                   | Thu Dec 31 12:54:53 +0000 2009 |      100761151      |        3099.0       |\n",
              "| 2020-05-07 18:00:57 | 33001 | 1258456802833895425 |                    |                 |                                                                                                                   Statewide coverage of COVID-19 topics and more https://t.co/qLmRpvNxWq                                                                                                                   | Thu Dec 31 12:54:53 +0000 2009 |      100761151      |        3099.0       |\n",
              "+---------------------+-------+---------------------+--------------------+-----------------+------------------------------------------------------------------------------------------------------------------------------------------------------------------------------------------------------------------------------------------------------------------------------------------------------------+--------------------------------+---------------------+---------------------+"
            ],
            "text/html": [
              "<table>\n",
              "    <thead>\n",
              "        <tr>\n",
              "            <th>created_at</th>\n",
              "            <th>fips</th>\n",
              "            <th>tweet_id</th>\n",
              "            <th>place_country_code</th>\n",
              "            <th>place_full_name</th>\n",
              "            <th>text</th>\n",
              "            <th>user_created_at</th>\n",
              "            <th>user_id</th>\n",
              "            <th>user_statuses_count</th>\n",
              "        </tr>\n",
              "    </thead>\n",
              "    <tbody>\n",
              "        <tr>\n",
              "            <td>2020-05-07 18:00:00</td>\n",
              "            <td>37195</td>\n",
              "            <td>1258456564547158020</td>\n",
              "            <td></td>\n",
              "            <td></td>\n",
              "            <td>Lessons from the Pandemic Police https://t.co/BCOzuBkTtS</td>\n",
              "            <td>Wed Jul 11 19:55:27 +0000 2012</td>\n",
              "            <td>633251100</td>\n",
              "            <td>5593.0</td>\n",
              "        </tr>\n",
              "        <tr>\n",
              "            <td>2020-05-07 18:00:00</td>\n",
              "            <td>37195</td>\n",
              "            <td>1258456564547158020</td>\n",
              "            <td></td>\n",
              "            <td></td>\n",
              "            <td>Lessons from the Pandemic Police https://t.co/BCOzuBkTtS</td>\n",
              "            <td>Wed Jul 11 19:55:27 +0000 2012</td>\n",
              "            <td>633251100</td>\n",
              "            <td>5593.0</td>\n",
              "        </tr>\n",
              "        <tr>\n",
              "            <td>2020-05-07 18:00:38</td>\n",
              "            <td>36027</td>\n",
              "            <td>1258456722097811457</td>\n",
              "            <td></td>\n",
              "            <td></td>\n",
              "            <td>The Northeast Face Shield Project is a collection of volunteers who 3D print #faceshield parts and distribute completed face shields to healthcare facilities in the Northeast. Thank you for donating 1,200 face shields to @NuvanceHealth locations, including @Vassar_Brothers. https://t.co/vMOdBnLzE9</td>\n",
              "            <td>Tue Nov 12 20:40:55 +0000 2019</td>\n",
              "            <td>1194354342712750080</td>\n",
              "            <td>171.0</td>\n",
              "        </tr>\n",
              "        <tr>\n",
              "            <td>2020-05-07 18:00:38</td>\n",
              "            <td>36027</td>\n",
              "            <td>1258456722097811457</td>\n",
              "            <td></td>\n",
              "            <td></td>\n",
              "            <td>The Northeast Face Shield Project is a collection of volunteers who 3D print #faceshield parts and distribute completed face shields to healthcare facilities in the Northeast. Thank you for donating 1,200 face shields to @NuvanceHealth locations, including @Vassar_Brothers. https://t.co/vMOdBnLzE9</td>\n",
              "            <td>Tue Nov 12 20:40:55 +0000 2019</td>\n",
              "            <td>1194354342712750080</td>\n",
              "            <td>171.0</td>\n",
              "        </tr>\n",
              "        <tr>\n",
              "            <td>2020-05-07 18:00:52</td>\n",
              "            <td>48479</td>\n",
              "            <td>1258456782508298240</td>\n",
              "            <td></td>\n",
              "            <td></td>\n",
              "            <td>City of Laredo confirms four added cases of coronavirus, 414 total https://t.co/8J1Uf7TFTY</td>\n",
              "            <td>Thu Jun 12 18:09:14 +0000 2008</td>\n",
              "            <td>15099229</td>\n",
              "            <td>70768.0</td>\n",
              "        </tr>\n",
              "        <tr>\n",
              "            <td>2020-05-07 18:00:52</td>\n",
              "            <td>48479</td>\n",
              "            <td>1258456782508298240</td>\n",
              "            <td></td>\n",
              "            <td></td>\n",
              "            <td>City of Laredo confirms four added cases of coronavirus, 414 total https://t.co/8J1Uf7TFTY</td>\n",
              "            <td>Thu Jun 12 18:09:14 +0000 2008</td>\n",
              "            <td>15099229</td>\n",
              "            <td>70768.0</td>\n",
              "        </tr>\n",
              "        <tr>\n",
              "            <td>2020-05-07 18:00:57</td>\n",
              "            <td>36027</td>\n",
              "            <td>1258456802540339203</td>\n",
              "            <td></td>\n",
              "            <td></td>\n",
              "            <td>Do you know which #HudsonValley parks and trails are closed to prevent the spread of #COVID19?  https://t.co/AZPYtraJ7n @scenichudson</td>\n",
              "            <td>Thu May 21 16:26:54 +0000 2009</td>\n",
              "            <td>41619175</td>\n",
              "            <td>16722.0</td>\n",
              "        </tr>\n",
              "        <tr>\n",
              "            <td>2020-05-07 18:00:57</td>\n",
              "            <td>36027</td>\n",
              "            <td>1258456802540339203</td>\n",
              "            <td></td>\n",
              "            <td></td>\n",
              "            <td>Do you know which #HudsonValley parks and trails are closed to prevent the spread of #COVID19?  https://t.co/AZPYtraJ7n @scenichudson</td>\n",
              "            <td>Thu May 21 16:26:54 +0000 2009</td>\n",
              "            <td>41619175</td>\n",
              "            <td>16722.0</td>\n",
              "        </tr>\n",
              "        <tr>\n",
              "            <td>2020-05-07 18:00:57</td>\n",
              "            <td>33001</td>\n",
              "            <td>1258456802833895425</td>\n",
              "            <td></td>\n",
              "            <td></td>\n",
              "            <td>Statewide coverage of COVID-19 topics and more https://t.co/qLmRpvNxWq</td>\n",
              "            <td>Thu Dec 31 12:54:53 +0000 2009</td>\n",
              "            <td>100761151</td>\n",
              "            <td>3099.0</td>\n",
              "        </tr>\n",
              "        <tr>\n",
              "            <td>2020-05-07 18:00:57</td>\n",
              "            <td>33001</td>\n",
              "            <td>1258456802833895425</td>\n",
              "            <td></td>\n",
              "            <td></td>\n",
              "            <td>Statewide coverage of COVID-19 topics and more https://t.co/qLmRpvNxWq</td>\n",
              "            <td>Thu Dec 31 12:54:53 +0000 2009</td>\n",
              "            <td>100761151</td>\n",
              "            <td>3099.0</td>\n",
              "        </tr>\n",
              "    </tbody>\n",
              "</table>"
            ]
          },
          "metadata": {},
          "execution_count": 18
        }
      ],
      "source": [
        "%%sql\n",
        "\n",
        "SELECT *\n",
        "FROM tweets\n",
        "WHERE tweet_id IN (SELECT tweet_id FROM n_duplicates)\n",
        "ORDER BY tweet_id\n",
        "LIMIT 10\n",
        "OFFSET 150;"
      ]
    },
    {
      "cell_type": "markdown",
      "metadata": {
        "id": "HLSL5utvGXw9"
      },
      "source": [
        "Since the `tweets` table need not have the duplicate tweets one after the other, **ORDER BY** in fact helps group the duplicate together."
      ]
    },
    {
      "cell_type": "markdown",
      "metadata": {
        "id": "Bq7fmNaaGXw9"
      },
      "source": [
        "We need to remove these duplicates!!\n",
        "\n",
        "To remove the duplicates, we first create a new table with all the unique rows from `tweets`. The command below selects all (`*`) `DISTINCT` rows and stores them in a new table called `unique_tweets`"
      ]
    },
    {
      "cell_type": "code",
      "source": [
        "%%sql\n",
        "\n",
        "CREATE TABLE unique_tweets AS\n",
        "SELECT DISTINCT *\n",
        "FROM tweets;"
      ],
      "metadata": {
        "colab": {
          "base_uri": "https://localhost:8080/",
          "height": 34
        },
        "id": "otQAVIOK1wmV",
        "outputId": "81c0db27-4409-40cd-b856-8b591f2632c0"
      },
      "execution_count": 19,
      "outputs": [
        {
          "output_type": "display_data",
          "data": {
            "text/plain": [
              "Running query in 'sqlite:///sqlite_data/your_name.db?charset=utf8mb4'"
            ],
            "text/html": [
              "<span style=\"None\">Running query in &#x27;sqlite:///sqlite_data/your_name.db?charset=utf8mb4&#x27;</span>"
            ]
          },
          "metadata": {}
        },
        {
          "output_type": "execute_result",
          "data": {
            "text/plain": [
              "++\n",
              "||\n",
              "++\n",
              "++"
            ],
            "text/html": [
              "<table>\n",
              "    <thead>\n",
              "        <tr>\n",
              "        </tr>\n",
              "    </thead>\n",
              "    <tbody>\n",
              "    </tbody>\n",
              "</table>"
            ]
          },
          "metadata": {},
          "execution_count": 19
        }
      ]
    },
    {
      "cell_type": "markdown",
      "metadata": {
        "id": "NHI7gJi-GXxF"
      },
      "source": [
        "Let us double-check if duplicates are gone."
      ]
    },
    {
      "cell_type": "code",
      "execution_count": 20,
      "metadata": {
        "colab": {
          "base_uri": "https://localhost:8080/",
          "height": 79
        },
        "id": "tTPHpg_cGXxF",
        "outputId": "7cbf8382-a999-45c6-c454-72ad460c49be"
      },
      "outputs": [
        {
          "output_type": "display_data",
          "data": {
            "text/plain": [
              "Running query in 'sqlite:///sqlite_data/your_name.db?charset=utf8mb4'"
            ],
            "text/html": [
              "<span style=\"None\">Running query in &#x27;sqlite:///sqlite_data/your_name.db?charset=utf8mb4&#x27;</span>"
            ]
          },
          "metadata": {}
        },
        {
          "output_type": "execute_result",
          "data": {
            "text/plain": [
              "+----------+-------+\n",
              "| n_tweets | total |\n",
              "+----------+-------+\n",
              "|  12145   | 12145 |\n",
              "+----------+-------+"
            ],
            "text/html": [
              "<table>\n",
              "    <thead>\n",
              "        <tr>\n",
              "            <th>n_tweets</th>\n",
              "            <th>total</th>\n",
              "        </tr>\n",
              "    </thead>\n",
              "    <tbody>\n",
              "        <tr>\n",
              "            <td>12145</td>\n",
              "            <td>12145</td>\n",
              "        </tr>\n",
              "    </tbody>\n",
              "</table>"
            ]
          },
          "metadata": {},
          "execution_count": 20
        }
      ],
      "source": [
        "%%sql\n",
        "\n",
        "SELECT COUNT(DISTINCT(tweet_id)) AS n_tweets, COUNT(*) AS total\n",
        "FROM unique_tweets;"
      ]
    },
    {
      "cell_type": "markdown",
      "source": [
        "And the total number of tweets."
      ],
      "metadata": {
        "id": "cR7D7PHEExC4"
      }
    },
    {
      "cell_type": "code",
      "source": [
        "%%sql\n",
        "\n",
        "SELECT COUNT(*)\n",
        "FROM unique_tweets;"
      ],
      "metadata": {
        "colab": {
          "base_uri": "https://localhost:8080/",
          "height": 79
        },
        "id": "luVIfsD9EwFt",
        "outputId": "e87327f9-42f6-421e-c93f-a38e1154e09d"
      },
      "execution_count": 21,
      "outputs": [
        {
          "output_type": "display_data",
          "data": {
            "text/plain": [
              "Running query in 'sqlite:///sqlite_data/your_name.db?charset=utf8mb4'"
            ],
            "text/html": [
              "<span style=\"None\">Running query in &#x27;sqlite:///sqlite_data/your_name.db?charset=utf8mb4&#x27;</span>"
            ]
          },
          "metadata": {}
        },
        {
          "output_type": "execute_result",
          "data": {
            "text/plain": [
              "+----------+\n",
              "| COUNT(*) |\n",
              "+----------+\n",
              "|  12145   |\n",
              "+----------+"
            ],
            "text/html": [
              "<table>\n",
              "    <thead>\n",
              "        <tr>\n",
              "            <th>COUNT(*)</th>\n",
              "        </tr>\n",
              "    </thead>\n",
              "    <tbody>\n",
              "        <tr>\n",
              "            <td>12145</td>\n",
              "        </tr>\n",
              "    </tbody>\n",
              "</table>"
            ]
          },
          "metadata": {},
          "execution_count": 21
        }
      ]
    },
    {
      "cell_type": "markdown",
      "metadata": {
        "id": "DbZ3PLo1GXxF"
      },
      "source": [
        "We can drop the previous `tweets` table which contains duplicates."
      ]
    },
    {
      "cell_type": "code",
      "execution_count": 22,
      "metadata": {
        "colab": {
          "base_uri": "https://localhost:8080/",
          "height": 34
        },
        "id": "1yMUUvZzGXxF",
        "outputId": "7dc3d55f-f58e-46ec-81dd-47da213bf4b7"
      },
      "outputs": [
        {
          "output_type": "display_data",
          "data": {
            "text/plain": [
              "Running query in 'sqlite:///sqlite_data/your_name.db?charset=utf8mb4'"
            ],
            "text/html": [
              "<span style=\"None\">Running query in &#x27;sqlite:///sqlite_data/your_name.db?charset=utf8mb4&#x27;</span>"
            ]
          },
          "metadata": {}
        },
        {
          "output_type": "execute_result",
          "data": {
            "text/plain": [
              "++\n",
              "||\n",
              "++\n",
              "++"
            ],
            "text/html": [
              "<table>\n",
              "    <thead>\n",
              "        <tr>\n",
              "        </tr>\n",
              "    </thead>\n",
              "    <tbody>\n",
              "    </tbody>\n",
              "</table>"
            ]
          },
          "metadata": {},
          "execution_count": 22
        }
      ],
      "source": [
        "%%sql\n",
        "\n",
        "DROP TABLE tweets;"
      ]
    },
    {
      "cell_type": "markdown",
      "metadata": {
        "id": "VGNwS1EqGXxF"
      },
      "source": [
        "Rename the table `unique_tweets` to `tweets` now that duplicates are removed."
      ]
    },
    {
      "cell_type": "code",
      "execution_count": 23,
      "metadata": {
        "colab": {
          "base_uri": "https://localhost:8080/",
          "height": 34
        },
        "id": "O2KYFrarGXxF",
        "outputId": "527bcf58-fb95-454a-af52-58ca51b3d080"
      },
      "outputs": [
        {
          "output_type": "display_data",
          "data": {
            "text/plain": [
              "Running query in 'sqlite:///sqlite_data/your_name.db?charset=utf8mb4'"
            ],
            "text/html": [
              "<span style=\"None\">Running query in &#x27;sqlite:///sqlite_data/your_name.db?charset=utf8mb4&#x27;</span>"
            ]
          },
          "metadata": {}
        },
        {
          "output_type": "execute_result",
          "data": {
            "text/plain": [
              "++\n",
              "||\n",
              "++\n",
              "++"
            ],
            "text/html": [
              "<table>\n",
              "    <thead>\n",
              "        <tr>\n",
              "        </tr>\n",
              "    </thead>\n",
              "    <tbody>\n",
              "    </tbody>\n",
              "</table>"
            ]
          },
          "metadata": {},
          "execution_count": 23
        }
      ],
      "source": [
        "%%sql\n",
        "\n",
        "ALTER TABLE unique_tweets RENAME TO tweets;"
      ]
    },
    {
      "cell_type": "markdown",
      "metadata": {
        "id": "sQ0ppg_6GXxF"
      },
      "source": [
        "Print the schema of our table `tweets`."
      ]
    },
    {
      "cell_type": "code",
      "execution_count": 24,
      "metadata": {
        "colab": {
          "base_uri": "https://localhost:8080/",
          "height": 250
        },
        "id": "xAAvWb5CGXxF",
        "outputId": "14b3c8ca-e61c-49d4-ee6d-363f4f19147b"
      },
      "outputs": [
        {
          "output_type": "display_data",
          "data": {
            "text/plain": [
              "Running query in 'sqlite:///sqlite_data/your_name.db?charset=utf8mb4'"
            ],
            "text/html": [
              "<span style=\"None\">Running query in &#x27;sqlite:///sqlite_data/your_name.db?charset=utf8mb4&#x27;</span>"
            ]
          },
          "metadata": {}
        },
        {
          "output_type": "execute_result",
          "data": {
            "text/plain": [
              "+-----+---------------------+------+---------+------------+----+\n",
              "| cid |         name        | type | notnull | dflt_value | pk |\n",
              "+-----+---------------------+------+---------+------------+----+\n",
              "|  0  |      created_at     | TEXT |    0    |    None    | 0  |\n",
              "|  1  |         fips        | INT  |    0    |    None    | 0  |\n",
              "|  2  |       tweet_id      | INT  |    0    |    None    | 0  |\n",
              "|  3  |  place_country_code | TEXT |    0    |    None    | 0  |\n",
              "|  4  |   place_full_name   | TEXT |    0    |    None    | 0  |\n",
              "|  5  |         text        | TEXT |    0    |    None    | 0  |\n",
              "|  6  |   user_created_at   | TEXT |    0    |    None    | 0  |\n",
              "|  7  |       user_id       | INT  |    0    |    None    | 0  |\n",
              "|  8  | user_statuses_count | REAL |    0    |    None    | 0  |\n",
              "+-----+---------------------+------+---------+------------+----+"
            ],
            "text/html": [
              "<table>\n",
              "    <thead>\n",
              "        <tr>\n",
              "            <th>cid</th>\n",
              "            <th>name</th>\n",
              "            <th>type</th>\n",
              "            <th>notnull</th>\n",
              "            <th>dflt_value</th>\n",
              "            <th>pk</th>\n",
              "        </tr>\n",
              "    </thead>\n",
              "    <tbody>\n",
              "        <tr>\n",
              "            <td>0</td>\n",
              "            <td>created_at</td>\n",
              "            <td>TEXT</td>\n",
              "            <td>0</td>\n",
              "            <td>None</td>\n",
              "            <td>0</td>\n",
              "        </tr>\n",
              "        <tr>\n",
              "            <td>1</td>\n",
              "            <td>fips</td>\n",
              "            <td>INT</td>\n",
              "            <td>0</td>\n",
              "            <td>None</td>\n",
              "            <td>0</td>\n",
              "        </tr>\n",
              "        <tr>\n",
              "            <td>2</td>\n",
              "            <td>tweet_id</td>\n",
              "            <td>INT</td>\n",
              "            <td>0</td>\n",
              "            <td>None</td>\n",
              "            <td>0</td>\n",
              "        </tr>\n",
              "        <tr>\n",
              "            <td>3</td>\n",
              "            <td>place_country_code</td>\n",
              "            <td>TEXT</td>\n",
              "            <td>0</td>\n",
              "            <td>None</td>\n",
              "            <td>0</td>\n",
              "        </tr>\n",
              "        <tr>\n",
              "            <td>4</td>\n",
              "            <td>place_full_name</td>\n",
              "            <td>TEXT</td>\n",
              "            <td>0</td>\n",
              "            <td>None</td>\n",
              "            <td>0</td>\n",
              "        </tr>\n",
              "        <tr>\n",
              "            <td>5</td>\n",
              "            <td>text</td>\n",
              "            <td>TEXT</td>\n",
              "            <td>0</td>\n",
              "            <td>None</td>\n",
              "            <td>0</td>\n",
              "        </tr>\n",
              "        <tr>\n",
              "            <td>6</td>\n",
              "            <td>user_created_at</td>\n",
              "            <td>TEXT</td>\n",
              "            <td>0</td>\n",
              "            <td>None</td>\n",
              "            <td>0</td>\n",
              "        </tr>\n",
              "        <tr>\n",
              "            <td>7</td>\n",
              "            <td>user_id</td>\n",
              "            <td>INT</td>\n",
              "            <td>0</td>\n",
              "            <td>None</td>\n",
              "            <td>0</td>\n",
              "        </tr>\n",
              "        <tr>\n",
              "            <td>8</td>\n",
              "            <td>user_statuses_count</td>\n",
              "            <td>REAL</td>\n",
              "            <td>0</td>\n",
              "            <td>None</td>\n",
              "            <td>0</td>\n",
              "        </tr>\n",
              "    </tbody>\n",
              "</table>"
            ]
          },
          "metadata": {},
          "execution_count": 24
        }
      ],
      "source": [
        "%%sql\n",
        "\n",
        "PRAGMA table_info(tweets);"
      ]
    },
    {
      "cell_type": "markdown",
      "metadata": {
        "id": "vE22Gr3TGXxG"
      },
      "source": [
        "#### 👩‍🔬💻 Exercise\n",
        "\n",
        "Now that we have cleaned the table, can you get the relative number of tweets of all the counties?"
      ]
    },
    {
      "cell_type": "markdown",
      "metadata": {
        "id": "E773MdsBGXxG"
      },
      "source": [
        "#### 👩‍🔬💻 Exercise\n",
        "\n",
        "Also, which county tweeted the most? Can you get the name of the county?"
      ]
    },
    {
      "cell_type": "markdown",
      "metadata": {
        "id": "tTJzm_zUGXxG"
      },
      "source": [
        "Let's get number of tweets per user and have the results in descending order of number of tweets."
      ]
    },
    {
      "cell_type": "markdown",
      "metadata": {
        "id": "dbe0EyowGXxG"
      },
      "source": [
        "## 6) Let's derive counts across time\n",
        "Find the date/time range of tweets."
      ]
    },
    {
      "cell_type": "code",
      "execution_count": 29,
      "metadata": {
        "colab": {
          "base_uri": "https://localhost:8080/",
          "height": 79
        },
        "id": "nT7vD6E5GXxG",
        "outputId": "d3de324a-71db-4ef5-beb0-2b52e9b5580f"
      },
      "outputs": [
        {
          "output_type": "display_data",
          "data": {
            "text/plain": [
              "Running query in 'sqlite:///sqlite_data/your_name.db?charset=utf8mb4'"
            ],
            "text/html": [
              "<span style=\"None\">Running query in &#x27;sqlite:///sqlite_data/your_name.db?charset=utf8mb4&#x27;</span>"
            ]
          },
          "metadata": {}
        },
        {
          "output_type": "execute_result",
          "data": {
            "text/plain": [
              "+---------------------+---------------------+\n",
              "|   MIN(created_at)   |   MAX(created_at)   |\n",
              "+---------------------+---------------------+\n",
              "| 2020-05-05 00:00:08 | 2020-05-18 23:55:38 |\n",
              "+---------------------+---------------------+"
            ],
            "text/html": [
              "<table>\n",
              "    <thead>\n",
              "        <tr>\n",
              "            <th>MIN(created_at)</th>\n",
              "            <th>MAX(created_at)</th>\n",
              "        </tr>\n",
              "    </thead>\n",
              "    <tbody>\n",
              "        <tr>\n",
              "            <td>2020-05-05 00:00:08</td>\n",
              "            <td>2020-05-18 23:55:38</td>\n",
              "        </tr>\n",
              "    </tbody>\n",
              "</table>"
            ]
          },
          "metadata": {},
          "execution_count": 29
        }
      ],
      "source": [
        "%%sql\n",
        "\n",
        "SELECT MIN(created_at), MAX(created_at)\n",
        "FROM tweets;"
      ]
    },
    {
      "cell_type": "markdown",
      "metadata": {
        "id": "Cf-RDHo8GXxG"
      },
      "source": [
        "This is 2 weeks of data. Let's get the number of tweets per day.\n",
        "\n",
        "**NOTE:** A good way to interact with date/time column is to treat such columns as if they contain categorical values (and not real numbers). Then they are similar to most of the variables such as `user_id`, `fips`, etc."
      ]
    },
    {
      "cell_type": "code",
      "execution_count": 4,
      "metadata": {
        "colab": {
          "base_uri": "https://localhost:8080/",
          "height": 357
        },
        "id": "nxIaOP54GXxG",
        "outputId": "bf878f95-b8b8-4ca4-feab-9514a8b6e3ad"
      },
      "outputs": [
        {
          "output_type": "display_data",
          "data": {
            "text/plain": [
              "Running query in 'sqlite:///sqlite_data/your_name.db?charset=utf8mb4'"
            ],
            "text/html": [
              "<span style=\"None\">Running query in &#x27;sqlite:///sqlite_data/your_name.db?charset=utf8mb4&#x27;</span>"
            ]
          },
          "metadata": {}
        },
        {
          "output_type": "execute_result",
          "data": {
            "text/plain": [
              "+------------+----------+\n",
              "|    date    | n_tweets |\n",
              "+------------+----------+\n",
              "| 2020-05-05 |   845    |\n",
              "| 2020-05-06 |   948    |\n",
              "| 2020-05-07 |   818    |\n",
              "| 2020-05-08 |   793    |\n",
              "| 2020-05-09 |   727    |\n",
              "| 2020-05-10 |   639    |\n",
              "| 2020-05-11 |   895    |\n",
              "| 2020-05-12 |   988    |\n",
              "| 2020-05-13 |   1091   |\n",
              "| 2020-05-14 |   1055   |\n",
              "| 2020-05-15 |   1044   |\n",
              "| 2020-05-16 |   745    |\n",
              "| 2020-05-17 |   617    |\n",
              "| 2020-05-18 |   940    |\n",
              "+------------+----------+"
            ],
            "text/html": [
              "<table>\n",
              "    <thead>\n",
              "        <tr>\n",
              "            <th>date</th>\n",
              "            <th>n_tweets</th>\n",
              "        </tr>\n",
              "    </thead>\n",
              "    <tbody>\n",
              "        <tr>\n",
              "            <td>2020-05-05</td>\n",
              "            <td>845</td>\n",
              "        </tr>\n",
              "        <tr>\n",
              "            <td>2020-05-06</td>\n",
              "            <td>948</td>\n",
              "        </tr>\n",
              "        <tr>\n",
              "            <td>2020-05-07</td>\n",
              "            <td>818</td>\n",
              "        </tr>\n",
              "        <tr>\n",
              "            <td>2020-05-08</td>\n",
              "            <td>793</td>\n",
              "        </tr>\n",
              "        <tr>\n",
              "            <td>2020-05-09</td>\n",
              "            <td>727</td>\n",
              "        </tr>\n",
              "        <tr>\n",
              "            <td>2020-05-10</td>\n",
              "            <td>639</td>\n",
              "        </tr>\n",
              "        <tr>\n",
              "            <td>2020-05-11</td>\n",
              "            <td>895</td>\n",
              "        </tr>\n",
              "        <tr>\n",
              "            <td>2020-05-12</td>\n",
              "            <td>988</td>\n",
              "        </tr>\n",
              "        <tr>\n",
              "            <td>2020-05-13</td>\n",
              "            <td>1091</td>\n",
              "        </tr>\n",
              "        <tr>\n",
              "            <td>2020-05-14</td>\n",
              "            <td>1055</td>\n",
              "        </tr>\n",
              "        <tr>\n",
              "            <td>2020-05-15</td>\n",
              "            <td>1044</td>\n",
              "        </tr>\n",
              "        <tr>\n",
              "            <td>2020-05-16</td>\n",
              "            <td>745</td>\n",
              "        </tr>\n",
              "        <tr>\n",
              "            <td>2020-05-17</td>\n",
              "            <td>617</td>\n",
              "        </tr>\n",
              "        <tr>\n",
              "            <td>2020-05-18</td>\n",
              "            <td>940</td>\n",
              "        </tr>\n",
              "    </tbody>\n",
              "</table>"
            ]
          },
          "metadata": {},
          "execution_count": 4
        }
      ],
      "source": [
        "%%sql\n",
        "\n",
        "SELECT DATE(created_at) AS date, COUNT(*) AS n_tweets\n",
        "FROM tweets\n",
        "GROUP BY date\n",
        "ORDER BY date;"
      ]
    },
    {
      "cell_type": "markdown",
      "metadata": {
        "id": "9SqlLLX-GXxG"
      },
      "source": [
        "Let's try to get the number of tweets every hour. But before that we need to convert the `created_at` column to intervals of one hour, which can be done using the **DATE_FORMAT** function. It simply changes the column contents to a particular (hourly in our case), which we can use to summarize."
      ]
    },
    {
      "cell_type": "code",
      "execution_count": 31,
      "metadata": {
        "colab": {
          "base_uri": "https://localhost:8080/",
          "height": 485
        },
        "id": "F4SBw2QOGXxG",
        "outputId": "019ccebc-af9e-47e8-b619-f970ec5d44b2"
      },
      "outputs": [
        {
          "output_type": "display_data",
          "data": {
            "text/plain": [
              "Running query in 'sqlite:///sqlite_data/your_name.db?charset=utf8mb4'"
            ],
            "text/html": [
              "<span style=\"None\">Running query in &#x27;sqlite:///sqlite_data/your_name.db?charset=utf8mb4&#x27;</span>"
            ]
          },
          "metadata": {}
        },
        {
          "output_type": "execute_result",
          "data": {
            "text/plain": [
              "+------------------+----------+\n",
              "|       hour       | n_tweets |\n",
              "+------------------+----------+\n",
              "| 2020-05-07 06:00 |    12    |\n",
              "| 2020-05-07 07:00 |    19    |\n",
              "| 2020-05-07 08:00 |    3     |\n",
              "| 2020-05-07 09:00 |    6     |\n",
              "| 2020-05-07 10:00 |    12    |\n",
              "| 2020-05-07 11:00 |    20    |\n",
              "| 2020-05-07 12:00 |    32    |\n",
              "| 2020-05-07 13:00 |    30    |\n",
              "| 2020-05-07 14:00 |    34    |\n",
              "| 2020-05-07 15:00 |    4     |\n",
              "| 2020-05-07 17:00 |    89    |\n",
              "| 2020-05-07 18:00 |    82    |\n",
              "| 2020-05-07 19:00 |    68    |\n",
              "| 2020-05-07 20:00 |    52    |\n",
              "| 2020-05-07 21:00 |    46    |\n",
              "| 2020-05-07 22:00 |    55    |\n",
              "| 2020-05-07 23:00 |    47    |\n",
              "| 2020-05-08 00:00 |    50    |\n",
              "| 2020-05-08 01:00 |    40    |\n",
              "| 2020-05-08 02:00 |    25    |\n",
              "+------------------+----------+"
            ],
            "text/html": [
              "<table>\n",
              "    <thead>\n",
              "        <tr>\n",
              "            <th>hour</th>\n",
              "            <th>n_tweets</th>\n",
              "        </tr>\n",
              "    </thead>\n",
              "    <tbody>\n",
              "        <tr>\n",
              "            <td>2020-05-07 06:00</td>\n",
              "            <td>12</td>\n",
              "        </tr>\n",
              "        <tr>\n",
              "            <td>2020-05-07 07:00</td>\n",
              "            <td>19</td>\n",
              "        </tr>\n",
              "        <tr>\n",
              "            <td>2020-05-07 08:00</td>\n",
              "            <td>3</td>\n",
              "        </tr>\n",
              "        <tr>\n",
              "            <td>2020-05-07 09:00</td>\n",
              "            <td>6</td>\n",
              "        </tr>\n",
              "        <tr>\n",
              "            <td>2020-05-07 10:00</td>\n",
              "            <td>12</td>\n",
              "        </tr>\n",
              "        <tr>\n",
              "            <td>2020-05-07 11:00</td>\n",
              "            <td>20</td>\n",
              "        </tr>\n",
              "        <tr>\n",
              "            <td>2020-05-07 12:00</td>\n",
              "            <td>32</td>\n",
              "        </tr>\n",
              "        <tr>\n",
              "            <td>2020-05-07 13:00</td>\n",
              "            <td>30</td>\n",
              "        </tr>\n",
              "        <tr>\n",
              "            <td>2020-05-07 14:00</td>\n",
              "            <td>34</td>\n",
              "        </tr>\n",
              "        <tr>\n",
              "            <td>2020-05-07 15:00</td>\n",
              "            <td>4</td>\n",
              "        </tr>\n",
              "        <tr>\n",
              "            <td>2020-05-07 17:00</td>\n",
              "            <td>89</td>\n",
              "        </tr>\n",
              "        <tr>\n",
              "            <td>2020-05-07 18:00</td>\n",
              "            <td>82</td>\n",
              "        </tr>\n",
              "        <tr>\n",
              "            <td>2020-05-07 19:00</td>\n",
              "            <td>68</td>\n",
              "        </tr>\n",
              "        <tr>\n",
              "            <td>2020-05-07 20:00</td>\n",
              "            <td>52</td>\n",
              "        </tr>\n",
              "        <tr>\n",
              "            <td>2020-05-07 21:00</td>\n",
              "            <td>46</td>\n",
              "        </tr>\n",
              "        <tr>\n",
              "            <td>2020-05-07 22:00</td>\n",
              "            <td>55</td>\n",
              "        </tr>\n",
              "        <tr>\n",
              "            <td>2020-05-07 23:00</td>\n",
              "            <td>47</td>\n",
              "        </tr>\n",
              "        <tr>\n",
              "            <td>2020-05-08 00:00</td>\n",
              "            <td>50</td>\n",
              "        </tr>\n",
              "        <tr>\n",
              "            <td>2020-05-08 01:00</td>\n",
              "            <td>40</td>\n",
              "        </tr>\n",
              "        <tr>\n",
              "            <td>2020-05-08 02:00</td>\n",
              "            <td>25</td>\n",
              "        </tr>\n",
              "    </tbody>\n",
              "</table>"
            ]
          },
          "metadata": {},
          "execution_count": 31
        }
      ],
      "source": [
        "%%sql\n",
        "\n",
        "SELECT strftime('%Y-%m-%d %H:00', created_at) AS hour, COUNT(*) AS n_tweets\n",
        "FROM tweets\n",
        "GROUP BY hour\n",
        "ORDER BY hour\n",
        "LIMIT 20\n",
        "OFFSET 50;"
      ]
    },
    {
      "cell_type": "markdown",
      "metadata": {
        "id": "tMF3Ct_mGXxH"
      },
      "source": [
        "Let's check the average number of tweets every hour. We first create a table named `hourly` to hold the number of tweets every hour."
      ]
    },
    {
      "cell_type": "code",
      "execution_count": 32,
      "metadata": {
        "colab": {
          "base_uri": "https://localhost:8080/",
          "height": 34
        },
        "id": "74IOdb-KGXxH",
        "outputId": "3a74ca66-07ff-4499-9e7f-ed3097428b6b"
      },
      "outputs": [
        {
          "output_type": "display_data",
          "data": {
            "text/plain": [
              "Running query in 'sqlite:///sqlite_data/your_name.db?charset=utf8mb4'"
            ],
            "text/html": [
              "<span style=\"None\">Running query in &#x27;sqlite:///sqlite_data/your_name.db?charset=utf8mb4&#x27;</span>"
            ]
          },
          "metadata": {}
        },
        {
          "output_type": "execute_result",
          "data": {
            "text/plain": [
              "++\n",
              "||\n",
              "++\n",
              "++"
            ],
            "text/html": [
              "<table>\n",
              "    <thead>\n",
              "        <tr>\n",
              "        </tr>\n",
              "    </thead>\n",
              "    <tbody>\n",
              "    </tbody>\n",
              "</table>"
            ]
          },
          "metadata": {},
          "execution_count": 32
        }
      ],
      "source": [
        "%%sql\n",
        "\n",
        "CREATE TABLE hourly AS\n",
        "SELECT DATE(created_at) AS date, strftime('%H', created_at) AS hour, COUNT(*) AS n_tweets\n",
        "FROM tweets\n",
        "GROUP BY date,hour;"
      ]
    },
    {
      "cell_type": "markdown",
      "metadata": {
        "id": "-3aFbUd8GXxH"
      },
      "source": [
        "#### 👩‍🔬💻 Exercise\n",
        "\n",
        "Can you take the average over all days for every hour?"
      ]
    },
    {
      "cell_type": "markdown",
      "metadata": {
        "id": "TtInP36iGXxH"
      },
      "source": [
        "## 7) Tutorial 1 but with tweets!"
      ]
    },
    {
      "cell_type": "markdown",
      "metadata": {
        "id": "fy2PrBBWGXxH"
      },
      "source": [
        "### 7a) Searching using wildcards\n",
        "\n",
        "A very practical usage of wildcards over the current dataset would be to identify tweets that contain urls. Let's check the number of such tweets."
      ]
    },
    {
      "cell_type": "code",
      "execution_count": 6,
      "metadata": {
        "colab": {
          "base_uri": "https://localhost:8080/",
          "height": 79
        },
        "id": "k8avcsF5GXxH",
        "outputId": "1669c4e5-00c9-4cdf-c64e-3b68ce155d5a"
      },
      "outputs": [
        {
          "output_type": "display_data",
          "data": {
            "text/plain": [
              "Running query in 'sqlite:///sqlite_data/your_name.db?charset=utf8mb4'"
            ],
            "text/html": [
              "<span style=\"None\">Running query in &#x27;sqlite:///sqlite_data/your_name.db?charset=utf8mb4&#x27;</span>"
            ]
          },
          "metadata": {}
        },
        {
          "output_type": "execute_result",
          "data": {
            "text/plain": [
              "+-------------------+\n",
              "| n_tweets_with_url |\n",
              "+-------------------+\n",
              "|        9395       |\n",
              "+-------------------+"
            ],
            "text/html": [
              "<table>\n",
              "    <thead>\n",
              "        <tr>\n",
              "            <th>n_tweets_with_url</th>\n",
              "        </tr>\n",
              "    </thead>\n",
              "    <tbody>\n",
              "        <tr>\n",
              "            <td>9395</td>\n",
              "        </tr>\n",
              "    </tbody>\n",
              "</table>"
            ]
          },
          "metadata": {},
          "execution_count": 6
        }
      ],
      "source": [
        "%%sql\n",
        "\n",
        "SELECT COUNT(*) AS n_tweets_with_url\n",
        "FROM tweets\n",
        "WHERE text LIKE '%https://%';"
      ]
    },
    {
      "cell_type": "code",
      "execution_count": 7,
      "metadata": {
        "colab": {
          "base_uri": "https://localhost:8080/",
          "height": 477
        },
        "id": "E20lC87lGXxH",
        "outputId": "02641ada-60a6-4a1d-ad34-6f0dcf255eeb"
      },
      "outputs": [
        {
          "output_type": "display_data",
          "data": {
            "text/plain": [
              "Running query in 'sqlite:///sqlite_data/your_name.db?charset=utf8mb4'"
            ],
            "text/html": [
              "<span style=\"None\">Running query in &#x27;sqlite:///sqlite_data/your_name.db?charset=utf8mb4&#x27;</span>"
            ]
          },
          "metadata": {}
        },
        {
          "output_type": "execute_result",
          "data": {
            "text/plain": [
              "+---------------------+-------+---------------------+--------------------+-----------------+----------------------------------------------------------------------------------------------------------------------------------------------------------------------------------------------------------------------------------------------------------------------+--------------------------------+--------------------+---------------------+\n",
              "|      created_at     |  fips |       tweet_id      | place_country_code | place_full_name |                                                                                                                                 text                                                                                                                                 |        user_created_at         |      user_id       | user_statuses_count |\n",
              "+---------------------+-------+---------------------+--------------------+-----------------+----------------------------------------------------------------------------------------------------------------------------------------------------------------------------------------------------------------------------------------------------------------------+--------------------------------+--------------------+---------------------+\n",
              "| 2020-05-05 07:21:06 | 54033 | 1257571003301089280 |                    |                 |                                                wvstatejournal: CASES TOP 1,200: DHHR reported Monday the total number of COVID-19 cases confirmed in West Virginia is 1,206. Read more here: https://t.co/zHWPCENv20                                                 | Wed Jul 20 02:09:21 +0000 2011 |     338767521      |       17644.0       |\n",
              "| 2020-05-05 07:21:08 | 54033 | 1257571010263625735 |                    |                 |                        wvstatejournal:RT WVNews247:WV LED NATION in having lowest key COVID-19 rate, Gov. Justice announces. Also, several more businesses will be allowed to open next week:https://t.co/VCVd68YCyY https://t.co/WNthm7QroS                         | Wed Jul 20 02:09:21 +0000 2011 |     338767521      |       17647.0       |\n",
              "| 2020-05-05 07:21:10 | 54033 | 1257571019549822977 |                    |                 |                             wvstatejournal:DHHR REPORTS West Virginia's positive COVID-19 case total has grown to 1,224, and the cumulative positive test percentage continues to see a decline. Read more here:https://t.co/fYyJ8N2gXx                              | Wed Jul 20 02:09:21 +0000 2011 |     338767521      |       17651.0       |\n",
              "| 2020-05-05 07:49:01 | 48479 | 1257578027522969600 |                    |                 |                                                                             Tyson will keep slowing meat production as coronavirus sickens workers, tanks income https://t.co/LBtcNHmw76                                                                             | Wed Jul 27 23:29:39 +0000 2011 |     343702041      |       96391.0       |\n",
              "| 2020-05-05 07:56:27 | 21071 | 1257579899562401793 |                    |                 | I went to check Flowbee's charming website, since everyone's crying about haircuts...   They're completely sold out because of COVID-19, and they're only allowing one purchase to curb profiteering and prioritize \"those in need.\"  Bless! https://t.co/Fl8uMehTXW | Wed Feb 28 03:15:03 +0000 2018 | 968685955619151872 |        342.0        |\n",
              "+---------------------+-------+---------------------+--------------------+-----------------+----------------------------------------------------------------------------------------------------------------------------------------------------------------------------------------------------------------------------------------------------------------------+--------------------------------+--------------------+---------------------+"
            ],
            "text/html": [
              "<table>\n",
              "    <thead>\n",
              "        <tr>\n",
              "            <th>created_at</th>\n",
              "            <th>fips</th>\n",
              "            <th>tweet_id</th>\n",
              "            <th>place_country_code</th>\n",
              "            <th>place_full_name</th>\n",
              "            <th>text</th>\n",
              "            <th>user_created_at</th>\n",
              "            <th>user_id</th>\n",
              "            <th>user_statuses_count</th>\n",
              "        </tr>\n",
              "    </thead>\n",
              "    <tbody>\n",
              "        <tr>\n",
              "            <td>2020-05-05 07:21:06</td>\n",
              "            <td>54033</td>\n",
              "            <td>1257571003301089280</td>\n",
              "            <td></td>\n",
              "            <td></td>\n",
              "            <td>wvstatejournal: CASES TOP 1,200: DHHR reported Monday the total number of COVID-19 cases confirmed in West Virginia is 1,206. Read more here: https://t.co/zHWPCENv20</td>\n",
              "            <td>Wed Jul 20 02:09:21 +0000 2011</td>\n",
              "            <td>338767521</td>\n",
              "            <td>17644.0</td>\n",
              "        </tr>\n",
              "        <tr>\n",
              "            <td>2020-05-05 07:21:08</td>\n",
              "            <td>54033</td>\n",
              "            <td>1257571010263625735</td>\n",
              "            <td></td>\n",
              "            <td></td>\n",
              "            <td>wvstatejournal:RT WVNews247:WV LED NATION in having lowest key COVID-19 rate, Gov. Justice announces. Also, several more businesses will be allowed to open next week:https://t.co/VCVd68YCyY https://t.co/WNthm7QroS</td>\n",
              "            <td>Wed Jul 20 02:09:21 +0000 2011</td>\n",
              "            <td>338767521</td>\n",
              "            <td>17647.0</td>\n",
              "        </tr>\n",
              "        <tr>\n",
              "            <td>2020-05-05 07:21:10</td>\n",
              "            <td>54033</td>\n",
              "            <td>1257571019549822977</td>\n",
              "            <td></td>\n",
              "            <td></td>\n",
              "            <td>wvstatejournal:DHHR REPORTS West Virginia's positive COVID-19 case total has grown to 1,224, and the cumulative positive test percentage continues to see a decline. Read more here:https://t.co/fYyJ8N2gXx</td>\n",
              "            <td>Wed Jul 20 02:09:21 +0000 2011</td>\n",
              "            <td>338767521</td>\n",
              "            <td>17651.0</td>\n",
              "        </tr>\n",
              "        <tr>\n",
              "            <td>2020-05-05 07:49:01</td>\n",
              "            <td>48479</td>\n",
              "            <td>1257578027522969600</td>\n",
              "            <td></td>\n",
              "            <td></td>\n",
              "            <td>Tyson will keep slowing meat production as coronavirus sickens workers, tanks income https://t.co/LBtcNHmw76</td>\n",
              "            <td>Wed Jul 27 23:29:39 +0000 2011</td>\n",
              "            <td>343702041</td>\n",
              "            <td>96391.0</td>\n",
              "        </tr>\n",
              "        <tr>\n",
              "            <td>2020-05-05 07:56:27</td>\n",
              "            <td>21071</td>\n",
              "            <td>1257579899562401793</td>\n",
              "            <td></td>\n",
              "            <td></td>\n",
              "            <td>I went to check Flowbee's charming website, since everyone's crying about haircuts...   They're completely sold out because of COVID-19, and they're only allowing one purchase to curb profiteering and prioritize \"those in need.\"  Bless! https://t.co/Fl8uMehTXW</td>\n",
              "            <td>Wed Feb 28 03:15:03 +0000 2018</td>\n",
              "            <td>968685955619151872</td>\n",
              "            <td>342.0</td>\n",
              "        </tr>\n",
              "    </tbody>\n",
              "</table>"
            ]
          },
          "metadata": {},
          "execution_count": 7
        }
      ],
      "source": [
        "%%sql\n",
        "\n",
        "SELECT *\n",
        "FROM tweets\n",
        "WHERE text LIKE '%https://%'\n",
        "LIMIT 5\n",
        "OFFSET 100;"
      ]
    },
    {
      "cell_type": "markdown",
      "metadata": {
        "id": "qFx75J6dGXxH"
      },
      "source": [
        "### 7b) Join county, state\n",
        "\n",
        "In table `tweets` the column `fips` is the fips code of the US county from which tweet likely originated. Every US county has a unique fips code. Let us now add columns `county` , `state` corresponding to the `fips` in the `tweets` table, information for which is in the `counties` table. This means we need to join these two tables on `fips`. In other words, `fips` column in both the tables exhibits the primary key - foreign key relationship.\n",
        "\n",
        "Let's check the schema of the table `counties`."
      ]
    },
    {
      "cell_type": "code",
      "execution_count": 8,
      "metadata": {
        "colab": {
          "base_uri": "https://localhost:8080/",
          "height": 122
        },
        "id": "F7EJF0ydGXxH",
        "outputId": "615cdc47-c2e9-4012-c0c7-04cf0dedd26e"
      },
      "outputs": [
        {
          "output_type": "display_data",
          "data": {
            "text/plain": [
              "Running query in 'sqlite:///sqlite_data/your_name.db?charset=utf8mb4'"
            ],
            "text/html": [
              "<span style=\"None\">Running query in &#x27;sqlite:///sqlite_data/your_name.db?charset=utf8mb4&#x27;</span>"
            ]
          },
          "metadata": {}
        },
        {
          "output_type": "execute_result",
          "data": {
            "text/plain": [
              "+-----+--------+-------------+---------+------------+----+\n",
              "| cid |  name  |     type    | notnull | dflt_value | pk |\n",
              "+-----+--------+-------------+---------+------------+----+\n",
              "|  0  |  fips  |     INT     |    0    |    None    | 0  |\n",
              "|  1  | county | VARCHAR(31) |    0    |    None    | 0  |\n",
              "|  2  | state  | VARCHAR(31) |    0    |    None    | 0  |\n",
              "+-----+--------+-------------+---------+------------+----+"
            ],
            "text/html": [
              "<table>\n",
              "    <thead>\n",
              "        <tr>\n",
              "            <th>cid</th>\n",
              "            <th>name</th>\n",
              "            <th>type</th>\n",
              "            <th>notnull</th>\n",
              "            <th>dflt_value</th>\n",
              "            <th>pk</th>\n",
              "        </tr>\n",
              "    </thead>\n",
              "    <tbody>\n",
              "        <tr>\n",
              "            <td>0</td>\n",
              "            <td>fips</td>\n",
              "            <td>INT</td>\n",
              "            <td>0</td>\n",
              "            <td>None</td>\n",
              "            <td>0</td>\n",
              "        </tr>\n",
              "        <tr>\n",
              "            <td>1</td>\n",
              "            <td>county</td>\n",
              "            <td>VARCHAR(31)</td>\n",
              "            <td>0</td>\n",
              "            <td>None</td>\n",
              "            <td>0</td>\n",
              "        </tr>\n",
              "        <tr>\n",
              "            <td>2</td>\n",
              "            <td>state</td>\n",
              "            <td>VARCHAR(31)</td>\n",
              "            <td>0</td>\n",
              "            <td>None</td>\n",
              "            <td>0</td>\n",
              "        </tr>\n",
              "    </tbody>\n",
              "</table>"
            ]
          },
          "metadata": {},
          "execution_count": 8
        }
      ],
      "source": [
        "%%sql\n",
        "\n",
        "PRAGMA table_info(counties);"
      ]
    },
    {
      "cell_type": "markdown",
      "metadata": {
        "id": "b2d8pyqsGXxH"
      },
      "source": [
        "The contents of the `fips` column, which is a **VARCHAR**, in `tweets` are all of length 5, but in `counties` are of length 4 & 5."
      ]
    },
    {
      "cell_type": "code",
      "execution_count": 9,
      "metadata": {
        "colab": {
          "base_uri": "https://localhost:8080/",
          "height": 100
        },
        "id": "exBEjO1NGXxH",
        "outputId": "874b2505-fec9-4248-cb4c-ddbcf0e1d771"
      },
      "outputs": [
        {
          "output_type": "display_data",
          "data": {
            "text/plain": [
              "Running query in 'sqlite:///sqlite_data/your_name.db?charset=utf8mb4'"
            ],
            "text/html": [
              "<span style=\"None\">Running query in &#x27;sqlite:///sqlite_data/your_name.db?charset=utf8mb4&#x27;</span>"
            ]
          },
          "metadata": {}
        },
        {
          "output_type": "execute_result",
          "data": {
            "text/plain": [
              "+----------------+\n",
              "| (LENGTH(fips)) |\n",
              "+----------------+\n",
              "|       5        |\n",
              "|       4        |\n",
              "+----------------+"
            ],
            "text/html": [
              "<table>\n",
              "    <thead>\n",
              "        <tr>\n",
              "            <th>(LENGTH(fips))</th>\n",
              "        </tr>\n",
              "    </thead>\n",
              "    <tbody>\n",
              "        <tr>\n",
              "            <td>5</td>\n",
              "        </tr>\n",
              "        <tr>\n",
              "            <td>4</td>\n",
              "        </tr>\n",
              "    </tbody>\n",
              "</table>"
            ]
          },
          "metadata": {},
          "execution_count": 9
        }
      ],
      "source": [
        "%%sql\n",
        "\n",
        "SELECT DISTINCT(LENGTH(fips))\n",
        "FROM tweets;"
      ]
    },
    {
      "cell_type": "code",
      "execution_count": 10,
      "metadata": {
        "colab": {
          "base_uri": "https://localhost:8080/",
          "height": 100
        },
        "id": "dqbaNK-SGXxH",
        "outputId": "d4b9554e-cfb5-4aa8-f2d6-ccac836280ed"
      },
      "outputs": [
        {
          "output_type": "display_data",
          "data": {
            "text/plain": [
              "Running query in 'sqlite:///sqlite_data/your_name.db?charset=utf8mb4'"
            ],
            "text/html": [
              "<span style=\"None\">Running query in &#x27;sqlite:///sqlite_data/your_name.db?charset=utf8mb4&#x27;</span>"
            ]
          },
          "metadata": {}
        },
        {
          "output_type": "execute_result",
          "data": {
            "text/plain": [
              "+----------------+\n",
              "| (LENGTH(fips)) |\n",
              "+----------------+\n",
              "|       5        |\n",
              "|       4        |\n",
              "+----------------+"
            ],
            "text/html": [
              "<table>\n",
              "    <thead>\n",
              "        <tr>\n",
              "            <th>(LENGTH(fips))</th>\n",
              "        </tr>\n",
              "    </thead>\n",
              "    <tbody>\n",
              "        <tr>\n",
              "            <td>5</td>\n",
              "        </tr>\n",
              "        <tr>\n",
              "            <td>4</td>\n",
              "        </tr>\n",
              "    </tbody>\n",
              "</table>"
            ]
          },
          "metadata": {},
          "execution_count": 10
        }
      ],
      "source": [
        "%%sql\n",
        "\n",
        "SELECT DISTINCT(LENGTH(fips))\n",
        "FROM counties;"
      ]
    },
    {
      "cell_type": "markdown",
      "metadata": {
        "id": "FJwnqBgFGXxI"
      },
      "source": [
        "Before we merge, we need to make sure the `fips` in table `counties` is of same length, with zero padding, as in table `tweets`. Here we left-pad the `fips` with 0 to make sure the length is 5. You can double-check this by running previous statement again.\n",
        "\n",
        "To do this we can use the **UPDATE** clause."
      ]
    },
    {
      "cell_type": "code",
      "execution_count": 11,
      "metadata": {
        "colab": {
          "base_uri": "https://localhost:8080/",
          "height": 52
        },
        "id": "LQfw9rF5GXxI",
        "outputId": "0922c5f7-a856-4afa-d487-61a3a22d9a64"
      },
      "outputs": [
        {
          "output_type": "display_data",
          "data": {
            "text/plain": [
              "Running query in 'sqlite:///sqlite_data/your_name.db?charset=utf8mb4'"
            ],
            "text/html": [
              "<span style=\"None\">Running query in &#x27;sqlite:///sqlite_data/your_name.db?charset=utf8mb4&#x27;</span>"
            ]
          },
          "metadata": {}
        },
        {
          "output_type": "display_data",
          "data": {
            "text/plain": [
              "100 rows affected."
            ],
            "text/html": [
              "<span style=\"color: green\">100 rows affected.</span>"
            ]
          },
          "metadata": {}
        },
        {
          "output_type": "execute_result",
          "data": {
            "text/plain": [
              "++\n",
              "||\n",
              "++\n",
              "++"
            ],
            "text/html": [
              "<table>\n",
              "    <thead>\n",
              "        <tr>\n",
              "        </tr>\n",
              "    </thead>\n",
              "    <tbody>\n",
              "    </tbody>\n",
              "</table>"
            ]
          },
          "metadata": {},
          "execution_count": 11
        }
      ],
      "source": [
        "%%sql\n",
        "\n",
        "UPDATE counties\n",
        "SET fips = printf('%05d', fips);"
      ]
    },
    {
      "cell_type": "markdown",
      "metadata": {
        "id": "FAVep752GXxI"
      },
      "source": [
        "We intend to bring the `county`, `state` columns from `counties` into `tweets` for every tweet. But are all the `fips` in `tweets` present in table `counties`?"
      ]
    },
    {
      "cell_type": "code",
      "execution_count": 12,
      "metadata": {
        "colab": {
          "base_uri": "https://localhost:8080/",
          "height": 79
        },
        "id": "-kTGHTvJGXxI",
        "outputId": "1552d0e5-f932-4d90-cc9e-ea0c3569f91f"
      },
      "outputs": [
        {
          "output_type": "display_data",
          "data": {
            "text/plain": [
              "Running query in 'sqlite:///sqlite_data/your_name.db?charset=utf8mb4'"
            ],
            "text/html": [
              "<span style=\"None\">Running query in &#x27;sqlite:///sqlite_data/your_name.db?charset=utf8mb4&#x27;</span>"
            ]
          },
          "metadata": {}
        },
        {
          "output_type": "execute_result",
          "data": {
            "text/plain": [
              "+--------+\n",
              "| n_fips |\n",
              "+--------+\n",
              "|   0    |\n",
              "+--------+"
            ],
            "text/html": [
              "<table>\n",
              "    <thead>\n",
              "        <tr>\n",
              "            <th>n_fips</th>\n",
              "        </tr>\n",
              "    </thead>\n",
              "    <tbody>\n",
              "        <tr>\n",
              "            <td>0</td>\n",
              "        </tr>\n",
              "    </tbody>\n",
              "</table>"
            ]
          },
          "metadata": {},
          "execution_count": 12
        }
      ],
      "source": [
        "%%sql\n",
        "\n",
        "SELECT COUNT(DISTINCT(fips)) AS n_fips\n",
        "FROM tweets\n",
        "WHERE fips NOT IN (SELECT fips FROM counties);"
      ]
    },
    {
      "cell_type": "markdown",
      "metadata": {
        "id": "deaCz4hKGXxI"
      },
      "source": [
        "So there are `fips` in `tweets` for which we have no record in `counties`. When we join, we have two options:\n",
        "- **Left-Join:** For every `fips` in `tweets` that has an entry in `counties` , result table will have `county` , `state` from `counties`. For `fips` in `tweets` with no entry in `counties` , result table will fill NULL for `counties` , `state`.\n",
        "- **Inner-Join:** For every `fips` in `tweets` that has an entry in `counties` , result will have `county` , `state` from `counties`. For `fips` in `tweets` with no entry in `counties` , result table will drop the record.\n",
        "\n",
        "We will perform a inner-join for this tutorial, thereby keeping records in `tweets` that have an entry in `counties`.\n",
        "\n",
        "This will take a lot more than a HOT SEC!!"
      ]
    },
    {
      "cell_type": "code",
      "execution_count": 13,
      "metadata": {
        "colab": {
          "base_uri": "https://localhost:8080/",
          "height": 34
        },
        "id": "JIlrBoj4GXxI",
        "outputId": "0ace5b3d-766d-4523-dc1c-96a1cde377b9"
      },
      "outputs": [
        {
          "output_type": "display_data",
          "data": {
            "text/plain": [
              "Running query in 'sqlite:///sqlite_data/your_name.db?charset=utf8mb4'"
            ],
            "text/html": [
              "<span style=\"None\">Running query in &#x27;sqlite:///sqlite_data/your_name.db?charset=utf8mb4&#x27;</span>"
            ]
          },
          "metadata": {}
        },
        {
          "output_type": "execute_result",
          "data": {
            "text/plain": [
              "++\n",
              "||\n",
              "++\n",
              "++"
            ],
            "text/html": [
              "<table>\n",
              "    <thead>\n",
              "        <tr>\n",
              "        </tr>\n",
              "    </thead>\n",
              "    <tbody>\n",
              "    </tbody>\n",
              "</table>"
            ]
          },
          "metadata": {},
          "execution_count": 13
        }
      ],
      "source": [
        "%%sql\n",
        "\n",
        "CREATE TABLE tweets_counties AS\n",
        "SELECT tweets.*, counties.county, counties.state\n",
        "FROM tweets INNER JOIN counties\n",
        "ON tweets.fips = counties.fips;"
      ]
    },
    {
      "cell_type": "code",
      "source": [
        "%sqlcmd tables"
      ],
      "metadata": {
        "id": "ZVqbGdVUphB9",
        "outputId": "00bb8764-acf3-493e-b109-eacf02ff7981",
        "colab": {
          "base_uri": "https://localhost:8080/",
          "height": 126
        }
      },
      "execution_count": 14,
      "outputs": [
        {
          "output_type": "execute_result",
          "data": {
            "text/plain": [
              "+-----------------+\n",
              "|       Name      |\n",
              "+-----------------+\n",
              "|     counties    |\n",
              "|   n_duplicates  |\n",
              "|      tweets     |\n",
              "| tweets_counties |\n",
              "+-----------------+"
            ],
            "text/html": [
              "<table>\n",
              "    <thead>\n",
              "        <tr>\n",
              "            <th>Name</th>\n",
              "        </tr>\n",
              "    </thead>\n",
              "    <tbody>\n",
              "        <tr>\n",
              "            <td>counties</td>\n",
              "        </tr>\n",
              "        <tr>\n",
              "            <td>n_duplicates</td>\n",
              "        </tr>\n",
              "        <tr>\n",
              "            <td>tweets</td>\n",
              "        </tr>\n",
              "        <tr>\n",
              "            <td>tweets_counties</td>\n",
              "        </tr>\n",
              "    </tbody>\n",
              "</table>"
            ]
          },
          "metadata": {},
          "execution_count": 14
        }
      ]
    },
    {
      "cell_type": "markdown",
      "metadata": {
        "id": "ZiuVVcm5GXxI"
      },
      "source": [
        "Print the schema of the merged table."
      ]
    },
    {
      "cell_type": "code",
      "execution_count": 15,
      "metadata": {
        "colab": {
          "base_uri": "https://localhost:8080/",
          "height": 293
        },
        "id": "IFjAeMZvGXxI",
        "outputId": "ac537949-353c-4723-eff2-e206809f9ec2"
      },
      "outputs": [
        {
          "output_type": "display_data",
          "data": {
            "text/plain": [
              "Running query in 'sqlite:///sqlite_data/your_name.db?charset=utf8mb4'"
            ],
            "text/html": [
              "<span style=\"None\">Running query in &#x27;sqlite:///sqlite_data/your_name.db?charset=utf8mb4&#x27;</span>"
            ]
          },
          "metadata": {}
        },
        {
          "output_type": "execute_result",
          "data": {
            "text/plain": [
              "+-----+---------------------+------+---------+------------+----+\n",
              "| cid |         name        | type | notnull | dflt_value | pk |\n",
              "+-----+---------------------+------+---------+------------+----+\n",
              "|  0  |      created_at     | TEXT |    0    |    None    | 0  |\n",
              "|  1  |         fips        | INT  |    0    |    None    | 0  |\n",
              "|  2  |       tweet_id      | INT  |    0    |    None    | 0  |\n",
              "|  3  |  place_country_code | TEXT |    0    |    None    | 0  |\n",
              "|  4  |   place_full_name   | TEXT |    0    |    None    | 0  |\n",
              "|  5  |         text        | TEXT |    0    |    None    | 0  |\n",
              "|  6  |   user_created_at   | TEXT |    0    |    None    | 0  |\n",
              "|  7  |       user_id       | INT  |    0    |    None    | 0  |\n",
              "|  8  | user_statuses_count | REAL |    0    |    None    | 0  |\n",
              "|  9  |        county       | TEXT |    0    |    None    | 0  |\n",
              "|  10 |        state        | TEXT |    0    |    None    | 0  |\n",
              "+-----+---------------------+------+---------+------------+----+"
            ],
            "text/html": [
              "<table>\n",
              "    <thead>\n",
              "        <tr>\n",
              "            <th>cid</th>\n",
              "            <th>name</th>\n",
              "            <th>type</th>\n",
              "            <th>notnull</th>\n",
              "            <th>dflt_value</th>\n",
              "            <th>pk</th>\n",
              "        </tr>\n",
              "    </thead>\n",
              "    <tbody>\n",
              "        <tr>\n",
              "            <td>0</td>\n",
              "            <td>created_at</td>\n",
              "            <td>TEXT</td>\n",
              "            <td>0</td>\n",
              "            <td>None</td>\n",
              "            <td>0</td>\n",
              "        </tr>\n",
              "        <tr>\n",
              "            <td>1</td>\n",
              "            <td>fips</td>\n",
              "            <td>INT</td>\n",
              "            <td>0</td>\n",
              "            <td>None</td>\n",
              "            <td>0</td>\n",
              "        </tr>\n",
              "        <tr>\n",
              "            <td>2</td>\n",
              "            <td>tweet_id</td>\n",
              "            <td>INT</td>\n",
              "            <td>0</td>\n",
              "            <td>None</td>\n",
              "            <td>0</td>\n",
              "        </tr>\n",
              "        <tr>\n",
              "            <td>3</td>\n",
              "            <td>place_country_code</td>\n",
              "            <td>TEXT</td>\n",
              "            <td>0</td>\n",
              "            <td>None</td>\n",
              "            <td>0</td>\n",
              "        </tr>\n",
              "        <tr>\n",
              "            <td>4</td>\n",
              "            <td>place_full_name</td>\n",
              "            <td>TEXT</td>\n",
              "            <td>0</td>\n",
              "            <td>None</td>\n",
              "            <td>0</td>\n",
              "        </tr>\n",
              "        <tr>\n",
              "            <td>5</td>\n",
              "            <td>text</td>\n",
              "            <td>TEXT</td>\n",
              "            <td>0</td>\n",
              "            <td>None</td>\n",
              "            <td>0</td>\n",
              "        </tr>\n",
              "        <tr>\n",
              "            <td>6</td>\n",
              "            <td>user_created_at</td>\n",
              "            <td>TEXT</td>\n",
              "            <td>0</td>\n",
              "            <td>None</td>\n",
              "            <td>0</td>\n",
              "        </tr>\n",
              "        <tr>\n",
              "            <td>7</td>\n",
              "            <td>user_id</td>\n",
              "            <td>INT</td>\n",
              "            <td>0</td>\n",
              "            <td>None</td>\n",
              "            <td>0</td>\n",
              "        </tr>\n",
              "        <tr>\n",
              "            <td>8</td>\n",
              "            <td>user_statuses_count</td>\n",
              "            <td>REAL</td>\n",
              "            <td>0</td>\n",
              "            <td>None</td>\n",
              "            <td>0</td>\n",
              "        </tr>\n",
              "        <tr>\n",
              "            <td>9</td>\n",
              "            <td>county</td>\n",
              "            <td>TEXT</td>\n",
              "            <td>0</td>\n",
              "            <td>None</td>\n",
              "            <td>0</td>\n",
              "        </tr>\n",
              "        <tr>\n",
              "            <td>10</td>\n",
              "            <td>state</td>\n",
              "            <td>TEXT</td>\n",
              "            <td>0</td>\n",
              "            <td>None</td>\n",
              "            <td>0</td>\n",
              "        </tr>\n",
              "    </tbody>\n",
              "</table>"
            ]
          },
          "metadata": {},
          "execution_count": 15
        }
      ],
      "source": [
        "%%sql\n",
        "\n",
        "PRAGMA table_info(tweets_counties);"
      ]
    },
    {
      "cell_type": "markdown",
      "metadata": {
        "id": "pfFZru59GXxI"
      },
      "source": [
        "We can drop all tables except this new one as we now have everything in one table. And also rename the new `tweets_counties` table to tweets."
      ]
    },
    {
      "cell_type": "code",
      "execution_count": 16,
      "metadata": {
        "colab": {
          "base_uri": "https://localhost:8080/",
          "height": 34
        },
        "id": "4Uy2toS4GXxI",
        "outputId": "56bb6f9e-686d-41ff-cbf6-cdb89197b775"
      },
      "outputs": [
        {
          "output_type": "display_data",
          "data": {
            "text/plain": [
              "Running query in 'sqlite:///sqlite_data/your_name.db?charset=utf8mb4'"
            ],
            "text/html": [
              "<span style=\"None\">Running query in &#x27;sqlite:///sqlite_data/your_name.db?charset=utf8mb4&#x27;</span>"
            ]
          },
          "metadata": {}
        },
        {
          "output_type": "execute_result",
          "data": {
            "text/plain": [
              "++\n",
              "||\n",
              "++\n",
              "++"
            ],
            "text/html": [
              "<table>\n",
              "    <thead>\n",
              "        <tr>\n",
              "        </tr>\n",
              "    </thead>\n",
              "    <tbody>\n",
              "    </tbody>\n",
              "</table>"
            ]
          },
          "metadata": {},
          "execution_count": 16
        }
      ],
      "source": [
        "%%sql\n",
        "\n",
        "DROP TABLE tweets;\n",
        "DROP TABLE counties;\n",
        "ALTER TABLE tweets_counties RENAME TO tweets;"
      ]
    },
    {
      "cell_type": "markdown",
      "metadata": {
        "id": "OSnRtqWsGXxI"
      },
      "source": [
        "Let's find the number of users per state."
      ]
    },
    {
      "cell_type": "code",
      "execution_count": 17,
      "metadata": {
        "colab": {
          "base_uri": "https://localhost:8080/",
          "height": 827
        },
        "id": "FBlObh01GXxI",
        "outputId": "493c8178-3350-4868-8104-9282fa2de62d"
      },
      "outputs": [
        {
          "output_type": "display_data",
          "data": {
            "text/plain": [
              "Running query in 'sqlite:///sqlite_data/your_name.db?charset=utf8mb4'"
            ],
            "text/html": [
              "<span style=\"None\">Running query in &#x27;sqlite:///sqlite_data/your_name.db?charset=utf8mb4&#x27;</span>"
            ]
          },
          "metadata": {}
        },
        {
          "output_type": "execute_result",
          "data": {
            "text/plain": [
              "+----------------+---------+\n",
              "|     state      | n_users |\n",
              "+----------------+---------+\n",
              "|    Alabama     |    40   |\n",
              "|    Arkansas    |   296   |\n",
              "|   California   |    6    |\n",
              "|    Colorado    |   112   |\n",
              "|    Delaware    |   878   |\n",
              "|    Florida     |    52   |\n",
              "|    Georgia     |    44   |\n",
              "|     Idaho      |    25   |\n",
              "|    Illinois    |    49   |\n",
              "|    Indiana     |    91   |\n",
              "|      Iowa      |    89   |\n",
              "|     Kansas     |   245   |\n",
              "|    Kentucky    |    56   |\n",
              "|   Louisiana    |    4    |\n",
              "|    Michigan    |   105   |\n",
              "|   Minnesota    |    17   |\n",
              "|  Mississippi   |    13   |\n",
              "|    Missouri    |    61   |\n",
              "|    Montana     |    2    |\n",
              "|    Nebraska    |    9    |\n",
              "|     Nevada     |    8    |\n",
              "| New Hampshire  |   150   |\n",
              "|   New Mexico   |   155   |\n",
              "|    New York    |   495   |\n",
              "| North Carolina |   218   |\n",
              "|  North Dakota  |    22   |\n",
              "|      Ohio      |    83   |\n",
              "|    Oklahoma    |    56   |\n",
              "|     Oregon     |   101   |\n",
              "|  Pennsylvania  |   218   |\n",
              "| South Carolina |    7    |\n",
              "|  South Dakota  |    4    |\n",
              "|   Tennessee    |   170   |\n",
              "|     Texas      |   389   |\n",
              "|      Utah      |    1    |\n",
              "| West Virginia  |    52   |\n",
              "+----------------+---------+"
            ],
            "text/html": [
              "<table>\n",
              "    <thead>\n",
              "        <tr>\n",
              "            <th>state</th>\n",
              "            <th>n_users</th>\n",
              "        </tr>\n",
              "    </thead>\n",
              "    <tbody>\n",
              "        <tr>\n",
              "            <td>Alabama</td>\n",
              "            <td>40</td>\n",
              "        </tr>\n",
              "        <tr>\n",
              "            <td>Arkansas</td>\n",
              "            <td>296</td>\n",
              "        </tr>\n",
              "        <tr>\n",
              "            <td>California</td>\n",
              "            <td>6</td>\n",
              "        </tr>\n",
              "        <tr>\n",
              "            <td>Colorado</td>\n",
              "            <td>112</td>\n",
              "        </tr>\n",
              "        <tr>\n",
              "            <td>Delaware</td>\n",
              "            <td>878</td>\n",
              "        </tr>\n",
              "        <tr>\n",
              "            <td>Florida</td>\n",
              "            <td>52</td>\n",
              "        </tr>\n",
              "        <tr>\n",
              "            <td>Georgia</td>\n",
              "            <td>44</td>\n",
              "        </tr>\n",
              "        <tr>\n",
              "            <td>Idaho</td>\n",
              "            <td>25</td>\n",
              "        </tr>\n",
              "        <tr>\n",
              "            <td>Illinois</td>\n",
              "            <td>49</td>\n",
              "        </tr>\n",
              "        <tr>\n",
              "            <td>Indiana</td>\n",
              "            <td>91</td>\n",
              "        </tr>\n",
              "        <tr>\n",
              "            <td>Iowa</td>\n",
              "            <td>89</td>\n",
              "        </tr>\n",
              "        <tr>\n",
              "            <td>Kansas</td>\n",
              "            <td>245</td>\n",
              "        </tr>\n",
              "        <tr>\n",
              "            <td>Kentucky</td>\n",
              "            <td>56</td>\n",
              "        </tr>\n",
              "        <tr>\n",
              "            <td>Louisiana</td>\n",
              "            <td>4</td>\n",
              "        </tr>\n",
              "        <tr>\n",
              "            <td>Michigan</td>\n",
              "            <td>105</td>\n",
              "        </tr>\n",
              "        <tr>\n",
              "            <td>Minnesota</td>\n",
              "            <td>17</td>\n",
              "        </tr>\n",
              "        <tr>\n",
              "            <td>Mississippi</td>\n",
              "            <td>13</td>\n",
              "        </tr>\n",
              "        <tr>\n",
              "            <td>Missouri</td>\n",
              "            <td>61</td>\n",
              "        </tr>\n",
              "        <tr>\n",
              "            <td>Montana</td>\n",
              "            <td>2</td>\n",
              "        </tr>\n",
              "        <tr>\n",
              "            <td>Nebraska</td>\n",
              "            <td>9</td>\n",
              "        </tr>\n",
              "        <tr>\n",
              "            <td>Nevada</td>\n",
              "            <td>8</td>\n",
              "        </tr>\n",
              "        <tr>\n",
              "            <td>New Hampshire</td>\n",
              "            <td>150</td>\n",
              "        </tr>\n",
              "        <tr>\n",
              "            <td>New Mexico</td>\n",
              "            <td>155</td>\n",
              "        </tr>\n",
              "        <tr>\n",
              "            <td>New York</td>\n",
              "            <td>495</td>\n",
              "        </tr>\n",
              "        <tr>\n",
              "            <td>North Carolina</td>\n",
              "            <td>218</td>\n",
              "        </tr>\n",
              "        <tr>\n",
              "            <td>North Dakota</td>\n",
              "            <td>22</td>\n",
              "        </tr>\n",
              "        <tr>\n",
              "            <td>Ohio</td>\n",
              "            <td>83</td>\n",
              "        </tr>\n",
              "        <tr>\n",
              "            <td>Oklahoma</td>\n",
              "            <td>56</td>\n",
              "        </tr>\n",
              "        <tr>\n",
              "            <td>Oregon</td>\n",
              "            <td>101</td>\n",
              "        </tr>\n",
              "        <tr>\n",
              "            <td>Pennsylvania</td>\n",
              "            <td>218</td>\n",
              "        </tr>\n",
              "        <tr>\n",
              "            <td>South Carolina</td>\n",
              "            <td>7</td>\n",
              "        </tr>\n",
              "        <tr>\n",
              "            <td>South Dakota</td>\n",
              "            <td>4</td>\n",
              "        </tr>\n",
              "        <tr>\n",
              "            <td>Tennessee</td>\n",
              "            <td>170</td>\n",
              "        </tr>\n",
              "        <tr>\n",
              "            <td>Texas</td>\n",
              "            <td>389</td>\n",
              "        </tr>\n",
              "        <tr>\n",
              "            <td>Utah</td>\n",
              "            <td>1</td>\n",
              "        </tr>\n",
              "        <tr>\n",
              "            <td>West Virginia</td>\n",
              "            <td>52</td>\n",
              "        </tr>\n",
              "    </tbody>\n",
              "</table>"
            ]
          },
          "metadata": {},
          "execution_count": 17
        }
      ],
      "source": [
        "%%sql\n",
        "\n",
        "SELECT state, COUNT(DISTINCT(user_id)) AS n_users\n",
        "FROM tweets\n",
        "GROUP BY state;"
      ]
    },
    {
      "cell_type": "markdown",
      "metadata": {
        "id": "7HPNNhpsGXxI"
      },
      "source": [
        "#### 👩‍🔬💻 Exercise\n",
        "\n",
        "Can you list the states and the number of tweets per state in the decreasing number of tweets?"
      ]
    },
    {
      "cell_type": "markdown",
      "metadata": {
        "id": "J2fvkHY9GXxI"
      },
      "source": [
        "#### 👩‍🔬💻 Exercise\n",
        "\n",
        "Can you normalize these numbers for the number of distinct users in the state? Where do you see California?"
      ]
    }
  ],
  "metadata": {
    "kernelspec": {
      "display_name": "Python 3",
      "language": "python",
      "name": "python3"
    },
    "language_info": {
      "codemirror_mode": {
        "name": "ipython",
        "version": 3
      },
      "file_extension": ".py",
      "mimetype": "text/x-python",
      "name": "python",
      "nbconvert_exporter": "python",
      "pygments_lexer": "ipython3",
      "version": "3.8.8"
    },
    "colab": {
      "provenance": [],
      "toc_visible": true,
      "include_colab_link": true
    }
  },
  "nbformat": 4,
  "nbformat_minor": 0
}