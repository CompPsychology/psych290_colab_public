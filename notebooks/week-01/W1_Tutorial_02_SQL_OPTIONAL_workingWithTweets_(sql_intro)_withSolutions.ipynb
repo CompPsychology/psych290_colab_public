{
  "cells": [
    {
      "cell_type": "markdown",
      "metadata": {
        "id": "view-in-github",
        "colab_type": "text"
      },
      "source": [
        "<a href=\"https://colab.research.google.com/github/CompPsychology/psych290_colab_public/blob/main/notebooks/week-01/W1_Tutorial_02_SQL_OPTIONAL_workingWithTweets_(sql_intro)_withSolutions.ipynb\" target=\"_parent\"><img src=\"https://colab.research.google.com/assets/colab-badge.svg\" alt=\"Open In Colab\"/></a>"
      ]
    },
    {
      "cell_type": "markdown",
      "metadata": {
        "id": "TkLTdDvvGXwz"
      },
      "source": [
        "# W1 Tutorial 2 - Intermediate SQL on Tweets (DB: sql_intro) (2025-03)\n",
        "\n",
        "(c) Johannes Eichstaedt & the World Well-Being Project, 2023.\n",
        "\n",
        "✋🏻✋🏻 NOTE - You need to create a copy of this notebook before you work through it. Click on \"Save a copy in Drive\" option in the File menu, and safe it to your Google Drive.\n",
        "\n",
        "✉️🐞 If you find a bug/something doesn't work, please slack us a screenshot, or email johannes.courses@gmail.com."
      ]
    },
    {
      "cell_type": "markdown",
      "source": [
        "In this tutorial we will learn how to remove duplicates and how to work with `DATETIME` fields to get counts across time.\n",
        "\n",
        "**FYI:** you can execute a cell by hitting `CTRL+Enter` (Win) or `Command+Enter` (Mac).   \n",
        "`Shift+Enter` or `Command+Enter` will execute + advance to the cell below.\n",
        "\n",
        "Please execute every cell as you go along.\n",
        "\n",
        "**FYI:**\n",
        "* 🤓🤓🤓 comparisons with the tidyverse are flagged with the triple nerd  \n",
        "* 🐬🐬🐬 when there is code that runs in MySQL but not in SQLite, this is marked with the triple dolphin"
      ],
      "metadata": {
        "id": "lN4f2t5_g5gx"
      }
    },
    {
      "cell_type": "markdown",
      "source": [
        "## 1) Setting up Colab with DLATK and SQLite\n",
        "\n",
        "This tutorial begins by setting up DLATK in the Colab environment, similar to the previous tutorials. The next couple of subsections do this for you.\n",
        "\n",
        "Remember, if Colab asks you about this not being authored by Google, say, \"Run anyway.\""
      ],
      "metadata": {
        "id": "3dmRJoCleD4_"
      }
    },
    {
      "cell_type": "markdown",
      "source": [
        "### 1a) Install packages"
      ],
      "metadata": {
        "id": "h_bdneOWet61"
      }
    },
    {
      "cell_type": "code",
      "source": [
        "#We first install the necessary packages and then download the dataset.\n",
        "\n",
        "#This cell does it for you.\n",
        "\n",
        "# installing DLATK and necessary packages\n",
        "!git clone -b psych290 https://github.com/dlatk/dlatk.git\n",
        "!pip install dlatk/\n",
        "!pip install jupysql"
      ],
      "metadata": {
        "id": "BBOLv6P-0cIf",
        "outputId": "c2cc0173-b2db-42ce-df5b-2b4abcf2caf3",
        "colab": {
          "base_uri": "https://localhost:8080/"
        }
      },
      "execution_count": null,
      "outputs": [
        {
          "output_type": "stream",
          "name": "stdout",
          "text": [
            "Cloning into 'dlatk'...\n",
            "remote: Enumerating objects: 6975, done.\u001b[K\n",
            "remote: Counting objects: 100% (1070/1070), done.\u001b[K\n",
            "remote: Compressing objects: 100% (146/146), done.\u001b[K\n",
            "remote: Total 6975 (delta 992), reused 929 (delta 924), pack-reused 5905 (from 2)\u001b[K\n",
            "Receiving objects: 100% (6975/6975), 62.37 MiB | 7.94 MiB/s, done.\n",
            "Resolving deltas: 100% (4934/4934), done.\n",
            "Updating files: 100% (338/338), done.\n",
            "Processing ./dlatk\n",
            "  Preparing metadata (setup.py) ... \u001b[?25l\u001b[?25hdone\n",
            "Requirement already satisfied: nltk<=3.9.1,>=3.1 in /usr/local/lib/python3.11/dist-packages (from dlatk==1.3.1) (3.9.1)\n",
            "Requirement already satisfied: numpy<=2.0.2 in /usr/local/lib/python3.11/dist-packages (from dlatk==1.3.1) (2.0.2)\n",
            "Requirement already satisfied: pandas<=2.2.2,>=0.17.1 in /usr/local/lib/python3.11/dist-packages (from dlatk==1.3.1) (2.2.2)\n",
            "Requirement already satisfied: patsy<=1.0.1,>=0.2.1 in /usr/local/lib/python3.11/dist-packages (from dlatk==1.3.1) (1.0.1)\n",
            "Requirement already satisfied: python-dateutil<=2.8.2,>=2.5.0 in /usr/local/lib/python3.11/dist-packages (from dlatk==1.3.1) (2.8.2)\n",
            "Requirement already satisfied: scikit-learn<=1.6.1 in /usr/local/lib/python3.11/dist-packages (from dlatk==1.3.1) (1.6.1)\n",
            "Requirement already satisfied: scipy<=1.14.1,>=0.13.3 in /usr/local/lib/python3.11/dist-packages (from dlatk==1.3.1) (1.14.1)\n",
            "Requirement already satisfied: statsmodels<=0.14.4,>=0.5.0 in /usr/local/lib/python3.11/dist-packages (from dlatk==1.3.1) (0.14.4)\n",
            "Requirement already satisfied: click in /usr/local/lib/python3.11/dist-packages (from nltk<=3.9.1,>=3.1->dlatk==1.3.1) (8.1.8)\n",
            "Requirement already satisfied: joblib in /usr/local/lib/python3.11/dist-packages (from nltk<=3.9.1,>=3.1->dlatk==1.3.1) (1.4.2)\n",
            "Requirement already satisfied: regex>=2021.8.3 in /usr/local/lib/python3.11/dist-packages (from nltk<=3.9.1,>=3.1->dlatk==1.3.1) (2024.11.6)\n",
            "Requirement already satisfied: tqdm in /usr/local/lib/python3.11/dist-packages (from nltk<=3.9.1,>=3.1->dlatk==1.3.1) (4.67.1)\n",
            "Requirement already satisfied: pytz>=2020.1 in /usr/local/lib/python3.11/dist-packages (from pandas<=2.2.2,>=0.17.1->dlatk==1.3.1) (2025.2)\n",
            "Requirement already satisfied: tzdata>=2022.7 in /usr/local/lib/python3.11/dist-packages (from pandas<=2.2.2,>=0.17.1->dlatk==1.3.1) (2025.2)\n",
            "Requirement already satisfied: six>=1.5 in /usr/local/lib/python3.11/dist-packages (from python-dateutil<=2.8.2,>=2.5.0->dlatk==1.3.1) (1.17.0)\n",
            "Requirement already satisfied: threadpoolctl>=3.1.0 in /usr/local/lib/python3.11/dist-packages (from scikit-learn<=1.6.1->dlatk==1.3.1) (3.6.0)\n",
            "Requirement already satisfied: packaging>=21.3 in /usr/local/lib/python3.11/dist-packages (from statsmodels<=0.14.4,>=0.5.0->dlatk==1.3.1) (24.2)\n",
            "Building wheels for collected packages: dlatk\n",
            "  Building wheel for dlatk (setup.py) ... \u001b[?25l\u001b[?25hdone\n",
            "  Created wheel for dlatk: filename=dlatk-1.3.1-py3-none-any.whl size=35635829 sha256=4b7f6f37d25cac7f6e0e0e42b87ca451f89de22be1958f2d153588f10eede4f1\n",
            "  Stored in directory: /tmp/pip-ephem-wheel-cache-5f5ccocr/wheels/cc/c9/65/e1ecc64bac68518c07b286fe86921aa938e11a0c3a87d8ff93\n",
            "Successfully built dlatk\n",
            "Installing collected packages: dlatk\n",
            "Successfully installed dlatk-1.3.1\n",
            "Collecting jupysql\n",
            "  Downloading jupysql-0.11.1-py3-none-any.whl.metadata (5.9 kB)\n",
            "Requirement already satisfied: prettytable>=3.12.0 in /usr/local/lib/python3.11/dist-packages (from jupysql) (3.16.0)\n",
            "Requirement already satisfied: sqlalchemy in /usr/local/lib/python3.11/dist-packages (from jupysql) (2.0.40)\n",
            "Requirement already satisfied: sqlparse in /usr/local/lib/python3.11/dist-packages (from jupysql) (0.5.3)\n",
            "Requirement already satisfied: ipython-genutils>=0.1.0 in /usr/local/lib/python3.11/dist-packages (from jupysql) (0.2.0)\n",
            "Requirement already satisfied: jinja2 in /usr/local/lib/python3.11/dist-packages (from jupysql) (3.1.6)\n",
            "Requirement already satisfied: sqlglot>=11.3.7 in /usr/local/lib/python3.11/dist-packages (from jupysql) (25.20.2)\n",
            "Collecting jupysql-plugin>=0.4.2 (from jupysql)\n",
            "  Downloading jupysql_plugin-0.4.5-py3-none-any.whl.metadata (7.8 kB)\n",
            "Collecting ploomber-core>=0.2.7 (from jupysql)\n",
            "  Downloading ploomber_core-0.2.26-py3-none-any.whl.metadata (527 bytes)\n",
            "Requirement already satisfied: pyyaml in /usr/local/lib/python3.11/dist-packages (from ploomber-core>=0.2.7->jupysql) (6.0.2)\n",
            "Collecting posthog (from ploomber-core>=0.2.7->jupysql)\n",
            "  Downloading posthog-3.23.0-py2.py3-none-any.whl.metadata (3.0 kB)\n",
            "Requirement already satisfied: wcwidth in /usr/local/lib/python3.11/dist-packages (from prettytable>=3.12.0->jupysql) (0.2.13)\n",
            "Requirement already satisfied: MarkupSafe>=2.0 in /usr/local/lib/python3.11/dist-packages (from jinja2->jupysql) (3.0.2)\n",
            "Requirement already satisfied: greenlet>=1 in /usr/local/lib/python3.11/dist-packages (from sqlalchemy->jupysql) (3.1.1)\n",
            "Requirement already satisfied: typing-extensions>=4.6.0 in /usr/local/lib/python3.11/dist-packages (from sqlalchemy->jupysql) (4.13.0)\n",
            "Requirement already satisfied: requests<3.0,>=2.7 in /usr/local/lib/python3.11/dist-packages (from posthog->ploomber-core>=0.2.7->jupysql) (2.32.3)\n",
            "Requirement already satisfied: six>=1.5 in /usr/local/lib/python3.11/dist-packages (from posthog->ploomber-core>=0.2.7->jupysql) (1.17.0)\n",
            "Collecting monotonic>=1.5 (from posthog->ploomber-core>=0.2.7->jupysql)\n",
            "  Downloading monotonic-1.6-py2.py3-none-any.whl.metadata (1.5 kB)\n",
            "Collecting backoff>=1.10.0 (from posthog->ploomber-core>=0.2.7->jupysql)\n",
            "  Downloading backoff-2.2.1-py3-none-any.whl.metadata (14 kB)\n",
            "Requirement already satisfied: python-dateutil>2.1 in /usr/local/lib/python3.11/dist-packages (from posthog->ploomber-core>=0.2.7->jupysql) (2.8.2)\n",
            "Requirement already satisfied: distro>=1.5.0 in /usr/local/lib/python3.11/dist-packages (from posthog->ploomber-core>=0.2.7->jupysql) (1.9.0)\n",
            "Requirement already satisfied: charset-normalizer<4,>=2 in /usr/local/lib/python3.11/dist-packages (from requests<3.0,>=2.7->posthog->ploomber-core>=0.2.7->jupysql) (3.4.1)\n",
            "Requirement already satisfied: idna<4,>=2.5 in /usr/local/lib/python3.11/dist-packages (from requests<3.0,>=2.7->posthog->ploomber-core>=0.2.7->jupysql) (3.10)\n",
            "Requirement already satisfied: urllib3<3,>=1.21.1 in /usr/local/lib/python3.11/dist-packages (from requests<3.0,>=2.7->posthog->ploomber-core>=0.2.7->jupysql) (2.3.0)\n",
            "Requirement already satisfied: certifi>=2017.4.17 in /usr/local/lib/python3.11/dist-packages (from requests<3.0,>=2.7->posthog->ploomber-core>=0.2.7->jupysql) (2025.1.31)\n",
            "Downloading jupysql-0.11.1-py3-none-any.whl (95 kB)\n",
            "\u001b[2K   \u001b[90m━━━━━━━━━━━━━━━━━━━━━━━━━━━━━━━━━━━━━━━━\u001b[0m \u001b[32m95.1/95.1 kB\u001b[0m \u001b[31m3.5 MB/s\u001b[0m eta \u001b[36m0:00:00\u001b[0m\n",
            "\u001b[?25hDownloading jupysql_plugin-0.4.5-py3-none-any.whl (192 kB)\n",
            "\u001b[2K   \u001b[90m━━━━━━━━━━━━━━━━━━━━━━━━━━━━━━━━━━━━━━━━\u001b[0m \u001b[32m192.8/192.8 kB\u001b[0m \u001b[31m11.3 MB/s\u001b[0m eta \u001b[36m0:00:00\u001b[0m\n",
            "\u001b[?25hDownloading ploomber_core-0.2.26-py3-none-any.whl (22 kB)\n",
            "Downloading posthog-3.23.0-py2.py3-none-any.whl (84 kB)\n",
            "\u001b[2K   \u001b[90m━━━━━━━━━━━━━━━━━━━━━━━━━━━━━━━━━━━━━━━━\u001b[0m \u001b[32m85.0/85.0 kB\u001b[0m \u001b[31m6.8 MB/s\u001b[0m eta \u001b[36m0:00:00\u001b[0m\n",
            "\u001b[?25hDownloading backoff-2.2.1-py3-none-any.whl (15 kB)\n",
            "Downloading monotonic-1.6-py2.py3-none-any.whl (8.2 kB)\n",
            "Installing collected packages: monotonic, backoff, posthog, ploomber-core, jupysql-plugin, jupysql\n",
            "Successfully installed backoff-2.2.1 jupysql-0.11.1 jupysql-plugin-0.4.5 monotonic-1.6 ploomber-core-0.2.26 posthog-3.23.0\n"
          ]
        }
      ]
    },
    {
      "cell_type": "markdown",
      "source": [
        "### 1b) Download data and insert into SQLite database"
      ],
      "metadata": {
        "id": "RoiXZeF8ezYm"
      }
    },
    {
      "cell_type": "code",
      "source": [
        "# this download the csvs we need for this tutorial\n",
        "!git clone https://github.com/CompPsychology/sql_intro.git"
      ],
      "metadata": {
        "id": "GeghsdOGdzyw",
        "colab": {
          "base_uri": "https://localhost:8080/"
        },
        "outputId": "79654cb5-8b44-4a6e-8b4d-e2c086ae6f44"
      },
      "execution_count": null,
      "outputs": [
        {
          "output_type": "stream",
          "name": "stdout",
          "text": [
            "Cloning into 'sql_intro'...\n",
            "remote: Enumerating objects: 7, done.\u001b[K\n",
            "remote: Counting objects: 100% (7/7), done.\u001b[K\n",
            "remote: Compressing objects: 100% (6/6), done.\u001b[K\n",
            "remote: Total 7 (delta 1), reused 7 (delta 1), pack-reused 0 (from 0)\u001b[K\n",
            "Receiving objects: 100% (7/7), 1.29 MiB | 3.29 MiB/s, done.\n",
            "Resolving deltas: 100% (1/1), done.\n"
          ]
        }
      ]
    },
    {
      "cell_type": "markdown",
      "metadata": {
        "id": "1eac4ada"
      },
      "source": [
        "Now that you have set up Colab, create a `username` variable which we use to name the database for the rest of the tutorial."
      ]
    },
    {
      "cell_type": "code",
      "source": [
        "username = \"your_name\""
      ],
      "metadata": {
        "id": "DQQ1o-f3m-j8"
      },
      "execution_count": null,
      "outputs": []
    },
    {
      "cell_type": "markdown",
      "source": [
        "We then load the downloaded data into a database named [username].db in the sqlite_data folder."
      ],
      "metadata": {
        "id": "Uy-o-KCqpis6"
      }
    },
    {
      "cell_type": "code",
      "source": [
        "# load the required package -- similar to library() function in R\n",
        "import os\n",
        "from dlatk.tools.importmethods import csvToSQLite\n",
        "\n",
        "# store the complete path to the database -- sqlite_data/[username].db\n",
        "database = os.path.join(\"sqlite_data\", username)\n",
        "\n",
        "# import CSVs into tables in this database\n",
        "csvToSQLite(\n",
        "    \"sql_intro/counties.csv\",\n",
        "    database,\n",
        "    \"counties\"\n",
        ")\n",
        "\n",
        "csvToSQLite(\n",
        "    \"sql_intro/tweets.csv\",\n",
        "    database,\n",
        "    \"tweets\"\n",
        ")"
      ],
      "metadata": {
        "id": "rIGSacbpk3Hw",
        "outputId": "da965fe9-d9ed-4d46-fd15-5d377fb57f7b",
        "colab": {
          "base_uri": "https://localhost:8080/"
        }
      },
      "execution_count": null,
      "outputs": [
        {
          "output_type": "stream",
          "name": "stderr",
          "text": [
            "Table already exists\n",
            "Table already exists\n"
          ]
        }
      ]
    },
    {
      "cell_type": "markdown",
      "source": [
        "### 1c) Setup database connection"
      ],
      "metadata": {
        "id": "2u6O5Zwdewd4"
      }
    },
    {
      "cell_type": "markdown",
      "source": [
        "Finally, we establish a connection with the (SQLite) database with the `%sql` extension from colab."
      ],
      "metadata": {
        "id": "QYtoqPvgpnmy"
      }
    },
    {
      "cell_type": "code",
      "source": [
        "# loads the %%sql extension\n",
        "%load_ext sql\n",
        "\n",
        "# connects the extension to the database\n",
        "from sqlalchemy import create_engine\n",
        "engine = create_engine(f\"sqlite:///sqlite_data/{username}.db?charset=utf8mb4\")\n",
        "%sql engine\n",
        "\n",
        "#set the output limit to 50\n",
        "%config SqlMagic.displaylimit = 50"
      ],
      "metadata": {
        "id": "BMB3WwaBeQgT"
      },
      "execution_count": null,
      "outputs": []
    },
    {
      "cell_type": "markdown",
      "metadata": {
        "id": "lGpdCSuAGXw6"
      },
      "source": [
        "## 2) Check tables\n",
        "\n",
        "Let's check the tables within the database."
      ]
    },
    {
      "cell_type": "code",
      "execution_count": null,
      "metadata": {
        "colab": {
          "base_uri": "https://localhost:8080/",
          "height": 83
        },
        "id": "RgQYRzcOGXw6",
        "outputId": "ed7f7889-f07a-4d57-9179-dff2165063dc"
      },
      "outputs": [
        {
          "output_type": "execute_result",
          "data": {
            "text/plain": [
              "+----------+\n",
              "|   Name   |\n",
              "+----------+\n",
              "| counties |\n",
              "|  tweets  |\n",
              "+----------+"
            ],
            "text/html": [
              "<table>\n",
              "    <thead>\n",
              "        <tr>\n",
              "            <th>Name</th>\n",
              "        </tr>\n",
              "    </thead>\n",
              "    <tbody>\n",
              "        <tr>\n",
              "            <td>counties</td>\n",
              "        </tr>\n",
              "        <tr>\n",
              "            <td>tweets</td>\n",
              "        </tr>\n",
              "    </tbody>\n",
              "</table>"
            ]
          },
          "metadata": {},
          "execution_count": 6
        }
      ],
      "source": [
        "%sqlcmd tables"
      ]
    },
    {
      "cell_type": "markdown",
      "metadata": {
        "id": "Wr3Ot8HCGXw6"
      },
      "source": [
        "We will use both the tables `counties` and `tweets` in this tutorial."
      ]
    },
    {
      "cell_type": "markdown",
      "metadata": {
        "id": "Z4iqkES9GXw6"
      },
      "source": [
        "#### 👩‍🔬💻 Exercise\n",
        "\n",
        "Can you check the columns in these tables?"
      ]
    },
    {
      "cell_type": "code",
      "execution_count": null,
      "metadata": {
        "colab": {
          "base_uri": "https://localhost:8080/",
          "height": 122
        },
        "id": "9hJs2SrOGXw7",
        "outputId": "21f150d2-e2cc-43a1-f680-080d5ea3e41f"
      },
      "outputs": [
        {
          "output_type": "display_data",
          "data": {
            "text/plain": [
              "Running query in 'sqlite:///sqlite_data/your_name.db?charset=utf8mb4'"
            ],
            "text/html": [
              "<span style=\"None\">Running query in &#x27;sqlite:///sqlite_data/your_name.db?charset=utf8mb4&#x27;</span>"
            ]
          },
          "metadata": {}
        },
        {
          "output_type": "execute_result",
          "data": {
            "text/plain": [
              "+-----+--------+-------------+---------+------------+----+\n",
              "| cid |  name  |     type    | notnull | dflt_value | pk |\n",
              "+-----+--------+-------------+---------+------------+----+\n",
              "|  0  |  fips  |     INT     |    0    |    None    | 0  |\n",
              "|  1  | county | VARCHAR(31) |    0    |    None    | 0  |\n",
              "|  2  | state  | VARCHAR(31) |    0    |    None    | 0  |\n",
              "+-----+--------+-------------+---------+------------+----+"
            ],
            "text/html": [
              "<table>\n",
              "    <thead>\n",
              "        <tr>\n",
              "            <th>cid</th>\n",
              "            <th>name</th>\n",
              "            <th>type</th>\n",
              "            <th>notnull</th>\n",
              "            <th>dflt_value</th>\n",
              "            <th>pk</th>\n",
              "        </tr>\n",
              "    </thead>\n",
              "    <tbody>\n",
              "        <tr>\n",
              "            <td>0</td>\n",
              "            <td>fips</td>\n",
              "            <td>INT</td>\n",
              "            <td>0</td>\n",
              "            <td>None</td>\n",
              "            <td>0</td>\n",
              "        </tr>\n",
              "        <tr>\n",
              "            <td>1</td>\n",
              "            <td>county</td>\n",
              "            <td>VARCHAR(31)</td>\n",
              "            <td>0</td>\n",
              "            <td>None</td>\n",
              "            <td>0</td>\n",
              "        </tr>\n",
              "        <tr>\n",
              "            <td>2</td>\n",
              "            <td>state</td>\n",
              "            <td>VARCHAR(31)</td>\n",
              "            <td>0</td>\n",
              "            <td>None</td>\n",
              "            <td>0</td>\n",
              "        </tr>\n",
              "    </tbody>\n",
              "</table>"
            ]
          },
          "metadata": {},
          "execution_count": 7
        }
      ],
      "source": [
        "%%sql\n",
        "\n",
        "PRAGMA table_info(counties);"
      ]
    },
    {
      "cell_type": "code",
      "execution_count": null,
      "metadata": {
        "colab": {
          "base_uri": "https://localhost:8080/",
          "height": 271
        },
        "id": "WU88GIo_GXw7",
        "outputId": "c33e48de-4676-44f9-d7de-8f10ff47cbff"
      },
      "outputs": [
        {
          "output_type": "display_data",
          "data": {
            "text/plain": [
              "Running query in 'sqlite:///sqlite_data/your_name.db?charset=utf8mb4'"
            ],
            "text/html": [
              "<span style=\"None\">Running query in &#x27;sqlite:///sqlite_data/your_name.db?charset=utf8mb4&#x27;</span>"
            ]
          },
          "metadata": {}
        },
        {
          "output_type": "execute_result",
          "data": {
            "text/plain": [
              "+-----+---------------------+-------------+---------+------------+----+\n",
              "| cid |         name        |     type    | notnull | dflt_value | pk |\n",
              "+-----+---------------------+-------------+---------+------------+----+\n",
              "|  0  |     coordinates     |     TEXT    |    0    |    None    | 0  |\n",
              "|  1  |      created_at     | VARCHAR(31) |    0    |    None    | 0  |\n",
              "|  2  |         fips        |     INT     |    0    |    None    | 0  |\n",
              "|  3  |       tweet_id      |     INT     |    0    |    None    | 0  |\n",
              "|  4  |  place_country_code |  VARCHAR(7) |    0    |    None    | 0  |\n",
              "|  5  |   place_full_name   | VARCHAR(63) |    0    |    None    | 0  |\n",
              "|  6  |         text        |   LONGTEXT  |    0    |    None    | 0  |\n",
              "|  7  |   user_created_at   | VARCHAR(63) |    0    |    None    | 0  |\n",
              "|  8  |       user_id       |     INT     |    0    |    None    | 0  |\n",
              "|  9  | user_statuses_count |    DOUBLE   |    0    |    None    | 0  |\n",
              "+-----+---------------------+-------------+---------+------------+----+"
            ],
            "text/html": [
              "<table>\n",
              "    <thead>\n",
              "        <tr>\n",
              "            <th>cid</th>\n",
              "            <th>name</th>\n",
              "            <th>type</th>\n",
              "            <th>notnull</th>\n",
              "            <th>dflt_value</th>\n",
              "            <th>pk</th>\n",
              "        </tr>\n",
              "    </thead>\n",
              "    <tbody>\n",
              "        <tr>\n",
              "            <td>0</td>\n",
              "            <td>coordinates</td>\n",
              "            <td>TEXT</td>\n",
              "            <td>0</td>\n",
              "            <td>None</td>\n",
              "            <td>0</td>\n",
              "        </tr>\n",
              "        <tr>\n",
              "            <td>1</td>\n",
              "            <td>created_at</td>\n",
              "            <td>VARCHAR(31)</td>\n",
              "            <td>0</td>\n",
              "            <td>None</td>\n",
              "            <td>0</td>\n",
              "        </tr>\n",
              "        <tr>\n",
              "            <td>2</td>\n",
              "            <td>fips</td>\n",
              "            <td>INT</td>\n",
              "            <td>0</td>\n",
              "            <td>None</td>\n",
              "            <td>0</td>\n",
              "        </tr>\n",
              "        <tr>\n",
              "            <td>3</td>\n",
              "            <td>tweet_id</td>\n",
              "            <td>INT</td>\n",
              "            <td>0</td>\n",
              "            <td>None</td>\n",
              "            <td>0</td>\n",
              "        </tr>\n",
              "        <tr>\n",
              "            <td>4</td>\n",
              "            <td>place_country_code</td>\n",
              "            <td>VARCHAR(7)</td>\n",
              "            <td>0</td>\n",
              "            <td>None</td>\n",
              "            <td>0</td>\n",
              "        </tr>\n",
              "        <tr>\n",
              "            <td>5</td>\n",
              "            <td>place_full_name</td>\n",
              "            <td>VARCHAR(63)</td>\n",
              "            <td>0</td>\n",
              "            <td>None</td>\n",
              "            <td>0</td>\n",
              "        </tr>\n",
              "        <tr>\n",
              "            <td>6</td>\n",
              "            <td>text</td>\n",
              "            <td>LONGTEXT</td>\n",
              "            <td>0</td>\n",
              "            <td>None</td>\n",
              "            <td>0</td>\n",
              "        </tr>\n",
              "        <tr>\n",
              "            <td>7</td>\n",
              "            <td>user_created_at</td>\n",
              "            <td>VARCHAR(63)</td>\n",
              "            <td>0</td>\n",
              "            <td>None</td>\n",
              "            <td>0</td>\n",
              "        </tr>\n",
              "        <tr>\n",
              "            <td>8</td>\n",
              "            <td>user_id</td>\n",
              "            <td>INT</td>\n",
              "            <td>0</td>\n",
              "            <td>None</td>\n",
              "            <td>0</td>\n",
              "        </tr>\n",
              "        <tr>\n",
              "            <td>9</td>\n",
              "            <td>user_statuses_count</td>\n",
              "            <td>DOUBLE</td>\n",
              "            <td>0</td>\n",
              "            <td>None</td>\n",
              "            <td>0</td>\n",
              "        </tr>\n",
              "    </tbody>\n",
              "</table>"
            ]
          },
          "metadata": {},
          "execution_count": 8
        }
      ],
      "source": [
        "%%sql\n",
        "\n",
        "PRAGMA table_info(tweets);"
      ]
    },
    {
      "cell_type": "markdown",
      "metadata": {
        "id": "9p-Ws8twGXw7"
      },
      "source": [
        "**Ask Yourself:** What might be the primary key - foreign key relationship that connects the two tables? Basically, what column ties tables together?"
      ]
    },
    {
      "cell_type": "markdown",
      "metadata": {
        "id": "4ICIC5ZYGXw7"
      },
      "source": [
        "**Answer-** `fips` in both `counties` and `tweets` tables. (Federal Information Processing System (FIPS) Codes identify counties.)"
      ]
    },
    {
      "cell_type": "markdown",
      "metadata": {
        "id": "9Dw9-PN_GXw7"
      },
      "source": [
        "## 3) View Sample Of Records\n",
        "\n",
        "Now that we have copied the tables, let's look at a sample of tweets. Instead of looking at consecutive samples, lets look at random sample. This is where we use the **ORDER BY RANDOM( )**. Run it multiple times to see different samples."
      ]
    },
    {
      "cell_type": "code",
      "execution_count": null,
      "metadata": {
        "colab": {
          "base_uri": "https://localhost:8080/",
          "height": 425
        },
        "id": "7ffvXbmaGXw7",
        "outputId": "96c422d8-f57b-4e5c-bed2-2ddf6e55aee1"
      },
      "outputs": [
        {
          "output_type": "display_data",
          "data": {
            "text/plain": [
              "Running query in 'sqlite:///sqlite_data/your_name.db?charset=utf8mb4'"
            ],
            "text/html": [
              "<span style=\"None\">Running query in &#x27;sqlite:///sqlite_data/your_name.db?charset=utf8mb4&#x27;</span>"
            ]
          },
          "metadata": {}
        },
        {
          "output_type": "execute_result",
          "data": {
            "text/plain": [
              "+-------------+---------------------+-------+---------------------+--------------------+-----------------+-----------------------------------------------------------------------------------------------------------------------------------------------------------------------------------------------------------------------------------+--------------------------------+--------------------+---------------------+\n",
              "| coordinates |      created_at     |  fips |       tweet_id      | place_country_code | place_full_name |                                                                                                                text                                                                                                               |        user_created_at         |      user_id       | user_statuses_count |\n",
              "+-------------+---------------------+-------+---------------------+--------------------+-----------------+-----------------------------------------------------------------------------------------------------------------------------------------------------------------------------------------------------------------------------------+--------------------------------+--------------------+---------------------+\n",
              "|             | 2020-05-17 17:15:31 | 17195 | 1262069248635146240 |                    |                 |                            “It is very frustrating, because here we are, spending all of our time trying to take care of the COVID patients. All I can say is that it is real.” https://t.co/9uH69hvZGf                           | Sat Dec 13 04:35:47 +0000 2008 |      18093695      |       33471.0       |\n",
              "|             | 2020-05-12 04:17:29 | 20161 | 1260061508471422976 |                    |                 |                                                      Send a message to these 10 key senators who can protect nurses in the next #COVID19 relief bill https://t.co/0lByEGseJr                                                      | Sun Oct 15 19:13:51 +0000 2017 | 919642495239065601 |       31602.0       |\n",
              "|             | 2020-05-10 18:29:41 | 40101 | 1259551198987902976 |                    |                 | Thousands Of Immigrant Kids Are Detained, Far From Their Parents. They Need Protection From COVID-19, Too https://t.co/5cyLXJdOhw via @cogwbur  Can you imagine yourself in the place of these innocent victims of DUMP'S hatred! | Sun Oct 25 15:54:33 +0000 2015 |     4014898513     |       26829.0       |\n",
              "|             | 2020-05-16 20:05:13 |  5007 | 1261749565004435459 |                    |                 |                                                                         Arkansas Pandemic Unemployment Assistance website breached https://t.co/bf8iJ2mYyQ                                                                        | Fri Jun 23 16:48:25 +0000 2017 | 878293675964592133 |        4039.0       |\n",
              "|             | 2020-05-10 13:52:23 | 17195 | 1259481411217764352 |                    |                 |                                                             My IVF Treatment Update & A 2nd Wave of Coronavirus in Hong Kong https://t.co/plfzn0YghZ via @YouTube                                                             | Tue Jun 30 19:32:33 +0000 2009 |      52493415      |       444623.0      |\n",
              "+-------------+---------------------+-------+---------------------+--------------------+-----------------+-----------------------------------------------------------------------------------------------------------------------------------------------------------------------------------------------------------------------------------+--------------------------------+--------------------+---------------------+"
            ],
            "text/html": [
              "<table>\n",
              "    <thead>\n",
              "        <tr>\n",
              "            <th>coordinates</th>\n",
              "            <th>created_at</th>\n",
              "            <th>fips</th>\n",
              "            <th>tweet_id</th>\n",
              "            <th>place_country_code</th>\n",
              "            <th>place_full_name</th>\n",
              "            <th>text</th>\n",
              "            <th>user_created_at</th>\n",
              "            <th>user_id</th>\n",
              "            <th>user_statuses_count</th>\n",
              "        </tr>\n",
              "    </thead>\n",
              "    <tbody>\n",
              "        <tr>\n",
              "            <td></td>\n",
              "            <td>2020-05-17 17:15:31</td>\n",
              "            <td>17195</td>\n",
              "            <td>1262069248635146240</td>\n",
              "            <td></td>\n",
              "            <td></td>\n",
              "            <td>“It is very frustrating, because here we are, spending all of our time trying to take care of the COVID patients. All I can say is that it is real.” https://t.co/9uH69hvZGf</td>\n",
              "            <td>Sat Dec 13 04:35:47 +0000 2008</td>\n",
              "            <td>18093695</td>\n",
              "            <td>33471.0</td>\n",
              "        </tr>\n",
              "        <tr>\n",
              "            <td></td>\n",
              "            <td>2020-05-12 04:17:29</td>\n",
              "            <td>20161</td>\n",
              "            <td>1260061508471422976</td>\n",
              "            <td></td>\n",
              "            <td></td>\n",
              "            <td>Send a message to these 10 key senators who can protect nurses in the next #COVID19 relief bill https://t.co/0lByEGseJr</td>\n",
              "            <td>Sun Oct 15 19:13:51 +0000 2017</td>\n",
              "            <td>919642495239065601</td>\n",
              "            <td>31602.0</td>\n",
              "        </tr>\n",
              "        <tr>\n",
              "            <td></td>\n",
              "            <td>2020-05-10 18:29:41</td>\n",
              "            <td>40101</td>\n",
              "            <td>1259551198987902976</td>\n",
              "            <td></td>\n",
              "            <td></td>\n",
              "            <td>Thousands Of Immigrant Kids Are Detained, Far From Their Parents. They Need Protection From COVID-19, Too https://t.co/5cyLXJdOhw via @cogwbur  Can you imagine yourself in the place of these innocent victims of DUMP'S hatred!</td>\n",
              "            <td>Sun Oct 25 15:54:33 +0000 2015</td>\n",
              "            <td>4014898513</td>\n",
              "            <td>26829.0</td>\n",
              "        </tr>\n",
              "        <tr>\n",
              "            <td></td>\n",
              "            <td>2020-05-16 20:05:13</td>\n",
              "            <td>5007</td>\n",
              "            <td>1261749565004435459</td>\n",
              "            <td></td>\n",
              "            <td></td>\n",
              "            <td>Arkansas Pandemic Unemployment Assistance website breached https://t.co/bf8iJ2mYyQ</td>\n",
              "            <td>Fri Jun 23 16:48:25 +0000 2017</td>\n",
              "            <td>878293675964592133</td>\n",
              "            <td>4039.0</td>\n",
              "        </tr>\n",
              "        <tr>\n",
              "            <td></td>\n",
              "            <td>2020-05-10 13:52:23</td>\n",
              "            <td>17195</td>\n",
              "            <td>1259481411217764352</td>\n",
              "            <td></td>\n",
              "            <td></td>\n",
              "            <td>My IVF Treatment Update &amp; A 2nd Wave of Coronavirus in Hong Kong https://t.co/plfzn0YghZ via @YouTube</td>\n",
              "            <td>Tue Jun 30 19:32:33 +0000 2009</td>\n",
              "            <td>52493415</td>\n",
              "            <td>444623.0</td>\n",
              "        </tr>\n",
              "    </tbody>\n",
              "</table>"
            ]
          },
          "metadata": {},
          "execution_count": 9
        }
      ],
      "source": [
        "%%sql\n",
        "\n",
        "SELECT *\n",
        "FROM tweets\n",
        "ORDER BY RANDOM()\n",
        "LIMIT 5;"
      ]
    },
    {
      "cell_type": "markdown",
      "metadata": {
        "id": "r2ynwqrjGXw7"
      },
      "source": [
        "## 4) Drop Column\n",
        "\n",
        "You can observe that the `coordinates` column is empty. Is that the case with all the rows? Lets check that."
      ]
    },
    {
      "cell_type": "code",
      "execution_count": null,
      "metadata": {
        "colab": {
          "base_uri": "https://localhost:8080/",
          "height": 79
        },
        "id": "ZUvTo8p8GXw7",
        "outputId": "9ec7b0dd-1500-446d-82eb-9f91c0e7b328"
      },
      "outputs": [
        {
          "output_type": "display_data",
          "data": {
            "text/plain": [
              "Running query in 'sqlite:///sqlite_data/your_name.db?charset=utf8mb4'"
            ],
            "text/html": [
              "<span style=\"None\">Running query in &#x27;sqlite:///sqlite_data/your_name.db?charset=utf8mb4&#x27;</span>"
            ]
          },
          "metadata": {}
        },
        {
          "output_type": "execute_result",
          "data": {
            "text/plain": [
              "+----------+\n",
              "| n_tweets |\n",
              "+----------+\n",
              "|    0     |\n",
              "+----------+"
            ],
            "text/html": [
              "<table>\n",
              "    <thead>\n",
              "        <tr>\n",
              "            <th>n_tweets</th>\n",
              "        </tr>\n",
              "    </thead>\n",
              "    <tbody>\n",
              "        <tr>\n",
              "            <td>0</td>\n",
              "        </tr>\n",
              "    </tbody>\n",
              "</table>"
            ]
          },
          "metadata": {},
          "execution_count": 10
        }
      ],
      "source": [
        "%%sql\n",
        "\n",
        "SELECT COUNT(*) AS n_tweets\n",
        "FROM tweets\n",
        "WHERE LENGTH(coordinates) > 0;"
      ]
    },
    {
      "cell_type": "markdown",
      "metadata": {
        "id": "otSoI3qnGXw7"
      },
      "source": [
        "So the _coordinates_ columns is empty for all rows table. We might as well drop the column altogether."
      ]
    },
    {
      "cell_type": "code",
      "execution_count": null,
      "metadata": {
        "colab": {
          "base_uri": "https://localhost:8080/",
          "height": 34
        },
        "id": "YbdvD_oLGXw7",
        "outputId": "61c3610b-c096-46be-84d5-83325daa1e2d"
      },
      "outputs": [
        {
          "output_type": "display_data",
          "data": {
            "text/plain": [
              "Running query in 'sqlite:///sqlite_data/your_name.db?charset=utf8mb4'"
            ],
            "text/html": [
              "<span style=\"None\">Running query in &#x27;sqlite:///sqlite_data/your_name.db?charset=utf8mb4&#x27;</span>"
            ]
          },
          "metadata": {}
        },
        {
          "output_type": "execute_result",
          "data": {
            "text/plain": [
              "++\n",
              "||\n",
              "++\n",
              "++"
            ],
            "text/html": [
              "<table>\n",
              "    <thead>\n",
              "        <tr>\n",
              "        </tr>\n",
              "    </thead>\n",
              "    <tbody>\n",
              "    </tbody>\n",
              "</table>"
            ]
          },
          "metadata": {},
          "execution_count": 11
        }
      ],
      "source": [
        "%%sql\n",
        "\n",
        "ALTER TABLE tweets\n",
        "DROP COLUMN coordinates;"
      ]
    },
    {
      "cell_type": "markdown",
      "metadata": {
        "id": "YcAe9XiHGXw7"
      },
      "source": [
        "#### 👩‍🔬💻 Exercise\n",
        "\n",
        "Can you check the total number of **unique** users in the table?"
      ]
    },
    {
      "cell_type": "code",
      "execution_count": null,
      "metadata": {
        "colab": {
          "base_uri": "https://localhost:8080/",
          "height": 79
        },
        "id": "Dr-v0KprGXw8",
        "outputId": "4e3b1f85-7cd5-4699-8b1f-dcb8ca1982b2"
      },
      "outputs": [
        {
          "output_type": "display_data",
          "data": {
            "text/plain": [
              "Running query in 'sqlite:///sqlite_data/your_name.db?charset=utf8mb4'"
            ],
            "text/html": [
              "<span style=\"None\">Running query in &#x27;sqlite:///sqlite_data/your_name.db?charset=utf8mb4&#x27;</span>"
            ]
          },
          "metadata": {}
        },
        {
          "output_type": "execute_result",
          "data": {
            "text/plain": [
              "+-------------------------+\n",
              "| COUNT(DISTINCT user_id) |\n",
              "+-------------------------+\n",
              "|           4321          |\n",
              "+-------------------------+"
            ],
            "text/html": [
              "<table>\n",
              "    <thead>\n",
              "        <tr>\n",
              "            <th>COUNT(DISTINCT user_id)</th>\n",
              "        </tr>\n",
              "    </thead>\n",
              "    <tbody>\n",
              "        <tr>\n",
              "            <td>4321</td>\n",
              "        </tr>\n",
              "    </tbody>\n",
              "</table>"
            ]
          },
          "metadata": {},
          "execution_count": 12
        }
      ],
      "source": [
        "%%sql\n",
        "\n",
        "SELECT COUNT(DISTINCT user_id)\n",
        "FROM tweets;"
      ]
    },
    {
      "cell_type": "markdown",
      "metadata": {
        "id": "W8ZbF-feGXw8"
      },
      "source": [
        "#### 👩‍🔬💻 Exercise\n",
        "\n",
        "Verify if there are tweets from all the counties in `counties` table.        "
      ]
    },
    {
      "cell_type": "code",
      "execution_count": null,
      "metadata": {
        "colab": {
          "base_uri": "https://localhost:8080/",
          "height": 79
        },
        "id": "bTepkummGXw8",
        "outputId": "2c97d760-0281-4b39-ed5f-1c8a042506e7"
      },
      "outputs": [
        {
          "output_type": "display_data",
          "data": {
            "text/plain": [
              "Running query in 'sqlite:///sqlite_data/your_name.db?charset=utf8mb4'"
            ],
            "text/html": [
              "<span style=\"None\">Running query in &#x27;sqlite:///sqlite_data/your_name.db?charset=utf8mb4&#x27;</span>"
            ]
          },
          "metadata": {}
        },
        {
          "output_type": "execute_result",
          "data": {
            "text/plain": [
              "+-------------+\n",
              "| COUNT(fips) |\n",
              "+-------------+\n",
              "|     100     |\n",
              "+-------------+"
            ],
            "text/html": [
              "<table>\n",
              "    <thead>\n",
              "        <tr>\n",
              "            <th>COUNT(fips)</th>\n",
              "        </tr>\n",
              "    </thead>\n",
              "    <tbody>\n",
              "        <tr>\n",
              "            <td>100</td>\n",
              "        </tr>\n",
              "    </tbody>\n",
              "</table>"
            ]
          },
          "metadata": {},
          "execution_count": 13
        }
      ],
      "source": [
        "%%sql\n",
        "\n",
        "SELECT COUNT(fips)\n",
        "FROM counties;"
      ]
    },
    {
      "cell_type": "code",
      "execution_count": null,
      "metadata": {
        "colab": {
          "base_uri": "https://localhost:8080/",
          "height": 79
        },
        "id": "momJC7WFGXw8",
        "outputId": "970026d0-4148-4a4a-8b03-e7683407151c"
      },
      "outputs": [
        {
          "output_type": "display_data",
          "data": {
            "text/plain": [
              "Running query in 'sqlite:///sqlite_data/your_name.db?charset=utf8mb4'"
            ],
            "text/html": [
              "<span style=\"None\">Running query in &#x27;sqlite:///sqlite_data/your_name.db?charset=utf8mb4&#x27;</span>"
            ]
          },
          "metadata": {}
        },
        {
          "output_type": "execute_result",
          "data": {
            "text/plain": [
              "+----------------------+\n",
              "| COUNT(DISTINCT fips) |\n",
              "+----------------------+\n",
              "|          94          |\n",
              "+----------------------+"
            ],
            "text/html": [
              "<table>\n",
              "    <thead>\n",
              "        <tr>\n",
              "            <th>COUNT(DISTINCT fips)</th>\n",
              "        </tr>\n",
              "    </thead>\n",
              "    <tbody>\n",
              "        <tr>\n",
              "            <td>94</td>\n",
              "        </tr>\n",
              "    </tbody>\n",
              "</table>"
            ]
          },
          "metadata": {},
          "execution_count": 14
        }
      ],
      "source": [
        "%%sql\n",
        "\n",
        "SELECT COUNT(DISTINCT fips)\n",
        "FROM tweets;"
      ]
    },
    {
      "cell_type": "markdown",
      "metadata": {
        "id": "3qTr9mZtGXw8"
      },
      "source": [
        "## 5) Remove Duplicates\n",
        "\n",
        "Let's check if there are any duplicate tweets by finding number of distinct tweet ids."
      ]
    },
    {
      "cell_type": "code",
      "execution_count": null,
      "metadata": {
        "colab": {
          "base_uri": "https://localhost:8080/",
          "height": 79
        },
        "id": "X3LGNDGFGXw8",
        "outputId": "9f8ee5f4-1274-4f70-addc-ec61aae70fd7"
      },
      "outputs": [
        {
          "output_type": "display_data",
          "data": {
            "text/plain": [
              "Running query in 'sqlite:///sqlite_data/your_name.db?charset=utf8mb4'"
            ],
            "text/html": [
              "<span style=\"None\">Running query in &#x27;sqlite:///sqlite_data/your_name.db?charset=utf8mb4&#x27;</span>"
            ]
          },
          "metadata": {}
        },
        {
          "output_type": "execute_result",
          "data": {
            "text/plain": [
              "+----------+-------+\n",
              "| n_tweets | total |\n",
              "+----------+-------+\n",
              "|  12145   | 12629 |\n",
              "+----------+-------+"
            ],
            "text/html": [
              "<table>\n",
              "    <thead>\n",
              "        <tr>\n",
              "            <th>n_tweets</th>\n",
              "            <th>total</th>\n",
              "        </tr>\n",
              "    </thead>\n",
              "    <tbody>\n",
              "        <tr>\n",
              "            <td>12145</td>\n",
              "            <td>12629</td>\n",
              "        </tr>\n",
              "    </tbody>\n",
              "</table>"
            ]
          },
          "metadata": {},
          "execution_count": 15
        }
      ],
      "source": [
        "%%sql\n",
        "\n",
        "SELECT COUNT(DISTINCT(tweet_id)) AS n_tweets, COUNT(*) AS total\n",
        "FROM tweets;"
      ]
    },
    {
      "cell_type": "markdown",
      "metadata": {
        "id": "J7hKRuSZGXw8"
      },
      "source": [
        "So there are duplicate tweets in this data. Let us make a table `n_duplicates` with number of duplicates for every tweet _id_ for only the tweets that have duplicates."
      ]
    },
    {
      "cell_type": "code",
      "execution_count": null,
      "metadata": {
        "colab": {
          "base_uri": "https://localhost:8080/",
          "height": 34
        },
        "id": "2zDp-iiwGXw8",
        "outputId": "326587db-7654-4da6-85fb-65dfdfe531aa"
      },
      "outputs": [
        {
          "output_type": "display_data",
          "data": {
            "text/plain": [
              "Running query in 'sqlite:///sqlite_data/your_name.db?charset=utf8mb4'"
            ],
            "text/html": [
              "<span style=\"None\">Running query in &#x27;sqlite:///sqlite_data/your_name.db?charset=utf8mb4&#x27;</span>"
            ]
          },
          "metadata": {}
        },
        {
          "output_type": "execute_result",
          "data": {
            "text/plain": [
              "++\n",
              "||\n",
              "++\n",
              "++"
            ],
            "text/html": [
              "<table>\n",
              "    <thead>\n",
              "        <tr>\n",
              "        </tr>\n",
              "    </thead>\n",
              "    <tbody>\n",
              "    </tbody>\n",
              "</table>"
            ]
          },
          "metadata": {},
          "execution_count": 16
        }
      ],
      "source": [
        "%%sql\n",
        "\n",
        "CREATE TABLE n_duplicates AS\n",
        "SELECT tweet_id, COUNT(*) AS n_duplicates\n",
        "FROM tweets\n",
        "GROUP BY tweet_id HAVING COUNT(*) > 1;"
      ]
    },
    {
      "cell_type": "markdown",
      "metadata": {
        "id": "cfyg_M_JGXw8"
      },
      "source": [
        "Let's check some of the entries in the `n_duplicates` table."
      ]
    },
    {
      "cell_type": "code",
      "execution_count": null,
      "metadata": {
        "colab": {
          "base_uri": "https://localhost:8080/",
          "height": 271
        },
        "id": "ANGddVymGXw8",
        "outputId": "4d192426-2410-49f5-b02c-4c618f2ab120"
      },
      "outputs": [
        {
          "output_type": "display_data",
          "data": {
            "text/plain": [
              "Running query in 'sqlite:///sqlite_data/your_name.db?charset=utf8mb4'"
            ],
            "text/html": [
              "<span style=\"None\">Running query in &#x27;sqlite:///sqlite_data/your_name.db?charset=utf8mb4&#x27;</span>"
            ]
          },
          "metadata": {}
        },
        {
          "output_type": "execute_result",
          "data": {
            "text/plain": [
              "+---------------------+--------------+\n",
              "|       tweet_id      | n_duplicates |\n",
              "+---------------------+--------------+\n",
              "| 1258713300671647745 |      2       |\n",
              "| 1258728358613049346 |      2       |\n",
              "| 1258728373184008195 |      2       |\n",
              "| 1258728468495437824 |      2       |\n",
              "| 1258743455078989825 |      2       |\n",
              "| 1258743455976734720 |      2       |\n",
              "| 1258743695588892672 |      2       |\n",
              "| 1258743696117415937 |      2       |\n",
              "| 1258758558868365312 |      2       |\n",
              "| 1258758580087533569 |      2       |\n",
              "+---------------------+--------------+"
            ],
            "text/html": [
              "<table>\n",
              "    <thead>\n",
              "        <tr>\n",
              "            <th>tweet_id</th>\n",
              "            <th>n_duplicates</th>\n",
              "        </tr>\n",
              "    </thead>\n",
              "    <tbody>\n",
              "        <tr>\n",
              "            <td>1258713300671647745</td>\n",
              "            <td>2</td>\n",
              "        </tr>\n",
              "        <tr>\n",
              "            <td>1258728358613049346</td>\n",
              "            <td>2</td>\n",
              "        </tr>\n",
              "        <tr>\n",
              "            <td>1258728373184008195</td>\n",
              "            <td>2</td>\n",
              "        </tr>\n",
              "        <tr>\n",
              "            <td>1258728468495437824</td>\n",
              "            <td>2</td>\n",
              "        </tr>\n",
              "        <tr>\n",
              "            <td>1258743455078989825</td>\n",
              "            <td>2</td>\n",
              "        </tr>\n",
              "        <tr>\n",
              "            <td>1258743455976734720</td>\n",
              "            <td>2</td>\n",
              "        </tr>\n",
              "        <tr>\n",
              "            <td>1258743695588892672</td>\n",
              "            <td>2</td>\n",
              "        </tr>\n",
              "        <tr>\n",
              "            <td>1258743696117415937</td>\n",
              "            <td>2</td>\n",
              "        </tr>\n",
              "        <tr>\n",
              "            <td>1258758558868365312</td>\n",
              "            <td>2</td>\n",
              "        </tr>\n",
              "        <tr>\n",
              "            <td>1258758580087533569</td>\n",
              "            <td>2</td>\n",
              "        </tr>\n",
              "    </tbody>\n",
              "</table>"
            ]
          },
          "metadata": {},
          "execution_count": 17
        }
      ],
      "source": [
        "%%sql\n",
        "\n",
        "SELECT *\n",
        "FROM n_duplicates\n",
        "LIMIT 10\n",
        "OFFSET 100;"
      ]
    },
    {
      "cell_type": "markdown",
      "metadata": {
        "id": "yapU8pPdGXw8"
      },
      "source": [
        "There are indeed duplicate tweets in this data. Print the full tweets for some of these ids. Can you see why **ORDER BY** is needed here ?"
      ]
    },
    {
      "cell_type": "code",
      "execution_count": null,
      "metadata": {
        "colab": {
          "base_uri": "https://localhost:8080/",
          "height": 757
        },
        "id": "U7-n_krFGXw8",
        "outputId": "16faafa2-a8dd-47cf-e198-4a6183a78f39"
      },
      "outputs": [
        {
          "output_type": "display_data",
          "data": {
            "text/plain": [
              "Running query in 'sqlite:///sqlite_data/your_name.db?charset=utf8mb4'"
            ],
            "text/html": [
              "<span style=\"None\">Running query in &#x27;sqlite:///sqlite_data/your_name.db?charset=utf8mb4&#x27;</span>"
            ]
          },
          "metadata": {}
        },
        {
          "output_type": "execute_result",
          "data": {
            "text/plain": [
              "+---------------------+-------+---------------------+--------------------+-----------------+------------------------------------------------------------------------------------------------------------------------------------------------------------------------------------------------------------------------------------------------------------------------------------------------------------+--------------------------------+---------------------+---------------------+\n",
              "|      created_at     |  fips |       tweet_id      | place_country_code | place_full_name |                                                                                                                                                    text                                                                                                                                                    |        user_created_at         |       user_id       | user_statuses_count |\n",
              "+---------------------+-------+---------------------+--------------------+-----------------+------------------------------------------------------------------------------------------------------------------------------------------------------------------------------------------------------------------------------------------------------------------------------------------------------------+--------------------------------+---------------------+---------------------+\n",
              "| 2020-05-07 18:00:00 | 37195 | 1258456564547158020 |                    |                 |                                                                                                                          Lessons from the Pandemic Police https://t.co/BCOzuBkTtS                                                                                                                          | Wed Jul 11 19:55:27 +0000 2012 |      633251100      |        5593.0       |\n",
              "| 2020-05-07 18:00:00 | 37195 | 1258456564547158020 |                    |                 |                                                                                                                          Lessons from the Pandemic Police https://t.co/BCOzuBkTtS                                                                                                                          | Wed Jul 11 19:55:27 +0000 2012 |      633251100      |        5593.0       |\n",
              "| 2020-05-07 18:00:38 | 36027 | 1258456722097811457 |                    |                 | The Northeast Face Shield Project is a collection of volunteers who 3D print #faceshield parts and distribute completed face shields to healthcare facilities in the Northeast. Thank you for donating 1,200 face shields to @NuvanceHealth locations, including @Vassar_Brothers. https://t.co/vMOdBnLzE9 | Tue Nov 12 20:40:55 +0000 2019 | 1194354342712750080 |        171.0        |\n",
              "| 2020-05-07 18:00:38 | 36027 | 1258456722097811457 |                    |                 | The Northeast Face Shield Project is a collection of volunteers who 3D print #faceshield parts and distribute completed face shields to healthcare facilities in the Northeast. Thank you for donating 1,200 face shields to @NuvanceHealth locations, including @Vassar_Brothers. https://t.co/vMOdBnLzE9 | Tue Nov 12 20:40:55 +0000 2019 | 1194354342712750080 |        171.0        |\n",
              "| 2020-05-07 18:00:52 | 48479 | 1258456782508298240 |                    |                 |                                                                                                         City of Laredo confirms four added cases of coronavirus, 414 total https://t.co/8J1Uf7TFTY                                                                                                         | Thu Jun 12 18:09:14 +0000 2008 |       15099229      |       70768.0       |\n",
              "| 2020-05-07 18:00:52 | 48479 | 1258456782508298240 |                    |                 |                                                                                                         City of Laredo confirms four added cases of coronavirus, 414 total https://t.co/8J1Uf7TFTY                                                                                                         | Thu Jun 12 18:09:14 +0000 2008 |       15099229      |       70768.0       |\n",
              "| 2020-05-07 18:00:57 | 36027 | 1258456802540339203 |                    |                 |                                                                                   Do you know which #HudsonValley parks and trails are closed to prevent the spread of #COVID19?  https://t.co/AZPYtraJ7n @scenichudson                                                                                    | Thu May 21 16:26:54 +0000 2009 |       41619175      |       16722.0       |\n",
              "| 2020-05-07 18:00:57 | 36027 | 1258456802540339203 |                    |                 |                                                                                   Do you know which #HudsonValley parks and trails are closed to prevent the spread of #COVID19?  https://t.co/AZPYtraJ7n @scenichudson                                                                                    | Thu May 21 16:26:54 +0000 2009 |       41619175      |       16722.0       |\n",
              "| 2020-05-07 18:00:57 | 33001 | 1258456802833895425 |                    |                 |                                                                                                                   Statewide coverage of COVID-19 topics and more https://t.co/qLmRpvNxWq                                                                                                                   | Thu Dec 31 12:54:53 +0000 2009 |      100761151      |        3099.0       |\n",
              "| 2020-05-07 18:00:57 | 33001 | 1258456802833895425 |                    |                 |                                                                                                                   Statewide coverage of COVID-19 topics and more https://t.co/qLmRpvNxWq                                                                                                                   | Thu Dec 31 12:54:53 +0000 2009 |      100761151      |        3099.0       |\n",
              "+---------------------+-------+---------------------+--------------------+-----------------+------------------------------------------------------------------------------------------------------------------------------------------------------------------------------------------------------------------------------------------------------------------------------------------------------------+--------------------------------+---------------------+---------------------+"
            ],
            "text/html": [
              "<table>\n",
              "    <thead>\n",
              "        <tr>\n",
              "            <th>created_at</th>\n",
              "            <th>fips</th>\n",
              "            <th>tweet_id</th>\n",
              "            <th>place_country_code</th>\n",
              "            <th>place_full_name</th>\n",
              "            <th>text</th>\n",
              "            <th>user_created_at</th>\n",
              "            <th>user_id</th>\n",
              "            <th>user_statuses_count</th>\n",
              "        </tr>\n",
              "    </thead>\n",
              "    <tbody>\n",
              "        <tr>\n",
              "            <td>2020-05-07 18:00:00</td>\n",
              "            <td>37195</td>\n",
              "            <td>1258456564547158020</td>\n",
              "            <td></td>\n",
              "            <td></td>\n",
              "            <td>Lessons from the Pandemic Police https://t.co/BCOzuBkTtS</td>\n",
              "            <td>Wed Jul 11 19:55:27 +0000 2012</td>\n",
              "            <td>633251100</td>\n",
              "            <td>5593.0</td>\n",
              "        </tr>\n",
              "        <tr>\n",
              "            <td>2020-05-07 18:00:00</td>\n",
              "            <td>37195</td>\n",
              "            <td>1258456564547158020</td>\n",
              "            <td></td>\n",
              "            <td></td>\n",
              "            <td>Lessons from the Pandemic Police https://t.co/BCOzuBkTtS</td>\n",
              "            <td>Wed Jul 11 19:55:27 +0000 2012</td>\n",
              "            <td>633251100</td>\n",
              "            <td>5593.0</td>\n",
              "        </tr>\n",
              "        <tr>\n",
              "            <td>2020-05-07 18:00:38</td>\n",
              "            <td>36027</td>\n",
              "            <td>1258456722097811457</td>\n",
              "            <td></td>\n",
              "            <td></td>\n",
              "            <td>The Northeast Face Shield Project is a collection of volunteers who 3D print #faceshield parts and distribute completed face shields to healthcare facilities in the Northeast. Thank you for donating 1,200 face shields to @NuvanceHealth locations, including @Vassar_Brothers. https://t.co/vMOdBnLzE9</td>\n",
              "            <td>Tue Nov 12 20:40:55 +0000 2019</td>\n",
              "            <td>1194354342712750080</td>\n",
              "            <td>171.0</td>\n",
              "        </tr>\n",
              "        <tr>\n",
              "            <td>2020-05-07 18:00:38</td>\n",
              "            <td>36027</td>\n",
              "            <td>1258456722097811457</td>\n",
              "            <td></td>\n",
              "            <td></td>\n",
              "            <td>The Northeast Face Shield Project is a collection of volunteers who 3D print #faceshield parts and distribute completed face shields to healthcare facilities in the Northeast. Thank you for donating 1,200 face shields to @NuvanceHealth locations, including @Vassar_Brothers. https://t.co/vMOdBnLzE9</td>\n",
              "            <td>Tue Nov 12 20:40:55 +0000 2019</td>\n",
              "            <td>1194354342712750080</td>\n",
              "            <td>171.0</td>\n",
              "        </tr>\n",
              "        <tr>\n",
              "            <td>2020-05-07 18:00:52</td>\n",
              "            <td>48479</td>\n",
              "            <td>1258456782508298240</td>\n",
              "            <td></td>\n",
              "            <td></td>\n",
              "            <td>City of Laredo confirms four added cases of coronavirus, 414 total https://t.co/8J1Uf7TFTY</td>\n",
              "            <td>Thu Jun 12 18:09:14 +0000 2008</td>\n",
              "            <td>15099229</td>\n",
              "            <td>70768.0</td>\n",
              "        </tr>\n",
              "        <tr>\n",
              "            <td>2020-05-07 18:00:52</td>\n",
              "            <td>48479</td>\n",
              "            <td>1258456782508298240</td>\n",
              "            <td></td>\n",
              "            <td></td>\n",
              "            <td>City of Laredo confirms four added cases of coronavirus, 414 total https://t.co/8J1Uf7TFTY</td>\n",
              "            <td>Thu Jun 12 18:09:14 +0000 2008</td>\n",
              "            <td>15099229</td>\n",
              "            <td>70768.0</td>\n",
              "        </tr>\n",
              "        <tr>\n",
              "            <td>2020-05-07 18:00:57</td>\n",
              "            <td>36027</td>\n",
              "            <td>1258456802540339203</td>\n",
              "            <td></td>\n",
              "            <td></td>\n",
              "            <td>Do you know which #HudsonValley parks and trails are closed to prevent the spread of #COVID19?  https://t.co/AZPYtraJ7n @scenichudson</td>\n",
              "            <td>Thu May 21 16:26:54 +0000 2009</td>\n",
              "            <td>41619175</td>\n",
              "            <td>16722.0</td>\n",
              "        </tr>\n",
              "        <tr>\n",
              "            <td>2020-05-07 18:00:57</td>\n",
              "            <td>36027</td>\n",
              "            <td>1258456802540339203</td>\n",
              "            <td></td>\n",
              "            <td></td>\n",
              "            <td>Do you know which #HudsonValley parks and trails are closed to prevent the spread of #COVID19?  https://t.co/AZPYtraJ7n @scenichudson</td>\n",
              "            <td>Thu May 21 16:26:54 +0000 2009</td>\n",
              "            <td>41619175</td>\n",
              "            <td>16722.0</td>\n",
              "        </tr>\n",
              "        <tr>\n",
              "            <td>2020-05-07 18:00:57</td>\n",
              "            <td>33001</td>\n",
              "            <td>1258456802833895425</td>\n",
              "            <td></td>\n",
              "            <td></td>\n",
              "            <td>Statewide coverage of COVID-19 topics and more https://t.co/qLmRpvNxWq</td>\n",
              "            <td>Thu Dec 31 12:54:53 +0000 2009</td>\n",
              "            <td>100761151</td>\n",
              "            <td>3099.0</td>\n",
              "        </tr>\n",
              "        <tr>\n",
              "            <td>2020-05-07 18:00:57</td>\n",
              "            <td>33001</td>\n",
              "            <td>1258456802833895425</td>\n",
              "            <td></td>\n",
              "            <td></td>\n",
              "            <td>Statewide coverage of COVID-19 topics and more https://t.co/qLmRpvNxWq</td>\n",
              "            <td>Thu Dec 31 12:54:53 +0000 2009</td>\n",
              "            <td>100761151</td>\n",
              "            <td>3099.0</td>\n",
              "        </tr>\n",
              "    </tbody>\n",
              "</table>"
            ]
          },
          "metadata": {},
          "execution_count": 18
        }
      ],
      "source": [
        "%%sql\n",
        "\n",
        "SELECT *\n",
        "FROM tweets\n",
        "WHERE tweet_id IN (SELECT tweet_id FROM n_duplicates)\n",
        "ORDER BY tweet_id\n",
        "LIMIT 10\n",
        "OFFSET 150;"
      ]
    },
    {
      "cell_type": "markdown",
      "metadata": {
        "id": "HLSL5utvGXw9"
      },
      "source": [
        "Since the `tweets` table need not have the duplicate tweets one after the other, **ORDER BY** in fact helps group the duplicate together."
      ]
    },
    {
      "cell_type": "markdown",
      "metadata": {
        "id": "Bq7fmNaaGXw9"
      },
      "source": [
        "We need to remove these duplicates!!\n",
        "\n",
        "To remove the duplicates, we first create a new table with all the unique rows from `tweets`. The command below selects all (`*`) `DISTINCT` rows and stores them in a new table called `unique_tweets`"
      ]
    },
    {
      "cell_type": "code",
      "source": [
        "%%sql\n",
        "\n",
        "CREATE TABLE unique_tweets AS\n",
        "SELECT DISTINCT *\n",
        "FROM tweets;"
      ],
      "metadata": {
        "colab": {
          "base_uri": "https://localhost:8080/",
          "height": 34
        },
        "id": "otQAVIOK1wmV",
        "outputId": "324745e1-a364-4115-820b-9c2f7d82ecb8"
      },
      "execution_count": null,
      "outputs": [
        {
          "output_type": "display_data",
          "data": {
            "text/plain": [
              "Running query in 'sqlite:///sqlite_data/your_name.db?charset=utf8mb4'"
            ],
            "text/html": [
              "<span style=\"None\">Running query in &#x27;sqlite:///sqlite_data/your_name.db?charset=utf8mb4&#x27;</span>"
            ]
          },
          "metadata": {}
        },
        {
          "output_type": "execute_result",
          "data": {
            "text/plain": [
              "++\n",
              "||\n",
              "++\n",
              "++"
            ],
            "text/html": [
              "<table>\n",
              "    <thead>\n",
              "        <tr>\n",
              "        </tr>\n",
              "    </thead>\n",
              "    <tbody>\n",
              "    </tbody>\n",
              "</table>"
            ]
          },
          "metadata": {},
          "execution_count": 19
        }
      ]
    },
    {
      "cell_type": "markdown",
      "metadata": {
        "id": "NHI7gJi-GXxF"
      },
      "source": [
        "Let us double-check if duplicates are gone."
      ]
    },
    {
      "cell_type": "code",
      "execution_count": null,
      "metadata": {
        "colab": {
          "base_uri": "https://localhost:8080/",
          "height": 79
        },
        "id": "tTPHpg_cGXxF",
        "outputId": "032a71a6-3322-44b4-a389-19a3793795be"
      },
      "outputs": [
        {
          "output_type": "display_data",
          "data": {
            "text/plain": [
              "Running query in 'sqlite:///sqlite_data/your_name.db?charset=utf8mb4'"
            ],
            "text/html": [
              "<span style=\"None\">Running query in &#x27;sqlite:///sqlite_data/your_name.db?charset=utf8mb4&#x27;</span>"
            ]
          },
          "metadata": {}
        },
        {
          "output_type": "execute_result",
          "data": {
            "text/plain": [
              "+----------+-------+\n",
              "| n_tweets | total |\n",
              "+----------+-------+\n",
              "|  12145   | 12145 |\n",
              "+----------+-------+"
            ],
            "text/html": [
              "<table>\n",
              "    <thead>\n",
              "        <tr>\n",
              "            <th>n_tweets</th>\n",
              "            <th>total</th>\n",
              "        </tr>\n",
              "    </thead>\n",
              "    <tbody>\n",
              "        <tr>\n",
              "            <td>12145</td>\n",
              "            <td>12145</td>\n",
              "        </tr>\n",
              "    </tbody>\n",
              "</table>"
            ]
          },
          "metadata": {},
          "execution_count": 20
        }
      ],
      "source": [
        "%%sql\n",
        "\n",
        "SELECT COUNT(DISTINCT(tweet_id)) AS n_tweets, COUNT(*) AS total\n",
        "FROM unique_tweets;"
      ]
    },
    {
      "cell_type": "markdown",
      "source": [
        "And the total number of tweets."
      ],
      "metadata": {
        "id": "cR7D7PHEExC4"
      }
    },
    {
      "cell_type": "code",
      "source": [
        "%%sql\n",
        "\n",
        "SELECT COUNT(*)\n",
        "FROM unique_tweets;"
      ],
      "metadata": {
        "colab": {
          "base_uri": "https://localhost:8080/",
          "height": 79
        },
        "id": "luVIfsD9EwFt",
        "outputId": "26c47c9f-f423-490f-e5d9-0f5735b3be2e"
      },
      "execution_count": null,
      "outputs": [
        {
          "output_type": "display_data",
          "data": {
            "text/plain": [
              "Running query in 'sqlite:///sqlite_data/your_name.db?charset=utf8mb4'"
            ],
            "text/html": [
              "<span style=\"None\">Running query in &#x27;sqlite:///sqlite_data/your_name.db?charset=utf8mb4&#x27;</span>"
            ]
          },
          "metadata": {}
        },
        {
          "output_type": "execute_result",
          "data": {
            "text/plain": [
              "+----------+\n",
              "| COUNT(*) |\n",
              "+----------+\n",
              "|  12145   |\n",
              "+----------+"
            ],
            "text/html": [
              "<table>\n",
              "    <thead>\n",
              "        <tr>\n",
              "            <th>COUNT(*)</th>\n",
              "        </tr>\n",
              "    </thead>\n",
              "    <tbody>\n",
              "        <tr>\n",
              "            <td>12145</td>\n",
              "        </tr>\n",
              "    </tbody>\n",
              "</table>"
            ]
          },
          "metadata": {},
          "execution_count": 21
        }
      ]
    },
    {
      "cell_type": "markdown",
      "metadata": {
        "id": "DbZ3PLo1GXxF"
      },
      "source": [
        "We can drop the previous `tweets` table which contains duplicates."
      ]
    },
    {
      "cell_type": "code",
      "execution_count": null,
      "metadata": {
        "colab": {
          "base_uri": "https://localhost:8080/",
          "height": 34
        },
        "id": "1yMUUvZzGXxF",
        "outputId": "2d1c0311-7b49-4c97-df2e-f7419c36dabc"
      },
      "outputs": [
        {
          "output_type": "display_data",
          "data": {
            "text/plain": [
              "Running query in 'sqlite:///sqlite_data/your_name.db?charset=utf8mb4'"
            ],
            "text/html": [
              "<span style=\"None\">Running query in &#x27;sqlite:///sqlite_data/your_name.db?charset=utf8mb4&#x27;</span>"
            ]
          },
          "metadata": {}
        },
        {
          "output_type": "execute_result",
          "data": {
            "text/plain": [
              "++\n",
              "||\n",
              "++\n",
              "++"
            ],
            "text/html": [
              "<table>\n",
              "    <thead>\n",
              "        <tr>\n",
              "        </tr>\n",
              "    </thead>\n",
              "    <tbody>\n",
              "    </tbody>\n",
              "</table>"
            ]
          },
          "metadata": {},
          "execution_count": 22
        }
      ],
      "source": [
        "%%sql\n",
        "\n",
        "DROP TABLE tweets;"
      ]
    },
    {
      "cell_type": "markdown",
      "metadata": {
        "id": "VGNwS1EqGXxF"
      },
      "source": [
        "Rename the table `unique_tweets` to `tweets` now that duplicates are removed."
      ]
    },
    {
      "cell_type": "code",
      "execution_count": null,
      "metadata": {
        "colab": {
          "base_uri": "https://localhost:8080/",
          "height": 34
        },
        "id": "O2KYFrarGXxF",
        "outputId": "fc01cfe7-549a-450e-bd28-30607a2849af"
      },
      "outputs": [
        {
          "output_type": "display_data",
          "data": {
            "text/plain": [
              "Running query in 'sqlite:///sqlite_data/your_name.db?charset=utf8mb4'"
            ],
            "text/html": [
              "<span style=\"None\">Running query in &#x27;sqlite:///sqlite_data/your_name.db?charset=utf8mb4&#x27;</span>"
            ]
          },
          "metadata": {}
        },
        {
          "output_type": "execute_result",
          "data": {
            "text/plain": [
              "++\n",
              "||\n",
              "++\n",
              "++"
            ],
            "text/html": [
              "<table>\n",
              "    <thead>\n",
              "        <tr>\n",
              "        </tr>\n",
              "    </thead>\n",
              "    <tbody>\n",
              "    </tbody>\n",
              "</table>"
            ]
          },
          "metadata": {},
          "execution_count": 23
        }
      ],
      "source": [
        "%%sql\n",
        "\n",
        "ALTER TABLE unique_tweets RENAME TO tweets;"
      ]
    },
    {
      "cell_type": "markdown",
      "metadata": {
        "id": "sQ0ppg_6GXxF"
      },
      "source": [
        "Print the schema of our table `tweets`."
      ]
    },
    {
      "cell_type": "code",
      "execution_count": null,
      "metadata": {
        "colab": {
          "base_uri": "https://localhost:8080/",
          "height": 250
        },
        "id": "xAAvWb5CGXxF",
        "outputId": "f3e1c209-197c-4339-b1ca-c8f01233a877"
      },
      "outputs": [
        {
          "output_type": "display_data",
          "data": {
            "text/plain": [
              "Running query in 'sqlite:///sqlite_data/your_name.db?charset=utf8mb4'"
            ],
            "text/html": [
              "<span style=\"None\">Running query in &#x27;sqlite:///sqlite_data/your_name.db?charset=utf8mb4&#x27;</span>"
            ]
          },
          "metadata": {}
        },
        {
          "output_type": "execute_result",
          "data": {
            "text/plain": [
              "+-----+---------------------+------+---------+------------+----+\n",
              "| cid |         name        | type | notnull | dflt_value | pk |\n",
              "+-----+---------------------+------+---------+------------+----+\n",
              "|  0  |      created_at     | TEXT |    0    |    None    | 0  |\n",
              "|  1  |         fips        | INT  |    0    |    None    | 0  |\n",
              "|  2  |       tweet_id      | INT  |    0    |    None    | 0  |\n",
              "|  3  |  place_country_code | TEXT |    0    |    None    | 0  |\n",
              "|  4  |   place_full_name   | TEXT |    0    |    None    | 0  |\n",
              "|  5  |         text        | TEXT |    0    |    None    | 0  |\n",
              "|  6  |   user_created_at   | TEXT |    0    |    None    | 0  |\n",
              "|  7  |       user_id       | INT  |    0    |    None    | 0  |\n",
              "|  8  | user_statuses_count | REAL |    0    |    None    | 0  |\n",
              "+-----+---------------------+------+---------+------------+----+"
            ],
            "text/html": [
              "<table>\n",
              "    <thead>\n",
              "        <tr>\n",
              "            <th>cid</th>\n",
              "            <th>name</th>\n",
              "            <th>type</th>\n",
              "            <th>notnull</th>\n",
              "            <th>dflt_value</th>\n",
              "            <th>pk</th>\n",
              "        </tr>\n",
              "    </thead>\n",
              "    <tbody>\n",
              "        <tr>\n",
              "            <td>0</td>\n",
              "            <td>created_at</td>\n",
              "            <td>TEXT</td>\n",
              "            <td>0</td>\n",
              "            <td>None</td>\n",
              "            <td>0</td>\n",
              "        </tr>\n",
              "        <tr>\n",
              "            <td>1</td>\n",
              "            <td>fips</td>\n",
              "            <td>INT</td>\n",
              "            <td>0</td>\n",
              "            <td>None</td>\n",
              "            <td>0</td>\n",
              "        </tr>\n",
              "        <tr>\n",
              "            <td>2</td>\n",
              "            <td>tweet_id</td>\n",
              "            <td>INT</td>\n",
              "            <td>0</td>\n",
              "            <td>None</td>\n",
              "            <td>0</td>\n",
              "        </tr>\n",
              "        <tr>\n",
              "            <td>3</td>\n",
              "            <td>place_country_code</td>\n",
              "            <td>TEXT</td>\n",
              "            <td>0</td>\n",
              "            <td>None</td>\n",
              "            <td>0</td>\n",
              "        </tr>\n",
              "        <tr>\n",
              "            <td>4</td>\n",
              "            <td>place_full_name</td>\n",
              "            <td>TEXT</td>\n",
              "            <td>0</td>\n",
              "            <td>None</td>\n",
              "            <td>0</td>\n",
              "        </tr>\n",
              "        <tr>\n",
              "            <td>5</td>\n",
              "            <td>text</td>\n",
              "            <td>TEXT</td>\n",
              "            <td>0</td>\n",
              "            <td>None</td>\n",
              "            <td>0</td>\n",
              "        </tr>\n",
              "        <tr>\n",
              "            <td>6</td>\n",
              "            <td>user_created_at</td>\n",
              "            <td>TEXT</td>\n",
              "            <td>0</td>\n",
              "            <td>None</td>\n",
              "            <td>0</td>\n",
              "        </tr>\n",
              "        <tr>\n",
              "            <td>7</td>\n",
              "            <td>user_id</td>\n",
              "            <td>INT</td>\n",
              "            <td>0</td>\n",
              "            <td>None</td>\n",
              "            <td>0</td>\n",
              "        </tr>\n",
              "        <tr>\n",
              "            <td>8</td>\n",
              "            <td>user_statuses_count</td>\n",
              "            <td>REAL</td>\n",
              "            <td>0</td>\n",
              "            <td>None</td>\n",
              "            <td>0</td>\n",
              "        </tr>\n",
              "    </tbody>\n",
              "</table>"
            ]
          },
          "metadata": {},
          "execution_count": 24
        }
      ],
      "source": [
        "%%sql\n",
        "\n",
        "PRAGMA table_info(tweets);"
      ]
    },
    {
      "cell_type": "markdown",
      "metadata": {
        "id": "vE22Gr3TGXxG"
      },
      "source": [
        "#### 👩‍🔬💻 Exercise\n",
        "\n",
        "Now that we have cleaned the table, can you get the relative number of tweets of all the counties?"
      ]
    },
    {
      "cell_type": "code",
      "execution_count": null,
      "metadata": {
        "colab": {
          "base_uri": "https://localhost:8080/",
          "height": 1000
        },
        "id": "IymhMn5wGXxG",
        "outputId": "a85fa43c-c350-4afc-f9b0-ce812bc38a92"
      },
      "outputs": [
        {
          "output_type": "display_data",
          "data": {
            "text/plain": [
              "Running query in 'sqlite:///sqlite_data/your_name.db?charset=utf8mb4'"
            ],
            "text/html": [
              "<span style=\"None\">Running query in &#x27;sqlite:///sqlite_data/your_name.db?charset=utf8mb4&#x27;</span>"
            ]
          },
          "metadata": {}
        },
        {
          "output_type": "execute_result",
          "data": {
            "text/plain": [
              "+-------+------------+\n",
              "|  fips | num_tweets |\n",
              "+-------+------------+\n",
              "|  1013 |     20     |\n",
              "|  1017 |     17     |\n",
              "|  1059 |     16     |\n",
              "|  1119 |     6      |\n",
              "|  5007 |    895     |\n",
              "|  6043 |     41     |\n",
              "|  8015 |     70     |\n",
              "|  8037 |    189     |\n",
              "| 10003 |    2594    |\n",
              "| 12027 |     4      |\n",
              "| 12055 |    182     |\n",
              "| 13189 |     7      |\n",
              "| 13211 |     58     |\n",
              "| 13213 |     15     |\n",
              "| 13315 |     3      |\n",
              "| 16069 |     37     |\n",
              "| 17013 |     1      |\n",
              "| 17067 |     10     |\n",
              "| 17195 |    258     |\n",
              "| 18021 |     28     |\n",
              "| 18085 |     99     |\n",
              "| 18165 |     6      |\n",
              "| 18181 |    242     |\n",
              "| 19015 |     68     |\n",
              "| 19023 |     7      |\n",
              "| 19033 |    253     |\n",
              "| 19089 |     17     |\n",
              "| 19165 |     38     |\n",
              "| 20053 |     2      |\n",
              "| 20161 |    448     |\n",
              "| 20189 |     5      |\n",
              "| 21031 |     9      |\n",
              "| 21033 |     10     |\n",
              "| 21071 |    102     |\n",
              "| 21129 |     2      |\n",
              "| 21221 |     81     |\n",
              "| 22067 |     6      |\n",
              "| 26037 |     80     |\n",
              "| 26053 |     10     |\n",
              "| 26091 |    133     |\n",
              "| 26129 |     7      |\n",
              "| 27079 |     80     |\n",
              "| 28079 |     8      |\n",
              "| 28131 |     6      |\n",
              "| 29039 |     1      |\n",
              "| 29175 |     28     |\n",
              "| 29187 |    227     |\n",
              "| 29209 |     18     |\n",
              "| 30011 |     1      |\n",
              "| 30055 |     1      |\n",
              "+-------+------------+\n",
              "Truncated to displaylimit of 50."
            ],
            "text/html": [
              "<table>\n",
              "    <thead>\n",
              "        <tr>\n",
              "            <th>fips</th>\n",
              "            <th>num_tweets</th>\n",
              "        </tr>\n",
              "    </thead>\n",
              "    <tbody>\n",
              "        <tr>\n",
              "            <td>1013</td>\n",
              "            <td>20</td>\n",
              "        </tr>\n",
              "        <tr>\n",
              "            <td>1017</td>\n",
              "            <td>17</td>\n",
              "        </tr>\n",
              "        <tr>\n",
              "            <td>1059</td>\n",
              "            <td>16</td>\n",
              "        </tr>\n",
              "        <tr>\n",
              "            <td>1119</td>\n",
              "            <td>6</td>\n",
              "        </tr>\n",
              "        <tr>\n",
              "            <td>5007</td>\n",
              "            <td>895</td>\n",
              "        </tr>\n",
              "        <tr>\n",
              "            <td>6043</td>\n",
              "            <td>41</td>\n",
              "        </tr>\n",
              "        <tr>\n",
              "            <td>8015</td>\n",
              "            <td>70</td>\n",
              "        </tr>\n",
              "        <tr>\n",
              "            <td>8037</td>\n",
              "            <td>189</td>\n",
              "        </tr>\n",
              "        <tr>\n",
              "            <td>10003</td>\n",
              "            <td>2594</td>\n",
              "        </tr>\n",
              "        <tr>\n",
              "            <td>12027</td>\n",
              "            <td>4</td>\n",
              "        </tr>\n",
              "        <tr>\n",
              "            <td>12055</td>\n",
              "            <td>182</td>\n",
              "        </tr>\n",
              "        <tr>\n",
              "            <td>13189</td>\n",
              "            <td>7</td>\n",
              "        </tr>\n",
              "        <tr>\n",
              "            <td>13211</td>\n",
              "            <td>58</td>\n",
              "        </tr>\n",
              "        <tr>\n",
              "            <td>13213</td>\n",
              "            <td>15</td>\n",
              "        </tr>\n",
              "        <tr>\n",
              "            <td>13315</td>\n",
              "            <td>3</td>\n",
              "        </tr>\n",
              "        <tr>\n",
              "            <td>16069</td>\n",
              "            <td>37</td>\n",
              "        </tr>\n",
              "        <tr>\n",
              "            <td>17013</td>\n",
              "            <td>1</td>\n",
              "        </tr>\n",
              "        <tr>\n",
              "            <td>17067</td>\n",
              "            <td>10</td>\n",
              "        </tr>\n",
              "        <tr>\n",
              "            <td>17195</td>\n",
              "            <td>258</td>\n",
              "        </tr>\n",
              "        <tr>\n",
              "            <td>18021</td>\n",
              "            <td>28</td>\n",
              "        </tr>\n",
              "        <tr>\n",
              "            <td>18085</td>\n",
              "            <td>99</td>\n",
              "        </tr>\n",
              "        <tr>\n",
              "            <td>18165</td>\n",
              "            <td>6</td>\n",
              "        </tr>\n",
              "        <tr>\n",
              "            <td>18181</td>\n",
              "            <td>242</td>\n",
              "        </tr>\n",
              "        <tr>\n",
              "            <td>19015</td>\n",
              "            <td>68</td>\n",
              "        </tr>\n",
              "        <tr>\n",
              "            <td>19023</td>\n",
              "            <td>7</td>\n",
              "        </tr>\n",
              "        <tr>\n",
              "            <td>19033</td>\n",
              "            <td>253</td>\n",
              "        </tr>\n",
              "        <tr>\n",
              "            <td>19089</td>\n",
              "            <td>17</td>\n",
              "        </tr>\n",
              "        <tr>\n",
              "            <td>19165</td>\n",
              "            <td>38</td>\n",
              "        </tr>\n",
              "        <tr>\n",
              "            <td>20053</td>\n",
              "            <td>2</td>\n",
              "        </tr>\n",
              "        <tr>\n",
              "            <td>20161</td>\n",
              "            <td>448</td>\n",
              "        </tr>\n",
              "        <tr>\n",
              "            <td>20189</td>\n",
              "            <td>5</td>\n",
              "        </tr>\n",
              "        <tr>\n",
              "            <td>21031</td>\n",
              "            <td>9</td>\n",
              "        </tr>\n",
              "        <tr>\n",
              "            <td>21033</td>\n",
              "            <td>10</td>\n",
              "        </tr>\n",
              "        <tr>\n",
              "            <td>21071</td>\n",
              "            <td>102</td>\n",
              "        </tr>\n",
              "        <tr>\n",
              "            <td>21129</td>\n",
              "            <td>2</td>\n",
              "        </tr>\n",
              "        <tr>\n",
              "            <td>21221</td>\n",
              "            <td>81</td>\n",
              "        </tr>\n",
              "        <tr>\n",
              "            <td>22067</td>\n",
              "            <td>6</td>\n",
              "        </tr>\n",
              "        <tr>\n",
              "            <td>26037</td>\n",
              "            <td>80</td>\n",
              "        </tr>\n",
              "        <tr>\n",
              "            <td>26053</td>\n",
              "            <td>10</td>\n",
              "        </tr>\n",
              "        <tr>\n",
              "            <td>26091</td>\n",
              "            <td>133</td>\n",
              "        </tr>\n",
              "        <tr>\n",
              "            <td>26129</td>\n",
              "            <td>7</td>\n",
              "        </tr>\n",
              "        <tr>\n",
              "            <td>27079</td>\n",
              "            <td>80</td>\n",
              "        </tr>\n",
              "        <tr>\n",
              "            <td>28079</td>\n",
              "            <td>8</td>\n",
              "        </tr>\n",
              "        <tr>\n",
              "            <td>28131</td>\n",
              "            <td>6</td>\n",
              "        </tr>\n",
              "        <tr>\n",
              "            <td>29039</td>\n",
              "            <td>1</td>\n",
              "        </tr>\n",
              "        <tr>\n",
              "            <td>29175</td>\n",
              "            <td>28</td>\n",
              "        </tr>\n",
              "        <tr>\n",
              "            <td>29187</td>\n",
              "            <td>227</td>\n",
              "        </tr>\n",
              "        <tr>\n",
              "            <td>29209</td>\n",
              "            <td>18</td>\n",
              "        </tr>\n",
              "        <tr>\n",
              "            <td>30011</td>\n",
              "            <td>1</td>\n",
              "        </tr>\n",
              "        <tr>\n",
              "            <td>30055</td>\n",
              "            <td>1</td>\n",
              "        </tr>\n",
              "    </tbody>\n",
              "</table>\n",
              "<span style=\"font-style:italic;text-align:center;\">Truncated to <a href=\"https://jupysql.ploomber.io/en/latest/api/configuration.html#displaylimit\">displaylimit</a> of 50.</span>"
            ]
          },
          "metadata": {},
          "execution_count": 25
        }
      ],
      "source": [
        "%%sql\n",
        "\n",
        "SELECT fips, COUNT(*) AS num_tweets\n",
        "FROM tweets\n",
        "GROUP BY fips;"
      ]
    },
    {
      "cell_type": "markdown",
      "metadata": {
        "id": "E773MdsBGXxG"
      },
      "source": [
        "#### 👩‍🔬💻 Exercise\n",
        "\n",
        "Also, which county tweeted the most? Can you get the name of the county?"
      ]
    },
    {
      "cell_type": "code",
      "execution_count": null,
      "metadata": {
        "colab": {
          "base_uri": "https://localhost:8080/",
          "height": 1000
        },
        "id": "HPhye4ryGXxG",
        "outputId": "43f825b3-c50c-40af-ffc6-3198606d1841"
      },
      "outputs": [
        {
          "output_type": "display_data",
          "data": {
            "text/plain": [
              "Running query in 'sqlite:///sqlite_data/your_name.db?charset=utf8mb4'"
            ],
            "text/html": [
              "<span style=\"None\">Running query in &#x27;sqlite:///sqlite_data/your_name.db?charset=utf8mb4&#x27;</span>"
            ]
          },
          "metadata": {}
        },
        {
          "output_type": "execute_result",
          "data": {
            "text/plain": [
              "+-------+------------+\n",
              "|  fips | num_tweets |\n",
              "+-------+------------+\n",
              "| 10003 |    2594    |\n",
              "| 36027 |    1281    |\n",
              "|  5007 |    895     |\n",
              "| 48479 |    847     |\n",
              "| 20161 |    448     |\n",
              "| 33005 |    444     |\n",
              "| 37035 |    408     |\n",
              "| 54033 |    381     |\n",
              "| 42019 |    356     |\n",
              "| 35043 |    344     |\n",
              "| 17195 |    258     |\n",
              "| 19033 |    253     |\n",
              "| 18181 |    242     |\n",
              "| 29187 |    227     |\n",
              "| 41071 |    191     |\n",
              "|  8037 |    189     |\n",
              "| 47011 |    185     |\n",
              "| 12055 |    182     |\n",
              "| 37195 |    178     |\n",
              "| 40101 |    149     |\n",
              "| 26091 |    133     |\n",
              "| 33001 |    111     |\n",
              "| 21071 |    102     |\n",
              "| 18085 |     99     |\n",
              "| 39077 |     98     |\n",
              "| 21221 |     81     |\n",
              "| 27079 |     80     |\n",
              "| 26037 |     80     |\n",
              "| 35015 |     73     |\n",
              "| 48409 |     71     |\n",
              "|  8015 |     70     |\n",
              "| 19015 |     68     |\n",
              "| 47003 |     65     |\n",
              "| 38105 |     61     |\n",
              "| 13211 |     58     |\n",
              "| 42061 |     52     |\n",
              "| 48053 |     49     |\n",
              "| 47145 |     48     |\n",
              "| 39001 |     46     |\n",
              "| 48293 |     44     |\n",
              "|  6043 |     41     |\n",
              "| 19165 |     38     |\n",
              "| 16069 |     37     |\n",
              "| 39037 |     29     |\n",
              "| 29175 |     28     |\n",
              "| 18021 |     28     |\n",
              "| 40049 |     25     |\n",
              "| 48031 |     20     |\n",
              "|  1013 |     20     |\n",
              "| 48455 |     19     |\n",
              "+-------+------------+\n",
              "Truncated to displaylimit of 50."
            ],
            "text/html": [
              "<table>\n",
              "    <thead>\n",
              "        <tr>\n",
              "            <th>fips</th>\n",
              "            <th>num_tweets</th>\n",
              "        </tr>\n",
              "    </thead>\n",
              "    <tbody>\n",
              "        <tr>\n",
              "            <td>10003</td>\n",
              "            <td>2594</td>\n",
              "        </tr>\n",
              "        <tr>\n",
              "            <td>36027</td>\n",
              "            <td>1281</td>\n",
              "        </tr>\n",
              "        <tr>\n",
              "            <td>5007</td>\n",
              "            <td>895</td>\n",
              "        </tr>\n",
              "        <tr>\n",
              "            <td>48479</td>\n",
              "            <td>847</td>\n",
              "        </tr>\n",
              "        <tr>\n",
              "            <td>20161</td>\n",
              "            <td>448</td>\n",
              "        </tr>\n",
              "        <tr>\n",
              "            <td>33005</td>\n",
              "            <td>444</td>\n",
              "        </tr>\n",
              "        <tr>\n",
              "            <td>37035</td>\n",
              "            <td>408</td>\n",
              "        </tr>\n",
              "        <tr>\n",
              "            <td>54033</td>\n",
              "            <td>381</td>\n",
              "        </tr>\n",
              "        <tr>\n",
              "            <td>42019</td>\n",
              "            <td>356</td>\n",
              "        </tr>\n",
              "        <tr>\n",
              "            <td>35043</td>\n",
              "            <td>344</td>\n",
              "        </tr>\n",
              "        <tr>\n",
              "            <td>17195</td>\n",
              "            <td>258</td>\n",
              "        </tr>\n",
              "        <tr>\n",
              "            <td>19033</td>\n",
              "            <td>253</td>\n",
              "        </tr>\n",
              "        <tr>\n",
              "            <td>18181</td>\n",
              "            <td>242</td>\n",
              "        </tr>\n",
              "        <tr>\n",
              "            <td>29187</td>\n",
              "            <td>227</td>\n",
              "        </tr>\n",
              "        <tr>\n",
              "            <td>41071</td>\n",
              "            <td>191</td>\n",
              "        </tr>\n",
              "        <tr>\n",
              "            <td>8037</td>\n",
              "            <td>189</td>\n",
              "        </tr>\n",
              "        <tr>\n",
              "            <td>47011</td>\n",
              "            <td>185</td>\n",
              "        </tr>\n",
              "        <tr>\n",
              "            <td>12055</td>\n",
              "            <td>182</td>\n",
              "        </tr>\n",
              "        <tr>\n",
              "            <td>37195</td>\n",
              "            <td>178</td>\n",
              "        </tr>\n",
              "        <tr>\n",
              "            <td>40101</td>\n",
              "            <td>149</td>\n",
              "        </tr>\n",
              "        <tr>\n",
              "            <td>26091</td>\n",
              "            <td>133</td>\n",
              "        </tr>\n",
              "        <tr>\n",
              "            <td>33001</td>\n",
              "            <td>111</td>\n",
              "        </tr>\n",
              "        <tr>\n",
              "            <td>21071</td>\n",
              "            <td>102</td>\n",
              "        </tr>\n",
              "        <tr>\n",
              "            <td>18085</td>\n",
              "            <td>99</td>\n",
              "        </tr>\n",
              "        <tr>\n",
              "            <td>39077</td>\n",
              "            <td>98</td>\n",
              "        </tr>\n",
              "        <tr>\n",
              "            <td>21221</td>\n",
              "            <td>81</td>\n",
              "        </tr>\n",
              "        <tr>\n",
              "            <td>27079</td>\n",
              "            <td>80</td>\n",
              "        </tr>\n",
              "        <tr>\n",
              "            <td>26037</td>\n",
              "            <td>80</td>\n",
              "        </tr>\n",
              "        <tr>\n",
              "            <td>35015</td>\n",
              "            <td>73</td>\n",
              "        </tr>\n",
              "        <tr>\n",
              "            <td>48409</td>\n",
              "            <td>71</td>\n",
              "        </tr>\n",
              "        <tr>\n",
              "            <td>8015</td>\n",
              "            <td>70</td>\n",
              "        </tr>\n",
              "        <tr>\n",
              "            <td>19015</td>\n",
              "            <td>68</td>\n",
              "        </tr>\n",
              "        <tr>\n",
              "            <td>47003</td>\n",
              "            <td>65</td>\n",
              "        </tr>\n",
              "        <tr>\n",
              "            <td>38105</td>\n",
              "            <td>61</td>\n",
              "        </tr>\n",
              "        <tr>\n",
              "            <td>13211</td>\n",
              "            <td>58</td>\n",
              "        </tr>\n",
              "        <tr>\n",
              "            <td>42061</td>\n",
              "            <td>52</td>\n",
              "        </tr>\n",
              "        <tr>\n",
              "            <td>48053</td>\n",
              "            <td>49</td>\n",
              "        </tr>\n",
              "        <tr>\n",
              "            <td>47145</td>\n",
              "            <td>48</td>\n",
              "        </tr>\n",
              "        <tr>\n",
              "            <td>39001</td>\n",
              "            <td>46</td>\n",
              "        </tr>\n",
              "        <tr>\n",
              "            <td>48293</td>\n",
              "            <td>44</td>\n",
              "        </tr>\n",
              "        <tr>\n",
              "            <td>6043</td>\n",
              "            <td>41</td>\n",
              "        </tr>\n",
              "        <tr>\n",
              "            <td>19165</td>\n",
              "            <td>38</td>\n",
              "        </tr>\n",
              "        <tr>\n",
              "            <td>16069</td>\n",
              "            <td>37</td>\n",
              "        </tr>\n",
              "        <tr>\n",
              "            <td>39037</td>\n",
              "            <td>29</td>\n",
              "        </tr>\n",
              "        <tr>\n",
              "            <td>29175</td>\n",
              "            <td>28</td>\n",
              "        </tr>\n",
              "        <tr>\n",
              "            <td>18021</td>\n",
              "            <td>28</td>\n",
              "        </tr>\n",
              "        <tr>\n",
              "            <td>40049</td>\n",
              "            <td>25</td>\n",
              "        </tr>\n",
              "        <tr>\n",
              "            <td>48031</td>\n",
              "            <td>20</td>\n",
              "        </tr>\n",
              "        <tr>\n",
              "            <td>1013</td>\n",
              "            <td>20</td>\n",
              "        </tr>\n",
              "        <tr>\n",
              "            <td>48455</td>\n",
              "            <td>19</td>\n",
              "        </tr>\n",
              "    </tbody>\n",
              "</table>\n",
              "<span style=\"font-style:italic;text-align:center;\">Truncated to <a href=\"https://jupysql.ploomber.io/en/latest/api/configuration.html#displaylimit\">displaylimit</a> of 50.</span>"
            ]
          },
          "metadata": {},
          "execution_count": 26
        }
      ],
      "source": [
        "%%sql\n",
        "\n",
        "SELECT fips, COUNT(*) AS num_tweets\n",
        "FROM tweets\n",
        "GROUP BY fips\n",
        "ORDER BY num_tweets DESC;"
      ]
    },
    {
      "cell_type": "code",
      "execution_count": null,
      "metadata": {
        "colab": {
          "base_uri": "https://localhost:8080/",
          "height": 79
        },
        "id": "ldMxYqM_GXxG",
        "outputId": "eab95b91-b5c1-4ee2-e363-056c8e68e6cc"
      },
      "outputs": [
        {
          "output_type": "display_data",
          "data": {
            "text/plain": [
              "Running query in 'sqlite:///sqlite_data/your_name.db?charset=utf8mb4'"
            ],
            "text/html": [
              "<span style=\"None\">Running query in &#x27;sqlite:///sqlite_data/your_name.db?charset=utf8mb4&#x27;</span>"
            ]
          },
          "metadata": {}
        },
        {
          "output_type": "execute_result",
          "data": {
            "text/plain": [
              "+-------+-------------------+----------+\n",
              "|  fips |       county      |  state   |\n",
              "+-------+-------------------+----------+\n",
              "| 10003 | New Castle County | Delaware |\n",
              "+-------+-------------------+----------+"
            ],
            "text/html": [
              "<table>\n",
              "    <thead>\n",
              "        <tr>\n",
              "            <th>fips</th>\n",
              "            <th>county</th>\n",
              "            <th>state</th>\n",
              "        </tr>\n",
              "    </thead>\n",
              "    <tbody>\n",
              "        <tr>\n",
              "            <td>10003</td>\n",
              "            <td>New Castle County</td>\n",
              "            <td>Delaware</td>\n",
              "        </tr>\n",
              "    </tbody>\n",
              "</table>"
            ]
          },
          "metadata": {},
          "execution_count": 27
        }
      ],
      "source": [
        "%%sql\n",
        "\n",
        "SELECT *\n",
        "FROM counties\n",
        "WHERE fips = 10003;"
      ]
    },
    {
      "cell_type": "markdown",
      "metadata": {
        "id": "tTJzm_zUGXxG"
      },
      "source": [
        "Let's get number of tweets per user and have the results in descending order of number of tweets."
      ]
    },
    {
      "cell_type": "code",
      "execution_count": null,
      "metadata": {
        "colab": {
          "base_uri": "https://localhost:8080/",
          "height": 485
        },
        "id": "iNtJkslNGXxG",
        "outputId": "14b4164a-e437-4a0f-98c5-5cce4e8a5ea2"
      },
      "outputs": [
        {
          "output_type": "display_data",
          "data": {
            "text/plain": [
              "Running query in 'sqlite:///sqlite_data/your_name.db?charset=utf8mb4'"
            ],
            "text/html": [
              "<span style=\"None\">Running query in &#x27;sqlite:///sqlite_data/your_name.db?charset=utf8mb4&#x27;</span>"
            ]
          },
          "metadata": {}
        },
        {
          "output_type": "execute_result",
          "data": {
            "text/plain": [
              "+---------------------+----------+\n",
              "|       user_id       | n_tweets |\n",
              "+---------------------+----------+\n",
              "|       22627877      |    14    |\n",
              "| 1052628509242339328 |    13    |\n",
              "|      4193586673     |    13    |\n",
              "|      373681289      |    13    |\n",
              "|      352429706      |    13    |\n",
              "|      284076024      |    13    |\n",
              "|       38351876      |    13    |\n",
              "|       34955563      |    13    |\n",
              "|       18187527      |    13    |\n",
              "| 1172231621141041159 |    12    |\n",
              "| 1164559992948711424 |    12    |\n",
              "|  939284626303889408 |    12    |\n",
              "|  755870408470134784 |    12    |\n",
              "|      3876385094     |    12    |\n",
              "|      3344462961     |    12    |\n",
              "|      3000127167     |    12    |\n",
              "|      2550817273     |    12    |\n",
              "|      600194154      |    12    |\n",
              "|      473158056      |    12    |\n",
              "|      455926389      |    12    |\n",
              "+---------------------+----------+"
            ],
            "text/html": [
              "<table>\n",
              "    <thead>\n",
              "        <tr>\n",
              "            <th>user_id</th>\n",
              "            <th>n_tweets</th>\n",
              "        </tr>\n",
              "    </thead>\n",
              "    <tbody>\n",
              "        <tr>\n",
              "            <td>22627877</td>\n",
              "            <td>14</td>\n",
              "        </tr>\n",
              "        <tr>\n",
              "            <td>1052628509242339328</td>\n",
              "            <td>13</td>\n",
              "        </tr>\n",
              "        <tr>\n",
              "            <td>4193586673</td>\n",
              "            <td>13</td>\n",
              "        </tr>\n",
              "        <tr>\n",
              "            <td>373681289</td>\n",
              "            <td>13</td>\n",
              "        </tr>\n",
              "        <tr>\n",
              "            <td>352429706</td>\n",
              "            <td>13</td>\n",
              "        </tr>\n",
              "        <tr>\n",
              "            <td>284076024</td>\n",
              "            <td>13</td>\n",
              "        </tr>\n",
              "        <tr>\n",
              "            <td>38351876</td>\n",
              "            <td>13</td>\n",
              "        </tr>\n",
              "        <tr>\n",
              "            <td>34955563</td>\n",
              "            <td>13</td>\n",
              "        </tr>\n",
              "        <tr>\n",
              "            <td>18187527</td>\n",
              "            <td>13</td>\n",
              "        </tr>\n",
              "        <tr>\n",
              "            <td>1172231621141041159</td>\n",
              "            <td>12</td>\n",
              "        </tr>\n",
              "        <tr>\n",
              "            <td>1164559992948711424</td>\n",
              "            <td>12</td>\n",
              "        </tr>\n",
              "        <tr>\n",
              "            <td>939284626303889408</td>\n",
              "            <td>12</td>\n",
              "        </tr>\n",
              "        <tr>\n",
              "            <td>755870408470134784</td>\n",
              "            <td>12</td>\n",
              "        </tr>\n",
              "        <tr>\n",
              "            <td>3876385094</td>\n",
              "            <td>12</td>\n",
              "        </tr>\n",
              "        <tr>\n",
              "            <td>3344462961</td>\n",
              "            <td>12</td>\n",
              "        </tr>\n",
              "        <tr>\n",
              "            <td>3000127167</td>\n",
              "            <td>12</td>\n",
              "        </tr>\n",
              "        <tr>\n",
              "            <td>2550817273</td>\n",
              "            <td>12</td>\n",
              "        </tr>\n",
              "        <tr>\n",
              "            <td>600194154</td>\n",
              "            <td>12</td>\n",
              "        </tr>\n",
              "        <tr>\n",
              "            <td>473158056</td>\n",
              "            <td>12</td>\n",
              "        </tr>\n",
              "        <tr>\n",
              "            <td>455926389</td>\n",
              "            <td>12</td>\n",
              "        </tr>\n",
              "    </tbody>\n",
              "</table>"
            ]
          },
          "metadata": {},
          "execution_count": 28
        }
      ],
      "source": [
        "%%sql\n",
        "\n",
        "SELECT user_id, COUNT(*) AS n_tweets\n",
        "FROM tweets\n",
        "GROUP BY user_id\n",
        "ORDER BY n_tweets DESC\n",
        "LIMIT 20\n",
        "OFFSET 100;"
      ]
    },
    {
      "cell_type": "markdown",
      "metadata": {
        "id": "dbe0EyowGXxG"
      },
      "source": [
        "## 6) Let's derive counts across time\n",
        "Find the date/time range of tweets."
      ]
    },
    {
      "cell_type": "code",
      "execution_count": null,
      "metadata": {
        "colab": {
          "base_uri": "https://localhost:8080/",
          "height": 79
        },
        "id": "nT7vD6E5GXxG",
        "outputId": "ac8ecec6-e7b3-49fe-933f-9b7e15d1e5c1"
      },
      "outputs": [
        {
          "output_type": "display_data",
          "data": {
            "text/plain": [
              "Running query in 'sqlite:///sqlite_data/your_name.db?charset=utf8mb4'"
            ],
            "text/html": [
              "<span style=\"None\">Running query in &#x27;sqlite:///sqlite_data/your_name.db?charset=utf8mb4&#x27;</span>"
            ]
          },
          "metadata": {}
        },
        {
          "output_type": "execute_result",
          "data": {
            "text/plain": [
              "+---------------------+---------------------+\n",
              "|   MIN(created_at)   |   MAX(created_at)   |\n",
              "+---------------------+---------------------+\n",
              "| 2020-05-05 00:00:08 | 2020-05-18 23:55:38 |\n",
              "+---------------------+---------------------+"
            ],
            "text/html": [
              "<table>\n",
              "    <thead>\n",
              "        <tr>\n",
              "            <th>MIN(created_at)</th>\n",
              "            <th>MAX(created_at)</th>\n",
              "        </tr>\n",
              "    </thead>\n",
              "    <tbody>\n",
              "        <tr>\n",
              "            <td>2020-05-05 00:00:08</td>\n",
              "            <td>2020-05-18 23:55:38</td>\n",
              "        </tr>\n",
              "    </tbody>\n",
              "</table>"
            ]
          },
          "metadata": {},
          "execution_count": 29
        }
      ],
      "source": [
        "%%sql\n",
        "\n",
        "SELECT MIN(created_at), MAX(created_at)\n",
        "FROM tweets;"
      ]
    },
    {
      "cell_type": "markdown",
      "metadata": {
        "id": "Cf-RDHo8GXxG"
      },
      "source": [
        "This is 2 weeks of data. Let's get the number of tweets per day.\n",
        "\n",
        "**NOTE:** A good way to interact with date/time column is to treat such columns as if they contain categorical values (and not real numbers). Then they are similar to most of the variables such as `user_id`, `fips`, etc."
      ]
    },
    {
      "cell_type": "code",
      "execution_count": null,
      "metadata": {
        "colab": {
          "base_uri": "https://localhost:8080/",
          "height": 357
        },
        "id": "nxIaOP54GXxG",
        "outputId": "8bef0c2d-5324-46b2-a314-602c3fe0e358"
      },
      "outputs": [
        {
          "output_type": "display_data",
          "data": {
            "text/plain": [
              "Running query in 'sqlite:///sqlite_data/your_name.db?charset=utf8mb4'"
            ],
            "text/html": [
              "<span style=\"None\">Running query in &#x27;sqlite:///sqlite_data/your_name.db?charset=utf8mb4&#x27;</span>"
            ]
          },
          "metadata": {}
        },
        {
          "output_type": "execute_result",
          "data": {
            "text/plain": [
              "+------------+----------+\n",
              "|    date    | n_tweets |\n",
              "+------------+----------+\n",
              "| 2020-05-05 |   845    |\n",
              "| 2020-05-06 |   948    |\n",
              "| 2020-05-07 |   818    |\n",
              "| 2020-05-08 |   793    |\n",
              "| 2020-05-09 |   727    |\n",
              "| 2020-05-10 |   639    |\n",
              "| 2020-05-11 |   895    |\n",
              "| 2020-05-12 |   988    |\n",
              "| 2020-05-13 |   1091   |\n",
              "| 2020-05-14 |   1055   |\n",
              "| 2020-05-15 |   1044   |\n",
              "| 2020-05-16 |   745    |\n",
              "| 2020-05-17 |   617    |\n",
              "| 2020-05-18 |   940    |\n",
              "+------------+----------+"
            ],
            "text/html": [
              "<table>\n",
              "    <thead>\n",
              "        <tr>\n",
              "            <th>date</th>\n",
              "            <th>n_tweets</th>\n",
              "        </tr>\n",
              "    </thead>\n",
              "    <tbody>\n",
              "        <tr>\n",
              "            <td>2020-05-05</td>\n",
              "            <td>845</td>\n",
              "        </tr>\n",
              "        <tr>\n",
              "            <td>2020-05-06</td>\n",
              "            <td>948</td>\n",
              "        </tr>\n",
              "        <tr>\n",
              "            <td>2020-05-07</td>\n",
              "            <td>818</td>\n",
              "        </tr>\n",
              "        <tr>\n",
              "            <td>2020-05-08</td>\n",
              "            <td>793</td>\n",
              "        </tr>\n",
              "        <tr>\n",
              "            <td>2020-05-09</td>\n",
              "            <td>727</td>\n",
              "        </tr>\n",
              "        <tr>\n",
              "            <td>2020-05-10</td>\n",
              "            <td>639</td>\n",
              "        </tr>\n",
              "        <tr>\n",
              "            <td>2020-05-11</td>\n",
              "            <td>895</td>\n",
              "        </tr>\n",
              "        <tr>\n",
              "            <td>2020-05-12</td>\n",
              "            <td>988</td>\n",
              "        </tr>\n",
              "        <tr>\n",
              "            <td>2020-05-13</td>\n",
              "            <td>1091</td>\n",
              "        </tr>\n",
              "        <tr>\n",
              "            <td>2020-05-14</td>\n",
              "            <td>1055</td>\n",
              "        </tr>\n",
              "        <tr>\n",
              "            <td>2020-05-15</td>\n",
              "            <td>1044</td>\n",
              "        </tr>\n",
              "        <tr>\n",
              "            <td>2020-05-16</td>\n",
              "            <td>745</td>\n",
              "        </tr>\n",
              "        <tr>\n",
              "            <td>2020-05-17</td>\n",
              "            <td>617</td>\n",
              "        </tr>\n",
              "        <tr>\n",
              "            <td>2020-05-18</td>\n",
              "            <td>940</td>\n",
              "        </tr>\n",
              "    </tbody>\n",
              "</table>"
            ]
          },
          "metadata": {},
          "execution_count": 30
        }
      ],
      "source": [
        "%%sql\n",
        "\n",
        "SELECT DATE(created_at) AS date, COUNT(*) AS n_tweets\n",
        "FROM tweets\n",
        "GROUP BY date\n",
        "ORDER BY date;"
      ]
    },
    {
      "cell_type": "markdown",
      "metadata": {
        "id": "9SqlLLX-GXxG"
      },
      "source": [
        "Let's try to get the number of tweets every hour. But before that we need to convert the `created_at` column to intervals of one hour, which can be done using the **DATE_FORMAT** function. It simply changes the column contents to a particular (hourly in our case), which we can use to summarize."
      ]
    },
    {
      "cell_type": "code",
      "execution_count": null,
      "metadata": {
        "colab": {
          "base_uri": "https://localhost:8080/",
          "height": 485
        },
        "id": "F4SBw2QOGXxG",
        "outputId": "a7162b7a-0334-4b7c-8bd3-b5e9af9caf1a"
      },
      "outputs": [
        {
          "output_type": "display_data",
          "data": {
            "text/plain": [
              "Running query in 'sqlite:///sqlite_data/your_name.db?charset=utf8mb4'"
            ],
            "text/html": [
              "<span style=\"None\">Running query in &#x27;sqlite:///sqlite_data/your_name.db?charset=utf8mb4&#x27;</span>"
            ]
          },
          "metadata": {}
        },
        {
          "output_type": "execute_result",
          "data": {
            "text/plain": [
              "+------------------+----------+\n",
              "|       hour       | n_tweets |\n",
              "+------------------+----------+\n",
              "| 2020-05-07 06:00 |    12    |\n",
              "| 2020-05-07 07:00 |    19    |\n",
              "| 2020-05-07 08:00 |    3     |\n",
              "| 2020-05-07 09:00 |    6     |\n",
              "| 2020-05-07 10:00 |    12    |\n",
              "| 2020-05-07 11:00 |    20    |\n",
              "| 2020-05-07 12:00 |    32    |\n",
              "| 2020-05-07 13:00 |    30    |\n",
              "| 2020-05-07 14:00 |    34    |\n",
              "| 2020-05-07 15:00 |    4     |\n",
              "| 2020-05-07 17:00 |    89    |\n",
              "| 2020-05-07 18:00 |    82    |\n",
              "| 2020-05-07 19:00 |    68    |\n",
              "| 2020-05-07 20:00 |    52    |\n",
              "| 2020-05-07 21:00 |    46    |\n",
              "| 2020-05-07 22:00 |    55    |\n",
              "| 2020-05-07 23:00 |    47    |\n",
              "| 2020-05-08 00:00 |    50    |\n",
              "| 2020-05-08 01:00 |    40    |\n",
              "| 2020-05-08 02:00 |    25    |\n",
              "+------------------+----------+"
            ],
            "text/html": [
              "<table>\n",
              "    <thead>\n",
              "        <tr>\n",
              "            <th>hour</th>\n",
              "            <th>n_tweets</th>\n",
              "        </tr>\n",
              "    </thead>\n",
              "    <tbody>\n",
              "        <tr>\n",
              "            <td>2020-05-07 06:00</td>\n",
              "            <td>12</td>\n",
              "        </tr>\n",
              "        <tr>\n",
              "            <td>2020-05-07 07:00</td>\n",
              "            <td>19</td>\n",
              "        </tr>\n",
              "        <tr>\n",
              "            <td>2020-05-07 08:00</td>\n",
              "            <td>3</td>\n",
              "        </tr>\n",
              "        <tr>\n",
              "            <td>2020-05-07 09:00</td>\n",
              "            <td>6</td>\n",
              "        </tr>\n",
              "        <tr>\n",
              "            <td>2020-05-07 10:00</td>\n",
              "            <td>12</td>\n",
              "        </tr>\n",
              "        <tr>\n",
              "            <td>2020-05-07 11:00</td>\n",
              "            <td>20</td>\n",
              "        </tr>\n",
              "        <tr>\n",
              "            <td>2020-05-07 12:00</td>\n",
              "            <td>32</td>\n",
              "        </tr>\n",
              "        <tr>\n",
              "            <td>2020-05-07 13:00</td>\n",
              "            <td>30</td>\n",
              "        </tr>\n",
              "        <tr>\n",
              "            <td>2020-05-07 14:00</td>\n",
              "            <td>34</td>\n",
              "        </tr>\n",
              "        <tr>\n",
              "            <td>2020-05-07 15:00</td>\n",
              "            <td>4</td>\n",
              "        </tr>\n",
              "        <tr>\n",
              "            <td>2020-05-07 17:00</td>\n",
              "            <td>89</td>\n",
              "        </tr>\n",
              "        <tr>\n",
              "            <td>2020-05-07 18:00</td>\n",
              "            <td>82</td>\n",
              "        </tr>\n",
              "        <tr>\n",
              "            <td>2020-05-07 19:00</td>\n",
              "            <td>68</td>\n",
              "        </tr>\n",
              "        <tr>\n",
              "            <td>2020-05-07 20:00</td>\n",
              "            <td>52</td>\n",
              "        </tr>\n",
              "        <tr>\n",
              "            <td>2020-05-07 21:00</td>\n",
              "            <td>46</td>\n",
              "        </tr>\n",
              "        <tr>\n",
              "            <td>2020-05-07 22:00</td>\n",
              "            <td>55</td>\n",
              "        </tr>\n",
              "        <tr>\n",
              "            <td>2020-05-07 23:00</td>\n",
              "            <td>47</td>\n",
              "        </tr>\n",
              "        <tr>\n",
              "            <td>2020-05-08 00:00</td>\n",
              "            <td>50</td>\n",
              "        </tr>\n",
              "        <tr>\n",
              "            <td>2020-05-08 01:00</td>\n",
              "            <td>40</td>\n",
              "        </tr>\n",
              "        <tr>\n",
              "            <td>2020-05-08 02:00</td>\n",
              "            <td>25</td>\n",
              "        </tr>\n",
              "    </tbody>\n",
              "</table>"
            ]
          },
          "metadata": {},
          "execution_count": 47
        }
      ],
      "source": [
        "%%sql\n",
        "\n",
        "SELECT strftime('%Y-%m-%d %H:00', created_at) AS hour, COUNT(*) AS n_tweets\n",
        "FROM tweets\n",
        "GROUP BY hour\n",
        "ORDER BY hour\n",
        "LIMIT 20\n",
        "OFFSET 50;"
      ]
    },
    {
      "cell_type": "markdown",
      "metadata": {
        "id": "tMF3Ct_mGXxH"
      },
      "source": [
        "Let's check the average number of tweets every hour. We first create a table named `hourly` to hold the number of tweets every hour."
      ]
    },
    {
      "cell_type": "code",
      "execution_count": null,
      "metadata": {
        "colab": {
          "base_uri": "https://localhost:8080/",
          "height": 34
        },
        "id": "74IOdb-KGXxH",
        "outputId": "e3f8a0a1-2ba9-4448-8755-854e193eb748"
      },
      "outputs": [
        {
          "output_type": "display_data",
          "data": {
            "text/plain": [
              "Running query in 'sqlite:///sqlite_data/your_name.db?charset=utf8mb4'"
            ],
            "text/html": [
              "<span style=\"None\">Running query in &#x27;sqlite:///sqlite_data/your_name.db?charset=utf8mb4&#x27;</span>"
            ]
          },
          "metadata": {}
        },
        {
          "output_type": "execute_result",
          "data": {
            "text/plain": [
              "++\n",
              "||\n",
              "++\n",
              "++"
            ],
            "text/html": [
              "<table>\n",
              "    <thead>\n",
              "        <tr>\n",
              "        </tr>\n",
              "    </thead>\n",
              "    <tbody>\n",
              "    </tbody>\n",
              "</table>"
            ]
          },
          "metadata": {},
          "execution_count": 48
        }
      ],
      "source": [
        "%%sql\n",
        "\n",
        "CREATE TABLE hourly AS\n",
        "SELECT DATE(created_at) AS date, strftime('%H', created_at) AS hour, COUNT(*) AS n_tweets\n",
        "FROM tweets\n",
        "GROUP BY date,hour;"
      ]
    },
    {
      "cell_type": "markdown",
      "metadata": {
        "id": "-3aFbUd8GXxH"
      },
      "source": [
        "#### 👩‍🔬💻 Exercise\n",
        "\n",
        "Can you take the average over all days for every hour?"
      ]
    },
    {
      "cell_type": "code",
      "execution_count": null,
      "metadata": {
        "colab": {
          "base_uri": "https://localhost:8080/",
          "height": 570
        },
        "id": "7nxKGI7oGXxH",
        "outputId": "89a78a15-4115-48ff-ed99-4d649dc230ae"
      },
      "outputs": [
        {
          "output_type": "display_data",
          "data": {
            "text/plain": [
              "Running query in 'sqlite:///sqlite_data/your_name.db?charset=utf8mb4'"
            ],
            "text/html": [
              "<span style=\"None\">Running query in &#x27;sqlite:///sqlite_data/your_name.db?charset=utf8mb4&#x27;</span>"
            ]
          },
          "metadata": {}
        },
        {
          "output_type": "execute_result",
          "data": {
            "text/plain": [
              "+------+--------------------+\n",
              "| hour |        mean        |\n",
              "+------+--------------------+\n",
              "|  00  |        41.5        |\n",
              "|  01  | 35.07692307692308  |\n",
              "|  02  | 31.571428571428573 |\n",
              "|  03  | 28.071428571428573 |\n",
              "|  04  | 18.357142857142858 |\n",
              "|  05  | 13.428571428571429 |\n",
              "|  06  | 9.857142857142858  |\n",
              "|  07  | 25.357142857142858 |\n",
              "|  08  | 9.071428571428571  |\n",
              "|  09  | 11.928571428571429 |\n",
              "|  10  | 14.785714285714286 |\n",
              "|  11  | 25.142857142857142 |\n",
              "|  12  | 40.57142857142857  |\n",
              "|  13  | 48.857142857142854 |\n",
              "|  14  | 56.785714285714285 |\n",
              "|  15  | 55.785714285714285 |\n",
              "|  16  |        61.0        |\n",
              "|  17  | 59.285714285714285 |\n",
              "|  18  | 67.64285714285714  |\n",
              "|  19  | 59.285714285714285 |\n",
              "|  20  | 53.38461538461539  |\n",
              "|  21  |        52.0        |\n",
              "|  22  | 42.833333333333336 |\n",
              "|  23  | 46.72727272727273  |\n",
              "+------+--------------------+"
            ],
            "text/html": [
              "<table>\n",
              "    <thead>\n",
              "        <tr>\n",
              "            <th>hour</th>\n",
              "            <th>mean</th>\n",
              "        </tr>\n",
              "    </thead>\n",
              "    <tbody>\n",
              "        <tr>\n",
              "            <td>00</td>\n",
              "            <td>41.5</td>\n",
              "        </tr>\n",
              "        <tr>\n",
              "            <td>01</td>\n",
              "            <td>35.07692307692308</td>\n",
              "        </tr>\n",
              "        <tr>\n",
              "            <td>02</td>\n",
              "            <td>31.571428571428573</td>\n",
              "        </tr>\n",
              "        <tr>\n",
              "            <td>03</td>\n",
              "            <td>28.071428571428573</td>\n",
              "        </tr>\n",
              "        <tr>\n",
              "            <td>04</td>\n",
              "            <td>18.357142857142858</td>\n",
              "        </tr>\n",
              "        <tr>\n",
              "            <td>05</td>\n",
              "            <td>13.428571428571429</td>\n",
              "        </tr>\n",
              "        <tr>\n",
              "            <td>06</td>\n",
              "            <td>9.857142857142858</td>\n",
              "        </tr>\n",
              "        <tr>\n",
              "            <td>07</td>\n",
              "            <td>25.357142857142858</td>\n",
              "        </tr>\n",
              "        <tr>\n",
              "            <td>08</td>\n",
              "            <td>9.071428571428571</td>\n",
              "        </tr>\n",
              "        <tr>\n",
              "            <td>09</td>\n",
              "            <td>11.928571428571429</td>\n",
              "        </tr>\n",
              "        <tr>\n",
              "            <td>10</td>\n",
              "            <td>14.785714285714286</td>\n",
              "        </tr>\n",
              "        <tr>\n",
              "            <td>11</td>\n",
              "            <td>25.142857142857142</td>\n",
              "        </tr>\n",
              "        <tr>\n",
              "            <td>12</td>\n",
              "            <td>40.57142857142857</td>\n",
              "        </tr>\n",
              "        <tr>\n",
              "            <td>13</td>\n",
              "            <td>48.857142857142854</td>\n",
              "        </tr>\n",
              "        <tr>\n",
              "            <td>14</td>\n",
              "            <td>56.785714285714285</td>\n",
              "        </tr>\n",
              "        <tr>\n",
              "            <td>15</td>\n",
              "            <td>55.785714285714285</td>\n",
              "        </tr>\n",
              "        <tr>\n",
              "            <td>16</td>\n",
              "            <td>61.0</td>\n",
              "        </tr>\n",
              "        <tr>\n",
              "            <td>17</td>\n",
              "            <td>59.285714285714285</td>\n",
              "        </tr>\n",
              "        <tr>\n",
              "            <td>18</td>\n",
              "            <td>67.64285714285714</td>\n",
              "        </tr>\n",
              "        <tr>\n",
              "            <td>19</td>\n",
              "            <td>59.285714285714285</td>\n",
              "        </tr>\n",
              "        <tr>\n",
              "            <td>20</td>\n",
              "            <td>53.38461538461539</td>\n",
              "        </tr>\n",
              "        <tr>\n",
              "            <td>21</td>\n",
              "            <td>52.0</td>\n",
              "        </tr>\n",
              "        <tr>\n",
              "            <td>22</td>\n",
              "            <td>42.833333333333336</td>\n",
              "        </tr>\n",
              "        <tr>\n",
              "            <td>23</td>\n",
              "            <td>46.72727272727273</td>\n",
              "        </tr>\n",
              "    </tbody>\n",
              "</table>"
            ]
          },
          "metadata": {},
          "execution_count": 49
        }
      ],
      "source": [
        "%%sql\n",
        "\n",
        "SELECT hour, AVG(n_tweets) AS mean\n",
        "FROM hourly\n",
        "GROUP BY hour;"
      ]
    },
    {
      "cell_type": "markdown",
      "metadata": {
        "id": "O2AcPb0qGXxH"
      },
      "source": [
        "So, people tweet more in the afternoons/evenings. That makes sense.\n",
        "\n",
        "We can do this in one command without creating a temporary table `hourly`."
      ]
    },
    {
      "cell_type": "code",
      "execution_count": null,
      "metadata": {
        "colab": {
          "base_uri": "https://localhost:8080/",
          "height": 570
        },
        "id": "AVPHFRC0GXxH",
        "outputId": "c2d4d610-dc9f-402e-f646-8ade83894182"
      },
      "outputs": [
        {
          "output_type": "display_data",
          "data": {
            "text/plain": [
              "Running query in 'sqlite:///sqlite_data/your_name.db?charset=utf8mb4'"
            ],
            "text/html": [
              "<span style=\"None\">Running query in &#x27;sqlite:///sqlite_data/your_name.db?charset=utf8mb4&#x27;</span>"
            ]
          },
          "metadata": {}
        },
        {
          "output_type": "execute_result",
          "data": {
            "text/plain": [
              "+------+--------------------+\n",
              "| hour |        mean        |\n",
              "+------+--------------------+\n",
              "|  00  |        41.5        |\n",
              "|  01  | 35.07692307692308  |\n",
              "|  02  | 31.571428571428573 |\n",
              "|  03  | 28.071428571428573 |\n",
              "|  04  | 18.357142857142858 |\n",
              "|  05  | 13.428571428571429 |\n",
              "|  06  | 9.857142857142858  |\n",
              "|  07  | 25.357142857142858 |\n",
              "|  08  | 9.071428571428571  |\n",
              "|  09  | 11.928571428571429 |\n",
              "|  10  | 14.785714285714286 |\n",
              "|  11  | 25.142857142857142 |\n",
              "|  12  | 40.57142857142857  |\n",
              "|  13  | 48.857142857142854 |\n",
              "|  14  | 56.785714285714285 |\n",
              "|  15  | 55.785714285714285 |\n",
              "|  16  |        61.0        |\n",
              "|  17  | 59.285714285714285 |\n",
              "|  18  | 67.64285714285714  |\n",
              "|  19  | 59.285714285714285 |\n",
              "|  20  | 53.38461538461539  |\n",
              "|  21  |        52.0        |\n",
              "|  22  | 42.833333333333336 |\n",
              "|  23  | 46.72727272727273  |\n",
              "+------+--------------------+"
            ],
            "text/html": [
              "<table>\n",
              "    <thead>\n",
              "        <tr>\n",
              "            <th>hour</th>\n",
              "            <th>mean</th>\n",
              "        </tr>\n",
              "    </thead>\n",
              "    <tbody>\n",
              "        <tr>\n",
              "            <td>00</td>\n",
              "            <td>41.5</td>\n",
              "        </tr>\n",
              "        <tr>\n",
              "            <td>01</td>\n",
              "            <td>35.07692307692308</td>\n",
              "        </tr>\n",
              "        <tr>\n",
              "            <td>02</td>\n",
              "            <td>31.571428571428573</td>\n",
              "        </tr>\n",
              "        <tr>\n",
              "            <td>03</td>\n",
              "            <td>28.071428571428573</td>\n",
              "        </tr>\n",
              "        <tr>\n",
              "            <td>04</td>\n",
              "            <td>18.357142857142858</td>\n",
              "        </tr>\n",
              "        <tr>\n",
              "            <td>05</td>\n",
              "            <td>13.428571428571429</td>\n",
              "        </tr>\n",
              "        <tr>\n",
              "            <td>06</td>\n",
              "            <td>9.857142857142858</td>\n",
              "        </tr>\n",
              "        <tr>\n",
              "            <td>07</td>\n",
              "            <td>25.357142857142858</td>\n",
              "        </tr>\n",
              "        <tr>\n",
              "            <td>08</td>\n",
              "            <td>9.071428571428571</td>\n",
              "        </tr>\n",
              "        <tr>\n",
              "            <td>09</td>\n",
              "            <td>11.928571428571429</td>\n",
              "        </tr>\n",
              "        <tr>\n",
              "            <td>10</td>\n",
              "            <td>14.785714285714286</td>\n",
              "        </tr>\n",
              "        <tr>\n",
              "            <td>11</td>\n",
              "            <td>25.142857142857142</td>\n",
              "        </tr>\n",
              "        <tr>\n",
              "            <td>12</td>\n",
              "            <td>40.57142857142857</td>\n",
              "        </tr>\n",
              "        <tr>\n",
              "            <td>13</td>\n",
              "            <td>48.857142857142854</td>\n",
              "        </tr>\n",
              "        <tr>\n",
              "            <td>14</td>\n",
              "            <td>56.785714285714285</td>\n",
              "        </tr>\n",
              "        <tr>\n",
              "            <td>15</td>\n",
              "            <td>55.785714285714285</td>\n",
              "        </tr>\n",
              "        <tr>\n",
              "            <td>16</td>\n",
              "            <td>61.0</td>\n",
              "        </tr>\n",
              "        <tr>\n",
              "            <td>17</td>\n",
              "            <td>59.285714285714285</td>\n",
              "        </tr>\n",
              "        <tr>\n",
              "            <td>18</td>\n",
              "            <td>67.64285714285714</td>\n",
              "        </tr>\n",
              "        <tr>\n",
              "            <td>19</td>\n",
              "            <td>59.285714285714285</td>\n",
              "        </tr>\n",
              "        <tr>\n",
              "            <td>20</td>\n",
              "            <td>53.38461538461539</td>\n",
              "        </tr>\n",
              "        <tr>\n",
              "            <td>21</td>\n",
              "            <td>52.0</td>\n",
              "        </tr>\n",
              "        <tr>\n",
              "            <td>22</td>\n",
              "            <td>42.833333333333336</td>\n",
              "        </tr>\n",
              "        <tr>\n",
              "            <td>23</td>\n",
              "            <td>46.72727272727273</td>\n",
              "        </tr>\n",
              "    </tbody>\n",
              "</table>"
            ]
          },
          "metadata": {},
          "execution_count": 50
        }
      ],
      "source": [
        "%%sql\n",
        "\n",
        "SELECT hour, AVG(n_tweets) AS mean\n",
        "FROM (SELECT DATE(created_at) AS date, strftime('%H', created_at) AS hour, COUNT(*) as n_tweets\n",
        "      FROM tweets\n",
        "      GROUP BY date, hour) AS tmp\n",
        "GROUP BY hour;"
      ]
    },
    {
      "cell_type": "code",
      "execution_count": null,
      "metadata": {
        "colab": {
          "base_uri": "https://localhost:8080/",
          "height": 34
        },
        "id": "f_zGc47CGXxH",
        "outputId": "33e9bc2e-2ab5-4b78-bc3e-fe4bf6e09ce4"
      },
      "outputs": [
        {
          "output_type": "display_data",
          "data": {
            "text/plain": [
              "Running query in 'sqlite:///sqlite_data/your_name.db?charset=utf8mb4'"
            ],
            "text/html": [
              "<span style=\"None\">Running query in &#x27;sqlite:///sqlite_data/your_name.db?charset=utf8mb4&#x27;</span>"
            ]
          },
          "metadata": {}
        },
        {
          "output_type": "execute_result",
          "data": {
            "text/plain": [
              "++\n",
              "||\n",
              "++\n",
              "++"
            ],
            "text/html": [
              "<table>\n",
              "    <thead>\n",
              "        <tr>\n",
              "        </tr>\n",
              "    </thead>\n",
              "    <tbody>\n",
              "    </tbody>\n",
              "</table>"
            ]
          },
          "metadata": {},
          "execution_count": 4
        }
      ],
      "source": [
        "%%sql\n",
        "\n",
        "DROP TABLE hourly;"
      ]
    },
    {
      "cell_type": "markdown",
      "metadata": {
        "id": "TtInP36iGXxH"
      },
      "source": [
        "## 7) Tutorial 1 but with tweets!"
      ]
    },
    {
      "cell_type": "markdown",
      "metadata": {
        "id": "fy2PrBBWGXxH"
      },
      "source": [
        "### 7a) Searching using wildcards\n",
        "\n",
        "A very practical usage of wildcards over the current dataset would be to identify tweets that contain urls. Let's check the number of such tweets."
      ]
    },
    {
      "cell_type": "code",
      "execution_count": null,
      "metadata": {
        "colab": {
          "base_uri": "https://localhost:8080/",
          "height": 79
        },
        "id": "k8avcsF5GXxH",
        "outputId": "a9eabb35-1414-48bd-ccfc-73dac974cdf3"
      },
      "outputs": [
        {
          "output_type": "display_data",
          "data": {
            "text/plain": [
              "Running query in 'sqlite:///sqlite_data/your_name.db?charset=utf8mb4'"
            ],
            "text/html": [
              "<span style=\"None\">Running query in &#x27;sqlite:///sqlite_data/your_name.db?charset=utf8mb4&#x27;</span>"
            ]
          },
          "metadata": {}
        },
        {
          "output_type": "execute_result",
          "data": {
            "text/plain": [
              "+-------------------+\n",
              "| n_tweets_with_url |\n",
              "+-------------------+\n",
              "|        9395       |\n",
              "+-------------------+"
            ],
            "text/html": [
              "<table>\n",
              "    <thead>\n",
              "        <tr>\n",
              "            <th>n_tweets_with_url</th>\n",
              "        </tr>\n",
              "    </thead>\n",
              "    <tbody>\n",
              "        <tr>\n",
              "            <td>9395</td>\n",
              "        </tr>\n",
              "    </tbody>\n",
              "</table>"
            ]
          },
          "metadata": {},
          "execution_count": 5
        }
      ],
      "source": [
        "%%sql\n",
        "\n",
        "SELECT COUNT(*) AS n_tweets_with_url\n",
        "FROM tweets\n",
        "WHERE text LIKE '%https://%';"
      ]
    },
    {
      "cell_type": "code",
      "execution_count": null,
      "metadata": {
        "colab": {
          "base_uri": "https://localhost:8080/",
          "height": 477
        },
        "id": "E20lC87lGXxH",
        "outputId": "42660827-d165-47f1-ae71-13ba72210b96"
      },
      "outputs": [
        {
          "output_type": "display_data",
          "data": {
            "text/plain": [
              "Running query in 'sqlite:///sqlite_data/your_name.db?charset=utf8mb4'"
            ],
            "text/html": [
              "<span style=\"None\">Running query in &#x27;sqlite:///sqlite_data/your_name.db?charset=utf8mb4&#x27;</span>"
            ]
          },
          "metadata": {}
        },
        {
          "output_type": "execute_result",
          "data": {
            "text/plain": [
              "+---------------------+-------+---------------------+--------------------+-----------------+----------------------------------------------------------------------------------------------------------------------------------------------------------------------------------------------------------------------------------------------------------------------+--------------------------------+--------------------+---------------------+\n",
              "|      created_at     |  fips |       tweet_id      | place_country_code | place_full_name |                                                                                                                                 text                                                                                                                                 |        user_created_at         |      user_id       | user_statuses_count |\n",
              "+---------------------+-------+---------------------+--------------------+-----------------+----------------------------------------------------------------------------------------------------------------------------------------------------------------------------------------------------------------------------------------------------------------------+--------------------------------+--------------------+---------------------+\n",
              "| 2020-05-05 07:21:06 | 54033 | 1257571003301089280 |                    |                 |                                                wvstatejournal: CASES TOP 1,200: DHHR reported Monday the total number of COVID-19 cases confirmed in West Virginia is 1,206. Read more here: https://t.co/zHWPCENv20                                                 | Wed Jul 20 02:09:21 +0000 2011 |     338767521      |       17644.0       |\n",
              "| 2020-05-05 07:21:08 | 54033 | 1257571010263625735 |                    |                 |                        wvstatejournal:RT WVNews247:WV LED NATION in having lowest key COVID-19 rate, Gov. Justice announces. Also, several more businesses will be allowed to open next week:https://t.co/VCVd68YCyY https://t.co/WNthm7QroS                         | Wed Jul 20 02:09:21 +0000 2011 |     338767521      |       17647.0       |\n",
              "| 2020-05-05 07:21:10 | 54033 | 1257571019549822977 |                    |                 |                             wvstatejournal:DHHR REPORTS West Virginia's positive COVID-19 case total has grown to 1,224, and the cumulative positive test percentage continues to see a decline. Read more here:https://t.co/fYyJ8N2gXx                              | Wed Jul 20 02:09:21 +0000 2011 |     338767521      |       17651.0       |\n",
              "| 2020-05-05 07:49:01 | 48479 | 1257578027522969600 |                    |                 |                                                                             Tyson will keep slowing meat production as coronavirus sickens workers, tanks income https://t.co/LBtcNHmw76                                                                             | Wed Jul 27 23:29:39 +0000 2011 |     343702041      |       96391.0       |\n",
              "| 2020-05-05 07:56:27 | 21071 | 1257579899562401793 |                    |                 | I went to check Flowbee's charming website, since everyone's crying about haircuts...   They're completely sold out because of COVID-19, and they're only allowing one purchase to curb profiteering and prioritize \"those in need.\"  Bless! https://t.co/Fl8uMehTXW | Wed Feb 28 03:15:03 +0000 2018 | 968685955619151872 |        342.0        |\n",
              "+---------------------+-------+---------------------+--------------------+-----------------+----------------------------------------------------------------------------------------------------------------------------------------------------------------------------------------------------------------------------------------------------------------------+--------------------------------+--------------------+---------------------+"
            ],
            "text/html": [
              "<table>\n",
              "    <thead>\n",
              "        <tr>\n",
              "            <th>created_at</th>\n",
              "            <th>fips</th>\n",
              "            <th>tweet_id</th>\n",
              "            <th>place_country_code</th>\n",
              "            <th>place_full_name</th>\n",
              "            <th>text</th>\n",
              "            <th>user_created_at</th>\n",
              "            <th>user_id</th>\n",
              "            <th>user_statuses_count</th>\n",
              "        </tr>\n",
              "    </thead>\n",
              "    <tbody>\n",
              "        <tr>\n",
              "            <td>2020-05-05 07:21:06</td>\n",
              "            <td>54033</td>\n",
              "            <td>1257571003301089280</td>\n",
              "            <td></td>\n",
              "            <td></td>\n",
              "            <td>wvstatejournal: CASES TOP 1,200: DHHR reported Monday the total number of COVID-19 cases confirmed in West Virginia is 1,206. Read more here: https://t.co/zHWPCENv20</td>\n",
              "            <td>Wed Jul 20 02:09:21 +0000 2011</td>\n",
              "            <td>338767521</td>\n",
              "            <td>17644.0</td>\n",
              "        </tr>\n",
              "        <tr>\n",
              "            <td>2020-05-05 07:21:08</td>\n",
              "            <td>54033</td>\n",
              "            <td>1257571010263625735</td>\n",
              "            <td></td>\n",
              "            <td></td>\n",
              "            <td>wvstatejournal:RT WVNews247:WV LED NATION in having lowest key COVID-19 rate, Gov. Justice announces. Also, several more businesses will be allowed to open next week:https://t.co/VCVd68YCyY https://t.co/WNthm7QroS</td>\n",
              "            <td>Wed Jul 20 02:09:21 +0000 2011</td>\n",
              "            <td>338767521</td>\n",
              "            <td>17647.0</td>\n",
              "        </tr>\n",
              "        <tr>\n",
              "            <td>2020-05-05 07:21:10</td>\n",
              "            <td>54033</td>\n",
              "            <td>1257571019549822977</td>\n",
              "            <td></td>\n",
              "            <td></td>\n",
              "            <td>wvstatejournal:DHHR REPORTS West Virginia's positive COVID-19 case total has grown to 1,224, and the cumulative positive test percentage continues to see a decline. Read more here:https://t.co/fYyJ8N2gXx</td>\n",
              "            <td>Wed Jul 20 02:09:21 +0000 2011</td>\n",
              "            <td>338767521</td>\n",
              "            <td>17651.0</td>\n",
              "        </tr>\n",
              "        <tr>\n",
              "            <td>2020-05-05 07:49:01</td>\n",
              "            <td>48479</td>\n",
              "            <td>1257578027522969600</td>\n",
              "            <td></td>\n",
              "            <td></td>\n",
              "            <td>Tyson will keep slowing meat production as coronavirus sickens workers, tanks income https://t.co/LBtcNHmw76</td>\n",
              "            <td>Wed Jul 27 23:29:39 +0000 2011</td>\n",
              "            <td>343702041</td>\n",
              "            <td>96391.0</td>\n",
              "        </tr>\n",
              "        <tr>\n",
              "            <td>2020-05-05 07:56:27</td>\n",
              "            <td>21071</td>\n",
              "            <td>1257579899562401793</td>\n",
              "            <td></td>\n",
              "            <td></td>\n",
              "            <td>I went to check Flowbee's charming website, since everyone's crying about haircuts...   They're completely sold out because of COVID-19, and they're only allowing one purchase to curb profiteering and prioritize \"those in need.\"  Bless! https://t.co/Fl8uMehTXW</td>\n",
              "            <td>Wed Feb 28 03:15:03 +0000 2018</td>\n",
              "            <td>968685955619151872</td>\n",
              "            <td>342.0</td>\n",
              "        </tr>\n",
              "    </tbody>\n",
              "</table>"
            ]
          },
          "metadata": {},
          "execution_count": 6
        }
      ],
      "source": [
        "%%sql\n",
        "\n",
        "SELECT *\n",
        "FROM tweets\n",
        "WHERE text LIKE '%https://%'\n",
        "LIMIT 5\n",
        "OFFSET 100;"
      ]
    },
    {
      "cell_type": "markdown",
      "metadata": {
        "id": "qFx75J6dGXxH"
      },
      "source": [
        "### 7b) Join county, state\n",
        "\n",
        "In table `tweets` the column `fips` is the fips code of the US county from which tweet likely originated. Every US county has a unique fips code. Let us now add columns `county` , `state` corresponding to the `fips` in the `tweets` table, information for which is in the `counties` table. This means we need to join these two tables on `fips`. In other words, `fips` column in both the tables exhibits the primary key - foreign key relationship.\n",
        "\n",
        "Let's check the schema of the table `counties`."
      ]
    },
    {
      "cell_type": "code",
      "execution_count": null,
      "metadata": {
        "colab": {
          "base_uri": "https://localhost:8080/",
          "height": 122
        },
        "id": "F7EJF0ydGXxH",
        "outputId": "ef6035df-d1fc-4090-f49e-843bd79cbd27"
      },
      "outputs": [
        {
          "output_type": "display_data",
          "data": {
            "text/plain": [
              "Running query in 'sqlite:///sqlite_data/your_name.db?charset=utf8mb4'"
            ],
            "text/html": [
              "<span style=\"None\">Running query in &#x27;sqlite:///sqlite_data/your_name.db?charset=utf8mb4&#x27;</span>"
            ]
          },
          "metadata": {}
        },
        {
          "output_type": "execute_result",
          "data": {
            "text/plain": [
              "+-----+--------+-------------+---------+------------+----+\n",
              "| cid |  name  |     type    | notnull | dflt_value | pk |\n",
              "+-----+--------+-------------+---------+------------+----+\n",
              "|  0  |  fips  |     INT     |    0    |    None    | 0  |\n",
              "|  1  | county | VARCHAR(31) |    0    |    None    | 0  |\n",
              "|  2  | state  | VARCHAR(31) |    0    |    None    | 0  |\n",
              "+-----+--------+-------------+---------+------------+----+"
            ],
            "text/html": [
              "<table>\n",
              "    <thead>\n",
              "        <tr>\n",
              "            <th>cid</th>\n",
              "            <th>name</th>\n",
              "            <th>type</th>\n",
              "            <th>notnull</th>\n",
              "            <th>dflt_value</th>\n",
              "            <th>pk</th>\n",
              "        </tr>\n",
              "    </thead>\n",
              "    <tbody>\n",
              "        <tr>\n",
              "            <td>0</td>\n",
              "            <td>fips</td>\n",
              "            <td>INT</td>\n",
              "            <td>0</td>\n",
              "            <td>None</td>\n",
              "            <td>0</td>\n",
              "        </tr>\n",
              "        <tr>\n",
              "            <td>1</td>\n",
              "            <td>county</td>\n",
              "            <td>VARCHAR(31)</td>\n",
              "            <td>0</td>\n",
              "            <td>None</td>\n",
              "            <td>0</td>\n",
              "        </tr>\n",
              "        <tr>\n",
              "            <td>2</td>\n",
              "            <td>state</td>\n",
              "            <td>VARCHAR(31)</td>\n",
              "            <td>0</td>\n",
              "            <td>None</td>\n",
              "            <td>0</td>\n",
              "        </tr>\n",
              "    </tbody>\n",
              "</table>"
            ]
          },
          "metadata": {},
          "execution_count": 7
        }
      ],
      "source": [
        "%%sql\n",
        "\n",
        "PRAGMA table_info(counties);"
      ]
    },
    {
      "cell_type": "markdown",
      "metadata": {
        "id": "b2d8pyqsGXxH"
      },
      "source": [
        "The contents of the `fips` column, which is a **VARCHAR**, in `tweets` are all of length 5, but in `counties` are of length 4 & 5."
      ]
    },
    {
      "cell_type": "code",
      "execution_count": null,
      "metadata": {
        "colab": {
          "base_uri": "https://localhost:8080/",
          "height": 100
        },
        "id": "exBEjO1NGXxH",
        "outputId": "0c950484-7e5f-4472-c54d-272395fad6ff"
      },
      "outputs": [
        {
          "output_type": "display_data",
          "data": {
            "text/plain": [
              "Running query in 'sqlite:///sqlite_data/your_name.db?charset=utf8mb4'"
            ],
            "text/html": [
              "<span style=\"None\">Running query in &#x27;sqlite:///sqlite_data/your_name.db?charset=utf8mb4&#x27;</span>"
            ]
          },
          "metadata": {}
        },
        {
          "output_type": "execute_result",
          "data": {
            "text/plain": [
              "+----------------+\n",
              "| (LENGTH(fips)) |\n",
              "+----------------+\n",
              "|       5        |\n",
              "|       4        |\n",
              "+----------------+"
            ],
            "text/html": [
              "<table>\n",
              "    <thead>\n",
              "        <tr>\n",
              "            <th>(LENGTH(fips))</th>\n",
              "        </tr>\n",
              "    </thead>\n",
              "    <tbody>\n",
              "        <tr>\n",
              "            <td>5</td>\n",
              "        </tr>\n",
              "        <tr>\n",
              "            <td>4</td>\n",
              "        </tr>\n",
              "    </tbody>\n",
              "</table>"
            ]
          },
          "metadata": {},
          "execution_count": 8
        }
      ],
      "source": [
        "%%sql\n",
        "\n",
        "SELECT DISTINCT(LENGTH(fips))\n",
        "FROM tweets;"
      ]
    },
    {
      "cell_type": "code",
      "execution_count": null,
      "metadata": {
        "colab": {
          "base_uri": "https://localhost:8080/",
          "height": 100
        },
        "id": "dqbaNK-SGXxH",
        "outputId": "b4b684d9-1c56-49c0-d807-5bd283d9d841"
      },
      "outputs": [
        {
          "output_type": "display_data",
          "data": {
            "text/plain": [
              "Running query in 'sqlite:///sqlite_data/your_name.db?charset=utf8mb4'"
            ],
            "text/html": [
              "<span style=\"None\">Running query in &#x27;sqlite:///sqlite_data/your_name.db?charset=utf8mb4&#x27;</span>"
            ]
          },
          "metadata": {}
        },
        {
          "output_type": "execute_result",
          "data": {
            "text/plain": [
              "+----------------+\n",
              "| (LENGTH(fips)) |\n",
              "+----------------+\n",
              "|       5        |\n",
              "|       4        |\n",
              "+----------------+"
            ],
            "text/html": [
              "<table>\n",
              "    <thead>\n",
              "        <tr>\n",
              "            <th>(LENGTH(fips))</th>\n",
              "        </tr>\n",
              "    </thead>\n",
              "    <tbody>\n",
              "        <tr>\n",
              "            <td>5</td>\n",
              "        </tr>\n",
              "        <tr>\n",
              "            <td>4</td>\n",
              "        </tr>\n",
              "    </tbody>\n",
              "</table>"
            ]
          },
          "metadata": {},
          "execution_count": 9
        }
      ],
      "source": [
        "%%sql\n",
        "\n",
        "SELECT DISTINCT(LENGTH(fips))\n",
        "FROM counties;"
      ]
    },
    {
      "cell_type": "markdown",
      "metadata": {
        "id": "FJwnqBgFGXxI"
      },
      "source": [
        "Before we merge, we need to make sure the `fips` in table `counties` is of same length, with zero padding, as in table `tweets`. Here we left-pad the `fips` with 0 to make sure the length is 5. You can double-check this by running previous statement again.\n",
        "\n",
        "To do this we can use the **UPDATE** clause."
      ]
    },
    {
      "cell_type": "code",
      "execution_count": null,
      "metadata": {
        "colab": {
          "base_uri": "https://localhost:8080/",
          "height": 52
        },
        "id": "LQfw9rF5GXxI",
        "outputId": "24752b18-dfc4-436e-99ae-8cf6ce0c38cf"
      },
      "outputs": [
        {
          "output_type": "display_data",
          "data": {
            "text/plain": [
              "Running query in 'sqlite:///sqlite_data/your_name.db?charset=utf8mb4'"
            ],
            "text/html": [
              "<span style=\"None\">Running query in &#x27;sqlite:///sqlite_data/your_name.db?charset=utf8mb4&#x27;</span>"
            ]
          },
          "metadata": {}
        },
        {
          "output_type": "display_data",
          "data": {
            "text/plain": [
              "100 rows affected."
            ],
            "text/html": [
              "<span style=\"color: green\">100 rows affected.</span>"
            ]
          },
          "metadata": {}
        },
        {
          "output_type": "execute_result",
          "data": {
            "text/plain": [
              "++\n",
              "||\n",
              "++\n",
              "++"
            ],
            "text/html": [
              "<table>\n",
              "    <thead>\n",
              "        <tr>\n",
              "        </tr>\n",
              "    </thead>\n",
              "    <tbody>\n",
              "    </tbody>\n",
              "</table>"
            ]
          },
          "metadata": {},
          "execution_count": 10
        }
      ],
      "source": [
        "%%sql\n",
        "\n",
        "UPDATE counties\n",
        "SET fips = printf('%05d', fips);"
      ]
    },
    {
      "cell_type": "markdown",
      "metadata": {
        "id": "FAVep752GXxI"
      },
      "source": [
        "We intend to bring the `county`, `state` columns from `counties` into `tweets` for every tweet. But are all the `fips` in `tweets` present in table `counties`?"
      ]
    },
    {
      "cell_type": "code",
      "execution_count": null,
      "metadata": {
        "colab": {
          "base_uri": "https://localhost:8080/",
          "height": 79
        },
        "id": "-kTGHTvJGXxI",
        "outputId": "4603d0ff-2836-478b-b4f4-54bf410d9c34"
      },
      "outputs": [
        {
          "output_type": "display_data",
          "data": {
            "text/plain": [
              "Running query in 'sqlite:///sqlite_data/your_name.db?charset=utf8mb4'"
            ],
            "text/html": [
              "<span style=\"None\">Running query in &#x27;sqlite:///sqlite_data/your_name.db?charset=utf8mb4&#x27;</span>"
            ]
          },
          "metadata": {}
        },
        {
          "output_type": "execute_result",
          "data": {
            "text/plain": [
              "+--------+\n",
              "| n_fips |\n",
              "+--------+\n",
              "|   0    |\n",
              "+--------+"
            ],
            "text/html": [
              "<table>\n",
              "    <thead>\n",
              "        <tr>\n",
              "            <th>n_fips</th>\n",
              "        </tr>\n",
              "    </thead>\n",
              "    <tbody>\n",
              "        <tr>\n",
              "            <td>0</td>\n",
              "        </tr>\n",
              "    </tbody>\n",
              "</table>"
            ]
          },
          "metadata": {},
          "execution_count": 11
        }
      ],
      "source": [
        "%%sql\n",
        "\n",
        "SELECT COUNT(DISTINCT(fips)) AS n_fips\n",
        "FROM tweets\n",
        "WHERE fips NOT IN (SELECT fips FROM counties);"
      ]
    },
    {
      "cell_type": "markdown",
      "metadata": {
        "id": "deaCz4hKGXxI"
      },
      "source": [
        "So there are `fips` in `tweets` for which we have no record in `counties`. When we join, we have two options:\n",
        "- **Left-Join:** For every `fips` in `tweets` that has an entry in `counties` , result table will have `county` , `state` from `counties`. For `fips` in `tweets` with no entry in `counties` , result table will fill NULL for `counties` , `state`.\n",
        "- **Inner-Join:** For every `fips` in `tweets` that has an entry in `counties` , result will have `county` , `state` from `counties`. For `fips` in `tweets` with no entry in `counties` , result table will drop the record.\n",
        "\n",
        "We will perform a inner-join for this tutorial, thereby keeping records in `tweets` that have an entry in `counties`.\n",
        "\n",
        "This will take a lot more than a HOT SEC!!"
      ]
    },
    {
      "cell_type": "code",
      "execution_count": null,
      "metadata": {
        "colab": {
          "base_uri": "https://localhost:8080/",
          "height": 34
        },
        "id": "JIlrBoj4GXxI",
        "outputId": "cd285f63-d4f9-40b9-bda4-fca858980488"
      },
      "outputs": [
        {
          "output_type": "display_data",
          "data": {
            "text/plain": [
              "Running query in 'sqlite:///sqlite_data/your_name.db?charset=utf8mb4'"
            ],
            "text/html": [
              "<span style=\"None\">Running query in &#x27;sqlite:///sqlite_data/your_name.db?charset=utf8mb4&#x27;</span>"
            ]
          },
          "metadata": {}
        },
        {
          "output_type": "execute_result",
          "data": {
            "text/plain": [
              "++\n",
              "||\n",
              "++\n",
              "++"
            ],
            "text/html": [
              "<table>\n",
              "    <thead>\n",
              "        <tr>\n",
              "        </tr>\n",
              "    </thead>\n",
              "    <tbody>\n",
              "    </tbody>\n",
              "</table>"
            ]
          },
          "metadata": {},
          "execution_count": 12
        }
      ],
      "source": [
        "%%sql\n",
        "\n",
        "CREATE TABLE tweets_counties AS\n",
        "SELECT tweets.*, counties.county, counties.state\n",
        "FROM tweets INNER JOIN counties\n",
        "ON tweets.fips = counties.fips;"
      ]
    },
    {
      "cell_type": "code",
      "source": [
        "%sqlcmd tables"
      ],
      "metadata": {
        "id": "ZVqbGdVUphB9",
        "outputId": "4871a347-0e01-4629-8545-dcc0635af442",
        "colab": {
          "base_uri": "https://localhost:8080/",
          "height": 126
        }
      },
      "execution_count": null,
      "outputs": [
        {
          "output_type": "execute_result",
          "data": {
            "text/plain": [
              "+-----------------+\n",
              "|       Name      |\n",
              "+-----------------+\n",
              "|     counties    |\n",
              "|   n_duplicates  |\n",
              "|      tweets     |\n",
              "| tweets_counties |\n",
              "+-----------------+"
            ],
            "text/html": [
              "<table>\n",
              "    <thead>\n",
              "        <tr>\n",
              "            <th>Name</th>\n",
              "        </tr>\n",
              "    </thead>\n",
              "    <tbody>\n",
              "        <tr>\n",
              "            <td>counties</td>\n",
              "        </tr>\n",
              "        <tr>\n",
              "            <td>n_duplicates</td>\n",
              "        </tr>\n",
              "        <tr>\n",
              "            <td>tweets</td>\n",
              "        </tr>\n",
              "        <tr>\n",
              "            <td>tweets_counties</td>\n",
              "        </tr>\n",
              "    </tbody>\n",
              "</table>"
            ]
          },
          "metadata": {},
          "execution_count": 13
        }
      ]
    },
    {
      "cell_type": "markdown",
      "metadata": {
        "id": "ZiuVVcm5GXxI"
      },
      "source": [
        "Print the schema of the merged table."
      ]
    },
    {
      "cell_type": "code",
      "execution_count": null,
      "metadata": {
        "colab": {
          "base_uri": "https://localhost:8080/",
          "height": 293
        },
        "id": "IFjAeMZvGXxI",
        "outputId": "be2fbcfb-b86c-42f3-c44a-eb556162e2c8"
      },
      "outputs": [
        {
          "output_type": "display_data",
          "data": {
            "text/plain": [
              "Running query in 'sqlite:///sqlite_data/your_name.db?charset=utf8mb4'"
            ],
            "text/html": [
              "<span style=\"None\">Running query in &#x27;sqlite:///sqlite_data/your_name.db?charset=utf8mb4&#x27;</span>"
            ]
          },
          "metadata": {}
        },
        {
          "output_type": "execute_result",
          "data": {
            "text/plain": [
              "+-----+---------------------+------+---------+------------+----+\n",
              "| cid |         name        | type | notnull | dflt_value | pk |\n",
              "+-----+---------------------+------+---------+------------+----+\n",
              "|  0  |      created_at     | TEXT |    0    |    None    | 0  |\n",
              "|  1  |         fips        | INT  |    0    |    None    | 0  |\n",
              "|  2  |       tweet_id      | INT  |    0    |    None    | 0  |\n",
              "|  3  |  place_country_code | TEXT |    0    |    None    | 0  |\n",
              "|  4  |   place_full_name   | TEXT |    0    |    None    | 0  |\n",
              "|  5  |         text        | TEXT |    0    |    None    | 0  |\n",
              "|  6  |   user_created_at   | TEXT |    0    |    None    | 0  |\n",
              "|  7  |       user_id       | INT  |    0    |    None    | 0  |\n",
              "|  8  | user_statuses_count | REAL |    0    |    None    | 0  |\n",
              "|  9  |        county       | TEXT |    0    |    None    | 0  |\n",
              "|  10 |        state        | TEXT |    0    |    None    | 0  |\n",
              "+-----+---------------------+------+---------+------------+----+"
            ],
            "text/html": [
              "<table>\n",
              "    <thead>\n",
              "        <tr>\n",
              "            <th>cid</th>\n",
              "            <th>name</th>\n",
              "            <th>type</th>\n",
              "            <th>notnull</th>\n",
              "            <th>dflt_value</th>\n",
              "            <th>pk</th>\n",
              "        </tr>\n",
              "    </thead>\n",
              "    <tbody>\n",
              "        <tr>\n",
              "            <td>0</td>\n",
              "            <td>created_at</td>\n",
              "            <td>TEXT</td>\n",
              "            <td>0</td>\n",
              "            <td>None</td>\n",
              "            <td>0</td>\n",
              "        </tr>\n",
              "        <tr>\n",
              "            <td>1</td>\n",
              "            <td>fips</td>\n",
              "            <td>INT</td>\n",
              "            <td>0</td>\n",
              "            <td>None</td>\n",
              "            <td>0</td>\n",
              "        </tr>\n",
              "        <tr>\n",
              "            <td>2</td>\n",
              "            <td>tweet_id</td>\n",
              "            <td>INT</td>\n",
              "            <td>0</td>\n",
              "            <td>None</td>\n",
              "            <td>0</td>\n",
              "        </tr>\n",
              "        <tr>\n",
              "            <td>3</td>\n",
              "            <td>place_country_code</td>\n",
              "            <td>TEXT</td>\n",
              "            <td>0</td>\n",
              "            <td>None</td>\n",
              "            <td>0</td>\n",
              "        </tr>\n",
              "        <tr>\n",
              "            <td>4</td>\n",
              "            <td>place_full_name</td>\n",
              "            <td>TEXT</td>\n",
              "            <td>0</td>\n",
              "            <td>None</td>\n",
              "            <td>0</td>\n",
              "        </tr>\n",
              "        <tr>\n",
              "            <td>5</td>\n",
              "            <td>text</td>\n",
              "            <td>TEXT</td>\n",
              "            <td>0</td>\n",
              "            <td>None</td>\n",
              "            <td>0</td>\n",
              "        </tr>\n",
              "        <tr>\n",
              "            <td>6</td>\n",
              "            <td>user_created_at</td>\n",
              "            <td>TEXT</td>\n",
              "            <td>0</td>\n",
              "            <td>None</td>\n",
              "            <td>0</td>\n",
              "        </tr>\n",
              "        <tr>\n",
              "            <td>7</td>\n",
              "            <td>user_id</td>\n",
              "            <td>INT</td>\n",
              "            <td>0</td>\n",
              "            <td>None</td>\n",
              "            <td>0</td>\n",
              "        </tr>\n",
              "        <tr>\n",
              "            <td>8</td>\n",
              "            <td>user_statuses_count</td>\n",
              "            <td>REAL</td>\n",
              "            <td>0</td>\n",
              "            <td>None</td>\n",
              "            <td>0</td>\n",
              "        </tr>\n",
              "        <tr>\n",
              "            <td>9</td>\n",
              "            <td>county</td>\n",
              "            <td>TEXT</td>\n",
              "            <td>0</td>\n",
              "            <td>None</td>\n",
              "            <td>0</td>\n",
              "        </tr>\n",
              "        <tr>\n",
              "            <td>10</td>\n",
              "            <td>state</td>\n",
              "            <td>TEXT</td>\n",
              "            <td>0</td>\n",
              "            <td>None</td>\n",
              "            <td>0</td>\n",
              "        </tr>\n",
              "    </tbody>\n",
              "</table>"
            ]
          },
          "metadata": {},
          "execution_count": 14
        }
      ],
      "source": [
        "%%sql\n",
        "\n",
        "PRAGMA table_info(tweets_counties);"
      ]
    },
    {
      "cell_type": "markdown",
      "metadata": {
        "id": "pfFZru59GXxI"
      },
      "source": [
        "We can drop all tables except this new one as we now have everything in one table. And also rename the new `tweets_counties` table to tweets."
      ]
    },
    {
      "cell_type": "code",
      "execution_count": null,
      "metadata": {
        "colab": {
          "base_uri": "https://localhost:8080/",
          "height": 34
        },
        "id": "4Uy2toS4GXxI",
        "outputId": "a86234c0-2187-4a89-8a19-954f1eaca3ef"
      },
      "outputs": [
        {
          "output_type": "display_data",
          "data": {
            "text/plain": [
              "Running query in 'sqlite:///sqlite_data/your_name.db?charset=utf8mb4'"
            ],
            "text/html": [
              "<span style=\"None\">Running query in &#x27;sqlite:///sqlite_data/your_name.db?charset=utf8mb4&#x27;</span>"
            ]
          },
          "metadata": {}
        },
        {
          "output_type": "execute_result",
          "data": {
            "text/plain": [
              "++\n",
              "||\n",
              "++\n",
              "++"
            ],
            "text/html": [
              "<table>\n",
              "    <thead>\n",
              "        <tr>\n",
              "        </tr>\n",
              "    </thead>\n",
              "    <tbody>\n",
              "    </tbody>\n",
              "</table>"
            ]
          },
          "metadata": {},
          "execution_count": 15
        }
      ],
      "source": [
        "%%sql\n",
        "\n",
        "DROP TABLE tweets;\n",
        "DROP TABLE counties;\n",
        "ALTER TABLE tweets_counties RENAME TO tweets;"
      ]
    },
    {
      "cell_type": "markdown",
      "metadata": {
        "id": "OSnRtqWsGXxI"
      },
      "source": [
        "Let's find the number of users per state."
      ]
    },
    {
      "cell_type": "code",
      "execution_count": null,
      "metadata": {
        "colab": {
          "base_uri": "https://localhost:8080/",
          "height": 827
        },
        "id": "FBlObh01GXxI",
        "outputId": "6ac7917d-27bd-48e1-a067-a7258e7c7794"
      },
      "outputs": [
        {
          "output_type": "display_data",
          "data": {
            "text/plain": [
              "Running query in 'sqlite:///sqlite_data/your_name.db?charset=utf8mb4'"
            ],
            "text/html": [
              "<span style=\"None\">Running query in &#x27;sqlite:///sqlite_data/your_name.db?charset=utf8mb4&#x27;</span>"
            ]
          },
          "metadata": {}
        },
        {
          "output_type": "execute_result",
          "data": {
            "text/plain": [
              "+----------------+---------+\n",
              "|     state      | n_users |\n",
              "+----------------+---------+\n",
              "|    Alabama     |    40   |\n",
              "|    Arkansas    |   296   |\n",
              "|   California   |    6    |\n",
              "|    Colorado    |   112   |\n",
              "|    Delaware    |   878   |\n",
              "|    Florida     |    52   |\n",
              "|    Georgia     |    44   |\n",
              "|     Idaho      |    25   |\n",
              "|    Illinois    |    49   |\n",
              "|    Indiana     |    91   |\n",
              "|      Iowa      |    89   |\n",
              "|     Kansas     |   245   |\n",
              "|    Kentucky    |    56   |\n",
              "|   Louisiana    |    4    |\n",
              "|    Michigan    |   105   |\n",
              "|   Minnesota    |    17   |\n",
              "|  Mississippi   |    13   |\n",
              "|    Missouri    |    61   |\n",
              "|    Montana     |    2    |\n",
              "|    Nebraska    |    9    |\n",
              "|     Nevada     |    8    |\n",
              "| New Hampshire  |   150   |\n",
              "|   New Mexico   |   155   |\n",
              "|    New York    |   495   |\n",
              "| North Carolina |   218   |\n",
              "|  North Dakota  |    22   |\n",
              "|      Ohio      |    83   |\n",
              "|    Oklahoma    |    56   |\n",
              "|     Oregon     |   101   |\n",
              "|  Pennsylvania  |   218   |\n",
              "| South Carolina |    7    |\n",
              "|  South Dakota  |    4    |\n",
              "|   Tennessee    |   170   |\n",
              "|     Texas      |   389   |\n",
              "|      Utah      |    1    |\n",
              "| West Virginia  |    52   |\n",
              "+----------------+---------+"
            ],
            "text/html": [
              "<table>\n",
              "    <thead>\n",
              "        <tr>\n",
              "            <th>state</th>\n",
              "            <th>n_users</th>\n",
              "        </tr>\n",
              "    </thead>\n",
              "    <tbody>\n",
              "        <tr>\n",
              "            <td>Alabama</td>\n",
              "            <td>40</td>\n",
              "        </tr>\n",
              "        <tr>\n",
              "            <td>Arkansas</td>\n",
              "            <td>296</td>\n",
              "        </tr>\n",
              "        <tr>\n",
              "            <td>California</td>\n",
              "            <td>6</td>\n",
              "        </tr>\n",
              "        <tr>\n",
              "            <td>Colorado</td>\n",
              "            <td>112</td>\n",
              "        </tr>\n",
              "        <tr>\n",
              "            <td>Delaware</td>\n",
              "            <td>878</td>\n",
              "        </tr>\n",
              "        <tr>\n",
              "            <td>Florida</td>\n",
              "            <td>52</td>\n",
              "        </tr>\n",
              "        <tr>\n",
              "            <td>Georgia</td>\n",
              "            <td>44</td>\n",
              "        </tr>\n",
              "        <tr>\n",
              "            <td>Idaho</td>\n",
              "            <td>25</td>\n",
              "        </tr>\n",
              "        <tr>\n",
              "            <td>Illinois</td>\n",
              "            <td>49</td>\n",
              "        </tr>\n",
              "        <tr>\n",
              "            <td>Indiana</td>\n",
              "            <td>91</td>\n",
              "        </tr>\n",
              "        <tr>\n",
              "            <td>Iowa</td>\n",
              "            <td>89</td>\n",
              "        </tr>\n",
              "        <tr>\n",
              "            <td>Kansas</td>\n",
              "            <td>245</td>\n",
              "        </tr>\n",
              "        <tr>\n",
              "            <td>Kentucky</td>\n",
              "            <td>56</td>\n",
              "        </tr>\n",
              "        <tr>\n",
              "            <td>Louisiana</td>\n",
              "            <td>4</td>\n",
              "        </tr>\n",
              "        <tr>\n",
              "            <td>Michigan</td>\n",
              "            <td>105</td>\n",
              "        </tr>\n",
              "        <tr>\n",
              "            <td>Minnesota</td>\n",
              "            <td>17</td>\n",
              "        </tr>\n",
              "        <tr>\n",
              "            <td>Mississippi</td>\n",
              "            <td>13</td>\n",
              "        </tr>\n",
              "        <tr>\n",
              "            <td>Missouri</td>\n",
              "            <td>61</td>\n",
              "        </tr>\n",
              "        <tr>\n",
              "            <td>Montana</td>\n",
              "            <td>2</td>\n",
              "        </tr>\n",
              "        <tr>\n",
              "            <td>Nebraska</td>\n",
              "            <td>9</td>\n",
              "        </tr>\n",
              "        <tr>\n",
              "            <td>Nevada</td>\n",
              "            <td>8</td>\n",
              "        </tr>\n",
              "        <tr>\n",
              "            <td>New Hampshire</td>\n",
              "            <td>150</td>\n",
              "        </tr>\n",
              "        <tr>\n",
              "            <td>New Mexico</td>\n",
              "            <td>155</td>\n",
              "        </tr>\n",
              "        <tr>\n",
              "            <td>New York</td>\n",
              "            <td>495</td>\n",
              "        </tr>\n",
              "        <tr>\n",
              "            <td>North Carolina</td>\n",
              "            <td>218</td>\n",
              "        </tr>\n",
              "        <tr>\n",
              "            <td>North Dakota</td>\n",
              "            <td>22</td>\n",
              "        </tr>\n",
              "        <tr>\n",
              "            <td>Ohio</td>\n",
              "            <td>83</td>\n",
              "        </tr>\n",
              "        <tr>\n",
              "            <td>Oklahoma</td>\n",
              "            <td>56</td>\n",
              "        </tr>\n",
              "        <tr>\n",
              "            <td>Oregon</td>\n",
              "            <td>101</td>\n",
              "        </tr>\n",
              "        <tr>\n",
              "            <td>Pennsylvania</td>\n",
              "            <td>218</td>\n",
              "        </tr>\n",
              "        <tr>\n",
              "            <td>South Carolina</td>\n",
              "            <td>7</td>\n",
              "        </tr>\n",
              "        <tr>\n",
              "            <td>South Dakota</td>\n",
              "            <td>4</td>\n",
              "        </tr>\n",
              "        <tr>\n",
              "            <td>Tennessee</td>\n",
              "            <td>170</td>\n",
              "        </tr>\n",
              "        <tr>\n",
              "            <td>Texas</td>\n",
              "            <td>389</td>\n",
              "        </tr>\n",
              "        <tr>\n",
              "            <td>Utah</td>\n",
              "            <td>1</td>\n",
              "        </tr>\n",
              "        <tr>\n",
              "            <td>West Virginia</td>\n",
              "            <td>52</td>\n",
              "        </tr>\n",
              "    </tbody>\n",
              "</table>"
            ]
          },
          "metadata": {},
          "execution_count": 16
        }
      ],
      "source": [
        "%%sql\n",
        "\n",
        "SELECT state, COUNT(DISTINCT(user_id)) AS n_users\n",
        "FROM tweets\n",
        "GROUP BY state;"
      ]
    },
    {
      "cell_type": "markdown",
      "metadata": {
        "id": "7HPNNhpsGXxI"
      },
      "source": [
        "#### 👩‍🔬💻 Exercise\n",
        "\n",
        "Can you list the states and the number of tweets per state in the decreasing number of tweets?"
      ]
    },
    {
      "cell_type": "code",
      "execution_count": null,
      "metadata": {
        "colab": {
          "base_uri": "https://localhost:8080/",
          "height": 827
        },
        "id": "04Y0gEq6GXxI",
        "outputId": "07780d61-d4ae-415a-982c-877d7bec5821"
      },
      "outputs": [
        {
          "output_type": "display_data",
          "data": {
            "text/plain": [
              "Running query in 'sqlite:///sqlite_data/your_name.db?charset=utf8mb4'"
            ],
            "text/html": [
              "<span style=\"None\">Running query in &#x27;sqlite:///sqlite_data/your_name.db?charset=utf8mb4&#x27;</span>"
            ]
          },
          "metadata": {}
        },
        {
          "output_type": "execute_result",
          "data": {
            "text/plain": [
              "+----------------+------------+\n",
              "|     state      | num_tweets |\n",
              "+----------------+------------+\n",
              "|    Delaware    |    2594    |\n",
              "|    New York    |    1281    |\n",
              "|     Texas      |    1097    |\n",
              "|    Arkansas    |    895     |\n",
              "| North Carolina |    590     |\n",
              "| New Hampshire  |    555     |\n",
              "|     Kansas     |    455     |\n",
              "|   New Mexico   |    417     |\n",
              "|  Pennsylvania  |    408     |\n",
              "| West Virginia  |    383     |\n",
              "|      Iowa      |    383     |\n",
              "|    Indiana     |    375     |\n",
              "|   Tennessee    |    310     |\n",
              "|    Missouri    |    274     |\n",
              "|    Illinois    |    269     |\n",
              "|    Colorado    |    259     |\n",
              "|    Michigan    |    230     |\n",
              "|    Kentucky    |    204     |\n",
              "|     Oregon     |    191     |\n",
              "|    Florida     |    186     |\n",
              "|    Oklahoma    |    174     |\n",
              "|      Ohio      |    173     |\n",
              "|    Georgia     |     83     |\n",
              "|   Minnesota    |     80     |\n",
              "|  North Dakota  |     65     |\n",
              "|    Alabama     |     59     |\n",
              "|   California   |     41     |\n",
              "|     Idaho      |     37     |\n",
              "| South Carolina |     15     |\n",
              "|    Nebraska    |     15     |\n",
              "|  Mississippi   |     14     |\n",
              "|  South Dakota  |     12     |\n",
              "|     Nevada     |     12     |\n",
              "|   Louisiana    |     6      |\n",
              "|    Montana     |     2      |\n",
              "|      Utah      |     1      |\n",
              "+----------------+------------+"
            ],
            "text/html": [
              "<table>\n",
              "    <thead>\n",
              "        <tr>\n",
              "            <th>state</th>\n",
              "            <th>num_tweets</th>\n",
              "        </tr>\n",
              "    </thead>\n",
              "    <tbody>\n",
              "        <tr>\n",
              "            <td>Delaware</td>\n",
              "            <td>2594</td>\n",
              "        </tr>\n",
              "        <tr>\n",
              "            <td>New York</td>\n",
              "            <td>1281</td>\n",
              "        </tr>\n",
              "        <tr>\n",
              "            <td>Texas</td>\n",
              "            <td>1097</td>\n",
              "        </tr>\n",
              "        <tr>\n",
              "            <td>Arkansas</td>\n",
              "            <td>895</td>\n",
              "        </tr>\n",
              "        <tr>\n",
              "            <td>North Carolina</td>\n",
              "            <td>590</td>\n",
              "        </tr>\n",
              "        <tr>\n",
              "            <td>New Hampshire</td>\n",
              "            <td>555</td>\n",
              "        </tr>\n",
              "        <tr>\n",
              "            <td>Kansas</td>\n",
              "            <td>455</td>\n",
              "        </tr>\n",
              "        <tr>\n",
              "            <td>New Mexico</td>\n",
              "            <td>417</td>\n",
              "        </tr>\n",
              "        <tr>\n",
              "            <td>Pennsylvania</td>\n",
              "            <td>408</td>\n",
              "        </tr>\n",
              "        <tr>\n",
              "            <td>West Virginia</td>\n",
              "            <td>383</td>\n",
              "        </tr>\n",
              "        <tr>\n",
              "            <td>Iowa</td>\n",
              "            <td>383</td>\n",
              "        </tr>\n",
              "        <tr>\n",
              "            <td>Indiana</td>\n",
              "            <td>375</td>\n",
              "        </tr>\n",
              "        <tr>\n",
              "            <td>Tennessee</td>\n",
              "            <td>310</td>\n",
              "        </tr>\n",
              "        <tr>\n",
              "            <td>Missouri</td>\n",
              "            <td>274</td>\n",
              "        </tr>\n",
              "        <tr>\n",
              "            <td>Illinois</td>\n",
              "            <td>269</td>\n",
              "        </tr>\n",
              "        <tr>\n",
              "            <td>Colorado</td>\n",
              "            <td>259</td>\n",
              "        </tr>\n",
              "        <tr>\n",
              "            <td>Michigan</td>\n",
              "            <td>230</td>\n",
              "        </tr>\n",
              "        <tr>\n",
              "            <td>Kentucky</td>\n",
              "            <td>204</td>\n",
              "        </tr>\n",
              "        <tr>\n",
              "            <td>Oregon</td>\n",
              "            <td>191</td>\n",
              "        </tr>\n",
              "        <tr>\n",
              "            <td>Florida</td>\n",
              "            <td>186</td>\n",
              "        </tr>\n",
              "        <tr>\n",
              "            <td>Oklahoma</td>\n",
              "            <td>174</td>\n",
              "        </tr>\n",
              "        <tr>\n",
              "            <td>Ohio</td>\n",
              "            <td>173</td>\n",
              "        </tr>\n",
              "        <tr>\n",
              "            <td>Georgia</td>\n",
              "            <td>83</td>\n",
              "        </tr>\n",
              "        <tr>\n",
              "            <td>Minnesota</td>\n",
              "            <td>80</td>\n",
              "        </tr>\n",
              "        <tr>\n",
              "            <td>North Dakota</td>\n",
              "            <td>65</td>\n",
              "        </tr>\n",
              "        <tr>\n",
              "            <td>Alabama</td>\n",
              "            <td>59</td>\n",
              "        </tr>\n",
              "        <tr>\n",
              "            <td>California</td>\n",
              "            <td>41</td>\n",
              "        </tr>\n",
              "        <tr>\n",
              "            <td>Idaho</td>\n",
              "            <td>37</td>\n",
              "        </tr>\n",
              "        <tr>\n",
              "            <td>South Carolina</td>\n",
              "            <td>15</td>\n",
              "        </tr>\n",
              "        <tr>\n",
              "            <td>Nebraska</td>\n",
              "            <td>15</td>\n",
              "        </tr>\n",
              "        <tr>\n",
              "            <td>Mississippi</td>\n",
              "            <td>14</td>\n",
              "        </tr>\n",
              "        <tr>\n",
              "            <td>South Dakota</td>\n",
              "            <td>12</td>\n",
              "        </tr>\n",
              "        <tr>\n",
              "            <td>Nevada</td>\n",
              "            <td>12</td>\n",
              "        </tr>\n",
              "        <tr>\n",
              "            <td>Louisiana</td>\n",
              "            <td>6</td>\n",
              "        </tr>\n",
              "        <tr>\n",
              "            <td>Montana</td>\n",
              "            <td>2</td>\n",
              "        </tr>\n",
              "        <tr>\n",
              "            <td>Utah</td>\n",
              "            <td>1</td>\n",
              "        </tr>\n",
              "    </tbody>\n",
              "</table>"
            ]
          },
          "metadata": {},
          "execution_count": 17
        }
      ],
      "source": [
        "%%sql\n",
        "\n",
        "SELECT state, COUNT(*) AS num_tweets\n",
        "FROM tweets\n",
        "GROUP BY state\n",
        "ORDER BY num_tweets DESC;"
      ]
    },
    {
      "cell_type": "markdown",
      "metadata": {
        "id": "J2fvkHY9GXxI"
      },
      "source": [
        "#### 👩‍🔬💻 Exercise\n",
        "\n",
        "Can you normalize these numbers for the number of distinct users in the state? Where do you see California?"
      ]
    },
    {
      "cell_type": "code",
      "execution_count": null,
      "metadata": {
        "colab": {
          "base_uri": "https://localhost:8080/",
          "height": 827
        },
        "id": "seyOW1l1GXxI",
        "outputId": "7736b9c3-d27b-4dae-d9fc-f69d5808917b"
      },
      "outputs": [
        {
          "output_type": "display_data",
          "data": {
            "text/plain": [
              "Running query in 'sqlite:///sqlite_data/your_name.db?charset=utf8mb4'"
            ],
            "text/html": [
              "<span style=\"None\">Running query in &#x27;sqlite:///sqlite_data/your_name.db?charset=utf8mb4&#x27;</span>"
            ]
          },
          "metadata": {}
        },
        {
          "output_type": "execute_result",
          "data": {
            "text/plain": [
              "+----------------+-----------------+\n",
              "|     state      | num_tweets_norm |\n",
              "+----------------+-----------------+\n",
              "| West Virginia  |        7        |\n",
              "|   California   |        6        |\n",
              "|    Illinois    |        5        |\n",
              "|    Missouri    |        4        |\n",
              "|   Minnesota    |        4        |\n",
              "|      Iowa      |        4        |\n",
              "|    Indiana     |        4        |\n",
              "|  South Dakota  |        3        |\n",
              "|    Oklahoma    |        3        |\n",
              "| New Hampshire  |        3        |\n",
              "|    Kentucky    |        3        |\n",
              "|    Florida     |        3        |\n",
              "|    Arkansas    |        3        |\n",
              "|     Texas      |        2        |\n",
              "| South Carolina |        2        |\n",
              "|      Ohio      |        2        |\n",
              "|  North Dakota  |        2        |\n",
              "| North Carolina |        2        |\n",
              "|    New York    |        2        |\n",
              "|   New Mexico   |        2        |\n",
              "|    Michigan    |        2        |\n",
              "|    Delaware    |        2        |\n",
              "|    Colorado    |        2        |\n",
              "|      Utah      |        1        |\n",
              "|   Tennessee    |        1        |\n",
              "|  Pennsylvania  |        1        |\n",
              "|     Oregon     |        1        |\n",
              "|     Nevada     |        1        |\n",
              "|    Nebraska    |        1        |\n",
              "|    Montana     |        1        |\n",
              "|  Mississippi   |        1        |\n",
              "|   Louisiana    |        1        |\n",
              "|     Kansas     |        1        |\n",
              "|     Idaho      |        1        |\n",
              "|    Georgia     |        1        |\n",
              "|    Alabama     |        1        |\n",
              "+----------------+-----------------+"
            ],
            "text/html": [
              "<table>\n",
              "    <thead>\n",
              "        <tr>\n",
              "            <th>state</th>\n",
              "            <th>num_tweets_norm</th>\n",
              "        </tr>\n",
              "    </thead>\n",
              "    <tbody>\n",
              "        <tr>\n",
              "            <td>West Virginia</td>\n",
              "            <td>7</td>\n",
              "        </tr>\n",
              "        <tr>\n",
              "            <td>California</td>\n",
              "            <td>6</td>\n",
              "        </tr>\n",
              "        <tr>\n",
              "            <td>Illinois</td>\n",
              "            <td>5</td>\n",
              "        </tr>\n",
              "        <tr>\n",
              "            <td>Missouri</td>\n",
              "            <td>4</td>\n",
              "        </tr>\n",
              "        <tr>\n",
              "            <td>Minnesota</td>\n",
              "            <td>4</td>\n",
              "        </tr>\n",
              "        <tr>\n",
              "            <td>Iowa</td>\n",
              "            <td>4</td>\n",
              "        </tr>\n",
              "        <tr>\n",
              "            <td>Indiana</td>\n",
              "            <td>4</td>\n",
              "        </tr>\n",
              "        <tr>\n",
              "            <td>South Dakota</td>\n",
              "            <td>3</td>\n",
              "        </tr>\n",
              "        <tr>\n",
              "            <td>Oklahoma</td>\n",
              "            <td>3</td>\n",
              "        </tr>\n",
              "        <tr>\n",
              "            <td>New Hampshire</td>\n",
              "            <td>3</td>\n",
              "        </tr>\n",
              "        <tr>\n",
              "            <td>Kentucky</td>\n",
              "            <td>3</td>\n",
              "        </tr>\n",
              "        <tr>\n",
              "            <td>Florida</td>\n",
              "            <td>3</td>\n",
              "        </tr>\n",
              "        <tr>\n",
              "            <td>Arkansas</td>\n",
              "            <td>3</td>\n",
              "        </tr>\n",
              "        <tr>\n",
              "            <td>Texas</td>\n",
              "            <td>2</td>\n",
              "        </tr>\n",
              "        <tr>\n",
              "            <td>South Carolina</td>\n",
              "            <td>2</td>\n",
              "        </tr>\n",
              "        <tr>\n",
              "            <td>Ohio</td>\n",
              "            <td>2</td>\n",
              "        </tr>\n",
              "        <tr>\n",
              "            <td>North Dakota</td>\n",
              "            <td>2</td>\n",
              "        </tr>\n",
              "        <tr>\n",
              "            <td>North Carolina</td>\n",
              "            <td>2</td>\n",
              "        </tr>\n",
              "        <tr>\n",
              "            <td>New York</td>\n",
              "            <td>2</td>\n",
              "        </tr>\n",
              "        <tr>\n",
              "            <td>New Mexico</td>\n",
              "            <td>2</td>\n",
              "        </tr>\n",
              "        <tr>\n",
              "            <td>Michigan</td>\n",
              "            <td>2</td>\n",
              "        </tr>\n",
              "        <tr>\n",
              "            <td>Delaware</td>\n",
              "            <td>2</td>\n",
              "        </tr>\n",
              "        <tr>\n",
              "            <td>Colorado</td>\n",
              "            <td>2</td>\n",
              "        </tr>\n",
              "        <tr>\n",
              "            <td>Utah</td>\n",
              "            <td>1</td>\n",
              "        </tr>\n",
              "        <tr>\n",
              "            <td>Tennessee</td>\n",
              "            <td>1</td>\n",
              "        </tr>\n",
              "        <tr>\n",
              "            <td>Pennsylvania</td>\n",
              "            <td>1</td>\n",
              "        </tr>\n",
              "        <tr>\n",
              "            <td>Oregon</td>\n",
              "            <td>1</td>\n",
              "        </tr>\n",
              "        <tr>\n",
              "            <td>Nevada</td>\n",
              "            <td>1</td>\n",
              "        </tr>\n",
              "        <tr>\n",
              "            <td>Nebraska</td>\n",
              "            <td>1</td>\n",
              "        </tr>\n",
              "        <tr>\n",
              "            <td>Montana</td>\n",
              "            <td>1</td>\n",
              "        </tr>\n",
              "        <tr>\n",
              "            <td>Mississippi</td>\n",
              "            <td>1</td>\n",
              "        </tr>\n",
              "        <tr>\n",
              "            <td>Louisiana</td>\n",
              "            <td>1</td>\n",
              "        </tr>\n",
              "        <tr>\n",
              "            <td>Kansas</td>\n",
              "            <td>1</td>\n",
              "        </tr>\n",
              "        <tr>\n",
              "            <td>Idaho</td>\n",
              "            <td>1</td>\n",
              "        </tr>\n",
              "        <tr>\n",
              "            <td>Georgia</td>\n",
              "            <td>1</td>\n",
              "        </tr>\n",
              "        <tr>\n",
              "            <td>Alabama</td>\n",
              "            <td>1</td>\n",
              "        </tr>\n",
              "    </tbody>\n",
              "</table>"
            ]
          },
          "metadata": {},
          "execution_count": 18
        }
      ],
      "source": [
        "%%sql\n",
        "\n",
        "SELECT state, COUNT(*) / COUNT(DISTINCT user_id) AS num_tweets_norm\n",
        "FROM tweets\n",
        "GROUP BY state\n",
        "ORDER BY num_tweets_norm DESC;"
      ]
    }
  ],
  "metadata": {
    "kernelspec": {
      "display_name": "Python 3",
      "language": "python",
      "name": "python3"
    },
    "language_info": {
      "codemirror_mode": {
        "name": "ipython",
        "version": 3
      },
      "file_extension": ".py",
      "mimetype": "text/x-python",
      "name": "python",
      "nbconvert_exporter": "python",
      "pygments_lexer": "ipython3",
      "version": "3.8.8"
    },
    "colab": {
      "provenance": [],
      "toc_visible": true,
      "include_colab_link": true
    }
  },
  "nbformat": 4,
  "nbformat_minor": 0
}