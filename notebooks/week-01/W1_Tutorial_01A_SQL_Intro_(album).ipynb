{
  "cells": [
    {
      "cell_type": "markdown",
      "metadata": {
        "id": "view-in-github",
        "colab_type": "text"
      },
      "source": [
        "<a href=\"https://colab.research.google.com/github/CompPsychology/psych290_colab_public/blob/main/notebooks/week-01/W1_Tutorial_01A_SQL_Intro_(album).ipynb\" target=\"_parent\"><img src=\"https://colab.research.google.com/assets/colab-badge.svg\" alt=\"Open In Colab\"/></a>"
      ]
    },
    {
      "cell_type": "markdown",
      "id": "34137484",
      "metadata": {
        "id": "34137484"
      },
      "source": [
        "# W1 Tutorial 1A -- Introduction to SQL (DB: album) (2025-03)\n",
        "\n",
        "(c) Johannes Eichstaedt & the World Well-Being Project, 2023.\n",
        "\n",
        "✋🏻✋🏻 NOTE - You need to create a copy of this notebook before you work through it. Click on \"Save a copy in Drive\" option in the File menu, and safe it to your Google Drive."
      ]
    },
    {
      "cell_type": "markdown",
      "id": "1ac36056",
      "metadata": {
        "id": "1ac36056"
      },
      "source": [
        "Welcome to our first tutorial. Here we will learn the basics of SQL, the Structured Query Language to read, manipulate, summarize and write from databases. Below is a table of contents.\n",
        "\n",
        "**FYI:** you can execute a cell by hitting `CTRL+Enter` (Win) or `Command+Enter` (Mac).   \n",
        "`Shift+Enter` or `Command+Enter` will execute + advance to the cell below.\n",
        "\n",
        "Please execute every cell as you go along.\n",
        "\n",
        "**FYI:**\n",
        "* 🤓🤓🤓 comparisons with the tidyverse are flagged with the triple nerd  \n",
        "* 🐬🐬🐬 when there is code that runs in MySQL but not in SQLite, this is marked with the triple dolphin"
      ]
    },
    {
      "cell_type": "markdown",
      "source": [
        "## 1) Setting up Colab with DLATK and SQLite\n",
        "\n",
        "This tutorial begins by setting up DLATK in the Colab environment. The next couple of subsections do this for you.\n",
        "\n",
        "You don't need to understand or follow along with the code -- it uses git (as in GitHub) to pull the code fromt the cloud and install it (with `pip`).\n",
        "\n",
        "This will take ~1.5 to 2 minutes. If colab asks you about this not being authored by Google, say \"Run anyway.\""
      ],
      "metadata": {
        "id": "3dmRJoCleD4_"
      },
      "id": "3dmRJoCleD4_"
    },
    {
      "cell_type": "markdown",
      "source": [],
      "metadata": {
        "id": "mWHgThRlyxUx"
      },
      "id": "mWHgThRlyxUx"
    },
    {
      "cell_type": "markdown",
      "source": [
        "### 1a) Install packages"
      ],
      "metadata": {
        "id": "h_bdneOWet61"
      },
      "id": "h_bdneOWet61"
    },
    {
      "cell_type": "code",
      "source": [
        "#We first install the necessary packages and then download the dataset.\n",
        "\n",
        "#This cell does it for you.\n",
        "\n",
        "# installing DLATK and necessary packages\n",
        "!git clone -b psych290 https://github.com/dlatk/dlatk.git\n",
        "!pip install dlatk/\n",
        "!pip install jupysql\n",
        "\n",
        "!git clone https://github.com/CompPsychology/album.git"
      ],
      "metadata": {
        "id": "BBOLv6P-0cIf",
        "outputId": "2c441069-e2b6-44ef-fe6e-08ebef9879ec",
        "colab": {
          "base_uri": "https://localhost:8080/"
        }
      },
      "id": "BBOLv6P-0cIf",
      "execution_count": null,
      "outputs": [
        {
          "output_type": "stream",
          "name": "stdout",
          "text": [
            "Cloning into 'dlatk'...\n",
            "remote: Enumerating objects: 6975, done.\u001b[K\n",
            "remote: Counting objects: 100% (1063/1063), done.\u001b[K\n",
            "remote: Compressing objects: 100% (138/138), done.\u001b[K\n",
            "remote: Total 6975 (delta 987), reused 930 (delta 925), pack-reused 5912 (from 1)\u001b[K\n",
            "Receiving objects: 100% (6975/6975), 62.36 MiB | 18.09 MiB/s, done.\n",
            "Resolving deltas: 100% (4940/4940), done.\n",
            "Processing ./dlatk\n",
            "  Preparing metadata (setup.py) ... \u001b[?25l\u001b[?25hdone\n",
            "Requirement already satisfied: nltk<=3.9.1,>=3.1 in /usr/local/lib/python3.11/dist-packages (from dlatk==1.3.1) (3.9.1)\n",
            "Requirement already satisfied: numpy<=2.0.2 in /usr/local/lib/python3.11/dist-packages (from dlatk==1.3.1) (2.0.2)\n",
            "Requirement already satisfied: pandas<=2.2.2,>=0.17.1 in /usr/local/lib/python3.11/dist-packages (from dlatk==1.3.1) (2.2.2)\n",
            "Requirement already satisfied: patsy<=1.0.1,>=0.2.1 in /usr/local/lib/python3.11/dist-packages (from dlatk==1.3.1) (1.0.1)\n",
            "Requirement already satisfied: python-dateutil<=2.8.2,>=2.5.0 in /usr/local/lib/python3.11/dist-packages (from dlatk==1.3.1) (2.8.2)\n",
            "Requirement already satisfied: scikit-learn<=1.6.1 in /usr/local/lib/python3.11/dist-packages (from dlatk==1.3.1) (1.6.1)\n",
            "Requirement already satisfied: scipy<=1.14.1,>=0.13.3 in /usr/local/lib/python3.11/dist-packages (from dlatk==1.3.1) (1.14.1)\n",
            "Requirement already satisfied: statsmodels<=0.14.4,>=0.5.0 in /usr/local/lib/python3.11/dist-packages (from dlatk==1.3.1) (0.14.4)\n",
            "Requirement already satisfied: click in /usr/local/lib/python3.11/dist-packages (from nltk<=3.9.1,>=3.1->dlatk==1.3.1) (8.1.8)\n",
            "Requirement already satisfied: joblib in /usr/local/lib/python3.11/dist-packages (from nltk<=3.9.1,>=3.1->dlatk==1.3.1) (1.4.2)\n",
            "Requirement already satisfied: regex>=2021.8.3 in /usr/local/lib/python3.11/dist-packages (from nltk<=3.9.1,>=3.1->dlatk==1.3.1) (2024.11.6)\n",
            "Requirement already satisfied: tqdm in /usr/local/lib/python3.11/dist-packages (from nltk<=3.9.1,>=3.1->dlatk==1.3.1) (4.67.1)\n",
            "Requirement already satisfied: pytz>=2020.1 in /usr/local/lib/python3.11/dist-packages (from pandas<=2.2.2,>=0.17.1->dlatk==1.3.1) (2025.2)\n",
            "Requirement already satisfied: tzdata>=2022.7 in /usr/local/lib/python3.11/dist-packages (from pandas<=2.2.2,>=0.17.1->dlatk==1.3.1) (2025.2)\n",
            "Requirement already satisfied: six>=1.5 in /usr/local/lib/python3.11/dist-packages (from python-dateutil<=2.8.2,>=2.5.0->dlatk==1.3.1) (1.17.0)\n",
            "Requirement already satisfied: threadpoolctl>=3.1.0 in /usr/local/lib/python3.11/dist-packages (from scikit-learn<=1.6.1->dlatk==1.3.1) (3.6.0)\n",
            "Requirement already satisfied: packaging>=21.3 in /usr/local/lib/python3.11/dist-packages (from statsmodels<=0.14.4,>=0.5.0->dlatk==1.3.1) (24.2)\n",
            "Building wheels for collected packages: dlatk\n",
            "  Building wheel for dlatk (setup.py) ... \u001b[?25l\u001b[?25hdone\n",
            "  Created wheel for dlatk: filename=dlatk-1.3.1-py3-none-any.whl size=35635829 sha256=a2e740f9c363d6361f33b873888db9ba0d632e1c38be621c90f398a1ff30a314\n",
            "  Stored in directory: /tmp/pip-ephem-wheel-cache-a8j7whex/wheels/cc/c9/65/e1ecc64bac68518c07b286fe86921aa938e11a0c3a87d8ff93\n",
            "Successfully built dlatk\n",
            "Installing collected packages: dlatk\n",
            "Successfully installed dlatk-1.3.1\n",
            "Collecting jupysql\n",
            "  Downloading jupysql-0.11.1-py3-none-any.whl.metadata (5.9 kB)\n",
            "Requirement already satisfied: prettytable>=3.12.0 in /usr/local/lib/python3.11/dist-packages (from jupysql) (3.16.0)\n",
            "Requirement already satisfied: sqlalchemy in /usr/local/lib/python3.11/dist-packages (from jupysql) (2.0.40)\n",
            "Requirement already satisfied: sqlparse in /usr/local/lib/python3.11/dist-packages (from jupysql) (0.5.3)\n",
            "Requirement already satisfied: ipython-genutils>=0.1.0 in /usr/local/lib/python3.11/dist-packages (from jupysql) (0.2.0)\n",
            "Requirement already satisfied: jinja2 in /usr/local/lib/python3.11/dist-packages (from jupysql) (3.1.6)\n",
            "Requirement already satisfied: sqlglot>=11.3.7 in /usr/local/lib/python3.11/dist-packages (from jupysql) (25.20.2)\n",
            "Collecting jupysql-plugin>=0.4.2 (from jupysql)\n",
            "  Downloading jupysql_plugin-0.4.5-py3-none-any.whl.metadata (7.8 kB)\n",
            "Collecting ploomber-core>=0.2.7 (from jupysql)\n",
            "  Downloading ploomber_core-0.2.26-py3-none-any.whl.metadata (527 bytes)\n",
            "Requirement already satisfied: pyyaml in /usr/local/lib/python3.11/dist-packages (from ploomber-core>=0.2.7->jupysql) (6.0.2)\n",
            "Collecting posthog (from ploomber-core>=0.2.7->jupysql)\n",
            "  Downloading posthog-3.23.0-py2.py3-none-any.whl.metadata (3.0 kB)\n",
            "Requirement already satisfied: wcwidth in /usr/local/lib/python3.11/dist-packages (from prettytable>=3.12.0->jupysql) (0.2.13)\n",
            "Requirement already satisfied: MarkupSafe>=2.0 in /usr/local/lib/python3.11/dist-packages (from jinja2->jupysql) (3.0.2)\n",
            "Requirement already satisfied: greenlet>=1 in /usr/local/lib/python3.11/dist-packages (from sqlalchemy->jupysql) (3.1.1)\n",
            "Requirement already satisfied: typing-extensions>=4.6.0 in /usr/local/lib/python3.11/dist-packages (from sqlalchemy->jupysql) (4.13.0)\n",
            "Requirement already satisfied: requests<3.0,>=2.7 in /usr/local/lib/python3.11/dist-packages (from posthog->ploomber-core>=0.2.7->jupysql) (2.32.3)\n",
            "Requirement already satisfied: six>=1.5 in /usr/local/lib/python3.11/dist-packages (from posthog->ploomber-core>=0.2.7->jupysql) (1.17.0)\n",
            "Collecting monotonic>=1.5 (from posthog->ploomber-core>=0.2.7->jupysql)\n",
            "  Downloading monotonic-1.6-py2.py3-none-any.whl.metadata (1.5 kB)\n",
            "Collecting backoff>=1.10.0 (from posthog->ploomber-core>=0.2.7->jupysql)\n",
            "  Downloading backoff-2.2.1-py3-none-any.whl.metadata (14 kB)\n",
            "Requirement already satisfied: python-dateutil>2.1 in /usr/local/lib/python3.11/dist-packages (from posthog->ploomber-core>=0.2.7->jupysql) (2.8.2)\n",
            "Requirement already satisfied: distro>=1.5.0 in /usr/local/lib/python3.11/dist-packages (from posthog->ploomber-core>=0.2.7->jupysql) (1.9.0)\n",
            "Requirement already satisfied: charset-normalizer<4,>=2 in /usr/local/lib/python3.11/dist-packages (from requests<3.0,>=2.7->posthog->ploomber-core>=0.2.7->jupysql) (3.4.1)\n",
            "Requirement already satisfied: idna<4,>=2.5 in /usr/local/lib/python3.11/dist-packages (from requests<3.0,>=2.7->posthog->ploomber-core>=0.2.7->jupysql) (3.10)\n",
            "Requirement already satisfied: urllib3<3,>=1.21.1 in /usr/local/lib/python3.11/dist-packages (from requests<3.0,>=2.7->posthog->ploomber-core>=0.2.7->jupysql) (2.3.0)\n",
            "Requirement already satisfied: certifi>=2017.4.17 in /usr/local/lib/python3.11/dist-packages (from requests<3.0,>=2.7->posthog->ploomber-core>=0.2.7->jupysql) (2025.1.31)\n",
            "Downloading jupysql-0.11.1-py3-none-any.whl (95 kB)\n",
            "\u001b[2K   \u001b[90m━━━━━━━━━━━━━━━━━━━━━━━━━━━━━━━━━━━━━━━━\u001b[0m \u001b[32m95.1/95.1 kB\u001b[0m \u001b[31m2.3 MB/s\u001b[0m eta \u001b[36m0:00:00\u001b[0m\n",
            "\u001b[?25hDownloading jupysql_plugin-0.4.5-py3-none-any.whl (192 kB)\n",
            "\u001b[2K   \u001b[90m━━━━━━━━━━━━━━━━━━━━━━━━━━━━━━━━━━━━━━━━\u001b[0m \u001b[32m192.8/192.8 kB\u001b[0m \u001b[31m8.0 MB/s\u001b[0m eta \u001b[36m0:00:00\u001b[0m\n",
            "\u001b[?25hDownloading ploomber_core-0.2.26-py3-none-any.whl (22 kB)\n",
            "Downloading posthog-3.23.0-py2.py3-none-any.whl (84 kB)\n",
            "\u001b[2K   \u001b[90m━━━━━━━━━━━━━━━━━━━━━━━━━━━━━━━━━━━━━━━━\u001b[0m \u001b[32m85.0/85.0 kB\u001b[0m \u001b[31m5.9 MB/s\u001b[0m eta \u001b[36m0:00:00\u001b[0m\n",
            "\u001b[?25hDownloading backoff-2.2.1-py3-none-any.whl (15 kB)\n",
            "Downloading monotonic-1.6-py2.py3-none-any.whl (8.2 kB)\n",
            "Installing collected packages: monotonic, backoff, posthog, ploomber-core, jupysql-plugin, jupysql\n",
            "Successfully installed backoff-2.2.1 jupysql-0.11.1 jupysql-plugin-0.4.5 monotonic-1.6 ploomber-core-0.2.26 posthog-3.23.0\n",
            "Cloning into 'album'...\n",
            "remote: Enumerating objects: 8, done.\u001b[K\n",
            "remote: Counting objects: 100% (8/8), done.\u001b[K\n",
            "remote: Compressing objects: 100% (6/6), done.\u001b[K\n",
            "remote: Total 8 (delta 0), reused 5 (delta 0), pack-reused 0 (from 0)\u001b[K\n",
            "Receiving objects: 100% (8/8), done.\n"
          ]
        }
      ]
    },
    {
      "cell_type": "markdown",
      "source": [
        "### 1b) Download data and insert into SQLite database"
      ],
      "metadata": {
        "id": "RoiXZeF8ezYm"
      },
      "id": "RoiXZeF8ezYm"
    },
    {
      "cell_type": "code",
      "source": [
        "# this download the album csvs we need for this tutorial\n",
        "!git clone https://github.com/CompPsychology/album.git"
      ],
      "metadata": {
        "id": "GeghsdOGdzyw",
        "colab": {
          "base_uri": "https://localhost:8080/"
        },
        "outputId": "8b56d2dd-ced9-4dde-9f38-57cfff1dfbff"
      },
      "id": "GeghsdOGdzyw",
      "execution_count": null,
      "outputs": [
        {
          "output_type": "stream",
          "name": "stdout",
          "text": [
            "fatal: destination path 'album' already exists and is not an empty directory.\n"
          ]
        }
      ]
    },
    {
      "cell_type": "markdown",
      "id": "1eac4ada",
      "metadata": {
        "id": "1eac4ada"
      },
      "source": [
        "Now that you have set up Colab, create a `username` variable which we use to name the database for the rest of the tutorial."
      ]
    },
    {
      "cell_type": "code",
      "source": [
        "username = \"your_name\""
      ],
      "metadata": {
        "id": "DQQ1o-f3m-j8"
      },
      "id": "DQQ1o-f3m-j8",
      "execution_count": null,
      "outputs": []
    },
    {
      "cell_type": "markdown",
      "source": [
        "If you want to read out any Python, you can just enter it in a code cell -- for example:"
      ],
      "metadata": {
        "id": "krp0s-x6pZC1"
      },
      "id": "krp0s-x6pZC1"
    },
    {
      "cell_type": "code",
      "source": [
        "username"
      ],
      "metadata": {
        "id": "AGYKBskdpcr-",
        "colab": {
          "base_uri": "https://localhost:8080/",
          "height": 35
        },
        "outputId": "0a487d3a-30b2-4f43-a75e-6978a77d13b6"
      },
      "id": "AGYKBskdpcr-",
      "execution_count": null,
      "outputs": [
        {
          "output_type": "execute_result",
          "data": {
            "text/plain": [
              "'your_name'"
            ],
            "application/vnd.google.colaboratory.intrinsic+json": {
              "type": "string"
            }
          },
          "metadata": {},
          "execution_count": 9
        }
      ]
    },
    {
      "cell_type": "markdown",
      "source": [
        "We then load the downloaded data into a database named [username].db in the sqlite_data folder."
      ],
      "metadata": {
        "id": "Uy-o-KCqpis6"
      },
      "id": "Uy-o-KCqpis6"
    },
    {
      "cell_type": "code",
      "source": [
        "# load the required package -- similar to library() function in R\n",
        "import os\n",
        "from dlatk.tools.importmethods import csvToSQLite\n",
        "\n",
        "# store the complete path to the database -- sqlite_data/[username].db\n",
        "database = os.path.join(\"sqlite_data\", username)\n",
        "\n",
        "# import CSVs into tables in this database\n",
        "csvToSQLite(\n",
        "    \"album/data/album.csv\",\n",
        "    database,\n",
        "    \"album\"\n",
        ")\n",
        "\n",
        "csvToSQLite(\n",
        "    \"album/data/track.csv\",\n",
        "    database,\n",
        "    \"track\"\n",
        ")"
      ],
      "metadata": {
        "id": "rIGSacbpk3Hw",
        "outputId": "5a30fdd2-33de-452e-e39d-4eb34d8dd6f5",
        "colab": {
          "base_uri": "https://localhost:8080/"
        }
      },
      "id": "rIGSacbpk3Hw",
      "execution_count": null,
      "outputs": [
        {
          "output_type": "stream",
          "name": "stdout",
          "text": [
            "Importing data, reading album/data/album.csv file\n",
            "Reading remaining 7 rows into the table...\n",
            "Importing data, reading album/data/track.csv file\n",
            "Reading remaining 63 rows into the table...\n"
          ]
        },
        {
          "output_type": "stream",
          "name": "stderr",
          "text": [
            "SQL Query: CREATE TABLE album (id INT, title VARCHAR(31), artist VARCHAR(63), label VARCHAR(15), released VARCHAR(15));\n",
            "SQL Query: CREATE TABLE track (id INT, album_id INT, title VARCHAR(63), track_number INT, duration INT);\n"
          ]
        }
      ]
    },
    {
      "cell_type": "markdown",
      "source": [
        "### 1c) Setup database connection"
      ],
      "metadata": {
        "id": "2u6O5Zwdewd4"
      },
      "id": "2u6O5Zwdewd4"
    },
    {
      "cell_type": "markdown",
      "source": [
        "Finally, we establish a connection with the (SQLite) database with the `%sql` extension from colab."
      ],
      "metadata": {
        "id": "QYtoqPvgpnmy"
      },
      "id": "QYtoqPvgpnmy"
    },
    {
      "cell_type": "code",
      "source": [
        "# loads the %%sql extension\n",
        "%load_ext sql\n",
        "\n",
        "# connects the extension to the database\n",
        "from sqlalchemy import create_engine\n",
        "engine = create_engine(f\"sqlite:///sqlite_data/{username}.db?charset=utf8mb4\")\n",
        "%sql engine\n",
        "\n",
        "#set the output limit to 50\n",
        "%config SqlMagic.displaylimit = 50"
      ],
      "metadata": {
        "id": "BMB3WwaBeQgT",
        "colab": {
          "base_uri": "https://localhost:8080/"
        },
        "outputId": "16a23fc1-7f9e-423f-ef09-2fd5f095c9f4"
      },
      "id": "BMB3WwaBeQgT",
      "execution_count": null,
      "outputs": [
        {
          "output_type": "stream",
          "name": "stdout",
          "text": [
            "The sql extension is already loaded. To reload it, use:\n",
            "  %reload_ext sql\n"
          ]
        }
      ]
    },
    {
      "cell_type": "markdown",
      "id": "8ae462a2",
      "metadata": {
        "id": "8ae462a2"
      },
      "source": [
        "## 2) Introduction to SQL <a class=\"anchor\" id=\"intro\"></a>"
      ]
    },
    {
      "cell_type": "markdown",
      "id": "1afce6a4",
      "metadata": {
        "id": "1afce6a4"
      },
      "source": [
        "**CRUD** refers to the four necessary functions to implement a storage application: **create, read, update and delete**.\n",
        "\n",
        "In fact, **Read** in **C.R.U.D** is the most common set of operations performed on a database in general. That's what we'll start with.\n",
        "\n",
        "Lets learn how to read out meta-data about our tables and such."
      ]
    },
    {
      "cell_type": "markdown",
      "id": "453c2e2b",
      "metadata": {
        "id": "453c2e2b"
      },
      "source": [
        "### 2a) Listing tables (MySQL: `SHOW` statement)"
      ]
    },
    {
      "cell_type": "markdown",
      "id": "a252ee33",
      "metadata": {
        "id": "a252ee33"
      },
      "source": [
        "Once we set up in a database, our next step is usually is to list the tables inside. The 🐬🐬🐬 **SHOW** statement does that for us in MySQL.\n",
        "\n",
        "```\n",
        "🐬🐬🐬\n",
        "SHOW tables\n",
        "🐬🐬🐬\n",
        "```\n",
        "\n",
        "Since we are using SQLite we can do the same things with the `tables` command. Let's list the tables in the `Username` database that we are connected to.\n",
        "\n",
        "**NOTE:** `%sqlcmd` is a Colab extension that allows us to run such meta-data commands."
      ]
    },
    {
      "cell_type": "code",
      "execution_count": null,
      "id": "f9f29ea4",
      "metadata": {
        "id": "f9f29ea4",
        "outputId": "05c97a70-df0a-49f9-8164-c892a06b04a6",
        "colab": {
          "base_uri": "https://localhost:8080/",
          "height": 83
        }
      },
      "outputs": [
        {
          "output_type": "execute_result",
          "data": {
            "text/plain": [
              "+-------+\n",
              "|  Name |\n",
              "+-------+\n",
              "| album |\n",
              "| track |\n",
              "+-------+"
            ],
            "text/html": [
              "<table>\n",
              "    <thead>\n",
              "        <tr>\n",
              "            <th>Name</th>\n",
              "        </tr>\n",
              "    </thead>\n",
              "    <tbody>\n",
              "        <tr>\n",
              "            <td>album</td>\n",
              "        </tr>\n",
              "        <tr>\n",
              "            <td>track</td>\n",
              "        </tr>\n",
              "    </tbody>\n",
              "</table>"
            ]
          },
          "metadata": {},
          "execution_count": 13
        }
      ],
      "source": [
        "%sqlcmd tables"
      ]
    },
    {
      "cell_type": "markdown",
      "source": [
        "For slightly neater output"
      ],
      "metadata": {
        "id": "myDrVzJIVS1P"
      },
      "id": "myDrVzJIVS1P"
    },
    {
      "cell_type": "code",
      "source": [
        "result = %sqlcmd tables\n",
        "# the print function in Python will make the output prettier\n",
        "print(result)"
      ],
      "metadata": {
        "id": "MjdE4L2gVQBC",
        "outputId": "70f7f032-dd40-4d2b-d0fc-0d5e8ac75d72",
        "colab": {
          "base_uri": "https://localhost:8080/"
        }
      },
      "id": "MjdE4L2gVQBC",
      "execution_count": null,
      "outputs": [
        {
          "output_type": "stream",
          "name": "stdout",
          "text": [
            "+-------+\n",
            "|  Name |\n",
            "+-------+\n",
            "| album |\n",
            "| track |\n",
            "+-------+\n"
          ]
        }
      ]
    },
    {
      "cell_type": "markdown",
      "id": "46d2b04c",
      "metadata": {
        "id": "46d2b04c"
      },
      "source": [
        "### 2b) FYI only: showing and selecting databases\n",
        "\n",
        "In this notebook, we use SQLite to connect to a specified database -- as we do at the very top of the notebook, in this command:\n",
        "\n",
        "```\n",
        "engine = create_engine(f\"sqlite:///sqlite_data/{username}.db?charset=utf8mb4\")\n",
        "```\n",
        "\n",
        "However, in other flavours of SQL, say MySQL, you can specify one of potentially many databases on the fly.\n",
        "\n",
        "The **USE** statement specifies the database you intend to use.\n",
        "\n",
        "```\n",
        "🐬🐬🐬\n",
        "USE [database]\n",
        "🐬🐬🐬\n",
        "```"
      ]
    },
    {
      "cell_type": "markdown",
      "id": "3c0b3305",
      "metadata": {
        "id": "3c0b3305"
      },
      "source": [
        "In MySQL, we can use **SHOW** to show all databases we have access to.\n",
        "\n",
        "```\n",
        "🐬🐬🐬\n",
        "SHOW databases\n",
        "🐬🐬🐬\n",
        "```"
      ]
    },
    {
      "cell_type": "markdown",
      "source": [
        "### 2c) Reading table meta-data"
      ],
      "metadata": {
        "id": "ap9QiV6H0LZE"
      },
      "id": "ap9QiV6H0LZE"
    },
    {
      "cell_type": "markdown",
      "id": "8323c7bb",
      "metadata": {
        "id": "8323c7bb"
      },
      "source": [
        "The goal is to see all the columns in a table, and their datatypes. In case of MySQL the 🐬🐬🐬 **DESCRIBE** statement does this:\n",
        "\n",
        " ```\n",
        "🐬🐬🐬\n",
        "DESCRIBE [table]\n",
        "🐬🐬🐬\n",
        "```\n",
        "\n",
        "\n",
        "SQLite requires us to use a workaround. The command is called\n",
        "\n",
        "```\n",
        "PRAGMA table_info([TABLE_NAME])`.\n",
        "```\n",
        "\n",
        "`PRAGMA` is a SQLite statement that allows us to run meta commands like `table_info()`.\n",
        "\n",
        "**NOTE**\n",
        "* SQLite and MySQL commands are case insensitive, however we maintain uppercase throughout this tutorial so that we can make a habit of it as case insensitivity is not consistent across types of SQL (e.g., MySQL vs. Microsoft's T-SQL), and also help to read the code more easily.\n",
        "\n",
        "Let's run the PRAGMA command within a %%SQL block:"
      ]
    },
    {
      "cell_type": "code",
      "execution_count": null,
      "id": "f2c902fa",
      "metadata": {
        "id": "f2c902fa",
        "outputId": "2c7bdb39-eb10-4319-c24e-e726f4afc818",
        "colab": {
          "base_uri": "https://localhost:8080/",
          "height": 165
        }
      },
      "outputs": [
        {
          "output_type": "display_data",
          "data": {
            "text/plain": [
              "Running query in 'sqlite:///sqlite_data/your_name.db?charset=utf8mb4'"
            ],
            "text/html": [
              "<span style=\"None\">Running query in &#x27;sqlite:///sqlite_data/your_name.db?charset=utf8mb4&#x27;</span>"
            ]
          },
          "metadata": {}
        },
        {
          "output_type": "execute_result",
          "data": {
            "text/plain": [
              "+-----+----------+-------------+---------+------------+----+\n",
              "| cid |   name   |     type    | notnull | dflt_value | pk |\n",
              "+-----+----------+-------------+---------+------------+----+\n",
              "|  0  |    id    |     INT     |    0    |    None    | 0  |\n",
              "|  1  |  title   | VARCHAR(31) |    0    |    None    | 0  |\n",
              "|  2  |  artist  | VARCHAR(63) |    0    |    None    | 0  |\n",
              "|  3  |  label   | VARCHAR(15) |    0    |    None    | 0  |\n",
              "|  4  | released | VARCHAR(15) |    0    |    None    | 0  |\n",
              "+-----+----------+-------------+---------+------------+----+"
            ],
            "text/html": [
              "<table>\n",
              "    <thead>\n",
              "        <tr>\n",
              "            <th>cid</th>\n",
              "            <th>name</th>\n",
              "            <th>type</th>\n",
              "            <th>notnull</th>\n",
              "            <th>dflt_value</th>\n",
              "            <th>pk</th>\n",
              "        </tr>\n",
              "    </thead>\n",
              "    <tbody>\n",
              "        <tr>\n",
              "            <td>0</td>\n",
              "            <td>id</td>\n",
              "            <td>INT</td>\n",
              "            <td>0</td>\n",
              "            <td>None</td>\n",
              "            <td>0</td>\n",
              "        </tr>\n",
              "        <tr>\n",
              "            <td>1</td>\n",
              "            <td>title</td>\n",
              "            <td>VARCHAR(31)</td>\n",
              "            <td>0</td>\n",
              "            <td>None</td>\n",
              "            <td>0</td>\n",
              "        </tr>\n",
              "        <tr>\n",
              "            <td>2</td>\n",
              "            <td>artist</td>\n",
              "            <td>VARCHAR(63)</td>\n",
              "            <td>0</td>\n",
              "            <td>None</td>\n",
              "            <td>0</td>\n",
              "        </tr>\n",
              "        <tr>\n",
              "            <td>3</td>\n",
              "            <td>label</td>\n",
              "            <td>VARCHAR(15)</td>\n",
              "            <td>0</td>\n",
              "            <td>None</td>\n",
              "            <td>0</td>\n",
              "        </tr>\n",
              "        <tr>\n",
              "            <td>4</td>\n",
              "            <td>released</td>\n",
              "            <td>VARCHAR(15)</td>\n",
              "            <td>0</td>\n",
              "            <td>None</td>\n",
              "            <td>0</td>\n",
              "        </tr>\n",
              "    </tbody>\n",
              "</table>"
            ]
          },
          "metadata": {},
          "execution_count": 15
        }
      ],
      "source": [
        "%%sql\n",
        "\n",
        "PRAGMA table_info(album);"
      ]
    },
    {
      "cell_type": "markdown",
      "id": "3555e40c",
      "metadata": {
        "id": "3555e40c"
      },
      "source": [
        "#### 👩‍🔬💻 Exercise\n",
        "\n",
        "In the field below, can you show the columns from the track table?"
      ]
    },
    {
      "cell_type": "code",
      "execution_count": null,
      "id": "d17c4fd3",
      "metadata": {
        "id": "d17c4fd3",
        "outputId": "d28bfb6a-6cde-4f15-dc38-50b820ae25fe",
        "colab": {
          "base_uri": "https://localhost:8080/",
          "height": 165
        }
      },
      "outputs": [
        {
          "output_type": "display_data",
          "data": {
            "text/plain": [
              "Running query in 'sqlite:///sqlite_data/your_name.db?charset=utf8mb4'"
            ],
            "text/html": [
              "<span style=\"None\">Running query in &#x27;sqlite:///sqlite_data/your_name.db?charset=utf8mb4&#x27;</span>"
            ]
          },
          "metadata": {}
        },
        {
          "output_type": "execute_result",
          "data": {
            "text/plain": [
              "+-----+--------------+-------------+---------+------------+----+\n",
              "| cid |     name     |     type    | notnull | dflt_value | pk |\n",
              "+-----+--------------+-------------+---------+------------+----+\n",
              "|  0  |      id      |     INT     |    0    |    None    | 0  |\n",
              "|  1  |   album_id   |     INT     |    0    |    None    | 0  |\n",
              "|  2  |    title     | VARCHAR(63) |    0    |    None    | 0  |\n",
              "|  3  | track_number |     INT     |    0    |    None    | 0  |\n",
              "|  4  |   duration   |     INT     |    0    |    None    | 0  |\n",
              "+-----+--------------+-------------+---------+------------+----+"
            ],
            "text/html": [
              "<table>\n",
              "    <thead>\n",
              "        <tr>\n",
              "            <th>cid</th>\n",
              "            <th>name</th>\n",
              "            <th>type</th>\n",
              "            <th>notnull</th>\n",
              "            <th>dflt_value</th>\n",
              "            <th>pk</th>\n",
              "        </tr>\n",
              "    </thead>\n",
              "    <tbody>\n",
              "        <tr>\n",
              "            <td>0</td>\n",
              "            <td>id</td>\n",
              "            <td>INT</td>\n",
              "            <td>0</td>\n",
              "            <td>None</td>\n",
              "            <td>0</td>\n",
              "        </tr>\n",
              "        <tr>\n",
              "            <td>1</td>\n",
              "            <td>album_id</td>\n",
              "            <td>INT</td>\n",
              "            <td>0</td>\n",
              "            <td>None</td>\n",
              "            <td>0</td>\n",
              "        </tr>\n",
              "        <tr>\n",
              "            <td>2</td>\n",
              "            <td>title</td>\n",
              "            <td>VARCHAR(63)</td>\n",
              "            <td>0</td>\n",
              "            <td>None</td>\n",
              "            <td>0</td>\n",
              "        </tr>\n",
              "        <tr>\n",
              "            <td>3</td>\n",
              "            <td>track_number</td>\n",
              "            <td>INT</td>\n",
              "            <td>0</td>\n",
              "            <td>None</td>\n",
              "            <td>0</td>\n",
              "        </tr>\n",
              "        <tr>\n",
              "            <td>4</td>\n",
              "            <td>duration</td>\n",
              "            <td>INT</td>\n",
              "            <td>0</td>\n",
              "            <td>None</td>\n",
              "            <td>0</td>\n",
              "        </tr>\n",
              "    </tbody>\n",
              "</table>"
            ]
          },
          "metadata": {},
          "execution_count": 16
        }
      ],
      "source": [
        "%%sql\n",
        "\n"
      ]
    },
    {
      "cell_type": "markdown",
      "id": "7bc0ec01",
      "metadata": {
        "id": "7bc0ec01"
      },
      "source": [
        "#### The tables for this tutorial: `album` and `track`"
      ]
    },
    {
      "cell_type": "markdown",
      "id": "1605b71f",
      "metadata": {
        "id": "1605b71f"
      },
      "source": [
        "Ok, so we will work two main tables in the rest of this tutorial -- an `album` table that describes albums, and a `track` table that shows the tracks in those albums."
      ]
    },
    {
      "cell_type": "markdown",
      "id": "6017fb83",
      "metadata": {
        "id": "6017fb83"
      },
      "source": [
        "As shown in the results of the above queries, `album` and `track` are the two tables within the `album` database. These tables are connected through a primary key - foreign key relationship, i.e; both tables have `id` as their \"primary keys\" (these are different) and `album_id` is the \"foreign key\" in `track` (i.e., it corresponds to `id` in the album table).\n",
        "\n",
        "This is database jargon you don't totally have to know.\n",
        "\n",
        "Basically, what we are saying is that `track.album_id` = `album.id`. If you wanted to merge the tables, this would be how.\n",
        "\n",
        "But now is a good moment to talk about the **Type** column, this column encodes the data type of the colum."
      ]
    },
    {
      "cell_type": "markdown",
      "id": "e8f111f2",
      "metadata": {
        "id": "e8f111f2"
      },
      "source": [
        "## 3) Data Types"
      ]
    },
    {
      "cell_type": "markdown",
      "id": "b629f121",
      "metadata": {
        "id": "b629f121"
      },
      "source": [
        "🤓🤓🤓 R equivalent: character, numeric, date, etc\n",
        "\n",
        "MySQL supports numerous data types . However, we will discuss only the ones that we need for this course. You can always explore the additional data types supported by MySQL at https://dev.mysql.com/doc/refman/8.0/en/data-types.html."
      ]
    },
    {
      "cell_type": "markdown",
      "id": "a4e8ebdb",
      "metadata": {
        "id": "a4e8ebdb"
      },
      "source": [
        "### 3a) Numeric Data Types: INT and DOUBLE <a class=\"anchor\" id=\"ndt\"></a>"
      ]
    },
    {
      "cell_type": "markdown",
      "id": "9bf0f037",
      "metadata": {
        "id": "9bf0f037"
      },
      "source": [
        "MySQL supports integer data types like **INTEGER** (or **INT**) that occupies **4** bytes, and floating point data type **DOUBLE** that stores real numbers in **8** bytes.\n",
        "\n",
        "Integer are just numbers like 0, 1, 2...., doubles are all real numbers within some precision (e.g., 10256.4586576)\n",
        "\n",
        "Basically, if you want to just save whole numbers, you use **INT**, if you want to record something like this 3.14, use **DOUBLE**."
      ]
    },
    {
      "cell_type": "markdown",
      "id": "6882e99d",
      "metadata": {
        "id": "6882e99d"
      },
      "source": [
        "### 3b) String Data Types: VARCHAR and TEXT"
      ]
    },
    {
      "cell_type": "markdown",
      "id": "65b4a607",
      "metadata": {
        "id": "65b4a607"
      },
      "source": [
        "**VARCHAR** is the most used string data type in SQL, declared as VARCHAR(n) where n is the maximum number of characters you want to store.\n",
        "\n",
        "**TEXT** -- SQLite useS the **TEXT** which can hold strings from 1 byte to even GBs. In this case, we need not specify the length of the character and it also offers additional features when compared to 🐬🐬🐬 **VARCHAR**.\n",
        "\n",
        "**VARCHAR**s can have normal indices on them, **TEXT** fields only **FULLTEXT** indices.\n",
        "\n",
        "This makes a difference when you have big datasets. Basically, if at all possible, you want your text to be stored in **VARCHAR** fields of a certain maximum length, if you know what that is. But don't fret it.  \n",
        "\n",
        "**Note:** SQLite supports all the above datatypes. You can read more about them at [https://www.sqlite.org/datatype3.html](https://www.sqlite.org/datatype3.html).\n",
        "\n",
        "Let's look at what is contained IN the columns, not just AT the column meta data."
      ]
    },
    {
      "cell_type": "markdown",
      "id": "1dbb5963",
      "metadata": {
        "id": "1dbb5963"
      },
      "source": [
        "**VARCHAR** is the most used string data type in MySQL, declared as **VARCHAR(n)** where **n** is the maximum number of characters you want to store."
      ]
    },
    {
      "cell_type": "markdown",
      "id": "5e43a4fc",
      "metadata": {
        "id": "5e43a4fc"
      },
      "source": [
        "## 4) SELECT Statement <a class=\"anchor\" id=\"select\"></a>"
      ]
    },
    {
      "cell_type": "markdown",
      "id": "6f6c3ed2",
      "metadata": {
        "id": "6f6c3ed2"
      },
      "source": [
        "**SELECT** forms the backbone of the commands that we will execute in the course. **SELECT** is used to access particular columns, and then you can add all sorts of extras to filter and process the output further.\n",
        "\n",
        "80%+ of all SQL commands start with SELECT.\n",
        "\n",
        "The basic structure of **SELECT** statement is as shown below."
      ]
    },
    {
      "cell_type": "markdown",
      "id": "116edecd",
      "metadata": {
        "id": "116edecd"
      },
      "source": [
        "> **SELECT** **[** COLUMN1 **[** **AS** C1**]** **]**, **[** COLUMN2 **[** **AS** C2**]** **]**, ... <br/>\n",
        "> **FROM** **[** TABLE1 **[** **AS** T1**]** **]**, **[** TABLE2 **[** **AS** T2**]** **]**, ... <br/>\n",
        "> **WHERE** **[** CONDITION1 **]** **[** AND **|** OR **]** **[** CONDITION2 **]** ... <br/>"
      ]
    },
    {
      "cell_type": "markdown",
      "id": "d6f68cb0",
      "metadata": {
        "id": "d6f68cb0"
      },
      "source": [
        "We can retrieve certain columns of a tables by simply listing the required column names after the **SELECT** keyword. Let's try listing all the labels that produce albums from the *album* table.\n",
        "\n",
        "**NOTE:** The below query can be written in a single line, However, we separate the logical units of the query by dividing it into multiple lines so it's more readable.\n"
      ]
    },
    {
      "cell_type": "code",
      "execution_count": null,
      "id": "5d50baf6",
      "metadata": {
        "id": "5d50baf6",
        "outputId": "c6ffe3b6-86c3-4365-ebc5-7477025c3d06",
        "colab": {
          "base_uri": "https://localhost:8080/",
          "height": 207
        }
      },
      "outputs": [
        {
          "output_type": "display_data",
          "data": {
            "text/plain": [
              "Running query in 'sqlite:///sqlite_data/your_name.db?charset=utf8mb4'"
            ],
            "text/html": [
              "<span style=\"None\">Running query in &#x27;sqlite:///sqlite_data/your_name.db?charset=utf8mb4&#x27;</span>"
            ]
          },
          "metadata": {}
        },
        {
          "output_type": "execute_result",
          "data": {
            "text/plain": [
              "+------------+\n",
              "|   label    |\n",
              "+------------+\n",
              "| Blue Note  |\n",
              "|  Polydor   |\n",
              "| Parlophone |\n",
              "|  Columbia  |\n",
              "|  Columbia  |\n",
              "|  DiscReet  |\n",
              "|  Columbia  |\n",
              "+------------+"
            ],
            "text/html": [
              "<table>\n",
              "    <thead>\n",
              "        <tr>\n",
              "            <th>label</th>\n",
              "        </tr>\n",
              "    </thead>\n",
              "    <tbody>\n",
              "        <tr>\n",
              "            <td>Blue Note</td>\n",
              "        </tr>\n",
              "        <tr>\n",
              "            <td>Polydor</td>\n",
              "        </tr>\n",
              "        <tr>\n",
              "            <td>Parlophone</td>\n",
              "        </tr>\n",
              "        <tr>\n",
              "            <td>Columbia</td>\n",
              "        </tr>\n",
              "        <tr>\n",
              "            <td>Columbia</td>\n",
              "        </tr>\n",
              "        <tr>\n",
              "            <td>DiscReet</td>\n",
              "        </tr>\n",
              "        <tr>\n",
              "            <td>Columbia</td>\n",
              "        </tr>\n",
              "    </tbody>\n",
              "</table>"
            ]
          },
          "metadata": {},
          "execution_count": 17
        }
      ],
      "source": [
        "%%sql\n",
        "\n",
        "SELECT label\n",
        "FROM album;"
      ]
    },
    {
      "cell_type": "markdown",
      "id": "53a43884",
      "metadata": {
        "id": "53a43884"
      },
      "source": [
        "🤓🤓🤓 in the tidyverse, this corresponds to\n",
        "\n",
        "`dataframe %>% select(column_name)`\n",
        "\n",
        "here:\n",
        "\n",
        "`album %>% select(label)`"
      ]
    },
    {
      "cell_type": "markdown",
      "id": "2afb71de",
      "metadata": {
        "id": "2afb71de"
      },
      "source": [
        "Finally, to retrieve all columns of a table we need not list all their names. We can simply use the asterisk **\\*** as shown below. If you are familiar with regular expressions, * is used to match all arguments. The same idea applies here."
      ]
    },
    {
      "cell_type": "markdown",
      "id": "3b5911c2",
      "metadata": {
        "id": "3b5911c2"
      },
      "source": [
        "👉 remember the asterisk (`*`) in SQL, it means \"all.\" It's a close buddy of **SELECT**. They hang out a lot."
      ]
    },
    {
      "cell_type": "code",
      "execution_count": null,
      "id": "68ec22be",
      "metadata": {
        "id": "68ec22be",
        "outputId": "3047bd78-a627-4405-87cd-68a7296caa6c",
        "colab": {
          "base_uri": "https://localhost:8080/",
          "height": 207
        }
      },
      "outputs": [
        {
          "output_type": "display_data",
          "data": {
            "text/plain": [
              "Running query in 'sqlite:///sqlite_data/your_name.db?charset=utf8mb4'"
            ],
            "text/html": [
              "<span style=\"None\">Running query in &#x27;sqlite:///sqlite_data/your_name.db?charset=utf8mb4&#x27;</span>"
            ]
          },
          "metadata": {}
        },
        {
          "output_type": "execute_result",
          "data": {
            "text/plain": [
              "+----+------------------------+-----------------------------------+------------+------------+\n",
              "| id |         title          |               artist              |   label    |  released  |\n",
              "+----+------------------------+-----------------------------------+------------+------------+\n",
              "| 1  | Two Men with the Blues | Willie Nelson and Wynton Marsalis | Blue Note  | 2008-07-08 |\n",
              "| 11 |  Hendrix in the West   |            Jimi Hendrix           |  Polydor   | 1972-01-00 |\n",
              "| 12 |      Rubber Soul       |            The Beatles            | Parlophone | 1965-12-03 |\n",
              "| 13 |     Birds of Fire      |        Mahavishnu Orchestra       |  Columbia  | 1973-03-00 |\n",
              "| 16 |        Live And        |           Johnny Winter           |  Columbia  | 1971-05-00 |\n",
              "| 17 |       Apostrophe       |            Frank Zappa            |  DiscReet  | 1974-04-22 |\n",
              "| 18 |      Kind of Blue      |            Miles Davis            |  Columbia  | 1959-08-17 |\n",
              "+----+------------------------+-----------------------------------+------------+------------+"
            ],
            "text/html": [
              "<table>\n",
              "    <thead>\n",
              "        <tr>\n",
              "            <th>id</th>\n",
              "            <th>title</th>\n",
              "            <th>artist</th>\n",
              "            <th>label</th>\n",
              "            <th>released</th>\n",
              "        </tr>\n",
              "    </thead>\n",
              "    <tbody>\n",
              "        <tr>\n",
              "            <td>1</td>\n",
              "            <td>Two Men with the Blues</td>\n",
              "            <td>Willie Nelson and Wynton Marsalis</td>\n",
              "            <td>Blue Note</td>\n",
              "            <td>2008-07-08</td>\n",
              "        </tr>\n",
              "        <tr>\n",
              "            <td>11</td>\n",
              "            <td>Hendrix in the West</td>\n",
              "            <td>Jimi Hendrix</td>\n",
              "            <td>Polydor</td>\n",
              "            <td>1972-01-00</td>\n",
              "        </tr>\n",
              "        <tr>\n",
              "            <td>12</td>\n",
              "            <td>Rubber Soul</td>\n",
              "            <td>The Beatles</td>\n",
              "            <td>Parlophone</td>\n",
              "            <td>1965-12-03</td>\n",
              "        </tr>\n",
              "        <tr>\n",
              "            <td>13</td>\n",
              "            <td>Birds of Fire</td>\n",
              "            <td>Mahavishnu Orchestra</td>\n",
              "            <td>Columbia</td>\n",
              "            <td>1973-03-00</td>\n",
              "        </tr>\n",
              "        <tr>\n",
              "            <td>16</td>\n",
              "            <td>Live And</td>\n",
              "            <td>Johnny Winter</td>\n",
              "            <td>Columbia</td>\n",
              "            <td>1971-05-00</td>\n",
              "        </tr>\n",
              "        <tr>\n",
              "            <td>17</td>\n",
              "            <td>Apostrophe</td>\n",
              "            <td>Frank Zappa</td>\n",
              "            <td>DiscReet</td>\n",
              "            <td>1974-04-22</td>\n",
              "        </tr>\n",
              "        <tr>\n",
              "            <td>18</td>\n",
              "            <td>Kind of Blue</td>\n",
              "            <td>Miles Davis</td>\n",
              "            <td>Columbia</td>\n",
              "            <td>1959-08-17</td>\n",
              "        </tr>\n",
              "    </tbody>\n",
              "</table>"
            ]
          },
          "metadata": {},
          "execution_count": 18
        }
      ],
      "source": [
        "%%sql\n",
        "\n",
        "SELECT *\n",
        "FROM album;"
      ]
    },
    {
      "cell_type": "markdown",
      "id": "d01029c9",
      "metadata": {
        "id": "d01029c9"
      },
      "source": [
        "#### 👩‍🔬💻 Exercise\n",
        "\n",
        "Please select only the titles from the table."
      ]
    },
    {
      "cell_type": "code",
      "execution_count": null,
      "id": "aafe4c37",
      "metadata": {
        "id": "aafe4c37",
        "outputId": "864cb188-94e5-4a8b-f936-f79a98ebd50d",
        "colab": {
          "base_uri": "https://localhost:8080/",
          "height": 207
        }
      },
      "outputs": [
        {
          "output_type": "display_data",
          "data": {
            "text/plain": [
              "Running query in 'sqlite:///sqlite_data/your_name.db?charset=utf8mb4'"
            ],
            "text/html": [
              "<span style=\"None\">Running query in &#x27;sqlite:///sqlite_data/your_name.db?charset=utf8mb4&#x27;</span>"
            ]
          },
          "metadata": {}
        },
        {
          "output_type": "execute_result",
          "data": {
            "text/plain": [
              "+------------------------+\n",
              "|         title          |\n",
              "+------------------------+\n",
              "| Two Men with the Blues |\n",
              "|  Hendrix in the West   |\n",
              "|      Rubber Soul       |\n",
              "|     Birds of Fire      |\n",
              "|        Live And        |\n",
              "|       Apostrophe       |\n",
              "|      Kind of Blue      |\n",
              "+------------------------+"
            ],
            "text/html": [
              "<table>\n",
              "    <thead>\n",
              "        <tr>\n",
              "            <th>title</th>\n",
              "        </tr>\n",
              "    </thead>\n",
              "    <tbody>\n",
              "        <tr>\n",
              "            <td>Two Men with the Blues</td>\n",
              "        </tr>\n",
              "        <tr>\n",
              "            <td>Hendrix in the West</td>\n",
              "        </tr>\n",
              "        <tr>\n",
              "            <td>Rubber Soul</td>\n",
              "        </tr>\n",
              "        <tr>\n",
              "            <td>Birds of Fire</td>\n",
              "        </tr>\n",
              "        <tr>\n",
              "            <td>Live And</td>\n",
              "        </tr>\n",
              "        <tr>\n",
              "            <td>Apostrophe</td>\n",
              "        </tr>\n",
              "        <tr>\n",
              "            <td>Kind of Blue</td>\n",
              "        </tr>\n",
              "    </tbody>\n",
              "</table>"
            ]
          },
          "metadata": {},
          "execution_count": 19
        }
      ],
      "source": [
        "%%sql\n",
        "\n"
      ]
    },
    {
      "cell_type": "markdown",
      "id": "38409a22",
      "metadata": {
        "id": "38409a22"
      },
      "source": [
        "### **ORDER** BY <a class=\"anchor\" id=\"oby\"></a>"
      ]
    },
    {
      "cell_type": "markdown",
      "id": "28853853",
      "metadata": {
        "id": "28853853"
      },
      "source": [
        "By default, the results of a **SELECT** are in whatever order they happen to have been written to the table, and **ORDER BY** clause is used to order the results based on the values of a column.\n",
        "\n",
        "We can order the results based on increasing order of the values of a column using **ASC** qualifier or in descending order using **DESC**. Below is an example which displays the tracks in the `track` table in the decreasing order of their duration.\n",
        "\n",
        "This works for numbers, characters (A-Z), dates, etc."
      ]
    },
    {
      "cell_type": "code",
      "execution_count": null,
      "id": "0264b71d",
      "metadata": {
        "id": "0264b71d",
        "outputId": "e408a00d-e4f6-4efc-b01c-e504224e86f5",
        "colab": {
          "base_uri": "https://localhost:8080/",
          "height": 1000
        }
      },
      "outputs": [
        {
          "output_type": "display_data",
          "data": {
            "text/plain": [
              "Running query in 'sqlite:///sqlite_data/your_name.db?charset=utf8mb4'"
            ],
            "text/html": [
              "<span style=\"None\">Running query in &#x27;sqlite:///sqlite_data/your_name.db?charset=utf8mb4&#x27;</span>"
            ]
          },
          "metadata": {}
        },
        {
          "output_type": "execute_result",
          "data": {
            "text/plain": [
              "+----+----------+---------------------------------------+--------------+----------+\n",
              "| id | album_id |                 title                 | track_number | duration |\n",
              "+----+----------+---------------------------------------+--------------+----------+\n",
              "| 21 |    11    |               Red House               |      8       |   786    |\n",
              "| 51 |    16    |           It's My Own Fault           |      2       |   734    |\n",
              "| 68 |    18    |               All Blues               |      4       |   696    |\n",
              "| 43 |    13    |                One Word               |      7       |   597    |\n",
              "| 66 |    18    |           Freddy Freeloader           |      2       |   589    |\n",
              "| 69 |    18    |           Flamenco Sketches           |      5       |   566    |\n",
              "| 65 |    18    |                So What                |      1       |   565    |\n",
              "| 70 |    11    |               Fake Track              |      9       |   549    |\n",
              "| 54 |    16    |            Mean Town Blues            |      5       |   539    |\n",
              "| 17 |    11    |              Voodoo Chile             |      4       |   469    |\n",
              "| 9  |    1     |        Ain't Nobody's Business        |      9       |   447    |\n",
              "| 53 |    16    |          Rock And Roll Medley         |      4       |   406    |\n",
              "| 64 |    17    |               Stink-Foot              |      9       |   393    |\n",
              "| 10 |    1     |               That's All              |      10      |   368    |\n",
              "| 37 |    13    |             Birds of Fire             |      1       |   350    |\n",
              "| 62 |    17    |               Apostrophe              |      7       |   350    |\n",
              "| 2  |    1     |               Night Life              |      2       |   344    |\n",
              "| 7  |    1     |            Rainy Day Blues            |      7       |   343    |\n",
              "| 67 |    18    |             Blue in Green             |      3       |   338    |\n",
              "| 1  |    1     |         Bright Lights Big City        |      1       |   320    |\n",
              "| 5  |    1     |                Stardust               |      4       |   308    |\n",
              "| 44 |    13    |               Sanctuary               |      8       |   305    |\n",
              "| 3  |    1     |           Basin Street Blues          |      5       |   296    |\n",
              "| 8  |    1     |      My Bucket's Got A Hole In It     |      8       |   296    |\n",
              "| 38 |    13    |              Miles Beyond             |      2       |   287    |\n",
              "| 14 |    11    |            Johnny B. Goode            |      1       |   285    |\n",
              "| 50 |    16    |     Good Morning Little Schoolgirl    |      1       |   285    |\n",
              "| 6  |    1     |           Georgia On My Mind          |      6       |   280    |\n",
              "| 57 |    17    |             Nanook Rubs It            |      2       |   278    |\n",
              "| 16 |    11    |           Blue Suede xShoes           |      3       |   266    |\n",
              "| 52 |    16    |           Jumpin' Jack Flash          |      3       |   266    |\n",
              "| 60 |    17    |             Cosmik Debris             |      5       |   254    |\n",
              "| 45 |    13    |            Open Country Joy           |      9       |   236    |\n",
              "| 4  |    1     |                Caldonia               |      3       |   205    |\n",
              "| 41 |    13    |          Thousand Island Park         |      5       |   203    |\n",
              "| 24 |    12    |            You Won't See Me           |      3       |   202    |\n",
              "| 55 |    16    |            Johnny B. Goode            |      6       |   202    |\n",
              "| 20 |    11    |              Little Wing              |      7       |   194    |\n",
              "| 15 |    11    |               Lover Man               |      2       |   185    |\n",
              "| 39 |    13    |    Celestial Terrestrial Commuters    |      3       |   174    |\n",
              "| 29 |    12    |              What Goes On             |      8       |   170    |\n",
              "| 25 |    12    |              Nowhere Man              |      4       |   164    |\n",
              "| 63 |    17    |              Uncle Remus              |      8       |   164    |\n",
              "| 27 |    12    |                The Word               |      6       |   163    |\n",
              "| 28 |    12    |                Michelle               |      7       |   162    |\n",
              "| 18 |    11    |               The Queen               |      5       |   160    |\n",
              "| 30 |    12    |                  Girl                 |      9       |   153    |\n",
              "| 22 |    12    |              Drive My Car             |      1       |   150    |\n",
              "| 31 |    12    |        I'm Looking Through You        |      10      |   147    |\n",
              "| 32 |    12    |               In My Life              |      11      |   147    |\n",
              "| 34 |    12    |          If I Needed Someone          |      13      |   143    |\n",
              "| 26 |    12    |           Think for Yourself          |      5       |   139    |\n",
              "| 35 |    12    |           Run for Your Life           |      14      |   138    |\n",
              "| 59 |    17    |            Father O'Blivion           |      4       |   138    |\n",
              "| 33 |    12    |                  Wait                 |      12      |   136    |\n",
              "| 46 |    13    |               Resolution              |      10      |   129    |\n",
              "| 56 |    17    |       Don't Eat the Yellow Snow       |      1       |   127    |\n",
              "| 23 |    12    |  Norwegian Wood (This Bird Has Flown) |      2       |   125    |\n",
              "| 42 |    13    |                  Hope                 |      6       |   119    |\n",
              "| 58 |    17    |    St. Alfonzo's Pancake Breakfast    |      3       |   110    |\n",
              "| 61 |    17    |           Excentrifugal Forz          |      6       |    93    |\n",
              "| 19 |    11    | Sgt. Pepper's Lonely Hearts Club Band |      6       |    76    |\n",
              "| 40 |    13    |     Sapphire Bullets of Pure Love     |      4       |    24    |\n",
              "+----+----------+---------------------------------------+--------------+----------+"
            ],
            "text/html": [
              "<table>\n",
              "    <thead>\n",
              "        <tr>\n",
              "            <th>id</th>\n",
              "            <th>album_id</th>\n",
              "            <th>title</th>\n",
              "            <th>track_number</th>\n",
              "            <th>duration</th>\n",
              "        </tr>\n",
              "    </thead>\n",
              "    <tbody>\n",
              "        <tr>\n",
              "            <td>21</td>\n",
              "            <td>11</td>\n",
              "            <td>Red House</td>\n",
              "            <td>8</td>\n",
              "            <td>786</td>\n",
              "        </tr>\n",
              "        <tr>\n",
              "            <td>51</td>\n",
              "            <td>16</td>\n",
              "            <td>It's My Own Fault</td>\n",
              "            <td>2</td>\n",
              "            <td>734</td>\n",
              "        </tr>\n",
              "        <tr>\n",
              "            <td>68</td>\n",
              "            <td>18</td>\n",
              "            <td>All Blues</td>\n",
              "            <td>4</td>\n",
              "            <td>696</td>\n",
              "        </tr>\n",
              "        <tr>\n",
              "            <td>43</td>\n",
              "            <td>13</td>\n",
              "            <td>One Word</td>\n",
              "            <td>7</td>\n",
              "            <td>597</td>\n",
              "        </tr>\n",
              "        <tr>\n",
              "            <td>66</td>\n",
              "            <td>18</td>\n",
              "            <td>Freddy Freeloader</td>\n",
              "            <td>2</td>\n",
              "            <td>589</td>\n",
              "        </tr>\n",
              "        <tr>\n",
              "            <td>69</td>\n",
              "            <td>18</td>\n",
              "            <td>Flamenco Sketches</td>\n",
              "            <td>5</td>\n",
              "            <td>566</td>\n",
              "        </tr>\n",
              "        <tr>\n",
              "            <td>65</td>\n",
              "            <td>18</td>\n",
              "            <td>So What</td>\n",
              "            <td>1</td>\n",
              "            <td>565</td>\n",
              "        </tr>\n",
              "        <tr>\n",
              "            <td>70</td>\n",
              "            <td>11</td>\n",
              "            <td>Fake Track</td>\n",
              "            <td>9</td>\n",
              "            <td>549</td>\n",
              "        </tr>\n",
              "        <tr>\n",
              "            <td>54</td>\n",
              "            <td>16</td>\n",
              "            <td>Mean Town Blues</td>\n",
              "            <td>5</td>\n",
              "            <td>539</td>\n",
              "        </tr>\n",
              "        <tr>\n",
              "            <td>17</td>\n",
              "            <td>11</td>\n",
              "            <td>Voodoo Chile</td>\n",
              "            <td>4</td>\n",
              "            <td>469</td>\n",
              "        </tr>\n",
              "        <tr>\n",
              "            <td>9</td>\n",
              "            <td>1</td>\n",
              "            <td>Ain't Nobody's Business</td>\n",
              "            <td>9</td>\n",
              "            <td>447</td>\n",
              "        </tr>\n",
              "        <tr>\n",
              "            <td>53</td>\n",
              "            <td>16</td>\n",
              "            <td>Rock And Roll Medley</td>\n",
              "            <td>4</td>\n",
              "            <td>406</td>\n",
              "        </tr>\n",
              "        <tr>\n",
              "            <td>64</td>\n",
              "            <td>17</td>\n",
              "            <td>Stink-Foot</td>\n",
              "            <td>9</td>\n",
              "            <td>393</td>\n",
              "        </tr>\n",
              "        <tr>\n",
              "            <td>10</td>\n",
              "            <td>1</td>\n",
              "            <td>That's All</td>\n",
              "            <td>10</td>\n",
              "            <td>368</td>\n",
              "        </tr>\n",
              "        <tr>\n",
              "            <td>37</td>\n",
              "            <td>13</td>\n",
              "            <td>Birds of Fire</td>\n",
              "            <td>1</td>\n",
              "            <td>350</td>\n",
              "        </tr>\n",
              "        <tr>\n",
              "            <td>62</td>\n",
              "            <td>17</td>\n",
              "            <td>Apostrophe</td>\n",
              "            <td>7</td>\n",
              "            <td>350</td>\n",
              "        </tr>\n",
              "        <tr>\n",
              "            <td>2</td>\n",
              "            <td>1</td>\n",
              "            <td>Night Life</td>\n",
              "            <td>2</td>\n",
              "            <td>344</td>\n",
              "        </tr>\n",
              "        <tr>\n",
              "            <td>7</td>\n",
              "            <td>1</td>\n",
              "            <td>Rainy Day Blues</td>\n",
              "            <td>7</td>\n",
              "            <td>343</td>\n",
              "        </tr>\n",
              "        <tr>\n",
              "            <td>67</td>\n",
              "            <td>18</td>\n",
              "            <td>Blue in Green</td>\n",
              "            <td>3</td>\n",
              "            <td>338</td>\n",
              "        </tr>\n",
              "        <tr>\n",
              "            <td>1</td>\n",
              "            <td>1</td>\n",
              "            <td>Bright Lights Big City</td>\n",
              "            <td>1</td>\n",
              "            <td>320</td>\n",
              "        </tr>\n",
              "        <tr>\n",
              "            <td>5</td>\n",
              "            <td>1</td>\n",
              "            <td>Stardust</td>\n",
              "            <td>4</td>\n",
              "            <td>308</td>\n",
              "        </tr>\n",
              "        <tr>\n",
              "            <td>44</td>\n",
              "            <td>13</td>\n",
              "            <td>Sanctuary</td>\n",
              "            <td>8</td>\n",
              "            <td>305</td>\n",
              "        </tr>\n",
              "        <tr>\n",
              "            <td>3</td>\n",
              "            <td>1</td>\n",
              "            <td>Basin Street Blues</td>\n",
              "            <td>5</td>\n",
              "            <td>296</td>\n",
              "        </tr>\n",
              "        <tr>\n",
              "            <td>8</td>\n",
              "            <td>1</td>\n",
              "            <td>My Bucket's Got A Hole In It</td>\n",
              "            <td>8</td>\n",
              "            <td>296</td>\n",
              "        </tr>\n",
              "        <tr>\n",
              "            <td>38</td>\n",
              "            <td>13</td>\n",
              "            <td>Miles Beyond</td>\n",
              "            <td>2</td>\n",
              "            <td>287</td>\n",
              "        </tr>\n",
              "        <tr>\n",
              "            <td>14</td>\n",
              "            <td>11</td>\n",
              "            <td>Johnny B. Goode</td>\n",
              "            <td>1</td>\n",
              "            <td>285</td>\n",
              "        </tr>\n",
              "        <tr>\n",
              "            <td>50</td>\n",
              "            <td>16</td>\n",
              "            <td>Good Morning Little Schoolgirl</td>\n",
              "            <td>1</td>\n",
              "            <td>285</td>\n",
              "        </tr>\n",
              "        <tr>\n",
              "            <td>6</td>\n",
              "            <td>1</td>\n",
              "            <td>Georgia On My Mind</td>\n",
              "            <td>6</td>\n",
              "            <td>280</td>\n",
              "        </tr>\n",
              "        <tr>\n",
              "            <td>57</td>\n",
              "            <td>17</td>\n",
              "            <td>Nanook Rubs It</td>\n",
              "            <td>2</td>\n",
              "            <td>278</td>\n",
              "        </tr>\n",
              "        <tr>\n",
              "            <td>16</td>\n",
              "            <td>11</td>\n",
              "            <td>Blue Suede xShoes</td>\n",
              "            <td>3</td>\n",
              "            <td>266</td>\n",
              "        </tr>\n",
              "        <tr>\n",
              "            <td>52</td>\n",
              "            <td>16</td>\n",
              "            <td>Jumpin' Jack Flash</td>\n",
              "            <td>3</td>\n",
              "            <td>266</td>\n",
              "        </tr>\n",
              "        <tr>\n",
              "            <td>60</td>\n",
              "            <td>17</td>\n",
              "            <td>Cosmik Debris</td>\n",
              "            <td>5</td>\n",
              "            <td>254</td>\n",
              "        </tr>\n",
              "        <tr>\n",
              "            <td>45</td>\n",
              "            <td>13</td>\n",
              "            <td>Open Country Joy</td>\n",
              "            <td>9</td>\n",
              "            <td>236</td>\n",
              "        </tr>\n",
              "        <tr>\n",
              "            <td>4</td>\n",
              "            <td>1</td>\n",
              "            <td>Caldonia</td>\n",
              "            <td>3</td>\n",
              "            <td>205</td>\n",
              "        </tr>\n",
              "        <tr>\n",
              "            <td>41</td>\n",
              "            <td>13</td>\n",
              "            <td>Thousand Island Park</td>\n",
              "            <td>5</td>\n",
              "            <td>203</td>\n",
              "        </tr>\n",
              "        <tr>\n",
              "            <td>24</td>\n",
              "            <td>12</td>\n",
              "            <td>You Won't See Me</td>\n",
              "            <td>3</td>\n",
              "            <td>202</td>\n",
              "        </tr>\n",
              "        <tr>\n",
              "            <td>55</td>\n",
              "            <td>16</td>\n",
              "            <td>Johnny B. Goode</td>\n",
              "            <td>6</td>\n",
              "            <td>202</td>\n",
              "        </tr>\n",
              "        <tr>\n",
              "            <td>20</td>\n",
              "            <td>11</td>\n",
              "            <td>Little Wing</td>\n",
              "            <td>7</td>\n",
              "            <td>194</td>\n",
              "        </tr>\n",
              "        <tr>\n",
              "            <td>15</td>\n",
              "            <td>11</td>\n",
              "            <td>Lover Man</td>\n",
              "            <td>2</td>\n",
              "            <td>185</td>\n",
              "        </tr>\n",
              "        <tr>\n",
              "            <td>39</td>\n",
              "            <td>13</td>\n",
              "            <td>Celestial Terrestrial Commuters</td>\n",
              "            <td>3</td>\n",
              "            <td>174</td>\n",
              "        </tr>\n",
              "        <tr>\n",
              "            <td>29</td>\n",
              "            <td>12</td>\n",
              "            <td>What Goes On</td>\n",
              "            <td>8</td>\n",
              "            <td>170</td>\n",
              "        </tr>\n",
              "        <tr>\n",
              "            <td>25</td>\n",
              "            <td>12</td>\n",
              "            <td>Nowhere Man</td>\n",
              "            <td>4</td>\n",
              "            <td>164</td>\n",
              "        </tr>\n",
              "        <tr>\n",
              "            <td>63</td>\n",
              "            <td>17</td>\n",
              "            <td>Uncle Remus</td>\n",
              "            <td>8</td>\n",
              "            <td>164</td>\n",
              "        </tr>\n",
              "        <tr>\n",
              "            <td>27</td>\n",
              "            <td>12</td>\n",
              "            <td>The Word</td>\n",
              "            <td>6</td>\n",
              "            <td>163</td>\n",
              "        </tr>\n",
              "        <tr>\n",
              "            <td>28</td>\n",
              "            <td>12</td>\n",
              "            <td>Michelle</td>\n",
              "            <td>7</td>\n",
              "            <td>162</td>\n",
              "        </tr>\n",
              "        <tr>\n",
              "            <td>18</td>\n",
              "            <td>11</td>\n",
              "            <td>The Queen</td>\n",
              "            <td>5</td>\n",
              "            <td>160</td>\n",
              "        </tr>\n",
              "        <tr>\n",
              "            <td>30</td>\n",
              "            <td>12</td>\n",
              "            <td>Girl</td>\n",
              "            <td>9</td>\n",
              "            <td>153</td>\n",
              "        </tr>\n",
              "        <tr>\n",
              "            <td>22</td>\n",
              "            <td>12</td>\n",
              "            <td>Drive My Car</td>\n",
              "            <td>1</td>\n",
              "            <td>150</td>\n",
              "        </tr>\n",
              "        <tr>\n",
              "            <td>31</td>\n",
              "            <td>12</td>\n",
              "            <td>I'm Looking Through You</td>\n",
              "            <td>10</td>\n",
              "            <td>147</td>\n",
              "        </tr>\n",
              "        <tr>\n",
              "            <td>32</td>\n",
              "            <td>12</td>\n",
              "            <td>In My Life</td>\n",
              "            <td>11</td>\n",
              "            <td>147</td>\n",
              "        </tr>\n",
              "        <tr>\n",
              "            <td>34</td>\n",
              "            <td>12</td>\n",
              "            <td>If I Needed Someone</td>\n",
              "            <td>13</td>\n",
              "            <td>143</td>\n",
              "        </tr>\n",
              "        <tr>\n",
              "            <td>26</td>\n",
              "            <td>12</td>\n",
              "            <td>Think for Yourself</td>\n",
              "            <td>5</td>\n",
              "            <td>139</td>\n",
              "        </tr>\n",
              "        <tr>\n",
              "            <td>35</td>\n",
              "            <td>12</td>\n",
              "            <td>Run for Your Life</td>\n",
              "            <td>14</td>\n",
              "            <td>138</td>\n",
              "        </tr>\n",
              "        <tr>\n",
              "            <td>59</td>\n",
              "            <td>17</td>\n",
              "            <td>Father O'Blivion</td>\n",
              "            <td>4</td>\n",
              "            <td>138</td>\n",
              "        </tr>\n",
              "        <tr>\n",
              "            <td>33</td>\n",
              "            <td>12</td>\n",
              "            <td>Wait</td>\n",
              "            <td>12</td>\n",
              "            <td>136</td>\n",
              "        </tr>\n",
              "        <tr>\n",
              "            <td>46</td>\n",
              "            <td>13</td>\n",
              "            <td>Resolution</td>\n",
              "            <td>10</td>\n",
              "            <td>129</td>\n",
              "        </tr>\n",
              "        <tr>\n",
              "            <td>56</td>\n",
              "            <td>17</td>\n",
              "            <td>Don't Eat the Yellow Snow</td>\n",
              "            <td>1</td>\n",
              "            <td>127</td>\n",
              "        </tr>\n",
              "        <tr>\n",
              "            <td>23</td>\n",
              "            <td>12</td>\n",
              "            <td>Norwegian Wood (This Bird Has Flown)</td>\n",
              "            <td>2</td>\n",
              "            <td>125</td>\n",
              "        </tr>\n",
              "        <tr>\n",
              "            <td>42</td>\n",
              "            <td>13</td>\n",
              "            <td>Hope</td>\n",
              "            <td>6</td>\n",
              "            <td>119</td>\n",
              "        </tr>\n",
              "        <tr>\n",
              "            <td>58</td>\n",
              "            <td>17</td>\n",
              "            <td>St. Alfonzo's Pancake Breakfast</td>\n",
              "            <td>3</td>\n",
              "            <td>110</td>\n",
              "        </tr>\n",
              "        <tr>\n",
              "            <td>61</td>\n",
              "            <td>17</td>\n",
              "            <td>Excentrifugal Forz</td>\n",
              "            <td>6</td>\n",
              "            <td>93</td>\n",
              "        </tr>\n",
              "        <tr>\n",
              "            <td>19</td>\n",
              "            <td>11</td>\n",
              "            <td>Sgt. Pepper's Lonely Hearts Club Band</td>\n",
              "            <td>6</td>\n",
              "            <td>76</td>\n",
              "        </tr>\n",
              "        <tr>\n",
              "            <td>40</td>\n",
              "            <td>13</td>\n",
              "            <td>Sapphire Bullets of Pure Love</td>\n",
              "            <td>4</td>\n",
              "            <td>24</td>\n",
              "        </tr>\n",
              "    </tbody>\n",
              "</table>"
            ]
          },
          "metadata": {},
          "execution_count": 29
        }
      ],
      "source": [
        "%%sql\n",
        "\n",
        "SELECT *\n",
        "FROM track\n",
        "ORDER BY duration DESC;"
      ]
    },
    {
      "cell_type": "markdown",
      "id": "124f918e",
      "metadata": {
        "id": "124f918e"
      },
      "source": [
        "#### 👩‍🔬💻 Exercise\n",
        "\n",
        "Can you output the tracks sorted by ascending track number?"
      ]
    },
    {
      "cell_type": "code",
      "execution_count": null,
      "id": "409e3f26",
      "metadata": {
        "id": "409e3f26",
        "outputId": "5a29ac59-d54a-4e97-bcb4-26625634fab2",
        "colab": {
          "base_uri": "https://localhost:8080/",
          "height": 1000
        }
      },
      "outputs": [
        {
          "output_type": "display_data",
          "data": {
            "text/plain": [
              "Running query in 'sqlite:///sqlite_data/your_name.db?charset=utf8mb4'"
            ],
            "text/html": [
              "<span style=\"None\">Running query in &#x27;sqlite:///sqlite_data/your_name.db?charset=utf8mb4&#x27;</span>"
            ]
          },
          "metadata": {}
        },
        {
          "output_type": "execute_result",
          "data": {
            "text/plain": [
              "+----+----------+---------------------------------------+--------------+----------+\n",
              "| id | album_id |                 title                 | track_number | duration |\n",
              "+----+----------+---------------------------------------+--------------+----------+\n",
              "| 1  |    1     |         Bright Lights Big City        |      1       |   320    |\n",
              "| 14 |    11    |            Johnny B. Goode            |      1       |   285    |\n",
              "| 22 |    12    |              Drive My Car             |      1       |   150    |\n",
              "| 37 |    13    |             Birds of Fire             |      1       |   350    |\n",
              "| 50 |    16    |     Good Morning Little Schoolgirl    |      1       |   285    |\n",
              "| 56 |    17    |       Don't Eat the Yellow Snow       |      1       |   127    |\n",
              "| 65 |    18    |                So What                |      1       |   565    |\n",
              "| 2  |    1     |               Night Life              |      2       |   344    |\n",
              "| 15 |    11    |               Lover Man               |      2       |   185    |\n",
              "| 23 |    12    |  Norwegian Wood (This Bird Has Flown) |      2       |   125    |\n",
              "| 38 |    13    |              Miles Beyond             |      2       |   287    |\n",
              "| 51 |    16    |           It's My Own Fault           |      2       |   734    |\n",
              "| 57 |    17    |             Nanook Rubs It            |      2       |   278    |\n",
              "| 66 |    18    |           Freddy Freeloader           |      2       |   589    |\n",
              "| 4  |    1     |                Caldonia               |      3       |   205    |\n",
              "| 16 |    11    |           Blue Suede xShoes           |      3       |   266    |\n",
              "| 24 |    12    |            You Won't See Me           |      3       |   202    |\n",
              "| 39 |    13    |    Celestial Terrestrial Commuters    |      3       |   174    |\n",
              "| 52 |    16    |           Jumpin' Jack Flash          |      3       |   266    |\n",
              "| 58 |    17    |    St. Alfonzo's Pancake Breakfast    |      3       |   110    |\n",
              "| 67 |    18    |             Blue in Green             |      3       |   338    |\n",
              "| 5  |    1     |                Stardust               |      4       |   308    |\n",
              "| 17 |    11    |              Voodoo Chile             |      4       |   469    |\n",
              "| 25 |    12    |              Nowhere Man              |      4       |   164    |\n",
              "| 40 |    13    |     Sapphire Bullets of Pure Love     |      4       |    24    |\n",
              "| 53 |    16    |          Rock And Roll Medley         |      4       |   406    |\n",
              "| 59 |    17    |            Father O'Blivion           |      4       |   138    |\n",
              "| 68 |    18    |               All Blues               |      4       |   696    |\n",
              "| 3  |    1     |           Basin Street Blues          |      5       |   296    |\n",
              "| 18 |    11    |               The Queen               |      5       |   160    |\n",
              "| 26 |    12    |           Think for Yourself          |      5       |   139    |\n",
              "| 41 |    13    |          Thousand Island Park         |      5       |   203    |\n",
              "| 54 |    16    |            Mean Town Blues            |      5       |   539    |\n",
              "| 60 |    17    |             Cosmik Debris             |      5       |   254    |\n",
              "| 69 |    18    |           Flamenco Sketches           |      5       |   566    |\n",
              "| 6  |    1     |           Georgia On My Mind          |      6       |   280    |\n",
              "| 19 |    11    | Sgt. Pepper's Lonely Hearts Club Band |      6       |    76    |\n",
              "| 27 |    12    |                The Word               |      6       |   163    |\n",
              "| 42 |    13    |                  Hope                 |      6       |   119    |\n",
              "| 55 |    16    |            Johnny B. Goode            |      6       |   202    |\n",
              "| 61 |    17    |           Excentrifugal Forz          |      6       |    93    |\n",
              "| 7  |    1     |            Rainy Day Blues            |      7       |   343    |\n",
              "| 20 |    11    |              Little Wing              |      7       |   194    |\n",
              "| 28 |    12    |                Michelle               |      7       |   162    |\n",
              "| 43 |    13    |                One Word               |      7       |   597    |\n",
              "| 62 |    17    |               Apostrophe              |      7       |   350    |\n",
              "| 8  |    1     |      My Bucket's Got A Hole In It     |      8       |   296    |\n",
              "| 21 |    11    |               Red House               |      8       |   786    |\n",
              "| 29 |    12    |              What Goes On             |      8       |   170    |\n",
              "| 44 |    13    |               Sanctuary               |      8       |   305    |\n",
              "| 63 |    17    |              Uncle Remus              |      8       |   164    |\n",
              "| 9  |    1     |        Ain't Nobody's Business        |      9       |   447    |\n",
              "| 30 |    12    |                  Girl                 |      9       |   153    |\n",
              "| 45 |    13    |            Open Country Joy           |      9       |   236    |\n",
              "| 64 |    17    |               Stink-Foot              |      9       |   393    |\n",
              "| 70 |    11    |               Fake Track              |      9       |   549    |\n",
              "| 10 |    1     |               That's All              |      10      |   368    |\n",
              "| 31 |    12    |        I'm Looking Through You        |      10      |   147    |\n",
              "| 46 |    13    |               Resolution              |      10      |   129    |\n",
              "| 32 |    12    |               In My Life              |      11      |   147    |\n",
              "| 33 |    12    |                  Wait                 |      12      |   136    |\n",
              "| 34 |    12    |          If I Needed Someone          |      13      |   143    |\n",
              "| 35 |    12    |           Run for Your Life           |      14      |   138    |\n",
              "+----+----------+---------------------------------------+--------------+----------+"
            ],
            "text/html": [
              "<table>\n",
              "    <thead>\n",
              "        <tr>\n",
              "            <th>id</th>\n",
              "            <th>album_id</th>\n",
              "            <th>title</th>\n",
              "            <th>track_number</th>\n",
              "            <th>duration</th>\n",
              "        </tr>\n",
              "    </thead>\n",
              "    <tbody>\n",
              "        <tr>\n",
              "            <td>1</td>\n",
              "            <td>1</td>\n",
              "            <td>Bright Lights Big City</td>\n",
              "            <td>1</td>\n",
              "            <td>320</td>\n",
              "        </tr>\n",
              "        <tr>\n",
              "            <td>14</td>\n",
              "            <td>11</td>\n",
              "            <td>Johnny B. Goode</td>\n",
              "            <td>1</td>\n",
              "            <td>285</td>\n",
              "        </tr>\n",
              "        <tr>\n",
              "            <td>22</td>\n",
              "            <td>12</td>\n",
              "            <td>Drive My Car</td>\n",
              "            <td>1</td>\n",
              "            <td>150</td>\n",
              "        </tr>\n",
              "        <tr>\n",
              "            <td>37</td>\n",
              "            <td>13</td>\n",
              "            <td>Birds of Fire</td>\n",
              "            <td>1</td>\n",
              "            <td>350</td>\n",
              "        </tr>\n",
              "        <tr>\n",
              "            <td>50</td>\n",
              "            <td>16</td>\n",
              "            <td>Good Morning Little Schoolgirl</td>\n",
              "            <td>1</td>\n",
              "            <td>285</td>\n",
              "        </tr>\n",
              "        <tr>\n",
              "            <td>56</td>\n",
              "            <td>17</td>\n",
              "            <td>Don't Eat the Yellow Snow</td>\n",
              "            <td>1</td>\n",
              "            <td>127</td>\n",
              "        </tr>\n",
              "        <tr>\n",
              "            <td>65</td>\n",
              "            <td>18</td>\n",
              "            <td>So What</td>\n",
              "            <td>1</td>\n",
              "            <td>565</td>\n",
              "        </tr>\n",
              "        <tr>\n",
              "            <td>2</td>\n",
              "            <td>1</td>\n",
              "            <td>Night Life</td>\n",
              "            <td>2</td>\n",
              "            <td>344</td>\n",
              "        </tr>\n",
              "        <tr>\n",
              "            <td>15</td>\n",
              "            <td>11</td>\n",
              "            <td>Lover Man</td>\n",
              "            <td>2</td>\n",
              "            <td>185</td>\n",
              "        </tr>\n",
              "        <tr>\n",
              "            <td>23</td>\n",
              "            <td>12</td>\n",
              "            <td>Norwegian Wood (This Bird Has Flown)</td>\n",
              "            <td>2</td>\n",
              "            <td>125</td>\n",
              "        </tr>\n",
              "        <tr>\n",
              "            <td>38</td>\n",
              "            <td>13</td>\n",
              "            <td>Miles Beyond</td>\n",
              "            <td>2</td>\n",
              "            <td>287</td>\n",
              "        </tr>\n",
              "        <tr>\n",
              "            <td>51</td>\n",
              "            <td>16</td>\n",
              "            <td>It's My Own Fault</td>\n",
              "            <td>2</td>\n",
              "            <td>734</td>\n",
              "        </tr>\n",
              "        <tr>\n",
              "            <td>57</td>\n",
              "            <td>17</td>\n",
              "            <td>Nanook Rubs It</td>\n",
              "            <td>2</td>\n",
              "            <td>278</td>\n",
              "        </tr>\n",
              "        <tr>\n",
              "            <td>66</td>\n",
              "            <td>18</td>\n",
              "            <td>Freddy Freeloader</td>\n",
              "            <td>2</td>\n",
              "            <td>589</td>\n",
              "        </tr>\n",
              "        <tr>\n",
              "            <td>4</td>\n",
              "            <td>1</td>\n",
              "            <td>Caldonia</td>\n",
              "            <td>3</td>\n",
              "            <td>205</td>\n",
              "        </tr>\n",
              "        <tr>\n",
              "            <td>16</td>\n",
              "            <td>11</td>\n",
              "            <td>Blue Suede xShoes</td>\n",
              "            <td>3</td>\n",
              "            <td>266</td>\n",
              "        </tr>\n",
              "        <tr>\n",
              "            <td>24</td>\n",
              "            <td>12</td>\n",
              "            <td>You Won't See Me</td>\n",
              "            <td>3</td>\n",
              "            <td>202</td>\n",
              "        </tr>\n",
              "        <tr>\n",
              "            <td>39</td>\n",
              "            <td>13</td>\n",
              "            <td>Celestial Terrestrial Commuters</td>\n",
              "            <td>3</td>\n",
              "            <td>174</td>\n",
              "        </tr>\n",
              "        <tr>\n",
              "            <td>52</td>\n",
              "            <td>16</td>\n",
              "            <td>Jumpin' Jack Flash</td>\n",
              "            <td>3</td>\n",
              "            <td>266</td>\n",
              "        </tr>\n",
              "        <tr>\n",
              "            <td>58</td>\n",
              "            <td>17</td>\n",
              "            <td>St. Alfonzo's Pancake Breakfast</td>\n",
              "            <td>3</td>\n",
              "            <td>110</td>\n",
              "        </tr>\n",
              "        <tr>\n",
              "            <td>67</td>\n",
              "            <td>18</td>\n",
              "            <td>Blue in Green</td>\n",
              "            <td>3</td>\n",
              "            <td>338</td>\n",
              "        </tr>\n",
              "        <tr>\n",
              "            <td>5</td>\n",
              "            <td>1</td>\n",
              "            <td>Stardust</td>\n",
              "            <td>4</td>\n",
              "            <td>308</td>\n",
              "        </tr>\n",
              "        <tr>\n",
              "            <td>17</td>\n",
              "            <td>11</td>\n",
              "            <td>Voodoo Chile</td>\n",
              "            <td>4</td>\n",
              "            <td>469</td>\n",
              "        </tr>\n",
              "        <tr>\n",
              "            <td>25</td>\n",
              "            <td>12</td>\n",
              "            <td>Nowhere Man</td>\n",
              "            <td>4</td>\n",
              "            <td>164</td>\n",
              "        </tr>\n",
              "        <tr>\n",
              "            <td>40</td>\n",
              "            <td>13</td>\n",
              "            <td>Sapphire Bullets of Pure Love</td>\n",
              "            <td>4</td>\n",
              "            <td>24</td>\n",
              "        </tr>\n",
              "        <tr>\n",
              "            <td>53</td>\n",
              "            <td>16</td>\n",
              "            <td>Rock And Roll Medley</td>\n",
              "            <td>4</td>\n",
              "            <td>406</td>\n",
              "        </tr>\n",
              "        <tr>\n",
              "            <td>59</td>\n",
              "            <td>17</td>\n",
              "            <td>Father O'Blivion</td>\n",
              "            <td>4</td>\n",
              "            <td>138</td>\n",
              "        </tr>\n",
              "        <tr>\n",
              "            <td>68</td>\n",
              "            <td>18</td>\n",
              "            <td>All Blues</td>\n",
              "            <td>4</td>\n",
              "            <td>696</td>\n",
              "        </tr>\n",
              "        <tr>\n",
              "            <td>3</td>\n",
              "            <td>1</td>\n",
              "            <td>Basin Street Blues</td>\n",
              "            <td>5</td>\n",
              "            <td>296</td>\n",
              "        </tr>\n",
              "        <tr>\n",
              "            <td>18</td>\n",
              "            <td>11</td>\n",
              "            <td>The Queen</td>\n",
              "            <td>5</td>\n",
              "            <td>160</td>\n",
              "        </tr>\n",
              "        <tr>\n",
              "            <td>26</td>\n",
              "            <td>12</td>\n",
              "            <td>Think for Yourself</td>\n",
              "            <td>5</td>\n",
              "            <td>139</td>\n",
              "        </tr>\n",
              "        <tr>\n",
              "            <td>41</td>\n",
              "            <td>13</td>\n",
              "            <td>Thousand Island Park</td>\n",
              "            <td>5</td>\n",
              "            <td>203</td>\n",
              "        </tr>\n",
              "        <tr>\n",
              "            <td>54</td>\n",
              "            <td>16</td>\n",
              "            <td>Mean Town Blues</td>\n",
              "            <td>5</td>\n",
              "            <td>539</td>\n",
              "        </tr>\n",
              "        <tr>\n",
              "            <td>60</td>\n",
              "            <td>17</td>\n",
              "            <td>Cosmik Debris</td>\n",
              "            <td>5</td>\n",
              "            <td>254</td>\n",
              "        </tr>\n",
              "        <tr>\n",
              "            <td>69</td>\n",
              "            <td>18</td>\n",
              "            <td>Flamenco Sketches</td>\n",
              "            <td>5</td>\n",
              "            <td>566</td>\n",
              "        </tr>\n",
              "        <tr>\n",
              "            <td>6</td>\n",
              "            <td>1</td>\n",
              "            <td>Georgia On My Mind</td>\n",
              "            <td>6</td>\n",
              "            <td>280</td>\n",
              "        </tr>\n",
              "        <tr>\n",
              "            <td>19</td>\n",
              "            <td>11</td>\n",
              "            <td>Sgt. Pepper's Lonely Hearts Club Band</td>\n",
              "            <td>6</td>\n",
              "            <td>76</td>\n",
              "        </tr>\n",
              "        <tr>\n",
              "            <td>27</td>\n",
              "            <td>12</td>\n",
              "            <td>The Word</td>\n",
              "            <td>6</td>\n",
              "            <td>163</td>\n",
              "        </tr>\n",
              "        <tr>\n",
              "            <td>42</td>\n",
              "            <td>13</td>\n",
              "            <td>Hope</td>\n",
              "            <td>6</td>\n",
              "            <td>119</td>\n",
              "        </tr>\n",
              "        <tr>\n",
              "            <td>55</td>\n",
              "            <td>16</td>\n",
              "            <td>Johnny B. Goode</td>\n",
              "            <td>6</td>\n",
              "            <td>202</td>\n",
              "        </tr>\n",
              "        <tr>\n",
              "            <td>61</td>\n",
              "            <td>17</td>\n",
              "            <td>Excentrifugal Forz</td>\n",
              "            <td>6</td>\n",
              "            <td>93</td>\n",
              "        </tr>\n",
              "        <tr>\n",
              "            <td>7</td>\n",
              "            <td>1</td>\n",
              "            <td>Rainy Day Blues</td>\n",
              "            <td>7</td>\n",
              "            <td>343</td>\n",
              "        </tr>\n",
              "        <tr>\n",
              "            <td>20</td>\n",
              "            <td>11</td>\n",
              "            <td>Little Wing</td>\n",
              "            <td>7</td>\n",
              "            <td>194</td>\n",
              "        </tr>\n",
              "        <tr>\n",
              "            <td>28</td>\n",
              "            <td>12</td>\n",
              "            <td>Michelle</td>\n",
              "            <td>7</td>\n",
              "            <td>162</td>\n",
              "        </tr>\n",
              "        <tr>\n",
              "            <td>43</td>\n",
              "            <td>13</td>\n",
              "            <td>One Word</td>\n",
              "            <td>7</td>\n",
              "            <td>597</td>\n",
              "        </tr>\n",
              "        <tr>\n",
              "            <td>62</td>\n",
              "            <td>17</td>\n",
              "            <td>Apostrophe</td>\n",
              "            <td>7</td>\n",
              "            <td>350</td>\n",
              "        </tr>\n",
              "        <tr>\n",
              "            <td>8</td>\n",
              "            <td>1</td>\n",
              "            <td>My Bucket's Got A Hole In It</td>\n",
              "            <td>8</td>\n",
              "            <td>296</td>\n",
              "        </tr>\n",
              "        <tr>\n",
              "            <td>21</td>\n",
              "            <td>11</td>\n",
              "            <td>Red House</td>\n",
              "            <td>8</td>\n",
              "            <td>786</td>\n",
              "        </tr>\n",
              "        <tr>\n",
              "            <td>29</td>\n",
              "            <td>12</td>\n",
              "            <td>What Goes On</td>\n",
              "            <td>8</td>\n",
              "            <td>170</td>\n",
              "        </tr>\n",
              "        <tr>\n",
              "            <td>44</td>\n",
              "            <td>13</td>\n",
              "            <td>Sanctuary</td>\n",
              "            <td>8</td>\n",
              "            <td>305</td>\n",
              "        </tr>\n",
              "        <tr>\n",
              "            <td>63</td>\n",
              "            <td>17</td>\n",
              "            <td>Uncle Remus</td>\n",
              "            <td>8</td>\n",
              "            <td>164</td>\n",
              "        </tr>\n",
              "        <tr>\n",
              "            <td>9</td>\n",
              "            <td>1</td>\n",
              "            <td>Ain't Nobody's Business</td>\n",
              "            <td>9</td>\n",
              "            <td>447</td>\n",
              "        </tr>\n",
              "        <tr>\n",
              "            <td>30</td>\n",
              "            <td>12</td>\n",
              "            <td>Girl</td>\n",
              "            <td>9</td>\n",
              "            <td>153</td>\n",
              "        </tr>\n",
              "        <tr>\n",
              "            <td>45</td>\n",
              "            <td>13</td>\n",
              "            <td>Open Country Joy</td>\n",
              "            <td>9</td>\n",
              "            <td>236</td>\n",
              "        </tr>\n",
              "        <tr>\n",
              "            <td>64</td>\n",
              "            <td>17</td>\n",
              "            <td>Stink-Foot</td>\n",
              "            <td>9</td>\n",
              "            <td>393</td>\n",
              "        </tr>\n",
              "        <tr>\n",
              "            <td>70</td>\n",
              "            <td>11</td>\n",
              "            <td>Fake Track</td>\n",
              "            <td>9</td>\n",
              "            <td>549</td>\n",
              "        </tr>\n",
              "        <tr>\n",
              "            <td>10</td>\n",
              "            <td>1</td>\n",
              "            <td>That's All</td>\n",
              "            <td>10</td>\n",
              "            <td>368</td>\n",
              "        </tr>\n",
              "        <tr>\n",
              "            <td>31</td>\n",
              "            <td>12</td>\n",
              "            <td>I'm Looking Through You</td>\n",
              "            <td>10</td>\n",
              "            <td>147</td>\n",
              "        </tr>\n",
              "        <tr>\n",
              "            <td>46</td>\n",
              "            <td>13</td>\n",
              "            <td>Resolution</td>\n",
              "            <td>10</td>\n",
              "            <td>129</td>\n",
              "        </tr>\n",
              "        <tr>\n",
              "            <td>32</td>\n",
              "            <td>12</td>\n",
              "            <td>In My Life</td>\n",
              "            <td>11</td>\n",
              "            <td>147</td>\n",
              "        </tr>\n",
              "        <tr>\n",
              "            <td>33</td>\n",
              "            <td>12</td>\n",
              "            <td>Wait</td>\n",
              "            <td>12</td>\n",
              "            <td>136</td>\n",
              "        </tr>\n",
              "        <tr>\n",
              "            <td>34</td>\n",
              "            <td>12</td>\n",
              "            <td>If I Needed Someone</td>\n",
              "            <td>13</td>\n",
              "            <td>143</td>\n",
              "        </tr>\n",
              "        <tr>\n",
              "            <td>35</td>\n",
              "            <td>12</td>\n",
              "            <td>Run for Your Life</td>\n",
              "            <td>14</td>\n",
              "            <td>138</td>\n",
              "        </tr>\n",
              "    </tbody>\n",
              "</table>"
            ]
          },
          "metadata": {},
          "execution_count": 30
        }
      ],
      "source": [
        "%%sql\n",
        "\n"
      ]
    },
    {
      "cell_type": "markdown",
      "id": "2ec4dc84",
      "metadata": {
        "id": "2ec4dc84"
      },
      "source": [
        "🤓🤓🤓 in the tidyverse, order corresponds to arrange(desc()) e.g.\n",
        "\n",
        "`dataframe %>% arrange(desc(column_name))`"
      ]
    },
    {
      "cell_type": "markdown",
      "id": "90c9d4d3",
      "metadata": {
        "id": "90c9d4d3"
      },
      "source": [
        "🤯🤯 If we want to order by TWO columns, we can just list them in order. That's what we want here -- first album_id, then by track_number. Nice and tidy, very German!\n",
        "\n",
        "🤓🤓🤓 in the tidyverse, this would be\n",
        "\n",
        "`track %>% arrange(asc(album_id), asc(track_number))`"
      ]
    },
    {
      "cell_type": "code",
      "execution_count": null,
      "id": "1fef8930",
      "metadata": {
        "id": "1fef8930",
        "outputId": "85f96b54-9386-46e5-c7b8-8ee947586b5a",
        "colab": {
          "base_uri": "https://localhost:8080/",
          "height": 1000
        }
      },
      "outputs": [
        {
          "output_type": "display_data",
          "data": {
            "text/plain": [
              "Running query in 'sqlite:///sqlite_data/your_name.db?charset=utf8mb4'"
            ],
            "text/html": [
              "<span style=\"None\">Running query in &#x27;sqlite:///sqlite_data/your_name.db?charset=utf8mb4&#x27;</span>"
            ]
          },
          "metadata": {}
        },
        {
          "output_type": "execute_result",
          "data": {
            "text/plain": [
              "+----+----------+---------------------------------------+--------------+----------+\n",
              "| id | album_id |                 title                 | track_number | duration |\n",
              "+----+----------+---------------------------------------+--------------+----------+\n",
              "| 1  |    1     |         Bright Lights Big City        |      1       |   320    |\n",
              "| 2  |    1     |               Night Life              |      2       |   344    |\n",
              "| 4  |    1     |                Caldonia               |      3       |   205    |\n",
              "| 5  |    1     |                Stardust               |      4       |   308    |\n",
              "| 3  |    1     |           Basin Street Blues          |      5       |   296    |\n",
              "| 6  |    1     |           Georgia On My Mind          |      6       |   280    |\n",
              "| 7  |    1     |            Rainy Day Blues            |      7       |   343    |\n",
              "| 8  |    1     |      My Bucket's Got A Hole In It     |      8       |   296    |\n",
              "| 9  |    1     |        Ain't Nobody's Business        |      9       |   447    |\n",
              "| 10 |    1     |               That's All              |      10      |   368    |\n",
              "| 14 |    11    |            Johnny B. Goode            |      1       |   285    |\n",
              "| 15 |    11    |               Lover Man               |      2       |   185    |\n",
              "| 16 |    11    |           Blue Suede xShoes           |      3       |   266    |\n",
              "| 17 |    11    |              Voodoo Chile             |      4       |   469    |\n",
              "| 18 |    11    |               The Queen               |      5       |   160    |\n",
              "| 19 |    11    | Sgt. Pepper's Lonely Hearts Club Band |      6       |    76    |\n",
              "| 20 |    11    |              Little Wing              |      7       |   194    |\n",
              "| 21 |    11    |               Red House               |      8       |   786    |\n",
              "| 70 |    11    |               Fake Track              |      9       |   549    |\n",
              "| 22 |    12    |              Drive My Car             |      1       |   150    |\n",
              "| 23 |    12    |  Norwegian Wood (This Bird Has Flown) |      2       |   125    |\n",
              "| 24 |    12    |            You Won't See Me           |      3       |   202    |\n",
              "| 25 |    12    |              Nowhere Man              |      4       |   164    |\n",
              "| 26 |    12    |           Think for Yourself          |      5       |   139    |\n",
              "| 27 |    12    |                The Word               |      6       |   163    |\n",
              "| 28 |    12    |                Michelle               |      7       |   162    |\n",
              "| 29 |    12    |              What Goes On             |      8       |   170    |\n",
              "| 30 |    12    |                  Girl                 |      9       |   153    |\n",
              "| 31 |    12    |        I'm Looking Through You        |      10      |   147    |\n",
              "| 32 |    12    |               In My Life              |      11      |   147    |\n",
              "| 33 |    12    |                  Wait                 |      12      |   136    |\n",
              "| 34 |    12    |          If I Needed Someone          |      13      |   143    |\n",
              "| 35 |    12    |           Run for Your Life           |      14      |   138    |\n",
              "| 37 |    13    |             Birds of Fire             |      1       |   350    |\n",
              "| 38 |    13    |              Miles Beyond             |      2       |   287    |\n",
              "| 39 |    13    |    Celestial Terrestrial Commuters    |      3       |   174    |\n",
              "| 40 |    13    |     Sapphire Bullets of Pure Love     |      4       |    24    |\n",
              "| 41 |    13    |          Thousand Island Park         |      5       |   203    |\n",
              "| 42 |    13    |                  Hope                 |      6       |   119    |\n",
              "| 43 |    13    |                One Word               |      7       |   597    |\n",
              "| 44 |    13    |               Sanctuary               |      8       |   305    |\n",
              "| 45 |    13    |            Open Country Joy           |      9       |   236    |\n",
              "| 46 |    13    |               Resolution              |      10      |   129    |\n",
              "| 50 |    16    |     Good Morning Little Schoolgirl    |      1       |   285    |\n",
              "| 51 |    16    |           It's My Own Fault           |      2       |   734    |\n",
              "| 52 |    16    |           Jumpin' Jack Flash          |      3       |   266    |\n",
              "| 53 |    16    |          Rock And Roll Medley         |      4       |   406    |\n",
              "| 54 |    16    |            Mean Town Blues            |      5       |   539    |\n",
              "| 55 |    16    |            Johnny B. Goode            |      6       |   202    |\n",
              "| 56 |    17    |       Don't Eat the Yellow Snow       |      1       |   127    |\n",
              "| 57 |    17    |             Nanook Rubs It            |      2       |   278    |\n",
              "| 58 |    17    |    St. Alfonzo's Pancake Breakfast    |      3       |   110    |\n",
              "| 59 |    17    |            Father O'Blivion           |      4       |   138    |\n",
              "| 60 |    17    |             Cosmik Debris             |      5       |   254    |\n",
              "| 61 |    17    |           Excentrifugal Forz          |      6       |    93    |\n",
              "| 62 |    17    |               Apostrophe              |      7       |   350    |\n",
              "| 63 |    17    |              Uncle Remus              |      8       |   164    |\n",
              "| 64 |    17    |               Stink-Foot              |      9       |   393    |\n",
              "| 65 |    18    |                So What                |      1       |   565    |\n",
              "| 66 |    18    |           Freddy Freeloader           |      2       |   589    |\n",
              "| 67 |    18    |             Blue in Green             |      3       |   338    |\n",
              "| 68 |    18    |               All Blues               |      4       |   696    |\n",
              "| 69 |    18    |           Flamenco Sketches           |      5       |   566    |\n",
              "+----+----------+---------------------------------------+--------------+----------+"
            ],
            "text/html": [
              "<table>\n",
              "    <thead>\n",
              "        <tr>\n",
              "            <th>id</th>\n",
              "            <th>album_id</th>\n",
              "            <th>title</th>\n",
              "            <th>track_number</th>\n",
              "            <th>duration</th>\n",
              "        </tr>\n",
              "    </thead>\n",
              "    <tbody>\n",
              "        <tr>\n",
              "            <td>1</td>\n",
              "            <td>1</td>\n",
              "            <td>Bright Lights Big City</td>\n",
              "            <td>1</td>\n",
              "            <td>320</td>\n",
              "        </tr>\n",
              "        <tr>\n",
              "            <td>2</td>\n",
              "            <td>1</td>\n",
              "            <td>Night Life</td>\n",
              "            <td>2</td>\n",
              "            <td>344</td>\n",
              "        </tr>\n",
              "        <tr>\n",
              "            <td>4</td>\n",
              "            <td>1</td>\n",
              "            <td>Caldonia</td>\n",
              "            <td>3</td>\n",
              "            <td>205</td>\n",
              "        </tr>\n",
              "        <tr>\n",
              "            <td>5</td>\n",
              "            <td>1</td>\n",
              "            <td>Stardust</td>\n",
              "            <td>4</td>\n",
              "            <td>308</td>\n",
              "        </tr>\n",
              "        <tr>\n",
              "            <td>3</td>\n",
              "            <td>1</td>\n",
              "            <td>Basin Street Blues</td>\n",
              "            <td>5</td>\n",
              "            <td>296</td>\n",
              "        </tr>\n",
              "        <tr>\n",
              "            <td>6</td>\n",
              "            <td>1</td>\n",
              "            <td>Georgia On My Mind</td>\n",
              "            <td>6</td>\n",
              "            <td>280</td>\n",
              "        </tr>\n",
              "        <tr>\n",
              "            <td>7</td>\n",
              "            <td>1</td>\n",
              "            <td>Rainy Day Blues</td>\n",
              "            <td>7</td>\n",
              "            <td>343</td>\n",
              "        </tr>\n",
              "        <tr>\n",
              "            <td>8</td>\n",
              "            <td>1</td>\n",
              "            <td>My Bucket's Got A Hole In It</td>\n",
              "            <td>8</td>\n",
              "            <td>296</td>\n",
              "        </tr>\n",
              "        <tr>\n",
              "            <td>9</td>\n",
              "            <td>1</td>\n",
              "            <td>Ain't Nobody's Business</td>\n",
              "            <td>9</td>\n",
              "            <td>447</td>\n",
              "        </tr>\n",
              "        <tr>\n",
              "            <td>10</td>\n",
              "            <td>1</td>\n",
              "            <td>That's All</td>\n",
              "            <td>10</td>\n",
              "            <td>368</td>\n",
              "        </tr>\n",
              "        <tr>\n",
              "            <td>14</td>\n",
              "            <td>11</td>\n",
              "            <td>Johnny B. Goode</td>\n",
              "            <td>1</td>\n",
              "            <td>285</td>\n",
              "        </tr>\n",
              "        <tr>\n",
              "            <td>15</td>\n",
              "            <td>11</td>\n",
              "            <td>Lover Man</td>\n",
              "            <td>2</td>\n",
              "            <td>185</td>\n",
              "        </tr>\n",
              "        <tr>\n",
              "            <td>16</td>\n",
              "            <td>11</td>\n",
              "            <td>Blue Suede xShoes</td>\n",
              "            <td>3</td>\n",
              "            <td>266</td>\n",
              "        </tr>\n",
              "        <tr>\n",
              "            <td>17</td>\n",
              "            <td>11</td>\n",
              "            <td>Voodoo Chile</td>\n",
              "            <td>4</td>\n",
              "            <td>469</td>\n",
              "        </tr>\n",
              "        <tr>\n",
              "            <td>18</td>\n",
              "            <td>11</td>\n",
              "            <td>The Queen</td>\n",
              "            <td>5</td>\n",
              "            <td>160</td>\n",
              "        </tr>\n",
              "        <tr>\n",
              "            <td>19</td>\n",
              "            <td>11</td>\n",
              "            <td>Sgt. Pepper's Lonely Hearts Club Band</td>\n",
              "            <td>6</td>\n",
              "            <td>76</td>\n",
              "        </tr>\n",
              "        <tr>\n",
              "            <td>20</td>\n",
              "            <td>11</td>\n",
              "            <td>Little Wing</td>\n",
              "            <td>7</td>\n",
              "            <td>194</td>\n",
              "        </tr>\n",
              "        <tr>\n",
              "            <td>21</td>\n",
              "            <td>11</td>\n",
              "            <td>Red House</td>\n",
              "            <td>8</td>\n",
              "            <td>786</td>\n",
              "        </tr>\n",
              "        <tr>\n",
              "            <td>70</td>\n",
              "            <td>11</td>\n",
              "            <td>Fake Track</td>\n",
              "            <td>9</td>\n",
              "            <td>549</td>\n",
              "        </tr>\n",
              "        <tr>\n",
              "            <td>22</td>\n",
              "            <td>12</td>\n",
              "            <td>Drive My Car</td>\n",
              "            <td>1</td>\n",
              "            <td>150</td>\n",
              "        </tr>\n",
              "        <tr>\n",
              "            <td>23</td>\n",
              "            <td>12</td>\n",
              "            <td>Norwegian Wood (This Bird Has Flown)</td>\n",
              "            <td>2</td>\n",
              "            <td>125</td>\n",
              "        </tr>\n",
              "        <tr>\n",
              "            <td>24</td>\n",
              "            <td>12</td>\n",
              "            <td>You Won't See Me</td>\n",
              "            <td>3</td>\n",
              "            <td>202</td>\n",
              "        </tr>\n",
              "        <tr>\n",
              "            <td>25</td>\n",
              "            <td>12</td>\n",
              "            <td>Nowhere Man</td>\n",
              "            <td>4</td>\n",
              "            <td>164</td>\n",
              "        </tr>\n",
              "        <tr>\n",
              "            <td>26</td>\n",
              "            <td>12</td>\n",
              "            <td>Think for Yourself</td>\n",
              "            <td>5</td>\n",
              "            <td>139</td>\n",
              "        </tr>\n",
              "        <tr>\n",
              "            <td>27</td>\n",
              "            <td>12</td>\n",
              "            <td>The Word</td>\n",
              "            <td>6</td>\n",
              "            <td>163</td>\n",
              "        </tr>\n",
              "        <tr>\n",
              "            <td>28</td>\n",
              "            <td>12</td>\n",
              "            <td>Michelle</td>\n",
              "            <td>7</td>\n",
              "            <td>162</td>\n",
              "        </tr>\n",
              "        <tr>\n",
              "            <td>29</td>\n",
              "            <td>12</td>\n",
              "            <td>What Goes On</td>\n",
              "            <td>8</td>\n",
              "            <td>170</td>\n",
              "        </tr>\n",
              "        <tr>\n",
              "            <td>30</td>\n",
              "            <td>12</td>\n",
              "            <td>Girl</td>\n",
              "            <td>9</td>\n",
              "            <td>153</td>\n",
              "        </tr>\n",
              "        <tr>\n",
              "            <td>31</td>\n",
              "            <td>12</td>\n",
              "            <td>I'm Looking Through You</td>\n",
              "            <td>10</td>\n",
              "            <td>147</td>\n",
              "        </tr>\n",
              "        <tr>\n",
              "            <td>32</td>\n",
              "            <td>12</td>\n",
              "            <td>In My Life</td>\n",
              "            <td>11</td>\n",
              "            <td>147</td>\n",
              "        </tr>\n",
              "        <tr>\n",
              "            <td>33</td>\n",
              "            <td>12</td>\n",
              "            <td>Wait</td>\n",
              "            <td>12</td>\n",
              "            <td>136</td>\n",
              "        </tr>\n",
              "        <tr>\n",
              "            <td>34</td>\n",
              "            <td>12</td>\n",
              "            <td>If I Needed Someone</td>\n",
              "            <td>13</td>\n",
              "            <td>143</td>\n",
              "        </tr>\n",
              "        <tr>\n",
              "            <td>35</td>\n",
              "            <td>12</td>\n",
              "            <td>Run for Your Life</td>\n",
              "            <td>14</td>\n",
              "            <td>138</td>\n",
              "        </tr>\n",
              "        <tr>\n",
              "            <td>37</td>\n",
              "            <td>13</td>\n",
              "            <td>Birds of Fire</td>\n",
              "            <td>1</td>\n",
              "            <td>350</td>\n",
              "        </tr>\n",
              "        <tr>\n",
              "            <td>38</td>\n",
              "            <td>13</td>\n",
              "            <td>Miles Beyond</td>\n",
              "            <td>2</td>\n",
              "            <td>287</td>\n",
              "        </tr>\n",
              "        <tr>\n",
              "            <td>39</td>\n",
              "            <td>13</td>\n",
              "            <td>Celestial Terrestrial Commuters</td>\n",
              "            <td>3</td>\n",
              "            <td>174</td>\n",
              "        </tr>\n",
              "        <tr>\n",
              "            <td>40</td>\n",
              "            <td>13</td>\n",
              "            <td>Sapphire Bullets of Pure Love</td>\n",
              "            <td>4</td>\n",
              "            <td>24</td>\n",
              "        </tr>\n",
              "        <tr>\n",
              "            <td>41</td>\n",
              "            <td>13</td>\n",
              "            <td>Thousand Island Park</td>\n",
              "            <td>5</td>\n",
              "            <td>203</td>\n",
              "        </tr>\n",
              "        <tr>\n",
              "            <td>42</td>\n",
              "            <td>13</td>\n",
              "            <td>Hope</td>\n",
              "            <td>6</td>\n",
              "            <td>119</td>\n",
              "        </tr>\n",
              "        <tr>\n",
              "            <td>43</td>\n",
              "            <td>13</td>\n",
              "            <td>One Word</td>\n",
              "            <td>7</td>\n",
              "            <td>597</td>\n",
              "        </tr>\n",
              "        <tr>\n",
              "            <td>44</td>\n",
              "            <td>13</td>\n",
              "            <td>Sanctuary</td>\n",
              "            <td>8</td>\n",
              "            <td>305</td>\n",
              "        </tr>\n",
              "        <tr>\n",
              "            <td>45</td>\n",
              "            <td>13</td>\n",
              "            <td>Open Country Joy</td>\n",
              "            <td>9</td>\n",
              "            <td>236</td>\n",
              "        </tr>\n",
              "        <tr>\n",
              "            <td>46</td>\n",
              "            <td>13</td>\n",
              "            <td>Resolution</td>\n",
              "            <td>10</td>\n",
              "            <td>129</td>\n",
              "        </tr>\n",
              "        <tr>\n",
              "            <td>50</td>\n",
              "            <td>16</td>\n",
              "            <td>Good Morning Little Schoolgirl</td>\n",
              "            <td>1</td>\n",
              "            <td>285</td>\n",
              "        </tr>\n",
              "        <tr>\n",
              "            <td>51</td>\n",
              "            <td>16</td>\n",
              "            <td>It's My Own Fault</td>\n",
              "            <td>2</td>\n",
              "            <td>734</td>\n",
              "        </tr>\n",
              "        <tr>\n",
              "            <td>52</td>\n",
              "            <td>16</td>\n",
              "            <td>Jumpin' Jack Flash</td>\n",
              "            <td>3</td>\n",
              "            <td>266</td>\n",
              "        </tr>\n",
              "        <tr>\n",
              "            <td>53</td>\n",
              "            <td>16</td>\n",
              "            <td>Rock And Roll Medley</td>\n",
              "            <td>4</td>\n",
              "            <td>406</td>\n",
              "        </tr>\n",
              "        <tr>\n",
              "            <td>54</td>\n",
              "            <td>16</td>\n",
              "            <td>Mean Town Blues</td>\n",
              "            <td>5</td>\n",
              "            <td>539</td>\n",
              "        </tr>\n",
              "        <tr>\n",
              "            <td>55</td>\n",
              "            <td>16</td>\n",
              "            <td>Johnny B. Goode</td>\n",
              "            <td>6</td>\n",
              "            <td>202</td>\n",
              "        </tr>\n",
              "        <tr>\n",
              "            <td>56</td>\n",
              "            <td>17</td>\n",
              "            <td>Don't Eat the Yellow Snow</td>\n",
              "            <td>1</td>\n",
              "            <td>127</td>\n",
              "        </tr>\n",
              "        <tr>\n",
              "            <td>57</td>\n",
              "            <td>17</td>\n",
              "            <td>Nanook Rubs It</td>\n",
              "            <td>2</td>\n",
              "            <td>278</td>\n",
              "        </tr>\n",
              "        <tr>\n",
              "            <td>58</td>\n",
              "            <td>17</td>\n",
              "            <td>St. Alfonzo's Pancake Breakfast</td>\n",
              "            <td>3</td>\n",
              "            <td>110</td>\n",
              "        </tr>\n",
              "        <tr>\n",
              "            <td>59</td>\n",
              "            <td>17</td>\n",
              "            <td>Father O'Blivion</td>\n",
              "            <td>4</td>\n",
              "            <td>138</td>\n",
              "        </tr>\n",
              "        <tr>\n",
              "            <td>60</td>\n",
              "            <td>17</td>\n",
              "            <td>Cosmik Debris</td>\n",
              "            <td>5</td>\n",
              "            <td>254</td>\n",
              "        </tr>\n",
              "        <tr>\n",
              "            <td>61</td>\n",
              "            <td>17</td>\n",
              "            <td>Excentrifugal Forz</td>\n",
              "            <td>6</td>\n",
              "            <td>93</td>\n",
              "        </tr>\n",
              "        <tr>\n",
              "            <td>62</td>\n",
              "            <td>17</td>\n",
              "            <td>Apostrophe</td>\n",
              "            <td>7</td>\n",
              "            <td>350</td>\n",
              "        </tr>\n",
              "        <tr>\n",
              "            <td>63</td>\n",
              "            <td>17</td>\n",
              "            <td>Uncle Remus</td>\n",
              "            <td>8</td>\n",
              "            <td>164</td>\n",
              "        </tr>\n",
              "        <tr>\n",
              "            <td>64</td>\n",
              "            <td>17</td>\n",
              "            <td>Stink-Foot</td>\n",
              "            <td>9</td>\n",
              "            <td>393</td>\n",
              "        </tr>\n",
              "        <tr>\n",
              "            <td>65</td>\n",
              "            <td>18</td>\n",
              "            <td>So What</td>\n",
              "            <td>1</td>\n",
              "            <td>565</td>\n",
              "        </tr>\n",
              "        <tr>\n",
              "            <td>66</td>\n",
              "            <td>18</td>\n",
              "            <td>Freddy Freeloader</td>\n",
              "            <td>2</td>\n",
              "            <td>589</td>\n",
              "        </tr>\n",
              "        <tr>\n",
              "            <td>67</td>\n",
              "            <td>18</td>\n",
              "            <td>Blue in Green</td>\n",
              "            <td>3</td>\n",
              "            <td>338</td>\n",
              "        </tr>\n",
              "        <tr>\n",
              "            <td>68</td>\n",
              "            <td>18</td>\n",
              "            <td>All Blues</td>\n",
              "            <td>4</td>\n",
              "            <td>696</td>\n",
              "        </tr>\n",
              "        <tr>\n",
              "            <td>69</td>\n",
              "            <td>18</td>\n",
              "            <td>Flamenco Sketches</td>\n",
              "            <td>5</td>\n",
              "            <td>566</td>\n",
              "        </tr>\n",
              "    </tbody>\n",
              "</table>"
            ]
          },
          "metadata": {},
          "execution_count": 31
        }
      ],
      "source": [
        "%%sql\n",
        "\n",
        "SELECT *\n",
        "FROM track\n",
        "ORDER BY album_id ASC, track_number ASC;"
      ]
    },
    {
      "cell_type": "markdown",
      "id": "83288700",
      "metadata": {
        "id": "83288700"
      },
      "source": [
        "### RAND( )  <a class=\"anchor\" id=\"rand\"></a>"
      ]
    },
    {
      "cell_type": "markdown",
      "id": "7c393b59",
      "metadata": {
        "id": "7c393b59"
      },
      "source": [
        "We can also randomly order (permutate) the rows of a table using the **RAND( )** function of MySQL. But how is it different from a vanilla **SELECT** statement? **SELECT** statement returns the results in the order they were stored, which can(not) be in a particular order (depends on the order of insertion).\n",
        "\n",
        "**RAND( )** provides gives us results in random order. This is particularly useful while obtaining a sample of the rows, which we will discuss below. You don't want to base everything you learn from a table on its first 10 rows, say. That's a recipe for BAD SCIENCE 🙅🙅‍♂️\n",
        "\n",
        "For now, let's shuffle the above results. Execute the below cell a few times to see it shuffle away!"
      ]
    },
    {
      "cell_type": "code",
      "execution_count": null,
      "id": "81b52a0f",
      "metadata": {
        "id": "81b52a0f",
        "outputId": "bd2602b0-3715-4a47-8cf3-1e6db5f7c776",
        "colab": {
          "base_uri": "https://localhost:8080/",
          "height": 289
        }
      },
      "outputs": [
        {
          "output_type": "display_data",
          "data": {
            "text/plain": [
              "Running query in 'sqlite:///sqlite_data/shashanka.db?charset=utf8mb4'"
            ],
            "text/html": [
              "<span style=\"None\">Running query in &#x27;sqlite:///sqlite_data/shashanka.db?charset=utf8mb4&#x27;</span>"
            ]
          },
          "metadata": {}
        },
        {
          "output_type": "execute_result",
          "data": {
            "text/plain": [
              "+----+----------+---------------------------------+--------------+----------+\n",
              "| id | album_id |              title              | track_number | duration |\n",
              "+----+----------+---------------------------------+--------------+----------+\n",
              "| 46 |    13    |            Resolution           |      10      |   129    |\n",
              "| 2  |    1     |            Night Life           |      2       |   344    |\n",
              "| 50 |    16    |  Good Morning Little Schoolgirl |      1       |   285    |\n",
              "| 62 |    17    |            Apostrophe           |      7       |   350    |\n",
              "| 34 |    12    |       If I Needed Someone       |      13      |   143    |\n",
              "| 63 |    17    |           Uncle Remus           |      8       |   164    |\n",
              "| 60 |    17    |          Cosmik Debris          |      5       |   254    |\n",
              "| 51 |    16    |        It's My Own Fault        |      2       |   734    |\n",
              "| 39 |    13    | Celestial Terrestrial Commuters |      3       |   174    |\n",
              "| 59 |    17    |         Father O'Blivion        |      4       |   138    |\n",
              "+----+----------+---------------------------------+--------------+----------+\n",
              "Truncated to displaylimit of 10."
            ],
            "text/html": [
              "<table>\n",
              "    <thead>\n",
              "        <tr>\n",
              "            <th>id</th>\n",
              "            <th>album_id</th>\n",
              "            <th>title</th>\n",
              "            <th>track_number</th>\n",
              "            <th>duration</th>\n",
              "        </tr>\n",
              "    </thead>\n",
              "    <tbody>\n",
              "        <tr>\n",
              "            <td>46</td>\n",
              "            <td>13</td>\n",
              "            <td>Resolution</td>\n",
              "            <td>10</td>\n",
              "            <td>129</td>\n",
              "        </tr>\n",
              "        <tr>\n",
              "            <td>2</td>\n",
              "            <td>1</td>\n",
              "            <td>Night Life</td>\n",
              "            <td>2</td>\n",
              "            <td>344</td>\n",
              "        </tr>\n",
              "        <tr>\n",
              "            <td>50</td>\n",
              "            <td>16</td>\n",
              "            <td>Good Morning Little Schoolgirl</td>\n",
              "            <td>1</td>\n",
              "            <td>285</td>\n",
              "        </tr>\n",
              "        <tr>\n",
              "            <td>62</td>\n",
              "            <td>17</td>\n",
              "            <td>Apostrophe</td>\n",
              "            <td>7</td>\n",
              "            <td>350</td>\n",
              "        </tr>\n",
              "        <tr>\n",
              "            <td>34</td>\n",
              "            <td>12</td>\n",
              "            <td>If I Needed Someone</td>\n",
              "            <td>13</td>\n",
              "            <td>143</td>\n",
              "        </tr>\n",
              "        <tr>\n",
              "            <td>63</td>\n",
              "            <td>17</td>\n",
              "            <td>Uncle Remus</td>\n",
              "            <td>8</td>\n",
              "            <td>164</td>\n",
              "        </tr>\n",
              "        <tr>\n",
              "            <td>60</td>\n",
              "            <td>17</td>\n",
              "            <td>Cosmik Debris</td>\n",
              "            <td>5</td>\n",
              "            <td>254</td>\n",
              "        </tr>\n",
              "        <tr>\n",
              "            <td>51</td>\n",
              "            <td>16</td>\n",
              "            <td>It's My Own Fault</td>\n",
              "            <td>2</td>\n",
              "            <td>734</td>\n",
              "        </tr>\n",
              "        <tr>\n",
              "            <td>39</td>\n",
              "            <td>13</td>\n",
              "            <td>Celestial Terrestrial Commuters</td>\n",
              "            <td>3</td>\n",
              "            <td>174</td>\n",
              "        </tr>\n",
              "        <tr>\n",
              "            <td>59</td>\n",
              "            <td>17</td>\n",
              "            <td>Father O'Blivion</td>\n",
              "            <td>4</td>\n",
              "            <td>138</td>\n",
              "        </tr>\n",
              "    </tbody>\n",
              "</table>\n",
              "<span style=\"font-style:italic;text-align:center;\">Truncated to <a href=\"https://jupysql.ploomber.io/en/latest/api/configuration.html#displaylimit\">displaylimit</a> of 10.</span>"
            ]
          },
          "metadata": {},
          "execution_count": 15
        }
      ],
      "source": [
        "%%sql\n",
        "\n",
        "SELECT *\n",
        "FROM track\n",
        "ORDER BY RANDOM();"
      ]
    },
    {
      "cell_type": "markdown",
      "id": "49b5af82",
      "metadata": {
        "id": "49b5af82"
      },
      "source": [
        "### LIMIT <a class=\"anchor\" id=\"limit\"></a>"
      ]
    },
    {
      "cell_type": "markdown",
      "id": "194958f1",
      "metadata": {
        "id": "194958f1"
      },
      "source": [
        "As you can see, the above output is already getting long and annoying. We don't have time for that.\n",
        "\n",
        "We may simply want the first **N** rows of a table, which we can do with the **LIMIT** quantifier as show below."
      ]
    },
    {
      "cell_type": "code",
      "execution_count": null,
      "id": "f000bdfb",
      "metadata": {
        "id": "f000bdfb",
        "outputId": "0c8f8472-3aa4-40e0-e571-6c15073f551f",
        "colab": {
          "base_uri": "https://localhost:8080/",
          "height": 165
        }
      },
      "outputs": [
        {
          "output_type": "display_data",
          "data": {
            "text/plain": [
              "Running query in 'sqlite:///sqlite_data/your_name.db?charset=utf8mb4'"
            ],
            "text/html": [
              "<span style=\"None\">Running query in &#x27;sqlite:///sqlite_data/your_name.db?charset=utf8mb4&#x27;</span>"
            ]
          },
          "metadata": {}
        },
        {
          "output_type": "execute_result",
          "data": {
            "text/plain": [
              "+------------------------+-----------------------------------+\n",
              "|         title          |               artist              |\n",
              "+------------------------+-----------------------------------+\n",
              "| Two Men with the Blues | Willie Nelson and Wynton Marsalis |\n",
              "|  Hendrix in the West   |            Jimi Hendrix           |\n",
              "|      Rubber Soul       |            The Beatles            |\n",
              "|     Birds of Fire      |        Mahavishnu Orchestra       |\n",
              "|        Live And        |           Johnny Winter           |\n",
              "+------------------------+-----------------------------------+"
            ],
            "text/html": [
              "<table>\n",
              "    <thead>\n",
              "        <tr>\n",
              "            <th>title</th>\n",
              "            <th>artist</th>\n",
              "        </tr>\n",
              "    </thead>\n",
              "    <tbody>\n",
              "        <tr>\n",
              "            <td>Two Men with the Blues</td>\n",
              "            <td>Willie Nelson and Wynton Marsalis</td>\n",
              "        </tr>\n",
              "        <tr>\n",
              "            <td>Hendrix in the West</td>\n",
              "            <td>Jimi Hendrix</td>\n",
              "        </tr>\n",
              "        <tr>\n",
              "            <td>Rubber Soul</td>\n",
              "            <td>The Beatles</td>\n",
              "        </tr>\n",
              "        <tr>\n",
              "            <td>Birds of Fire</td>\n",
              "            <td>Mahavishnu Orchestra</td>\n",
              "        </tr>\n",
              "        <tr>\n",
              "            <td>Live And</td>\n",
              "            <td>Johnny Winter</td>\n",
              "        </tr>\n",
              "    </tbody>\n",
              "</table>"
            ]
          },
          "metadata": {},
          "execution_count": 20
        }
      ],
      "source": [
        "%%sql\n",
        "\n",
        "SELECT title, artist\n",
        "FROM album\n",
        "LIMIT 5;"
      ]
    },
    {
      "cell_type": "markdown",
      "id": "4d229a4b",
      "metadata": {
        "id": "4d229a4b"
      },
      "source": [
        "**LIMIT** combined with **ORDER BY** **RANDOM( )** provides a method to obtained a sample without replacement where the sample size is **N**. To do this, we simply randomly order the rows of a table (as discussed above) and the limit the result size to **N**. For example, let's take a sample of size 5 from the table `track`.\n",
        "\n",
        "🐬🐬🐬 FYI: in MySQL `RANDOM()` is called `RAND()`"
      ]
    },
    {
      "cell_type": "code",
      "execution_count": null,
      "id": "b25c708a",
      "metadata": {
        "id": "b25c708a",
        "outputId": "e460e622-d6e1-450d-da08-1f1abe805fec",
        "colab": {
          "base_uri": "https://localhost:8080/",
          "height": 165
        }
      },
      "outputs": [
        {
          "output_type": "display_data",
          "data": {
            "text/plain": [
              "Running query in 'sqlite:///sqlite_data/your_name.db?charset=utf8mb4'"
            ],
            "text/html": [
              "<span style=\"None\">Running query in &#x27;sqlite:///sqlite_data/your_name.db?charset=utf8mb4&#x27;</span>"
            ]
          },
          "metadata": {}
        },
        {
          "output_type": "execute_result",
          "data": {
            "text/plain": [
              "+----+----------+-------------------+--------------+----------+\n",
              "| id | album_id |       title       | track_number | duration |\n",
              "+----+----------+-------------------+--------------+----------+\n",
              "| 32 |    12    |     In My Life    |      11      |   147    |\n",
              "| 60 |    17    |   Cosmik Debris   |      5       |   254    |\n",
              "| 24 |    12    |  You Won't See Me |      3       |   202    |\n",
              "| 16 |    11    | Blue Suede xShoes |      3       |   266    |\n",
              "| 10 |    1     |     That's All    |      10      |   368    |\n",
              "+----+----------+-------------------+--------------+----------+"
            ],
            "text/html": [
              "<table>\n",
              "    <thead>\n",
              "        <tr>\n",
              "            <th>id</th>\n",
              "            <th>album_id</th>\n",
              "            <th>title</th>\n",
              "            <th>track_number</th>\n",
              "            <th>duration</th>\n",
              "        </tr>\n",
              "    </thead>\n",
              "    <tbody>\n",
              "        <tr>\n",
              "            <td>32</td>\n",
              "            <td>12</td>\n",
              "            <td>In My Life</td>\n",
              "            <td>11</td>\n",
              "            <td>147</td>\n",
              "        </tr>\n",
              "        <tr>\n",
              "            <td>60</td>\n",
              "            <td>17</td>\n",
              "            <td>Cosmik Debris</td>\n",
              "            <td>5</td>\n",
              "            <td>254</td>\n",
              "        </tr>\n",
              "        <tr>\n",
              "            <td>24</td>\n",
              "            <td>12</td>\n",
              "            <td>You Won't See Me</td>\n",
              "            <td>3</td>\n",
              "            <td>202</td>\n",
              "        </tr>\n",
              "        <tr>\n",
              "            <td>16</td>\n",
              "            <td>11</td>\n",
              "            <td>Blue Suede xShoes</td>\n",
              "            <td>3</td>\n",
              "            <td>266</td>\n",
              "        </tr>\n",
              "        <tr>\n",
              "            <td>10</td>\n",
              "            <td>1</td>\n",
              "            <td>That's All</td>\n",
              "            <td>10</td>\n",
              "            <td>368</td>\n",
              "        </tr>\n",
              "    </tbody>\n",
              "</table>"
            ]
          },
          "metadata": {},
          "execution_count": 21
        }
      ],
      "source": [
        "%%sql\n",
        "\n",
        "SELECT *\n",
        "FROM track\n",
        "ORDER BY RANDOM()\n",
        "LIMIT 5;"
      ]
    },
    {
      "cell_type": "markdown",
      "id": "b5c2300e",
      "metadata": {
        "id": "b5c2300e"
      },
      "source": [
        "#### 👩‍🔬💻 Exercise\n",
        "\n",
        "Can you output the 5 shortest tracks?"
      ]
    },
    {
      "cell_type": "code",
      "execution_count": null,
      "id": "655bfe97",
      "metadata": {
        "id": "655bfe97",
        "outputId": "6bd00c24-5025-4ac5-d252-32ae9915ce09",
        "colab": {
          "base_uri": "https://localhost:8080/",
          "height": 165
        }
      },
      "outputs": [
        {
          "output_type": "display_data",
          "data": {
            "text/plain": [
              "Running query in 'sqlite:///sqlite_data/shashanka.db?charset=utf8mb4'"
            ],
            "text/html": [
              "<span style=\"None\">Running query in &#x27;sqlite:///sqlite_data/shashanka.db?charset=utf8mb4&#x27;</span>"
            ]
          },
          "metadata": {}
        },
        {
          "output_type": "execute_result",
          "data": {
            "text/plain": [
              "+----+----------+---------------------------------------+--------------+----------+\n",
              "| id | album_id |                 title                 | track_number | duration |\n",
              "+----+----------+---------------------------------------+--------------+----------+\n",
              "| 40 |    13    |     Sapphire Bullets of Pure Love     |      4       |    24    |\n",
              "| 19 |    11    | Sgt. Pepper's Lonely Hearts Club Band |      6       |    76    |\n",
              "| 61 |    17    |           Excentrifugal Forz          |      6       |    93    |\n",
              "| 58 |    17    |    St. Alfonzo's Pancake Breakfast    |      3       |   110    |\n",
              "| 42 |    13    |                  Hope                 |      6       |   119    |\n",
              "+----+----------+---------------------------------------+--------------+----------+"
            ],
            "text/html": [
              "<table>\n",
              "    <thead>\n",
              "        <tr>\n",
              "            <th>id</th>\n",
              "            <th>album_id</th>\n",
              "            <th>title</th>\n",
              "            <th>track_number</th>\n",
              "            <th>duration</th>\n",
              "        </tr>\n",
              "    </thead>\n",
              "    <tbody>\n",
              "        <tr>\n",
              "            <td>40</td>\n",
              "            <td>13</td>\n",
              "            <td>Sapphire Bullets of Pure Love</td>\n",
              "            <td>4</td>\n",
              "            <td>24</td>\n",
              "        </tr>\n",
              "        <tr>\n",
              "            <td>19</td>\n",
              "            <td>11</td>\n",
              "            <td>Sgt. Pepper's Lonely Hearts Club Band</td>\n",
              "            <td>6</td>\n",
              "            <td>76</td>\n",
              "        </tr>\n",
              "        <tr>\n",
              "            <td>61</td>\n",
              "            <td>17</td>\n",
              "            <td>Excentrifugal Forz</td>\n",
              "            <td>6</td>\n",
              "            <td>93</td>\n",
              "        </tr>\n",
              "        <tr>\n",
              "            <td>58</td>\n",
              "            <td>17</td>\n",
              "            <td>St. Alfonzo's Pancake Breakfast</td>\n",
              "            <td>3</td>\n",
              "            <td>110</td>\n",
              "        </tr>\n",
              "        <tr>\n",
              "            <td>42</td>\n",
              "            <td>13</td>\n",
              "            <td>Hope</td>\n",
              "            <td>6</td>\n",
              "            <td>119</td>\n",
              "        </tr>\n",
              "    </tbody>\n",
              "</table>"
            ]
          },
          "metadata": {},
          "execution_count": 19
        }
      ],
      "source": [
        "%%sql\n",
        "\n"
      ]
    },
    {
      "cell_type": "markdown",
      "id": "a52d1ce0",
      "metadata": {
        "id": "a52d1ce0"
      },
      "source": [
        "### COUNT"
      ]
    },
    {
      "cell_type": "markdown",
      "id": "346818b9",
      "metadata": {
        "id": "346818b9"
      },
      "source": [
        "We can also count the number of values in a column, and we use **COUNT( COLUMN )** function to do that. For example, to count the number of records of every label in the *album* table, we can use the below query."
      ]
    },
    {
      "cell_type": "code",
      "execution_count": null,
      "id": "868dfef1",
      "metadata": {
        "id": "868dfef1",
        "outputId": "92e04277-4d84-407d-ec38-b229e960c1ac",
        "colab": {
          "base_uri": "https://localhost:8080/",
          "height": 79
        }
      },
      "outputs": [
        {
          "output_type": "display_data",
          "data": {
            "text/plain": [
              "Running query in 'sqlite:///sqlite_data/your_name.db?charset=utf8mb4'"
            ],
            "text/html": [
              "<span style=\"None\">Running query in &#x27;sqlite:///sqlite_data/your_name.db?charset=utf8mb4&#x27;</span>"
            ]
          },
          "metadata": {}
        },
        {
          "output_type": "execute_result",
          "data": {
            "text/plain": [
              "+---------------+\n",
              "| COUNT(artist) |\n",
              "+---------------+\n",
              "|       7       |\n",
              "+---------------+"
            ],
            "text/html": [
              "<table>\n",
              "    <thead>\n",
              "        <tr>\n",
              "            <th>COUNT(artist)</th>\n",
              "        </tr>\n",
              "    </thead>\n",
              "    <tbody>\n",
              "        <tr>\n",
              "            <td>7</td>\n",
              "        </tr>\n",
              "    </tbody>\n",
              "</table>"
            ]
          },
          "metadata": {},
          "execution_count": 22
        }
      ],
      "source": [
        "%%sql\n",
        "\n",
        "SELECT COUNT(artist)\n",
        "FROM album;"
      ]
    },
    {
      "cell_type": "markdown",
      "id": "8c4e8b01",
      "metadata": {
        "id": "8c4e8b01"
      },
      "source": [
        "To count the number of records in the tables, we do **COUNT(** * **)**. You remember the asterisk, don't you?"
      ]
    },
    {
      "cell_type": "code",
      "execution_count": null,
      "id": "e7395a50",
      "metadata": {
        "id": "e7395a50",
        "outputId": "a3df4286-ba1a-423e-f232-442a703c4e18",
        "colab": {
          "base_uri": "https://localhost:8080/",
          "height": 79
        }
      },
      "outputs": [
        {
          "output_type": "display_data",
          "data": {
            "text/plain": [
              "Running query in 'sqlite:///sqlite_data/your_name.db?charset=utf8mb4'"
            ],
            "text/html": [
              "<span style=\"None\">Running query in &#x27;sqlite:///sqlite_data/your_name.db?charset=utf8mb4&#x27;</span>"
            ]
          },
          "metadata": {}
        },
        {
          "output_type": "execute_result",
          "data": {
            "text/plain": [
              "+----------+\n",
              "| COUNT(*) |\n",
              "+----------+\n",
              "|    7     |\n",
              "+----------+"
            ],
            "text/html": [
              "<table>\n",
              "    <thead>\n",
              "        <tr>\n",
              "            <th>COUNT(*)</th>\n",
              "        </tr>\n",
              "    </thead>\n",
              "    <tbody>\n",
              "        <tr>\n",
              "            <td>7</td>\n",
              "        </tr>\n",
              "    </tbody>\n",
              "</table>"
            ]
          },
          "metadata": {},
          "execution_count": 23
        }
      ],
      "source": [
        "%%sql\n",
        "\n",
        "SELECT COUNT(*)\n",
        "FROM album;"
      ]
    },
    {
      "cell_type": "markdown",
      "id": "3070492a",
      "metadata": {
        "id": "3070492a"
      },
      "source": [
        "When will above queries differ in their results? To be specific when will **COUNT(COLUMN)** be less that **COUNT( * )**?\n",
        "\n",
        "Well, when an entry in the column is empty -- in SQL, that's a `NULL` entry -- equivalent to a **NA** in R. We don't have such entries yet."
      ]
    },
    {
      "cell_type": "markdown",
      "id": "b3648769",
      "metadata": {
        "id": "b3648769"
      },
      "source": [
        "#### 👩‍🔬💻 Exercise\n",
        "\n",
        "How many rows are there in the track table?"
      ]
    },
    {
      "cell_type": "code",
      "execution_count": null,
      "id": "1f3e0dbf",
      "metadata": {
        "id": "1f3e0dbf",
        "outputId": "7f37c9a3-9eab-4897-8a70-2f4984348939",
        "colab": {
          "base_uri": "https://localhost:8080/",
          "height": 79
        }
      },
      "outputs": [
        {
          "output_type": "display_data",
          "data": {
            "text/plain": [
              "Running query in 'sqlite:///sqlite_data/your_name.db?charset=utf8mb4'"
            ],
            "text/html": [
              "<span style=\"None\">Running query in &#x27;sqlite:///sqlite_data/your_name.db?charset=utf8mb4&#x27;</span>"
            ]
          },
          "metadata": {}
        },
        {
          "output_type": "execute_result",
          "data": {
            "text/plain": [
              "+----------+\n",
              "| COUNT(*) |\n",
              "+----------+\n",
              "|    63    |\n",
              "+----------+"
            ],
            "text/html": [
              "<table>\n",
              "    <thead>\n",
              "        <tr>\n",
              "            <th>COUNT(*)</th>\n",
              "        </tr>\n",
              "    </thead>\n",
              "    <tbody>\n",
              "        <tr>\n",
              "            <td>63</td>\n",
              "        </tr>\n",
              "    </tbody>\n",
              "</table>"
            ]
          },
          "metadata": {},
          "execution_count": 24
        }
      ],
      "source": [
        "%%sql\n",
        "\n"
      ]
    },
    {
      "cell_type": "markdown",
      "id": "8abc20c8",
      "metadata": {
        "id": "8abc20c8"
      },
      "source": [
        "🤓🤓🤓 in the tidyverse, you would get the same result with\n",
        "\n",
        "`dataframe %>% count()`"
      ]
    },
    {
      "cell_type": "markdown",
      "id": "3245c7be",
      "metadata": {
        "id": "3245c7be"
      },
      "source": [
        "### DISTINCT <a class=\"anchor\" id=\"distinct\"></a>"
      ]
    },
    {
      "cell_type": "markdown",
      "id": "742ac371",
      "metadata": {
        "id": "742ac371"
      },
      "source": [
        "What if we only want the unique entries in a column?\n",
        "\n",
        "We can get a list of unique labels by using  **DISTINCT** with the column name.\n",
        "\n",
        "Coming back to our first query under **SELECT** statement, we now add the **DISTINCT** qualifier to obtain the list of unique labels as shown below."
      ]
    },
    {
      "cell_type": "code",
      "execution_count": null,
      "id": "4f9c9fea",
      "metadata": {
        "id": "4f9c9fea",
        "outputId": "10b89af4-e313-41c7-8e6f-6cbbbe6ebfb3",
        "colab": {
          "base_uri": "https://localhost:8080/",
          "height": 165
        }
      },
      "outputs": [
        {
          "output_type": "display_data",
          "data": {
            "text/plain": [
              "Running query in 'sqlite:///sqlite_data/your_name.db?charset=utf8mb4'"
            ],
            "text/html": [
              "<span style=\"None\">Running query in &#x27;sqlite:///sqlite_data/your_name.db?charset=utf8mb4&#x27;</span>"
            ]
          },
          "metadata": {}
        },
        {
          "output_type": "execute_result",
          "data": {
            "text/plain": [
              "+------------+\n",
              "|   label    |\n",
              "+------------+\n",
              "| Blue Note  |\n",
              "|  Polydor   |\n",
              "| Parlophone |\n",
              "|  Columbia  |\n",
              "|  DiscReet  |\n",
              "+------------+"
            ],
            "text/html": [
              "<table>\n",
              "    <thead>\n",
              "        <tr>\n",
              "            <th>label</th>\n",
              "        </tr>\n",
              "    </thead>\n",
              "    <tbody>\n",
              "        <tr>\n",
              "            <td>Blue Note</td>\n",
              "        </tr>\n",
              "        <tr>\n",
              "            <td>Polydor</td>\n",
              "        </tr>\n",
              "        <tr>\n",
              "            <td>Parlophone</td>\n",
              "        </tr>\n",
              "        <tr>\n",
              "            <td>Columbia</td>\n",
              "        </tr>\n",
              "        <tr>\n",
              "            <td>DiscReet</td>\n",
              "        </tr>\n",
              "    </tbody>\n",
              "</table>"
            ]
          },
          "metadata": {},
          "execution_count": 33
        }
      ],
      "source": [
        "%%sql\n",
        "\n",
        "SELECT DISTINCT label\n",
        "FROM album;"
      ]
    },
    {
      "cell_type": "markdown",
      "id": "63e8770e",
      "metadata": {
        "id": "63e8770e"
      },
      "source": [
        "#### 👩‍🔬💻 Exercise\n",
        "\n",
        "Can you list the distinct track numbers?"
      ]
    },
    {
      "cell_type": "code",
      "execution_count": null,
      "id": "f73fb9b1",
      "metadata": {
        "id": "f73fb9b1",
        "outputId": "13a63e6a-a40c-42c1-f3f2-341dd1fb2bea",
        "colab": {
          "base_uri": "https://localhost:8080/",
          "height": 357
        }
      },
      "outputs": [
        {
          "output_type": "display_data",
          "data": {
            "text/plain": [
              "Running query in 'sqlite:///sqlite_data/your_name.db?charset=utf8mb4'"
            ],
            "text/html": [
              "<span style=\"None\">Running query in &#x27;sqlite:///sqlite_data/your_name.db?charset=utf8mb4&#x27;</span>"
            ]
          },
          "metadata": {}
        },
        {
          "output_type": "execute_result",
          "data": {
            "text/plain": [
              "+--------------+\n",
              "| track_number |\n",
              "+--------------+\n",
              "|      1       |\n",
              "|      2       |\n",
              "|      5       |\n",
              "|      3       |\n",
              "|      4       |\n",
              "|      6       |\n",
              "|      7       |\n",
              "|      8       |\n",
              "|      9       |\n",
              "|      10      |\n",
              "|      11      |\n",
              "|      12      |\n",
              "|      13      |\n",
              "|      14      |\n",
              "+--------------+"
            ],
            "text/html": [
              "<table>\n",
              "    <thead>\n",
              "        <tr>\n",
              "            <th>track_number</th>\n",
              "        </tr>\n",
              "    </thead>\n",
              "    <tbody>\n",
              "        <tr>\n",
              "            <td>1</td>\n",
              "        </tr>\n",
              "        <tr>\n",
              "            <td>2</td>\n",
              "        </tr>\n",
              "        <tr>\n",
              "            <td>5</td>\n",
              "        </tr>\n",
              "        <tr>\n",
              "            <td>3</td>\n",
              "        </tr>\n",
              "        <tr>\n",
              "            <td>4</td>\n",
              "        </tr>\n",
              "        <tr>\n",
              "            <td>6</td>\n",
              "        </tr>\n",
              "        <tr>\n",
              "            <td>7</td>\n",
              "        </tr>\n",
              "        <tr>\n",
              "            <td>8</td>\n",
              "        </tr>\n",
              "        <tr>\n",
              "            <td>9</td>\n",
              "        </tr>\n",
              "        <tr>\n",
              "            <td>10</td>\n",
              "        </tr>\n",
              "        <tr>\n",
              "            <td>11</td>\n",
              "        </tr>\n",
              "        <tr>\n",
              "            <td>12</td>\n",
              "        </tr>\n",
              "        <tr>\n",
              "            <td>13</td>\n",
              "        </tr>\n",
              "        <tr>\n",
              "            <td>14</td>\n",
              "        </tr>\n",
              "    </tbody>\n",
              "</table>"
            ]
          },
          "metadata": {},
          "execution_count": 37
        }
      ],
      "source": [
        "%%sql\n",
        "\n"
      ]
    },
    {
      "cell_type": "markdown",
      "id": "84737b88",
      "metadata": {
        "id": "84737b88"
      },
      "source": [
        "🤓🤓🤓 in the tidyverse, you would get the same result with\n",
        "\n",
        "`dataframe %>% distinct(column_name)`"
      ]
    },
    {
      "cell_type": "markdown",
      "id": "cfde08c1",
      "metadata": {
        "id": "cfde08c1"
      },
      "source": [
        "**DISTINCT** is regularly followed by **COUNT** keyword to count the unique items in a list. For example, number of unique tokens in a sentence,  number of unique Twitter users, etc.\n",
        "\n",
        "Now, let's count the number of unique labels using **COUNT** over the results from **DISTINCT** qualifier."
      ]
    },
    {
      "cell_type": "code",
      "execution_count": null,
      "id": "d69b5cf2",
      "metadata": {
        "id": "d69b5cf2",
        "outputId": "4a4df4e8-5cd3-4214-cb78-e85d63c1f536",
        "colab": {
          "base_uri": "https://localhost:8080/",
          "height": 79
        }
      },
      "outputs": [
        {
          "output_type": "display_data",
          "data": {
            "text/plain": [
              "Running query in 'sqlite:///sqlite_data/your_name.db?charset=utf8mb4'"
            ],
            "text/html": [
              "<span style=\"None\">Running query in &#x27;sqlite:///sqlite_data/your_name.db?charset=utf8mb4&#x27;</span>"
            ]
          },
          "metadata": {}
        },
        {
          "output_type": "execute_result",
          "data": {
            "text/plain": [
              "+-----------------------+\n",
              "| COUNT(DISTINCT label) |\n",
              "+-----------------------+\n",
              "|           5           |\n",
              "+-----------------------+"
            ],
            "text/html": [
              "<table>\n",
              "    <thead>\n",
              "        <tr>\n",
              "            <th>COUNT(DISTINCT label)</th>\n",
              "        </tr>\n",
              "    </thead>\n",
              "    <tbody>\n",
              "        <tr>\n",
              "            <td>5</td>\n",
              "        </tr>\n",
              "    </tbody>\n",
              "</table>"
            ]
          },
          "metadata": {},
          "execution_count": 35
        }
      ],
      "source": [
        "%%sql\n",
        "\n",
        "SELECT COUNT(DISTINCT label)\n",
        "FROM album;"
      ]
    },
    {
      "cell_type": "markdown",
      "id": "1af04da5",
      "metadata": {
        "id": "1af04da5"
      },
      "source": [
        "#### 👩‍🔬💻 Exercise\n",
        "\n",
        "How many distinct track numbers are there? (Verify against the list above a few cells ago.)"
      ]
    },
    {
      "cell_type": "code",
      "execution_count": null,
      "id": "407ccb78",
      "metadata": {
        "id": "407ccb78",
        "outputId": "48d42b0a-4feb-4645-fc6e-7a728200e592",
        "colab": {
          "base_uri": "https://localhost:8080/",
          "height": 79
        }
      },
      "outputs": [
        {
          "output_type": "display_data",
          "data": {
            "text/plain": [
              "Running query in 'sqlite:///sqlite_data/your_name.db?charset=utf8mb4'"
            ],
            "text/html": [
              "<span style=\"None\">Running query in &#x27;sqlite:///sqlite_data/your_name.db?charset=utf8mb4&#x27;</span>"
            ]
          },
          "metadata": {}
        },
        {
          "output_type": "execute_result",
          "data": {
            "text/plain": [
              "+------------------------------+\n",
              "| COUNT(DISTINCT track_number) |\n",
              "+------------------------------+\n",
              "|              14              |\n",
              "+------------------------------+"
            ],
            "text/html": [
              "<table>\n",
              "    <thead>\n",
              "        <tr>\n",
              "            <th>COUNT(DISTINCT track_number)</th>\n",
              "        </tr>\n",
              "    </thead>\n",
              "    <tbody>\n",
              "        <tr>\n",
              "            <td>14</td>\n",
              "        </tr>\n",
              "    </tbody>\n",
              "</table>"
            ]
          },
          "metadata": {},
          "execution_count": 36
        }
      ],
      "source": [
        "%%sql\n",
        "\n"
      ]
    },
    {
      "cell_type": "markdown",
      "id": "d29cc741",
      "metadata": {
        "id": "d29cc741"
      },
      "source": [
        "### Aliasing (AS) <a class=\"anchor\" id=\"as\"></a>"
      ]
    },
    {
      "cell_type": "markdown",
      "id": "cab41c07",
      "metadata": {
        "id": "cab41c07"
      },
      "source": [
        "We can also rename the extracted columns using **AS** qualifier as shown below. Aliasing is frequently used to rename tables used as subqueries (will be explained below)."
      ]
    },
    {
      "cell_type": "code",
      "execution_count": null,
      "id": "8ba1fb92",
      "metadata": {
        "id": "8ba1fb92",
        "outputId": "30e9d362-81bc-4f21-bb26-cf5b508e94b1",
        "colab": {
          "base_uri": "https://localhost:8080/",
          "height": 79
        }
      },
      "outputs": [
        {
          "output_type": "display_data",
          "data": {
            "text/plain": [
              "Running query in 'sqlite:///sqlite_data/shashanka.db?charset=utf8mb4'"
            ],
            "text/html": [
              "<span style=\"None\">Running query in &#x27;sqlite:///sqlite_data/shashanka.db?charset=utf8mb4&#x27;</span>"
            ]
          },
          "metadata": {}
        },
        {
          "output_type": "execute_result",
          "data": {
            "text/plain": [
              "+---------------------------+\n",
              "| number_of_distinct_labels |\n",
              "+---------------------------+\n",
              "|             5             |\n",
              "+---------------------------+"
            ],
            "text/html": [
              "<table>\n",
              "    <thead>\n",
              "        <tr>\n",
              "            <th>number_of_distinct_labels</th>\n",
              "        </tr>\n",
              "    </thead>\n",
              "    <tbody>\n",
              "        <tr>\n",
              "            <td>5</td>\n",
              "        </tr>\n",
              "    </tbody>\n",
              "</table>"
            ]
          },
          "metadata": {},
          "execution_count": 27
        }
      ],
      "source": [
        "%%sql\n",
        "\n",
        "SELECT COUNT(DISTINCT label) AS number_of_distinct_labels\n",
        "FROM album;"
      ]
    },
    {
      "cell_type": "markdown",
      "id": "4e806262",
      "metadata": {
        "id": "4e806262"
      },
      "source": [
        "😍 waaaay prettier. we always have time for THAT!"
      ]
    },
    {
      "cell_type": "markdown",
      "id": "abb05720",
      "metadata": {
        "id": "abb05720"
      },
      "source": [
        "### Math Operations <a class=\"anchor\" id=\"mo\"></a>"
      ]
    },
    {
      "cell_type": "markdown",
      "id": "a75223e0",
      "metadata": {
        "id": "a75223e0"
      },
      "source": [
        "Here's something trivial, yet useful, when combined with other features of MySQL. We can also perform math operations like addition, subtraction, etc. over numbers, results of a table, or results of aggregate functions explained below. We can also perform other operations like square root **SQRT( )**, logarithm **LOG( )**, etc.\n",
        "\n",
        "**NOTE:** Use aliasing to rename the columns appropriately."
      ]
    },
    {
      "cell_type": "code",
      "execution_count": null,
      "id": "f08e9880",
      "metadata": {
        "id": "f08e9880",
        "outputId": "ffd1d384-e59c-470b-e8c2-88cfc638d685",
        "colab": {
          "base_uri": "https://localhost:8080/",
          "height": 79
        }
      },
      "outputs": [
        {
          "output_type": "display_data",
          "data": {
            "text/plain": [
              "Running query in 'sqlite:///sqlite_data/your_name.db?charset=utf8mb4'"
            ],
            "text/html": [
              "<span style=\"None\">Running query in &#x27;sqlite:///sqlite_data/your_name.db?charset=utf8mb4&#x27;</span>"
            ]
          },
          "metadata": {}
        },
        {
          "output_type": "execute_result",
          "data": {
            "text/plain": [
              "+---------+\n",
              "| Product |\n",
              "+---------+\n",
              "|    49   |\n",
              "+---------+"
            ],
            "text/html": [
              "<table>\n",
              "    <thead>\n",
              "        <tr>\n",
              "            <th>Product</th>\n",
              "        </tr>\n",
              "    </thead>\n",
              "    <tbody>\n",
              "        <tr>\n",
              "            <td>49</td>\n",
              "        </tr>\n",
              "    </tbody>\n",
              "</table>"
            ]
          },
          "metadata": {},
          "execution_count": 38
        }
      ],
      "source": [
        "%%sql\n",
        "\n",
        "SELECT 7*7 AS Product;"
      ]
    },
    {
      "cell_type": "markdown",
      "id": "753b6729",
      "metadata": {
        "id": "753b6729"
      },
      "source": [
        "#### 👩‍🔬💻 Exercise\n",
        "\n",
        "Now what's the square root of 49?"
      ]
    },
    {
      "cell_type": "code",
      "execution_count": null,
      "id": "d9456b14",
      "metadata": {
        "id": "d9456b14",
        "outputId": "1959c95d-e11d-4f2a-aaab-6d46b7b6964c",
        "colab": {
          "base_uri": "https://localhost:8080/",
          "height": 79
        }
      },
      "outputs": [
        {
          "output_type": "display_data",
          "data": {
            "text/plain": [
              "Running query in 'sqlite:///sqlite_data/your_name.db?charset=utf8mb4'"
            ],
            "text/html": [
              "<span style=\"None\">Running query in &#x27;sqlite:///sqlite_data/your_name.db?charset=utf8mb4&#x27;</span>"
            ]
          },
          "metadata": {}
        },
        {
          "output_type": "execute_result",
          "data": {
            "text/plain": [
              "+-------------+\n",
              "| square_root |\n",
              "+-------------+\n",
              "|     7.0     |\n",
              "+-------------+"
            ],
            "text/html": [
              "<table>\n",
              "    <thead>\n",
              "        <tr>\n",
              "            <th>square_root</th>\n",
              "        </tr>\n",
              "    </thead>\n",
              "    <tbody>\n",
              "        <tr>\n",
              "            <td>7.0</td>\n",
              "        </tr>\n",
              "    </tbody>\n",
              "</table>"
            ]
          },
          "metadata": {},
          "execution_count": 39
        }
      ],
      "source": [
        "%%sql\n",
        "\n"
      ]
    },
    {
      "cell_type": "markdown",
      "id": "52f4a96d",
      "metadata": {
        "id": "52f4a96d"
      },
      "source": [
        "### Aggregation Functions"
      ]
    },
    {
      "cell_type": "markdown",
      "id": "ec9b0b17",
      "metadata": {
        "id": "ec9b0b17"
      },
      "source": [
        "Remember the **COUNT** function from above? **COUNT** essentially summarizes (or aggregates) the values of a column. There are similar functions, called aggregate functions, like **COUNT**, **SUM**, **MIN**, **MAX**, **AVG**, **STD**, etc. on a column which summarizes the values of a column.\n",
        "\n",
        "Summarize = as in you only get one row back.\n",
        "\n",
        "🤓🤓🤓 In the tidyverse, ... %>% summarize(...) does that too!\n",
        "\n",
        "Let's say we have to find the minimum duration of any track. We can do that as follows."
      ]
    },
    {
      "cell_type": "code",
      "execution_count": null,
      "id": "f79b56f6",
      "metadata": {
        "id": "f79b56f6",
        "outputId": "667d1c37-b65c-4131-f367-affe4c83e1ac",
        "colab": {
          "base_uri": "https://localhost:8080/",
          "height": 79
        }
      },
      "outputs": [
        {
          "output_type": "display_data",
          "data": {
            "text/plain": [
              "Running query in 'sqlite:///sqlite_data/your_name.db?charset=utf8mb4'"
            ],
            "text/html": [
              "<span style=\"None\">Running query in &#x27;sqlite:///sqlite_data/your_name.db?charset=utf8mb4&#x27;</span>"
            ]
          },
          "metadata": {}
        },
        {
          "output_type": "execute_result",
          "data": {
            "text/plain": [
              "+---------+\n",
              "| minimum |\n",
              "+---------+\n",
              "|    24   |\n",
              "+---------+"
            ],
            "text/html": [
              "<table>\n",
              "    <thead>\n",
              "        <tr>\n",
              "            <th>minimum</th>\n",
              "        </tr>\n",
              "    </thead>\n",
              "    <tbody>\n",
              "        <tr>\n",
              "            <td>24</td>\n",
              "        </tr>\n",
              "    </tbody>\n",
              "</table>"
            ]
          },
          "metadata": {},
          "execution_count": 40
        }
      ],
      "source": [
        "%%sql\n",
        "\n",
        "SELECT MIN(duration) AS minimum\n",
        "FROM track;"
      ]
    },
    {
      "cell_type": "markdown",
      "id": "7e3d278e",
      "metadata": {
        "id": "7e3d278e"
      },
      "source": [
        "🤓🤓🤓 I hope you are getting excited now... in the tidyverse, you would get the same result with\n",
        "\n",
        "`track %>% summarize(minimum = min(duration))`"
      ]
    },
    {
      "cell_type": "markdown",
      "id": "d791fb4c",
      "metadata": {
        "id": "d791fb4c"
      },
      "source": [
        "Then we can combine the idea of using math operation mentioned above and aggregate functions to result in more kewl output. For example, we can find the range of track duration."
      ]
    },
    {
      "cell_type": "code",
      "execution_count": null,
      "id": "eaed1089",
      "metadata": {
        "id": "eaed1089",
        "outputId": "5ceeab5a-cf77-4a57-f35f-6199fefbb026",
        "colab": {
          "base_uri": "https://localhost:8080/",
          "height": 79
        }
      },
      "outputs": [
        {
          "output_type": "display_data",
          "data": {
            "text/plain": [
              "Running query in 'sqlite:///sqlite_data/your_name.db?charset=utf8mb4'"
            ],
            "text/html": [
              "<span style=\"None\">Running query in &#x27;sqlite:///sqlite_data/your_name.db?charset=utf8mb4&#x27;</span>"
            ]
          },
          "metadata": {}
        },
        {
          "output_type": "execute_result",
          "data": {
            "text/plain": [
              "+-------------------------------+\n",
              "| MAX(duration) - MIN(duration) |\n",
              "+-------------------------------+\n",
              "|              762              |\n",
              "+-------------------------------+"
            ],
            "text/html": [
              "<table>\n",
              "    <thead>\n",
              "        <tr>\n",
              "            <th>MAX(duration) - MIN(duration)</th>\n",
              "        </tr>\n",
              "    </thead>\n",
              "    <tbody>\n",
              "        <tr>\n",
              "            <td>762</td>\n",
              "        </tr>\n",
              "    </tbody>\n",
              "</table>"
            ]
          },
          "metadata": {},
          "execution_count": 41
        }
      ],
      "source": [
        "%%sql\n",
        "\n",
        "SELECT MAX(duration) - MIN(duration)\n",
        "FROM track;"
      ]
    },
    {
      "cell_type": "markdown",
      "metadata": {
        "id": "8FuCRNOC8SGO"
      },
      "source": [
        "#### 👩‍🔬💻 Exercise\n",
        "\n",
        "Can you write the tidyverse code for this? If you are not R level 7, feel free to skip."
      ],
      "id": "8FuCRNOC8SGO"
    },
    {
      "cell_type": "markdown",
      "id": "b5379a73",
      "metadata": {
        "id": "b5379a73"
      },
      "source": [
        "```\n",
        "\n",
        "```"
      ]
    },
    {
      "cell_type": "markdown",
      "id": "91e20200",
      "metadata": {
        "id": "91e20200"
      },
      "source": [
        "#### 👩‍🔬💻 Exercise\n",
        "\n",
        "Find the total duration of all tracks in minutes."
      ]
    },
    {
      "cell_type": "code",
      "execution_count": null,
      "id": "342df72f",
      "metadata": {
        "id": "342df72f",
        "outputId": "1b281900-cc34-4fd7-819d-9959e1ef3575",
        "colab": {
          "base_uri": "https://localhost:8080/",
          "height": 79
        }
      },
      "outputs": [
        {
          "output_type": "display_data",
          "data": {
            "text/plain": [
              "Running query in 'sqlite:///sqlite_data/shashanka.db?charset=utf8mb4'"
            ],
            "text/html": [
              "<span style=\"None\">Running query in &#x27;sqlite:///sqlite_data/shashanka.db?charset=utf8mb4&#x27;</span>"
            ]
          },
          "metadata": {}
        },
        {
          "output_type": "execute_result",
          "data": {
            "text/plain": [
              "+---------------------+\n",
              "| duration_in_minutes |\n",
              "+---------------------+\n",
              "|         297         |\n",
              "+---------------------+"
            ],
            "text/html": [
              "<table>\n",
              "    <thead>\n",
              "        <tr>\n",
              "            <th>duration_in_minutes</th>\n",
              "        </tr>\n",
              "    </thead>\n",
              "    <tbody>\n",
              "        <tr>\n",
              "            <td>297</td>\n",
              "        </tr>\n",
              "    </tbody>\n",
              "</table>"
            ]
          },
          "metadata": {},
          "execution_count": 32
        }
      ],
      "source": [
        "%%sql\n",
        "\n"
      ]
    },
    {
      "cell_type": "markdown",
      "id": "178fff88",
      "metadata": {
        "id": "178fff88"
      },
      "source": [
        "#### 👩‍🔬💻 Exercise\n",
        "\n",
        "Using the **AVG** function, find the mean duration."
      ]
    },
    {
      "cell_type": "code",
      "execution_count": null,
      "id": "31af1b63",
      "metadata": {
        "id": "31af1b63",
        "outputId": "45504b84-5f25-4910-de8b-6b72182cdeac",
        "colab": {
          "base_uri": "https://localhost:8080/",
          "height": 79
        }
      },
      "outputs": [
        {
          "output_type": "display_data",
          "data": {
            "text/plain": [
              "Running query in 'sqlite:///sqlite_data/shashanka.db?charset=utf8mb4'"
            ],
            "text/html": [
              "<span style=\"None\">Running query in &#x27;sqlite:///sqlite_data/shashanka.db?charset=utf8mb4&#x27;</span>"
            ]
          },
          "metadata": {}
        },
        {
          "output_type": "execute_result",
          "data": {
            "text/plain": [
              "+--------------------+\n",
              "|   AVG(duration)    |\n",
              "+--------------------+\n",
              "| 283.06349206349205 |\n",
              "+--------------------+"
            ],
            "text/html": [
              "<table>\n",
              "    <thead>\n",
              "        <tr>\n",
              "            <th>AVG(duration)</th>\n",
              "        </tr>\n",
              "    </thead>\n",
              "    <tbody>\n",
              "        <tr>\n",
              "            <td>283.06349206349205</td>\n",
              "        </tr>\n",
              "    </tbody>\n",
              "</table>"
            ]
          },
          "metadata": {},
          "execution_count": 33
        }
      ],
      "source": [
        "%%sql\n",
        "\n"
      ]
    },
    {
      "cell_type": "code",
      "execution_count": null,
      "id": "e37836c7",
      "metadata": {
        "id": "e37836c7",
        "outputId": "07007dcb-14d1-4b82-f074-62dd47faac05",
        "colab": {
          "base_uri": "https://localhost:8080/",
          "height": 106
        }
      },
      "outputs": [
        {
          "output_type": "display_data",
          "data": {
            "text/plain": [
              "Running query in 'sqlite:///sqlite_data/shashanka.db?charset=utf8mb4'"
            ],
            "text/html": [
              "<span style=\"None\">Running query in &#x27;sqlite:///sqlite_data/shashanka.db?charset=utf8mb4&#x27;</span>"
            ]
          },
          "metadata": {}
        },
        {
          "output_type": "stream",
          "name": "stderr",
          "text": [
            "RuntimeError: (sqlite3.OperationalError) no such function: STD\n",
            "[SQL: SELECT STD(duration)\n",
            "FROM track;]\n",
            "(Background on this error at: https://sqlalche.me/e/20/e3q8)\n"
          ]
        }
      ],
      "source": [
        "%%sql\n",
        "\n",
        "SELECT STD(duration)\n",
        "FROM track;"
      ]
    },
    {
      "cell_type": "code",
      "execution_count": null,
      "id": "3f9c7700",
      "metadata": {
        "id": "3f9c7700",
        "outputId": "dff44add-1343-4216-9fda-bd83ce026211",
        "colab": {
          "base_uri": "https://localhost:8080/",
          "height": 165
        }
      },
      "outputs": [
        {
          "output_type": "display_data",
          "data": {
            "text/plain": [
              "Running query in 'sqlite:///sqlite_data/shashanka.db?charset=utf8mb4'"
            ],
            "text/html": [
              "<span style=\"None\">Running query in &#x27;sqlite:///sqlite_data/shashanka.db?charset=utf8mb4&#x27;</span>"
            ]
          },
          "metadata": {}
        },
        {
          "output_type": "execute_result",
          "data": {
            "text/plain": [
              "+---------------------+\n",
              "|       z_score       |\n",
              "+---------------------+\n",
              "|  0.2168031940120493 |\n",
              "| 0.35767405769131455 |\n",
              "| 0.07593233033278408 |\n",
              "| -0.4582030277844299 |\n",
              "| 0.14636776217241668 |\n",
              "+---------------------+"
            ],
            "text/html": [
              "<table>\n",
              "    <thead>\n",
              "        <tr>\n",
              "            <th>z_score</th>\n",
              "        </tr>\n",
              "    </thead>\n",
              "    <tbody>\n",
              "        <tr>\n",
              "            <td>0.2168031940120493</td>\n",
              "        </tr>\n",
              "        <tr>\n",
              "            <td>0.35767405769131455</td>\n",
              "        </tr>\n",
              "        <tr>\n",
              "            <td>0.07593233033278408</td>\n",
              "        </tr>\n",
              "        <tr>\n",
              "            <td>-0.4582030277844299</td>\n",
              "        </tr>\n",
              "        <tr>\n",
              "            <td>0.14636776217241668</td>\n",
              "        </tr>\n",
              "    </tbody>\n",
              "</table>"
            ]
          },
          "metadata": {},
          "execution_count": 35
        }
      ],
      "source": [
        "%%sql\n",
        "\n",
        "SELECT (duration - 283.0635) / 170.3688 AS z_score\n",
        "FROM track\n",
        "LIMIT 5;"
      ]
    },
    {
      "cell_type": "markdown",
      "id": "76afc0fd",
      "metadata": {
        "id": "76afc0fd"
      },
      "source": [
        "### GROUP BY <a class=\"anchor\" id=\"gby\"></a>"
      ]
    },
    {
      "cell_type": "markdown",
      "id": "eb756113",
      "metadata": {
        "id": "eb756113"
      },
      "source": [
        "If you haven't taken a break, now might be a good moment to do so.\n",
        "\n",
        "Shit's getting real!\n",
        "\n",
        "Summarizing the table into groups is one of the coolest parts of SQL, and core to the \"split-apply-combine\" framework, that's also why the tidyverse is so helpful. Group by does the splitting.\n",
        "\n",
        "**GROUP BY** is always used in association with an aggregate function (explained above) on a column which summarizes the group. In fact, MySQL doesn't allow you to use **GROUP BY** by itself and you must aggregate one of the columns. It is also mandatory that you include the column, used to group the table, in the select list.\n",
        "\n",
        "🤓🤓🤓 In tidyverse jargon, there are no tibbles in SQL. If you `group_by`, you have to `summarize` or do something else with it.\n",
        "\n",
        "For example, let's count the number of albums per *label*."
      ]
    },
    {
      "cell_type": "code",
      "execution_count": null,
      "id": "1dedeee9",
      "metadata": {
        "id": "1dedeee9",
        "outputId": "696fa428-fad9-4e56-a5c0-06cdcb1f3903",
        "colab": {
          "base_uri": "https://localhost:8080/",
          "height": 165
        }
      },
      "outputs": [
        {
          "output_type": "display_data",
          "data": {
            "text/plain": [
              "Running query in 'sqlite:///sqlite_data/shashanka.db?charset=utf8mb4'"
            ],
            "text/html": [
              "<span style=\"None\">Running query in &#x27;sqlite:///sqlite_data/shashanka.db?charset=utf8mb4&#x27;</span>"
            ]
          },
          "metadata": {}
        },
        {
          "output_type": "execute_result",
          "data": {
            "text/plain": [
              "+------------+------------+\n",
              "|   label    | num_albums |\n",
              "+------------+------------+\n",
              "| Blue Note  |     1      |\n",
              "|  Columbia  |     3      |\n",
              "|  DiscReet  |     1      |\n",
              "| Parlophone |     1      |\n",
              "|  Polydor   |     1      |\n",
              "+------------+------------+"
            ],
            "text/html": [
              "<table>\n",
              "    <thead>\n",
              "        <tr>\n",
              "            <th>label</th>\n",
              "            <th>num_albums</th>\n",
              "        </tr>\n",
              "    </thead>\n",
              "    <tbody>\n",
              "        <tr>\n",
              "            <td>Blue Note</td>\n",
              "            <td>1</td>\n",
              "        </tr>\n",
              "        <tr>\n",
              "            <td>Columbia</td>\n",
              "            <td>3</td>\n",
              "        </tr>\n",
              "        <tr>\n",
              "            <td>DiscReet</td>\n",
              "            <td>1</td>\n",
              "        </tr>\n",
              "        <tr>\n",
              "            <td>Parlophone</td>\n",
              "            <td>1</td>\n",
              "        </tr>\n",
              "        <tr>\n",
              "            <td>Polydor</td>\n",
              "            <td>1</td>\n",
              "        </tr>\n",
              "    </tbody>\n",
              "</table>"
            ]
          },
          "metadata": {},
          "execution_count": 36
        }
      ],
      "source": [
        "%%sql\n",
        "\n",
        "SELECT label, COUNT(*) AS num_albums\n",
        "FROM album\n",
        "GROUP BY label;"
      ]
    },
    {
      "cell_type": "markdown",
      "id": "7a852ebb",
      "metadata": {
        "id": "7a852ebb"
      },
      "source": [
        "🤓🤓🤓 We hope you are getting excited! Do I even have to give you the tidyverse code at this point? Aren't you already seeing through the split-apply-combine matrix?\n",
        "\n",
        "`album %>% group_by(label) %>% count()`\n",
        "\n",
        "knock knock, Neo 🐇"
      ]
    },
    {
      "cell_type": "markdown",
      "id": "5b2fd1fd",
      "metadata": {
        "id": "5b2fd1fd"
      },
      "source": [
        "Anyway...now let's find the average duration of tracks (grouped by *album_id*) for a particular album."
      ]
    },
    {
      "cell_type": "code",
      "execution_count": null,
      "id": "f764fbda",
      "metadata": {
        "id": "f764fbda",
        "outputId": "38ecd079-b9c4-40aa-f729-1deb80429fd6",
        "colab": {
          "base_uri": "https://localhost:8080/",
          "height": 207
        }
      },
      "outputs": [
        {
          "output_type": "display_data",
          "data": {
            "text/plain": [
              "Running query in 'sqlite:///sqlite_data/shashanka.db?charset=utf8mb4'"
            ],
            "text/html": [
              "<span style=\"None\">Running query in &#x27;sqlite:///sqlite_data/shashanka.db?charset=utf8mb4&#x27;</span>"
            ]
          },
          "metadata": {}
        },
        {
          "output_type": "execute_result",
          "data": {
            "text/plain": [
              "+----------+--------------------+\n",
              "| album_id |      average       |\n",
              "+----------+--------------------+\n",
              "|    1     |       320.7        |\n",
              "|    11    |       330.0        |\n",
              "|    12    | 152.78571428571428 |\n",
              "|    13    |       242.4        |\n",
              "|    16    | 405.3333333333333  |\n",
              "|    17    | 211.88888888888889 |\n",
              "|    18    |       550.8        |\n",
              "+----------+--------------------+"
            ],
            "text/html": [
              "<table>\n",
              "    <thead>\n",
              "        <tr>\n",
              "            <th>album_id</th>\n",
              "            <th>average</th>\n",
              "        </tr>\n",
              "    </thead>\n",
              "    <tbody>\n",
              "        <tr>\n",
              "            <td>1</td>\n",
              "            <td>320.7</td>\n",
              "        </tr>\n",
              "        <tr>\n",
              "            <td>11</td>\n",
              "            <td>330.0</td>\n",
              "        </tr>\n",
              "        <tr>\n",
              "            <td>12</td>\n",
              "            <td>152.78571428571428</td>\n",
              "        </tr>\n",
              "        <tr>\n",
              "            <td>13</td>\n",
              "            <td>242.4</td>\n",
              "        </tr>\n",
              "        <tr>\n",
              "            <td>16</td>\n",
              "            <td>405.3333333333333</td>\n",
              "        </tr>\n",
              "        <tr>\n",
              "            <td>17</td>\n",
              "            <td>211.88888888888889</td>\n",
              "        </tr>\n",
              "        <tr>\n",
              "            <td>18</td>\n",
              "            <td>550.8</td>\n",
              "        </tr>\n",
              "    </tbody>\n",
              "</table>"
            ]
          },
          "metadata": {},
          "execution_count": 37
        }
      ],
      "source": [
        "%%sql\n",
        "\n",
        "SELECT album_id, AVG(duration) AS average\n",
        "FROM track\n",
        "GROUP BY album_id;"
      ]
    },
    {
      "cell_type": "markdown",
      "id": "db8b8a55",
      "metadata": {
        "id": "db8b8a55"
      },
      "source": [
        "#### 👩‍🔬💻 Exercise\n",
        "\n",
        "Now you find the average duration for a given track number:"
      ]
    },
    {
      "cell_type": "code",
      "execution_count": null,
      "id": "cfe9e8cd",
      "metadata": {
        "id": "cfe9e8cd",
        "outputId": "a0a56093-857e-4bbe-dec0-53934c68a4ba",
        "colab": {
          "base_uri": "https://localhost:8080/",
          "height": 289
        }
      },
      "outputs": [
        {
          "output_type": "display_data",
          "data": {
            "text/plain": [
              "Running query in 'sqlite:///sqlite_data/shashanka.db?charset=utf8mb4'"
            ],
            "text/html": [
              "<span style=\"None\">Running query in &#x27;sqlite:///sqlite_data/shashanka.db?charset=utf8mb4&#x27;</span>"
            ]
          },
          "metadata": {}
        },
        {
          "output_type": "execute_result",
          "data": {
            "text/plain": [
              "+--------------+--------------------------+\n",
              "| track_number | average_per_track_number |\n",
              "+--------------+--------------------------+\n",
              "|      1       |    297.42857142857144    |\n",
              "|      2       |    363.14285714285717    |\n",
              "|      3       |          223.0           |\n",
              "|      4       |          315.0           |\n",
              "|      5       |    308.14285714285717    |\n",
              "|      6       |          155.5           |\n",
              "|      7       |          329.2           |\n",
              "|      8       |          344.2           |\n",
              "|      9       |          355.6           |\n",
              "|      10      |    214.66666666666666    |\n",
              "+--------------+--------------------------+\n",
              "Truncated to displaylimit of 10."
            ],
            "text/html": [
              "<table>\n",
              "    <thead>\n",
              "        <tr>\n",
              "            <th>track_number</th>\n",
              "            <th>average_per_track_number</th>\n",
              "        </tr>\n",
              "    </thead>\n",
              "    <tbody>\n",
              "        <tr>\n",
              "            <td>1</td>\n",
              "            <td>297.42857142857144</td>\n",
              "        </tr>\n",
              "        <tr>\n",
              "            <td>2</td>\n",
              "            <td>363.14285714285717</td>\n",
              "        </tr>\n",
              "        <tr>\n",
              "            <td>3</td>\n",
              "            <td>223.0</td>\n",
              "        </tr>\n",
              "        <tr>\n",
              "            <td>4</td>\n",
              "            <td>315.0</td>\n",
              "        </tr>\n",
              "        <tr>\n",
              "            <td>5</td>\n",
              "            <td>308.14285714285717</td>\n",
              "        </tr>\n",
              "        <tr>\n",
              "            <td>6</td>\n",
              "            <td>155.5</td>\n",
              "        </tr>\n",
              "        <tr>\n",
              "            <td>7</td>\n",
              "            <td>329.2</td>\n",
              "        </tr>\n",
              "        <tr>\n",
              "            <td>8</td>\n",
              "            <td>344.2</td>\n",
              "        </tr>\n",
              "        <tr>\n",
              "            <td>9</td>\n",
              "            <td>355.6</td>\n",
              "        </tr>\n",
              "        <tr>\n",
              "            <td>10</td>\n",
              "            <td>214.66666666666666</td>\n",
              "        </tr>\n",
              "    </tbody>\n",
              "</table>\n",
              "<span style=\"font-style:italic;text-align:center;\">Truncated to <a href=\"https://jupysql.ploomber.io/en/latest/api/configuration.html#displaylimit\">displaylimit</a> of 10.</span>"
            ]
          },
          "metadata": {},
          "execution_count": 38
        }
      ],
      "source": [
        "%%sql\n",
        "\n"
      ]
    },
    {
      "cell_type": "markdown",
      "id": "441b603e",
      "metadata": {
        "id": "441b603e"
      },
      "source": [
        "#### 👩‍🔬💻 Exercise\n",
        "\n",
        "And now find the highest track number for a given album:"
      ]
    },
    {
      "cell_type": "code",
      "execution_count": null,
      "id": "00c70e81",
      "metadata": {
        "id": "00c70e81",
        "outputId": "654e3042-12a9-44a4-effd-b58c9e1870d0",
        "colab": {
          "base_uri": "https://localhost:8080/",
          "height": 207
        }
      },
      "outputs": [
        {
          "output_type": "display_data",
          "data": {
            "text/plain": [
              "Running query in 'sqlite:///sqlite_data/shashanka.db?charset=utf8mb4'"
            ],
            "text/html": [
              "<span style=\"None\">Running query in &#x27;sqlite:///sqlite_data/shashanka.db?charset=utf8mb4&#x27;</span>"
            ]
          },
          "metadata": {}
        },
        {
          "output_type": "execute_result",
          "data": {
            "text/plain": [
              "+----------+------------------+\n",
              "| album_id | max_track_number |\n",
              "+----------+------------------+\n",
              "|    1     |        10        |\n",
              "|    11    |        9         |\n",
              "|    12    |        14        |\n",
              "|    13    |        10        |\n",
              "|    16    |        6         |\n",
              "|    17    |        9         |\n",
              "|    18    |        5         |\n",
              "+----------+------------------+"
            ],
            "text/html": [
              "<table>\n",
              "    <thead>\n",
              "        <tr>\n",
              "            <th>album_id</th>\n",
              "            <th>max_track_number</th>\n",
              "        </tr>\n",
              "    </thead>\n",
              "    <tbody>\n",
              "        <tr>\n",
              "            <td>1</td>\n",
              "            <td>10</td>\n",
              "        </tr>\n",
              "        <tr>\n",
              "            <td>11</td>\n",
              "            <td>9</td>\n",
              "        </tr>\n",
              "        <tr>\n",
              "            <td>12</td>\n",
              "            <td>14</td>\n",
              "        </tr>\n",
              "        <tr>\n",
              "            <td>13</td>\n",
              "            <td>10</td>\n",
              "        </tr>\n",
              "        <tr>\n",
              "            <td>16</td>\n",
              "            <td>6</td>\n",
              "        </tr>\n",
              "        <tr>\n",
              "            <td>17</td>\n",
              "            <td>9</td>\n",
              "        </tr>\n",
              "        <tr>\n",
              "            <td>18</td>\n",
              "            <td>5</td>\n",
              "        </tr>\n",
              "    </tbody>\n",
              "</table>"
            ]
          },
          "metadata": {},
          "execution_count": 39
        }
      ],
      "source": [
        "%%sql\n",
        "\n"
      ]
    },
    {
      "cell_type": "markdown",
      "id": "96bfcddd",
      "metadata": {
        "id": "96bfcddd"
      },
      "source": [
        "#### 👩‍🔬💻 Exercise\n",
        "\n",
        "Ok, level 102, putting a few ideas together. Let's say you are very particular about your record keeping -- some would say intense -- and decide, for a given album, to subtract the LARGEST track number FROM the NUMBER of tracks you have in the database for a given album. What does the output tell you? Think about that for a sec."
      ]
    },
    {
      "cell_type": "code",
      "execution_count": null,
      "id": "83196cc8",
      "metadata": {
        "id": "83196cc8",
        "outputId": "6e13764e-6696-4cfd-9df5-03e23bb671c5",
        "colab": {
          "base_uri": "https://localhost:8080/",
          "height": 207
        }
      },
      "outputs": [
        {
          "output_type": "display_data",
          "data": {
            "text/plain": [
              "Running query in 'sqlite:///sqlite_data/shashanka.db?charset=utf8mb4'"
            ],
            "text/html": [
              "<span style=\"None\">Running query in &#x27;sqlite:///sqlite_data/shashanka.db?charset=utf8mb4&#x27;</span>"
            ]
          },
          "metadata": {}
        },
        {
          "output_type": "execute_result",
          "data": {
            "text/plain": [
              "+----------+------------------------------+\n",
              "| album_id | MAX(track_number) - COUNT(*) |\n",
              "+----------+------------------------------+\n",
              "|    1     |              0               |\n",
              "|    11    |              0               |\n",
              "|    12    |              0               |\n",
              "|    13    |              0               |\n",
              "|    16    |              0               |\n",
              "|    17    |              0               |\n",
              "|    18    |              0               |\n",
              "+----------+------------------------------+"
            ],
            "text/html": [
              "<table>\n",
              "    <thead>\n",
              "        <tr>\n",
              "            <th>album_id</th>\n",
              "            <th>MAX(track_number) - COUNT(*)</th>\n",
              "        </tr>\n",
              "    </thead>\n",
              "    <tbody>\n",
              "        <tr>\n",
              "            <td>1</td>\n",
              "            <td>0</td>\n",
              "        </tr>\n",
              "        <tr>\n",
              "            <td>11</td>\n",
              "            <td>0</td>\n",
              "        </tr>\n",
              "        <tr>\n",
              "            <td>12</td>\n",
              "            <td>0</td>\n",
              "        </tr>\n",
              "        <tr>\n",
              "            <td>13</td>\n",
              "            <td>0</td>\n",
              "        </tr>\n",
              "        <tr>\n",
              "            <td>16</td>\n",
              "            <td>0</td>\n",
              "        </tr>\n",
              "        <tr>\n",
              "            <td>17</td>\n",
              "            <td>0</td>\n",
              "        </tr>\n",
              "        <tr>\n",
              "            <td>18</td>\n",
              "            <td>0</td>\n",
              "        </tr>\n",
              "    </tbody>\n",
              "</table>"
            ]
          },
          "metadata": {},
          "execution_count": 40
        }
      ],
      "source": [
        "%%sql\n",
        "\n"
      ]
    },
    {
      "cell_type": "markdown",
      "id": "188ae9a3",
      "metadata": {
        "id": "188ae9a3"
      },
      "source": [
        "the output tells you that track numbers are incremental indices on the tracks per album, and you didn't lose a track by accident."
      ]
    },
    {
      "cell_type": "markdown",
      "id": "b9c0134e",
      "metadata": {
        "scrolled": true,
        "id": "b9c0134e"
      },
      "source": [
        "Now move on to Tutorial 1B, Neo."
      ]
    }
  ],
  "metadata": {
    "kernelspec": {
      "display_name": "Python 3",
      "language": "python",
      "name": "python3"
    },
    "language_info": {
      "codemirror_mode": {
        "name": "ipython",
        "version": 3
      },
      "file_extension": ".py",
      "mimetype": "text/x-python",
      "name": "python",
      "nbconvert_exporter": "python",
      "pygments_lexer": "ipython3",
      "version": "3.8.8"
    },
    "colab": {
      "provenance": [],
      "toc_visible": true,
      "include_colab_link": true
    }
  },
  "nbformat": 4,
  "nbformat_minor": 5
}