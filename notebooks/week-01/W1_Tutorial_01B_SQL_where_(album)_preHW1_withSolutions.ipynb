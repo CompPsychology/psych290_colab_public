{
  "cells": [
    {
      "cell_type": "markdown",
      "metadata": {
        "id": "view-in-github",
        "colab_type": "text"
      },
      "source": [
        "<a href=\"https://colab.research.google.com/github/CompPsychology/psych290_colab_public/blob/main/notebooks/week-01/W1_Tutorial_01B_SQL_where_(album)_preHW1_withSolutions.ipynb\" target=\"_parent\"><img src=\"https://colab.research.google.com/assets/colab-badge.svg\" alt=\"Open In Colab\"/></a>"
      ]
    },
    {
      "cell_type": "markdown",
      "id": "34137484",
      "metadata": {
        "id": "34137484"
      },
      "source": [
        "# W1 Tutorial 1B -- Intro to SQL, where onward (DB: album) (2025-03)\n",
        "\n",
        "(c) Johannes Eichstaedt & the World Well-Being Project, 2023.\n",
        "\n",
        "✋🏻✋🏻 NOTE - You need to create a copy of this notebook before you work through it. Click on \"Save a copy in Drive\" option in the File menu, and safe it to your Google Drive.\n",
        "\n",
        "✉️🐞 If you find a bug/something doesn't work, please slack us a screenshot, or email johannes.courses@gmail.com."
      ]
    },
    {
      "cell_type": "markdown",
      "id": "1ac36056",
      "metadata": {
        "id": "1ac36056"
      },
      "source": [
        "Welcome to our second tutorial. Let's continue with the rest of the intro to SQL!\n",
        "\n",
        "**FYI:** you can execute a cell by hitting `CTRL+Enter` (Win) or `Command+Enter` (Mac).   \n",
        "`Shift+Enter` or `Command+Enter` will execute + advance to the cell below.\n",
        "\n",
        "Please execute every cell as you go along.\n",
        "\n",
        "**FYI:**\n",
        "* 🤓🤓🤓 comparisons with the tidyverse are flagged with the triple nerd  \n",
        "* 🐬🐬🐬 when there is code that runs in MySQL but not in SQLite, this is marked with the triple dolphin"
      ]
    },
    {
      "cell_type": "markdown",
      "source": [
        "## 1) Setting up Colab with DLATK and SQLite\n",
        "\n",
        "We begin by setting up the Colab environment. The next couple of subsections do this for you.\n",
        "\n",
        "You don't need to understand or follow along with the code -- it uses git (as in GitHub) to pull the code fromt the cloud and install it (with `pip`).\n",
        "\n",
        "This will take ~1.5 to 2 minutes. If colab asks you about this not being authored by Google, say \"Run anyway.\""
      ],
      "metadata": {
        "id": "3dmRJoCleD4_"
      },
      "id": "3dmRJoCleD4_"
    },
    {
      "cell_type": "markdown",
      "source": [
        "### 1a to 1c) Streamlined: Setting up Colab with DLATK and your data"
      ],
      "metadata": {
        "id": "h_bdneOWet61"
      },
      "id": "h_bdneOWet61"
    },
    {
      "cell_type": "code",
      "source": [
        "# enter your username!\n",
        "username = \"your_name\"\n",
        "\n",
        "########### 1a) Install\n",
        "\n",
        "# installing DLATK and necessary packages\n",
        "!git clone -b psych290 https://github.com/dlatk/dlatk.git\n",
        "!pip install dlatk/\n",
        "!pip install jupysql\n",
        "\n",
        "########### 1b) Download data and insert into SQLite database\n",
        "# We then load the downloaded data into a database named [username].db in the sqlite_data folder.\n",
        "\n",
        "# this download the album csvs we need for this tutorial\n",
        "!git clone https://github.com/CompPsychology/album.git\n",
        "\n",
        "# load the required package -- similar to library() function in R\n",
        "import os\n",
        "from dlatk.tools.importmethods import csvToSQLite\n",
        "\n",
        "# store the complete path to the database -- sqlite_data/[username].db\n",
        "database = os.path.join(\"sqlite_data\", username)\n",
        "\n",
        "# import CSVs into tables in this database\n",
        "csvToSQLite(\n",
        "    \"album/data/album.csv\",\n",
        "    database,\n",
        "    \"album\"\n",
        ")\n",
        "\n",
        "csvToSQLite(\n",
        "    \"album/data/track.csv\",\n",
        "    database,\n",
        "    \"track\"\n",
        ")\n",
        "\n",
        "############# 1c) Setup database connection\n",
        "# Establish a connection with the (SQLite) database with the `%sql` extension from colab.\n",
        "\n",
        "# loads the %%sql extension\n",
        "%load_ext sql\n",
        "\n",
        "# connects the extension to the database\n",
        "from sqlalchemy import create_engine\n",
        "engine = create_engine(f\"sqlite:///sqlite_data/{username}.db?charset=utf8mb4\")\n",
        "%sql engine\n",
        "\n",
        "#set the output limit to 50\n",
        "%config SqlMagic.displaylimit = 50\n",
        "\n",
        "## PRINT FINISHED\n",
        "print(\" ******* LOAD FINISHED ¯\\_(ツ)_/ *******\")"
      ],
      "metadata": {
        "id": "BBOLv6P-0cIf",
        "outputId": "2da7ef91-f459-452a-dac2-930fc73352da",
        "colab": {
          "base_uri": "https://localhost:8080/",
          "height": 1000
        }
      },
      "execution_count": null,
      "outputs": [
        {
          "output_type": "stream",
          "name": "stdout",
          "text": [
            "fatal: destination path 'dlatk' already exists and is not an empty directory.\n",
            "Processing ./dlatk\n",
            "  Preparing metadata (setup.py) ... \u001b[?25l\u001b[?25hdone\n",
            "Requirement already satisfied: nltk<=3.9.1,>=3.1 in /usr/local/lib/python3.11/dist-packages (from dlatk==1.3.1) (3.9.1)\n",
            "Requirement already satisfied: numpy<=2.0.2 in /usr/local/lib/python3.11/dist-packages (from dlatk==1.3.1) (2.0.2)\n",
            "Requirement already satisfied: pandas<=2.2.2,>=0.17.1 in /usr/local/lib/python3.11/dist-packages (from dlatk==1.3.1) (2.2.2)\n",
            "Requirement already satisfied: patsy<=1.0.1,>=0.2.1 in /usr/local/lib/python3.11/dist-packages (from dlatk==1.3.1) (1.0.1)\n",
            "Requirement already satisfied: python-dateutil<=2.8.2,>=2.5.0 in /usr/local/lib/python3.11/dist-packages (from dlatk==1.3.1) (2.8.2)\n",
            "Requirement already satisfied: scikit-learn<=1.6.1 in /usr/local/lib/python3.11/dist-packages (from dlatk==1.3.1) (1.6.1)\n",
            "Requirement already satisfied: scipy<=1.14.1,>=0.13.3 in /usr/local/lib/python3.11/dist-packages (from dlatk==1.3.1) (1.14.1)\n",
            "Requirement already satisfied: statsmodels<=0.14.4,>=0.5.0 in /usr/local/lib/python3.11/dist-packages (from dlatk==1.3.1) (0.14.4)\n",
            "Requirement already satisfied: click in /usr/local/lib/python3.11/dist-packages (from nltk<=3.9.1,>=3.1->dlatk==1.3.1) (8.1.8)\n",
            "Requirement already satisfied: joblib in /usr/local/lib/python3.11/dist-packages (from nltk<=3.9.1,>=3.1->dlatk==1.3.1) (1.4.2)\n",
            "Requirement already satisfied: regex>=2021.8.3 in /usr/local/lib/python3.11/dist-packages (from nltk<=3.9.1,>=3.1->dlatk==1.3.1) (2024.11.6)\n",
            "Requirement already satisfied: tqdm in /usr/local/lib/python3.11/dist-packages (from nltk<=3.9.1,>=3.1->dlatk==1.3.1) (4.67.1)\n",
            "Requirement already satisfied: pytz>=2020.1 in /usr/local/lib/python3.11/dist-packages (from pandas<=2.2.2,>=0.17.1->dlatk==1.3.1) (2025.2)\n",
            "Requirement already satisfied: tzdata>=2022.7 in /usr/local/lib/python3.11/dist-packages (from pandas<=2.2.2,>=0.17.1->dlatk==1.3.1) (2025.2)\n",
            "Requirement already satisfied: six>=1.5 in /usr/local/lib/python3.11/dist-packages (from python-dateutil<=2.8.2,>=2.5.0->dlatk==1.3.1) (1.17.0)\n",
            "Requirement already satisfied: threadpoolctl>=3.1.0 in /usr/local/lib/python3.11/dist-packages (from scikit-learn<=1.6.1->dlatk==1.3.1) (3.6.0)\n",
            "Requirement already satisfied: packaging>=21.3 in /usr/local/lib/python3.11/dist-packages (from statsmodels<=0.14.4,>=0.5.0->dlatk==1.3.1) (24.2)\n",
            "Building wheels for collected packages: dlatk\n",
            "  Building wheel for dlatk (setup.py) ... \u001b[?25l\u001b[?25hdone\n",
            "  Created wheel for dlatk: filename=dlatk-1.3.1-py3-none-any.whl size=35635829 sha256=403345267d3e88f95c7b270816253125ce0ae129ffee6f53193c413f90b73921\n",
            "  Stored in directory: /tmp/pip-ephem-wheel-cache-ubde0oy6/wheels/cc/c9/65/e1ecc64bac68518c07b286fe86921aa938e11a0c3a87d8ff93\n",
            "Successfully built dlatk\n",
            "Installing collected packages: dlatk\n",
            "  Attempting uninstall: dlatk\n",
            "    Found existing installation: dlatk 1.3.1\n",
            "    Uninstalling dlatk-1.3.1:\n",
            "      Successfully uninstalled dlatk-1.3.1\n",
            "Successfully installed dlatk-1.3.1\n"
          ]
        },
        {
          "output_type": "display_data",
          "data": {
            "application/vnd.colab-display-data+json": {
              "pip_warning": {
                "packages": [
                  "dlatk"
                ]
              },
              "id": "621c67785e9249deb8d4592bd46446c3"
            }
          },
          "metadata": {}
        },
        {
          "output_type": "stream",
          "name": "stdout",
          "text": [
            "Requirement already satisfied: jupysql in /usr/local/lib/python3.11/dist-packages (0.11.1)\n",
            "Requirement already satisfied: prettytable>=3.12.0 in /usr/local/lib/python3.11/dist-packages (from jupysql) (3.16.0)\n",
            "Requirement already satisfied: sqlalchemy in /usr/local/lib/python3.11/dist-packages (from jupysql) (2.0.40)\n",
            "Requirement already satisfied: sqlparse in /usr/local/lib/python3.11/dist-packages (from jupysql) (0.5.3)\n",
            "Requirement already satisfied: ipython-genutils>=0.1.0 in /usr/local/lib/python3.11/dist-packages (from jupysql) (0.2.0)\n",
            "Requirement already satisfied: jinja2 in /usr/local/lib/python3.11/dist-packages (from jupysql) (3.1.6)\n",
            "Requirement already satisfied: sqlglot>=11.3.7 in /usr/local/lib/python3.11/dist-packages (from jupysql) (25.20.2)\n",
            "Requirement already satisfied: jupysql-plugin>=0.4.2 in /usr/local/lib/python3.11/dist-packages (from jupysql) (0.4.5)\n",
            "Requirement already satisfied: ploomber-core>=0.2.7 in /usr/local/lib/python3.11/dist-packages (from jupysql) (0.2.26)\n",
            "Requirement already satisfied: pyyaml in /usr/local/lib/python3.11/dist-packages (from ploomber-core>=0.2.7->jupysql) (6.0.2)\n",
            "Requirement already satisfied: posthog in /usr/local/lib/python3.11/dist-packages (from ploomber-core>=0.2.7->jupysql) (3.23.0)\n",
            "Requirement already satisfied: wcwidth in /usr/local/lib/python3.11/dist-packages (from prettytable>=3.12.0->jupysql) (0.2.13)\n",
            "Requirement already satisfied: MarkupSafe>=2.0 in /usr/local/lib/python3.11/dist-packages (from jinja2->jupysql) (3.0.2)\n",
            "Requirement already satisfied: greenlet>=1 in /usr/local/lib/python3.11/dist-packages (from sqlalchemy->jupysql) (3.1.1)\n",
            "Requirement already satisfied: typing-extensions>=4.6.0 in /usr/local/lib/python3.11/dist-packages (from sqlalchemy->jupysql) (4.13.0)\n",
            "Requirement already satisfied: requests<3.0,>=2.7 in /usr/local/lib/python3.11/dist-packages (from posthog->ploomber-core>=0.2.7->jupysql) (2.32.3)\n",
            "Requirement already satisfied: six>=1.5 in /usr/local/lib/python3.11/dist-packages (from posthog->ploomber-core>=0.2.7->jupysql) (1.17.0)\n",
            "Requirement already satisfied: monotonic>=1.5 in /usr/local/lib/python3.11/dist-packages (from posthog->ploomber-core>=0.2.7->jupysql) (1.6)\n",
            "Requirement already satisfied: backoff>=1.10.0 in /usr/local/lib/python3.11/dist-packages (from posthog->ploomber-core>=0.2.7->jupysql) (2.2.1)\n",
            "Requirement already satisfied: python-dateutil>2.1 in /usr/local/lib/python3.11/dist-packages (from posthog->ploomber-core>=0.2.7->jupysql) (2.8.2)\n",
            "Requirement already satisfied: distro>=1.5.0 in /usr/local/lib/python3.11/dist-packages (from posthog->ploomber-core>=0.2.7->jupysql) (1.9.0)\n",
            "Requirement already satisfied: charset-normalizer<4,>=2 in /usr/local/lib/python3.11/dist-packages (from requests<3.0,>=2.7->posthog->ploomber-core>=0.2.7->jupysql) (3.4.1)\n",
            "Requirement already satisfied: idna<4,>=2.5 in /usr/local/lib/python3.11/dist-packages (from requests<3.0,>=2.7->posthog->ploomber-core>=0.2.7->jupysql) (3.10)\n",
            "Requirement already satisfied: urllib3<3,>=1.21.1 in /usr/local/lib/python3.11/dist-packages (from requests<3.0,>=2.7->posthog->ploomber-core>=0.2.7->jupysql) (2.3.0)\n",
            "Requirement already satisfied: certifi>=2017.4.17 in /usr/local/lib/python3.11/dist-packages (from requests<3.0,>=2.7->posthog->ploomber-core>=0.2.7->jupysql) (2025.1.31)\n",
            "fatal: destination path 'album' already exists and is not an empty directory.\n",
            "The sql extension is already loaded. To reload it, use:\n",
            "  %reload_ext sql\n",
            " ******* LOAD FINISHED ¯\\_(ツ)_/ *******\n"
          ]
        },
        {
          "output_type": "stream",
          "name": "stderr",
          "text": [
            "Table already exists\n",
            "Table already exists\n"
          ]
        }
      ],
      "id": "BBOLv6P-0cIf"
    },
    {
      "cell_type": "markdown",
      "source": [
        "## 2) Recap: SELECT Statement"
      ],
      "metadata": {
        "id": "IUmwOJhCHago"
      },
      "id": "IUmwOJhCHago"
    },
    {
      "cell_type": "markdown",
      "id": "89fda6ca",
      "metadata": {
        "id": "89fda6ca"
      },
      "source": [
        "Let's just remind ourselves what's in the tables."
      ]
    },
    {
      "cell_type": "code",
      "source": [
        "%sql PRAGMA table_info(album)"
      ],
      "metadata": {
        "colab": {
          "base_uri": "https://localhost:8080/",
          "height": 165
        },
        "id": "fTEO38UHylVD",
        "outputId": "5a23727b-5d04-46b0-d0e1-e117135cb559"
      },
      "id": "fTEO38UHylVD",
      "execution_count": null,
      "outputs": [
        {
          "output_type": "display_data",
          "data": {
            "text/plain": [
              "Running query in 'sqlite:///sqlite_data/your_name.db?charset=utf8mb4'"
            ],
            "text/html": [
              "<span style=\"None\">Running query in &#x27;sqlite:///sqlite_data/your_name.db?charset=utf8mb4&#x27;</span>"
            ]
          },
          "metadata": {}
        },
        {
          "output_type": "execute_result",
          "data": {
            "text/plain": [
              "+-----+----------+-------------+---------+------------+----+\n",
              "| cid |   name   |     type    | notnull | dflt_value | pk |\n",
              "+-----+----------+-------------+---------+------------+----+\n",
              "|  0  |    id    |     INT     |    0    |    None    | 0  |\n",
              "|  1  |  title   | VARCHAR(31) |    0    |    None    | 0  |\n",
              "|  2  |  artist  | VARCHAR(63) |    0    |    None    | 0  |\n",
              "|  3  |  label   | VARCHAR(15) |    0    |    None    | 0  |\n",
              "|  4  | released | VARCHAR(15) |    0    |    None    | 0  |\n",
              "+-----+----------+-------------+---------+------------+----+"
            ],
            "text/html": [
              "<table>\n",
              "    <thead>\n",
              "        <tr>\n",
              "            <th>cid</th>\n",
              "            <th>name</th>\n",
              "            <th>type</th>\n",
              "            <th>notnull</th>\n",
              "            <th>dflt_value</th>\n",
              "            <th>pk</th>\n",
              "        </tr>\n",
              "    </thead>\n",
              "    <tbody>\n",
              "        <tr>\n",
              "            <td>0</td>\n",
              "            <td>id</td>\n",
              "            <td>INT</td>\n",
              "            <td>0</td>\n",
              "            <td>None</td>\n",
              "            <td>0</td>\n",
              "        </tr>\n",
              "        <tr>\n",
              "            <td>1</td>\n",
              "            <td>title</td>\n",
              "            <td>VARCHAR(31)</td>\n",
              "            <td>0</td>\n",
              "            <td>None</td>\n",
              "            <td>0</td>\n",
              "        </tr>\n",
              "        <tr>\n",
              "            <td>2</td>\n",
              "            <td>artist</td>\n",
              "            <td>VARCHAR(63)</td>\n",
              "            <td>0</td>\n",
              "            <td>None</td>\n",
              "            <td>0</td>\n",
              "        </tr>\n",
              "        <tr>\n",
              "            <td>3</td>\n",
              "            <td>label</td>\n",
              "            <td>VARCHAR(15)</td>\n",
              "            <td>0</td>\n",
              "            <td>None</td>\n",
              "            <td>0</td>\n",
              "        </tr>\n",
              "        <tr>\n",
              "            <td>4</td>\n",
              "            <td>released</td>\n",
              "            <td>VARCHAR(15)</td>\n",
              "            <td>0</td>\n",
              "            <td>None</td>\n",
              "            <td>0</td>\n",
              "        </tr>\n",
              "    </tbody>\n",
              "</table>"
            ]
          },
          "metadata": {},
          "execution_count": 3
        }
      ]
    },
    {
      "cell_type": "code",
      "execution_count": null,
      "id": "68ec22be",
      "metadata": {
        "colab": {
          "base_uri": "https://localhost:8080/",
          "height": 207
        },
        "id": "68ec22be",
        "outputId": "ade23f4d-992f-446e-e44a-4025b7e565d8"
      },
      "outputs": [
        {
          "output_type": "display_data",
          "data": {
            "text/plain": [
              "Running query in 'sqlite:///sqlite_data/your_name.db?charset=utf8mb4'"
            ],
            "text/html": [
              "<span style=\"None\">Running query in &#x27;sqlite:///sqlite_data/your_name.db?charset=utf8mb4&#x27;</span>"
            ]
          },
          "metadata": {}
        },
        {
          "output_type": "execute_result",
          "data": {
            "text/plain": [
              "+----+------------------------+-----------------------------------+------------+------------+\n",
              "| id |         title          |               artist              |   label    |  released  |\n",
              "+----+------------------------+-----------------------------------+------------+------------+\n",
              "| 1  | Two Men with the Blues | Willie Nelson and Wynton Marsalis | Blue Note  | 2008-07-08 |\n",
              "| 11 |  Hendrix in the West   |            Jimi Hendrix           |  Polydor   | 1972-01-01 |\n",
              "| 12 |      Rubber Soul       |            The Beatles            | Parlophone | 1965-12-03 |\n",
              "| 13 |     Birds of Fire      |        Mahavishnu Orchestra       |  Columbia  | 1973-03-01 |\n",
              "| 16 |        Live And        |           Johnny Winter           |  Columbia  | 1971-05-01 |\n",
              "| 17 |       Apostrophe       |            Frank Zappa            |  DiscReet  | 1974-04-22 |\n",
              "| 18 |      Kind of Blue      |            Miles Davis            |  Columbia  | 1959-08-17 |\n",
              "+----+------------------------+-----------------------------------+------------+------------+"
            ],
            "text/html": [
              "<table>\n",
              "    <thead>\n",
              "        <tr>\n",
              "            <th>id</th>\n",
              "            <th>title</th>\n",
              "            <th>artist</th>\n",
              "            <th>label</th>\n",
              "            <th>released</th>\n",
              "        </tr>\n",
              "    </thead>\n",
              "    <tbody>\n",
              "        <tr>\n",
              "            <td>1</td>\n",
              "            <td>Two Men with the Blues</td>\n",
              "            <td>Willie Nelson and Wynton Marsalis</td>\n",
              "            <td>Blue Note</td>\n",
              "            <td>2008-07-08</td>\n",
              "        </tr>\n",
              "        <tr>\n",
              "            <td>11</td>\n",
              "            <td>Hendrix in the West</td>\n",
              "            <td>Jimi Hendrix</td>\n",
              "            <td>Polydor</td>\n",
              "            <td>1972-01-01</td>\n",
              "        </tr>\n",
              "        <tr>\n",
              "            <td>12</td>\n",
              "            <td>Rubber Soul</td>\n",
              "            <td>The Beatles</td>\n",
              "            <td>Parlophone</td>\n",
              "            <td>1965-12-03</td>\n",
              "        </tr>\n",
              "        <tr>\n",
              "            <td>13</td>\n",
              "            <td>Birds of Fire</td>\n",
              "            <td>Mahavishnu Orchestra</td>\n",
              "            <td>Columbia</td>\n",
              "            <td>1973-03-01</td>\n",
              "        </tr>\n",
              "        <tr>\n",
              "            <td>16</td>\n",
              "            <td>Live And</td>\n",
              "            <td>Johnny Winter</td>\n",
              "            <td>Columbia</td>\n",
              "            <td>1971-05-01</td>\n",
              "        </tr>\n",
              "        <tr>\n",
              "            <td>17</td>\n",
              "            <td>Apostrophe</td>\n",
              "            <td>Frank Zappa</td>\n",
              "            <td>DiscReet</td>\n",
              "            <td>1974-04-22</td>\n",
              "        </tr>\n",
              "        <tr>\n",
              "            <td>18</td>\n",
              "            <td>Kind of Blue</td>\n",
              "            <td>Miles Davis</td>\n",
              "            <td>Columbia</td>\n",
              "            <td>1959-08-17</td>\n",
              "        </tr>\n",
              "    </tbody>\n",
              "</table>"
            ]
          },
          "metadata": {},
          "execution_count": 4
        }
      ],
      "source": [
        "%%sql\n",
        "\n",
        "SELECT *\n",
        "FROM album;"
      ]
    },
    {
      "cell_type": "code",
      "execution_count": null,
      "id": "0264b71d",
      "metadata": {
        "colab": {
          "base_uri": "https://localhost:8080/",
          "height": 271
        },
        "id": "0264b71d",
        "outputId": "2de6b9eb-a25f-4af4-b02a-fa9e4ef10cc5"
      },
      "outputs": [
        {
          "output_type": "display_data",
          "data": {
            "text/plain": [
              "Running query in 'sqlite:///sqlite_data/your_name.db?charset=utf8mb4'"
            ],
            "text/html": [
              "<span style=\"None\">Running query in &#x27;sqlite:///sqlite_data/your_name.db?charset=utf8mb4&#x27;</span>"
            ]
          },
          "metadata": {}
        },
        {
          "output_type": "execute_result",
          "data": {
            "text/plain": [
              "+----+----------+-------------------+--------------+----------+\n",
              "| id | album_id |       title       | track_number | duration |\n",
              "+----+----------+-------------------+--------------+----------+\n",
              "| 21 |    11    |     Red House     |      8       |   786    |\n",
              "| 51 |    16    | It's My Own Fault |      2       |   734    |\n",
              "| 68 |    18    |     All Blues     |      4       |   696    |\n",
              "| 43 |    13    |      One Word     |      7       |   597    |\n",
              "| 66 |    18    | Freddy Freeloader |      2       |   589    |\n",
              "| 69 |    18    | Flamenco Sketches |      5       |   566    |\n",
              "| 65 |    18    |      So What      |      1       |   565    |\n",
              "| 70 |    11    |     Fake Track    |      9       |   549    |\n",
              "| 54 |    16    |  Mean Town Blues  |      5       |   539    |\n",
              "| 17 |    11    |    Voodoo Chile   |      4       |   469    |\n",
              "+----+----------+-------------------+--------------+----------+"
            ],
            "text/html": [
              "<table>\n",
              "    <thead>\n",
              "        <tr>\n",
              "            <th>id</th>\n",
              "            <th>album_id</th>\n",
              "            <th>title</th>\n",
              "            <th>track_number</th>\n",
              "            <th>duration</th>\n",
              "        </tr>\n",
              "    </thead>\n",
              "    <tbody>\n",
              "        <tr>\n",
              "            <td>21</td>\n",
              "            <td>11</td>\n",
              "            <td>Red House</td>\n",
              "            <td>8</td>\n",
              "            <td>786</td>\n",
              "        </tr>\n",
              "        <tr>\n",
              "            <td>51</td>\n",
              "            <td>16</td>\n",
              "            <td>It's My Own Fault</td>\n",
              "            <td>2</td>\n",
              "            <td>734</td>\n",
              "        </tr>\n",
              "        <tr>\n",
              "            <td>68</td>\n",
              "            <td>18</td>\n",
              "            <td>All Blues</td>\n",
              "            <td>4</td>\n",
              "            <td>696</td>\n",
              "        </tr>\n",
              "        <tr>\n",
              "            <td>43</td>\n",
              "            <td>13</td>\n",
              "            <td>One Word</td>\n",
              "            <td>7</td>\n",
              "            <td>597</td>\n",
              "        </tr>\n",
              "        <tr>\n",
              "            <td>66</td>\n",
              "            <td>18</td>\n",
              "            <td>Freddy Freeloader</td>\n",
              "            <td>2</td>\n",
              "            <td>589</td>\n",
              "        </tr>\n",
              "        <tr>\n",
              "            <td>69</td>\n",
              "            <td>18</td>\n",
              "            <td>Flamenco Sketches</td>\n",
              "            <td>5</td>\n",
              "            <td>566</td>\n",
              "        </tr>\n",
              "        <tr>\n",
              "            <td>65</td>\n",
              "            <td>18</td>\n",
              "            <td>So What</td>\n",
              "            <td>1</td>\n",
              "            <td>565</td>\n",
              "        </tr>\n",
              "        <tr>\n",
              "            <td>70</td>\n",
              "            <td>11</td>\n",
              "            <td>Fake Track</td>\n",
              "            <td>9</td>\n",
              "            <td>549</td>\n",
              "        </tr>\n",
              "        <tr>\n",
              "            <td>54</td>\n",
              "            <td>16</td>\n",
              "            <td>Mean Town Blues</td>\n",
              "            <td>5</td>\n",
              "            <td>539</td>\n",
              "        </tr>\n",
              "        <tr>\n",
              "            <td>17</td>\n",
              "            <td>11</td>\n",
              "            <td>Voodoo Chile</td>\n",
              "            <td>4</td>\n",
              "            <td>469</td>\n",
              "        </tr>\n",
              "    </tbody>\n",
              "</table>"
            ]
          },
          "metadata": {},
          "execution_count": 5
        }
      ],
      "source": [
        "%%sql\n",
        "\n",
        "SELECT *\n",
        "FROM track\n",
        "ORDER BY duration DESC\n",
        "limit 10;"
      ]
    },
    {
      "cell_type": "markdown",
      "id": "4a9a4763",
      "metadata": {
        "id": "4a9a4763"
      },
      "source": [
        "## 3) WHERE Clause <a class=\"anchor\" id=\"hs\"></a>"
      ]
    },
    {
      "cell_type": "markdown",
      "id": "22ae805b",
      "metadata": {
        "id": "22ae805b"
      },
      "source": [
        "Where were we? Right.\n",
        "\n",
        "In this section, we will experiment with some approaches to select particular records/rows.\n",
        "\n",
        "We use the **WHERE** clause to do this. **WHERE** is followed by a conditional expression, and any record that evaluates it to TRUE gets picked into the result set.\n",
        "\n",
        "For example, we can **SELECT** the columns `title` and `label` **FROM** the table `album` **WHERE** `artist` is `The Beatles`, as shown below.\n",
        "\n",
        "Basically, where let's you search among the rows.\n",
        "\n",
        "As you can see, nothing here is record science. 👩‍🚀😉"
      ]
    },
    {
      "cell_type": "code",
      "execution_count": null,
      "id": "55fff658",
      "metadata": {
        "colab": {
          "base_uri": "https://localhost:8080/",
          "height": 79
        },
        "id": "55fff658",
        "outputId": "e3b38ecc-386c-4f85-d4a0-35288d5a4998"
      },
      "outputs": [
        {
          "output_type": "display_data",
          "data": {
            "text/plain": [
              "Running query in 'sqlite:///sqlite_data/your_name.db?charset=utf8mb4'"
            ],
            "text/html": [
              "<span style=\"None\">Running query in &#x27;sqlite:///sqlite_data/your_name.db?charset=utf8mb4&#x27;</span>"
            ]
          },
          "metadata": {}
        },
        {
          "output_type": "execute_result",
          "data": {
            "text/plain": [
              "+-------------+------------+\n",
              "|    Title    |   Label    |\n",
              "+-------------+------------+\n",
              "| Rubber Soul | Parlophone |\n",
              "+-------------+------------+"
            ],
            "text/html": [
              "<table>\n",
              "    <thead>\n",
              "        <tr>\n",
              "            <th>Title</th>\n",
              "            <th>Label</th>\n",
              "        </tr>\n",
              "    </thead>\n",
              "    <tbody>\n",
              "        <tr>\n",
              "            <td>Rubber Soul</td>\n",
              "            <td>Parlophone</td>\n",
              "        </tr>\n",
              "    </tbody>\n",
              "</table>"
            ]
          },
          "metadata": {},
          "execution_count": 6
        }
      ],
      "source": [
        "%%sql\n",
        "\n",
        "SELECT title AS Title, label AS Label\n",
        "FROM album\n",
        "WHERE artist='The Beatles';"
      ]
    },
    {
      "cell_type": "markdown",
      "id": "f7ad1c6e",
      "metadata": {
        "id": "f7ad1c6e"
      },
      "source": [
        "🤓🤓🤓 in the tidyverse, the WHERE is `filter`.\n",
        "\n",
        "`album %>% select(artist, title, label) %>% filter(artist == \"the Beatles\")`\n",
        "\n",
        "-- I actually think this wouldn't work, you'd have to include artist among the select variables. Same idea though."
      ]
    },
    {
      "cell_type": "markdown",
      "id": "fbb1fb01",
      "metadata": {
        "id": "fbb1fb01"
      },
      "source": [
        "Of course you can **WHERE** with anything else that can be evaluated by SQL.\n",
        "\n",
        "#### 👩‍🔬💻 Exercise\n",
        "\n",
        "For example,  can you pull out all the albums released after 1970?\n",
        "\n",
        "**HINT :** Run `SELECT strftime('%Y', released) FROM album` first and see what that gives you. Muddle through from there."
      ]
    },
    {
      "cell_type": "markdown",
      "source": [
        "Normally, we would do `YEAR(date)`, but sqlite doesn't have this, so we use the function `strftime('%Y', released)`.\n",
        "\n",
        "The `strftime()` function can extract [a number of datetime features from a date](https://www.sqlitetutorial.net/sqlite-date-functions/sqlite-strftime-function/)  (e.g., year, month, day)."
      ],
      "metadata": {
        "id": "wMni8ds64aCF"
      },
      "id": "wMni8ds64aCF"
    },
    {
      "cell_type": "markdown",
      "source": [
        "\n",
        "```\n",
        "🐬🐬🐬\n",
        "SELECT *\n",
        "FROM album\n",
        "WHERE YEAR(released) > 1970;\n",
        "🐬🐬🐬\n",
        "```\n"
      ],
      "metadata": {
        "id": "c8ac52d9"
      },
      "id": "c8ac52d9"
    },
    {
      "cell_type": "code",
      "source": [
        "%%sql\n",
        "\n",
        "SELECT strftime('%Y', released) AS year\n",
        "FROM album;"
      ],
      "metadata": {
        "id": "_jcQgC9dYic9",
        "outputId": "e167b5ee-333f-4051-d920-62b2793a3dad",
        "colab": {
          "base_uri": "https://localhost:8080/",
          "height": 207
        }
      },
      "id": "_jcQgC9dYic9",
      "execution_count": null,
      "outputs": [
        {
          "output_type": "display_data",
          "data": {
            "text/plain": [
              "Running query in 'sqlite:///sqlite_data/your_name.db?charset=utf8mb4'"
            ],
            "text/html": [
              "<span style=\"None\">Running query in &#x27;sqlite:///sqlite_data/your_name.db?charset=utf8mb4&#x27;</span>"
            ]
          },
          "metadata": {}
        },
        {
          "output_type": "execute_result",
          "data": {
            "text/plain": [
              "+------+\n",
              "| year |\n",
              "+------+\n",
              "| 2008 |\n",
              "| 1972 |\n",
              "| 1965 |\n",
              "| 1973 |\n",
              "| 1971 |\n",
              "| 1974 |\n",
              "| 1959 |\n",
              "+------+"
            ],
            "text/html": [
              "<table>\n",
              "    <thead>\n",
              "        <tr>\n",
              "            <th>year</th>\n",
              "        </tr>\n",
              "    </thead>\n",
              "    <tbody>\n",
              "        <tr>\n",
              "            <td>2008</td>\n",
              "        </tr>\n",
              "        <tr>\n",
              "            <td>1972</td>\n",
              "        </tr>\n",
              "        <tr>\n",
              "            <td>1965</td>\n",
              "        </tr>\n",
              "        <tr>\n",
              "            <td>1973</td>\n",
              "        </tr>\n",
              "        <tr>\n",
              "            <td>1971</td>\n",
              "        </tr>\n",
              "        <tr>\n",
              "            <td>1974</td>\n",
              "        </tr>\n",
              "        <tr>\n",
              "            <td>1959</td>\n",
              "        </tr>\n",
              "    </tbody>\n",
              "</table>"
            ]
          },
          "metadata": {},
          "execution_count": 9
        }
      ]
    },
    {
      "cell_type": "markdown",
      "id": "a799218c",
      "metadata": {
        "id": "a799218c"
      },
      "source": [
        "### 3a) Combining Conditional Expressions <a class=\"anchor\" id=\"cce\"></a>"
      ]
    },
    {
      "cell_type": "markdown",
      "id": "743d16a2",
      "metadata": {
        "id": "743d16a2"
      },
      "source": [
        "As described in the above example, **WHERE** clause is followed by a conditional expression.\n",
        "\n",
        "This expression is not restricted to a single condition but can be a complex expression that contains multiple simpler expressions chained using **AND** or **OR**, and evaluates to either **TRUE** or **FALSE**. #boolean\n",
        "\n",
        "For example, below is set of queries to find the details of all 'The Beatles' songs that are longer than 2.5 minutes.\n",
        "\n",
        "Let's first find out which id the album has was written by the Beatles:"
      ]
    },
    {
      "cell_type": "code",
      "execution_count": null,
      "id": "834b5967",
      "metadata": {
        "colab": {
          "base_uri": "https://localhost:8080/",
          "height": 79
        },
        "id": "834b5967",
        "outputId": "71bd72a4-27dd-46d5-b295-76f14efcd07c"
      },
      "outputs": [
        {
          "output_type": "display_data",
          "data": {
            "text/plain": [
              "Running query in 'sqlite:///sqlite_data/your_name.db?charset=utf8mb4'"
            ],
            "text/html": [
              "<span style=\"None\">Running query in &#x27;sqlite:///sqlite_data/your_name.db?charset=utf8mb4&#x27;</span>"
            ]
          },
          "metadata": {}
        },
        {
          "output_type": "execute_result",
          "data": {
            "text/plain": [
              "+----+\n",
              "| id |\n",
              "+----+\n",
              "| 12 |\n",
              "+----+"
            ],
            "text/html": [
              "<table>\n",
              "    <thead>\n",
              "        <tr>\n",
              "            <th>id</th>\n",
              "        </tr>\n",
              "    </thead>\n",
              "    <tbody>\n",
              "        <tr>\n",
              "            <td>12</td>\n",
              "        </tr>\n",
              "    </tbody>\n",
              "</table>"
            ]
          },
          "metadata": {},
          "execution_count": 10
        }
      ],
      "source": [
        "%%sql\n",
        "\n",
        "SELECT artist, id\n",
        "FROM album\n",
        "WHERE artist='The Beatles';"
      ]
    },
    {
      "cell_type": "markdown",
      "id": "986b89ea",
      "metadata": {
        "id": "986b89ea"
      },
      "source": [
        "Now, let's select FROM only those tracks from the track people ONLY those that are 2.5 minutes (150 sec) or longer."
      ]
    },
    {
      "cell_type": "code",
      "execution_count": null,
      "id": "4fbf5354",
      "metadata": {
        "colab": {
          "base_uri": "https://localhost:8080/",
          "height": 186
        },
        "id": "4fbf5354",
        "outputId": "4fc037a3-d978-4494-9599-eb00b5f8922b"
      },
      "outputs": [
        {
          "output_type": "display_data",
          "data": {
            "text/plain": [
              "Running query in 'sqlite:///sqlite_data/your_name.db?charset=utf8mb4'"
            ],
            "text/html": [
              "<span style=\"None\">Running query in &#x27;sqlite:///sqlite_data/your_name.db?charset=utf8mb4&#x27;</span>"
            ]
          },
          "metadata": {}
        },
        {
          "output_type": "execute_result",
          "data": {
            "text/plain": [
              "+----+----------+------------------+--------------+----------+\n",
              "| id | album_id |      title       | track_number | duration |\n",
              "+----+----------+------------------+--------------+----------+\n",
              "| 24 |    12    | You Won't See Me |      3       |   202    |\n",
              "| 25 |    12    |   Nowhere Man    |      4       |   164    |\n",
              "| 27 |    12    |     The Word     |      6       |   163    |\n",
              "| 28 |    12    |     Michelle     |      7       |   162    |\n",
              "| 29 |    12    |   What Goes On   |      8       |   170    |\n",
              "| 30 |    12    |       Girl       |      9       |   153    |\n",
              "+----+----------+------------------+--------------+----------+"
            ],
            "text/html": [
              "<table>\n",
              "    <thead>\n",
              "        <tr>\n",
              "            <th>id</th>\n",
              "            <th>album_id</th>\n",
              "            <th>title</th>\n",
              "            <th>track_number</th>\n",
              "            <th>duration</th>\n",
              "        </tr>\n",
              "    </thead>\n",
              "    <tbody>\n",
              "        <tr>\n",
              "            <td>24</td>\n",
              "            <td>12</td>\n",
              "            <td>You Won't See Me</td>\n",
              "            <td>3</td>\n",
              "            <td>202</td>\n",
              "        </tr>\n",
              "        <tr>\n",
              "            <td>25</td>\n",
              "            <td>12</td>\n",
              "            <td>Nowhere Man</td>\n",
              "            <td>4</td>\n",
              "            <td>164</td>\n",
              "        </tr>\n",
              "        <tr>\n",
              "            <td>27</td>\n",
              "            <td>12</td>\n",
              "            <td>The Word</td>\n",
              "            <td>6</td>\n",
              "            <td>163</td>\n",
              "        </tr>\n",
              "        <tr>\n",
              "            <td>28</td>\n",
              "            <td>12</td>\n",
              "            <td>Michelle</td>\n",
              "            <td>7</td>\n",
              "            <td>162</td>\n",
              "        </tr>\n",
              "        <tr>\n",
              "            <td>29</td>\n",
              "            <td>12</td>\n",
              "            <td>What Goes On</td>\n",
              "            <td>8</td>\n",
              "            <td>170</td>\n",
              "        </tr>\n",
              "        <tr>\n",
              "            <td>30</td>\n",
              "            <td>12</td>\n",
              "            <td>Girl</td>\n",
              "            <td>9</td>\n",
              "            <td>153</td>\n",
              "        </tr>\n",
              "    </tbody>\n",
              "</table>"
            ]
          },
          "metadata": {},
          "execution_count": 11
        }
      ],
      "source": [
        "%%sql\n",
        "\n",
        "SELECT *\n",
        "FROM track\n",
        "WHERE (duration > 150) AND (album_id = 12);"
      ]
    },
    {
      "cell_type": "markdown",
      "id": "91c7e8bc",
      "metadata": {
        "id": "91c7e8bc"
      },
      "source": [
        "Ok, great."
      ]
    },
    {
      "cell_type": "markdown",
      "id": "70685d67",
      "metadata": {
        "id": "70685d67"
      },
      "source": [
        "### 3b) Combining Conditional Expressions II\n",
        "\n",
        "Ok, let's try to find all the Beatles albums released before 1975 in one query from the album table?\n",
        "\n",
        "Let's look at that table."
      ]
    },
    {
      "cell_type": "code",
      "execution_count": null,
      "id": "407e04d2",
      "metadata": {
        "colab": {
          "base_uri": "https://localhost:8080/",
          "height": 207
        },
        "id": "407e04d2",
        "outputId": "0da36ef1-1743-4b3d-ddbd-5a369697b0de"
      },
      "outputs": [
        {
          "output_type": "display_data",
          "data": {
            "text/plain": [
              "Running query in 'sqlite:///sqlite_data/your_name.db?charset=utf8mb4'"
            ],
            "text/html": [
              "<span style=\"None\">Running query in &#x27;sqlite:///sqlite_data/your_name.db?charset=utf8mb4&#x27;</span>"
            ]
          },
          "metadata": {}
        },
        {
          "output_type": "execute_result",
          "data": {
            "text/plain": [
              "+----+------------------------+-----------------------------------+------------+------------+\n",
              "| id |         title          |               artist              |   label    |  released  |\n",
              "+----+------------------------+-----------------------------------+------------+------------+\n",
              "| 1  | Two Men with the Blues | Willie Nelson and Wynton Marsalis | Blue Note  | 2008-07-08 |\n",
              "| 11 |  Hendrix in the West   |            Jimi Hendrix           |  Polydor   | 1972-01-01 |\n",
              "| 12 |      Rubber Soul       |            The Beatles            | Parlophone | 1965-12-03 |\n",
              "| 13 |     Birds of Fire      |        Mahavishnu Orchestra       |  Columbia  | 1973-03-01 |\n",
              "| 16 |        Live And        |           Johnny Winter           |  Columbia  | 1971-05-01 |\n",
              "| 17 |       Apostrophe       |            Frank Zappa            |  DiscReet  | 1974-04-22 |\n",
              "| 18 |      Kind of Blue      |            Miles Davis            |  Columbia  | 1959-08-17 |\n",
              "+----+------------------------+-----------------------------------+------------+------------+"
            ],
            "text/html": [
              "<table>\n",
              "    <thead>\n",
              "        <tr>\n",
              "            <th>id</th>\n",
              "            <th>title</th>\n",
              "            <th>artist</th>\n",
              "            <th>label</th>\n",
              "            <th>released</th>\n",
              "        </tr>\n",
              "    </thead>\n",
              "    <tbody>\n",
              "        <tr>\n",
              "            <td>1</td>\n",
              "            <td>Two Men with the Blues</td>\n",
              "            <td>Willie Nelson and Wynton Marsalis</td>\n",
              "            <td>Blue Note</td>\n",
              "            <td>2008-07-08</td>\n",
              "        </tr>\n",
              "        <tr>\n",
              "            <td>11</td>\n",
              "            <td>Hendrix in the West</td>\n",
              "            <td>Jimi Hendrix</td>\n",
              "            <td>Polydor</td>\n",
              "            <td>1972-01-01</td>\n",
              "        </tr>\n",
              "        <tr>\n",
              "            <td>12</td>\n",
              "            <td>Rubber Soul</td>\n",
              "            <td>The Beatles</td>\n",
              "            <td>Parlophone</td>\n",
              "            <td>1965-12-03</td>\n",
              "        </tr>\n",
              "        <tr>\n",
              "            <td>13</td>\n",
              "            <td>Birds of Fire</td>\n",
              "            <td>Mahavishnu Orchestra</td>\n",
              "            <td>Columbia</td>\n",
              "            <td>1973-03-01</td>\n",
              "        </tr>\n",
              "        <tr>\n",
              "            <td>16</td>\n",
              "            <td>Live And</td>\n",
              "            <td>Johnny Winter</td>\n",
              "            <td>Columbia</td>\n",
              "            <td>1971-05-01</td>\n",
              "        </tr>\n",
              "        <tr>\n",
              "            <td>17</td>\n",
              "            <td>Apostrophe</td>\n",
              "            <td>Frank Zappa</td>\n",
              "            <td>DiscReet</td>\n",
              "            <td>1974-04-22</td>\n",
              "        </tr>\n",
              "        <tr>\n",
              "            <td>18</td>\n",
              "            <td>Kind of Blue</td>\n",
              "            <td>Miles Davis</td>\n",
              "            <td>Columbia</td>\n",
              "            <td>1959-08-17</td>\n",
              "        </tr>\n",
              "    </tbody>\n",
              "</table>"
            ]
          },
          "metadata": {},
          "execution_count": 12
        }
      ],
      "source": [
        "%%sql\n",
        "\n",
        "SELECT *\n",
        "FROM album;"
      ]
    },
    {
      "cell_type": "markdown",
      "id": "58321890",
      "metadata": {
        "id": "58321890"
      },
      "source": [
        "🐇 this is slightly more advanced: DATES in SQL are encoded using the YYYY-MM-DD format. If you only want to get the YYYY from it, you can use `strftime('%Y', released)` function around such a column:"
      ]
    },
    {
      "cell_type": "code",
      "source": [
        "%%sql\n",
        "\n",
        "SELECT title, strftime('%Y', released) AS year\n",
        "\n",
        "FROM album;"
      ],
      "metadata": {
        "id": "Kro3sFgGZENC",
        "outputId": "3bfe67e0-fbae-4204-ee89-e0300369a42d",
        "colab": {
          "base_uri": "https://localhost:8080/",
          "height": 207
        }
      },
      "id": "Kro3sFgGZENC",
      "execution_count": null,
      "outputs": [
        {
          "output_type": "display_data",
          "data": {
            "text/plain": [
              "Running query in 'sqlite:///sqlite_data/your_name.db?charset=utf8mb4'"
            ],
            "text/html": [
              "<span style=\"None\">Running query in &#x27;sqlite:///sqlite_data/your_name.db?charset=utf8mb4&#x27;</span>"
            ]
          },
          "metadata": {}
        },
        {
          "output_type": "execute_result",
          "data": {
            "text/plain": [
              "+------------------------+------+\n",
              "|         title          | year |\n",
              "+------------------------+------+\n",
              "| Two Men with the Blues | 2008 |\n",
              "|  Hendrix in the West   | 1972 |\n",
              "|      Rubber Soul       | 1965 |\n",
              "|     Birds of Fire      | 1973 |\n",
              "|        Live And        | 1971 |\n",
              "|       Apostrophe       | 1974 |\n",
              "|      Kind of Blue      | 1959 |\n",
              "+------------------------+------+"
            ],
            "text/html": [
              "<table>\n",
              "    <thead>\n",
              "        <tr>\n",
              "            <th>title</th>\n",
              "            <th>year</th>\n",
              "        </tr>\n",
              "    </thead>\n",
              "    <tbody>\n",
              "        <tr>\n",
              "            <td>Two Men with the Blues</td>\n",
              "            <td>2008</td>\n",
              "        </tr>\n",
              "        <tr>\n",
              "            <td>Hendrix in the West</td>\n",
              "            <td>1972</td>\n",
              "        </tr>\n",
              "        <tr>\n",
              "            <td>Rubber Soul</td>\n",
              "            <td>1965</td>\n",
              "        </tr>\n",
              "        <tr>\n",
              "            <td>Birds of Fire</td>\n",
              "            <td>1973</td>\n",
              "        </tr>\n",
              "        <tr>\n",
              "            <td>Live And</td>\n",
              "            <td>1971</td>\n",
              "        </tr>\n",
              "        <tr>\n",
              "            <td>Apostrophe</td>\n",
              "            <td>1974</td>\n",
              "        </tr>\n",
              "        <tr>\n",
              "            <td>Kind of Blue</td>\n",
              "            <td>1959</td>\n",
              "        </tr>\n",
              "    </tbody>\n",
              "</table>"
            ]
          },
          "metadata": {},
          "execution_count": 13
        }
      ]
    },
    {
      "cell_type": "markdown",
      "source": [
        "This is equivalent to YEAR() in MySQL\n",
        "\n",
        "🐬🐬🐬\n",
        "```\n",
        "SELECT title, YEAR(released)\n",
        "FROM album\n",
        "```\n",
        "🐬🐬🐬"
      ],
      "metadata": {
        "id": "c7c15467"
      },
      "id": "c7c15467"
    },
    {
      "cell_type": "markdown",
      "id": "701357cc",
      "metadata": {
        "id": "701357cc"
      },
      "source": [
        "#### 👩‍🔬💻 Exercise\n",
        "\n",
        "OK, can you know put these tricks together to find the all the Beatles albums released before 1975."
      ]
    },
    {
      "cell_type": "code",
      "execution_count": null,
      "id": "60ae321a",
      "metadata": {
        "colab": {
          "base_uri": "https://localhost:8080/",
          "height": 79
        },
        "id": "60ae321a",
        "outputId": "bbeaff2c-72c9-4242-99f0-59af74f0096b"
      },
      "outputs": [
        {
          "output_type": "display_data",
          "data": {
            "text/plain": [
              "Running query in 'sqlite:///sqlite_data/your_name.db?charset=utf8mb4'"
            ],
            "text/html": [
              "<span style=\"None\">Running query in &#x27;sqlite:///sqlite_data/your_name.db?charset=utf8mb4&#x27;</span>"
            ]
          },
          "metadata": {}
        },
        {
          "output_type": "execute_result",
          "data": {
            "text/plain": [
              "+----+-------------+-------------+------------+------------+\n",
              "| id |    title    |    artist   |   label    |  released  |\n",
              "+----+-------------+-------------+------------+------------+\n",
              "| 12 | Rubber Soul | The Beatles | Parlophone | 1965-12-03 |\n",
              "+----+-------------+-------------+------------+------------+"
            ],
            "text/html": [
              "<table>\n",
              "    <thead>\n",
              "        <tr>\n",
              "            <th>id</th>\n",
              "            <th>title</th>\n",
              "            <th>artist</th>\n",
              "            <th>label</th>\n",
              "            <th>released</th>\n",
              "        </tr>\n",
              "    </thead>\n",
              "    <tbody>\n",
              "        <tr>\n",
              "            <td>12</td>\n",
              "            <td>Rubber Soul</td>\n",
              "            <td>The Beatles</td>\n",
              "            <td>Parlophone</td>\n",
              "            <td>1965-12-03</td>\n",
              "        </tr>\n",
              "    </tbody>\n",
              "</table>"
            ]
          },
          "metadata": {},
          "execution_count": 14
        }
      ],
      "source": [
        "%%sql\n",
        "\n",
        "SELECT *\n",
        "FROM album\n",
        "WHERE (artist = 'The Beatles') AND (strftime('%Y', released) < \"1975\");"
      ]
    },
    {
      "cell_type": "markdown",
      "source": [
        "🐬🐬🐬\n",
        "```\n",
        "SELECT *\n",
        "FROM album\n",
        "WHERE (artist = 'The Beatles') AND (YEAR(released) < 1975);\n",
        "```\n",
        "🐬🐬🐬"
      ],
      "metadata": {
        "id": "srLArVFzantc"
      },
      "id": "srLArVFzantc"
    },
    {
      "cell_type": "markdown",
      "id": "ad070fc3",
      "metadata": {
        "id": "ad070fc3"
      },
      "source": [
        "### 3c) Pattern Matching <a class=\"anchor\" id=\"pm\"></a>"
      ]
    },
    {
      "cell_type": "markdown",
      "id": "46cedf83",
      "metadata": {
        "id": "46cedf83"
      },
      "source": [
        "🤔 But how do we get rows that have some pattern in their text?\n",
        "\n",
        "Unlike the overused verbal non-fluency, the SQL **LIKE** keyword helps us to do that. **LIKE** provides a regular expression based pattern matching to retrieve records from a table. For example, the below command helps us retrieve album titles that begin with 'A'."
      ]
    },
    {
      "cell_type": "code",
      "execution_count": null,
      "id": "2de037d3",
      "metadata": {
        "colab": {
          "base_uri": "https://localhost:8080/",
          "height": 79
        },
        "id": "2de037d3",
        "outputId": "a9913d74-cf3a-4b1f-b85d-cba362c77083"
      },
      "outputs": [
        {
          "output_type": "display_data",
          "data": {
            "text/plain": [
              "Running query in 'sqlite:///sqlite_data/your_name.db?charset=utf8mb4'"
            ],
            "text/html": [
              "<span style=\"None\">Running query in &#x27;sqlite:///sqlite_data/your_name.db?charset=utf8mb4&#x27;</span>"
            ]
          },
          "metadata": {}
        },
        {
          "output_type": "execute_result",
          "data": {
            "text/plain": [
              "+----+------------+-------------+----------+------------+\n",
              "| id |   title    |    artist   |  label   |  released  |\n",
              "+----+------------+-------------+----------+------------+\n",
              "| 17 | Apostrophe | Frank Zappa | DiscReet | 1974-04-22 |\n",
              "+----+------------+-------------+----------+------------+"
            ],
            "text/html": [
              "<table>\n",
              "    <thead>\n",
              "        <tr>\n",
              "            <th>id</th>\n",
              "            <th>title</th>\n",
              "            <th>artist</th>\n",
              "            <th>label</th>\n",
              "            <th>released</th>\n",
              "        </tr>\n",
              "    </thead>\n",
              "    <tbody>\n",
              "        <tr>\n",
              "            <td>17</td>\n",
              "            <td>Apostrophe</td>\n",
              "            <td>Frank Zappa</td>\n",
              "            <td>DiscReet</td>\n",
              "            <td>1974-04-22</td>\n",
              "        </tr>\n",
              "    </tbody>\n",
              "</table>"
            ]
          },
          "metadata": {},
          "execution_count": 15
        }
      ],
      "source": [
        "%%sql\n",
        "\n",
        "SELECT *\n",
        "FROM album\n",
        "WHERE title LIKE 'A%';"
      ]
    },
    {
      "cell_type": "markdown",
      "id": "a2341e63",
      "metadata": {
        "id": "a2341e63"
      },
      "source": [
        "`%` is a wildcard that matches **any character and any number of them**. So, in the above query *'A%'* matches a string that has *A* as its first character and some characters after that. An extensive demonstration of all the wildcards is beyond the scope of this tutorial (and maybe even the course). You can always check them in the [documentation](https://dev.mysql.com/doc/refman/8.0/en/pattern-matching.html).\n",
        "\n",
        "You generally can get by knowing just this one `%` wildcard."
      ]
    },
    {
      "cell_type": "markdown",
      "id": "68cddb41",
      "metadata": {
        "id": "68cddb41"
      },
      "source": [
        "🤓🤓🤓 in the tidyverse, this would be (with `str_detect` from the stringr package)\n",
        "\n",
        "`album %>% filter(str_detect(title,\"^A\"))`\n",
        "\n",
        "(the ^ means \"starts with\" in regular expressions)"
      ]
    },
    {
      "cell_type": "markdown",
      "id": "cafc82be",
      "metadata": {
        "id": "cafc82be"
      },
      "source": [
        "As you will have realized by now, we can use the same *%* wildcard to get records which have columns ending in a certain pattern. Let's say we want to find a record where the artist has last name `Hendrix`."
      ]
    },
    {
      "cell_type": "code",
      "execution_count": null,
      "id": "20907e0a",
      "metadata": {
        "colab": {
          "base_uri": "https://localhost:8080/",
          "height": 79
        },
        "id": "20907e0a",
        "outputId": "fdc514d4-547e-4db6-b55a-c02668d393c4"
      },
      "outputs": [
        {
          "output_type": "display_data",
          "data": {
            "text/plain": [
              "Running query in 'sqlite:///sqlite_data/your_name.db?charset=utf8mb4'"
            ],
            "text/html": [
              "<span style=\"None\">Running query in &#x27;sqlite:///sqlite_data/your_name.db?charset=utf8mb4&#x27;</span>"
            ]
          },
          "metadata": {}
        },
        {
          "output_type": "execute_result",
          "data": {
            "text/plain": [
              "+----+---------------------+--------------+---------+------------+\n",
              "| id |        title        |    artist    |  label  |  released  |\n",
              "+----+---------------------+--------------+---------+------------+\n",
              "| 11 | Hendrix in the West | Jimi Hendrix | Polydor | 1972-01-01 |\n",
              "+----+---------------------+--------------+---------+------------+"
            ],
            "text/html": [
              "<table>\n",
              "    <thead>\n",
              "        <tr>\n",
              "            <th>id</th>\n",
              "            <th>title</th>\n",
              "            <th>artist</th>\n",
              "            <th>label</th>\n",
              "            <th>released</th>\n",
              "        </tr>\n",
              "    </thead>\n",
              "    <tbody>\n",
              "        <tr>\n",
              "            <td>11</td>\n",
              "            <td>Hendrix in the West</td>\n",
              "            <td>Jimi Hendrix</td>\n",
              "            <td>Polydor</td>\n",
              "            <td>1972-01-01</td>\n",
              "        </tr>\n",
              "    </tbody>\n",
              "</table>"
            ]
          },
          "metadata": {},
          "execution_count": 16
        }
      ],
      "source": [
        "%%sql\n",
        "\n",
        "SELECT *\n",
        "FROM album\n",
        "WHERE artist LIKE '%Hendrix';"
      ]
    },
    {
      "cell_type": "markdown",
      "id": "76d5a8b2",
      "metadata": {
        "id": "76d5a8b2"
      },
      "source": [
        "The use case `LIKE '%Hendrix%'` is probably most useful -- find anything that contains the string. 0 characters before or after are also a [number of characters](https://www.youtube.com/watch?v=UfJljXugLA0), and will also be matched by `%`."
      ]
    },
    {
      "cell_type": "markdown",
      "id": "d4c8ba6f",
      "metadata": {
        "id": "d4c8ba6f"
      },
      "source": [
        "#### 👩‍🔬💻 Exercise\n",
        "\n",
        "Ok, now you try... which tracks contain `Own`? Which album labels contain `Poly`?"
      ]
    },
    {
      "cell_type": "code",
      "execution_count": null,
      "id": "338fed59",
      "metadata": {
        "colab": {
          "base_uri": "https://localhost:8080/",
          "height": 122
        },
        "id": "338fed59",
        "outputId": "4b33aeb6-49c0-4a37-e3dd-cdcd21a12790"
      },
      "outputs": [
        {
          "output_type": "display_data",
          "data": {
            "text/plain": [
              "Running query in 'sqlite:///sqlite_data/your_name.db?charset=utf8mb4'"
            ],
            "text/html": [
              "<span style=\"None\">Running query in &#x27;sqlite:///sqlite_data/your_name.db?charset=utf8mb4&#x27;</span>"
            ]
          },
          "metadata": {}
        },
        {
          "output_type": "execute_result",
          "data": {
            "text/plain": [
              "+----+----------+--------------------------------------+--------------+----------+\n",
              "| id | album_id |                title                 | track_number | duration |\n",
              "+----+----------+--------------------------------------+--------------+----------+\n",
              "| 23 |    12    | Norwegian Wood (This Bird Has Flown) |      2       |   125    |\n",
              "| 51 |    16    |          It's My Own Fault           |      2       |   734    |\n",
              "| 54 |    16    |           Mean Town Blues            |      5       |   539    |\n",
              "+----+----------+--------------------------------------+--------------+----------+"
            ],
            "text/html": [
              "<table>\n",
              "    <thead>\n",
              "        <tr>\n",
              "            <th>id</th>\n",
              "            <th>album_id</th>\n",
              "            <th>title</th>\n",
              "            <th>track_number</th>\n",
              "            <th>duration</th>\n",
              "        </tr>\n",
              "    </thead>\n",
              "    <tbody>\n",
              "        <tr>\n",
              "            <td>23</td>\n",
              "            <td>12</td>\n",
              "            <td>Norwegian Wood (This Bird Has Flown)</td>\n",
              "            <td>2</td>\n",
              "            <td>125</td>\n",
              "        </tr>\n",
              "        <tr>\n",
              "            <td>51</td>\n",
              "            <td>16</td>\n",
              "            <td>It's My Own Fault</td>\n",
              "            <td>2</td>\n",
              "            <td>734</td>\n",
              "        </tr>\n",
              "        <tr>\n",
              "            <td>54</td>\n",
              "            <td>16</td>\n",
              "            <td>Mean Town Blues</td>\n",
              "            <td>5</td>\n",
              "            <td>539</td>\n",
              "        </tr>\n",
              "    </tbody>\n",
              "</table>"
            ]
          },
          "metadata": {},
          "execution_count": 17
        }
      ],
      "source": [
        "%%sql\n",
        "\n",
        "SELECT *\n",
        "FROM track\n",
        "WHERE title LIKE \"%Own%\";"
      ]
    },
    {
      "cell_type": "code",
      "execution_count": null,
      "id": "5a4f1894",
      "metadata": {
        "colab": {
          "base_uri": "https://localhost:8080/",
          "height": 79
        },
        "id": "5a4f1894",
        "outputId": "b43c4e8c-c2a1-45f3-a711-cffd082a654a"
      },
      "outputs": [
        {
          "output_type": "display_data",
          "data": {
            "text/plain": [
              "Running query in 'sqlite:///sqlite_data/your_name.db?charset=utf8mb4'"
            ],
            "text/html": [
              "<span style=\"None\">Running query in &#x27;sqlite:///sqlite_data/your_name.db?charset=utf8mb4&#x27;</span>"
            ]
          },
          "metadata": {}
        },
        {
          "output_type": "execute_result",
          "data": {
            "text/plain": [
              "+----+---------------------+--------------+---------+------------+\n",
              "| id |        title        |    artist    |  label  |  released  |\n",
              "+----+---------------------+--------------+---------+------------+\n",
              "| 11 | Hendrix in the West | Jimi Hendrix | Polydor | 1972-01-01 |\n",
              "+----+---------------------+--------------+---------+------------+"
            ],
            "text/html": [
              "<table>\n",
              "    <thead>\n",
              "        <tr>\n",
              "            <th>id</th>\n",
              "            <th>title</th>\n",
              "            <th>artist</th>\n",
              "            <th>label</th>\n",
              "            <th>released</th>\n",
              "        </tr>\n",
              "    </thead>\n",
              "    <tbody>\n",
              "        <tr>\n",
              "            <td>11</td>\n",
              "            <td>Hendrix in the West</td>\n",
              "            <td>Jimi Hendrix</td>\n",
              "            <td>Polydor</td>\n",
              "            <td>1972-01-01</td>\n",
              "        </tr>\n",
              "    </tbody>\n",
              "</table>"
            ]
          },
          "metadata": {},
          "execution_count": 18
        }
      ],
      "source": [
        "%%sql\n",
        "\n",
        "SELECT *\n",
        "FROM album\n",
        "WHERE label LIKE \"%Poly%\";"
      ]
    },
    {
      "cell_type": "markdown",
      "id": "8249354c",
      "metadata": {
        "id": "8249354c"
      },
      "source": [
        "Somewhat less useful, but good to know, is the `_` wildcard.\n",
        "\n",
        "Unlike `%` which matches an arbitrary number of characters, `_` (underscore)  matches a single character. This helps particularly when you know the number of characters in a pattern. Let's say we have to find the record which has 6 or more letters in the last word of the artist name.\n",
        "\n",
        "(Notice the trick with requiring the space in the middle of the artist name.)"
      ]
    },
    {
      "cell_type": "code",
      "execution_count": null,
      "id": "562d0696",
      "metadata": {
        "colab": {
          "base_uri": "https://localhost:8080/",
          "height": 165
        },
        "id": "562d0696",
        "outputId": "fd23e523-74c1-4af9-c5ed-c7d50ab12087"
      },
      "outputs": [
        {
          "output_type": "display_data",
          "data": {
            "text/plain": [
              "Running query in 'sqlite:///sqlite_data/your_name.db?charset=utf8mb4'"
            ],
            "text/html": [
              "<span style=\"None\">Running query in &#x27;sqlite:///sqlite_data/your_name.db?charset=utf8mb4&#x27;</span>"
            ]
          },
          "metadata": {}
        },
        {
          "output_type": "execute_result",
          "data": {
            "text/plain": [
              "+----+------------------------+-----------------------------------+------------+------------+\n",
              "| id |         title          |               artist              |   label    |  released  |\n",
              "+----+------------------------+-----------------------------------+------------+------------+\n",
              "| 1  | Two Men with the Blues | Willie Nelson and Wynton Marsalis | Blue Note  | 2008-07-08 |\n",
              "| 11 |  Hendrix in the West   |            Jimi Hendrix           |  Polydor   | 1972-01-01 |\n",
              "| 12 |      Rubber Soul       |            The Beatles            | Parlophone | 1965-12-03 |\n",
              "| 13 |     Birds of Fire      |        Mahavishnu Orchestra       |  Columbia  | 1973-03-01 |\n",
              "| 16 |        Live And        |           Johnny Winter           |  Columbia  | 1971-05-01 |\n",
              "+----+------------------------+-----------------------------------+------------+------------+"
            ],
            "text/html": [
              "<table>\n",
              "    <thead>\n",
              "        <tr>\n",
              "            <th>id</th>\n",
              "            <th>title</th>\n",
              "            <th>artist</th>\n",
              "            <th>label</th>\n",
              "            <th>released</th>\n",
              "        </tr>\n",
              "    </thead>\n",
              "    <tbody>\n",
              "        <tr>\n",
              "            <td>1</td>\n",
              "            <td>Two Men with the Blues</td>\n",
              "            <td>Willie Nelson and Wynton Marsalis</td>\n",
              "            <td>Blue Note</td>\n",
              "            <td>2008-07-08</td>\n",
              "        </tr>\n",
              "        <tr>\n",
              "            <td>11</td>\n",
              "            <td>Hendrix in the West</td>\n",
              "            <td>Jimi Hendrix</td>\n",
              "            <td>Polydor</td>\n",
              "            <td>1972-01-01</td>\n",
              "        </tr>\n",
              "        <tr>\n",
              "            <td>12</td>\n",
              "            <td>Rubber Soul</td>\n",
              "            <td>The Beatles</td>\n",
              "            <td>Parlophone</td>\n",
              "            <td>1965-12-03</td>\n",
              "        </tr>\n",
              "        <tr>\n",
              "            <td>13</td>\n",
              "            <td>Birds of Fire</td>\n",
              "            <td>Mahavishnu Orchestra</td>\n",
              "            <td>Columbia</td>\n",
              "            <td>1973-03-01</td>\n",
              "        </tr>\n",
              "        <tr>\n",
              "            <td>16</td>\n",
              "            <td>Live And</td>\n",
              "            <td>Johnny Winter</td>\n",
              "            <td>Columbia</td>\n",
              "            <td>1971-05-01</td>\n",
              "        </tr>\n",
              "    </tbody>\n",
              "</table>"
            ]
          },
          "metadata": {},
          "execution_count": 19
        }
      ],
      "source": [
        "%%sql\n",
        "\n",
        "SELECT *\n",
        "FROM album\n",
        "WHERE artist LIKE '% ______%';"
      ]
    },
    {
      "cell_type": "markdown",
      "id": "dd7bbf2b",
      "metadata": {
        "id": "dd7bbf2b"
      },
      "source": [
        "Here `%` initially matches any number of characters in the words before the last one. Then ' ' matches the whitespace. This is then followed by a series of 5 `_`'s that match to the minimum number of characters needed and `%` then matches the rest (including zero charecters). So any lastname with 5+ chars is eligible.\n",
        "\n",
        "As you can see SQL is pretty simple, but understanding it deeply allows you to do most anything. That is it's power. That's why it's the basis of data science 🎓."
      ]
    },
    {
      "cell_type": "markdown",
      "id": "5213101f",
      "metadata": {
        "id": "5213101f"
      },
      "source": [
        "#### 👩‍🔬💻 Exercise\n",
        "\n",
        "Alright, show the tracks that start with a three letter word (technically, a 3-char token. what are the odds??)*"
      ]
    },
    {
      "cell_type": "code",
      "execution_count": null,
      "id": "0ab56b55",
      "metadata": {
        "colab": {
          "base_uri": "https://localhost:8080/",
          "height": 250
        },
        "id": "0ab56b55",
        "outputId": "0972c1a4-60c1-4959-b9f9-015643c159fe"
      },
      "outputs": [
        {
          "output_type": "display_data",
          "data": {
            "text/plain": [
              "Running query in 'sqlite:///sqlite_data/your_name.db?charset=utf8mb4'"
            ],
            "text/html": [
              "<span style=\"None\">Running query in &#x27;sqlite:///sqlite_data/your_name.db?charset=utf8mb4&#x27;</span>"
            ]
          },
          "metadata": {}
        },
        {
          "output_type": "execute_result",
          "data": {
            "text/plain": [
              "+----+----------+---------------------------------+--------------+----------+\n",
              "| id | album_id |              title              | track_number | duration |\n",
              "+----+----------+---------------------------------+--------------+----------+\n",
              "| 18 |    11    |            The Queen            |      5       |   160    |\n",
              "| 21 |    11    |            Red House            |      8       |   786    |\n",
              "| 24 |    12    |         You Won't See Me        |      3       |   202    |\n",
              "| 27 |    12    |             The Word            |      6       |   163    |\n",
              "| 31 |    12    |     I'm Looking Through You     |      10      |   147    |\n",
              "| 35 |    12    |        Run for Your Life        |      14      |   138    |\n",
              "| 43 |    13    |             One Word            |      7       |   597    |\n",
              "| 58 |    17    | St. Alfonzo's Pancake Breakfast |      3       |   110    |\n",
              "| 68 |    18    |            All Blues            |      4       |   696    |\n",
              "+----+----------+---------------------------------+--------------+----------+"
            ],
            "text/html": [
              "<table>\n",
              "    <thead>\n",
              "        <tr>\n",
              "            <th>id</th>\n",
              "            <th>album_id</th>\n",
              "            <th>title</th>\n",
              "            <th>track_number</th>\n",
              "            <th>duration</th>\n",
              "        </tr>\n",
              "    </thead>\n",
              "    <tbody>\n",
              "        <tr>\n",
              "            <td>18</td>\n",
              "            <td>11</td>\n",
              "            <td>The Queen</td>\n",
              "            <td>5</td>\n",
              "            <td>160</td>\n",
              "        </tr>\n",
              "        <tr>\n",
              "            <td>21</td>\n",
              "            <td>11</td>\n",
              "            <td>Red House</td>\n",
              "            <td>8</td>\n",
              "            <td>786</td>\n",
              "        </tr>\n",
              "        <tr>\n",
              "            <td>24</td>\n",
              "            <td>12</td>\n",
              "            <td>You Won't See Me</td>\n",
              "            <td>3</td>\n",
              "            <td>202</td>\n",
              "        </tr>\n",
              "        <tr>\n",
              "            <td>27</td>\n",
              "            <td>12</td>\n",
              "            <td>The Word</td>\n",
              "            <td>6</td>\n",
              "            <td>163</td>\n",
              "        </tr>\n",
              "        <tr>\n",
              "            <td>31</td>\n",
              "            <td>12</td>\n",
              "            <td>I'm Looking Through You</td>\n",
              "            <td>10</td>\n",
              "            <td>147</td>\n",
              "        </tr>\n",
              "        <tr>\n",
              "            <td>35</td>\n",
              "            <td>12</td>\n",
              "            <td>Run for Your Life</td>\n",
              "            <td>14</td>\n",
              "            <td>138</td>\n",
              "        </tr>\n",
              "        <tr>\n",
              "            <td>43</td>\n",
              "            <td>13</td>\n",
              "            <td>One Word</td>\n",
              "            <td>7</td>\n",
              "            <td>597</td>\n",
              "        </tr>\n",
              "        <tr>\n",
              "            <td>58</td>\n",
              "            <td>17</td>\n",
              "            <td>St. Alfonzo's Pancake Breakfast</td>\n",
              "            <td>3</td>\n",
              "            <td>110</td>\n",
              "        </tr>\n",
              "        <tr>\n",
              "            <td>68</td>\n",
              "            <td>18</td>\n",
              "            <td>All Blues</td>\n",
              "            <td>4</td>\n",
              "            <td>696</td>\n",
              "        </tr>\n",
              "    </tbody>\n",
              "</table>"
            ]
          },
          "metadata": {},
          "execution_count": 20
        }
      ],
      "source": [
        "%%sql\n",
        "\n",
        "\n",
        "SELECT *\n",
        "FROM track\n",
        "WHERE title LIKE \"___ %\";"
      ]
    },
    {
      "cell_type": "markdown",
      "id": "594d575e",
      "metadata": {
        "id": "594d575e"
      },
      "source": [
        "*(this is a joke, based on fundamental laws of language use. Short words are highly frequent. Hahaha.)"
      ]
    },
    {
      "cell_type": "markdown",
      "id": "777ca95d",
      "metadata": {
        "id": "777ca95d"
      },
      "source": [
        "## 4) HAVING Clause <a class=\"anchor\" id=\"having\"></a>"
      ]
    },
    {
      "cell_type": "markdown",
      "id": "d899c8e8",
      "metadata": {
        "id": "d899c8e8"
      },
      "source": [
        "`HAVING` is basically another `WHERE` that comes at the very end of the query -- a final filter. You can use it to filter down the output of `group by` clauses, which you couldn't do with a `WHERE` -- that runs before the `group by`, logically. We are getting fancy-pants, admittedly.\n",
        "\n",
        "It augments the **GROUP BY** clause by considering particular groups into the result set that satisfy certain conditions. Consider the query to find the average duration of tracks (grouped by *album_id*) for a particular album."
      ]
    },
    {
      "cell_type": "code",
      "execution_count": null,
      "id": "2dbbde87",
      "metadata": {
        "colab": {
          "base_uri": "https://localhost:8080/",
          "height": 207
        },
        "id": "2dbbde87",
        "outputId": "f3360e4e-321a-4b04-80c4-d2d981eed2fa"
      },
      "outputs": [
        {
          "output_type": "display_data",
          "data": {
            "text/plain": [
              "Running query in 'sqlite:///sqlite_data/your_name.db?charset=utf8mb4'"
            ],
            "text/html": [
              "<span style=\"None\">Running query in &#x27;sqlite:///sqlite_data/your_name.db?charset=utf8mb4&#x27;</span>"
            ]
          },
          "metadata": {}
        },
        {
          "output_type": "execute_result",
          "data": {
            "text/plain": [
              "+----------+--------------------+\n",
              "| album_id |      average       |\n",
              "+----------+--------------------+\n",
              "|    1     |       320.7        |\n",
              "|    11    |       330.0        |\n",
              "|    12    | 152.78571428571428 |\n",
              "|    13    |       242.4        |\n",
              "|    16    | 405.3333333333333  |\n",
              "|    17    | 211.88888888888889 |\n",
              "|    18    |       550.8        |\n",
              "+----------+--------------------+"
            ],
            "text/html": [
              "<table>\n",
              "    <thead>\n",
              "        <tr>\n",
              "            <th>album_id</th>\n",
              "            <th>average</th>\n",
              "        </tr>\n",
              "    </thead>\n",
              "    <tbody>\n",
              "        <tr>\n",
              "            <td>1</td>\n",
              "            <td>320.7</td>\n",
              "        </tr>\n",
              "        <tr>\n",
              "            <td>11</td>\n",
              "            <td>330.0</td>\n",
              "        </tr>\n",
              "        <tr>\n",
              "            <td>12</td>\n",
              "            <td>152.78571428571428</td>\n",
              "        </tr>\n",
              "        <tr>\n",
              "            <td>13</td>\n",
              "            <td>242.4</td>\n",
              "        </tr>\n",
              "        <tr>\n",
              "            <td>16</td>\n",
              "            <td>405.3333333333333</td>\n",
              "        </tr>\n",
              "        <tr>\n",
              "            <td>17</td>\n",
              "            <td>211.88888888888889</td>\n",
              "        </tr>\n",
              "        <tr>\n",
              "            <td>18</td>\n",
              "            <td>550.8</td>\n",
              "        </tr>\n",
              "    </tbody>\n",
              "</table>"
            ]
          },
          "metadata": {},
          "execution_count": 21
        }
      ],
      "source": [
        "%%sql\n",
        "\n",
        "SELECT album_id, AVG(duration) AS average\n",
        "FROM track\n",
        "GROUP BY album_id;"
      ]
    },
    {
      "cell_type": "markdown",
      "id": "f5374695",
      "metadata": {
        "id": "f5374695"
      },
      "source": [
        "We see that some of the albums have an average duration of more than 5 minutes. Let's shortlist down to those!"
      ]
    },
    {
      "cell_type": "code",
      "execution_count": null,
      "id": "3deb3a56",
      "metadata": {
        "colab": {
          "base_uri": "https://localhost:8080/",
          "height": 143
        },
        "id": "3deb3a56",
        "outputId": "ea29ee5d-9350-4b4a-ede1-7d3eaa7495cc"
      },
      "outputs": [
        {
          "output_type": "display_data",
          "data": {
            "text/plain": [
              "Running query in 'sqlite:///sqlite_data/your_name.db?charset=utf8mb4'"
            ],
            "text/html": [
              "<span style=\"None\">Running query in &#x27;sqlite:///sqlite_data/your_name.db?charset=utf8mb4&#x27;</span>"
            ]
          },
          "metadata": {}
        },
        {
          "output_type": "execute_result",
          "data": {
            "text/plain": [
              "+----------+-------------------+\n",
              "| album_id |  average_duration |\n",
              "+----------+-------------------+\n",
              "|    1     |       320.7       |\n",
              "|    11    |       330.0       |\n",
              "|    16    | 405.3333333333333 |\n",
              "|    18    |       550.8       |\n",
              "+----------+-------------------+"
            ],
            "text/html": [
              "<table>\n",
              "    <thead>\n",
              "        <tr>\n",
              "            <th>album_id</th>\n",
              "            <th>average_duration</th>\n",
              "        </tr>\n",
              "    </thead>\n",
              "    <tbody>\n",
              "        <tr>\n",
              "            <td>1</td>\n",
              "            <td>320.7</td>\n",
              "        </tr>\n",
              "        <tr>\n",
              "            <td>11</td>\n",
              "            <td>330.0</td>\n",
              "        </tr>\n",
              "        <tr>\n",
              "            <td>16</td>\n",
              "            <td>405.3333333333333</td>\n",
              "        </tr>\n",
              "        <tr>\n",
              "            <td>18</td>\n",
              "            <td>550.8</td>\n",
              "        </tr>\n",
              "    </tbody>\n",
              "</table>"
            ]
          },
          "metadata": {},
          "execution_count": 22
        }
      ],
      "source": [
        "%%sql\n",
        "\n",
        "SELECT album_id, AVG(duration) AS average_duration\n",
        "FROM track\n",
        "GROUP BY album_id\n",
        "HAVING average_duration > 300;"
      ]
    },
    {
      "cell_type": "markdown",
      "id": "10e25574",
      "metadata": {
        "id": "10e25574"
      },
      "source": [
        "🤓🤓🤓 in the tidyverse, this would be\n",
        "\n",
        "`track %>% select(album_id, duration) %>% group_by(album_id) %>%\n",
        "    summarize(average_duration = mean(duration)) %>% filter(average_duration > 300)`\n",
        "    \n",
        "As you can see, we are getting into deeper waters."
      ]
    },
    {
      "cell_type": "markdown",
      "id": "5a2b5354",
      "metadata": {
        "id": "5a2b5354"
      },
      "source": [
        "We can also mix different functions in the aggregation and the having :\n",
        "    \n",
        "**HAVING** allows us to find average durations of more than 5 minutes, and then we could apply the **SUM** function to such group.\n"
      ]
    },
    {
      "cell_type": "code",
      "execution_count": null,
      "id": "ef841fac",
      "metadata": {
        "colab": {
          "base_uri": "https://localhost:8080/",
          "height": 143
        },
        "id": "ef841fac",
        "outputId": "df6ca240-3e5f-400d-c501-c0d272a8b7da"
      },
      "outputs": [
        {
          "output_type": "display_data",
          "data": {
            "text/plain": [
              "Running query in 'sqlite:///sqlite_data/your_name.db?charset=utf8mb4'"
            ],
            "text/html": [
              "<span style=\"None\">Running query in &#x27;sqlite:///sqlite_data/your_name.db?charset=utf8mb4&#x27;</span>"
            ]
          },
          "metadata": {}
        },
        {
          "output_type": "execute_result",
          "data": {
            "text/plain": [
              "+----------+----------------+\n",
              "| album_id | total_duration |\n",
              "+----------+----------------+\n",
              "|    1     |      3207      |\n",
              "|    11    |      2970      |\n",
              "|    16    |      2432      |\n",
              "|    18    |      2754      |\n",
              "+----------+----------------+"
            ],
            "text/html": [
              "<table>\n",
              "    <thead>\n",
              "        <tr>\n",
              "            <th>album_id</th>\n",
              "            <th>total_duration</th>\n",
              "        </tr>\n",
              "    </thead>\n",
              "    <tbody>\n",
              "        <tr>\n",
              "            <td>1</td>\n",
              "            <td>3207</td>\n",
              "        </tr>\n",
              "        <tr>\n",
              "            <td>11</td>\n",
              "            <td>2970</td>\n",
              "        </tr>\n",
              "        <tr>\n",
              "            <td>16</td>\n",
              "            <td>2432</td>\n",
              "        </tr>\n",
              "        <tr>\n",
              "            <td>18</td>\n",
              "            <td>2754</td>\n",
              "        </tr>\n",
              "    </tbody>\n",
              "</table>"
            ]
          },
          "metadata": {},
          "execution_count": 23
        }
      ],
      "source": [
        "%%sql\n",
        "\n",
        "SELECT album_id, SUM(duration) AS total_duration\n",
        "FROM track\n",
        "GROUP BY album_id\n",
        "HAVING AVG(duration) > 300;"
      ]
    },
    {
      "cell_type": "markdown",
      "id": "1e6dc37c",
      "metadata": {
        "id": "1e6dc37c"
      },
      "source": [
        "#### 👩‍🔬💻 Exercise\n",
        "\n",
        "Can you write the dplyr for the above command? Skip if this is not exciting to you, etc."
      ]
    },
    {
      "cell_type": "markdown",
      "id": "676db97d",
      "metadata": {
        "id": "676db97d"
      },
      "source": [
        "```\n",
        "track %>%\n",
        "    group_by(album_id) %>%\n",
        "    mutate(total_duration=sum(duration), avg_duration=mean(duration) %>%\n",
        "    filter(avg_duration > 300) %>%\n",
        "    select(album_id, total_duration)\n",
        "```"
      ]
    },
    {
      "cell_type": "markdown",
      "id": "bab205f8",
      "metadata": {
        "id": "bab205f8"
      },
      "source": [
        "#### 👩‍🔬💻 Exercise\n",
        "\n",
        "How about a SELECT that shows all albums with a duration range (`max` minus `min`) larger than a 100 seconds?"
      ]
    },
    {
      "cell_type": "code",
      "execution_count": null,
      "id": "80ed9888",
      "metadata": {
        "colab": {
          "base_uri": "https://localhost:8080/",
          "height": 186
        },
        "id": "80ed9888",
        "outputId": "681e00bf-b307-420d-956a-c8df9b873694"
      },
      "outputs": [
        {
          "output_type": "display_data",
          "data": {
            "text/plain": [
              "Running query in 'sqlite:///sqlite_data/your_name.db?charset=utf8mb4'"
            ],
            "text/html": [
              "<span style=\"None\">Running query in &#x27;sqlite:///sqlite_data/your_name.db?charset=utf8mb4&#x27;</span>"
            ]
          },
          "metadata": {}
        },
        {
          "output_type": "execute_result",
          "data": {
            "text/plain": [
              "+----------+\n",
              "| album_id |\n",
              "+----------+\n",
              "|    1     |\n",
              "|    11    |\n",
              "|    13    |\n",
              "|    16    |\n",
              "|    17    |\n",
              "|    18    |\n",
              "+----------+"
            ],
            "text/html": [
              "<table>\n",
              "    <thead>\n",
              "        <tr>\n",
              "            <th>album_id</th>\n",
              "        </tr>\n",
              "    </thead>\n",
              "    <tbody>\n",
              "        <tr>\n",
              "            <td>1</td>\n",
              "        </tr>\n",
              "        <tr>\n",
              "            <td>11</td>\n",
              "        </tr>\n",
              "        <tr>\n",
              "            <td>13</td>\n",
              "        </tr>\n",
              "        <tr>\n",
              "            <td>16</td>\n",
              "        </tr>\n",
              "        <tr>\n",
              "            <td>17</td>\n",
              "        </tr>\n",
              "        <tr>\n",
              "            <td>18</td>\n",
              "        </tr>\n",
              "    </tbody>\n",
              "</table>"
            ]
          },
          "metadata": {},
          "execution_count": 24
        }
      ],
      "source": [
        "%%sql\n",
        "\n",
        "SELECT album_id\n",
        "FROM track\n",
        "GROUP BY album_id\n",
        "HAVING (MAX(duration) - MIN(duration)) > 100;"
      ]
    },
    {
      "cell_type": "markdown",
      "id": "c2a4580e",
      "metadata": {
        "id": "c2a4580e"
      },
      "source": [
        "## 5) JOIN <a class=\"anchor\" id=\"join\"></a>"
      ]
    },
    {
      "cell_type": "markdown",
      "id": "9d19a6fb",
      "metadata": {
        "id": "9d19a6fb"
      },
      "source": [
        "Until now, we used a single table as argument for all our queries. In fact, we even followed a multi-step process for a certain result above while it could've been clearly done in a single query involving both the tables.\n",
        "\n",
        "The **JOIN** clause helps us do that. As the name conveys, it helps join multiple tables and extract information from them as shown below."
      ]
    },
    {
      "cell_type": "markdown",
      "id": "701a8ee1",
      "metadata": {
        "id": "701a8ee1"
      },
      "source": [
        "⚠️ **DISCLAIMER: NEVER USE A JOIN CLAUSE WITHOUT SPECIFYING WHAT TO JOIN ON.** SQL would just join every row on every other row, and the whole thing blows up (gets slow and then crashes, depending on how big the tables are.)\n",
        "\n",
        "We already know that the two tables are connected with a primary key - foreign key relationship (`id` in `album` is `album_id` in `track`), we can simply filter the records based on the availability of foreign key of one table as the primary key of the other using the **ON** clause as shown below."
      ]
    },
    {
      "cell_type": "code",
      "execution_count": null,
      "id": "1a310970",
      "metadata": {
        "colab": {
          "base_uri": "https://localhost:8080/",
          "height": 165
        },
        "id": "1a310970",
        "outputId": "6b50ed22-fe69-4ac2-af9c-a551cfc99d47"
      },
      "outputs": [
        {
          "output_type": "display_data",
          "data": {
            "text/plain": [
              "Running query in 'sqlite:///sqlite_data/your_name.db?charset=utf8mb4'"
            ],
            "text/html": [
              "<span style=\"None\">Running query in &#x27;sqlite:///sqlite_data/your_name.db?charset=utf8mb4&#x27;</span>"
            ]
          },
          "metadata": {}
        },
        {
          "output_type": "execute_result",
          "data": {
            "text/plain": [
              "+----+------------------------+-----------------------------------+-----------+------------+------+----------+------------------------+--------------+----------+\n",
              "| id |         title          |               artist              |   label   |  released  | id_1 | album_id |        title_1         | track_number | duration |\n",
              "+----+------------------------+-----------------------------------+-----------+------------+------+----------+------------------------+--------------+----------+\n",
              "| 1  | Two Men with the Blues | Willie Nelson and Wynton Marsalis | Blue Note | 2008-07-08 |  1   |    1     | Bright Lights Big City |      1       |   320    |\n",
              "| 1  | Two Men with the Blues | Willie Nelson and Wynton Marsalis | Blue Note | 2008-07-08 |  2   |    1     |       Night Life       |      2       |   344    |\n",
              "| 1  | Two Men with the Blues | Willie Nelson and Wynton Marsalis | Blue Note | 2008-07-08 |  3   |    1     |   Basin Street Blues   |      5       |   296    |\n",
              "| 1  | Two Men with the Blues | Willie Nelson and Wynton Marsalis | Blue Note | 2008-07-08 |  4   |    1     |        Caldonia        |      3       |   205    |\n",
              "| 1  | Two Men with the Blues | Willie Nelson and Wynton Marsalis | Blue Note | 2008-07-08 |  5   |    1     |        Stardust        |      4       |   308    |\n",
              "+----+------------------------+-----------------------------------+-----------+------------+------+----------+------------------------+--------------+----------+"
            ],
            "text/html": [
              "<table>\n",
              "    <thead>\n",
              "        <tr>\n",
              "            <th>id</th>\n",
              "            <th>title</th>\n",
              "            <th>artist</th>\n",
              "            <th>label</th>\n",
              "            <th>released</th>\n",
              "            <th>id_1</th>\n",
              "            <th>album_id</th>\n",
              "            <th>title_1</th>\n",
              "            <th>track_number</th>\n",
              "            <th>duration</th>\n",
              "        </tr>\n",
              "    </thead>\n",
              "    <tbody>\n",
              "        <tr>\n",
              "            <td>1</td>\n",
              "            <td>Two Men with the Blues</td>\n",
              "            <td>Willie Nelson and Wynton Marsalis</td>\n",
              "            <td>Blue Note</td>\n",
              "            <td>2008-07-08</td>\n",
              "            <td>1</td>\n",
              "            <td>1</td>\n",
              "            <td>Bright Lights Big City</td>\n",
              "            <td>1</td>\n",
              "            <td>320</td>\n",
              "        </tr>\n",
              "        <tr>\n",
              "            <td>1</td>\n",
              "            <td>Two Men with the Blues</td>\n",
              "            <td>Willie Nelson and Wynton Marsalis</td>\n",
              "            <td>Blue Note</td>\n",
              "            <td>2008-07-08</td>\n",
              "            <td>2</td>\n",
              "            <td>1</td>\n",
              "            <td>Night Life</td>\n",
              "            <td>2</td>\n",
              "            <td>344</td>\n",
              "        </tr>\n",
              "        <tr>\n",
              "            <td>1</td>\n",
              "            <td>Two Men with the Blues</td>\n",
              "            <td>Willie Nelson and Wynton Marsalis</td>\n",
              "            <td>Blue Note</td>\n",
              "            <td>2008-07-08</td>\n",
              "            <td>3</td>\n",
              "            <td>1</td>\n",
              "            <td>Basin Street Blues</td>\n",
              "            <td>5</td>\n",
              "            <td>296</td>\n",
              "        </tr>\n",
              "        <tr>\n",
              "            <td>1</td>\n",
              "            <td>Two Men with the Blues</td>\n",
              "            <td>Willie Nelson and Wynton Marsalis</td>\n",
              "            <td>Blue Note</td>\n",
              "            <td>2008-07-08</td>\n",
              "            <td>4</td>\n",
              "            <td>1</td>\n",
              "            <td>Caldonia</td>\n",
              "            <td>3</td>\n",
              "            <td>205</td>\n",
              "        </tr>\n",
              "        <tr>\n",
              "            <td>1</td>\n",
              "            <td>Two Men with the Blues</td>\n",
              "            <td>Willie Nelson and Wynton Marsalis</td>\n",
              "            <td>Blue Note</td>\n",
              "            <td>2008-07-08</td>\n",
              "            <td>5</td>\n",
              "            <td>1</td>\n",
              "            <td>Stardust</td>\n",
              "            <td>4</td>\n",
              "            <td>308</td>\n",
              "        </tr>\n",
              "    </tbody>\n",
              "</table>"
            ]
          },
          "metadata": {},
          "execution_count": 25
        }
      ],
      "source": [
        "%%sql\n",
        "\n",
        "SELECT *\n",
        "FROM album JOIN track\n",
        "ON album.id=track.album_id\n",
        "LIMIT 5;"
      ]
    },
    {
      "cell_type": "markdown",
      "id": "bad6561c",
      "metadata": {
        "id": "bad6561c"
      },
      "source": [
        "😍 This is really where SQL shines, and what it's designed to do -- compose output on the fly from multiple tables. You don't store it all joined because that's just a huge waste of space. You pull things together on the fly."
      ]
    },
    {
      "cell_type": "markdown",
      "id": "7921edba",
      "metadata": {
        "id": "7921edba"
      },
      "source": [
        "Technically, this an **INNER JOIN**, as it only returns rows that have ids in both tables. There is also a **LEFT JOIN** (return all from left and only matching from right), **RIGHT JOIN** and **OUTER JOIN**. Every tutorial teaches these, I've used them twice in 10 years. Let's ignore them. But if nothing else, it will clue you in where the tidyverse verbs come from!\n"
      ]
    },
    {
      "cell_type": "markdown",
      "id": "e9c873d6",
      "metadata": {
        "id": "e9c873d6"
      },
      "source": [
        "🤓🤓🤓 In the tidyverse, we would do this like so\n",
        "\n",
        "`inner_join(album, track, by.x = \"id\", by.y = \"album_id\")` -- alternatively, `merge()`"
      ]
    },
    {
      "cell_type": "markdown",
      "id": "81b3e9b4",
      "metadata": {
        "id": "81b3e9b4"
      },
      "source": [
        "**NOTE**\n",
        "⚠️⚠️⚠️\n",
        "`TABLE.VARIABLE` (with a period in between) just helps us to specify the table to which the `id` column belongs to as both the tables contain one and track ID is of no concern to us. This is an important thing to know when you work with multiple tables -- rather than `select variable` you can ALWAYS say `SELECT table.variable` and even `SELECT database.table.variable` to avoid all confusion, or to select from multiple databases at once when you have tables in multiple databases"
      ]
    },
    {
      "cell_type": "markdown",
      "id": "df72bd1f",
      "metadata": {
        "id": "df72bd1f"
      },
      "source": [
        "Addressing our long belabored task from the above multi step process, below is the query to extract the details of all 'The Beatles' song that are longer than 2.5 minutes. There are multiple ways to achieve this and we will begin demonstrating it with the simplest method."
      ]
    },
    {
      "cell_type": "markdown",
      "id": "50d1cf6c",
      "metadata": {
        "id": "50d1cf6c"
      },
      "source": [
        "Hint: this is the dplyr for this:\n",
        "        \n",
        "```\n",
        "merge(album, track, by.x='id', by.y='album_id') %>%\n",
        "    filter((artist == 'The Beatles') & (duration > 150))\n",
        "```"
      ]
    },
    {
      "cell_type": "code",
      "execution_count": null,
      "id": "eff71b71",
      "metadata": {
        "colab": {
          "base_uri": "https://localhost:8080/",
          "height": 186
        },
        "id": "eff71b71",
        "outputId": "79678397-b096-4ee2-9234-10370e9d4010"
      },
      "outputs": [
        {
          "output_type": "display_data",
          "data": {
            "text/plain": [
              "Running query in 'sqlite:///sqlite_data/your_name.db?charset=utf8mb4'"
            ],
            "text/html": [
              "<span style=\"None\">Running query in &#x27;sqlite:///sqlite_data/your_name.db?charset=utf8mb4&#x27;</span>"
            ]
          },
          "metadata": {}
        },
        {
          "output_type": "execute_result",
          "data": {
            "text/plain": [
              "+----+-------------+-------------+------------+------------+------+----------+------------------+--------------+----------+\n",
              "| id |    title    |    artist   |   label    |  released  | id_1 | album_id |     title_1      | track_number | duration |\n",
              "+----+-------------+-------------+------------+------------+------+----------+------------------+--------------+----------+\n",
              "| 12 | Rubber Soul | The Beatles | Parlophone | 1965-12-03 |  24  |    12    | You Won't See Me |      3       |   202    |\n",
              "| 12 | Rubber Soul | The Beatles | Parlophone | 1965-12-03 |  25  |    12    |   Nowhere Man    |      4       |   164    |\n",
              "| 12 | Rubber Soul | The Beatles | Parlophone | 1965-12-03 |  27  |    12    |     The Word     |      6       |   163    |\n",
              "| 12 | Rubber Soul | The Beatles | Parlophone | 1965-12-03 |  28  |    12    |     Michelle     |      7       |   162    |\n",
              "| 12 | Rubber Soul | The Beatles | Parlophone | 1965-12-03 |  29  |    12    |   What Goes On   |      8       |   170    |\n",
              "| 12 | Rubber Soul | The Beatles | Parlophone | 1965-12-03 |  30  |    12    |       Girl       |      9       |   153    |\n",
              "+----+-------------+-------------+------------+------------+------+----------+------------------+--------------+----------+"
            ],
            "text/html": [
              "<table>\n",
              "    <thead>\n",
              "        <tr>\n",
              "            <th>id</th>\n",
              "            <th>title</th>\n",
              "            <th>artist</th>\n",
              "            <th>label</th>\n",
              "            <th>released</th>\n",
              "            <th>id_1</th>\n",
              "            <th>album_id</th>\n",
              "            <th>title_1</th>\n",
              "            <th>track_number</th>\n",
              "            <th>duration</th>\n",
              "        </tr>\n",
              "    </thead>\n",
              "    <tbody>\n",
              "        <tr>\n",
              "            <td>12</td>\n",
              "            <td>Rubber Soul</td>\n",
              "            <td>The Beatles</td>\n",
              "            <td>Parlophone</td>\n",
              "            <td>1965-12-03</td>\n",
              "            <td>24</td>\n",
              "            <td>12</td>\n",
              "            <td>You Won't See Me</td>\n",
              "            <td>3</td>\n",
              "            <td>202</td>\n",
              "        </tr>\n",
              "        <tr>\n",
              "            <td>12</td>\n",
              "            <td>Rubber Soul</td>\n",
              "            <td>The Beatles</td>\n",
              "            <td>Parlophone</td>\n",
              "            <td>1965-12-03</td>\n",
              "            <td>25</td>\n",
              "            <td>12</td>\n",
              "            <td>Nowhere Man</td>\n",
              "            <td>4</td>\n",
              "            <td>164</td>\n",
              "        </tr>\n",
              "        <tr>\n",
              "            <td>12</td>\n",
              "            <td>Rubber Soul</td>\n",
              "            <td>The Beatles</td>\n",
              "            <td>Parlophone</td>\n",
              "            <td>1965-12-03</td>\n",
              "            <td>27</td>\n",
              "            <td>12</td>\n",
              "            <td>The Word</td>\n",
              "            <td>6</td>\n",
              "            <td>163</td>\n",
              "        </tr>\n",
              "        <tr>\n",
              "            <td>12</td>\n",
              "            <td>Rubber Soul</td>\n",
              "            <td>The Beatles</td>\n",
              "            <td>Parlophone</td>\n",
              "            <td>1965-12-03</td>\n",
              "            <td>28</td>\n",
              "            <td>12</td>\n",
              "            <td>Michelle</td>\n",
              "            <td>7</td>\n",
              "            <td>162</td>\n",
              "        </tr>\n",
              "        <tr>\n",
              "            <td>12</td>\n",
              "            <td>Rubber Soul</td>\n",
              "            <td>The Beatles</td>\n",
              "            <td>Parlophone</td>\n",
              "            <td>1965-12-03</td>\n",
              "            <td>29</td>\n",
              "            <td>12</td>\n",
              "            <td>What Goes On</td>\n",
              "            <td>8</td>\n",
              "            <td>170</td>\n",
              "        </tr>\n",
              "        <tr>\n",
              "            <td>12</td>\n",
              "            <td>Rubber Soul</td>\n",
              "            <td>The Beatles</td>\n",
              "            <td>Parlophone</td>\n",
              "            <td>1965-12-03</td>\n",
              "            <td>30</td>\n",
              "            <td>12</td>\n",
              "            <td>Girl</td>\n",
              "            <td>9</td>\n",
              "            <td>153</td>\n",
              "        </tr>\n",
              "    </tbody>\n",
              "</table>"
            ]
          },
          "metadata": {},
          "execution_count": 26
        }
      ],
      "source": [
        "%%sql\n",
        "\n",
        "SELECT *\n",
        "FROM album JOIN track\n",
        "ON (album.id=track.album_id)\n",
        "WHERE (album.artist='The Beatles') AND (track.duration > 150);"
      ]
    },
    {
      "cell_type": "markdown",
      "id": "941cb913",
      "metadata": {
        "id": "941cb913"
      },
      "source": [
        "#### 👩‍🔬💻 Exercise\n",
        "\n",
        "Alright there, buddy friend. How about a query that shows only the albums that have a track with number 8?"
      ]
    },
    {
      "cell_type": "code",
      "execution_count": null,
      "id": "a556cf80",
      "metadata": {
        "colab": {
          "base_uri": "https://localhost:8080/",
          "height": 165
        },
        "id": "a556cf80",
        "outputId": "d80d2b16-38f9-4c48-d300-07a456bd8a88"
      },
      "outputs": [
        {
          "output_type": "display_data",
          "data": {
            "text/plain": [
              "Running query in 'sqlite:///sqlite_data/your_name.db?charset=utf8mb4'"
            ],
            "text/html": [
              "<span style=\"None\">Running query in &#x27;sqlite:///sqlite_data/your_name.db?charset=utf8mb4&#x27;</span>"
            ]
          },
          "metadata": {}
        },
        {
          "output_type": "execute_result",
          "data": {
            "text/plain": [
              "+----------+\n",
              "| album_id |\n",
              "+----------+\n",
              "|    1     |\n",
              "|    11    |\n",
              "|    12    |\n",
              "|    13    |\n",
              "|    17    |\n",
              "+----------+"
            ],
            "text/html": [
              "<table>\n",
              "    <thead>\n",
              "        <tr>\n",
              "            <th>album_id</th>\n",
              "        </tr>\n",
              "    </thead>\n",
              "    <tbody>\n",
              "        <tr>\n",
              "            <td>1</td>\n",
              "        </tr>\n",
              "        <tr>\n",
              "            <td>11</td>\n",
              "        </tr>\n",
              "        <tr>\n",
              "            <td>12</td>\n",
              "        </tr>\n",
              "        <tr>\n",
              "            <td>13</td>\n",
              "        </tr>\n",
              "        <tr>\n",
              "            <td>17</td>\n",
              "        </tr>\n",
              "    </tbody>\n",
              "</table>"
            ]
          },
          "metadata": {},
          "execution_count": 27
        }
      ],
      "source": [
        "%%sql\n",
        "\n",
        "SELECT DISTINCT track.album_id\n",
        "FROM album JOIN track\n",
        "ON (album.id=track.album_id)\n",
        "WHERE track.track_number = 8;"
      ]
    },
    {
      "cell_type": "markdown",
      "id": "7b9294c5",
      "metadata": {
        "id": "7b9294c5"
      },
      "source": [
        "#### 👩‍🔬💻 Exercise\n",
        "\n",
        "Show tracks with artists who start with \"The\" who were released before 1970?\n",
        "\n",
        "**Hint:** `artist` and `released` is in album, tracks are in `track`.  "
      ]
    },
    {
      "cell_type": "code",
      "execution_count": null,
      "id": "00855870",
      "metadata": {
        "colab": {
          "base_uri": "https://localhost:8080/",
          "height": 357
        },
        "id": "00855870",
        "outputId": "7a9cc96e-2124-41c5-d412-2ed97bcc90f0"
      },
      "outputs": [
        {
          "output_type": "display_data",
          "data": {
            "text/plain": [
              "Running query in 'sqlite:///sqlite_data/your_name.db?charset=utf8mb4'"
            ],
            "text/html": [
              "<span style=\"None\">Running query in &#x27;sqlite:///sqlite_data/your_name.db?charset=utf8mb4&#x27;</span>"
            ]
          },
          "metadata": {}
        },
        {
          "output_type": "execute_result",
          "data": {
            "text/plain": [
              "+----+-------------+-------------+------------+------------+------+----------+--------------------------------------+--------------+----------+\n",
              "| id |    title    |    artist   |   label    |  released  | id_1 | album_id |               title_1                | track_number | duration |\n",
              "+----+-------------+-------------+------------+------------+------+----------+--------------------------------------+--------------+----------+\n",
              "| 12 | Rubber Soul | The Beatles | Parlophone | 1965-12-03 |  22  |    12    |             Drive My Car             |      1       |   150    |\n",
              "| 12 | Rubber Soul | The Beatles | Parlophone | 1965-12-03 |  23  |    12    | Norwegian Wood (This Bird Has Flown) |      2       |   125    |\n",
              "| 12 | Rubber Soul | The Beatles | Parlophone | 1965-12-03 |  24  |    12    |           You Won't See Me           |      3       |   202    |\n",
              "| 12 | Rubber Soul | The Beatles | Parlophone | 1965-12-03 |  25  |    12    |             Nowhere Man              |      4       |   164    |\n",
              "| 12 | Rubber Soul | The Beatles | Parlophone | 1965-12-03 |  26  |    12    |          Think for Yourself          |      5       |   139    |\n",
              "| 12 | Rubber Soul | The Beatles | Parlophone | 1965-12-03 |  27  |    12    |               The Word               |      6       |   163    |\n",
              "| 12 | Rubber Soul | The Beatles | Parlophone | 1965-12-03 |  28  |    12    |               Michelle               |      7       |   162    |\n",
              "| 12 | Rubber Soul | The Beatles | Parlophone | 1965-12-03 |  29  |    12    |             What Goes On             |      8       |   170    |\n",
              "| 12 | Rubber Soul | The Beatles | Parlophone | 1965-12-03 |  30  |    12    |                 Girl                 |      9       |   153    |\n",
              "| 12 | Rubber Soul | The Beatles | Parlophone | 1965-12-03 |  31  |    12    |       I'm Looking Through You        |      10      |   147    |\n",
              "| 12 | Rubber Soul | The Beatles | Parlophone | 1965-12-03 |  32  |    12    |              In My Life              |      11      |   147    |\n",
              "| 12 | Rubber Soul | The Beatles | Parlophone | 1965-12-03 |  33  |    12    |                 Wait                 |      12      |   136    |\n",
              "| 12 | Rubber Soul | The Beatles | Parlophone | 1965-12-03 |  34  |    12    |         If I Needed Someone          |      13      |   143    |\n",
              "| 12 | Rubber Soul | The Beatles | Parlophone | 1965-12-03 |  35  |    12    |          Run for Your Life           |      14      |   138    |\n",
              "+----+-------------+-------------+------------+------------+------+----------+--------------------------------------+--------------+----------+"
            ],
            "text/html": [
              "<table>\n",
              "    <thead>\n",
              "        <tr>\n",
              "            <th>id</th>\n",
              "            <th>title</th>\n",
              "            <th>artist</th>\n",
              "            <th>label</th>\n",
              "            <th>released</th>\n",
              "            <th>id_1</th>\n",
              "            <th>album_id</th>\n",
              "            <th>title_1</th>\n",
              "            <th>track_number</th>\n",
              "            <th>duration</th>\n",
              "        </tr>\n",
              "    </thead>\n",
              "    <tbody>\n",
              "        <tr>\n",
              "            <td>12</td>\n",
              "            <td>Rubber Soul</td>\n",
              "            <td>The Beatles</td>\n",
              "            <td>Parlophone</td>\n",
              "            <td>1965-12-03</td>\n",
              "            <td>22</td>\n",
              "            <td>12</td>\n",
              "            <td>Drive My Car</td>\n",
              "            <td>1</td>\n",
              "            <td>150</td>\n",
              "        </tr>\n",
              "        <tr>\n",
              "            <td>12</td>\n",
              "            <td>Rubber Soul</td>\n",
              "            <td>The Beatles</td>\n",
              "            <td>Parlophone</td>\n",
              "            <td>1965-12-03</td>\n",
              "            <td>23</td>\n",
              "            <td>12</td>\n",
              "            <td>Norwegian Wood (This Bird Has Flown)</td>\n",
              "            <td>2</td>\n",
              "            <td>125</td>\n",
              "        </tr>\n",
              "        <tr>\n",
              "            <td>12</td>\n",
              "            <td>Rubber Soul</td>\n",
              "            <td>The Beatles</td>\n",
              "            <td>Parlophone</td>\n",
              "            <td>1965-12-03</td>\n",
              "            <td>24</td>\n",
              "            <td>12</td>\n",
              "            <td>You Won't See Me</td>\n",
              "            <td>3</td>\n",
              "            <td>202</td>\n",
              "        </tr>\n",
              "        <tr>\n",
              "            <td>12</td>\n",
              "            <td>Rubber Soul</td>\n",
              "            <td>The Beatles</td>\n",
              "            <td>Parlophone</td>\n",
              "            <td>1965-12-03</td>\n",
              "            <td>25</td>\n",
              "            <td>12</td>\n",
              "            <td>Nowhere Man</td>\n",
              "            <td>4</td>\n",
              "            <td>164</td>\n",
              "        </tr>\n",
              "        <tr>\n",
              "            <td>12</td>\n",
              "            <td>Rubber Soul</td>\n",
              "            <td>The Beatles</td>\n",
              "            <td>Parlophone</td>\n",
              "            <td>1965-12-03</td>\n",
              "            <td>26</td>\n",
              "            <td>12</td>\n",
              "            <td>Think for Yourself</td>\n",
              "            <td>5</td>\n",
              "            <td>139</td>\n",
              "        </tr>\n",
              "        <tr>\n",
              "            <td>12</td>\n",
              "            <td>Rubber Soul</td>\n",
              "            <td>The Beatles</td>\n",
              "            <td>Parlophone</td>\n",
              "            <td>1965-12-03</td>\n",
              "            <td>27</td>\n",
              "            <td>12</td>\n",
              "            <td>The Word</td>\n",
              "            <td>6</td>\n",
              "            <td>163</td>\n",
              "        </tr>\n",
              "        <tr>\n",
              "            <td>12</td>\n",
              "            <td>Rubber Soul</td>\n",
              "            <td>The Beatles</td>\n",
              "            <td>Parlophone</td>\n",
              "            <td>1965-12-03</td>\n",
              "            <td>28</td>\n",
              "            <td>12</td>\n",
              "            <td>Michelle</td>\n",
              "            <td>7</td>\n",
              "            <td>162</td>\n",
              "        </tr>\n",
              "        <tr>\n",
              "            <td>12</td>\n",
              "            <td>Rubber Soul</td>\n",
              "            <td>The Beatles</td>\n",
              "            <td>Parlophone</td>\n",
              "            <td>1965-12-03</td>\n",
              "            <td>29</td>\n",
              "            <td>12</td>\n",
              "            <td>What Goes On</td>\n",
              "            <td>8</td>\n",
              "            <td>170</td>\n",
              "        </tr>\n",
              "        <tr>\n",
              "            <td>12</td>\n",
              "            <td>Rubber Soul</td>\n",
              "            <td>The Beatles</td>\n",
              "            <td>Parlophone</td>\n",
              "            <td>1965-12-03</td>\n",
              "            <td>30</td>\n",
              "            <td>12</td>\n",
              "            <td>Girl</td>\n",
              "            <td>9</td>\n",
              "            <td>153</td>\n",
              "        </tr>\n",
              "        <tr>\n",
              "            <td>12</td>\n",
              "            <td>Rubber Soul</td>\n",
              "            <td>The Beatles</td>\n",
              "            <td>Parlophone</td>\n",
              "            <td>1965-12-03</td>\n",
              "            <td>31</td>\n",
              "            <td>12</td>\n",
              "            <td>I'm Looking Through You</td>\n",
              "            <td>10</td>\n",
              "            <td>147</td>\n",
              "        </tr>\n",
              "        <tr>\n",
              "            <td>12</td>\n",
              "            <td>Rubber Soul</td>\n",
              "            <td>The Beatles</td>\n",
              "            <td>Parlophone</td>\n",
              "            <td>1965-12-03</td>\n",
              "            <td>32</td>\n",
              "            <td>12</td>\n",
              "            <td>In My Life</td>\n",
              "            <td>11</td>\n",
              "            <td>147</td>\n",
              "        </tr>\n",
              "        <tr>\n",
              "            <td>12</td>\n",
              "            <td>Rubber Soul</td>\n",
              "            <td>The Beatles</td>\n",
              "            <td>Parlophone</td>\n",
              "            <td>1965-12-03</td>\n",
              "            <td>33</td>\n",
              "            <td>12</td>\n",
              "            <td>Wait</td>\n",
              "            <td>12</td>\n",
              "            <td>136</td>\n",
              "        </tr>\n",
              "        <tr>\n",
              "            <td>12</td>\n",
              "            <td>Rubber Soul</td>\n",
              "            <td>The Beatles</td>\n",
              "            <td>Parlophone</td>\n",
              "            <td>1965-12-03</td>\n",
              "            <td>34</td>\n",
              "            <td>12</td>\n",
              "            <td>If I Needed Someone</td>\n",
              "            <td>13</td>\n",
              "            <td>143</td>\n",
              "        </tr>\n",
              "        <tr>\n",
              "            <td>12</td>\n",
              "            <td>Rubber Soul</td>\n",
              "            <td>The Beatles</td>\n",
              "            <td>Parlophone</td>\n",
              "            <td>1965-12-03</td>\n",
              "            <td>35</td>\n",
              "            <td>12</td>\n",
              "            <td>Run for Your Life</td>\n",
              "            <td>14</td>\n",
              "            <td>138</td>\n",
              "        </tr>\n",
              "    </tbody>\n",
              "</table>"
            ]
          },
          "metadata": {},
          "execution_count": 28
        }
      ],
      "source": [
        "%%sql\n",
        "\n",
        "SELECT *\n",
        "FROM album JOIN track\n",
        "ON (album.id=track.album_id)\n",
        "WHERE (strftime(\"%Y\", album.released) < \"1970\") AND (album.artist LIKE \"The%\");"
      ]
    },
    {
      "cell_type": "markdown",
      "id": "4d2c5812",
      "metadata": {
        "id": "4d2c5812"
      },
      "source": [
        "## 6) Implicit Join <a class=\"anchor\" id=\"ijoin\"></a>"
      ]
    },
    {
      "cell_type": "markdown",
      "id": "c0359f29",
      "metadata": {
        "id": "c0359f29"
      },
      "source": [
        "For all our purposes, implicit join is same as the join discussed above.\n",
        "\n",
        "Instead of the **JOIN** keyword we can simply list the tables separated by commas and the condition under the **ON** clause is included in **WHERE** with an **AND**. Here, the comma \"implicitly\" conveys the join of the tables listed. Let's repeat the above query using implicit join. Going forward, we will use implicit join to shorten the queries and also to make them more intuitive.\n",
        "\n",
        "But make sure you are tracking what we are doing, we are taking the training wheels off here."
      ]
    },
    {
      "cell_type": "code",
      "execution_count": null,
      "id": "93d53bc1",
      "metadata": {
        "colab": {
          "base_uri": "https://localhost:8080/",
          "height": 79
        },
        "id": "93d53bc1",
        "outputId": "28304ad0-df2d-4967-cc1c-50fcffe30c66"
      },
      "outputs": [
        {
          "output_type": "display_data",
          "data": {
            "text/plain": [
              "Running query in 'sqlite:///sqlite_data/your_name.db?charset=utf8mb4'"
            ],
            "text/html": [
              "<span style=\"None\">Running query in &#x27;sqlite:///sqlite_data/your_name.db?charset=utf8mb4&#x27;</span>"
            ]
          },
          "metadata": {}
        },
        {
          "output_type": "execute_result",
          "data": {
            "text/plain": [
              "+----+-------------+-------------+------------+------------+------+----------+------------------+--------------+----------+\n",
              "| id |    title    |    artist   |   label    |  released  | id_1 | album_id |     title_1      | track_number | duration |\n",
              "+----+-------------+-------------+------------+------------+------+----------+------------------+--------------+----------+\n",
              "| 12 | Rubber Soul | The Beatles | Parlophone | 1965-12-03 |  24  |    12    | You Won't See Me |      3       |   202    |\n",
              "+----+-------------+-------------+------------+------------+------+----------+------------------+--------------+----------+"
            ],
            "text/html": [
              "<table>\n",
              "    <thead>\n",
              "        <tr>\n",
              "            <th>id</th>\n",
              "            <th>title</th>\n",
              "            <th>artist</th>\n",
              "            <th>label</th>\n",
              "            <th>released</th>\n",
              "            <th>id_1</th>\n",
              "            <th>album_id</th>\n",
              "            <th>title_1</th>\n",
              "            <th>track_number</th>\n",
              "            <th>duration</th>\n",
              "        </tr>\n",
              "    </thead>\n",
              "    <tbody>\n",
              "        <tr>\n",
              "            <td>12</td>\n",
              "            <td>Rubber Soul</td>\n",
              "            <td>The Beatles</td>\n",
              "            <td>Parlophone</td>\n",
              "            <td>1965-12-03</td>\n",
              "            <td>24</td>\n",
              "            <td>12</td>\n",
              "            <td>You Won't See Me</td>\n",
              "            <td>3</td>\n",
              "            <td>202</td>\n",
              "        </tr>\n",
              "    </tbody>\n",
              "</table>"
            ]
          },
          "metadata": {},
          "execution_count": 29
        }
      ],
      "source": [
        "%%sql\n",
        "\n",
        "SELECT *\n",
        "FROM album, track\n",
        "WHERE (album.id=track.album_id) AND (album.artist='The Beatles') AND (track.duration > 180);"
      ]
    },
    {
      "cell_type": "markdown",
      "id": "af2c0954",
      "metadata": {
        "id": "af2c0954"
      },
      "source": [
        "😍 Now SQL is beginning to become notably more efficient than dplyr."
      ]
    },
    {
      "cell_type": "markdown",
      "id": "ba02b81d",
      "metadata": {
        "id": "ba02b81d"
      },
      "source": [
        "#### 👩‍🔬💻 Exercise\n",
        "\n",
        "Alright, do \"only the albums that have a track with number 8\" with an implicit join."
      ]
    },
    {
      "cell_type": "code",
      "execution_count": null,
      "id": "b1e2d634",
      "metadata": {
        "colab": {
          "base_uri": "https://localhost:8080/",
          "height": 165
        },
        "id": "b1e2d634",
        "outputId": "20379beb-b23a-4590-f9ac-1ee9fa43c49d"
      },
      "outputs": [
        {
          "output_type": "display_data",
          "data": {
            "text/plain": [
              "Running query in 'sqlite:///sqlite_data/your_name.db?charset=utf8mb4'"
            ],
            "text/html": [
              "<span style=\"None\">Running query in &#x27;sqlite:///sqlite_data/your_name.db?charset=utf8mb4&#x27;</span>"
            ]
          },
          "metadata": {}
        },
        {
          "output_type": "execute_result",
          "data": {
            "text/plain": [
              "+----------+\n",
              "| album_id |\n",
              "+----------+\n",
              "|    1     |\n",
              "|    11    |\n",
              "|    12    |\n",
              "|    13    |\n",
              "|    17    |\n",
              "+----------+"
            ],
            "text/html": [
              "<table>\n",
              "    <thead>\n",
              "        <tr>\n",
              "            <th>album_id</th>\n",
              "        </tr>\n",
              "    </thead>\n",
              "    <tbody>\n",
              "        <tr>\n",
              "            <td>1</td>\n",
              "        </tr>\n",
              "        <tr>\n",
              "            <td>11</td>\n",
              "        </tr>\n",
              "        <tr>\n",
              "            <td>12</td>\n",
              "        </tr>\n",
              "        <tr>\n",
              "            <td>13</td>\n",
              "        </tr>\n",
              "        <tr>\n",
              "            <td>17</td>\n",
              "        </tr>\n",
              "    </tbody>\n",
              "</table>"
            ]
          },
          "metadata": {},
          "execution_count": 30
        }
      ],
      "source": [
        "%%sql\n",
        "\n",
        "SELECT DISTINCT track.album_id\n",
        "FROM album, track\n",
        "WHERE (album.id=track.album_id) AND (track.track_number = 8);"
      ]
    },
    {
      "cell_type": "markdown",
      "id": "c7c5873b",
      "metadata": {
        "id": "c7c5873b"
      },
      "source": [
        "Time for another break!! There is only so much you can absorb per unit human time 🤖.\n",
        "\n",
        "## 7) Subqueries <a class=\"anchor\" id=\"sq\"></a>"
      ]
    },
    {
      "cell_type": "markdown",
      "id": "62cb7fa1",
      "metadata": {
        "id": "62cb7fa1"
      },
      "source": [
        "Alright, time for the big boy pants (or girl or they pants).\n",
        "\n",
        "We can also achieve the same using a \"subquery\". Subqueries are the queries that are part of another query which consumes the result returned by the subqueries. We can use such subqueries in the **FROM** clause or the **WHERE**, as demonstrated below.\n",
        "\n",
        "Basically, you just make yourself a table on the fly mid-query with a nested **SELECT**.\n",
        "\n",
        "Sounds complicated. Also is complicated.\n",
        "\n",
        "Here's an example where we achieve the above result by using a subquery in the **FROM** clause. We initially pick the necessary columns from the rows in the *track* table that have duration greater than 3 minutes. The result of the subquery (another table) is used to then filter out the details of only tracks sung by `The Beatles`.\n",
        "\n",
        "so first we do:"
      ]
    },
    {
      "cell_type": "code",
      "execution_count": null,
      "id": "e2a0a9dd",
      "metadata": {
        "colab": {
          "base_uri": "https://localhost:8080/",
          "height": 891
        },
        "id": "e2a0a9dd",
        "outputId": "76142459-7d33-4bc0-8de9-4bbc8033b59d"
      },
      "outputs": [
        {
          "output_type": "display_data",
          "data": {
            "text/plain": [
              "Running query in 'sqlite:///sqlite_data/your_name.db?charset=utf8mb4'"
            ],
            "text/html": [
              "<span style=\"None\">Running query in &#x27;sqlite:///sqlite_data/your_name.db?charset=utf8mb4&#x27;</span>"
            ]
          },
          "metadata": {}
        },
        {
          "output_type": "execute_result",
          "data": {
            "text/plain": [
              "+----------+--------------------------------+--------------+----------+\n",
              "| album_id |             title              | track_number | duration |\n",
              "+----------+--------------------------------+--------------+----------+\n",
              "|    1     |     Bright Lights Big City     |      1       |   320    |\n",
              "|    1     |           Night Life           |      2       |   344    |\n",
              "|    1     |       Basin Street Blues       |      5       |   296    |\n",
              "|    1     |            Caldonia            |      3       |   205    |\n",
              "|    1     |            Stardust            |      4       |   308    |\n",
              "|    1     |       Georgia On My Mind       |      6       |   280    |\n",
              "|    1     |        Rainy Day Blues         |      7       |   343    |\n",
              "|    1     |  My Bucket's Got A Hole In It  |      8       |   296    |\n",
              "|    1     |    Ain't Nobody's Business     |      9       |   447    |\n",
              "|    1     |           That's All           |      10      |   368    |\n",
              "|    11    |        Johnny B. Goode         |      1       |   285    |\n",
              "|    11    |           Lover Man            |      2       |   185    |\n",
              "|    11    |       Blue Suede xShoes        |      3       |   266    |\n",
              "|    11    |          Voodoo Chile          |      4       |   469    |\n",
              "|    11    |          Little Wing           |      7       |   194    |\n",
              "|    11    |           Red House            |      8       |   786    |\n",
              "|    12    |        You Won't See Me        |      3       |   202    |\n",
              "|    13    |         Birds of Fire          |      1       |   350    |\n",
              "|    13    |          Miles Beyond          |      2       |   287    |\n",
              "|    13    |      Thousand Island Park      |      5       |   203    |\n",
              "|    13    |            One Word            |      7       |   597    |\n",
              "|    13    |           Sanctuary            |      8       |   305    |\n",
              "|    13    |        Open Country Joy        |      9       |   236    |\n",
              "|    16    | Good Morning Little Schoolgirl |      1       |   285    |\n",
              "|    16    |       It's My Own Fault        |      2       |   734    |\n",
              "|    16    |       Jumpin' Jack Flash       |      3       |   266    |\n",
              "|    16    |      Rock And Roll Medley      |      4       |   406    |\n",
              "|    16    |        Mean Town Blues         |      5       |   539    |\n",
              "|    16    |        Johnny B. Goode         |      6       |   202    |\n",
              "|    17    |         Nanook Rubs It         |      2       |   278    |\n",
              "|    17    |         Cosmik Debris          |      5       |   254    |\n",
              "|    17    |           Apostrophe           |      7       |   350    |\n",
              "|    17    |           Stink-Foot           |      9       |   393    |\n",
              "|    18    |            So What             |      1       |   565    |\n",
              "|    18    |       Freddy Freeloader        |      2       |   589    |\n",
              "|    18    |         Blue in Green          |      3       |   338    |\n",
              "|    18    |           All Blues            |      4       |   696    |\n",
              "|    18    |       Flamenco Sketches        |      5       |   566    |\n",
              "|    11    |           Fake Track           |      9       |   549    |\n",
              "+----------+--------------------------------+--------------+----------+"
            ],
            "text/html": [
              "<table>\n",
              "    <thead>\n",
              "        <tr>\n",
              "            <th>album_id</th>\n",
              "            <th>title</th>\n",
              "            <th>track_number</th>\n",
              "            <th>duration</th>\n",
              "        </tr>\n",
              "    </thead>\n",
              "    <tbody>\n",
              "        <tr>\n",
              "            <td>1</td>\n",
              "            <td>Bright Lights Big City</td>\n",
              "            <td>1</td>\n",
              "            <td>320</td>\n",
              "        </tr>\n",
              "        <tr>\n",
              "            <td>1</td>\n",
              "            <td>Night Life</td>\n",
              "            <td>2</td>\n",
              "            <td>344</td>\n",
              "        </tr>\n",
              "        <tr>\n",
              "            <td>1</td>\n",
              "            <td>Basin Street Blues</td>\n",
              "            <td>5</td>\n",
              "            <td>296</td>\n",
              "        </tr>\n",
              "        <tr>\n",
              "            <td>1</td>\n",
              "            <td>Caldonia</td>\n",
              "            <td>3</td>\n",
              "            <td>205</td>\n",
              "        </tr>\n",
              "        <tr>\n",
              "            <td>1</td>\n",
              "            <td>Stardust</td>\n",
              "            <td>4</td>\n",
              "            <td>308</td>\n",
              "        </tr>\n",
              "        <tr>\n",
              "            <td>1</td>\n",
              "            <td>Georgia On My Mind</td>\n",
              "            <td>6</td>\n",
              "            <td>280</td>\n",
              "        </tr>\n",
              "        <tr>\n",
              "            <td>1</td>\n",
              "            <td>Rainy Day Blues</td>\n",
              "            <td>7</td>\n",
              "            <td>343</td>\n",
              "        </tr>\n",
              "        <tr>\n",
              "            <td>1</td>\n",
              "            <td>My Bucket's Got A Hole In It</td>\n",
              "            <td>8</td>\n",
              "            <td>296</td>\n",
              "        </tr>\n",
              "        <tr>\n",
              "            <td>1</td>\n",
              "            <td>Ain't Nobody's Business</td>\n",
              "            <td>9</td>\n",
              "            <td>447</td>\n",
              "        </tr>\n",
              "        <tr>\n",
              "            <td>1</td>\n",
              "            <td>That's All</td>\n",
              "            <td>10</td>\n",
              "            <td>368</td>\n",
              "        </tr>\n",
              "        <tr>\n",
              "            <td>11</td>\n",
              "            <td>Johnny B. Goode</td>\n",
              "            <td>1</td>\n",
              "            <td>285</td>\n",
              "        </tr>\n",
              "        <tr>\n",
              "            <td>11</td>\n",
              "            <td>Lover Man</td>\n",
              "            <td>2</td>\n",
              "            <td>185</td>\n",
              "        </tr>\n",
              "        <tr>\n",
              "            <td>11</td>\n",
              "            <td>Blue Suede xShoes</td>\n",
              "            <td>3</td>\n",
              "            <td>266</td>\n",
              "        </tr>\n",
              "        <tr>\n",
              "            <td>11</td>\n",
              "            <td>Voodoo Chile</td>\n",
              "            <td>4</td>\n",
              "            <td>469</td>\n",
              "        </tr>\n",
              "        <tr>\n",
              "            <td>11</td>\n",
              "            <td>Little Wing</td>\n",
              "            <td>7</td>\n",
              "            <td>194</td>\n",
              "        </tr>\n",
              "        <tr>\n",
              "            <td>11</td>\n",
              "            <td>Red House</td>\n",
              "            <td>8</td>\n",
              "            <td>786</td>\n",
              "        </tr>\n",
              "        <tr>\n",
              "            <td>12</td>\n",
              "            <td>You Won't See Me</td>\n",
              "            <td>3</td>\n",
              "            <td>202</td>\n",
              "        </tr>\n",
              "        <tr>\n",
              "            <td>13</td>\n",
              "            <td>Birds of Fire</td>\n",
              "            <td>1</td>\n",
              "            <td>350</td>\n",
              "        </tr>\n",
              "        <tr>\n",
              "            <td>13</td>\n",
              "            <td>Miles Beyond</td>\n",
              "            <td>2</td>\n",
              "            <td>287</td>\n",
              "        </tr>\n",
              "        <tr>\n",
              "            <td>13</td>\n",
              "            <td>Thousand Island Park</td>\n",
              "            <td>5</td>\n",
              "            <td>203</td>\n",
              "        </tr>\n",
              "        <tr>\n",
              "            <td>13</td>\n",
              "            <td>One Word</td>\n",
              "            <td>7</td>\n",
              "            <td>597</td>\n",
              "        </tr>\n",
              "        <tr>\n",
              "            <td>13</td>\n",
              "            <td>Sanctuary</td>\n",
              "            <td>8</td>\n",
              "            <td>305</td>\n",
              "        </tr>\n",
              "        <tr>\n",
              "            <td>13</td>\n",
              "            <td>Open Country Joy</td>\n",
              "            <td>9</td>\n",
              "            <td>236</td>\n",
              "        </tr>\n",
              "        <tr>\n",
              "            <td>16</td>\n",
              "            <td>Good Morning Little Schoolgirl</td>\n",
              "            <td>1</td>\n",
              "            <td>285</td>\n",
              "        </tr>\n",
              "        <tr>\n",
              "            <td>16</td>\n",
              "            <td>It's My Own Fault</td>\n",
              "            <td>2</td>\n",
              "            <td>734</td>\n",
              "        </tr>\n",
              "        <tr>\n",
              "            <td>16</td>\n",
              "            <td>Jumpin' Jack Flash</td>\n",
              "            <td>3</td>\n",
              "            <td>266</td>\n",
              "        </tr>\n",
              "        <tr>\n",
              "            <td>16</td>\n",
              "            <td>Rock And Roll Medley</td>\n",
              "            <td>4</td>\n",
              "            <td>406</td>\n",
              "        </tr>\n",
              "        <tr>\n",
              "            <td>16</td>\n",
              "            <td>Mean Town Blues</td>\n",
              "            <td>5</td>\n",
              "            <td>539</td>\n",
              "        </tr>\n",
              "        <tr>\n",
              "            <td>16</td>\n",
              "            <td>Johnny B. Goode</td>\n",
              "            <td>6</td>\n",
              "            <td>202</td>\n",
              "        </tr>\n",
              "        <tr>\n",
              "            <td>17</td>\n",
              "            <td>Nanook Rubs It</td>\n",
              "            <td>2</td>\n",
              "            <td>278</td>\n",
              "        </tr>\n",
              "        <tr>\n",
              "            <td>17</td>\n",
              "            <td>Cosmik Debris</td>\n",
              "            <td>5</td>\n",
              "            <td>254</td>\n",
              "        </tr>\n",
              "        <tr>\n",
              "            <td>17</td>\n",
              "            <td>Apostrophe</td>\n",
              "            <td>7</td>\n",
              "            <td>350</td>\n",
              "        </tr>\n",
              "        <tr>\n",
              "            <td>17</td>\n",
              "            <td>Stink-Foot</td>\n",
              "            <td>9</td>\n",
              "            <td>393</td>\n",
              "        </tr>\n",
              "        <tr>\n",
              "            <td>18</td>\n",
              "            <td>So What</td>\n",
              "            <td>1</td>\n",
              "            <td>565</td>\n",
              "        </tr>\n",
              "        <tr>\n",
              "            <td>18</td>\n",
              "            <td>Freddy Freeloader</td>\n",
              "            <td>2</td>\n",
              "            <td>589</td>\n",
              "        </tr>\n",
              "        <tr>\n",
              "            <td>18</td>\n",
              "            <td>Blue in Green</td>\n",
              "            <td>3</td>\n",
              "            <td>338</td>\n",
              "        </tr>\n",
              "        <tr>\n",
              "            <td>18</td>\n",
              "            <td>All Blues</td>\n",
              "            <td>4</td>\n",
              "            <td>696</td>\n",
              "        </tr>\n",
              "        <tr>\n",
              "            <td>18</td>\n",
              "            <td>Flamenco Sketches</td>\n",
              "            <td>5</td>\n",
              "            <td>566</td>\n",
              "        </tr>\n",
              "        <tr>\n",
              "            <td>11</td>\n",
              "            <td>Fake Track</td>\n",
              "            <td>9</td>\n",
              "            <td>549</td>\n",
              "        </tr>\n",
              "    </tbody>\n",
              "</table>"
            ]
          },
          "metadata": {},
          "execution_count": 31
        }
      ],
      "source": [
        "%%sql\n",
        "\n",
        "SELECT album_id, title, track_number, duration\n",
        "FROM track\n",
        "WHERE duration > 180;"
      ]
    },
    {
      "cell_type": "markdown",
      "id": "25b0a50d",
      "metadata": {
        "id": "25b0a50d"
      },
      "source": [
        "but we nest this in on the fly:"
      ]
    },
    {
      "cell_type": "code",
      "execution_count": null,
      "id": "c7236b51",
      "metadata": {
        "colab": {
          "base_uri": "https://localhost:8080/",
          "height": 79
        },
        "id": "c7236b51",
        "outputId": "8525371d-7938-4730-9e9d-d625f1233f2c"
      },
      "outputs": [
        {
          "output_type": "display_data",
          "data": {
            "text/plain": [
              "Running query in 'sqlite:///sqlite_data/your_name.db?charset=utf8mb4'"
            ],
            "text/html": [
              "<span style=\"None\">Running query in &#x27;sqlite:///sqlite_data/your_name.db?charset=utf8mb4&#x27;</span>"
            ]
          },
          "metadata": {}
        },
        {
          "output_type": "execute_result",
          "data": {
            "text/plain": [
              "+----+-------------+-------------+------------+------------+----------+------------------+--------------+----------+\n",
              "| id |    title    |    artist   |   label    |  released  | album_id |     title_1      | track_number | duration |\n",
              "+----+-------------+-------------+------------+------------+----------+------------------+--------------+----------+\n",
              "| 12 | Rubber Soul | The Beatles | Parlophone | 1965-12-03 |    12    | You Won't See Me |      3       |   202    |\n",
              "+----+-------------+-------------+------------+------------+----------+------------------+--------------+----------+"
            ],
            "text/html": [
              "<table>\n",
              "    <thead>\n",
              "        <tr>\n",
              "            <th>id</th>\n",
              "            <th>title</th>\n",
              "            <th>artist</th>\n",
              "            <th>label</th>\n",
              "            <th>released</th>\n",
              "            <th>album_id</th>\n",
              "            <th>title_1</th>\n",
              "            <th>track_number</th>\n",
              "            <th>duration</th>\n",
              "        </tr>\n",
              "    </thead>\n",
              "    <tbody>\n",
              "        <tr>\n",
              "            <td>12</td>\n",
              "            <td>Rubber Soul</td>\n",
              "            <td>The Beatles</td>\n",
              "            <td>Parlophone</td>\n",
              "            <td>1965-12-03</td>\n",
              "            <td>12</td>\n",
              "            <td>You Won't See Me</td>\n",
              "            <td>3</td>\n",
              "            <td>202</td>\n",
              "        </tr>\n",
              "    </tbody>\n",
              "</table>"
            ]
          },
          "metadata": {},
          "execution_count": 32
        }
      ],
      "source": [
        "%%sql\n",
        "\n",
        "SELECT *\n",
        "FROM album, (\n",
        "  SELECT album_id, title, track_number, duration\n",
        "  FROM track\n",
        "  WHERE duration > 180) AS filtered_table\n",
        "WHERE (album.id=filtered_table.album_id) AND (album.artist='The Beatles');"
      ]
    },
    {
      "cell_type": "markdown",
      "id": "6ba75600",
      "metadata": {
        "id": "6ba75600"
      },
      "source": [
        "**WHERE** with the **IN** keyword\n",
        "\n",
        "We can obtain the same results by using the idea of subquery in the `WHERE` clause as shown below. Here the subquery obtains the album id for any album by *The Beatles*, and the outer query checks if the track has it's album id **IN** the subquery results and also if its duration is more than 3 minutes. Note the use of **IN** keyword there.\n",
        "\n",
        "We will also use **JOIN** keyword just for recollection, feel free to use implicit join."
      ]
    },
    {
      "cell_type": "code",
      "execution_count": null,
      "id": "d6973994",
      "metadata": {
        "colab": {
          "base_uri": "https://localhost:8080/",
          "height": 79
        },
        "id": "d6973994",
        "outputId": "7bec4de6-3bce-4745-d532-828bf5feaefc"
      },
      "outputs": [
        {
          "output_type": "display_data",
          "data": {
            "text/plain": [
              "Running query in 'sqlite:///sqlite_data/your_name.db?charset=utf8mb4'"
            ],
            "text/html": [
              "<span style=\"None\">Running query in &#x27;sqlite:///sqlite_data/your_name.db?charset=utf8mb4&#x27;</span>"
            ]
          },
          "metadata": {}
        },
        {
          "output_type": "execute_result",
          "data": {
            "text/plain": [
              "+----+-------------+-------------+------------+------------+------+----------+------------------+--------------+----------+\n",
              "| id |    title    |    artist   |   label    |  released  | id_1 | album_id |     title_1      | track_number | duration |\n",
              "+----+-------------+-------------+------------+------------+------+----------+------------------+--------------+----------+\n",
              "| 12 | Rubber Soul | The Beatles | Parlophone | 1965-12-03 |  24  |    12    | You Won't See Me |      3       |   202    |\n",
              "+----+-------------+-------------+------------+------------+------+----------+------------------+--------------+----------+"
            ],
            "text/html": [
              "<table>\n",
              "    <thead>\n",
              "        <tr>\n",
              "            <th>id</th>\n",
              "            <th>title</th>\n",
              "            <th>artist</th>\n",
              "            <th>label</th>\n",
              "            <th>released</th>\n",
              "            <th>id_1</th>\n",
              "            <th>album_id</th>\n",
              "            <th>title_1</th>\n",
              "            <th>track_number</th>\n",
              "            <th>duration</th>\n",
              "        </tr>\n",
              "    </thead>\n",
              "    <tbody>\n",
              "        <tr>\n",
              "            <td>12</td>\n",
              "            <td>Rubber Soul</td>\n",
              "            <td>The Beatles</td>\n",
              "            <td>Parlophone</td>\n",
              "            <td>1965-12-03</td>\n",
              "            <td>24</td>\n",
              "            <td>12</td>\n",
              "            <td>You Won't See Me</td>\n",
              "            <td>3</td>\n",
              "            <td>202</td>\n",
              "        </tr>\n",
              "    </tbody>\n",
              "</table>"
            ]
          },
          "metadata": {},
          "execution_count": 33
        }
      ],
      "source": [
        "%%sql\n",
        "\n",
        "SELECT *\n",
        "FROM album JOIN track\n",
        "ON (album.id=track.album_id)\n",
        "WHERE (track.duration>180) AND (track.album_id IN (SELECT id FROM album WHERE artist='The Beatles'));"
      ]
    },
    {
      "cell_type": "markdown",
      "id": "8fbd4bfb",
      "metadata": {
        "id": "8fbd4bfb"
      },
      "source": [
        "As demonstrated above, you have multiple options to obtain the same results.\n",
        "\n",
        "Honestly, I rarely use subqueries, unless I really have to. But sometimes that's the only way. Some poeple love them.\n",
        "\n",
        "Great way to impress your new coworkers in tech!"
      ]
    },
    {
      "cell_type": "markdown",
      "id": "de7a4c6f",
      "metadata": {
        "id": "de7a4c6f"
      },
      "source": [
        "## 8) Putting it all together 🕺💃"
      ]
    },
    {
      "cell_type": "markdown",
      "id": "92f5fa65",
      "metadata": {
        "id": "92f5fa65"
      },
      "source": [
        "Now, let's find the average duration of tracks for every label. Remember that the details of tracks and of labels are in different tables, and we need to **JOIN** them. We'll then **GROUP BY** and **AVG** the resulting table. This query includes multiple ideas explained until now thus demonstrating the flexibility of MySQL."
      ]
    },
    {
      "cell_type": "markdown",
      "id": "1a3020ea",
      "metadata": {
        "id": "1a3020ea"
      },
      "source": [
        "Subqueries always get developed step by step. So let's get a list track durations for different labels."
      ]
    },
    {
      "cell_type": "code",
      "execution_count": null,
      "id": "c720f724",
      "metadata": {
        "colab": {
          "base_uri": "https://localhost:8080/",
          "height": 1000
        },
        "id": "c720f724",
        "outputId": "021b4f62-f921-4250-9c92-03528dafd3e1"
      },
      "outputs": [
        {
          "output_type": "display_data",
          "data": {
            "text/plain": [
              "Running query in 'sqlite:///sqlite_data/your_name.db?charset=utf8mb4'"
            ],
            "text/html": [
              "<span style=\"None\">Running query in &#x27;sqlite:///sqlite_data/your_name.db?charset=utf8mb4&#x27;</span>"
            ]
          },
          "metadata": {}
        },
        {
          "output_type": "execute_result",
          "data": {
            "text/plain": [
              "+------------+----------+\n",
              "|   label    | duration |\n",
              "+------------+----------+\n",
              "| Blue Note  |   205    |\n",
              "| Blue Note  |   280    |\n",
              "| Blue Note  |   296    |\n",
              "| Blue Note  |   296    |\n",
              "| Blue Note  |   308    |\n",
              "| Blue Note  |   320    |\n",
              "| Blue Note  |   343    |\n",
              "| Blue Note  |   344    |\n",
              "| Blue Note  |   368    |\n",
              "| Blue Note  |   447    |\n",
              "|  Polydor   |    76    |\n",
              "|  Polydor   |   160    |\n",
              "|  Polydor   |   185    |\n",
              "|  Polydor   |   194    |\n",
              "|  Polydor   |   266    |\n",
              "|  Polydor   |   285    |\n",
              "|  Polydor   |   469    |\n",
              "|  Polydor   |   549    |\n",
              "|  Polydor   |   786    |\n",
              "| Parlophone |   125    |\n",
              "| Parlophone |   136    |\n",
              "| Parlophone |   138    |\n",
              "| Parlophone |   139    |\n",
              "| Parlophone |   143    |\n",
              "| Parlophone |   147    |\n",
              "| Parlophone |   147    |\n",
              "| Parlophone |   150    |\n",
              "| Parlophone |   153    |\n",
              "| Parlophone |   162    |\n",
              "| Parlophone |   163    |\n",
              "| Parlophone |   164    |\n",
              "| Parlophone |   170    |\n",
              "| Parlophone |   202    |\n",
              "|  Columbia  |    24    |\n",
              "|  Columbia  |   119    |\n",
              "|  Columbia  |   129    |\n",
              "|  Columbia  |   174    |\n",
              "|  Columbia  |   203    |\n",
              "|  Columbia  |   236    |\n",
              "|  Columbia  |   287    |\n",
              "|  Columbia  |   305    |\n",
              "|  Columbia  |   350    |\n",
              "|  Columbia  |   597    |\n",
              "|  Columbia  |   202    |\n",
              "|  Columbia  |   266    |\n",
              "|  Columbia  |   285    |\n",
              "|  Columbia  |   406    |\n",
              "|  Columbia  |   539    |\n",
              "|  Columbia  |   734    |\n",
              "|  DiscReet  |    93    |\n",
              "+------------+----------+\n",
              "Truncated to displaylimit of 50."
            ],
            "text/html": [
              "<table>\n",
              "    <thead>\n",
              "        <tr>\n",
              "            <th>label</th>\n",
              "            <th>duration</th>\n",
              "        </tr>\n",
              "    </thead>\n",
              "    <tbody>\n",
              "        <tr>\n",
              "            <td>Blue Note</td>\n",
              "            <td>205</td>\n",
              "        </tr>\n",
              "        <tr>\n",
              "            <td>Blue Note</td>\n",
              "            <td>280</td>\n",
              "        </tr>\n",
              "        <tr>\n",
              "            <td>Blue Note</td>\n",
              "            <td>296</td>\n",
              "        </tr>\n",
              "        <tr>\n",
              "            <td>Blue Note</td>\n",
              "            <td>296</td>\n",
              "        </tr>\n",
              "        <tr>\n",
              "            <td>Blue Note</td>\n",
              "            <td>308</td>\n",
              "        </tr>\n",
              "        <tr>\n",
              "            <td>Blue Note</td>\n",
              "            <td>320</td>\n",
              "        </tr>\n",
              "        <tr>\n",
              "            <td>Blue Note</td>\n",
              "            <td>343</td>\n",
              "        </tr>\n",
              "        <tr>\n",
              "            <td>Blue Note</td>\n",
              "            <td>344</td>\n",
              "        </tr>\n",
              "        <tr>\n",
              "            <td>Blue Note</td>\n",
              "            <td>368</td>\n",
              "        </tr>\n",
              "        <tr>\n",
              "            <td>Blue Note</td>\n",
              "            <td>447</td>\n",
              "        </tr>\n",
              "        <tr>\n",
              "            <td>Polydor</td>\n",
              "            <td>76</td>\n",
              "        </tr>\n",
              "        <tr>\n",
              "            <td>Polydor</td>\n",
              "            <td>160</td>\n",
              "        </tr>\n",
              "        <tr>\n",
              "            <td>Polydor</td>\n",
              "            <td>185</td>\n",
              "        </tr>\n",
              "        <tr>\n",
              "            <td>Polydor</td>\n",
              "            <td>194</td>\n",
              "        </tr>\n",
              "        <tr>\n",
              "            <td>Polydor</td>\n",
              "            <td>266</td>\n",
              "        </tr>\n",
              "        <tr>\n",
              "            <td>Polydor</td>\n",
              "            <td>285</td>\n",
              "        </tr>\n",
              "        <tr>\n",
              "            <td>Polydor</td>\n",
              "            <td>469</td>\n",
              "        </tr>\n",
              "        <tr>\n",
              "            <td>Polydor</td>\n",
              "            <td>549</td>\n",
              "        </tr>\n",
              "        <tr>\n",
              "            <td>Polydor</td>\n",
              "            <td>786</td>\n",
              "        </tr>\n",
              "        <tr>\n",
              "            <td>Parlophone</td>\n",
              "            <td>125</td>\n",
              "        </tr>\n",
              "        <tr>\n",
              "            <td>Parlophone</td>\n",
              "            <td>136</td>\n",
              "        </tr>\n",
              "        <tr>\n",
              "            <td>Parlophone</td>\n",
              "            <td>138</td>\n",
              "        </tr>\n",
              "        <tr>\n",
              "            <td>Parlophone</td>\n",
              "            <td>139</td>\n",
              "        </tr>\n",
              "        <tr>\n",
              "            <td>Parlophone</td>\n",
              "            <td>143</td>\n",
              "        </tr>\n",
              "        <tr>\n",
              "            <td>Parlophone</td>\n",
              "            <td>147</td>\n",
              "        </tr>\n",
              "        <tr>\n",
              "            <td>Parlophone</td>\n",
              "            <td>147</td>\n",
              "        </tr>\n",
              "        <tr>\n",
              "            <td>Parlophone</td>\n",
              "            <td>150</td>\n",
              "        </tr>\n",
              "        <tr>\n",
              "            <td>Parlophone</td>\n",
              "            <td>153</td>\n",
              "        </tr>\n",
              "        <tr>\n",
              "            <td>Parlophone</td>\n",
              "            <td>162</td>\n",
              "        </tr>\n",
              "        <tr>\n",
              "            <td>Parlophone</td>\n",
              "            <td>163</td>\n",
              "        </tr>\n",
              "        <tr>\n",
              "            <td>Parlophone</td>\n",
              "            <td>164</td>\n",
              "        </tr>\n",
              "        <tr>\n",
              "            <td>Parlophone</td>\n",
              "            <td>170</td>\n",
              "        </tr>\n",
              "        <tr>\n",
              "            <td>Parlophone</td>\n",
              "            <td>202</td>\n",
              "        </tr>\n",
              "        <tr>\n",
              "            <td>Columbia</td>\n",
              "            <td>24</td>\n",
              "        </tr>\n",
              "        <tr>\n",
              "            <td>Columbia</td>\n",
              "            <td>119</td>\n",
              "        </tr>\n",
              "        <tr>\n",
              "            <td>Columbia</td>\n",
              "            <td>129</td>\n",
              "        </tr>\n",
              "        <tr>\n",
              "            <td>Columbia</td>\n",
              "            <td>174</td>\n",
              "        </tr>\n",
              "        <tr>\n",
              "            <td>Columbia</td>\n",
              "            <td>203</td>\n",
              "        </tr>\n",
              "        <tr>\n",
              "            <td>Columbia</td>\n",
              "            <td>236</td>\n",
              "        </tr>\n",
              "        <tr>\n",
              "            <td>Columbia</td>\n",
              "            <td>287</td>\n",
              "        </tr>\n",
              "        <tr>\n",
              "            <td>Columbia</td>\n",
              "            <td>305</td>\n",
              "        </tr>\n",
              "        <tr>\n",
              "            <td>Columbia</td>\n",
              "            <td>350</td>\n",
              "        </tr>\n",
              "        <tr>\n",
              "            <td>Columbia</td>\n",
              "            <td>597</td>\n",
              "        </tr>\n",
              "        <tr>\n",
              "            <td>Columbia</td>\n",
              "            <td>202</td>\n",
              "        </tr>\n",
              "        <tr>\n",
              "            <td>Columbia</td>\n",
              "            <td>266</td>\n",
              "        </tr>\n",
              "        <tr>\n",
              "            <td>Columbia</td>\n",
              "            <td>285</td>\n",
              "        </tr>\n",
              "        <tr>\n",
              "            <td>Columbia</td>\n",
              "            <td>406</td>\n",
              "        </tr>\n",
              "        <tr>\n",
              "            <td>Columbia</td>\n",
              "            <td>539</td>\n",
              "        </tr>\n",
              "        <tr>\n",
              "            <td>Columbia</td>\n",
              "            <td>734</td>\n",
              "        </tr>\n",
              "        <tr>\n",
              "            <td>DiscReet</td>\n",
              "            <td>93</td>\n",
              "        </tr>\n",
              "    </tbody>\n",
              "</table>\n",
              "<span style=\"font-style:italic;text-align:center;\">Truncated to <a href=\"https://jupysql.ploomber.io/en/latest/api/configuration.html#displaylimit\">displaylimit</a> of 50.</span>"
            ]
          },
          "metadata": {},
          "execution_count": 34
        }
      ],
      "source": [
        "%%sql\n",
        "\n",
        "SELECT label, duration\n",
        "FROM album JOIN track ON album.id=track.album_id"
      ]
    },
    {
      "cell_type": "markdown",
      "id": "a641ebae",
      "metadata": {
        "id": "a641ebae"
      },
      "source": [
        "Ok, now let's use that as a subquery (we select FROM it), and AVG-GROUP BY label to get the average durations."
      ]
    },
    {
      "cell_type": "code",
      "execution_count": null,
      "id": "febbfc36",
      "metadata": {
        "colab": {
          "base_uri": "https://localhost:8080/",
          "height": 165
        },
        "id": "febbfc36",
        "outputId": "d55ec006-5205-4365-b996-a58e13ee68a1"
      },
      "outputs": [
        {
          "output_type": "display_data",
          "data": {
            "text/plain": [
              "Running query in 'sqlite:///sqlite_data/your_name.db?charset=utf8mb4'"
            ],
            "text/html": [
              "<span style=\"None\">Running query in &#x27;sqlite:///sqlite_data/your_name.db?charset=utf8mb4&#x27;</span>"
            ]
          },
          "metadata": {}
        },
        {
          "output_type": "execute_result",
          "data": {
            "text/plain": [
              "+------------+--------------------+\n",
              "|   label    |   AVG(duration)    |\n",
              "+------------+--------------------+\n",
              "| Blue Note  |       320.7        |\n",
              "|  Columbia  | 362.3809523809524  |\n",
              "|  DiscReet  | 211.88888888888889 |\n",
              "| Parlophone | 152.78571428571428 |\n",
              "|  Polydor   |       330.0        |\n",
              "+------------+--------------------+"
            ],
            "text/html": [
              "<table>\n",
              "    <thead>\n",
              "        <tr>\n",
              "            <th>label</th>\n",
              "            <th>AVG(duration)</th>\n",
              "        </tr>\n",
              "    </thead>\n",
              "    <tbody>\n",
              "        <tr>\n",
              "            <td>Blue Note</td>\n",
              "            <td>320.7</td>\n",
              "        </tr>\n",
              "        <tr>\n",
              "            <td>Columbia</td>\n",
              "            <td>362.3809523809524</td>\n",
              "        </tr>\n",
              "        <tr>\n",
              "            <td>DiscReet</td>\n",
              "            <td>211.88888888888889</td>\n",
              "        </tr>\n",
              "        <tr>\n",
              "            <td>Parlophone</td>\n",
              "            <td>152.78571428571428</td>\n",
              "        </tr>\n",
              "        <tr>\n",
              "            <td>Polydor</td>\n",
              "            <td>330.0</td>\n",
              "        </tr>\n",
              "    </tbody>\n",
              "</table>"
            ]
          },
          "metadata": {},
          "execution_count": 35
        }
      ],
      "source": [
        "%%sql\n",
        "\n",
        "SELECT label, AVG(duration)\n",
        "FROM (SELECT label, duration\n",
        "      FROM album JOIN track\n",
        "      ON album.id=track.album_id) AS joined\n",
        "GROUP BY label;"
      ]
    },
    {
      "cell_type": "markdown",
      "id": "5f67766c",
      "metadata": {
        "id": "5f67766c"
      },
      "source": [
        "nice, ehh?"
      ]
    },
    {
      "cell_type": "markdown",
      "id": "e2efc4ce",
      "metadata": {
        "id": "e2efc4ce"
      },
      "source": [
        "#### 👩‍🔬💻 Exercise\n",
        "\n",
        "Can you do this with an implicit **WHERE** join instead?"
      ]
    },
    {
      "cell_type": "code",
      "execution_count": null,
      "id": "2ebd6553",
      "metadata": {
        "colab": {
          "base_uri": "https://localhost:8080/",
          "height": 165
        },
        "id": "2ebd6553",
        "outputId": "ae4766cc-cba8-4311-d225-4043204df1d2"
      },
      "outputs": [
        {
          "output_type": "display_data",
          "data": {
            "text/plain": [
              "Running query in 'sqlite:///sqlite_data/your_name.db?charset=utf8mb4'"
            ],
            "text/html": [
              "<span style=\"None\">Running query in &#x27;sqlite:///sqlite_data/your_name.db?charset=utf8mb4&#x27;</span>"
            ]
          },
          "metadata": {}
        },
        {
          "output_type": "execute_result",
          "data": {
            "text/plain": [
              "+------------+--------------------+\n",
              "|   label    |   AVG(duration)    |\n",
              "+------------+--------------------+\n",
              "| Blue Note  |       320.7        |\n",
              "|  Columbia  | 362.3809523809524  |\n",
              "|  DiscReet  | 211.88888888888889 |\n",
              "| Parlophone | 152.78571428571428 |\n",
              "|  Polydor   |       330.0        |\n",
              "+------------+--------------------+"
            ],
            "text/html": [
              "<table>\n",
              "    <thead>\n",
              "        <tr>\n",
              "            <th>label</th>\n",
              "            <th>AVG(duration)</th>\n",
              "        </tr>\n",
              "    </thead>\n",
              "    <tbody>\n",
              "        <tr>\n",
              "            <td>Blue Note</td>\n",
              "            <td>320.7</td>\n",
              "        </tr>\n",
              "        <tr>\n",
              "            <td>Columbia</td>\n",
              "            <td>362.3809523809524</td>\n",
              "        </tr>\n",
              "        <tr>\n",
              "            <td>DiscReet</td>\n",
              "            <td>211.88888888888889</td>\n",
              "        </tr>\n",
              "        <tr>\n",
              "            <td>Parlophone</td>\n",
              "            <td>152.78571428571428</td>\n",
              "        </tr>\n",
              "        <tr>\n",
              "            <td>Polydor</td>\n",
              "            <td>330.0</td>\n",
              "        </tr>\n",
              "    </tbody>\n",
              "</table>"
            ]
          },
          "metadata": {},
          "execution_count": 36
        }
      ],
      "source": [
        "%%sql\n",
        "\n",
        "SELECT label, AVG(duration)\n",
        "FROM album, track\n",
        "WHERE album.id=track.album_id\n",
        "GROUP BY label;"
      ]
    },
    {
      "cell_type": "markdown",
      "id": "ac36dbf7",
      "metadata": {
        "id": "ac36dbf7"
      },
      "source": [
        "#### 👩‍🔬💻 Exercise\n",
        "\n",
        "Let's do one more, but this time we will include **HAVING** clause as well.\n",
        "\n",
        "Let's find the average duration of tracks for labels with atleast 10 tracks in them."
      ]
    },
    {
      "cell_type": "code",
      "execution_count": null,
      "id": "1ead074d",
      "metadata": {
        "colab": {
          "base_uri": "https://localhost:8080/",
          "height": 122
        },
        "id": "1ead074d",
        "outputId": "afa54ebc-3bf7-4ba7-f84d-ed8c4e175d6d"
      },
      "outputs": [
        {
          "output_type": "display_data",
          "data": {
            "text/plain": [
              "Running query in 'sqlite:///sqlite_data/your_name.db?charset=utf8mb4'"
            ],
            "text/html": [
              "<span style=\"None\">Running query in &#x27;sqlite:///sqlite_data/your_name.db?charset=utf8mb4&#x27;</span>"
            ]
          },
          "metadata": {}
        },
        {
          "output_type": "execute_result",
          "data": {
            "text/plain": [
              "+------------+--------------------+-------+\n",
              "|   label    |      average       | count |\n",
              "+------------+--------------------+-------+\n",
              "| Blue Note  |       320.7        |   10  |\n",
              "|  Columbia  | 362.3809523809524  |   21  |\n",
              "| Parlophone | 152.78571428571428 |   14  |\n",
              "+------------+--------------------+-------+"
            ],
            "text/html": [
              "<table>\n",
              "    <thead>\n",
              "        <tr>\n",
              "            <th>label</th>\n",
              "            <th>average</th>\n",
              "            <th>count</th>\n",
              "        </tr>\n",
              "    </thead>\n",
              "    <tbody>\n",
              "        <tr>\n",
              "            <td>Blue Note</td>\n",
              "            <td>320.7</td>\n",
              "            <td>10</td>\n",
              "        </tr>\n",
              "        <tr>\n",
              "            <td>Columbia</td>\n",
              "            <td>362.3809523809524</td>\n",
              "            <td>21</td>\n",
              "        </tr>\n",
              "        <tr>\n",
              "            <td>Parlophone</td>\n",
              "            <td>152.78571428571428</td>\n",
              "            <td>14</td>\n",
              "        </tr>\n",
              "    </tbody>\n",
              "</table>"
            ]
          },
          "metadata": {},
          "execution_count": 37
        }
      ],
      "source": [
        "%%sql\n",
        "\n",
        "SELECT label, AVG(duration) AS average, COUNT(*) AS count\n",
        "FROM (SELECT label, duration\n",
        "      FROM album JOIN track\n",
        "      ON album.id=track.album_id) AS joined\n",
        "GROUP BY label\n",
        "HAVING count >= 10;"
      ]
    },
    {
      "cell_type": "markdown",
      "id": "446900db",
      "metadata": {
        "id": "446900db"
      },
      "source": [
        "## 9) CREATE <a class=\"anchor\" id=\"create\"></a>"
      ]
    },
    {
      "cell_type": "markdown",
      "id": "843201f2",
      "metadata": {
        "id": "843201f2"
      },
      "source": [
        "OK, let's do a little more on how to create tables themselves.\n",
        "\n",
        "**CREATE** statement can be used to create both databases and tables (pretty similar to functionality of 🐬🐬🐬**SHOW** statement in MySQL). We will again restrict ourselves to examples that are necessary for us in this course. Hence, we will particularly discuss 2 methods to create a table."
      ]
    },
    {
      "cell_type": "markdown",
      "id": "526b0f3d",
      "metadata": {
        "id": "526b0f3d"
      },
      "source": [
        "### 9a) CREATE TABLE ... AS SELECT ... <a class=\"anchor\" id=\"cts\"></a>"
      ]
    },
    {
      "cell_type": "markdown",
      "id": "9373bcbc",
      "metadata": {
        "id": "9373bcbc"
      },
      "source": [
        "This command is an absolute killer feature.\n",
        "\n",
        "Save the output of a SELECT query into a new table -- very helpful if you want to break longer flows into steps that you can quality control, and avoid driving yourself insane with subqueries 🤪.\n",
        "\n",
        "We use the **CREATE TABLE ... SELECT** statement then, which creates a new table and fills it with the result of the **SELECT** statement. Let's say we have to create another table `duplicate_album` though which is identical to `album`."
      ]
    },
    {
      "cell_type": "code",
      "execution_count": null,
      "id": "31ec2a83",
      "metadata": {
        "colab": {
          "base_uri": "https://localhost:8080/",
          "height": 34
        },
        "id": "31ec2a83",
        "outputId": "47b76ad5-16b7-4082-ca6d-33df32e77053"
      },
      "outputs": [
        {
          "output_type": "display_data",
          "data": {
            "text/plain": [
              "Running query in 'sqlite:///sqlite_data/your_name.db?charset=utf8mb4'"
            ],
            "text/html": [
              "<span style=\"None\">Running query in &#x27;sqlite:///sqlite_data/your_name.db?charset=utf8mb4&#x27;</span>"
            ]
          },
          "metadata": {}
        },
        {
          "output_type": "execute_result",
          "data": {
            "text/plain": [
              "++\n",
              "||\n",
              "++\n",
              "++"
            ],
            "text/html": [
              "<table>\n",
              "    <thead>\n",
              "        <tr>\n",
              "        </tr>\n",
              "    </thead>\n",
              "    <tbody>\n",
              "    </tbody>\n",
              "</table>"
            ]
          },
          "metadata": {},
          "execution_count": 13
        }
      ],
      "source": [
        "%%sql\n",
        "\n",
        "CREATE TABLE duplicate_album AS\n",
        "SELECT * FROM album;"
      ]
    },
    {
      "cell_type": "markdown",
      "id": "534d6730",
      "metadata": {
        "id": "534d6730"
      },
      "source": [
        "🤓🤓🤓 tidyverse\n",
        "\n",
        "`duplicate_album <- album`"
      ]
    },
    {
      "cell_type": "markdown",
      "id": "c58951aa",
      "metadata": {
        "id": "c58951aa"
      },
      "source": [
        "Btw, if you try to write a table that already exists, you get an error (try the above a few times.)\n",
        "\n",
        "You can overwrite the prior table if it's there:"
      ]
    },
    {
      "cell_type": "code",
      "execution_count": null,
      "id": "66096cb9",
      "metadata": {
        "colab": {
          "base_uri": "https://localhost:8080/",
          "height": 34
        },
        "id": "66096cb9",
        "outputId": "a10c2674-de86-48c3-9ab7-32d42fb3a136"
      },
      "outputs": [
        {
          "output_type": "display_data",
          "data": {
            "text/plain": [
              "Running query in 'sqlite:///sqlite_data/your_name.db?charset=utf8mb4'"
            ],
            "text/html": [
              "<span style=\"None\">Running query in &#x27;sqlite:///sqlite_data/your_name.db?charset=utf8mb4&#x27;</span>"
            ]
          },
          "metadata": {}
        },
        {
          "output_type": "execute_result",
          "data": {
            "text/plain": [
              "++\n",
              "||\n",
              "++\n",
              "++"
            ],
            "text/html": [
              "<table>\n",
              "    <thead>\n",
              "        <tr>\n",
              "        </tr>\n",
              "    </thead>\n",
              "    <tbody>\n",
              "    </tbody>\n",
              "</table>"
            ]
          },
          "metadata": {},
          "execution_count": 15
        }
      ],
      "source": [
        "%%sql\n",
        "\n",
        "DROP TABLE IF EXISTS duplicate_album;"
      ]
    },
    {
      "cell_type": "markdown",
      "id": "9ebb86d9",
      "metadata": {
        "id": "9ebb86d9"
      },
      "source": [
        "#### 👩‍🔬💻 Exercise\n",
        "\n",
        "Can you make a short-durations track table, say, less than 3 minutes?"
      ]
    },
    {
      "cell_type": "code",
      "execution_count": null,
      "id": "38c8dc41",
      "metadata": {
        "colab": {
          "base_uri": "https://localhost:8080/",
          "height": 34
        },
        "id": "38c8dc41",
        "outputId": "8ea1cdae-4117-4dfb-cb0f-80f7a8fe342b"
      },
      "outputs": [
        {
          "output_type": "display_data",
          "data": {
            "text/plain": [
              "Running query in 'sqlite:///sqlite_data/your_name.db?charset=utf8mb4'"
            ],
            "text/html": [
              "<span style=\"None\">Running query in &#x27;sqlite:///sqlite_data/your_name.db?charset=utf8mb4&#x27;</span>"
            ]
          },
          "metadata": {}
        },
        {
          "output_type": "execute_result",
          "data": {
            "text/plain": [
              "++\n",
              "||\n",
              "++\n",
              "++"
            ],
            "text/html": [
              "<table>\n",
              "    <thead>\n",
              "        <tr>\n",
              "        </tr>\n",
              "    </thead>\n",
              "    <tbody>\n",
              "    </tbody>\n",
              "</table>"
            ]
          },
          "metadata": {},
          "execution_count": 11
        }
      ],
      "source": [
        "%%sql\n",
        "\n",
        "DROP TABLE IF EXISTS short_tracks;\n",
        "CREATE TABLE short_tracks AS SELECT album_id, title, track_number, duration FROM track WHERE duration <= 180;"
      ]
    },
    {
      "cell_type": "markdown",
      "id": "8a982154",
      "metadata": {
        "id": "8a982154"
      },
      "source": [
        "⚠️ This is a handy and fast way to make tables, but they won't have indices on them (see below).\n",
        "\n",
        "* recommended: just add indices manually aftewrards\n",
        "* In MySQL, you could also do a combo of 🐬🐬🐬`CREATE TABLE newtable LIKE` and `INSERT INTO newtable SELECT your_other_query` -- this would keep indices. But now we are getting into the advanced weeds. But that's what I do week-to-week. It's two commands, but you don't have to worry about indices.\n",
        "\n",
        "I realized this tutorial hasn't talked about indices yet. They are very very important."
      ]
    },
    {
      "cell_type": "markdown",
      "metadata": {
        "id": "216cdd96"
      },
      "source": [
        "### 9b) 🐬🐬🐬 CREATE TABLE ... LIKE <a class=\"anchor\" id=\"ctl\"></a>"
      ],
      "id": "216cdd96"
    },
    {
      "cell_type": "markdown",
      "metadata": {
        "id": "ec2a03da"
      },
      "source": [
        "🐬🐬🐬 **CREATE TABLE ... LIKE** is used to create an empty table in the \"form\" of another table in MySQL. For example, let's create another table *duplicate_track* though empty but similar to *track*.\n",
        "\n",
        "Though this isn't how you'll create tables in Colab, it's a very useful feature in MySQL."
      ],
      "id": "ec2a03da"
    },
    {
      "cell_type": "markdown",
      "source": [
        "```\n",
        "CREATE TABLE duplicate_track AS track;\n",
        "```"
      ],
      "metadata": {
        "id": "c99bc83b"
      },
      "id": "c99bc83b"
    },
    {
      "cell_type": "markdown",
      "source": [
        "```\n",
        "🐬🐬🐬\n",
        "SELECT *\n",
        "FROM duplicate_track;\n",
        "🐬🐬🐬\n",
        "```"
      ],
      "metadata": {
        "id": "98b9d8df"
      },
      "id": "98b9d8df"
    },
    {
      "cell_type": "markdown",
      "source": [
        "```\n",
        "🐬🐬🐬\n",
        "DESCRIBE duplicate_track;\n",
        "🐬🐬🐬\n",
        "```"
      ],
      "metadata": {
        "id": "42563893"
      },
      "id": "42563893"
    },
    {
      "cell_type": "markdown",
      "metadata": {
        "id": "6b6bf6ca"
      },
      "source": [
        "As you can observe, we have an empty table `duplicate_track` with the same columns as `track` and **also the same primary key and indices**. This method is useful when we have to create a similar table although with different content to be inserted later -- we can just \"template\" one table like the other."
      ],
      "id": "6b6bf6ca"
    },
    {
      "cell_type": "markdown",
      "id": "9e6ff085",
      "metadata": {
        "id": "9e6ff085"
      },
      "source": [
        "## 10) ALTER TABLE Statement <a class=\"anchor\" id=\"alter\"></a>"
      ]
    },
    {
      "cell_type": "markdown",
      "id": "32263adf",
      "metadata": {
        "id": "32263adf"
      },
      "source": [
        "**ALTER** and **UPDATE** are the 2 statements majorly used to alter/update a database. **ALTER** is used to alter the structure of a database, table, functions, etc. We rarely perform such operations other than updating index of a table (in 🐬🐬🐬 MySQL). We'll discuss another way to update an index in this notebook.\n",
        "\n",
        "Whereas **UPDATE** is used to modify the rows in a table mostly based on some conditions, similar to a **SELECT** statement. A more extensive discussion of these statements can be found at https://dev.mysql.com/doc/refman/8.0/en/sql-statements.html section 13.1 and 13.2.\n",
        "\n",
        "The below **PRAGMA** statement displays the properties of columns in *track* table. We can observe that *id* column is the primary key -- it uniquely identifies each row."
      ]
    },
    {
      "cell_type": "code",
      "execution_count": null,
      "id": "fce93e26",
      "metadata": {
        "colab": {
          "base_uri": "https://localhost:8080/",
          "height": 165
        },
        "id": "fce93e26",
        "outputId": "ff457454-341b-49b4-8dd2-efa9c5d64458"
      },
      "outputs": [
        {
          "output_type": "display_data",
          "data": {
            "text/plain": [
              "Running query in 'sqlite:///sqlite_data/your_name.db?charset=utf8mb4'"
            ],
            "text/html": [
              "<span style=\"None\">Running query in &#x27;sqlite:///sqlite_data/your_name.db?charset=utf8mb4&#x27;</span>"
            ]
          },
          "metadata": {}
        },
        {
          "output_type": "execute_result",
          "data": {
            "text/plain": [
              "+-----+--------------+-------------+---------+------------+----+\n",
              "| cid |     name     |     type    | notnull | dflt_value | pk |\n",
              "+-----+--------------+-------------+---------+------------+----+\n",
              "|  0  |      id      |     INT     |    0    |    None    | 0  |\n",
              "|  1  |   album_id   |     INT     |    0    |    None    | 0  |\n",
              "|  2  |    title     | VARCHAR(63) |    0    |    None    | 0  |\n",
              "|  3  | track_number |     INT     |    0    |    None    | 0  |\n",
              "|  4  |   duration   |     INT     |    0    |    None    | 0  |\n",
              "+-----+--------------+-------------+---------+------------+----+"
            ],
            "text/html": [
              "<table>\n",
              "    <thead>\n",
              "        <tr>\n",
              "            <th>cid</th>\n",
              "            <th>name</th>\n",
              "            <th>type</th>\n",
              "            <th>notnull</th>\n",
              "            <th>dflt_value</th>\n",
              "            <th>pk</th>\n",
              "        </tr>\n",
              "    </thead>\n",
              "    <tbody>\n",
              "        <tr>\n",
              "            <td>0</td>\n",
              "            <td>id</td>\n",
              "            <td>INT</td>\n",
              "            <td>0</td>\n",
              "            <td>None</td>\n",
              "            <td>0</td>\n",
              "        </tr>\n",
              "        <tr>\n",
              "            <td>1</td>\n",
              "            <td>album_id</td>\n",
              "            <td>INT</td>\n",
              "            <td>0</td>\n",
              "            <td>None</td>\n",
              "            <td>0</td>\n",
              "        </tr>\n",
              "        <tr>\n",
              "            <td>2</td>\n",
              "            <td>title</td>\n",
              "            <td>VARCHAR(63)</td>\n",
              "            <td>0</td>\n",
              "            <td>None</td>\n",
              "            <td>0</td>\n",
              "        </tr>\n",
              "        <tr>\n",
              "            <td>3</td>\n",
              "            <td>track_number</td>\n",
              "            <td>INT</td>\n",
              "            <td>0</td>\n",
              "            <td>None</td>\n",
              "            <td>0</td>\n",
              "        </tr>\n",
              "        <tr>\n",
              "            <td>4</td>\n",
              "            <td>duration</td>\n",
              "            <td>INT</td>\n",
              "            <td>0</td>\n",
              "            <td>None</td>\n",
              "            <td>0</td>\n",
              "        </tr>\n",
              "    </tbody>\n",
              "</table>"
            ]
          },
          "metadata": {},
          "execution_count": 12
        }
      ],
      "source": [
        "%%sql\n",
        "\n",
        "PRAGMA table_info(track);"
      ]
    },
    {
      "cell_type": "code",
      "execution_count": null,
      "id": "9908939e",
      "metadata": {
        "colab": {
          "base_uri": "https://localhost:8080/",
          "height": 1000
        },
        "id": "9908939e",
        "outputId": "2375ccfd-a3b1-4cc5-ce54-8c37778e3df6"
      },
      "outputs": [
        {
          "output_type": "display_data",
          "data": {
            "text/plain": [
              "Running query in 'sqlite:///sqlite_data/your_name.db?charset=utf8mb4'"
            ],
            "text/html": [
              "<span style=\"None\">Running query in &#x27;sqlite:///sqlite_data/your_name.db?charset=utf8mb4&#x27;</span>"
            ]
          },
          "metadata": {}
        },
        {
          "output_type": "execute_result",
          "data": {
            "text/plain": [
              "+----+\n",
              "| id |\n",
              "+----+\n",
              "| 1  |\n",
              "| 2  |\n",
              "| 3  |\n",
              "| 4  |\n",
              "| 5  |\n",
              "| 6  |\n",
              "| 7  |\n",
              "| 8  |\n",
              "| 9  |\n",
              "| 10 |\n",
              "| 14 |\n",
              "| 15 |\n",
              "| 16 |\n",
              "| 17 |\n",
              "| 18 |\n",
              "| 19 |\n",
              "| 20 |\n",
              "| 21 |\n",
              "| 22 |\n",
              "| 23 |\n",
              "| 24 |\n",
              "| 25 |\n",
              "| 26 |\n",
              "| 27 |\n",
              "| 28 |\n",
              "| 29 |\n",
              "| 30 |\n",
              "| 31 |\n",
              "| 32 |\n",
              "| 33 |\n",
              "| 34 |\n",
              "| 35 |\n",
              "| 37 |\n",
              "| 38 |\n",
              "| 39 |\n",
              "| 40 |\n",
              "| 41 |\n",
              "| 42 |\n",
              "| 43 |\n",
              "| 44 |\n",
              "| 45 |\n",
              "| 46 |\n",
              "| 50 |\n",
              "| 51 |\n",
              "| 52 |\n",
              "| 53 |\n",
              "| 54 |\n",
              "| 55 |\n",
              "| 56 |\n",
              "| 57 |\n",
              "+----+\n",
              "Truncated to displaylimit of 50."
            ],
            "text/html": [
              "<table>\n",
              "    <thead>\n",
              "        <tr>\n",
              "            <th>id</th>\n",
              "        </tr>\n",
              "    </thead>\n",
              "    <tbody>\n",
              "        <tr>\n",
              "            <td>1</td>\n",
              "        </tr>\n",
              "        <tr>\n",
              "            <td>2</td>\n",
              "        </tr>\n",
              "        <tr>\n",
              "            <td>3</td>\n",
              "        </tr>\n",
              "        <tr>\n",
              "            <td>4</td>\n",
              "        </tr>\n",
              "        <tr>\n",
              "            <td>5</td>\n",
              "        </tr>\n",
              "        <tr>\n",
              "            <td>6</td>\n",
              "        </tr>\n",
              "        <tr>\n",
              "            <td>7</td>\n",
              "        </tr>\n",
              "        <tr>\n",
              "            <td>8</td>\n",
              "        </tr>\n",
              "        <tr>\n",
              "            <td>9</td>\n",
              "        </tr>\n",
              "        <tr>\n",
              "            <td>10</td>\n",
              "        </tr>\n",
              "        <tr>\n",
              "            <td>14</td>\n",
              "        </tr>\n",
              "        <tr>\n",
              "            <td>15</td>\n",
              "        </tr>\n",
              "        <tr>\n",
              "            <td>16</td>\n",
              "        </tr>\n",
              "        <tr>\n",
              "            <td>17</td>\n",
              "        </tr>\n",
              "        <tr>\n",
              "            <td>18</td>\n",
              "        </tr>\n",
              "        <tr>\n",
              "            <td>19</td>\n",
              "        </tr>\n",
              "        <tr>\n",
              "            <td>20</td>\n",
              "        </tr>\n",
              "        <tr>\n",
              "            <td>21</td>\n",
              "        </tr>\n",
              "        <tr>\n",
              "            <td>22</td>\n",
              "        </tr>\n",
              "        <tr>\n",
              "            <td>23</td>\n",
              "        </tr>\n",
              "        <tr>\n",
              "            <td>24</td>\n",
              "        </tr>\n",
              "        <tr>\n",
              "            <td>25</td>\n",
              "        </tr>\n",
              "        <tr>\n",
              "            <td>26</td>\n",
              "        </tr>\n",
              "        <tr>\n",
              "            <td>27</td>\n",
              "        </tr>\n",
              "        <tr>\n",
              "            <td>28</td>\n",
              "        </tr>\n",
              "        <tr>\n",
              "            <td>29</td>\n",
              "        </tr>\n",
              "        <tr>\n",
              "            <td>30</td>\n",
              "        </tr>\n",
              "        <tr>\n",
              "            <td>31</td>\n",
              "        </tr>\n",
              "        <tr>\n",
              "            <td>32</td>\n",
              "        </tr>\n",
              "        <tr>\n",
              "            <td>33</td>\n",
              "        </tr>\n",
              "        <tr>\n",
              "            <td>34</td>\n",
              "        </tr>\n",
              "        <tr>\n",
              "            <td>35</td>\n",
              "        </tr>\n",
              "        <tr>\n",
              "            <td>37</td>\n",
              "        </tr>\n",
              "        <tr>\n",
              "            <td>38</td>\n",
              "        </tr>\n",
              "        <tr>\n",
              "            <td>39</td>\n",
              "        </tr>\n",
              "        <tr>\n",
              "            <td>40</td>\n",
              "        </tr>\n",
              "        <tr>\n",
              "            <td>41</td>\n",
              "        </tr>\n",
              "        <tr>\n",
              "            <td>42</td>\n",
              "        </tr>\n",
              "        <tr>\n",
              "            <td>43</td>\n",
              "        </tr>\n",
              "        <tr>\n",
              "            <td>44</td>\n",
              "        </tr>\n",
              "        <tr>\n",
              "            <td>45</td>\n",
              "        </tr>\n",
              "        <tr>\n",
              "            <td>46</td>\n",
              "        </tr>\n",
              "        <tr>\n",
              "            <td>50</td>\n",
              "        </tr>\n",
              "        <tr>\n",
              "            <td>51</td>\n",
              "        </tr>\n",
              "        <tr>\n",
              "            <td>52</td>\n",
              "        </tr>\n",
              "        <tr>\n",
              "            <td>53</td>\n",
              "        </tr>\n",
              "        <tr>\n",
              "            <td>54</td>\n",
              "        </tr>\n",
              "        <tr>\n",
              "            <td>55</td>\n",
              "        </tr>\n",
              "        <tr>\n",
              "            <td>56</td>\n",
              "        </tr>\n",
              "        <tr>\n",
              "            <td>57</td>\n",
              "        </tr>\n",
              "    </tbody>\n",
              "</table>\n",
              "<span style=\"font-style:italic;text-align:center;\">Truncated to <a href=\"https://jupysql.ploomber.io/en/latest/api/configuration.html#displaylimit\">displaylimit</a> of 50.</span>"
            ]
          },
          "metadata": {},
          "execution_count": 15
        }
      ],
      "source": [
        "%%sql\n",
        "\n",
        "SELECT id from track;"
      ]
    },
    {
      "cell_type": "markdown",
      "id": "9e832c1b",
      "metadata": {
        "id": "9e832c1b"
      },
      "source": [
        "## 11) Creating Indexes\n",
        "\n",
        "🤓 This is really important, even though it's all the way down there at the end. Indexes make or break a database."
      ]
    },
    {
      "cell_type": "markdown",
      "id": "a6ff534a",
      "metadata": {
        "id": "a6ff534a"
      },
      "source": [
        "There are queries which are executed frequently based on the use case.\n",
        "\n",
        "For example, we want to retrieve the list of students in alphabetical order of their SUNetIDs. Then repeating calling of **SELECT ... ORDER BY** would internally require sorting the rows based on SUNetID which is very resource and time intensive, particularly if we need to do this frequently.\n",
        "\n",
        "This situation also exists when we have to search for a student using SUNetID, we can't simply iterate through the rows due to their number. Such cases call for optimization of these queries for faster retrievel.\n",
        "\n",
        "To **optimize** these queries, we can add an index to the respective columns for faster retrieval. Though the query results remain the same, SQL flavors store an additional data structure internally to retrieve these columns faster.\n",
        "\n",
        "For example, we can add an index to the `album_id` column, we can do that as follows. The syntax is a little clunky -- you tell it what column the index goes on, and then what you want to call the index (just call it the same as the column 🙄)."
      ]
    },
    {
      "cell_type": "markdown",
      "source": [
        "**Important**: The standard way to create an index is to use `idx_tablename_colname`. For example, `idx_track_album_id`."
      ],
      "metadata": {
        "id": "h6G-CnK8KRYs"
      },
      "id": "h6G-CnK8KRYs"
    },
    {
      "cell_type": "code",
      "execution_count": null,
      "id": "d0fbfb06",
      "metadata": {
        "colab": {
          "base_uri": "https://localhost:8080/",
          "height": 34
        },
        "id": "d0fbfb06",
        "outputId": "7f1dc979-f71b-4506-a512-90f5c3ad0756"
      },
      "outputs": [
        {
          "output_type": "display_data",
          "data": {
            "text/plain": [
              "Running query in 'sqlite:///sqlite_data/your_name.db?charset=utf8mb4'"
            ],
            "text/html": [
              "<span style=\"None\">Running query in &#x27;sqlite:///sqlite_data/your_name.db?charset=utf8mb4&#x27;</span>"
            ]
          },
          "metadata": {}
        },
        {
          "output_type": "execute_result",
          "data": {
            "text/plain": [
              "++\n",
              "||\n",
              "++\n",
              "++"
            ],
            "text/html": [
              "<table>\n",
              "    <thead>\n",
              "        <tr>\n",
              "        </tr>\n",
              "    </thead>\n",
              "    <tbody>\n",
              "    </tbody>\n",
              "</table>"
            ]
          },
          "metadata": {},
          "execution_count": 16
        }
      ],
      "source": [
        "%%sql\n",
        "\n",
        "CREATE INDEX idx_track_album_id\n",
        "ON track(album_id);"
      ]
    },
    {
      "cell_type": "markdown",
      "id": "b026dd20",
      "metadata": {
        "id": "b026dd20"
      },
      "source": [
        "Let's also make an index on id in album, so we can join them on the two indices!"
      ]
    },
    {
      "cell_type": "code",
      "execution_count": null,
      "id": "d3d8b20b",
      "metadata": {
        "id": "d3d8b20b",
        "outputId": "13e24ca1-2011-44b3-bf04-cdc854492008",
        "colab": {
          "base_uri": "https://localhost:8080/",
          "height": 34
        }
      },
      "outputs": [
        {
          "output_type": "display_data",
          "data": {
            "text/plain": [
              "Running query in 'sqlite:///sqlite_data/your_name.db?charset=utf8mb4'"
            ],
            "text/html": [
              "<span style=\"None\">Running query in &#x27;sqlite:///sqlite_data/your_name.db?charset=utf8mb4&#x27;</span>"
            ]
          },
          "metadata": {}
        },
        {
          "output_type": "execute_result",
          "data": {
            "text/plain": [
              "++\n",
              "||\n",
              "++\n",
              "++"
            ],
            "text/html": [
              "<table>\n",
              "    <thead>\n",
              "        <tr>\n",
              "        </tr>\n",
              "    </thead>\n",
              "    <tbody>\n",
              "    </tbody>\n",
              "</table>"
            ]
          },
          "metadata": {},
          "execution_count": 17
        }
      ],
      "source": [
        "%%sql\n",
        "\n",
        "CREATE INDEX idx_album_id\n",
        "ON album(id);"
      ]
    },
    {
      "cell_type": "markdown",
      "id": "18e6df62",
      "metadata": {
        "id": "18e6df62"
      },
      "source": [
        "We can see the added index using **`PRAGMA index_list()`** (or 🐬🐬🐬 SHOW in MySQL) statement as follows."
      ]
    },
    {
      "cell_type": "code",
      "execution_count": null,
      "id": "fc1e98bf",
      "metadata": {
        "colab": {
          "base_uri": "https://localhost:8080/",
          "height": 79
        },
        "id": "fc1e98bf",
        "outputId": "08de343d-861d-4941-9d6e-95c4aa8225e8"
      },
      "outputs": [
        {
          "output_type": "display_data",
          "data": {
            "text/plain": [
              "Running query in 'sqlite:///sqlite_data/your_name.db?charset=utf8mb4'"
            ],
            "text/html": [
              "<span style=\"None\">Running query in &#x27;sqlite:///sqlite_data/your_name.db?charset=utf8mb4&#x27;</span>"
            ]
          },
          "metadata": {}
        },
        {
          "output_type": "execute_result",
          "data": {
            "text/plain": [
              "+-----+--------------+--------+--------+---------+\n",
              "| seq |     name     | unique | origin | partial |\n",
              "+-----+--------------+--------+--------+---------+\n",
              "|  0  | idx_album_id |   0    |   c    |    0    |\n",
              "+-----+--------------+--------+--------+---------+"
            ],
            "text/html": [
              "<table>\n",
              "    <thead>\n",
              "        <tr>\n",
              "            <th>seq</th>\n",
              "            <th>name</th>\n",
              "            <th>unique</th>\n",
              "            <th>origin</th>\n",
              "            <th>partial</th>\n",
              "        </tr>\n",
              "    </thead>\n",
              "    <tbody>\n",
              "        <tr>\n",
              "            <td>0</td>\n",
              "            <td>idx_album_id</td>\n",
              "            <td>0</td>\n",
              "            <td>c</td>\n",
              "            <td>0</td>\n",
              "        </tr>\n",
              "    </tbody>\n",
              "</table>"
            ]
          },
          "metadata": {},
          "execution_count": 18
        }
      ],
      "source": [
        "%%sql\n",
        "\n",
        "PRAGMA index_list(album)"
      ]
    },
    {
      "cell_type": "markdown",
      "id": "baa14926",
      "metadata": {
        "id": "baa14926"
      },
      "source": [
        "Now if we wanted to search for a particular album name, it would be WAAAAAAY faster."
      ]
    },
    {
      "cell_type": "markdown",
      "id": "501b551c",
      "metadata": {
        "id": "501b551c"
      },
      "source": [
        "**⚠️⚠️⚠️ In real life ALWAYS HAVE INDICES ON COLUMNS YOU `JOIN` ON, and that you use IN YOUR `WHERE` CLAUSE.**\n",
        "\n",
        "DLATK will create indices for you on feature tables it creates for you. But as you work with your own tables, you will forget. And things will take minutes when they could take seconds, with an index. Everybody always forgets. And waits."
      ]
    },
    {
      "cell_type": "markdown",
      "id": "56baf466",
      "metadata": {
        "id": "56baf466"
      },
      "source": [
        "### 11a) More INDEX practice <a class=\"anchor\" id=\"uindex\"></a>"
      ]
    },
    {
      "cell_type": "markdown",
      "id": "e73e9764",
      "metadata": {
        "id": "e73e9764"
      },
      "source": [
        "Let's create a new table similar to `track` but containing only the `album_id` = 1, for this example. This results in `track_number` uniquely identify the rows in the new table.\n",
        "\n",
        "**Note:** the command below makes the table, then looks at the table. SQL commands just need to be terminated with the `;`."
      ]
    },
    {
      "cell_type": "code",
      "execution_count": null,
      "id": "89ca0647",
      "metadata": {
        "colab": {
          "base_uri": "https://localhost:8080/",
          "height": 271
        },
        "id": "89ca0647",
        "outputId": "b05a9e9f-805e-4205-9829-a4664b95bd0d"
      },
      "outputs": [
        {
          "output_type": "display_data",
          "data": {
            "text/plain": [
              "Running query in 'sqlite:///sqlite_data/your_name.db?charset=utf8mb4'"
            ],
            "text/html": [
              "<span style=\"None\">Running query in &#x27;sqlite:///sqlite_data/your_name.db?charset=utf8mb4&#x27;</span>"
            ]
          },
          "metadata": {}
        },
        {
          "output_type": "execute_result",
          "data": {
            "text/plain": [
              "+----+----------+------------------------------+--------------+----------+\n",
              "| id | album_id |            title             | track_number | duration |\n",
              "+----+----------+------------------------------+--------------+----------+\n",
              "| 1  |    1     |    Bright Lights Big City    |      1       |   320    |\n",
              "| 2  |    1     |          Night Life          |      2       |   344    |\n",
              "| 3  |    1     |      Basin Street Blues      |      5       |   296    |\n",
              "| 4  |    1     |           Caldonia           |      3       |   205    |\n",
              "| 5  |    1     |           Stardust           |      4       |   308    |\n",
              "| 6  |    1     |      Georgia On My Mind      |      6       |   280    |\n",
              "| 7  |    1     |       Rainy Day Blues        |      7       |   343    |\n",
              "| 8  |    1     | My Bucket's Got A Hole In It |      8       |   296    |\n",
              "| 9  |    1     |   Ain't Nobody's Business    |      9       |   447    |\n",
              "| 10 |    1     |          That's All          |      10      |   368    |\n",
              "+----+----------+------------------------------+--------------+----------+"
            ],
            "text/html": [
              "<table>\n",
              "    <thead>\n",
              "        <tr>\n",
              "            <th>id</th>\n",
              "            <th>album_id</th>\n",
              "            <th>title</th>\n",
              "            <th>track_number</th>\n",
              "            <th>duration</th>\n",
              "        </tr>\n",
              "    </thead>\n",
              "    <tbody>\n",
              "        <tr>\n",
              "            <td>1</td>\n",
              "            <td>1</td>\n",
              "            <td>Bright Lights Big City</td>\n",
              "            <td>1</td>\n",
              "            <td>320</td>\n",
              "        </tr>\n",
              "        <tr>\n",
              "            <td>2</td>\n",
              "            <td>1</td>\n",
              "            <td>Night Life</td>\n",
              "            <td>2</td>\n",
              "            <td>344</td>\n",
              "        </tr>\n",
              "        <tr>\n",
              "            <td>3</td>\n",
              "            <td>1</td>\n",
              "            <td>Basin Street Blues</td>\n",
              "            <td>5</td>\n",
              "            <td>296</td>\n",
              "        </tr>\n",
              "        <tr>\n",
              "            <td>4</td>\n",
              "            <td>1</td>\n",
              "            <td>Caldonia</td>\n",
              "            <td>3</td>\n",
              "            <td>205</td>\n",
              "        </tr>\n",
              "        <tr>\n",
              "            <td>5</td>\n",
              "            <td>1</td>\n",
              "            <td>Stardust</td>\n",
              "            <td>4</td>\n",
              "            <td>308</td>\n",
              "        </tr>\n",
              "        <tr>\n",
              "            <td>6</td>\n",
              "            <td>1</td>\n",
              "            <td>Georgia On My Mind</td>\n",
              "            <td>6</td>\n",
              "            <td>280</td>\n",
              "        </tr>\n",
              "        <tr>\n",
              "            <td>7</td>\n",
              "            <td>1</td>\n",
              "            <td>Rainy Day Blues</td>\n",
              "            <td>7</td>\n",
              "            <td>343</td>\n",
              "        </tr>\n",
              "        <tr>\n",
              "            <td>8</td>\n",
              "            <td>1</td>\n",
              "            <td>My Bucket's Got A Hole In It</td>\n",
              "            <td>8</td>\n",
              "            <td>296</td>\n",
              "        </tr>\n",
              "        <tr>\n",
              "            <td>9</td>\n",
              "            <td>1</td>\n",
              "            <td>Ain't Nobody's Business</td>\n",
              "            <td>9</td>\n",
              "            <td>447</td>\n",
              "        </tr>\n",
              "        <tr>\n",
              "            <td>10</td>\n",
              "            <td>1</td>\n",
              "            <td>That's All</td>\n",
              "            <td>10</td>\n",
              "            <td>368</td>\n",
              "        </tr>\n",
              "    </tbody>\n",
              "</table>"
            ]
          },
          "metadata": {},
          "execution_count": 19
        }
      ],
      "source": [
        "%%sql\n",
        "\n",
        "DROP TABLE IF EXISTS new_track;\n",
        "\n",
        "CREATE TABLE new_track AS\n",
        "SELECT * FROM track WHERE album_id=1;\n",
        "SELECT * FROM new_track;"
      ]
    },
    {
      "cell_type": "markdown",
      "id": "ea2d6976",
      "metadata": {
        "id": "ea2d6976"
      },
      "source": [
        "Note that for these records, track_number is unique.\n",
        "\n",
        "Let's put an index on `track_number` using `CREATE INDEX`.\n",
        "\n",
        "In 🐬🐬🐬 MySQL we would use **ALTER** statement and **ADD INDEX**."
      ]
    },
    {
      "cell_type": "code",
      "execution_count": null,
      "id": "b276c298",
      "metadata": {
        "colab": {
          "base_uri": "https://localhost:8080/",
          "height": 34
        },
        "id": "b276c298",
        "outputId": "fd8bf146-dad4-4f27-9b9e-f81f53f4e9d2"
      },
      "outputs": [
        {
          "output_type": "display_data",
          "data": {
            "text/plain": [
              "Running query in 'sqlite:///sqlite_data/your_name.db?charset=utf8mb4'"
            ],
            "text/html": [
              "<span style=\"None\">Running query in &#x27;sqlite:///sqlite_data/your_name.db?charset=utf8mb4&#x27;</span>"
            ]
          },
          "metadata": {}
        },
        {
          "output_type": "execute_result",
          "data": {
            "text/plain": [
              "++\n",
              "||\n",
              "++\n",
              "++"
            ],
            "text/html": [
              "<table>\n",
              "    <thead>\n",
              "        <tr>\n",
              "        </tr>\n",
              "    </thead>\n",
              "    <tbody>\n",
              "    </tbody>\n",
              "</table>"
            ]
          },
          "metadata": {},
          "execution_count": 20
        }
      ],
      "source": [
        "%%sql\n",
        "\n",
        "CREATE INDEX idx_track_track_number\n",
        "ON new_track(track_number);"
      ]
    },
    {
      "cell_type": "code",
      "execution_count": null,
      "id": "e6711f59",
      "metadata": {
        "colab": {
          "base_uri": "https://localhost:8080/",
          "height": 79
        },
        "id": "e6711f59",
        "outputId": "e4f12862-86bb-4072-a0ff-15d557b70025"
      },
      "outputs": [
        {
          "output_type": "display_data",
          "data": {
            "text/plain": [
              "Running query in 'sqlite:///sqlite_data/your_name.db?charset=utf8mb4'"
            ],
            "text/html": [
              "<span style=\"None\">Running query in &#x27;sqlite:///sqlite_data/your_name.db?charset=utf8mb4&#x27;</span>"
            ]
          },
          "metadata": {}
        },
        {
          "output_type": "execute_result",
          "data": {
            "text/plain": [
              "+-----+------------------------+--------+--------+---------+\n",
              "| seq |          name          | unique | origin | partial |\n",
              "+-----+------------------------+--------+--------+---------+\n",
              "|  0  | idx_track_track_number |   0    |   c    |    0    |\n",
              "+-----+------------------------+--------+--------+---------+"
            ],
            "text/html": [
              "<table>\n",
              "    <thead>\n",
              "        <tr>\n",
              "            <th>seq</th>\n",
              "            <th>name</th>\n",
              "            <th>unique</th>\n",
              "            <th>origin</th>\n",
              "            <th>partial</th>\n",
              "        </tr>\n",
              "    </thead>\n",
              "    <tbody>\n",
              "        <tr>\n",
              "            <td>0</td>\n",
              "            <td>idx_track_track_number</td>\n",
              "            <td>0</td>\n",
              "            <td>c</td>\n",
              "            <td>0</td>\n",
              "        </tr>\n",
              "    </tbody>\n",
              "</table>"
            ]
          },
          "metadata": {},
          "execution_count": 21
        }
      ],
      "source": [
        "%%sql\n",
        "\n",
        "PRAGMA index_list(new_track);"
      ]
    },
    {
      "cell_type": "markdown",
      "id": "4f5cae9f",
      "metadata": {
        "id": "4f5cae9f"
      },
      "source": [
        "#### 👩‍🔬💻 Exercise\n",
        "\n",
        "Can you make a new table that only contains tracks from \"Miles Davis\", and put an index  on the track number?"
      ]
    },
    {
      "cell_type": "code",
      "execution_count": null,
      "id": "671159d3",
      "metadata": {
        "colab": {
          "base_uri": "https://localhost:8080/",
          "height": 34
        },
        "id": "671159d3",
        "outputId": "46d1e0cd-dd71-4524-cd69-c19c5db2eb4e"
      },
      "outputs": [
        {
          "output_type": "display_data",
          "data": {
            "text/plain": [
              "Running query in 'sqlite:///sqlite_data/your_name.db?charset=utf8mb4'"
            ],
            "text/html": [
              "<span style=\"None\">Running query in &#x27;sqlite:///sqlite_data/your_name.db?charset=utf8mb4&#x27;</span>"
            ]
          },
          "metadata": {}
        },
        {
          "output_type": "execute_result",
          "data": {
            "text/plain": [
              "++\n",
              "||\n",
              "++\n",
              "++"
            ],
            "text/html": [
              "<table>\n",
              "    <thead>\n",
              "        <tr>\n",
              "        </tr>\n",
              "    </thead>\n",
              "    <tbody>\n",
              "    </tbody>\n",
              "</table>"
            ]
          },
          "metadata": {},
          "execution_count": 22
        }
      ],
      "source": [
        "%%sql\n",
        "\n",
        "DROP TABLE IF EXISTS miles_album;\n",
        "\n",
        "CREATE TABLE miles_album AS\n",
        "    SELECT track.*\n",
        "    FROM track, album\n",
        "    WHERE track.album_id = album.id AND album.artist = \"Miles Davis\";"
      ]
    },
    {
      "cell_type": "code",
      "execution_count": null,
      "id": "9e0a7fd4",
      "metadata": {
        "colab": {
          "base_uri": "https://localhost:8080/",
          "height": 34
        },
        "id": "9e0a7fd4",
        "outputId": "4f159aaa-0de0-418c-816a-21ad1fe2eeb1"
      },
      "outputs": [
        {
          "output_type": "display_data",
          "data": {
            "text/plain": [
              "Running query in 'sqlite:///sqlite_data/your_name.db?charset=utf8mb4'"
            ],
            "text/html": [
              "<span style=\"None\">Running query in &#x27;sqlite:///sqlite_data/your_name.db?charset=utf8mb4&#x27;</span>"
            ]
          },
          "metadata": {}
        },
        {
          "output_type": "execute_result",
          "data": {
            "text/plain": [
              "++\n",
              "||\n",
              "++\n",
              "++"
            ],
            "text/html": [
              "<table>\n",
              "    <thead>\n",
              "        <tr>\n",
              "        </tr>\n",
              "    </thead>\n",
              "    <tbody>\n",
              "    </tbody>\n",
              "</table>"
            ]
          },
          "metadata": {},
          "execution_count": 23
        }
      ],
      "source": [
        "%%sql\n",
        "\n",
        "CREATE INDEX idx_miles_album_track_number\n",
        "ON miles_album(track_number);"
      ]
    },
    {
      "cell_type": "markdown",
      "id": "8c3cd72f",
      "metadata": {
        "id": "8c3cd72f"
      },
      "source": [
        "🌤🎉🎊 You've made it!! You should be ready now for the Homework 1. It won't be hard."
      ]
    },
    {
      "cell_type": "markdown",
      "id": "aac42481",
      "metadata": {
        "scrolled": true,
        "id": "aac42481"
      },
      "source": [
        "## -- TUTORIAL 1 END --"
      ]
    }
  ],
  "metadata": {
    "kernelspec": {
      "display_name": "Python 3",
      "language": "python",
      "name": "python3"
    },
    "language_info": {
      "codemirror_mode": {
        "name": "ipython",
        "version": 3
      },
      "file_extension": ".py",
      "mimetype": "text/x-python",
      "name": "python",
      "nbconvert_exporter": "python",
      "pygments_lexer": "ipython3",
      "version": "3.8.8"
    },
    "colab": {
      "provenance": [],
      "include_colab_link": true
    }
  },
  "nbformat": 4,
  "nbformat_minor": 5
}