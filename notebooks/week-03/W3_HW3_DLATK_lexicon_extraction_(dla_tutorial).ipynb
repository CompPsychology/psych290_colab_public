{
  "cells": [
    {
      "cell_type": "markdown",
      "metadata": {
        "id": "view-in-github",
        "colab_type": "text"
      },
      "source": [
        "<a href=\"https://colab.research.google.com/github/CompPsychology/psych290_colab_public/blob/main/notebooks/week-03/W3_HW3_DLATK_lexicon_extraction_(dla_tutorial).ipynb\" target=\"_parent\"><img src=\"https://colab.research.google.com/assets/colab-badge.svg\" alt=\"Open In Colab\"/></a>"
      ]
    },
    {
      "cell_type": "markdown",
      "id": "b3be5781",
      "metadata": {
        "id": "b3be5781"
      },
      "source": [
        "# W3 Homework 3: 1gram extraction and feat tables, meta tables\n",
        "\n",
        "(c) Johannes Eichstaedt & the World Well-Being Project, 2023.\n",
        "\n",
        "✋🏻✋🏻 NOTE - You need to create a copy of this notebook before you work through it. Click on \"Save a copy in Drive\" option in the File menu, and safe it to your Google Drive.\n",
        "\n",
        "✉️🐞 If you find a bug/something doesn't work, please slack us a screenshot, or email johannes.courses@gmail.com.\n"
      ]
    },
    {
      "cell_type": "markdown",
      "source": [
        "Work through Tutorial 5 before you solve this homework. The homework assumes you have an existing `dla_tutorial` database file in your Google Drive (Tutorial 5).\n",
        "\n",
        "* Please follow up every command cell with a markdown cell where you give the answer in a human sentence (see that \"Cell\" dropdown field at the top to choose the cell type).\n",
        "* Please share a link to your notebook in your Google Drive (permission set to everyone with link can edit).\n",
        "\n"
      ],
      "metadata": {
        "id": "TOp0vm-T8pbO"
      },
      "id": "TOp0vm-T8pbO"
    },
    {
      "cell_type": "markdown",
      "source": [
        "## 1) Setting up Colab with DLATK and SQLite\n",
        "\n",
        "If colab asks you about this not being authored by Google, say \"Run anyway.\""
      ],
      "metadata": {
        "id": "X4MWSWfK9I9R"
      },
      "id": "X4MWSWfK9I9R"
    },
    {
      "cell_type": "markdown",
      "source": [
        "### 1a) Install DLATK"
      ],
      "metadata": {
        "id": "MWKd2l2W9Pd-"
      },
      "id": "MWKd2l2W9Pd-"
    },
    {
      "cell_type": "code",
      "source": [
        "# assigning the database name\n",
        "database = \"dla_tutorial\""
      ],
      "metadata": {
        "id": "J5pnY_OfSfgP"
      },
      "id": "J5pnY_OfSfgP",
      "execution_count": null,
      "outputs": []
    },
    {
      "cell_type": "code",
      "source": [
        "# installing DLATK and necessary packages\n",
        "!git clone -b psych290 https://github.com/dlatk/dlatk.git\n",
        "!pip install -r dlatk/install/requirements.txt\n",
        "!pip install dlatk/\n",
        "!pip install wordcloud langid jupysql"
      ],
      "metadata": {
        "id": "nMC-pejrFui0"
      },
      "id": "nMC-pejrFui0",
      "execution_count": null,
      "outputs": []
    },
    {
      "cell_type": "markdown",
      "source": [
        "### 1b) Mount Google Drive and copy database"
      ],
      "metadata": {
        "id": "8enkU6S_SUbD"
      },
      "id": "8enkU6S_SUbD"
    },
    {
      "cell_type": "code",
      "source": [
        "# 1b) Mount Google Drive & copy database to Colab\n",
        "\n",
        "# connects & mounts your Google Drive to this colab space\n",
        "from google.colab import drive\n",
        "drive.mount('/content/drive', force_remount=True)\n",
        "\n",
        "# copies {database_name}.db to the sqlite_data folder in this Colab\n",
        "!cp \"/content/drive/MyDrive/sqlite_databases/{database}.db\" \"sqlite_data\"\n",
        "\n",
        "# this copies dlatk_lexica.db from your Google Drive to Colab\n",
        "!cp -f \"/content/drive/MyDrive/sqlite_databases/dlatk_lexica.db\" \"sqlite_data\""
      ],
      "metadata": {
        "id": "YRLs9TqGSTSZ"
      },
      "id": "YRLs9TqGSTSZ",
      "execution_count": null,
      "outputs": []
    },
    {
      "cell_type": "markdown",
      "source": [
        "### 1c) Setup database connection"
      ],
      "metadata": {
        "id": "0Wn2CazqSYDI"
      },
      "id": "0Wn2CazqSYDI"
    },
    {
      "cell_type": "code",
      "source": [
        "# loads the %%sql extension\n",
        "%load_ext sql\n",
        "\n",
        "# connect to the SQLite .db files\n",
        "from sqlalchemy import create_engine\n",
        "tutorial_db_engine = create_engine(f\"sqlite:///sqlite_data/{database}.db?charset=utf8mb4\")\n",
        "dlatk_lexica_engine = create_engine(f\"sqlite:///sqlite_data/dlatk_lexica.db?charset=utf8mb4\")\n",
        "\n",
        "# auto-attach dlatk_lexica.db whenever tutorial_db_engine connects (so tutorial_db_engine can query both databases)\n",
        "from IPython import get_ipython\n",
        "from sqlalchemy import event\n",
        "@event.listens_for(tutorial_db_engine, \"connect\")\n",
        "def _attach_lexica(dbapi_conn, connection_record):\n",
        "    dbapi_conn.execute(\"ATTACH DATABASE 'sqlite_data/dlatk_lexica.db' AS dlatk_lexica;\")\n",
        "\n",
        "# connecting to {database}.db\n",
        "%sql tutorial_db_engine\n",
        "\n",
        "#set the output limit to 50\n",
        "%config SqlMagic.displaylimit = 50"
      ],
      "metadata": {
        "id": "ekHyNME4SXaK"
      },
      "id": "ekHyNME4SXaK",
      "execution_count": null,
      "outputs": []
    },
    {
      "cell_type": "markdown",
      "source": [
        "### 1d) *If you have to restart your session*"
      ],
      "metadata": {
        "id": "UWlAKJg33ih2"
      },
      "id": "UWlAKJg33ih2"
    },
    {
      "cell_type": "code",
      "source": [
        "# If you face a database locked issue, restart the session & run this cell to get set back up!\n",
        "database = \"dla_tutorial\"\n",
        "\n",
        "%reload_ext sql\n",
        "\n",
        "from sqlalchemy import create_engine\n",
        "tutorial_db_engine = create_engine(f\"sqlite:///sqlite_data/{database}.db?charset=utf8mb4\")\n",
        "dlatk_lexica_engine = create_engine(f\"sqlite:///sqlite_data/dlatk_lexica.db?charset=utf8mb4\")\n",
        "\n",
        "# auto-attach dlatk_lexica.db whenever tutorial_db_engine connects (so tutorial_db_engine can query both databases)\n",
        "from IPython import get_ipython\n",
        "from sqlalchemy import event\n",
        "@event.listens_for(tutorial_db_engine, \"connect\")\n",
        "def _attach_lexica(dbapi_conn, connection_record):\n",
        "    dbapi_conn.execute(\"ATTACH DATABASE 'sqlite_data/dlatk_lexica.db' AS dlatk_lexica;\")\n",
        "\n",
        "# connecting to {database}.db\n",
        "%sql tutorial_db_engine\n",
        "\n",
        "#set the output limit to 50\n",
        "%config SqlMagic.displaylimit = 50"
      ],
      "metadata": {
        "id": "lCMxlvWX3oyW"
      },
      "id": "lCMxlvWX3oyW",
      "execution_count": null,
      "outputs": []
    },
    {
      "cell_type": "markdown",
      "source": [
        "### 1e) Check for feature table"
      ],
      "metadata": {
        "id": "BXV3v98d9_CL"
      },
      "id": "BXV3v98d9_CL"
    },
    {
      "cell_type": "markdown",
      "id": "3cfb803a",
      "metadata": {
        "id": "3cfb803a"
      },
      "source": [
        "We expect the 1grams extracted into the `feat$1gram$msgs$user_id` table.\n",
        "\n",
        "Let's check, shall we?"
      ]
    },
    {
      "cell_type": "code",
      "source": [
        "%sql tutorial_db_engine"
      ],
      "metadata": {
        "id": "1qNmAq7wBkkq"
      },
      "id": "1qNmAq7wBkkq",
      "execution_count": null,
      "outputs": []
    },
    {
      "cell_type": "code",
      "source": [
        "%sqlcmd tables"
      ],
      "metadata": {
        "id": "R1umXTubHTi2"
      },
      "id": "R1umXTubHTi2",
      "execution_count": null,
      "outputs": []
    },
    {
      "cell_type": "code",
      "source": [
        "%%sql\n",
        "\n",
        "SELECT *\n",
        "FROM feat$1gram$msgs$user_id\n",
        "ORDER BY RANDOM()\n",
        "LIMIT 5;"
      ],
      "metadata": {
        "id": "mP-Us2fM9m_p"
      },
      "id": "mP-Us2fM9m_p",
      "execution_count": null,
      "outputs": []
    },
    {
      "cell_type": "markdown",
      "source": [
        "Good! The world makes sense (I hope). If not, re-extract the 1gram features.\n",
        "\n",
        "```\n",
        "!dlatkInterface.py --corpdb {database} --corptable msgs --correl_field user_id --add_ngrams -n 1\n",
        "```"
      ],
      "metadata": {
        "id": "M1l9cdgq91pn"
      },
      "id": "M1l9cdgq91pn"
    },
    {
      "cell_type": "markdown",
      "source": [
        "## Questions"
      ],
      "metadata": {
        "id": "QyXz9Q3O-N_1"
      },
      "id": "QyXz9Q3O-N_1"
    },
    {
      "cell_type": "markdown",
      "id": "d20910c9",
      "metadata": {
        "id": "d20910c9"
      },
      "source": [
        "### 1) Now please extract all of `LIWC2015` for the users of the blog sample.\n",
        "\n",
        "When we say **extract**, we mean adding the dictionary feature table (similar to the 1gram feature table)."
      ]
    },
    {
      "cell_type": "code",
      "source": [],
      "metadata": {
        "id": "MLGURxF15-bK"
      },
      "id": "MLGURxF15-bK",
      "execution_count": null,
      "outputs": []
    },
    {
      "cell_type": "markdown",
      "id": "9981cfe7",
      "metadata": {
        "id": "9981cfe7"
      },
      "source": [
        "### 2) Which gender has a higher relative frequency of  `MONEY` words? (female = 1).\n",
        "\n",
        "Please do it the right way -- remember sparse encoding in feature tables (from last week)."
      ]
    },
    {
      "cell_type": "code",
      "source": [],
      "metadata": {
        "id": "_QJK3eGJ5-Qm"
      },
      "id": "_QJK3eGJ5-Qm",
      "execution_count": null,
      "outputs": []
    },
    {
      "cell_type": "markdown",
      "id": "cbcfa396",
      "metadata": {
        "id": "cbcfa396"
      },
      "source": [
        "### 3) (2pts) Get the 10 occupations that have the highest proportion of `POSEMO` to `NEGEMO` langauge\n",
        "\n",
        "  \\begin{equation}\n",
        "  \\frac{POSEMO}{NEGEMO}\n",
        "  \\end{equation}\n",
        "  \n",
        "As you may realize, you can do this in two possible ways, one involves new feature extraction in DLATK. both are OK. You only need to do one.\n",
        "\n",
        "But do write a sentence -- what would the other way have been?.\n",
        "\n",
        "This question has historically been the most tricky in this homework.\n",
        "\n",
        "**Hint:** you probably need intermediate tables. POSEMO and NEGEMO features are stored in different rows in a normal feature table and their group_norms cannot simply be divided by one another in one typical SQL command.\n",
        "\n",
        "Work slowly and step by step, looking at your outputs, etc.\n",
        "\n",
        "**Note:** Depending on how exactly you implement either way, the two answers may differ slighty! That's alright, they reflect different analytical choices (ideally you realize what these are)."
      ]
    },
    {
      "cell_type": "code",
      "source": [],
      "metadata": {
        "id": "qJXuau4s59vg"
      },
      "id": "qJXuau4s59vg",
      "execution_count": null,
      "outputs": []
    },
    {
      "cell_type": "markdown",
      "id": "38c55a09",
      "metadata": {
        "id": "38c55a09"
      },
      "source": [
        "### 4) Please pull out 10 random blog posts that contain `MONEY` words.  "
      ]
    },
    {
      "cell_type": "code",
      "source": [],
      "metadata": {
        "id": "WvDOzsIl59iu"
      },
      "id": "WvDOzsIl59iu",
      "execution_count": null,
      "outputs": []
    },
    {
      "cell_type": "markdown",
      "id": "80e53d4b",
      "metadata": {
        "id": "80e53d4b"
      },
      "source": [
        "### 5) For how many of the 10 random blogs does the first sentence in which the `MONEY` word appears actually convey the concept of money? Just give a count, no explanation needed for your annotations. We trust you."
      ]
    },
    {
      "cell_type": "code",
      "source": [],
      "metadata": {
        "id": "0mCGrB3S59WK"
      },
      "id": "0mCGrB3S59WK",
      "execution_count": null,
      "outputs": []
    },
    {
      "cell_type": "markdown",
      "id": "b8a7dcfa",
      "metadata": {
        "id": "b8a7dcfa"
      },
      "source": [
        "### 6) This number you just calculated by reading the blog posts, what is it called? Recall, precision, sensitivity, specificity, or something else?? Gah, it's so confusing."
      ]
    },
    {
      "cell_type": "code",
      "source": [],
      "metadata": {
        "id": "PoMjlOYN59NO"
      },
      "id": "PoMjlOYN59NO",
      "execution_count": null,
      "outputs": []
    },
    {
      "cell_type": "markdown",
      "id": "1e700c4c",
      "metadata": {
        "id": "1e700c4c"
      },
      "source": [
        "### 7) Using human language in the form of a sentence to respond:\n",
        "\n",
        "You run into an excited colleague in the lobby who just ran her first language analyses. She tells you that she just deployed LIWC to a 10% sample of Twitter to measure how everyone is doing around COVID. She found some striking results: the **INGESTION** dictionary is spiking, but the **RISK** dictionary is not moving away from baseline. She is writing up some very nuanced psychological interpretation about what this might mean, mentioning \"body envelope violations\" and \"game-theoretical accounts of uncertainty in light of violation of the assumptive world.\" What do you politely tell her? What follow up analysis do you suggest to her?"
      ]
    },
    {
      "cell_type": "code",
      "source": [],
      "metadata": {
        "id": "Tmp8Y36_589T"
      },
      "id": "Tmp8Y36_589T",
      "execution_count": null,
      "outputs": []
    },
    {
      "cell_type": "markdown",
      "id": "21493669",
      "metadata": {
        "id": "21493669"
      },
      "source": [
        "### 8) (2pts) Which are the 10 most frequent words within the LIWC BIO dictionary? What fraction of total dictionary occurrences do the sum of the occurrences of these 10 words account for?\n",
        "\n",
        "Do you think the top 3 are good \"biological processes\" words?\n",
        "\n",
        "We mean: which fraction of total dictionary occurrences do the **sum of occurrences of these 10 words** (and not individual words) account for?\n",
        "\n",
        "Note: you can ignore the fact that the BIO dictionary contains wildcards."
      ]
    },
    {
      "cell_type": "code",
      "source": [],
      "metadata": {
        "id": "LSuqAzlM58tB"
      },
      "id": "LSuqAzlM58tB",
      "execution_count": null,
      "outputs": []
    },
    {
      "cell_type": "markdown",
      "id": "21ff791c",
      "metadata": {
        "id": "21ff791c"
      },
      "source": [
        "### 9) (2 pts). During the message-level (`--correl_field message_id`) extraction, a new meta_table was produced. Using this meta-table, can you derive how long the average blog post (message) is, in terms of tokens?\n",
        "\n",
        "Looking into that table, two types of features in this table have the same values -- why is this? In the user-level meta feat tables, they are different.\n",
        "\n",
        "It might be helpful to view what tables you have right now in dla_tutorial!\n",
        "Like this:"
      ]
    },
    {
      "cell_type": "code",
      "execution_count": null,
      "id": "df34b78b",
      "metadata": {
        "id": "df34b78b"
      },
      "outputs": [],
      "source": [
        "%sql tutorial_db_engine\n",
        "\n",
        "tables = %sqlcmd tables\n",
        "print(tables)"
      ]
    },
    {
      "cell_type": "code",
      "source": [],
      "metadata": {
        "id": "2pwD6aHi58O4"
      },
      "id": "2pwD6aHi58O4",
      "execution_count": null,
      "outputs": []
    },
    {
      "cell_type": "markdown",
      "id": "fcef322b",
      "metadata": {
        "id": "fcef322b"
      },
      "source": [
        "### 10) Which age group generally uses the most POSEMO?\n",
        "\n",
        "First, please check how many users have at least 1 `POSEMO` word (i.e., show up in the feature table/merged table with `POSEMO` group_norms).\n",
        "\n",
        "Second, once you know that, please compute the average `POSEMO` for the age groups. It should be simpler now, somehow 💫✨.\n",
        "\n",
        "When you get the result -- are you surprised?"
      ]
    },
    {
      "cell_type": "markdown",
      "id": "908e3679",
      "metadata": {
        "id": "908e3679"
      },
      "source": [
        "**CLARIFICATION**: You can either do this by merging the user level features and the `blog_outcomes` table or you can extract features using DLATK grouped by `age`. Either one works."
      ]
    },
    {
      "cell_type": "code",
      "source": [],
      "metadata": {
        "id": "kHCi81ZB57Oi"
      },
      "id": "kHCi81ZB57Oi",
      "execution_count": null,
      "outputs": []
    },
    {
      "cell_type": "markdown",
      "source": [
        "## Save your database!"
      ],
      "metadata": {
        "id": "F_D_ZIAYJ-Xm"
      },
      "id": "F_D_ZIAYJ-Xm"
    },
    {
      "cell_type": "code",
      "source": [
        "database = \"dla_tutorial\""
      ],
      "metadata": {
        "id": "P6hAzamu4zIU"
      },
      "id": "P6hAzamu4zIU",
      "execution_count": null,
      "outputs": []
    },
    {
      "cell_type": "code",
      "source": [
        "# Mount Google Drive\n",
        "from google.colab import drive\n",
        "drive.mount('/content/drive', force_remount=True)\n",
        "\n",
        "# Copy the database file to your Drive\n",
        "!cp -f \"sqlite_data/{database}.db\" \"/content/drive/MyDrive/sqlite_databases/\"\n",
        "\n",
        "print(f\"✅ Database '{database}.db' has been copied to your Google Drive.\")"
      ],
      "metadata": {
        "id": "S5THemzcKAQT"
      },
      "id": "S5THemzcKAQT",
      "execution_count": null,
      "outputs": []
    }
  ],
  "metadata": {
    "kernelspec": {
      "display_name": "Python 3",
      "language": "python",
      "name": "python3"
    },
    "language_info": {
      "codemirror_mode": {
        "name": "ipython",
        "version": 3
      },
      "file_extension": ".py",
      "mimetype": "text/x-python",
      "name": "python",
      "nbconvert_exporter": "python",
      "pygments_lexer": "ipython3",
      "version": "3.8.8"
    },
    "colab": {
      "provenance": [],
      "toc_visible": true,
      "include_colab_link": true
    }
  },
  "nbformat": 4,
  "nbformat_minor": 5
}