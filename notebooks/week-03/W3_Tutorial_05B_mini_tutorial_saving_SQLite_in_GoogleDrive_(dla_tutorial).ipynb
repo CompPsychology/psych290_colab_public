{
  "nbformat": 4,
  "nbformat_minor": 0,
  "metadata": {
    "colab": {
      "provenance": [],
      "toc_visible": true,
      "include_colab_link": true
    },
    "kernelspec": {
      "name": "python3",
      "display_name": "Python 3"
    },
    "language_info": {
      "name": "python"
    }
  },
  "cells": [
    {
      "cell_type": "markdown",
      "metadata": {
        "id": "view-in-github",
        "colab_type": "text"
      },
      "source": [
        "<a href=\"https://colab.research.google.com/github/CompPsychology/psych290_colab_public/blob/main/notebooks/week-03/W3_Tutorial_05B_mini_tutorial_saving_SQLite_in_GoogleDrive_(dla_tutorial).ipynb\" target=\"_parent\"><img src=\"https://colab.research.google.com/assets/colab-badge.svg\" alt=\"Open In Colab\"/></a>"
      ]
    },
    {
      "cell_type": "markdown",
      "source": [
        "# W3 Tutorial 5b -- Mini Tutorial on databases with Google Drive (DB: dla_tutorial) (2025-03)\n",
        "\n",
        "(c) Johannes Eichstaedt, Samuel Campione & the World Well-Being Project, 2025.\n",
        "\n",
        "✋🏻✋🏻 NOTE - You need to create a copy of this notebook before you work through it. Click on \"Save a copy in Drive\" option in the File menu, and safe it to your Google Drive.\n",
        "\n",
        "✉️🐞 If you find a bug/something doesn't work, please slack us a screenshot, or email johannes.courses@gmail.com."
      ],
      "metadata": {
        "id": "6b7KX6N71MVw"
      }
    },
    {
      "cell_type": "markdown",
      "source": [
        "Up until now, we have been creating SQLite databases from scratch each time you run the `Setting up Colab` section. But this is not ideal if you're trying to save feature tables or other tables you may have been working with. (Some feature tables we work with take a long time to extract!)\n",
        "\n",
        "Soo, once you have a database you want to save, we can send a copy of it to your Google Drive. This way, next time you boot up colab you can load your database and get working right away! 🤩👌\n",
        "\n",
        "\n",
        "Here's the flow for copying your data to and from Google Drive:\n",
        "\n",
        "```\n",
        "1) Install DLATK\n",
        "2) Copy database from Google Drive OR insert CSV data into SQLite\n",
        "3) Setup database connection\n",
        "4) Your language analysis\n",
        "5) SAVE your database back to Google Drive\n",
        "\n",
        "```"
      ],
      "metadata": {
        "id": "J0dwkhiJ3K_C"
      }
    },
    {
      "cell_type": "markdown",
      "source": [
        "## 1) Setting up Colab with DLATK and SQLite"
      ],
      "metadata": {
        "id": "iDGNWX4i3Fvm"
      }
    },
    {
      "cell_type": "markdown",
      "source": [
        "### 1a) Install DLATK"
      ],
      "metadata": {
        "id": "HwZ7KPiJ6eXm"
      }
    },
    {
      "cell_type": "code",
      "source": [
        "# assign the database name\n",
        "database = \"dla_tutorial\""
      ],
      "metadata": {
        "id": "vVO16rQq6VJg"
      },
      "execution_count": null,
      "outputs": []
    },
    {
      "cell_type": "code",
      "source": [
        "# 1a) Install DLATK\n",
        "\n",
        "# installing DLATK and necessary packages\n",
        "!git clone -b psych290 https://github.com/dlatk/dlatk.git\n",
        "!pip install -r dlatk/install/requirements.txt\n",
        "!pip install dlatk/\n",
        "!pip install wordcloud langid jupysql"
      ],
      "metadata": {
        "id": "7VHFXMA53RfA"
      },
      "execution_count": null,
      "outputs": []
    },
    {
      "cell_type": "markdown",
      "source": [
        "### 1b) Copy your database into Colab"
      ],
      "metadata": {
        "id": "msByBz0Z6h99"
      }
    },
    {
      "cell_type": "markdown",
      "source": [
        "This is the part were we normally download a fresh copy of the data (in this case, the `dla_tutorial` data) and convert the CSVs to SQLite `.db` files.\n",
        "\n",
        "**At the end of Tutorial 5**, you ran a cell that saved your `dla_tutorial` database to your Google Drive in a folder called `sqlite_databases`.\n",
        "\n",
        "In the following cell, Google will ask you to allow this notebook to access your Drive--click yes and follow prompts to login and allow!"
      ],
      "metadata": {
        "id": "xQOdgt-96w1o"
      }
    },
    {
      "cell_type": "code",
      "source": [
        "# 1b) Mount Google Drive & copy database to Colab\n",
        "\n",
        "# connects & mounts your Google Drive to this colab space\n",
        "from google.colab import drive\n",
        "drive.mount('/content/drive', force_remount=True)\n",
        "\n",
        "# copies {database_name}.db to the sqlite_data folder in this Colab\n",
        "!cp \"/content/drive/MyDrive/sqlite_databases/{database}.db\" \"sqlite_data\"\n",
        "\n",
        "print(f\"Database {database} copied from Google Drive!\")"
      ],
      "metadata": {
        "colab": {
          "base_uri": "https://localhost:8080/"
        },
        "id": "rPkOl9688Y3Y",
        "outputId": "4ed17b73-1c0d-4532-e3d2-603eb5f44c7a"
      },
      "execution_count": null,
      "outputs": [
        {
          "output_type": "stream",
          "name": "stdout",
          "text": [
            "Mounted at /content/drive\n",
            "Database dla_tutorial copied from Google Drive!\n"
          ]
        }
      ]
    },
    {
      "cell_type": "markdown",
      "source": [
        "You should now see your `{database}.db` in the Colab `sqlite_data` folder on the left! 🥳"
      ],
      "metadata": {
        "id": "RoHLZyLUFb_l"
      }
    },
    {
      "cell_type": "markdown",
      "source": [
        "### Remember: if working with new data...\n",
        "💡💡 If you're working with new data (never been stored in Google Drive), you need to upload the data to the colab and turn it into a SQLite database (e.g., `new_data.db`). We can do this in R later! But for now here's a way.\n",
        "\n",
        "```\n",
        "import os\n",
        "from dlatk.tools.importmethods import csvToSQLite\n",
        "\n",
        "# define name of new database\n",
        "database = \"album\"\n",
        "\n",
        "# give the path to the database -- sqlite_data/[database].db\n",
        "database_path = os.path.join(\"sqlite_data\", database)\n",
        "\n",
        "# import CSVs into tables in this database\n",
        "csvToSQLite(\n",
        "    \"album/data/album.csv\",  # path to table csv    \n",
        "    database_path,   \n",
        "    \"album\"                  # new table name\n",
        ")\n",
        "\n",
        "csvToSQLite(\n",
        "    \"album/data/track.csv\",  # path to table csv\n",
        "    database_path,\n",
        "    \"track\"                  # new table name\n",
        ")\n",
        "```"
      ],
      "metadata": {
        "id": "UpFxxLFStJyW"
      }
    },
    {
      "cell_type": "markdown",
      "source": [
        "### 1c) Setup database connection"
      ],
      "metadata": {
        "id": "ooWZaSAjBNuM"
      }
    },
    {
      "cell_type": "code",
      "source": [
        "# 1c) Setup database connection\n",
        "\n",
        "# loads the %%sql extension\n",
        "%load_ext sql\n",
        "\n",
        "# connects the extension to the database file\n",
        "from sqlalchemy import create_engine\n",
        "tutorial_db_engine = create_engine(f\"sqlite:///sqlite_data/{database}.db?charset=utf8mb4\")\n",
        "\n",
        "# connect the extension to the database\n",
        "%sql tutorial_db_engine\n",
        "\n",
        "# set the output limit to 50\n",
        "%config SqlMagic.displaylimit = 50"
      ],
      "metadata": {
        "id": "f5saqZ6aBPCf"
      },
      "execution_count": null,
      "outputs": []
    },
    {
      "cell_type": "markdown",
      "source": [
        "And now you're setup! Let's check our tables.\n"
      ],
      "metadata": {
        "id": "5O37c34fB3KU"
      }
    },
    {
      "cell_type": "code",
      "source": [
        "res = %sqlcmd tables\n",
        "print(res)"
      ],
      "metadata": {
        "id": "MJjbKu38CEMx"
      },
      "execution_count": null,
      "outputs": []
    },
    {
      "cell_type": "markdown",
      "source": [
        "Yay, they're all still there! At this point, you would go about your language analysis."
      ],
      "metadata": {
        "id": "jixTrV2RCxFd"
      }
    },
    {
      "cell_type": "markdown",
      "source": [
        "## 2) Saving your database\n",
        "\n",
        "⚠️ ⚠️ Once you're done with your analysis and ready to close your Colab, **don't forget to save your database** back to Drive!"
      ],
      "metadata": {
        "id": "U3dQtXpADfvw"
      }
    },
    {
      "cell_type": "code",
      "source": [
        "database = \"dla_tutorial\" # you probably already ran this!"
      ],
      "metadata": {
        "id": "paWC5RIqEUjE"
      },
      "execution_count": null,
      "outputs": []
    },
    {
      "cell_type": "code",
      "source": [
        "# Save your database in Google Drive\n",
        "\n",
        "# mount Google Drive (if not already)\n",
        "from google.colab import drive\n",
        "drive.mount('/content/drive', force_remount=True)\n",
        "\n",
        "# if it's your first time, create a directory in your Drive for sqlite DBs\n",
        "import os\n",
        "!mkdir -p \"/content/drive/MyDrive/sqlite_databases\"\n",
        "\n",
        "# copy the database file to your Drive (-f force-writes over the old database with the changes)\n",
        "!cp -f \"sqlite_data/{database}.db\" \"/content/drive/MyDrive/sqlite_databases/\"\n",
        "\n",
        "# print a message to confirm it's done\n",
        "print(f\"Database {database} has been copied to your Google Drive with success!\")"
      ],
      "metadata": {
        "id": "jnE0OxRFDkri"
      },
      "execution_count": null,
      "outputs": []
    },
    {
      "cell_type": "markdown",
      "source": [
        "We can check to make sure it's there by running this."
      ],
      "metadata": {
        "id": "gYCfzYklF7la"
      }
    },
    {
      "cell_type": "code",
      "source": [
        "!ls -lh \"/content/drive/MyDrive/sqlite_databases\""
      ],
      "metadata": {
        "id": "j6VDg0rvGAP7"
      },
      "execution_count": null,
      "outputs": []
    },
    {
      "cell_type": "markdown",
      "source": [
        "Now, the next homework! 😎"
      ],
      "metadata": {
        "id": "IJ53snqCplK3"
      }
    }
  ]
}