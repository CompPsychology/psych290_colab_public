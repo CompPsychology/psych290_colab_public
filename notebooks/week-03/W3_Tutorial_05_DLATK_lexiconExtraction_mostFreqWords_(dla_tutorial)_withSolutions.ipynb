{
  "cells": [
    {
      "cell_type": "markdown",
      "metadata": {
        "id": "view-in-github",
        "colab_type": "text"
      },
      "source": [
        "<a href=\"https://colab.research.google.com/github/CompPsychology/psych290_colab_public/blob/main/notebooks/week-03/W3_Tutorial_05_DLATK_lexiconExtraction_mostFreqWords_(dla_tutorial)_withSolutions.ipynb\" target=\"_parent\"><img src=\"https://colab.research.google.com/assets/colab-badge.svg\" alt=\"Open In Colab\"/></a>"
      ]
    },
    {
      "cell_type": "markdown",
      "metadata": {
        "id": "T51xSd8noO1Z"
      },
      "source": [
        "# W3 Tutorial 5 -- Lexicon tables & feature extraction (DB: dla_tutorial) (2025-03)\n",
        "\n",
        "(c) Johannes Eichstaedt & the World Well-Being Project, 2023.\n",
        "\n",
        "✋🏻✋🏻 NOTE - You need to create a copy of this notebook before you work through it. Click on \"Save a copy in Drive\" option in the File menu, and safe it to your Google Drive.\n",
        "\n",
        "✉️🐞 If you find a bug/something doesn't work, please slack us a screenshot, or email johannes.courses@gmail.com."
      ]
    },
    {
      "cell_type": "markdown",
      "source": [
        "## 1) Setting up Colab with DLATK and SQLite\n",
        "\n",
        "If colab asks you about this not being authored by Google, say \"Run anyway.\""
      ],
      "metadata": {
        "id": "3ywzkuSISLDv"
      }
    },
    {
      "cell_type": "markdown",
      "source": [
        "### 1a to 1c) Streamlined: Setting up Colab with DLATK and your data"
      ],
      "metadata": {
        "id": "Ybc1hfhQTOtu"
      }
    },
    {
      "cell_type": "code",
      "source": [
        "# assigning the database name\n",
        "database = \"dla_tutorial\""
      ],
      "metadata": {
        "id": "PUOpupo9vIWI"
      },
      "execution_count": null,
      "outputs": []
    },
    {
      "cell_type": "code",
      "source": [
        "########### 1a) Install\n",
        "\n",
        "# installing DLATK and necessary packages\n",
        "!git clone -b psych290 https://github.com/dlatk/dlatk.git\n",
        "!pip install -r dlatk/install/requirements.txt\n",
        "!pip install dlatk/\n",
        "!pip install wordcloud langid jupysql\n",
        "\n",
        "########### 1b) Download data and insert into SQLite database\n",
        "\n",
        "# this download the csvs we need for this tutorial\n",
        "!git clone https://github.com/CompPsychology/psych290_data.git\n",
        "\n",
        "# load the required package -- similar to library() function in R\n",
        "import os\n",
        "from dlatk.tools.importmethods import csvToSQLite\n",
        "\n",
        "# store the complete path to the database -- sqlite_data/[database_name].db\n",
        "database_path = os.path.join(\"sqlite_data\", database)\n",
        "\n",
        "msgs = \"psych290_data/dla_tutorial/msgs.csv\"\n",
        "csvToSQLite(msgs, database_path, \"msgs\")\n",
        "\n",
        "outcomes = \"psych290_data/dla_tutorial/blog_outcomes.csv\"\n",
        "csvToSQLite(outcomes, database_path, \"outcomes\")\n",
        "\n",
        "############# 1c) Setup database connection\n",
        "\n",
        "# loads the %%sql extension\n",
        "%load_ext sql\n",
        "\n",
        "# connects the extension to the database\n",
        "from sqlalchemy import create_engine\n",
        "tutorial_db_engine =  create_engine(f\"sqlite:///sqlite_data/{database}.db?charset=utf8mb4\")\n",
        "%sql tutorial_db_engine\n",
        "\n",
        "# set the output limit to 50\n",
        "%config SqlMagic.displaylimit = 50\n",
        "\n",
        "## PRINT FINISHED\n",
        "print(\" ******* LOAD FINISHED ¯\\_(ツ)_/ *******\")"
      ],
      "metadata": {
        "id": "2Wdsn3m1os6D",
        "outputId": "80c2bf78-0f59-4537-aae3-2456d7d33b52",
        "colab": {
          "base_uri": "https://localhost:8080/"
        }
      },
      "execution_count": null,
      "outputs": [
        {
          "output_type": "stream",
          "name": "stdout",
          "text": [
            "Cloning into 'dlatk'...\n",
            "remote: Enumerating objects: 6991, done.\u001b[K\n",
            "remote: Counting objects: 100% (1076/1076), done.\u001b[K\n",
            "remote: Compressing objects: 100% (149/149), done.\u001b[K\n",
            "remote: Total 6991 (delta 994), reused 935 (delta 927), pack-reused 5915 (from 1)\u001b[K\n",
            "Receiving objects: 100% (6991/6991), 62.38 MiB | 5.70 MiB/s, done.\n",
            "Resolving deltas: 100% (4947/4947), done.\n",
            "Collecting image<=1.5.33 (from -r dlatk/install/requirements.txt (line 1))\n",
            "  Downloading image-1.5.33.tar.gz (15 kB)\n",
            "  Preparing metadata (setup.py) ... \u001b[?25l\u001b[?25hdone\n",
            "Collecting langid<=1.1.6,>=1.1.4 (from -r dlatk/install/requirements.txt (line 2))\n",
            "  Downloading langid-1.1.6.tar.gz (1.9 MB)\n",
            "\u001b[2K     \u001b[90m━━━━━━━━━━━━━━━━━━━━━━━━━━━━━━━━━━━━━━━━\u001b[0m \u001b[32m1.9/1.9 MB\u001b[0m \u001b[31m17.2 MB/s\u001b[0m eta \u001b[36m0:00:00\u001b[0m\n",
            "\u001b[?25h  Preparing metadata (setup.py) ... \u001b[?25l\u001b[?25hdone\n",
            "Requirement already satisfied: matplotlib<=3.10.0,>=1.3.1 in /usr/local/lib/python3.11/dist-packages (from -r dlatk/install/requirements.txt (line 3)) (3.10.0)\n",
            "Collecting mysqlclient<=2.1.1 (from -r dlatk/install/requirements.txt (line 4))\n",
            "  Downloading mysqlclient-2.1.1.tar.gz (88 kB)\n",
            "\u001b[2K     \u001b[90m━━━━━━━━━━━━━━━━━━━━━━━━━━━━━━━━━━━━━━━━\u001b[0m \u001b[32m88.1/88.1 kB\u001b[0m \u001b[31m5.5 MB/s\u001b[0m eta \u001b[36m0:00:00\u001b[0m\n",
            "\u001b[?25h  Preparing metadata (setup.py) ... \u001b[?25l\u001b[?25hdone\n",
            "Requirement already satisfied: nltk<=3.9.1,>=3.1 in /usr/local/lib/python3.11/dist-packages (from -r dlatk/install/requirements.txt (line 5)) (3.9.1)\n",
            "Requirement already satisfied: numpy<=2.0.2 in /usr/local/lib/python3.11/dist-packages (from -r dlatk/install/requirements.txt (line 6)) (2.0.2)\n",
            "Requirement already satisfied: pandas<=2.2.2,>=0.17.1 in /usr/local/lib/python3.11/dist-packages (from -r dlatk/install/requirements.txt (line 7)) (2.2.2)\n",
            "Requirement already satisfied: patsy<=1.0.1,>=0.2.1 in /usr/local/lib/python3.11/dist-packages (from -r dlatk/install/requirements.txt (line 8)) (1.0.1)\n",
            "Requirement already satisfied: python-dateutil<=2.8.2,>=2.5.0 in /usr/local/lib/python3.11/dist-packages (from -r dlatk/install/requirements.txt (line 9)) (2.8.2)\n",
            "Requirement already satisfied: rpy2<=3.5.17 in /usr/local/lib/python3.11/dist-packages (from -r dlatk/install/requirements.txt (line 10)) (3.5.17)\n",
            "Requirement already satisfied: scikit-learn<=1.6.1 in /usr/local/lib/python3.11/dist-packages (from -r dlatk/install/requirements.txt (line 11)) (1.6.1)\n",
            "Requirement already satisfied: scipy<=1.14.1,>=0.13.3 in /usr/local/lib/python3.11/dist-packages (from -r dlatk/install/requirements.txt (line 12)) (1.14.1)\n",
            "Collecting SQLAlchemy<=2.0.39,>=0.9.9 (from -r dlatk/install/requirements.txt (line 13))\n",
            "  Downloading sqlalchemy-2.0.39-cp311-cp311-manylinux_2_17_x86_64.manylinux2014_x86_64.whl.metadata (9.6 kB)\n",
            "Requirement already satisfied: statsmodels<=0.14.4,>=0.5.0 in /usr/local/lib/python3.11/dist-packages (from -r dlatk/install/requirements.txt (line 14)) (0.14.4)\n",
            "Requirement already satisfied: wordcloud<=1.9.4,>=1.1.3 in /usr/local/lib/python3.11/dist-packages (from -r dlatk/install/requirements.txt (line 15)) (1.9.4)\n",
            "Requirement already satisfied: pillow in /usr/local/lib/python3.11/dist-packages (from image<=1.5.33->-r dlatk/install/requirements.txt (line 1)) (11.1.0)\n",
            "Collecting django (from image<=1.5.33->-r dlatk/install/requirements.txt (line 1))\n",
            "  Downloading Django-5.2-py3-none-any.whl.metadata (4.1 kB)\n",
            "Requirement already satisfied: six in /usr/local/lib/python3.11/dist-packages (from image<=1.5.33->-r dlatk/install/requirements.txt (line 1)) (1.17.0)\n",
            "Requirement already satisfied: contourpy>=1.0.1 in /usr/local/lib/python3.11/dist-packages (from matplotlib<=3.10.0,>=1.3.1->-r dlatk/install/requirements.txt (line 3)) (1.3.1)\n",
            "Requirement already satisfied: cycler>=0.10 in /usr/local/lib/python3.11/dist-packages (from matplotlib<=3.10.0,>=1.3.1->-r dlatk/install/requirements.txt (line 3)) (0.12.1)\n",
            "Requirement already satisfied: fonttools>=4.22.0 in /usr/local/lib/python3.11/dist-packages (from matplotlib<=3.10.0,>=1.3.1->-r dlatk/install/requirements.txt (line 3)) (4.57.0)\n",
            "Requirement already satisfied: kiwisolver>=1.3.1 in /usr/local/lib/python3.11/dist-packages (from matplotlib<=3.10.0,>=1.3.1->-r dlatk/install/requirements.txt (line 3)) (1.4.8)\n",
            "Requirement already satisfied: packaging>=20.0 in /usr/local/lib/python3.11/dist-packages (from matplotlib<=3.10.0,>=1.3.1->-r dlatk/install/requirements.txt (line 3)) (24.2)\n",
            "Requirement already satisfied: pyparsing>=2.3.1 in /usr/local/lib/python3.11/dist-packages (from matplotlib<=3.10.0,>=1.3.1->-r dlatk/install/requirements.txt (line 3)) (3.2.3)\n",
            "Requirement already satisfied: click in /usr/local/lib/python3.11/dist-packages (from nltk<=3.9.1,>=3.1->-r dlatk/install/requirements.txt (line 5)) (8.1.8)\n",
            "Requirement already satisfied: joblib in /usr/local/lib/python3.11/dist-packages (from nltk<=3.9.1,>=3.1->-r dlatk/install/requirements.txt (line 5)) (1.4.2)\n",
            "Requirement already satisfied: regex>=2021.8.3 in /usr/local/lib/python3.11/dist-packages (from nltk<=3.9.1,>=3.1->-r dlatk/install/requirements.txt (line 5)) (2024.11.6)\n",
            "Requirement already satisfied: tqdm in /usr/local/lib/python3.11/dist-packages (from nltk<=3.9.1,>=3.1->-r dlatk/install/requirements.txt (line 5)) (4.67.1)\n",
            "Requirement already satisfied: pytz>=2020.1 in /usr/local/lib/python3.11/dist-packages (from pandas<=2.2.2,>=0.17.1->-r dlatk/install/requirements.txt (line 7)) (2025.2)\n",
            "Requirement already satisfied: tzdata>=2022.7 in /usr/local/lib/python3.11/dist-packages (from pandas<=2.2.2,>=0.17.1->-r dlatk/install/requirements.txt (line 7)) (2025.2)\n",
            "Requirement already satisfied: cffi>=1.15.1 in /usr/local/lib/python3.11/dist-packages (from rpy2<=3.5.17->-r dlatk/install/requirements.txt (line 10)) (1.17.1)\n",
            "Requirement already satisfied: jinja2 in /usr/local/lib/python3.11/dist-packages (from rpy2<=3.5.17->-r dlatk/install/requirements.txt (line 10)) (3.1.6)\n",
            "Requirement already satisfied: tzlocal in /usr/local/lib/python3.11/dist-packages (from rpy2<=3.5.17->-r dlatk/install/requirements.txt (line 10)) (5.3.1)\n",
            "Requirement already satisfied: threadpoolctl>=3.1.0 in /usr/local/lib/python3.11/dist-packages (from scikit-learn<=1.6.1->-r dlatk/install/requirements.txt (line 11)) (3.6.0)\n",
            "Requirement already satisfied: greenlet!=0.4.17 in /usr/local/lib/python3.11/dist-packages (from SQLAlchemy<=2.0.39,>=0.9.9->-r dlatk/install/requirements.txt (line 13)) (3.1.1)\n",
            "Requirement already satisfied: typing-extensions>=4.6.0 in /usr/local/lib/python3.11/dist-packages (from SQLAlchemy<=2.0.39,>=0.9.9->-r dlatk/install/requirements.txt (line 13)) (4.13.1)\n",
            "Requirement already satisfied: pycparser in /usr/local/lib/python3.11/dist-packages (from cffi>=1.15.1->rpy2<=3.5.17->-r dlatk/install/requirements.txt (line 10)) (2.22)\n",
            "Collecting asgiref>=3.8.1 (from django->image<=1.5.33->-r dlatk/install/requirements.txt (line 1))\n",
            "  Downloading asgiref-3.8.1-py3-none-any.whl.metadata (9.3 kB)\n",
            "Requirement already satisfied: sqlparse>=0.3.1 in /usr/local/lib/python3.11/dist-packages (from django->image<=1.5.33->-r dlatk/install/requirements.txt (line 1)) (0.5.3)\n",
            "Requirement already satisfied: MarkupSafe>=2.0 in /usr/local/lib/python3.11/dist-packages (from jinja2->rpy2<=3.5.17->-r dlatk/install/requirements.txt (line 10)) (3.0.2)\n",
            "Downloading sqlalchemy-2.0.39-cp311-cp311-manylinux_2_17_x86_64.manylinux2014_x86_64.whl (3.2 MB)\n",
            "\u001b[2K   \u001b[90m━━━━━━━━━━━━━━━━━━━━━━━━━━━━━━━━━━━━━━━━\u001b[0m \u001b[32m3.2/3.2 MB\u001b[0m \u001b[31m23.0 MB/s\u001b[0m eta \u001b[36m0:00:00\u001b[0m\n",
            "\u001b[?25hDownloading Django-5.2-py3-none-any.whl (8.3 MB)\n",
            "\u001b[2K   \u001b[90m━━━━━━━━━━━━━━━━━━━━━━━━━━━━━━━━━━━━━━━━\u001b[0m \u001b[32m8.3/8.3 MB\u001b[0m \u001b[31m27.6 MB/s\u001b[0m eta \u001b[36m0:00:00\u001b[0m\n",
            "\u001b[?25hDownloading asgiref-3.8.1-py3-none-any.whl (23 kB)\n",
            "Building wheels for collected packages: image, langid, mysqlclient\n",
            "  Building wheel for image (setup.py) ... \u001b[?25l\u001b[?25hdone\n",
            "  Created wheel for image: filename=image-1.5.33-py2.py3-none-any.whl size=19482 sha256=dd4d5b12de9e4c82d5e2927a3bd8b8689be6292850d76a0c9dff47aaa55dfa5e\n",
            "  Stored in directory: /root/.cache/pip/wheels/62/40/4f/3c9a8d0f22a1a6f966975a460e5cb509a1e7dc42e2ce5d9a6d\n",
            "  Building wheel for langid (setup.py) ... \u001b[?25l\u001b[?25hdone\n",
            "  Created wheel for langid: filename=langid-1.1.6-py3-none-any.whl size=1941171 sha256=b62666f757c9dd7cd6adb5408e5399d52fa48d7542113d59ce4d5b1f9bbe4207\n",
            "  Stored in directory: /root/.cache/pip/wheels/32/6a/b6/b7eb43a6ad55b139c15c5daa29f3707659cfa6944d3c696f5b\n",
            "  Building wheel for mysqlclient (setup.py) ... \u001b[?25l\u001b[?25hdone\n",
            "  Created wheel for mysqlclient: filename=mysqlclient-2.1.1-cp311-cp311-linux_x86_64.whl size=106438 sha256=131883dd8f2129a451f9bb0da93030f1caa3763e7e9abe8f0c1478638d46278d\n",
            "  Stored in directory: /root/.cache/pip/wheels/19/44/b2/cdf313664c12c8b11f88afd90079823c63369ab9135fc79185\n",
            "Successfully built image langid mysqlclient\n",
            "Installing collected packages: SQLAlchemy, mysqlclient, langid, asgiref, django, image\n",
            "  Attempting uninstall: SQLAlchemy\n",
            "    Found existing installation: SQLAlchemy 2.0.40\n",
            "    Uninstalling SQLAlchemy-2.0.40:\n",
            "      Successfully uninstalled SQLAlchemy-2.0.40\n",
            "Successfully installed SQLAlchemy-2.0.39 asgiref-3.8.1 django-5.2 image-1.5.33 langid-1.1.6 mysqlclient-2.1.1\n",
            "Processing ./dlatk\n",
            "  Preparing metadata (setup.py) ... \u001b[?25l\u001b[?25hdone\n",
            "Requirement already satisfied: nltk<=3.9.1,>=3.1 in /usr/local/lib/python3.11/dist-packages (from dlatk==1.3.1) (3.9.1)\n",
            "Requirement already satisfied: numpy<=2.0.2 in /usr/local/lib/python3.11/dist-packages (from dlatk==1.3.1) (2.0.2)\n",
            "Requirement already satisfied: pandas<=2.2.2,>=0.17.1 in /usr/local/lib/python3.11/dist-packages (from dlatk==1.3.1) (2.2.2)\n",
            "Requirement already satisfied: patsy<=1.0.1,>=0.2.1 in /usr/local/lib/python3.11/dist-packages (from dlatk==1.3.1) (1.0.1)\n",
            "Requirement already satisfied: python-dateutil<=2.8.2,>=2.5.0 in /usr/local/lib/python3.11/dist-packages (from dlatk==1.3.1) (2.8.2)\n",
            "Requirement already satisfied: scikit-learn<=1.6.1 in /usr/local/lib/python3.11/dist-packages (from dlatk==1.3.1) (1.6.1)\n",
            "Requirement already satisfied: scipy<=1.14.1,>=0.13.3 in /usr/local/lib/python3.11/dist-packages (from dlatk==1.3.1) (1.14.1)\n",
            "Requirement already satisfied: statsmodels<=0.14.4,>=0.5.0 in /usr/local/lib/python3.11/dist-packages (from dlatk==1.3.1) (0.14.4)\n",
            "Requirement already satisfied: click in /usr/local/lib/python3.11/dist-packages (from nltk<=3.9.1,>=3.1->dlatk==1.3.1) (8.1.8)\n",
            "Requirement already satisfied: joblib in /usr/local/lib/python3.11/dist-packages (from nltk<=3.9.1,>=3.1->dlatk==1.3.1) (1.4.2)\n",
            "Requirement already satisfied: regex>=2021.8.3 in /usr/local/lib/python3.11/dist-packages (from nltk<=3.9.1,>=3.1->dlatk==1.3.1) (2024.11.6)\n",
            "Requirement already satisfied: tqdm in /usr/local/lib/python3.11/dist-packages (from nltk<=3.9.1,>=3.1->dlatk==1.3.1) (4.67.1)\n",
            "Requirement already satisfied: pytz>=2020.1 in /usr/local/lib/python3.11/dist-packages (from pandas<=2.2.2,>=0.17.1->dlatk==1.3.1) (2025.2)\n",
            "Requirement already satisfied: tzdata>=2022.7 in /usr/local/lib/python3.11/dist-packages (from pandas<=2.2.2,>=0.17.1->dlatk==1.3.1) (2025.2)\n",
            "Requirement already satisfied: six>=1.5 in /usr/local/lib/python3.11/dist-packages (from python-dateutil<=2.8.2,>=2.5.0->dlatk==1.3.1) (1.17.0)\n",
            "Requirement already satisfied: threadpoolctl>=3.1.0 in /usr/local/lib/python3.11/dist-packages (from scikit-learn<=1.6.1->dlatk==1.3.1) (3.6.0)\n",
            "Requirement already satisfied: packaging>=21.3 in /usr/local/lib/python3.11/dist-packages (from statsmodels<=0.14.4,>=0.5.0->dlatk==1.3.1) (24.2)\n",
            "Building wheels for collected packages: dlatk\n",
            "  Building wheel for dlatk (setup.py) ... \u001b[?25l\u001b[?25hdone\n",
            "  Created wheel for dlatk: filename=dlatk-1.3.1-py3-none-any.whl size=35635918 sha256=aa0d78e58b8b7c5eb076691223568cfbece9ce3a8ad1c75666d45feeed97cc5f\n",
            "  Stored in directory: /tmp/pip-ephem-wheel-cache-ejp3gn8g/wheels/cc/c9/65/e1ecc64bac68518c07b286fe86921aa938e11a0c3a87d8ff93\n",
            "Successfully built dlatk\n",
            "Installing collected packages: dlatk\n",
            "Successfully installed dlatk-1.3.1\n",
            "Requirement already satisfied: wordcloud in /usr/local/lib/python3.11/dist-packages (1.9.4)\n",
            "Requirement already satisfied: langid in /usr/local/lib/python3.11/dist-packages (1.1.6)\n",
            "Collecting jupysql\n",
            "  Downloading jupysql-0.11.1-py3-none-any.whl.metadata (5.9 kB)\n",
            "Requirement already satisfied: numpy>=1.6.1 in /usr/local/lib/python3.11/dist-packages (from wordcloud) (2.0.2)\n",
            "Requirement already satisfied: pillow in /usr/local/lib/python3.11/dist-packages (from wordcloud) (11.1.0)\n",
            "Requirement already satisfied: matplotlib in /usr/local/lib/python3.11/dist-packages (from wordcloud) (3.10.0)\n",
            "Requirement already satisfied: prettytable>=3.12.0 in /usr/local/lib/python3.11/dist-packages (from jupysql) (3.16.0)\n",
            "Requirement already satisfied: sqlalchemy in /usr/local/lib/python3.11/dist-packages (from jupysql) (2.0.39)\n",
            "Requirement already satisfied: sqlparse in /usr/local/lib/python3.11/dist-packages (from jupysql) (0.5.3)\n",
            "Requirement already satisfied: ipython-genutils>=0.1.0 in /usr/local/lib/python3.11/dist-packages (from jupysql) (0.2.0)\n",
            "Requirement already satisfied: jinja2 in /usr/local/lib/python3.11/dist-packages (from jupysql) (3.1.6)\n",
            "Requirement already satisfied: sqlglot>=11.3.7 in /usr/local/lib/python3.11/dist-packages (from jupysql) (25.20.2)\n",
            "Collecting jupysql-plugin>=0.4.2 (from jupysql)\n",
            "  Downloading jupysql_plugin-0.4.5-py3-none-any.whl.metadata (7.8 kB)\n",
            "Collecting ploomber-core>=0.2.7 (from jupysql)\n",
            "  Downloading ploomber_core-0.2.26-py3-none-any.whl.metadata (527 bytes)\n",
            "Requirement already satisfied: pyyaml in /usr/local/lib/python3.11/dist-packages (from ploomber-core>=0.2.7->jupysql) (6.0.2)\n",
            "Collecting posthog (from ploomber-core>=0.2.7->jupysql)\n",
            "  Downloading posthog-3.25.0-py2.py3-none-any.whl.metadata (3.0 kB)\n",
            "Requirement already satisfied: wcwidth in /usr/local/lib/python3.11/dist-packages (from prettytable>=3.12.0->jupysql) (0.2.13)\n",
            "Requirement already satisfied: MarkupSafe>=2.0 in /usr/local/lib/python3.11/dist-packages (from jinja2->jupysql) (3.0.2)\n",
            "Requirement already satisfied: contourpy>=1.0.1 in /usr/local/lib/python3.11/dist-packages (from matplotlib->wordcloud) (1.3.1)\n",
            "Requirement already satisfied: cycler>=0.10 in /usr/local/lib/python3.11/dist-packages (from matplotlib->wordcloud) (0.12.1)\n",
            "Requirement already satisfied: fonttools>=4.22.0 in /usr/local/lib/python3.11/dist-packages (from matplotlib->wordcloud) (4.57.0)\n",
            "Requirement already satisfied: kiwisolver>=1.3.1 in /usr/local/lib/python3.11/dist-packages (from matplotlib->wordcloud) (1.4.8)\n",
            "Requirement already satisfied: packaging>=20.0 in /usr/local/lib/python3.11/dist-packages (from matplotlib->wordcloud) (24.2)\n",
            "Requirement already satisfied: pyparsing>=2.3.1 in /usr/local/lib/python3.11/dist-packages (from matplotlib->wordcloud) (3.2.3)\n",
            "Requirement already satisfied: python-dateutil>=2.7 in /usr/local/lib/python3.11/dist-packages (from matplotlib->wordcloud) (2.8.2)\n",
            "Requirement already satisfied: greenlet!=0.4.17 in /usr/local/lib/python3.11/dist-packages (from sqlalchemy->jupysql) (3.1.1)\n",
            "Requirement already satisfied: typing-extensions>=4.6.0 in /usr/local/lib/python3.11/dist-packages (from sqlalchemy->jupysql) (4.13.1)\n",
            "Requirement already satisfied: six>=1.5 in /usr/local/lib/python3.11/dist-packages (from python-dateutil>=2.7->matplotlib->wordcloud) (1.17.0)\n",
            "Requirement already satisfied: requests<3.0,>=2.7 in /usr/local/lib/python3.11/dist-packages (from posthog->ploomber-core>=0.2.7->jupysql) (2.32.3)\n",
            "Collecting monotonic>=1.5 (from posthog->ploomber-core>=0.2.7->jupysql)\n",
            "  Downloading monotonic-1.6-py2.py3-none-any.whl.metadata (1.5 kB)\n",
            "Collecting backoff>=1.10.0 (from posthog->ploomber-core>=0.2.7->jupysql)\n",
            "  Downloading backoff-2.2.1-py3-none-any.whl.metadata (14 kB)\n",
            "Requirement already satisfied: distro>=1.5.0 in /usr/local/lib/python3.11/dist-packages (from posthog->ploomber-core>=0.2.7->jupysql) (1.9.0)\n",
            "Requirement already satisfied: charset-normalizer<4,>=2 in /usr/local/lib/python3.11/dist-packages (from requests<3.0,>=2.7->posthog->ploomber-core>=0.2.7->jupysql) (3.4.1)\n",
            "Requirement already satisfied: idna<4,>=2.5 in /usr/local/lib/python3.11/dist-packages (from requests<3.0,>=2.7->posthog->ploomber-core>=0.2.7->jupysql) (3.10)\n",
            "Requirement already satisfied: urllib3<3,>=1.21.1 in /usr/local/lib/python3.11/dist-packages (from requests<3.0,>=2.7->posthog->ploomber-core>=0.2.7->jupysql) (2.3.0)\n",
            "Requirement already satisfied: certifi>=2017.4.17 in /usr/local/lib/python3.11/dist-packages (from requests<3.0,>=2.7->posthog->ploomber-core>=0.2.7->jupysql) (2025.1.31)\n",
            "Downloading jupysql-0.11.1-py3-none-any.whl (95 kB)\n",
            "\u001b[2K   \u001b[90m━━━━━━━━━━━━━━━━━━━━━━━━━━━━━━━━━━━━━━━━\u001b[0m \u001b[32m95.1/95.1 kB\u001b[0m \u001b[31m3.5 MB/s\u001b[0m eta \u001b[36m0:00:00\u001b[0m\n",
            "\u001b[?25hDownloading jupysql_plugin-0.4.5-py3-none-any.whl (192 kB)\n",
            "\u001b[2K   \u001b[90m━━━━━━━━━━━━━━━━━━━━━━━━━━━━━━━━━━━━━━━━\u001b[0m \u001b[32m192.8/192.8 kB\u001b[0m \u001b[31m8.1 MB/s\u001b[0m eta \u001b[36m0:00:00\u001b[0m\n",
            "\u001b[?25hDownloading ploomber_core-0.2.26-py3-none-any.whl (22 kB)\n",
            "Downloading posthog-3.25.0-py2.py3-none-any.whl (89 kB)\n",
            "\u001b[2K   \u001b[90m━━━━━━━━━━━━━━━━━━━━━━━━━━━━━━━━━━━━━━━━\u001b[0m \u001b[32m89.1/89.1 kB\u001b[0m \u001b[31m6.9 MB/s\u001b[0m eta \u001b[36m0:00:00\u001b[0m\n",
            "\u001b[?25hDownloading backoff-2.2.1-py3-none-any.whl (15 kB)\n",
            "Downloading monotonic-1.6-py2.py3-none-any.whl (8.2 kB)\n",
            "Installing collected packages: monotonic, backoff, posthog, ploomber-core, jupysql-plugin, jupysql\n",
            "Successfully installed backoff-2.2.1 jupysql-0.11.1 jupysql-plugin-0.4.5 monotonic-1.6 ploomber-core-0.2.26 posthog-3.25.0\n",
            "Cloning into 'psych290_data'...\n",
            "remote: Enumerating objects: 11, done.\u001b[K\n",
            "remote: Counting objects: 100% (11/11), done.\u001b[K\n",
            "remote: Compressing objects: 100% (9/9), done.\u001b[K\n",
            "remote: Total 11 (delta 0), reused 8 (delta 0), pack-reused 0 (from 0)\u001b[K\n",
            "Receiving objects: 100% (11/11), 13.84 MiB | 12.70 MiB/s, done.\n"
          ]
        },
        {
          "output_type": "stream",
          "name": "stderr",
          "text": [
            "SQL Query: CREATE TABLE msgs (message_id INT, user_id INT, date VARCHAR(31), created_time VARCHAR(31), message LONGTEXT);\n"
          ]
        },
        {
          "output_type": "stream",
          "name": "stdout",
          "text": [
            "Importing data, reading psych290_data/dla_tutorial/msgs.csv file\n",
            "Reading 10000 rows into the table...\n",
            "Reading 10000 rows into the table...\n",
            "Reading 10000 rows into the table...\n",
            "Reading remaining 1674 rows into the table...\n"
          ]
        },
        {
          "output_type": "stream",
          "name": "stderr",
          "text": [
            "SQL Query: CREATE TABLE outcomes (user_id INT, gender INT, age INT, occu VARCHAR(31), sign VARCHAR(15), is_indunk INT, is_student VARCHAR(7), is_education VARCHAR(7), is_technology VARCHAR(7));\n"
          ]
        },
        {
          "output_type": "stream",
          "name": "stdout",
          "text": [
            "Importing data, reading psych290_data/dla_tutorial/blog_outcomes.csv file\n",
            "Reading remaining 1000 rows into the table...\n",
            " ******* LOAD FINISHED ¯\\_(ツ)_/ *******\n"
          ]
        }
      ]
    },
    {
      "cell_type": "markdown",
      "source": [
        "### 1d) Get **`dlatk_lexica.db`** in your Google Drive!\n"
      ],
      "metadata": {
        "id": "xrkx_SLVWvbd"
      }
    },
    {
      "cell_type": "markdown",
      "source": [
        "Some dictionaries are not stored in the GitHub download of DLATK because they are not publically shared.\n",
        "\n",
        "So, you'll have to upload a database with it to Colab when you want to work with it. We can store it in your Google Drive and access it easily.\n",
        "\n",
        "**Follow these steps** 📋 (*only need to do this once!*)\n",
        "\n",
        "1.  In your Google Drive make a folder called `sqlite_databases`\n",
        "2.  Open [this shared folder](https://drive.google.com/drive/folders/1nxX0Qf6vd1hnNX9ywqwVsvNLoYWo62zA). Please feel free to request access.\n",
        "3.  Make a copy of `dlatk_lexica.db` and put it in `sqlite_databases` in your Google Drive, so `MyDrive\\sqlite_databases`.\n",
        "\n",
        "\n",
        "⚠️ Make sure the file is `dlatk_lexica.db` and stored in `sqlite_databases` -- that's where the code below expects it."
      ],
      "metadata": {
        "id": "cVh4cXfFszPd"
      }
    },
    {
      "cell_type": "markdown",
      "source": [
        "### 1e) Mount Google Drive & configure the database in SQLite\n",
        "\n",
        "Now that you have the right copy of dlatk_lexica.db stored in your Google Drive, let's connect your Drive to this Colab!\n",
        "\n",
        "Google will ask you to allow this notebook to access your Drive--click yes and follow prompts to login and allow."
      ],
      "metadata": {
        "id": "x_L_7YjkjqZ1"
      }
    },
    {
      "cell_type": "code",
      "source": [
        "# mount Google Drive &  copy database to Colab\n",
        "\n",
        "# this connects & mounts your Google Drive to this colab space\n",
        "from google.colab import drive\n",
        "drive.mount('/content/drive', force_remount=True)\n",
        "\n",
        "# this copies dlatk_lexica.db from your Google Drive to Colab\n",
        "!cp -f \"/content/drive/MyDrive/sqlite_databases/dlatk_lexica.db\" \"sqlite_data\""
      ],
      "metadata": {
        "id": "esOMHN8AW1Q0",
        "colab": {
          "base_uri": "https://localhost:8080/"
        },
        "outputId": "5da402f7-88d2-4f83-f7d5-8fc995c9f227"
      },
      "execution_count": null,
      "outputs": [
        {
          "output_type": "stream",
          "name": "stdout",
          "text": [
            "Mounted at /content/drive\n"
          ]
        }
      ]
    },
    {
      "cell_type": "markdown",
      "source": [
        "This code block below enables SQLite to use `dlatk_lexica.db` and `dla_tutorial.db` in the same SQL connection!"
      ],
      "metadata": {
        "id": "9Gf5zspTEUhF"
      }
    },
    {
      "cell_type": "code",
      "source": [
        "# attaches the dlatk_lexica.db so tutorial_db_engine can query both databases\n",
        "\n",
        "from IPython import get_ipython\n",
        "from sqlalchemy import event\n",
        "\n",
        "# auto‑attach the lexica db whenever tutorial_db_engine connects\n",
        "@event.listens_for(tutorial_db_engine, \"connect\")\n",
        "def _attach_lexica(dbapi_conn, connection_record):\n",
        "    dbapi_conn.execute(\"ATTACH DATABASE 'sqlite_data/dlatk_lexica.db' AS dlatk_lexica;\")"
      ],
      "metadata": {
        "id": "gijQ5YuL1fG6"
      },
      "execution_count": null,
      "outputs": []
    },
    {
      "cell_type": "markdown",
      "source": [
        "‼️ Note: In mini tutorial 5B, we go in depth on how we use Google Drive to store databases."
      ],
      "metadata": {
        "id": "qfR9I0awibOq"
      }
    },
    {
      "cell_type": "markdown",
      "source": [
        "### (ONLY IF NEEDED: SOFT RELOAD) **If you have a \"database lock\" problem**"
      ],
      "metadata": {
        "id": "Dw1lMui1L3ZE"
      }
    },
    {
      "cell_type": "markdown",
      "source": [
        "First, go to Runtime => Restart Session. Wait for that to complete. Your colab files will be preserved during this, including the DLATK install you did earlier.\n",
        "\n",
        "Second, execute this cell:"
      ],
      "metadata": {
        "id": "TIsqp_phnS5W"
      }
    },
    {
      "cell_type": "code",
      "source": [
        "# If you face a \"database locked\" issue, restart the session & run this cell to get set back up!\n",
        "\n",
        "database = \"dla_tutorial\"\n",
        "\n",
        "%reload_ext sql\n",
        "\n",
        "from sqlalchemy import create_engine\n",
        "tutorial_db_engine = create_engine(f\"sqlite:///sqlite_data/{database}.db?charset=utf8mb4\")\n",
        "dlatk_lexica_engine = create_engine(f\"sqlite:///sqlite_data/dlatk_lexica.db?charset=utf8mb4\")\n",
        "\n",
        "# set the output limit to 50\n",
        "%config SqlMagic.displaylimit = 50\n",
        "\n",
        "from IPython import get_ipython\n",
        "from sqlalchemy import event\n",
        "\n",
        "# auto‑attach the lexica db whenever tutorial_db_engine connects\n",
        "@event.listens_for(tutorial_db_engine, \"connect\")\n",
        "def _attach_lexica(dbapi_conn, connection_record):\n",
        "    dbapi_conn.execute(\"ATTACH DATABASE 'sqlite_data/dlatk_lexica.db' AS dlatk_lexica;\")\n",
        "\n",
        "%sql tutorial_db_engine"
      ],
      "metadata": {
        "id": "xS6Nd8QLL-yw"
      },
      "execution_count": null,
      "outputs": []
    },
    {
      "cell_type": "markdown",
      "source": [
        "## 2) Re-extract features"
      ],
      "metadata": {
        "id": "ZrRiO1t9vodS"
      }
    },
    {
      "cell_type": "markdown",
      "source": [
        "Let's quickly re-extract 1grams from the `dla_tutorial` messages table!\n",
        "\n",
        "This will take 2.5ish minutes. Go make yourself a tea?"
      ],
      "metadata": {
        "id": "nxwslmVtv5wO"
      }
    },
    {
      "cell_type": "code",
      "source": [
        "#database = \"dla_tutorial\" #we set that at the top! you can set it again if you like...\n",
        "msgs_table = \"msgs\""
      ],
      "metadata": {
        "id": "yytKVDGEwO6E"
      },
      "execution_count": null,
      "outputs": []
    },
    {
      "cell_type": "code",
      "source": [
        "!dlatkInterface.py \\\n",
        "  --corpdb {database} \\\n",
        "  --corptable {msgs_table} \\\n",
        "  --correl_field user_id \\\n",
        "  --add_ngrams -n 1"
      ],
      "metadata": {
        "id": "6GY-LaXEv483",
        "outputId": "7191c0f3-dc56-43f3-dc5c-e33709765f94",
        "colab": {
          "base_uri": "https://localhost:8080/"
        }
      },
      "execution_count": null,
      "outputs": [
        {
          "output_type": "stream",
          "name": "stdout",
          "text": [
            "\n",
            "\n",
            "TopicExtractor: gensim Mallet wrapper unavailable, using Mallet directly.\n",
            "\n",
            "-----\n",
            "DLATK Interface Initiated: 2025-04-16 22:16:44\n",
            "-----\n",
            "Connecting to SQLite database: /content/sqlite_data/dla_tutorial\n",
            "query: PRAGMA table_info(msgs)\n",
            "SQL Query: DROP TABLE IF EXISTS feat$1gram$msgs$user_id\n",
            "SQL Query: CREATE TABLE feat$1gram$msgs$user_id ( id INTEGER PRIMARY KEY, group_id INTEGER, feat VARCHAR(36), value INTEGER, group_norm DOUBLE)\n",
            "\n",
            "\n",
            "Creating index correl_field on table:feat$1gram$msgs$user_id, column:group_id \n",
            "\n",
            "\n",
            "SQL Query: CREATE INDEX correl_field$1gram$msgs$user_id ON feat$1gram$msgs$user_id (group_id)\n",
            "\n",
            "\n",
            "Creating index feature on table:feat$1gram$msgs$user_id, column:feat \n",
            "\n",
            "\n",
            "SQL Query: CREATE INDEX feature$1gram$msgs$user_id ON feat$1gram$msgs$user_id (feat)\n",
            "query: PRAGMA table_info(msgs)\n",
            "SQL Query: DROP TABLE IF EXISTS feat$meta_1gram$msgs$user_id\n",
            "SQL Query: CREATE TABLE feat$meta_1gram$msgs$user_id ( id INTEGER PRIMARY KEY, group_id INTEGER, feat VARCHAR(16), value INTEGER, group_norm DOUBLE)\n",
            "\n",
            "\n",
            "Creating index correl_field on table:feat$meta_1gram$msgs$user_id, column:group_id \n",
            "\n",
            "\n",
            "\n",
            "\n",
            "Creating index feature on table:feat$meta_1gram$msgs$user_id, column:feat \n",
            "\n",
            "\n",
            "finding messages for 1000 'user_id's\n",
            "WARNING: The table msgs does not have: a PRIMARY key on message_id. Consider adding.\n",
            "         Please check that all messages have a unique message_id, this can significantly impact all downstream analysis\n",
            "WARNING: The table msgs does not have: an index on user_id. Consider adding.\n",
            " [0%] Inserted 423 total ngram rows covering 1 user_ids\n",
            "Messages Read: 5k\n",
            " [5%] Inserted 168371 total ngram rows covering 50 user_ids\n",
            "Messages Read: 10k\n",
            " [10%] Inserted 312049 total ngram rows covering 100 user_ids\n",
            "Messages Read: 15k\n",
            " [15%] Inserted 441234 total ngram rows covering 150 user_ids\n",
            " [20%] Inserted 532745 total ngram rows covering 200 user_ids\n",
            " [25%] Inserted 582174 total ngram rows covering 250 user_ids\n",
            "Messages Read: 20k\n",
            " [30%] Inserted 642663 total ngram rows covering 300 user_ids\n",
            " [35%] Inserted 681322 total ngram rows covering 350 user_ids\n",
            " [40%] Inserted 743276 total ngram rows covering 400 user_ids\n",
            " [45%] Inserted 799722 total ngram rows covering 450 user_ids\n",
            " [50%] Inserted 845084 total ngram rows covering 500 user_ids\n",
            "Messages Read: 25k\n",
            " [55%] Inserted 891613 total ngram rows covering 550 user_ids\n",
            " [60%] Inserted 944308 total ngram rows covering 600 user_ids\n",
            " [65%] Inserted 989187 total ngram rows covering 650 user_ids\n",
            " [70%] Inserted 1044189 total ngram rows covering 700 user_ids\n",
            " [75%] Inserted 1088857 total ngram rows covering 750 user_ids\n",
            " [80%] Inserted 1136799 total ngram rows covering 800 user_ids\n",
            "Messages Read: 30k\n",
            " [85%] Inserted 1173547 total ngram rows covering 850 user_ids\n",
            " [90%] Inserted 1203121 total ngram rows covering 900 user_ids\n",
            " [95%] Inserted 1235410 total ngram rows covering 950 user_ids\n",
            " [100%] Inserted 1264232 total ngram rows covering 1000 user_ids\n",
            "Done Reading / Inserting.\n",
            "Adding Keys (if goes to keycache, then decrease MAX_TO_DISABLE_KEYS or run myisamchk -n).\n",
            "Done\n",
            "\n",
            "-------\n",
            "Settings:\n",
            "\n",
            "Database - dla_tutorial\n",
            "Corpus - msgs\n",
            "Group ID - user_id\n",
            "Feature table(s) - feat$1gram$msgs$user_id\n",
            "-------\n",
            "Interface Runtime: 158.15 seconds\n",
            "DLATK exits with success! A good day indeed  ¯\\_(ツ)_/¯.\n"
          ]
        }
      ]
    },
    {
      "cell_type": "markdown",
      "metadata": {
        "id": "XTx-YCcfoO1c"
      },
      "source": [
        "Good!\n",
        "\n",
        "Let's extract our first dictionaries (which needs the 1gram table in place -- that's why we re-extracted). But before we do that, let's learn about dictionaries (= lexicons)."
      ]
    },
    {
      "cell_type": "markdown",
      "metadata": {
        "id": "mzTun0PsoO1d"
      },
      "source": [
        "## 3) Getting to know dictionary (= lexicon) tables\n",
        "\n",
        "We will use the `LIWC2015` set of dictionaries, which are stored in the database `dlatk_lexica`.\n",
        "\n",
        "Now we set up a connection between SQLite and `dlatk_lexica.db`."
      ]
    },
    {
      "cell_type": "code",
      "source": [
        "# connection between sqlite and dlatk_lexica\n",
        "dlatk_lexica_engine = create_engine(f\"sqlite:///sqlite_data/dlatk_lexica.db?charset=utf8mb4\")"
      ],
      "metadata": {
        "id": "UkrnjQ1GqEcd"
      },
      "execution_count": null,
      "outputs": []
    },
    {
      "cell_type": "code",
      "source": [
        "# activates dlatk_lexica db\n",
        "%sql dlatk_lexica_engine"
      ],
      "metadata": {
        "id": "EN-oghuuLlaX"
      },
      "execution_count": null,
      "outputs": []
    },
    {
      "cell_type": "markdown",
      "source": [
        "💡 The `%sql dlatk_lexica_engine` would be roughly 🐬🐬🐬`USE database` in MySQL. So, run `%sql tutorial_db_engine` to swtich back to the `dla_tutorial` database."
      ],
      "metadata": {
        "id": "lZcMsdLMqjv4"
      }
    },
    {
      "cell_type": "markdown",
      "source": [
        "⚠️ Note: if you get an error saying \"other database already connected\", try running `%reload_ext sql`. If that doesn't work, resort to Runtime ==> Restart Session 🙂"
      ],
      "metadata": {
        "id": "ofdrfCxjns9P"
      }
    },
    {
      "cell_type": "markdown",
      "source": [
        "To see all the dictionaries in `dlatk_lexica` run this:"
      ],
      "metadata": {
        "id": "UUG5mfDfL_tj"
      }
    },
    {
      "cell_type": "code",
      "source": [
        "%sqlcmd tables"
      ],
      "metadata": {
        "id": "TiXGu7hfqHwS",
        "outputId": "f2235ac7-0b53-44c2-e513-fa9f00f1cabe",
        "colab": {
          "base_uri": "https://localhost:8080/",
          "height": 297
        }
      },
      "execution_count": null,
      "outputs": [
        {
          "output_type": "execute_result",
          "data": {
            "text/plain": [
              "+----------------------+\n",
              "|         Name         |\n",
              "+----------------------+\n",
              "|       LIWC2015       |\n",
              "|    dd_PastPreFut     |\n",
              "| dd_emnlp14_ageGender |\n",
              "|      dd_permaV3      |\n",
              "| dd_wassa16_affectInt |\n",
              "|      fb2000_cp       |\n",
              "|  fb2000_freq_t50ll   |\n",
              "|        labmt         |\n",
              "|    mini_LIWC2015     |\n",
              "|         nrc          |\n",
              "|       nrc_emot       |\n",
              "|       nrc_sent       |\n",
              "+----------------------+"
            ],
            "text/html": [
              "<table>\n",
              "    <thead>\n",
              "        <tr>\n",
              "            <th>Name</th>\n",
              "        </tr>\n",
              "    </thead>\n",
              "    <tbody>\n",
              "        <tr>\n",
              "            <td>LIWC2015</td>\n",
              "        </tr>\n",
              "        <tr>\n",
              "            <td>dd_PastPreFut</td>\n",
              "        </tr>\n",
              "        <tr>\n",
              "            <td>dd_emnlp14_ageGender</td>\n",
              "        </tr>\n",
              "        <tr>\n",
              "            <td>dd_permaV3</td>\n",
              "        </tr>\n",
              "        <tr>\n",
              "            <td>dd_wassa16_affectInt</td>\n",
              "        </tr>\n",
              "        <tr>\n",
              "            <td>fb2000_cp</td>\n",
              "        </tr>\n",
              "        <tr>\n",
              "            <td>fb2000_freq_t50ll</td>\n",
              "        </tr>\n",
              "        <tr>\n",
              "            <td>labmt</td>\n",
              "        </tr>\n",
              "        <tr>\n",
              "            <td>mini_LIWC2015</td>\n",
              "        </tr>\n",
              "        <tr>\n",
              "            <td>nrc</td>\n",
              "        </tr>\n",
              "        <tr>\n",
              "            <td>nrc_emot</td>\n",
              "        </tr>\n",
              "        <tr>\n",
              "            <td>nrc_sent</td>\n",
              "        </tr>\n",
              "    </tbody>\n",
              "</table>"
            ]
          },
          "metadata": {},
          "execution_count": 29
        }
      ]
    },
    {
      "cell_type": "markdown",
      "source": [
        "Let's see what's in the LIWC2015 table first!! That's a new table type we should know about."
      ],
      "metadata": {
        "id": "hntt1A37tBo3"
      }
    },
    {
      "cell_type": "code",
      "source": [
        "%sql PRAGMA table_info(LIWC2015)"
      ],
      "metadata": {
        "id": "FI0UcZCWyMbU",
        "outputId": "8242b4c4-a9b1-4435-8799-6043cb39c6de",
        "colab": {
          "base_uri": "https://localhost:8080/",
          "height": 143
        }
      },
      "execution_count": null,
      "outputs": [
        {
          "output_type": "display_data",
          "data": {
            "text/plain": [
              "Running query in 'sqlite:///sqlite_data/dlatk_lexica.db?charset=utf8mb4'"
            ],
            "text/html": [
              "<span style=\"None\">Running query in &#x27;sqlite:///sqlite_data/dlatk_lexica.db?charset=utf8mb4&#x27;</span>"
            ]
          },
          "metadata": {}
        },
        {
          "output_type": "execute_result",
          "data": {
            "text/plain": [
              "+-----+----------+-------------+---------+------------+----+\n",
              "| cid |   name   |     type    | notnull | dflt_value | pk |\n",
              "+-----+----------+-------------+---------+------------+----+\n",
              "|  0  |    id    |     INT     |    0    |    None    | 0  |\n",
              "|  1  |   term   | VARCHAR(31) |    0    |    None    | 0  |\n",
              "|  2  | category | VARCHAR(15) |    0    |    None    | 0  |\n",
              "|  3  |  weight  |     INT     |    0    |    None    | 0  |\n",
              "+-----+----------+-------------+---------+------------+----+"
            ],
            "text/html": [
              "<table>\n",
              "    <thead>\n",
              "        <tr>\n",
              "            <th>cid</th>\n",
              "            <th>name</th>\n",
              "            <th>type</th>\n",
              "            <th>notnull</th>\n",
              "            <th>dflt_value</th>\n",
              "            <th>pk</th>\n",
              "        </tr>\n",
              "    </thead>\n",
              "    <tbody>\n",
              "        <tr>\n",
              "            <td>0</td>\n",
              "            <td>id</td>\n",
              "            <td>INT</td>\n",
              "            <td>0</td>\n",
              "            <td>None</td>\n",
              "            <td>0</td>\n",
              "        </tr>\n",
              "        <tr>\n",
              "            <td>1</td>\n",
              "            <td>term</td>\n",
              "            <td>VARCHAR(31)</td>\n",
              "            <td>0</td>\n",
              "            <td>None</td>\n",
              "            <td>0</td>\n",
              "        </tr>\n",
              "        <tr>\n",
              "            <td>2</td>\n",
              "            <td>category</td>\n",
              "            <td>VARCHAR(15)</td>\n",
              "            <td>0</td>\n",
              "            <td>None</td>\n",
              "            <td>0</td>\n",
              "        </tr>\n",
              "        <tr>\n",
              "            <td>3</td>\n",
              "            <td>weight</td>\n",
              "            <td>INT</td>\n",
              "            <td>0</td>\n",
              "            <td>None</td>\n",
              "            <td>0</td>\n",
              "        </tr>\n",
              "    </tbody>\n",
              "</table>"
            ]
          },
          "metadata": {},
          "execution_count": 30
        }
      ]
    },
    {
      "cell_type": "markdown",
      "metadata": {
        "id": "9Vb-l9B9oO1d"
      },
      "source": [
        "In 🐬🐬🐬 MySQL it looks more confusing, as the category column is an `enum` data type. It just means that category can be one of the values from the list. It's a glorified `VARCHAR`. Let's look into the table now."
      ]
    },
    {
      "cell_type": "code",
      "execution_count": null,
      "metadata": {
        "id": "DdNfoiZDoO1d",
        "outputId": "e4b5cae7-c19d-420d-bc86-f4dde1b678fd",
        "colab": {
          "base_uri": "https://localhost:8080/",
          "height": 271
        }
      },
      "outputs": [
        {
          "output_type": "display_data",
          "data": {
            "text/plain": [
              "Running query in 'sqlite:///sqlite_data/dlatk_lexica.db?charset=utf8mb4'"
            ],
            "text/html": [
              "<span style=\"None\">Running query in &#x27;sqlite:///sqlite_data/dlatk_lexica.db?charset=utf8mb4&#x27;</span>"
            ]
          },
          "metadata": {}
        },
        {
          "output_type": "execute_result",
          "data": {
            "text/plain": [
              "+----+---------+----------+--------+\n",
              "| id |   term  | category | weight |\n",
              "+----+---------+----------+--------+\n",
              "| 1  |    he   |  PPRON   |   1    |\n",
              "| 2  |   he'd  |  PPRON   |   1    |\n",
              "| 3  |   he's  |  PPRON   |   1    |\n",
              "| 4  |   her   |  PPRON   |   1    |\n",
              "| 5  |   hers  |  PPRON   |   1    |\n",
              "| 6  | herself |  PPRON   |   1    |\n",
              "| 7  |   hes   |  PPRON   |   1    |\n",
              "| 8  |   him   |  PPRON   |   1    |\n",
              "| 9  | himself |  PPRON   |   1    |\n",
              "| 10 |   his   |  PPRON   |   1    |\n",
              "+----+---------+----------+--------+"
            ],
            "text/html": [
              "<table>\n",
              "    <thead>\n",
              "        <tr>\n",
              "            <th>id</th>\n",
              "            <th>term</th>\n",
              "            <th>category</th>\n",
              "            <th>weight</th>\n",
              "        </tr>\n",
              "    </thead>\n",
              "    <tbody>\n",
              "        <tr>\n",
              "            <td>1</td>\n",
              "            <td>he</td>\n",
              "            <td>PPRON</td>\n",
              "            <td>1</td>\n",
              "        </tr>\n",
              "        <tr>\n",
              "            <td>2</td>\n",
              "            <td>he'd</td>\n",
              "            <td>PPRON</td>\n",
              "            <td>1</td>\n",
              "        </tr>\n",
              "        <tr>\n",
              "            <td>3</td>\n",
              "            <td>he's</td>\n",
              "            <td>PPRON</td>\n",
              "            <td>1</td>\n",
              "        </tr>\n",
              "        <tr>\n",
              "            <td>4</td>\n",
              "            <td>her</td>\n",
              "            <td>PPRON</td>\n",
              "            <td>1</td>\n",
              "        </tr>\n",
              "        <tr>\n",
              "            <td>5</td>\n",
              "            <td>hers</td>\n",
              "            <td>PPRON</td>\n",
              "            <td>1</td>\n",
              "        </tr>\n",
              "        <tr>\n",
              "            <td>6</td>\n",
              "            <td>herself</td>\n",
              "            <td>PPRON</td>\n",
              "            <td>1</td>\n",
              "        </tr>\n",
              "        <tr>\n",
              "            <td>7</td>\n",
              "            <td>hes</td>\n",
              "            <td>PPRON</td>\n",
              "            <td>1</td>\n",
              "        </tr>\n",
              "        <tr>\n",
              "            <td>8</td>\n",
              "            <td>him</td>\n",
              "            <td>PPRON</td>\n",
              "            <td>1</td>\n",
              "        </tr>\n",
              "        <tr>\n",
              "            <td>9</td>\n",
              "            <td>himself</td>\n",
              "            <td>PPRON</td>\n",
              "            <td>1</td>\n",
              "        </tr>\n",
              "        <tr>\n",
              "            <td>10</td>\n",
              "            <td>his</td>\n",
              "            <td>PPRON</td>\n",
              "            <td>1</td>\n",
              "        </tr>\n",
              "    </tbody>\n",
              "</table>"
            ]
          },
          "metadata": {},
          "execution_count": 31
        }
      ],
      "source": [
        "%%sql\n",
        "\n",
        "SELECT *\n",
        "FROM LIWC2015\n",
        "LIMIT 10;"
      ]
    },
    {
      "cell_type": "code",
      "execution_count": null,
      "metadata": {
        "id": "HDMLLOxBoO1d",
        "colab": {
          "base_uri": "https://localhost:8080/",
          "height": 485
        },
        "outputId": "fa03fd1d-f39c-4968-837c-c023662e1e33"
      },
      "outputs": [
        {
          "output_type": "display_data",
          "data": {
            "text/plain": [
              "Running query in 'sqlite:///sqlite_data/dlatk_lexica.db?charset=utf8mb4'"
            ],
            "text/html": [
              "<span style=\"None\">Running query in &#x27;sqlite:///sqlite_data/dlatk_lexica.db?charset=utf8mb4&#x27;</span>"
            ]
          },
          "metadata": {}
        },
        {
          "output_type": "execute_result",
          "data": {
            "text/plain": [
              "+-----------+-----+\n",
              "|    term   | occ |\n",
              "+-----------+-----+\n",
              "|    weve   |  10 |\n",
              "|   we've   |  10 |\n",
              "|   we'll   |  10 |\n",
              "|  weakened |  9  |\n",
              "|   we're   |  9  |\n",
              "|    we'd   |  9  |\n",
              "|   she's   |  9  |\n",
              "|   she'll  |  9  |\n",
              "| perfected |  9  |\n",
              "|   lowest  |  9  |\n",
              "|   lowers  |  9  |\n",
              "|  lowered  |  9  |\n",
              "|   lower   |  9  |\n",
              "|    lets   |  9  |\n",
              "|   let's   |  9  |\n",
              "|    ily*   |  9  |\n",
              "|    hes    |  9  |\n",
              "|    he's   |  9  |\n",
              "|   fucks   |  9  |\n",
              "|  fucked*  |  9  |\n",
              "+-----------+-----+"
            ],
            "text/html": [
              "<table>\n",
              "    <thead>\n",
              "        <tr>\n",
              "            <th>term</th>\n",
              "            <th>occ</th>\n",
              "        </tr>\n",
              "    </thead>\n",
              "    <tbody>\n",
              "        <tr>\n",
              "            <td>weve</td>\n",
              "            <td>10</td>\n",
              "        </tr>\n",
              "        <tr>\n",
              "            <td>we've</td>\n",
              "            <td>10</td>\n",
              "        </tr>\n",
              "        <tr>\n",
              "            <td>we'll</td>\n",
              "            <td>10</td>\n",
              "        </tr>\n",
              "        <tr>\n",
              "            <td>weakened</td>\n",
              "            <td>9</td>\n",
              "        </tr>\n",
              "        <tr>\n",
              "            <td>we're</td>\n",
              "            <td>9</td>\n",
              "        </tr>\n",
              "        <tr>\n",
              "            <td>we'd</td>\n",
              "            <td>9</td>\n",
              "        </tr>\n",
              "        <tr>\n",
              "            <td>she's</td>\n",
              "            <td>9</td>\n",
              "        </tr>\n",
              "        <tr>\n",
              "            <td>she'll</td>\n",
              "            <td>9</td>\n",
              "        </tr>\n",
              "        <tr>\n",
              "            <td>perfected</td>\n",
              "            <td>9</td>\n",
              "        </tr>\n",
              "        <tr>\n",
              "            <td>lowest</td>\n",
              "            <td>9</td>\n",
              "        </tr>\n",
              "        <tr>\n",
              "            <td>lowers</td>\n",
              "            <td>9</td>\n",
              "        </tr>\n",
              "        <tr>\n",
              "            <td>lowered</td>\n",
              "            <td>9</td>\n",
              "        </tr>\n",
              "        <tr>\n",
              "            <td>lower</td>\n",
              "            <td>9</td>\n",
              "        </tr>\n",
              "        <tr>\n",
              "            <td>lets</td>\n",
              "            <td>9</td>\n",
              "        </tr>\n",
              "        <tr>\n",
              "            <td>let's</td>\n",
              "            <td>9</td>\n",
              "        </tr>\n",
              "        <tr>\n",
              "            <td>ily*</td>\n",
              "            <td>9</td>\n",
              "        </tr>\n",
              "        <tr>\n",
              "            <td>hes</td>\n",
              "            <td>9</td>\n",
              "        </tr>\n",
              "        <tr>\n",
              "            <td>he's</td>\n",
              "            <td>9</td>\n",
              "        </tr>\n",
              "        <tr>\n",
              "            <td>fucks</td>\n",
              "            <td>9</td>\n",
              "        </tr>\n",
              "        <tr>\n",
              "            <td>fucked*</td>\n",
              "            <td>9</td>\n",
              "        </tr>\n",
              "    </tbody>\n",
              "</table>"
            ]
          },
          "metadata": {},
          "execution_count": 32
        }
      ],
      "source": [
        "%%sql\n",
        "\n",
        "SELECT term, COUNT(*) as occ\n",
        "FROM LIWC2015\n",
        "GROUP BY term\n",
        "ORDER BY occ DESC\n",
        "LIMIT 20;"
      ]
    },
    {
      "cell_type": "markdown",
      "metadata": {
        "id": "s_yu4yE0oO1e"
      },
      "source": [
        "Ah, Ok, we are getting a sense. so it lists `terms` that are in `category`s, and these terms can have `weight`s (which are all 1 for LIWC -- it's an unweighted dictionary)."
      ]
    },
    {
      "cell_type": "markdown",
      "metadata": {
        "id": "C0JAgaJ7oO1e"
      },
      "source": [
        "#### 👩‍🔬💻 Exercise\n",
        "\n",
        "So, can you write the command to check the number of words in each category?\n",
        "\n",
        "⚠️ If you're using the `dla_tutorial` database, make sure to give the location of the LIWC2015 table specifically as residing in `dlatk_lexica` (e.g., `SELECT * FROM dlatk_lexica.LIWC2015`). Otherwise you have to switch into the dlatk_lexica database by running `%sql dlatk_lexica_engine` (🐬🐬🐬 `use dlatk_lexica` in MySQL)."
      ]
    },
    {
      "cell_type": "code",
      "execution_count": null,
      "metadata": {
        "id": "1BvJEaNOoO1e",
        "colab": {
          "base_uri": "https://localhost:8080/",
          "height": 1000
        },
        "outputId": "5923369a-0b69-44b0-cb44-c808e7df3a84"
      },
      "outputs": [
        {
          "output_type": "display_data",
          "data": {
            "text/plain": [
              "Running query in 'sqlite:///sqlite_data/dlatk_lexica.db?charset=utf8mb4'"
            ],
            "text/html": [
              "<span style=\"None\">Running query in &#x27;sqlite:///sqlite_data/dlatk_lexica.db?charset=utf8mb4&#x27;</span>"
            ]
          },
          "metadata": {}
        },
        {
          "output_type": "execute_result",
          "data": {
            "text/plain": [
              "+--------------+----------+\n",
              "|   category   | count(*) |\n",
              "+--------------+----------+\n",
              "|   ACHIEVE    |   213    |\n",
              "|     ADJ      |   764    |\n",
              "|    ADVERB    |   140    |\n",
              "|    AFFECT    |   1417   |\n",
              "| AFFILIATION  |   248    |\n",
              "|    ANGER     |   230    |\n",
              "|     ANX      |   116    |\n",
              "|   ARTICLE    |    3     |\n",
              "|    ASSENT    |    36    |\n",
              "|   AUXVERB    |   141    |\n",
              "|     BIO      |   748    |\n",
              "|     BODY     |   215    |\n",
              "|    CAUSE     |   135    |\n",
              "|   CERTAIN    |   113    |\n",
              "|   COGPROC    |   797    |\n",
              "|   COMPARE    |   317    |\n",
              "|     CONJ     |    43    |\n",
              "|    DEATH     |    74    |\n",
              "|    DIFFER    |    81    |\n",
              "|   DISCREP    |    83    |\n",
              "|    DRIVES    |   1102   |\n",
              "|    FAMILY    |   118    |\n",
              "|     FEEL     |   128    |\n",
              "|    FEMALE    |   124    |\n",
              "|    FILLER    |    14    |\n",
              "| FOCUSFUTURE  |    97    |\n",
              "|  FOCUSPAST   |   341    |\n",
              "| FOCUSPRESENT |   428    |\n",
              "|    FRIEND    |    95    |\n",
              "|   FUNCTION   |   491    |\n",
              "|    HEALTH    |   294    |\n",
              "|     HEAR     |    93    |\n",
              "|     HOME     |   100    |\n",
              "|      I       |    24    |\n",
              "|   INFORMAL   |   388    |\n",
              "|    INGEST    |   184    |\n",
              "|   INSIGHT    |   259    |\n",
              "|   INTERROG   |    48    |\n",
              "|    IPRON     |    59    |\n",
              "|   LEISURE    |   296    |\n",
              "|     MALE     |   116    |\n",
              "|    MONEY     |   226    |\n",
              "|    MOTION    |   325    |\n",
              "|    NEGATE    |    62    |\n",
              "|    NEGEMO    |   746    |\n",
              "|   NETSPEAK   |   217    |\n",
              "|    NONFLU    |    19    |\n",
              "|    NUMBER    |    36    |\n",
              "|   PERCEPT    |   436    |\n",
              "|    POSEMO    |   622    |\n",
              "+--------------+----------+\n",
              "Truncated to displaylimit of 50."
            ],
            "text/html": [
              "<table>\n",
              "    <thead>\n",
              "        <tr>\n",
              "            <th>category</th>\n",
              "            <th>count(*)</th>\n",
              "        </tr>\n",
              "    </thead>\n",
              "    <tbody>\n",
              "        <tr>\n",
              "            <td>ACHIEVE</td>\n",
              "            <td>213</td>\n",
              "        </tr>\n",
              "        <tr>\n",
              "            <td>ADJ</td>\n",
              "            <td>764</td>\n",
              "        </tr>\n",
              "        <tr>\n",
              "            <td>ADVERB</td>\n",
              "            <td>140</td>\n",
              "        </tr>\n",
              "        <tr>\n",
              "            <td>AFFECT</td>\n",
              "            <td>1417</td>\n",
              "        </tr>\n",
              "        <tr>\n",
              "            <td>AFFILIATION</td>\n",
              "            <td>248</td>\n",
              "        </tr>\n",
              "        <tr>\n",
              "            <td>ANGER</td>\n",
              "            <td>230</td>\n",
              "        </tr>\n",
              "        <tr>\n",
              "            <td>ANX</td>\n",
              "            <td>116</td>\n",
              "        </tr>\n",
              "        <tr>\n",
              "            <td>ARTICLE</td>\n",
              "            <td>3</td>\n",
              "        </tr>\n",
              "        <tr>\n",
              "            <td>ASSENT</td>\n",
              "            <td>36</td>\n",
              "        </tr>\n",
              "        <tr>\n",
              "            <td>AUXVERB</td>\n",
              "            <td>141</td>\n",
              "        </tr>\n",
              "        <tr>\n",
              "            <td>BIO</td>\n",
              "            <td>748</td>\n",
              "        </tr>\n",
              "        <tr>\n",
              "            <td>BODY</td>\n",
              "            <td>215</td>\n",
              "        </tr>\n",
              "        <tr>\n",
              "            <td>CAUSE</td>\n",
              "            <td>135</td>\n",
              "        </tr>\n",
              "        <tr>\n",
              "            <td>CERTAIN</td>\n",
              "            <td>113</td>\n",
              "        </tr>\n",
              "        <tr>\n",
              "            <td>COGPROC</td>\n",
              "            <td>797</td>\n",
              "        </tr>\n",
              "        <tr>\n",
              "            <td>COMPARE</td>\n",
              "            <td>317</td>\n",
              "        </tr>\n",
              "        <tr>\n",
              "            <td>CONJ</td>\n",
              "            <td>43</td>\n",
              "        </tr>\n",
              "        <tr>\n",
              "            <td>DEATH</td>\n",
              "            <td>74</td>\n",
              "        </tr>\n",
              "        <tr>\n",
              "            <td>DIFFER</td>\n",
              "            <td>81</td>\n",
              "        </tr>\n",
              "        <tr>\n",
              "            <td>DISCREP</td>\n",
              "            <td>83</td>\n",
              "        </tr>\n",
              "        <tr>\n",
              "            <td>DRIVES</td>\n",
              "            <td>1102</td>\n",
              "        </tr>\n",
              "        <tr>\n",
              "            <td>FAMILY</td>\n",
              "            <td>118</td>\n",
              "        </tr>\n",
              "        <tr>\n",
              "            <td>FEEL</td>\n",
              "            <td>128</td>\n",
              "        </tr>\n",
              "        <tr>\n",
              "            <td>FEMALE</td>\n",
              "            <td>124</td>\n",
              "        </tr>\n",
              "        <tr>\n",
              "            <td>FILLER</td>\n",
              "            <td>14</td>\n",
              "        </tr>\n",
              "        <tr>\n",
              "            <td>FOCUSFUTURE</td>\n",
              "            <td>97</td>\n",
              "        </tr>\n",
              "        <tr>\n",
              "            <td>FOCUSPAST</td>\n",
              "            <td>341</td>\n",
              "        </tr>\n",
              "        <tr>\n",
              "            <td>FOCUSPRESENT</td>\n",
              "            <td>428</td>\n",
              "        </tr>\n",
              "        <tr>\n",
              "            <td>FRIEND</td>\n",
              "            <td>95</td>\n",
              "        </tr>\n",
              "        <tr>\n",
              "            <td>FUNCTION</td>\n",
              "            <td>491</td>\n",
              "        </tr>\n",
              "        <tr>\n",
              "            <td>HEALTH</td>\n",
              "            <td>294</td>\n",
              "        </tr>\n",
              "        <tr>\n",
              "            <td>HEAR</td>\n",
              "            <td>93</td>\n",
              "        </tr>\n",
              "        <tr>\n",
              "            <td>HOME</td>\n",
              "            <td>100</td>\n",
              "        </tr>\n",
              "        <tr>\n",
              "            <td>I</td>\n",
              "            <td>24</td>\n",
              "        </tr>\n",
              "        <tr>\n",
              "            <td>INFORMAL</td>\n",
              "            <td>388</td>\n",
              "        </tr>\n",
              "        <tr>\n",
              "            <td>INGEST</td>\n",
              "            <td>184</td>\n",
              "        </tr>\n",
              "        <tr>\n",
              "            <td>INSIGHT</td>\n",
              "            <td>259</td>\n",
              "        </tr>\n",
              "        <tr>\n",
              "            <td>INTERROG</td>\n",
              "            <td>48</td>\n",
              "        </tr>\n",
              "        <tr>\n",
              "            <td>IPRON</td>\n",
              "            <td>59</td>\n",
              "        </tr>\n",
              "        <tr>\n",
              "            <td>LEISURE</td>\n",
              "            <td>296</td>\n",
              "        </tr>\n",
              "        <tr>\n",
              "            <td>MALE</td>\n",
              "            <td>116</td>\n",
              "        </tr>\n",
              "        <tr>\n",
              "            <td>MONEY</td>\n",
              "            <td>226</td>\n",
              "        </tr>\n",
              "        <tr>\n",
              "            <td>MOTION</td>\n",
              "            <td>325</td>\n",
              "        </tr>\n",
              "        <tr>\n",
              "            <td>NEGATE</td>\n",
              "            <td>62</td>\n",
              "        </tr>\n",
              "        <tr>\n",
              "            <td>NEGEMO</td>\n",
              "            <td>746</td>\n",
              "        </tr>\n",
              "        <tr>\n",
              "            <td>NETSPEAK</td>\n",
              "            <td>217</td>\n",
              "        </tr>\n",
              "        <tr>\n",
              "            <td>NONFLU</td>\n",
              "            <td>19</td>\n",
              "        </tr>\n",
              "        <tr>\n",
              "            <td>NUMBER</td>\n",
              "            <td>36</td>\n",
              "        </tr>\n",
              "        <tr>\n",
              "            <td>PERCEPT</td>\n",
              "            <td>436</td>\n",
              "        </tr>\n",
              "        <tr>\n",
              "            <td>POSEMO</td>\n",
              "            <td>622</td>\n",
              "        </tr>\n",
              "    </tbody>\n",
              "</table>\n",
              "<span style=\"font-style:italic;text-align:center;\">Truncated to <a href=\"https://jupysql.ploomber.io/en/latest/api/configuration.html#displaylimit\">displaylimit</a> of 50.</span>"
            ]
          },
          "metadata": {},
          "execution_count": 33
        }
      ],
      "source": [
        "%%sql\n",
        "\n",
        "SELECT category, count(*)\n",
        "FROM LIWC2015\n",
        "group by category"
      ]
    },
    {
      "cell_type": "markdown",
      "metadata": {
        "id": "1Gavg0YIoO1e"
      },
      "source": [
        "Nice!! That's looking like a good summary. Alright! Let's look at what's in the `POSEMO` dictionary. It says below there are 622 words in there.\n"
      ]
    },
    {
      "cell_type": "code",
      "execution_count": null,
      "metadata": {
        "id": "AVlJhh5GoO1e",
        "colab": {
          "base_uri": "https://localhost:8080/",
          "height": 79
        },
        "outputId": "3d8a018d-44a0-4c0f-dca2-3f101dc15df2"
      },
      "outputs": [
        {
          "output_type": "display_data",
          "data": {
            "text/plain": [
              "Running query in 'sqlite:///sqlite_data/dlatk_lexica.db?charset=utf8mb4'"
            ],
            "text/html": [
              "<span style=\"None\">Running query in &#x27;sqlite:///sqlite_data/dlatk_lexica.db?charset=utf8mb4&#x27;</span>"
            ]
          },
          "metadata": {}
        },
        {
          "output_type": "execute_result",
          "data": {
            "text/plain": [
              "+----------+\n",
              "| COUNT(*) |\n",
              "+----------+\n",
              "|   622    |\n",
              "+----------+"
            ],
            "text/html": [
              "<table>\n",
              "    <thead>\n",
              "        <tr>\n",
              "            <th>COUNT(*)</th>\n",
              "        </tr>\n",
              "    </thead>\n",
              "    <tbody>\n",
              "        <tr>\n",
              "            <td>622</td>\n",
              "        </tr>\n",
              "    </tbody>\n",
              "</table>"
            ]
          },
          "metadata": {},
          "execution_count": 34
        }
      ],
      "source": [
        "%%sql\n",
        "\n",
        "SELECT COUNT(*)\n",
        "FROM LIWC2015\n",
        "WHERE category = \"POSEMO\";"
      ]
    },
    {
      "cell_type": "markdown",
      "metadata": {
        "id": "PAiualNZoO1e"
      },
      "source": [
        "Let's get a few random samples by executing the below query a few times."
      ]
    },
    {
      "cell_type": "code",
      "execution_count": null,
      "metadata": {
        "id": "MI8Vw9ccoO1e",
        "colab": {
          "base_uri": "https://localhost:8080/",
          "height": 271
        },
        "outputId": "285f70b3-7ba4-48f0-e2f4-55cfb66f5160"
      },
      "outputs": [
        {
          "output_type": "display_data",
          "data": {
            "text/plain": [
              "Running query in 'sqlite:///sqlite_data/dlatk_lexica.db?charset=utf8mb4'"
            ],
            "text/html": [
              "<span style=\"None\">Running query in &#x27;sqlite:///sqlite_data/dlatk_lexica.db?charset=utf8mb4&#x27;</span>"
            ]
          },
          "metadata": {}
        },
        {
          "output_type": "execute_result",
          "data": {
            "text/plain": [
              "+------+-------------+----------+--------+\n",
              "|  id  |     term    | category | weight |\n",
              "+------+-------------+----------+--------+\n",
              "| 909  |   fondness  |  POSEMO  |   1    |\n",
              "| 1301 |   usefully  |  POSEMO  |   1    |\n",
              "| 969  |  handsomest |  POSEMO  |   1    |\n",
              "| 797  | comfortable |  POSEMO  |   1    |\n",
              "| 1147 |  pleasant*  |  POSEMO  |   1    |\n",
              "| 1216 |    smart    |  POSEMO  |   1    |\n",
              "| 1185 |  respected  |  POSEMO  |   1    |\n",
              "| 1272 |   thankful  |  POSEMO  |   1    |\n",
              "| 790  |    cheers   |  POSEMO  |   1    |\n",
              "| 743  |  beautiful  |  POSEMO  |   1    |\n",
              "+------+-------------+----------+--------+"
            ],
            "text/html": [
              "<table>\n",
              "    <thead>\n",
              "        <tr>\n",
              "            <th>id</th>\n",
              "            <th>term</th>\n",
              "            <th>category</th>\n",
              "            <th>weight</th>\n",
              "        </tr>\n",
              "    </thead>\n",
              "    <tbody>\n",
              "        <tr>\n",
              "            <td>909</td>\n",
              "            <td>fondness</td>\n",
              "            <td>POSEMO</td>\n",
              "            <td>1</td>\n",
              "        </tr>\n",
              "        <tr>\n",
              "            <td>1301</td>\n",
              "            <td>usefully</td>\n",
              "            <td>POSEMO</td>\n",
              "            <td>1</td>\n",
              "        </tr>\n",
              "        <tr>\n",
              "            <td>969</td>\n",
              "            <td>handsomest</td>\n",
              "            <td>POSEMO</td>\n",
              "            <td>1</td>\n",
              "        </tr>\n",
              "        <tr>\n",
              "            <td>797</td>\n",
              "            <td>comfortable</td>\n",
              "            <td>POSEMO</td>\n",
              "            <td>1</td>\n",
              "        </tr>\n",
              "        <tr>\n",
              "            <td>1147</td>\n",
              "            <td>pleasant*</td>\n",
              "            <td>POSEMO</td>\n",
              "            <td>1</td>\n",
              "        </tr>\n",
              "        <tr>\n",
              "            <td>1216</td>\n",
              "            <td>smart</td>\n",
              "            <td>POSEMO</td>\n",
              "            <td>1</td>\n",
              "        </tr>\n",
              "        <tr>\n",
              "            <td>1185</td>\n",
              "            <td>respected</td>\n",
              "            <td>POSEMO</td>\n",
              "            <td>1</td>\n",
              "        </tr>\n",
              "        <tr>\n",
              "            <td>1272</td>\n",
              "            <td>thankful</td>\n",
              "            <td>POSEMO</td>\n",
              "            <td>1</td>\n",
              "        </tr>\n",
              "        <tr>\n",
              "            <td>790</td>\n",
              "            <td>cheers</td>\n",
              "            <td>POSEMO</td>\n",
              "            <td>1</td>\n",
              "        </tr>\n",
              "        <tr>\n",
              "            <td>743</td>\n",
              "            <td>beautiful</td>\n",
              "            <td>POSEMO</td>\n",
              "            <td>1</td>\n",
              "        </tr>\n",
              "    </tbody>\n",
              "</table>"
            ]
          },
          "metadata": {},
          "execution_count": 35
        }
      ],
      "source": [
        "%%sql\n",
        "\n",
        "SELECT *\n",
        "FROM LIWC2015\n",
        "WHERE category = \"POSEMO\"\n",
        "ORDER BY RANDOM()\n",
        "LIMIT 10;"
      ]
    },
    {
      "cell_type": "markdown",
      "metadata": {
        "id": "Zm-buTKOoO1f"
      },
      "source": [
        "Alrighty! 622 words, some of those stemmed (with `*` asterixes). DLATK will know what to do with it when we extract the dictionary -- it will match all the words that start with this stem."
      ]
    },
    {
      "cell_type": "markdown",
      "metadata": {
        "id": "pi8FsaoHoO1f"
      },
      "source": [
        "#### 👩‍🔬💻 Exercise\n",
        "\n",
        "Also, let's check some terms are mentioned in more than one dictionary category.\n",
        "\n",
        "⚠️ Make sure to use right database!"
      ]
    },
    {
      "cell_type": "code",
      "execution_count": null,
      "metadata": {
        "id": "R9_w40gZoO1f",
        "colab": {
          "base_uri": "https://localhost:8080/",
          "height": 1000
        },
        "outputId": "de2b5482-a8f5-4575-ba12-5f4c32efb7df"
      },
      "outputs": [
        {
          "output_type": "display_data",
          "data": {
            "text/plain": [
              "Running query in 'sqlite:///sqlite_data/dlatk_lexica.db?charset=utf8mb4'"
            ],
            "text/html": [
              "<span style=\"None\">Running query in &#x27;sqlite:///sqlite_data/dlatk_lexica.db?charset=utf8mb4&#x27;</span>"
            ]
          },
          "metadata": {}
        },
        {
          "output_type": "execute_result",
          "data": {
            "text/plain": [
              "+-----------+----------------------+\n",
              "|    term   | number_of_categories |\n",
              "+-----------+----------------------+\n",
              "|    weve   |          10          |\n",
              "|   we've   |          10          |\n",
              "|   we'll   |          10          |\n",
              "|  weakened |          9           |\n",
              "|   we're   |          9           |\n",
              "|    we'd   |          9           |\n",
              "|   she's   |          9           |\n",
              "|   she'll  |          9           |\n",
              "| perfected |          9           |\n",
              "|   lowest  |          9           |\n",
              "|   lowers  |          9           |\n",
              "|  lowered  |          9           |\n",
              "|   lower   |          9           |\n",
              "|    lets   |          9           |\n",
              "|   let's   |          9           |\n",
              "|    ily*   |          9           |\n",
              "|    hes    |          9           |\n",
              "|    he's   |          9           |\n",
              "|   fucks   |          9           |\n",
              "|  fucked*  |          9           |\n",
              "|    fuck   |          9           |\n",
              "|   youve   |          8           |\n",
              "|   youre   |          8           |\n",
              "|   youll   |          8           |\n",
              "|   you've  |          8           |\n",
              "|   you're  |          8           |\n",
              "|   you'll  |          8           |\n",
              "|   wholl   |          8           |\n",
              "|   who'll  |          8           |\n",
              "|  weakest  |          8           |\n",
              "|   weaker  |          8           |\n",
              "|  weakens  |          8           |\n",
              "|  twitchy  |          8           |\n",
              "|  trusted  |          8           |\n",
              "|   theyve  |          8           |\n",
              "|   theyll  |          8           |\n",
              "|  they've  |          8           |\n",
              "|  they'll  |          8           |\n",
              "|    shes   |          8           |\n",
              "|   she'd   |          8           |\n",
              "|  perfect  |          8           |\n",
              "|  lowering |          8           |\n",
              "|   lover*  |          8           |\n",
              "|   loses   |          8           |\n",
              "|    lose   |          8           |\n",
              "|   leads   |          8           |\n",
              "|  leading  |          8           |\n",
              "|    lead   |          8           |\n",
              "|  inferior |          8           |\n",
              "| inadequa* |          8           |\n",
              "+-----------+----------------------+\n",
              "Truncated to displaylimit of 50."
            ],
            "text/html": [
              "<table>\n",
              "    <thead>\n",
              "        <tr>\n",
              "            <th>term</th>\n",
              "            <th>number_of_categories</th>\n",
              "        </tr>\n",
              "    </thead>\n",
              "    <tbody>\n",
              "        <tr>\n",
              "            <td>weve</td>\n",
              "            <td>10</td>\n",
              "        </tr>\n",
              "        <tr>\n",
              "            <td>we've</td>\n",
              "            <td>10</td>\n",
              "        </tr>\n",
              "        <tr>\n",
              "            <td>we'll</td>\n",
              "            <td>10</td>\n",
              "        </tr>\n",
              "        <tr>\n",
              "            <td>weakened</td>\n",
              "            <td>9</td>\n",
              "        </tr>\n",
              "        <tr>\n",
              "            <td>we're</td>\n",
              "            <td>9</td>\n",
              "        </tr>\n",
              "        <tr>\n",
              "            <td>we'd</td>\n",
              "            <td>9</td>\n",
              "        </tr>\n",
              "        <tr>\n",
              "            <td>she's</td>\n",
              "            <td>9</td>\n",
              "        </tr>\n",
              "        <tr>\n",
              "            <td>she'll</td>\n",
              "            <td>9</td>\n",
              "        </tr>\n",
              "        <tr>\n",
              "            <td>perfected</td>\n",
              "            <td>9</td>\n",
              "        </tr>\n",
              "        <tr>\n",
              "            <td>lowest</td>\n",
              "            <td>9</td>\n",
              "        </tr>\n",
              "        <tr>\n",
              "            <td>lowers</td>\n",
              "            <td>9</td>\n",
              "        </tr>\n",
              "        <tr>\n",
              "            <td>lowered</td>\n",
              "            <td>9</td>\n",
              "        </tr>\n",
              "        <tr>\n",
              "            <td>lower</td>\n",
              "            <td>9</td>\n",
              "        </tr>\n",
              "        <tr>\n",
              "            <td>lets</td>\n",
              "            <td>9</td>\n",
              "        </tr>\n",
              "        <tr>\n",
              "            <td>let's</td>\n",
              "            <td>9</td>\n",
              "        </tr>\n",
              "        <tr>\n",
              "            <td>ily*</td>\n",
              "            <td>9</td>\n",
              "        </tr>\n",
              "        <tr>\n",
              "            <td>hes</td>\n",
              "            <td>9</td>\n",
              "        </tr>\n",
              "        <tr>\n",
              "            <td>he's</td>\n",
              "            <td>9</td>\n",
              "        </tr>\n",
              "        <tr>\n",
              "            <td>fucks</td>\n",
              "            <td>9</td>\n",
              "        </tr>\n",
              "        <tr>\n",
              "            <td>fucked*</td>\n",
              "            <td>9</td>\n",
              "        </tr>\n",
              "        <tr>\n",
              "            <td>fuck</td>\n",
              "            <td>9</td>\n",
              "        </tr>\n",
              "        <tr>\n",
              "            <td>youve</td>\n",
              "            <td>8</td>\n",
              "        </tr>\n",
              "        <tr>\n",
              "            <td>youre</td>\n",
              "            <td>8</td>\n",
              "        </tr>\n",
              "        <tr>\n",
              "            <td>youll</td>\n",
              "            <td>8</td>\n",
              "        </tr>\n",
              "        <tr>\n",
              "            <td>you've</td>\n",
              "            <td>8</td>\n",
              "        </tr>\n",
              "        <tr>\n",
              "            <td>you're</td>\n",
              "            <td>8</td>\n",
              "        </tr>\n",
              "        <tr>\n",
              "            <td>you'll</td>\n",
              "            <td>8</td>\n",
              "        </tr>\n",
              "        <tr>\n",
              "            <td>wholl</td>\n",
              "            <td>8</td>\n",
              "        </tr>\n",
              "        <tr>\n",
              "            <td>who'll</td>\n",
              "            <td>8</td>\n",
              "        </tr>\n",
              "        <tr>\n",
              "            <td>weakest</td>\n",
              "            <td>8</td>\n",
              "        </tr>\n",
              "        <tr>\n",
              "            <td>weaker</td>\n",
              "            <td>8</td>\n",
              "        </tr>\n",
              "        <tr>\n",
              "            <td>weakens</td>\n",
              "            <td>8</td>\n",
              "        </tr>\n",
              "        <tr>\n",
              "            <td>twitchy</td>\n",
              "            <td>8</td>\n",
              "        </tr>\n",
              "        <tr>\n",
              "            <td>trusted</td>\n",
              "            <td>8</td>\n",
              "        </tr>\n",
              "        <tr>\n",
              "            <td>theyve</td>\n",
              "            <td>8</td>\n",
              "        </tr>\n",
              "        <tr>\n",
              "            <td>theyll</td>\n",
              "            <td>8</td>\n",
              "        </tr>\n",
              "        <tr>\n",
              "            <td>they've</td>\n",
              "            <td>8</td>\n",
              "        </tr>\n",
              "        <tr>\n",
              "            <td>they'll</td>\n",
              "            <td>8</td>\n",
              "        </tr>\n",
              "        <tr>\n",
              "            <td>shes</td>\n",
              "            <td>8</td>\n",
              "        </tr>\n",
              "        <tr>\n",
              "            <td>she'd</td>\n",
              "            <td>8</td>\n",
              "        </tr>\n",
              "        <tr>\n",
              "            <td>perfect</td>\n",
              "            <td>8</td>\n",
              "        </tr>\n",
              "        <tr>\n",
              "            <td>lowering</td>\n",
              "            <td>8</td>\n",
              "        </tr>\n",
              "        <tr>\n",
              "            <td>lover*</td>\n",
              "            <td>8</td>\n",
              "        </tr>\n",
              "        <tr>\n",
              "            <td>loses</td>\n",
              "            <td>8</td>\n",
              "        </tr>\n",
              "        <tr>\n",
              "            <td>lose</td>\n",
              "            <td>8</td>\n",
              "        </tr>\n",
              "        <tr>\n",
              "            <td>leads</td>\n",
              "            <td>8</td>\n",
              "        </tr>\n",
              "        <tr>\n",
              "            <td>leading</td>\n",
              "            <td>8</td>\n",
              "        </tr>\n",
              "        <tr>\n",
              "            <td>lead</td>\n",
              "            <td>8</td>\n",
              "        </tr>\n",
              "        <tr>\n",
              "            <td>inferior</td>\n",
              "            <td>8</td>\n",
              "        </tr>\n",
              "        <tr>\n",
              "            <td>inadequa*</td>\n",
              "            <td>8</td>\n",
              "        </tr>\n",
              "    </tbody>\n",
              "</table>\n",
              "<span style=\"font-style:italic;text-align:center;\">Truncated to <a href=\"https://jupysql.ploomber.io/en/latest/api/configuration.html#displaylimit\">displaylimit</a> of 50.</span>"
            ]
          },
          "metadata": {},
          "execution_count": 36
        }
      ],
      "source": [
        "%%sql\n",
        "\n",
        "SELECT term, count(*) as number_of_categories\n",
        "FROM LIWC2015\n",
        "GROUP BY term\n",
        "ORDER BY number_of_categories DESC;"
      ]
    },
    {
      "cell_type": "markdown",
      "metadata": {
        "id": "10xqldjvoO1f"
      },
      "source": [
        "Alright, seem's like some pronouns (+ stems) are in multiple dictionaries. But let's see what categories the word `perfected` (which is a content word) is in."
      ]
    },
    {
      "cell_type": "markdown",
      "metadata": {
        "id": "XtgSNGwdoO1f"
      },
      "source": [
        "#### 👩‍🔬💻 Exercise\n",
        "\n",
        "Can you write the command to check the categories that `perfected` is in?"
      ]
    },
    {
      "cell_type": "code",
      "execution_count": null,
      "metadata": {
        "id": "jULikazVoO1f",
        "colab": {
          "base_uri": "https://localhost:8080/",
          "height": 250
        },
        "outputId": "6132b40b-053a-4cd3-c180-fe305fbf08a4"
      },
      "outputs": [
        {
          "output_type": "display_data",
          "data": {
            "text/plain": [
              "Running query in 'sqlite:///sqlite_data/dlatk_lexica.db?charset=utf8mb4'"
            ],
            "text/html": [
              "<span style=\"None\">Running query in &#x27;sqlite:///sqlite_data/dlatk_lexica.db?charset=utf8mb4&#x27;</span>"
            ]
          },
          "metadata": {}
        },
        {
          "output_type": "execute_result",
          "data": {
            "text/plain": [
              "+-----------+-----------+\n",
              "|    term   |  category |\n",
              "+-----------+-----------+\n",
              "| perfected |   POSEMO  |\n",
              "| perfected |   AFFECT  |\n",
              "| perfected |  COGPROC  |\n",
              "| perfected | FOCUSPAST |\n",
              "| perfected |   DRIVES  |\n",
              "| perfected |    VERB   |\n",
              "| perfected |  ACHIEVE  |\n",
              "| perfected |   REWARD  |\n",
              "| perfected |  CERTAIN  |\n",
              "+-----------+-----------+"
            ],
            "text/html": [
              "<table>\n",
              "    <thead>\n",
              "        <tr>\n",
              "            <th>term</th>\n",
              "            <th>category</th>\n",
              "        </tr>\n",
              "    </thead>\n",
              "    <tbody>\n",
              "        <tr>\n",
              "            <td>perfected</td>\n",
              "            <td>POSEMO</td>\n",
              "        </tr>\n",
              "        <tr>\n",
              "            <td>perfected</td>\n",
              "            <td>AFFECT</td>\n",
              "        </tr>\n",
              "        <tr>\n",
              "            <td>perfected</td>\n",
              "            <td>COGPROC</td>\n",
              "        </tr>\n",
              "        <tr>\n",
              "            <td>perfected</td>\n",
              "            <td>FOCUSPAST</td>\n",
              "        </tr>\n",
              "        <tr>\n",
              "            <td>perfected</td>\n",
              "            <td>DRIVES</td>\n",
              "        </tr>\n",
              "        <tr>\n",
              "            <td>perfected</td>\n",
              "            <td>VERB</td>\n",
              "        </tr>\n",
              "        <tr>\n",
              "            <td>perfected</td>\n",
              "            <td>ACHIEVE</td>\n",
              "        </tr>\n",
              "        <tr>\n",
              "            <td>perfected</td>\n",
              "            <td>REWARD</td>\n",
              "        </tr>\n",
              "        <tr>\n",
              "            <td>perfected</td>\n",
              "            <td>CERTAIN</td>\n",
              "        </tr>\n",
              "    </tbody>\n",
              "</table>"
            ]
          },
          "metadata": {},
          "execution_count": 37
        }
      ],
      "source": [
        "%%sql\n",
        "\n",
        "SELECT term, category\n",
        "FROM LIWC2015\n",
        "WHERE term = \"perfected\""
      ]
    },
    {
      "cell_type": "markdown",
      "metadata": {
        "id": "_sN5Gw4ZoO1f"
      },
      "source": [
        "Interesting...\n",
        "\n",
        "This tells us something about LIWC -- the same word can show up all over the place.\n",
        "\n",
        "FYI, some of these categories are nested: every word in `POSEMO` is also in the `AFFECT` dictionary, all `ACHIEVE` words are in `DRIVE`, etc. (see page 4 here in the [LIWC manual](https://repositories.lib.utexas.edu/bitstream/handle/2152/31333/LIWC2015_LanguageManual.pdf)).\n",
        "\n",
        "While we are at it, let's look at the word \"love\", which does all sorts of damage when measured with dictionaries [(see here for a discussion](https://static1.squarespace.com/static/53d29678e4b04e06965e9423/t/5f2ad5ec2985cb6e8e2e6548/1596642799449/PNAS-2020-subjectiveWellBeing.pdf), third page, under Highly Frequent Words)."
      ]
    },
    {
      "cell_type": "code",
      "execution_count": null,
      "metadata": {
        "id": "kmRJ1jY-oO1f",
        "colab": {
          "base_uri": "https://localhost:8080/",
          "height": 186
        },
        "outputId": "b9396764-8a21-4b6b-8842-5193c83a01d8"
      },
      "outputs": [
        {
          "output_type": "display_data",
          "data": {
            "text/plain": [
              "Running query in 'sqlite:///sqlite_data/dlatk_lexica.db?charset=utf8mb4'"
            ],
            "text/html": [
              "<span style=\"None\">Running query in &#x27;sqlite:///sqlite_data/dlatk_lexica.db?charset=utf8mb4&#x27;</span>"
            ]
          },
          "metadata": {}
        },
        {
          "output_type": "execute_result",
          "data": {
            "text/plain": [
              "+------+-------------+\n",
              "| term |   category  |\n",
              "+------+-------------+\n",
              "| love |    POSEMO   |\n",
              "| love |    AFFECT   |\n",
              "| love |     BIO     |\n",
              "| love |    SOCIAL   |\n",
              "| love |    DRIVES   |\n",
              "| love | AFFILIATION |\n",
              "+------+-------------+"
            ],
            "text/html": [
              "<table>\n",
              "    <thead>\n",
              "        <tr>\n",
              "            <th>term</th>\n",
              "            <th>category</th>\n",
              "        </tr>\n",
              "    </thead>\n",
              "    <tbody>\n",
              "        <tr>\n",
              "            <td>love</td>\n",
              "            <td>POSEMO</td>\n",
              "        </tr>\n",
              "        <tr>\n",
              "            <td>love</td>\n",
              "            <td>AFFECT</td>\n",
              "        </tr>\n",
              "        <tr>\n",
              "            <td>love</td>\n",
              "            <td>BIO</td>\n",
              "        </tr>\n",
              "        <tr>\n",
              "            <td>love</td>\n",
              "            <td>SOCIAL</td>\n",
              "        </tr>\n",
              "        <tr>\n",
              "            <td>love</td>\n",
              "            <td>DRIVES</td>\n",
              "        </tr>\n",
              "        <tr>\n",
              "            <td>love</td>\n",
              "            <td>AFFILIATION</td>\n",
              "        </tr>\n",
              "    </tbody>\n",
              "</table>"
            ]
          },
          "metadata": {},
          "execution_count": 38
        }
      ],
      "source": [
        "%%sql\n",
        "\n",
        "SELECT term, category\n",
        "FROM LIWC2015\n",
        "WHERE term = \"love\""
      ]
    },
    {
      "cell_type": "markdown",
      "metadata": {
        "id": "Pwi_GJSOoO1f"
      },
      "source": [
        "Good to know where it shows up!"
      ]
    },
    {
      "cell_type": "markdown",
      "metadata": {
        "id": "IXq0fTUVoO1g"
      },
      "source": [
        "## 4) Dictionary extraction\n",
        "\n",
        "Alright, we've gotten a sense of how dictionary tables work. Let's extract dictionaries. Basically, here is the logic\n",
        "\n",
        "* For every user (i.e., group_id)\n",
        "    * For every dictionary\n",
        "        * Count how many words that he/she uses are in the dictionary\n",
        "        * Divide that number by the total number of words that he/she has written\n",
        "\n",
        "This will be in a feature table which will tell us, for example, that `5.3%` of the words by user `11111` are `POSEMO` words (that is, match `terms` in the POSEMO `category` (dictionary) in the LIWC2015 table (set of dictionaries)).\n",
        "\n",
        "Ok, let's tell DLATK to do this for all users with a mini LIWC2015 (`mini_LIWC2015`) set of dictionaries that's a little easier to explore. It just contains `POSEMO`, `NEGEMO` and `SOCIAL` words."
      ]
    },
    {
      "cell_type": "code",
      "execution_count": null,
      "metadata": {
        "id": "126_YuYfoO1g",
        "colab": {
          "base_uri": "https://localhost:8080/",
          "height": 122
        },
        "outputId": "4e35dd76-0c33-4602-903a-934f17180da9"
      },
      "outputs": [
        {
          "output_type": "display_data",
          "data": {
            "text/plain": [
              "Running query in 'sqlite:///sqlite_data/dlatk_lexica.db?charset=utf8mb4'"
            ],
            "text/html": [
              "<span style=\"None\">Running query in &#x27;sqlite:///sqlite_data/dlatk_lexica.db?charset=utf8mb4&#x27;</span>"
            ]
          },
          "metadata": {}
        },
        {
          "output_type": "execute_result",
          "data": {
            "text/plain": [
              "+----------+-------------------+\n",
              "| category | terms_in_category |\n",
              "+----------+-------------------+\n",
              "|  NEGEMO  |        746        |\n",
              "|  POSEMO  |        622        |\n",
              "|  SOCIAL  |        756        |\n",
              "+----------+-------------------+"
            ],
            "text/html": [
              "<table>\n",
              "    <thead>\n",
              "        <tr>\n",
              "            <th>category</th>\n",
              "            <th>terms_in_category</th>\n",
              "        </tr>\n",
              "    </thead>\n",
              "    <tbody>\n",
              "        <tr>\n",
              "            <td>NEGEMO</td>\n",
              "            <td>746</td>\n",
              "        </tr>\n",
              "        <tr>\n",
              "            <td>POSEMO</td>\n",
              "            <td>622</td>\n",
              "        </tr>\n",
              "        <tr>\n",
              "            <td>SOCIAL</td>\n",
              "            <td>756</td>\n",
              "        </tr>\n",
              "    </tbody>\n",
              "</table>"
            ]
          },
          "metadata": {},
          "execution_count": 39
        }
      ],
      "source": [
        "%%sql\n",
        "\n",
        "SELECT category, COUNT(*) AS terms_in_category\n",
        "FROM mini_LIWC2015\n",
        "GROUP BY category;"
      ]
    },
    {
      "cell_type": "markdown",
      "metadata": {
        "id": "tQN-COQnoO1g"
      },
      "source": [
        "### 4a) DLATK command: Dictionary extraction\n",
        "\n",
        "⚠️ Before extracting dictionary features, we need to make sure that we have the 1gram feature table as dictionary extraction depends on it. Else, dictionary extraction throws an error."
      ]
    },
    {
      "cell_type": "markdown",
      "metadata": {
        "id": "OcjkYyYpoO1g"
      },
      "source": [
        "Other than the first three, that we always need for a DLATK command, the dictionary extraction flags are\n",
        "\n",
        "`--add_lex_table -l mini_LIWC2015`,\n",
        "\n",
        "where the string after -l gives the name of the dictionary table in the `dlatk_lexica` database we want to extract. In this case, it's `mini_LIWC2015`\n",
        "\n",
        "⚠️ note: long flags get two dashes (`--add_lex_table`), short single letter flags and parameters are given with one dash (`-l mini_LIWC2015`, or `-n 1`)."
      ]
    },
    {
      "cell_type": "code",
      "source": [
        "database = \"dla_tutorial\"\n",
        "msgs_table = \"msgs\""
      ],
      "metadata": {
        "id": "o9IVsm3gvEo3"
      },
      "execution_count": null,
      "outputs": []
    },
    {
      "cell_type": "code",
      "execution_count": null,
      "metadata": {
        "id": "M0jK799OoO1g"
      },
      "outputs": [],
      "source": [
        "!dlatkInterface.py \\\n",
        "    --corpdb {database} \\\n",
        "    --corptable {msgs_table} \\\n",
        "    --correl_field user_id \\\n",
        "    --add_lex_table -l mini_LIWC2015"
      ]
    },
    {
      "cell_type": "markdown",
      "metadata": {
        "id": "XmBhYehKoO1g"
      },
      "source": [
        "That was quick. So first of all, let's look at the new feature table that was created here:\n",
        "\n",
        "`feat$cat_mini_LIWC2015$msgs$user_id$1gra`"
      ]
    },
    {
      "cell_type": "markdown",
      "metadata": {
        "id": "LruGL9wXoO1g"
      },
      "source": [
        "## 5) Understanding dictionary feature tables\n",
        "\n",
        "Let's look at the columns in the feature table `feat$cat_mini_LIWC2015$msgs$user_id$1gra`."
      ]
    },
    {
      "cell_type": "markdown",
      "source": [
        "First we point our handy `%sql` extension to the dla_tutorial database again.\n",
        "\n",
        "⚠️ Remember, with this database switching, you may run into an error like \"other database already being used!\", then you just `run %reload_ext sql`!"
      ],
      "metadata": {
        "id": "cE1rKv04rsL9"
      }
    },
    {
      "cell_type": "code",
      "source": [
        "# %reload_ext sql # if needed!"
      ],
      "metadata": {
        "id": "n1F2Ygy0oXxP"
      },
      "execution_count": null,
      "outputs": []
    },
    {
      "cell_type": "code",
      "source": [
        "# switch into tutorial_db_engine (= \"dla_tutorial.db\")\n",
        "%sql tutorial_db_engine"
      ],
      "metadata": {
        "id": "3SRBE1wWrzGu"
      },
      "execution_count": null,
      "outputs": []
    },
    {
      "cell_type": "code",
      "execution_count": null,
      "metadata": {
        "id": "8Lmfja4DoO1g"
      },
      "outputs": [],
      "source": [
        "feat_mini_liwc_usr = 'feat$cat_mini_LIWC2015$msgs$user_id$1gra'"
      ]
    },
    {
      "cell_type": "code",
      "source": [
        "%%sql\n",
        "\n",
        "PRAGMA table_info( {{feat_mini_liwc_usr}} )"
      ],
      "metadata": {
        "id": "6bz_E7qNvZWt",
        "outputId": "67e5ce8f-9343-4876-b1a9-82ef5ab775ff",
        "colab": {
          "base_uri": "https://localhost:8080/",
          "height": 165
        }
      },
      "execution_count": null,
      "outputs": [
        {
          "output_type": "display_data",
          "data": {
            "text/plain": [
              "Running query in 'sqlite:///sqlite_data/dla_tutorial.db?charset=utf8mb4'"
            ],
            "text/html": [
              "<span style=\"None\">Running query in &#x27;sqlite:///sqlite_data/dla_tutorial.db?charset=utf8mb4&#x27;</span>"
            ]
          },
          "metadata": {}
        },
        {
          "output_type": "execute_result",
          "data": {
            "text/plain": [
              "+-----+------------+-------------+---------+------------+----+\n",
              "| cid |    name    |     type    | notnull | dflt_value | pk |\n",
              "+-----+------------+-------------+---------+------------+----+\n",
              "|  0  |     id     |   INTEGER   |    0    |    None    | 1  |\n",
              "|  1  |  group_id  |   INTEGER   |    0    |    None    | 0  |\n",
              "|  2  |    feat    | VARCHAR(10) |    0    |    None    | 0  |\n",
              "|  3  |   value    |   INTEGER   |    0    |    None    | 0  |\n",
              "|  4  | group_norm |    DOUBLE   |    0    |    None    | 0  |\n",
              "+-----+------------+-------------+---------+------------+----+"
            ],
            "text/html": [
              "<table>\n",
              "    <thead>\n",
              "        <tr>\n",
              "            <th>cid</th>\n",
              "            <th>name</th>\n",
              "            <th>type</th>\n",
              "            <th>notnull</th>\n",
              "            <th>dflt_value</th>\n",
              "            <th>pk</th>\n",
              "        </tr>\n",
              "    </thead>\n",
              "    <tbody>\n",
              "        <tr>\n",
              "            <td>0</td>\n",
              "            <td>id</td>\n",
              "            <td>INTEGER</td>\n",
              "            <td>0</td>\n",
              "            <td>None</td>\n",
              "            <td>1</td>\n",
              "        </tr>\n",
              "        <tr>\n",
              "            <td>1</td>\n",
              "            <td>group_id</td>\n",
              "            <td>INTEGER</td>\n",
              "            <td>0</td>\n",
              "            <td>None</td>\n",
              "            <td>0</td>\n",
              "        </tr>\n",
              "        <tr>\n",
              "            <td>2</td>\n",
              "            <td>feat</td>\n",
              "            <td>VARCHAR(10)</td>\n",
              "            <td>0</td>\n",
              "            <td>None</td>\n",
              "            <td>0</td>\n",
              "        </tr>\n",
              "        <tr>\n",
              "            <td>3</td>\n",
              "            <td>value</td>\n",
              "            <td>INTEGER</td>\n",
              "            <td>0</td>\n",
              "            <td>None</td>\n",
              "            <td>0</td>\n",
              "        </tr>\n",
              "        <tr>\n",
              "            <td>4</td>\n",
              "            <td>group_norm</td>\n",
              "            <td>DOUBLE</td>\n",
              "            <td>0</td>\n",
              "            <td>None</td>\n",
              "            <td>0</td>\n",
              "        </tr>\n",
              "    </tbody>\n",
              "</table>"
            ]
          },
          "metadata": {},
          "execution_count": 50
        }
      ]
    },
    {
      "cell_type": "markdown",
      "source": [
        "```\n",
        "🐬🐬🐬\n",
        "SHOW COLUMNS FROM {feat_mini_liwc_usr};\n",
        "🐬🐬🐬\n",
        "```"
      ],
      "metadata": {
        "id": "a3wxFGdDoO1g"
      }
    },
    {
      "cell_type": "markdown",
      "metadata": {
        "id": "zQuWFUuHoO1g"
      },
      "source": [
        "Feature tables can be confusing. The thing to note about them is  \n",
        "* their columns/fields always have the same names (`id`, `group_id`, `feat`, `value`, `group_norm`).\n",
        "* the **name** of the feature table tells us how the table came about, and what exactly is in it.\n",
        "\n",
        "In the name of this table, the `cat_` prefix means that it was created with `--add_lex_table`.\n",
        "\n",
        "Let's look at the contents now. The offset command in conjunction with the limit skips the first 100 rows, and then shows you 10. It's a way to avoid always looking at the same darn 10 rows at the top of the table (instead you are now looking at rows 101-110)."
      ]
    },
    {
      "cell_type": "code",
      "execution_count": null,
      "metadata": {
        "id": "jNS0iXVMoO1h"
      },
      "outputs": [],
      "source": [
        "feat_mini_liwc_usr = 'feat$cat_mini_LIWC2015$msgs$user_id$1gra'"
      ]
    },
    {
      "cell_type": "code",
      "execution_count": null,
      "metadata": {
        "id": "_zqeOBjDoO1h",
        "colab": {
          "base_uri": "https://localhost:8080/",
          "height": 271
        },
        "outputId": "0730fa38-1a49-440f-9eb0-b5372e37137a"
      },
      "outputs": [
        {
          "output_type": "display_data",
          "data": {
            "text/plain": [
              "Running query in 'sqlite:///sqlite_data/dla_tutorial.db?charset=utf8mb4'"
            ],
            "text/html": [
              "<span style=\"None\">Running query in &#x27;sqlite:///sqlite_data/dla_tutorial.db?charset=utf8mb4&#x27;</span>"
            ]
          },
          "metadata": {}
        },
        {
          "output_type": "execute_result",
          "data": {
            "text/plain": [
              "+-----+----------+------------+-------+-----------------------+\n",
              "|  id | group_id |    feat    | value |       group_norm      |\n",
              "+-----+----------+------------+-------+-----------------------+\n",
              "| 101 |  911744  |   POSEMO   |   28  |  0.019138755980861254 |\n",
              "| 102 |  911744  |   SOCIAL   |   86  |  0.05878332194121671  |\n",
              "| 103 |  911744  |   NEGEMO   |   8   | 0.0054682159945317835 |\n",
              "| 104 |  911744  | _intercept |   1   |          1.0          |\n",
              "| 105 |  918175  |   NEGEMO   |   83  |  0.01651084145613686  |\n",
              "| 106 |  918175  |   SOCIAL   |  433  |  0.08613487169285848  |\n",
              "| 107 |  918175  |   POSEMO   |   87  |  0.017306544658842248 |\n",
              "| 108 |  918175  | _intercept |   1   |          1.0          |\n",
              "| 109 |  942828  |   POSEMO   | 11500 |  0.03148002660746589  |\n",
              "| 110 |  942828  |   SOCIAL   | 33033 |  0.09042432338473333  |\n",
              "+-----+----------+------------+-------+-----------------------+"
            ],
            "text/html": [
              "<table>\n",
              "    <thead>\n",
              "        <tr>\n",
              "            <th>id</th>\n",
              "            <th>group_id</th>\n",
              "            <th>feat</th>\n",
              "            <th>value</th>\n",
              "            <th>group_norm</th>\n",
              "        </tr>\n",
              "    </thead>\n",
              "    <tbody>\n",
              "        <tr>\n",
              "            <td>101</td>\n",
              "            <td>911744</td>\n",
              "            <td>POSEMO</td>\n",
              "            <td>28</td>\n",
              "            <td>0.019138755980861254</td>\n",
              "        </tr>\n",
              "        <tr>\n",
              "            <td>102</td>\n",
              "            <td>911744</td>\n",
              "            <td>SOCIAL</td>\n",
              "            <td>86</td>\n",
              "            <td>0.05878332194121671</td>\n",
              "        </tr>\n",
              "        <tr>\n",
              "            <td>103</td>\n",
              "            <td>911744</td>\n",
              "            <td>NEGEMO</td>\n",
              "            <td>8</td>\n",
              "            <td>0.0054682159945317835</td>\n",
              "        </tr>\n",
              "        <tr>\n",
              "            <td>104</td>\n",
              "            <td>911744</td>\n",
              "            <td>_intercept</td>\n",
              "            <td>1</td>\n",
              "            <td>1.0</td>\n",
              "        </tr>\n",
              "        <tr>\n",
              "            <td>105</td>\n",
              "            <td>918175</td>\n",
              "            <td>NEGEMO</td>\n",
              "            <td>83</td>\n",
              "            <td>0.01651084145613686</td>\n",
              "        </tr>\n",
              "        <tr>\n",
              "            <td>106</td>\n",
              "            <td>918175</td>\n",
              "            <td>SOCIAL</td>\n",
              "            <td>433</td>\n",
              "            <td>0.08613487169285848</td>\n",
              "        </tr>\n",
              "        <tr>\n",
              "            <td>107</td>\n",
              "            <td>918175</td>\n",
              "            <td>POSEMO</td>\n",
              "            <td>87</td>\n",
              "            <td>0.017306544658842248</td>\n",
              "        </tr>\n",
              "        <tr>\n",
              "            <td>108</td>\n",
              "            <td>918175</td>\n",
              "            <td>_intercept</td>\n",
              "            <td>1</td>\n",
              "            <td>1.0</td>\n",
              "        </tr>\n",
              "        <tr>\n",
              "            <td>109</td>\n",
              "            <td>942828</td>\n",
              "            <td>POSEMO</td>\n",
              "            <td>11500</td>\n",
              "            <td>0.03148002660746589</td>\n",
              "        </tr>\n",
              "        <tr>\n",
              "            <td>110</td>\n",
              "            <td>942828</td>\n",
              "            <td>SOCIAL</td>\n",
              "            <td>33033</td>\n",
              "            <td>0.09042432338473333</td>\n",
              "        </tr>\n",
              "    </tbody>\n",
              "</table>"
            ]
          },
          "metadata": {},
          "execution_count": 52
        }
      ],
      "source": [
        "%%sql\n",
        "\n",
        "SELECT *\n",
        "FROM {{feat_mini_liwc_usr}}\n",
        "LIMIT 10\n",
        "OFFSET 100;"
      ]
    },
    {
      "cell_type": "markdown",
      "metadata": {
        "id": "-KvUvczEoO1h"
      },
      "source": [
        "In table `feat$cat_mini_LIWC2015$msgs$user_id$1gra`,\n",
        "- **group_id** -- `user_id` from `msgs`, represents a user\n",
        "- **feat** -- One of several categories (dictionaries) from our lexicon table, `mini_LIWC2015`\n",
        "- **value** -- Number of times a word in the category mentioned in `feat` is used by user in `group_id`\n",
        "- **group_norm** -- Proportion of words used by user in `group_id` that belong to category in `feat`\n",
        "\n",
        "### 5a) How the feature table name connects to its contents\n",
        "\n",
        "This is now the second time that we are encountering a feature table -- in the previous tutorial, we had a 1gram table. Now we have a dictionary table.\n",
        "\n",
        "For the dictionary table `feat$cat_mini_LIWC2015$msgs$user_id$1gra`\n",
        "\n",
        "| this column in the feature table... | ...contains this (as recorded in table name)|\n",
        "|------|------|\n",
        "| feat | **categories in _mini_LIWC2015_** |\n",
        "| group_id | user_id |\n",
        "\n",
        "Compare this to the 1gram table `feat$1gram$msgs$user_id$16to16`\n",
        "\n",
        "| this column in the feature table... | ...contains this (as recorded in table name)|\n",
        "|------|------|\n",
        "| feat | **1gram** |\n",
        "| group_id | user_id |\n",
        "\n",
        "For example, for a particular user_id:"
      ]
    },
    {
      "cell_type": "code",
      "execution_count": null,
      "metadata": {
        "id": "GyvdDQ4JoO1h"
      },
      "outputs": [],
      "source": [
        "feat_mini_liwc_usr = 'feat$cat_mini_LIWC2015$msgs$user_id$1gra'"
      ]
    },
    {
      "cell_type": "code",
      "execution_count": null,
      "metadata": {
        "id": "NkiOiUHooO1h",
        "colab": {
          "base_uri": "https://localhost:8080/",
          "height": 143
        },
        "outputId": "359385d0-16c4-4b1a-d445-4a312c9f1cc8"
      },
      "outputs": [
        {
          "output_type": "display_data",
          "data": {
            "text/plain": [
              "Running query in 'sqlite:///sqlite_data/dla_tutorial.db?charset=utf8mb4'"
            ],
            "text/html": [
              "<span style=\"None\">Running query in &#x27;sqlite:///sqlite_data/dla_tutorial.db?charset=utf8mb4&#x27;</span>"
            ]
          },
          "metadata": {}
        },
        {
          "output_type": "execute_result",
          "data": {
            "text/plain": [
              "+-----+----------+------------+-------+-----------------------+\n",
              "|  id | group_id |    feat    | value |       group_norm      |\n",
              "+-----+----------+------------+-------+-----------------------+\n",
              "| 101 |  911744  |   POSEMO   |   28  |  0.019138755980861254 |\n",
              "| 102 |  911744  |   SOCIAL   |   86  |  0.05878332194121671  |\n",
              "| 103 |  911744  |   NEGEMO   |   8   | 0.0054682159945317835 |\n",
              "| 104 |  911744  | _intercept |   1   |          1.0          |\n",
              "+-----+----------+------------+-------+-----------------------+"
            ],
            "text/html": [
              "<table>\n",
              "    <thead>\n",
              "        <tr>\n",
              "            <th>id</th>\n",
              "            <th>group_id</th>\n",
              "            <th>feat</th>\n",
              "            <th>value</th>\n",
              "            <th>group_norm</th>\n",
              "        </tr>\n",
              "    </thead>\n",
              "    <tbody>\n",
              "        <tr>\n",
              "            <td>101</td>\n",
              "            <td>911744</td>\n",
              "            <td>POSEMO</td>\n",
              "            <td>28</td>\n",
              "            <td>0.019138755980861254</td>\n",
              "        </tr>\n",
              "        <tr>\n",
              "            <td>102</td>\n",
              "            <td>911744</td>\n",
              "            <td>SOCIAL</td>\n",
              "            <td>86</td>\n",
              "            <td>0.05878332194121671</td>\n",
              "        </tr>\n",
              "        <tr>\n",
              "            <td>103</td>\n",
              "            <td>911744</td>\n",
              "            <td>NEGEMO</td>\n",
              "            <td>8</td>\n",
              "            <td>0.0054682159945317835</td>\n",
              "        </tr>\n",
              "        <tr>\n",
              "            <td>104</td>\n",
              "            <td>911744</td>\n",
              "            <td>_intercept</td>\n",
              "            <td>1</td>\n",
              "            <td>1.0</td>\n",
              "        </tr>\n",
              "    </tbody>\n",
              "</table>"
            ]
          },
          "metadata": {},
          "execution_count": 54
        }
      ],
      "source": [
        "%%sql\n",
        "\n",
        "SELECT *\n",
        "FROM {{feat_mini_liwc_usr}}\n",
        "WHERE group_id = 911744;"
      ]
    },
    {
      "cell_type": "markdown",
      "metadata": {
        "id": "fRZ0pEIZoO1h"
      },
      "source": [
        "User `911744` has used:\n",
        "- 28 words in LIWC category `POSEMO`\n",
        "- 86 words in LIWC category `SOCIAL`\n",
        "- 8 words in LIWC category `NEGEMO`\n",
        "- `_intercept`: **you can ignore this, if you like**. It's a dummy for every `group_id` that DLATK adds to make sure that every `group_id` shows up in this table, even if a particular `group_id` did not use any words in the `feat` categories (here: POSEMO, SOCIAL, or NEGEMO). This is to take into account the sparse encoding of feature tables-- group_ids would not get feature rows for dictionaries they did not mention, and so would not appear in the table otherwise.\n",
        "\n",
        "Having this `_intercept` in here makes sure that if you run `count(distinct(group_id))` on a lexicon table,  you'll always get the total number of `group_id`'s that were in the message table.\n",
        "\n",
        "At this point, a LIWC-minded person might say this person expresses more social words than negemo words, for example (but that makes strong assumptions about the recall of the dictionaries -- that they really hit all the social and negemo expressions that are out there in the world)."
      ]
    },
    {
      "cell_type": "markdown",
      "metadata": {
        "id": "ITTcWmxWoO1h"
      },
      "source": [
        "#### 👩‍🔬💻 Exercise\n",
        "\n",
        "Do the group_norms (ignoring `_intercept`) sum to 1 in a lex table? Why or why not?"
      ]
    },
    {
      "cell_type": "code",
      "execution_count": null,
      "metadata": {
        "id": "gwNI4TjCoO1i"
      },
      "outputs": [],
      "source": [
        "feat_mini_liwc_usr = 'feat$cat_mini_LIWC2015$msgs$user_id$1gra '"
      ]
    },
    {
      "cell_type": "code",
      "execution_count": null,
      "metadata": {
        "id": "Z-qpDaaUoO1i",
        "colab": {
          "base_uri": "https://localhost:8080/",
          "height": 1000
        },
        "outputId": "06daca59-cc73-4105-a0c5-5aa5f3612e1f"
      },
      "outputs": [
        {
          "output_type": "display_data",
          "data": {
            "text/plain": [
              "Running query in 'sqlite:///sqlite_data/dla_tutorial.db?charset=utf8mb4'"
            ],
            "text/html": [
              "<span style=\"None\">Running query in &#x27;sqlite:///sqlite_data/dla_tutorial.db?charset=utf8mb4&#x27;</span>"
            ]
          },
          "metadata": {}
        },
        {
          "output_type": "execute_result",
          "data": {
            "text/plain": [
              "+----------+----------------------+\n",
              "| group_id |   SUM(group_norm)    |\n",
              "+----------+----------------------+\n",
              "|  28451   | 0.12488083889418486  |\n",
              "|  174357  | 0.15716486902927582  |\n",
              "|  216833  |  0.1058989617398455  |\n",
              "|  317581  | 0.13893232715951898  |\n",
              "|  446275  |  0.1562216167120802  |\n",
              "|  450169  | 0.07966457023060797  |\n",
              "|  468786  | 0.18045977011494235  |\n",
              "|  477665  | 0.14034593850677132  |\n",
              "|  483266  | 0.08835904628330996  |\n",
              "|  485307  |  0.1370772946859904  |\n",
              "|  517266  | 0.13261142498430661  |\n",
              "|  518116  | 0.15179005783679617  |\n",
              "|  664485  | 0.14857738158838873  |\n",
              "|  669116  | 0.12931151907738356  |\n",
              "|  671748  | 0.10703414918900878  |\n",
              "|  673235  | 0.14161849710982669  |\n",
              "|  715237  | 0.12890972278348073  |\n",
              "|  734023  | 0.12008281573498963  |\n",
              "|  743739  | 0.10669456066945596  |\n",
              "|  791840  | 0.11521367521367525  |\n",
              "|  808956  |  0.1239151179170268  |\n",
              "|  825029  | 0.12427716849451619  |\n",
              "|  828778  |  0.130071099958176   |\n",
              "|  832265  | 0.10581094654955064  |\n",
              "|  882528  |  0.1475457449898346  |\n",
              "|  911744  | 0.08339029391660975  |\n",
              "|  918175  |  0.1199522578078376  |\n",
              "|  942828  | 0.13723101685960792  |\n",
              "|  950122  | 0.11303524958599523  |\n",
              "|  979795  | 0.11027036594539658  |\n",
              "| 1007188  | 0.08979841172877218  |\n",
              "| 1011311  |  0.1315840419353401  |\n",
              "| 1039908  | 0.12379807692307683  |\n",
              "| 1077954  | 0.07826396300249026  |\n",
              "| 1111991  | 0.15734767025089585  |\n",
              "| 1143104  | 0.16497203863751939  |\n",
              "| 1156278  | 0.09187089862059691  |\n",
              "| 1188176  | 0.12980623215695727  |\n",
              "| 1196970  |  0.1230095841823261  |\n",
              "| 1197086  | 0.061083743842364514 |\n",
              "| 1223044  | 0.13636363636363635  |\n",
              "| 1223561  | 0.11499360808425114  |\n",
              "| 1225881  | 0.09649871904355249  |\n",
              "| 1232458  |  0.1354252683732452  |\n",
              "| 1234212  | 0.12089731544657903  |\n",
              "| 1240274  | 0.12202556013047483  |\n",
              "| 1254400  | 0.14675052410901468  |\n",
              "| 1261679  | 0.13554216867469912  |\n",
              "| 1270372  |  0.0978027867095392  |\n",
              "| 1292625  |  0.1346079753419379  |\n",
              "+----------+----------------------+\n",
              "Truncated to displaylimit of 50."
            ],
            "text/html": [
              "<table>\n",
              "    <thead>\n",
              "        <tr>\n",
              "            <th>group_id</th>\n",
              "            <th>SUM(group_norm)</th>\n",
              "        </tr>\n",
              "    </thead>\n",
              "    <tbody>\n",
              "        <tr>\n",
              "            <td>28451</td>\n",
              "            <td>0.12488083889418486</td>\n",
              "        </tr>\n",
              "        <tr>\n",
              "            <td>174357</td>\n",
              "            <td>0.15716486902927582</td>\n",
              "        </tr>\n",
              "        <tr>\n",
              "            <td>216833</td>\n",
              "            <td>0.1058989617398455</td>\n",
              "        </tr>\n",
              "        <tr>\n",
              "            <td>317581</td>\n",
              "            <td>0.13893232715951898</td>\n",
              "        </tr>\n",
              "        <tr>\n",
              "            <td>446275</td>\n",
              "            <td>0.1562216167120802</td>\n",
              "        </tr>\n",
              "        <tr>\n",
              "            <td>450169</td>\n",
              "            <td>0.07966457023060797</td>\n",
              "        </tr>\n",
              "        <tr>\n",
              "            <td>468786</td>\n",
              "            <td>0.18045977011494235</td>\n",
              "        </tr>\n",
              "        <tr>\n",
              "            <td>477665</td>\n",
              "            <td>0.14034593850677132</td>\n",
              "        </tr>\n",
              "        <tr>\n",
              "            <td>483266</td>\n",
              "            <td>0.08835904628330996</td>\n",
              "        </tr>\n",
              "        <tr>\n",
              "            <td>485307</td>\n",
              "            <td>0.1370772946859904</td>\n",
              "        </tr>\n",
              "        <tr>\n",
              "            <td>517266</td>\n",
              "            <td>0.13261142498430661</td>\n",
              "        </tr>\n",
              "        <tr>\n",
              "            <td>518116</td>\n",
              "            <td>0.15179005783679617</td>\n",
              "        </tr>\n",
              "        <tr>\n",
              "            <td>664485</td>\n",
              "            <td>0.14857738158838873</td>\n",
              "        </tr>\n",
              "        <tr>\n",
              "            <td>669116</td>\n",
              "            <td>0.12931151907738356</td>\n",
              "        </tr>\n",
              "        <tr>\n",
              "            <td>671748</td>\n",
              "            <td>0.10703414918900878</td>\n",
              "        </tr>\n",
              "        <tr>\n",
              "            <td>673235</td>\n",
              "            <td>0.14161849710982669</td>\n",
              "        </tr>\n",
              "        <tr>\n",
              "            <td>715237</td>\n",
              "            <td>0.12890972278348073</td>\n",
              "        </tr>\n",
              "        <tr>\n",
              "            <td>734023</td>\n",
              "            <td>0.12008281573498963</td>\n",
              "        </tr>\n",
              "        <tr>\n",
              "            <td>743739</td>\n",
              "            <td>0.10669456066945596</td>\n",
              "        </tr>\n",
              "        <tr>\n",
              "            <td>791840</td>\n",
              "            <td>0.11521367521367525</td>\n",
              "        </tr>\n",
              "        <tr>\n",
              "            <td>808956</td>\n",
              "            <td>0.1239151179170268</td>\n",
              "        </tr>\n",
              "        <tr>\n",
              "            <td>825029</td>\n",
              "            <td>0.12427716849451619</td>\n",
              "        </tr>\n",
              "        <tr>\n",
              "            <td>828778</td>\n",
              "            <td>0.130071099958176</td>\n",
              "        </tr>\n",
              "        <tr>\n",
              "            <td>832265</td>\n",
              "            <td>0.10581094654955064</td>\n",
              "        </tr>\n",
              "        <tr>\n",
              "            <td>882528</td>\n",
              "            <td>0.1475457449898346</td>\n",
              "        </tr>\n",
              "        <tr>\n",
              "            <td>911744</td>\n",
              "            <td>0.08339029391660975</td>\n",
              "        </tr>\n",
              "        <tr>\n",
              "            <td>918175</td>\n",
              "            <td>0.1199522578078376</td>\n",
              "        </tr>\n",
              "        <tr>\n",
              "            <td>942828</td>\n",
              "            <td>0.13723101685960792</td>\n",
              "        </tr>\n",
              "        <tr>\n",
              "            <td>950122</td>\n",
              "            <td>0.11303524958599523</td>\n",
              "        </tr>\n",
              "        <tr>\n",
              "            <td>979795</td>\n",
              "            <td>0.11027036594539658</td>\n",
              "        </tr>\n",
              "        <tr>\n",
              "            <td>1007188</td>\n",
              "            <td>0.08979841172877218</td>\n",
              "        </tr>\n",
              "        <tr>\n",
              "            <td>1011311</td>\n",
              "            <td>0.1315840419353401</td>\n",
              "        </tr>\n",
              "        <tr>\n",
              "            <td>1039908</td>\n",
              "            <td>0.12379807692307683</td>\n",
              "        </tr>\n",
              "        <tr>\n",
              "            <td>1077954</td>\n",
              "            <td>0.07826396300249026</td>\n",
              "        </tr>\n",
              "        <tr>\n",
              "            <td>1111991</td>\n",
              "            <td>0.15734767025089585</td>\n",
              "        </tr>\n",
              "        <tr>\n",
              "            <td>1143104</td>\n",
              "            <td>0.16497203863751939</td>\n",
              "        </tr>\n",
              "        <tr>\n",
              "            <td>1156278</td>\n",
              "            <td>0.09187089862059691</td>\n",
              "        </tr>\n",
              "        <tr>\n",
              "            <td>1188176</td>\n",
              "            <td>0.12980623215695727</td>\n",
              "        </tr>\n",
              "        <tr>\n",
              "            <td>1196970</td>\n",
              "            <td>0.1230095841823261</td>\n",
              "        </tr>\n",
              "        <tr>\n",
              "            <td>1197086</td>\n",
              "            <td>0.061083743842364514</td>\n",
              "        </tr>\n",
              "        <tr>\n",
              "            <td>1223044</td>\n",
              "            <td>0.13636363636363635</td>\n",
              "        </tr>\n",
              "        <tr>\n",
              "            <td>1223561</td>\n",
              "            <td>0.11499360808425114</td>\n",
              "        </tr>\n",
              "        <tr>\n",
              "            <td>1225881</td>\n",
              "            <td>0.09649871904355249</td>\n",
              "        </tr>\n",
              "        <tr>\n",
              "            <td>1232458</td>\n",
              "            <td>0.1354252683732452</td>\n",
              "        </tr>\n",
              "        <tr>\n",
              "            <td>1234212</td>\n",
              "            <td>0.12089731544657903</td>\n",
              "        </tr>\n",
              "        <tr>\n",
              "            <td>1240274</td>\n",
              "            <td>0.12202556013047483</td>\n",
              "        </tr>\n",
              "        <tr>\n",
              "            <td>1254400</td>\n",
              "            <td>0.14675052410901468</td>\n",
              "        </tr>\n",
              "        <tr>\n",
              "            <td>1261679</td>\n",
              "            <td>0.13554216867469912</td>\n",
              "        </tr>\n",
              "        <tr>\n",
              "            <td>1270372</td>\n",
              "            <td>0.0978027867095392</td>\n",
              "        </tr>\n",
              "        <tr>\n",
              "            <td>1292625</td>\n",
              "            <td>0.1346079753419379</td>\n",
              "        </tr>\n",
              "    </tbody>\n",
              "</table>\n",
              "<span style=\"font-style:italic;text-align:center;\">Truncated to <a href=\"https://jupysql.ploomber.io/en/latest/api/configuration.html#displaylimit\">displaylimit</a> of 50.</span>"
            ]
          },
          "metadata": {},
          "execution_count": 56
        }
      ],
      "source": [
        "%%sql\n",
        "\n",
        "SELECT group_id, SUM(group_norm)\n",
        "FROM (SELECT *\n",
        "      FROM {{feat_mini_liwc_usr}}\n",
        "      WHERE feat != '_intercept') AS without_inter\n",
        "GROUP BY group_id;"
      ]
    },
    {
      "cell_type": "markdown",
      "metadata": {
        "id": "1l8Sv2uqoO1i"
      },
      "source": [
        "As shown above, the `group_norm` without `_intercept` don't sum up to one, because all 1-grams need not occur in at least one dictionary."
      ]
    },
    {
      "cell_type": "code",
      "execution_count": null,
      "metadata": {
        "id": "kekEnXqloO1i"
      },
      "outputs": [],
      "source": [
        "feat_1gram_usr = 'feat$1gram$msgs$user_id'"
      ]
    },
    {
      "cell_type": "code",
      "execution_count": null,
      "metadata": {
        "id": "ks4gkEZ_oO1i",
        "colab": {
          "base_uri": "https://localhost:8080/",
          "height": 1000
        },
        "outputId": "427eed30-aaa8-4170-f84f-c0e7b1056e41"
      },
      "outputs": [
        {
          "output_type": "display_data",
          "data": {
            "text/plain": [
              "Running query in 'sqlite:///sqlite_data/dla_tutorial.db?charset=utf8mb4'"
            ],
            "text/html": [
              "<span style=\"None\">Running query in &#x27;sqlite:///sqlite_data/dla_tutorial.db?charset=utf8mb4&#x27;</span>"
            ]
          },
          "metadata": {}
        },
        {
          "output_type": "execute_result",
          "data": {
            "text/plain": [
              "+----------+--------+\n",
              "| group_id | tokens |\n",
              "+----------+--------+\n",
              "|  28451   |  1049  |\n",
              "|  174357  |  649   |\n",
              "|  216833  | 55959  |\n",
              "|  317581  | 69703  |\n",
              "|  446275  |  2202  |\n",
              "|  450169  |  954   |\n",
              "|  468786  |  870   |\n",
              "|  477665  | 31971  |\n",
              "|  483266  |  713   |\n",
              "|  485307  |  1656  |\n",
              "|  517266  |  6372  |\n",
              "|  518116  | 111002 |\n",
              "|  664485  | 262052 |\n",
              "|  669116  | 66073  |\n",
              "|  671748  | 47966  |\n",
              "|  673235  |  2076  |\n",
              "|  715237  | 12373  |\n",
              "|  734023  |  966   |\n",
              "|  743739  |  3824  |\n",
              "|  791840  |  2925  |\n",
              "|  808956  | 22007  |\n",
              "|  825029  | 40120  |\n",
              "|  828778  | 21519  |\n",
              "|  832265  | 46791  |\n",
              "|  882528  |  6886  |\n",
              "|  911744  |  1463  |\n",
              "|  918175  |  5027  |\n",
              "|  942828  | 365311 |\n",
              "|  950122  | 21135  |\n",
              "|  979795  | 135594 |\n",
              "| 1007188  |  1637  |\n",
              "| 1011311  | 67151  |\n",
              "| 1039908  |  7488  |\n",
              "| 1077954  |  2811  |\n",
              "| 1111991  |  5580  |\n",
              "| 1143104  |  7868  |\n",
              "| 1156278  | 29868  |\n",
              "| 1188176  | 32926  |\n",
              "| 1196970  | 26502  |\n",
              "| 1197086  |  1015  |\n",
              "| 1223044  |  2464  |\n",
              "| 1223561  | 16427  |\n",
              "| 1225881  |  1171  |\n",
              "| 1232458  |  1211  |\n",
              "| 1234212  | 259708 |\n",
              "| 1240274  | 18701  |\n",
              "| 1254400  |  477   |\n",
              "| 1261679  | 24236  |\n",
              "| 1270372  |  7464  |\n",
              "| 1292625  | 20764  |\n",
              "+----------+--------+\n",
              "Truncated to displaylimit of 50."
            ],
            "text/html": [
              "<table>\n",
              "    <thead>\n",
              "        <tr>\n",
              "            <th>group_id</th>\n",
              "            <th>tokens</th>\n",
              "        </tr>\n",
              "    </thead>\n",
              "    <tbody>\n",
              "        <tr>\n",
              "            <td>28451</td>\n",
              "            <td>1049</td>\n",
              "        </tr>\n",
              "        <tr>\n",
              "            <td>174357</td>\n",
              "            <td>649</td>\n",
              "        </tr>\n",
              "        <tr>\n",
              "            <td>216833</td>\n",
              "            <td>55959</td>\n",
              "        </tr>\n",
              "        <tr>\n",
              "            <td>317581</td>\n",
              "            <td>69703</td>\n",
              "        </tr>\n",
              "        <tr>\n",
              "            <td>446275</td>\n",
              "            <td>2202</td>\n",
              "        </tr>\n",
              "        <tr>\n",
              "            <td>450169</td>\n",
              "            <td>954</td>\n",
              "        </tr>\n",
              "        <tr>\n",
              "            <td>468786</td>\n",
              "            <td>870</td>\n",
              "        </tr>\n",
              "        <tr>\n",
              "            <td>477665</td>\n",
              "            <td>31971</td>\n",
              "        </tr>\n",
              "        <tr>\n",
              "            <td>483266</td>\n",
              "            <td>713</td>\n",
              "        </tr>\n",
              "        <tr>\n",
              "            <td>485307</td>\n",
              "            <td>1656</td>\n",
              "        </tr>\n",
              "        <tr>\n",
              "            <td>517266</td>\n",
              "            <td>6372</td>\n",
              "        </tr>\n",
              "        <tr>\n",
              "            <td>518116</td>\n",
              "            <td>111002</td>\n",
              "        </tr>\n",
              "        <tr>\n",
              "            <td>664485</td>\n",
              "            <td>262052</td>\n",
              "        </tr>\n",
              "        <tr>\n",
              "            <td>669116</td>\n",
              "            <td>66073</td>\n",
              "        </tr>\n",
              "        <tr>\n",
              "            <td>671748</td>\n",
              "            <td>47966</td>\n",
              "        </tr>\n",
              "        <tr>\n",
              "            <td>673235</td>\n",
              "            <td>2076</td>\n",
              "        </tr>\n",
              "        <tr>\n",
              "            <td>715237</td>\n",
              "            <td>12373</td>\n",
              "        </tr>\n",
              "        <tr>\n",
              "            <td>734023</td>\n",
              "            <td>966</td>\n",
              "        </tr>\n",
              "        <tr>\n",
              "            <td>743739</td>\n",
              "            <td>3824</td>\n",
              "        </tr>\n",
              "        <tr>\n",
              "            <td>791840</td>\n",
              "            <td>2925</td>\n",
              "        </tr>\n",
              "        <tr>\n",
              "            <td>808956</td>\n",
              "            <td>22007</td>\n",
              "        </tr>\n",
              "        <tr>\n",
              "            <td>825029</td>\n",
              "            <td>40120</td>\n",
              "        </tr>\n",
              "        <tr>\n",
              "            <td>828778</td>\n",
              "            <td>21519</td>\n",
              "        </tr>\n",
              "        <tr>\n",
              "            <td>832265</td>\n",
              "            <td>46791</td>\n",
              "        </tr>\n",
              "        <tr>\n",
              "            <td>882528</td>\n",
              "            <td>6886</td>\n",
              "        </tr>\n",
              "        <tr>\n",
              "            <td>911744</td>\n",
              "            <td>1463</td>\n",
              "        </tr>\n",
              "        <tr>\n",
              "            <td>918175</td>\n",
              "            <td>5027</td>\n",
              "        </tr>\n",
              "        <tr>\n",
              "            <td>942828</td>\n",
              "            <td>365311</td>\n",
              "        </tr>\n",
              "        <tr>\n",
              "            <td>950122</td>\n",
              "            <td>21135</td>\n",
              "        </tr>\n",
              "        <tr>\n",
              "            <td>979795</td>\n",
              "            <td>135594</td>\n",
              "        </tr>\n",
              "        <tr>\n",
              "            <td>1007188</td>\n",
              "            <td>1637</td>\n",
              "        </tr>\n",
              "        <tr>\n",
              "            <td>1011311</td>\n",
              "            <td>67151</td>\n",
              "        </tr>\n",
              "        <tr>\n",
              "            <td>1039908</td>\n",
              "            <td>7488</td>\n",
              "        </tr>\n",
              "        <tr>\n",
              "            <td>1077954</td>\n",
              "            <td>2811</td>\n",
              "        </tr>\n",
              "        <tr>\n",
              "            <td>1111991</td>\n",
              "            <td>5580</td>\n",
              "        </tr>\n",
              "        <tr>\n",
              "            <td>1143104</td>\n",
              "            <td>7868</td>\n",
              "        </tr>\n",
              "        <tr>\n",
              "            <td>1156278</td>\n",
              "            <td>29868</td>\n",
              "        </tr>\n",
              "        <tr>\n",
              "            <td>1188176</td>\n",
              "            <td>32926</td>\n",
              "        </tr>\n",
              "        <tr>\n",
              "            <td>1196970</td>\n",
              "            <td>26502</td>\n",
              "        </tr>\n",
              "        <tr>\n",
              "            <td>1197086</td>\n",
              "            <td>1015</td>\n",
              "        </tr>\n",
              "        <tr>\n",
              "            <td>1223044</td>\n",
              "            <td>2464</td>\n",
              "        </tr>\n",
              "        <tr>\n",
              "            <td>1223561</td>\n",
              "            <td>16427</td>\n",
              "        </tr>\n",
              "        <tr>\n",
              "            <td>1225881</td>\n",
              "            <td>1171</td>\n",
              "        </tr>\n",
              "        <tr>\n",
              "            <td>1232458</td>\n",
              "            <td>1211</td>\n",
              "        </tr>\n",
              "        <tr>\n",
              "            <td>1234212</td>\n",
              "            <td>259708</td>\n",
              "        </tr>\n",
              "        <tr>\n",
              "            <td>1240274</td>\n",
              "            <td>18701</td>\n",
              "        </tr>\n",
              "        <tr>\n",
              "            <td>1254400</td>\n",
              "            <td>477</td>\n",
              "        </tr>\n",
              "        <tr>\n",
              "            <td>1261679</td>\n",
              "            <td>24236</td>\n",
              "        </tr>\n",
              "        <tr>\n",
              "            <td>1270372</td>\n",
              "            <td>7464</td>\n",
              "        </tr>\n",
              "        <tr>\n",
              "            <td>1292625</td>\n",
              "            <td>20764</td>\n",
              "        </tr>\n",
              "    </tbody>\n",
              "</table>\n",
              "<span style=\"font-style:italic;text-align:center;\">Truncated to <a href=\"https://jupysql.ploomber.io/en/latest/api/configuration.html#displaylimit\">displaylimit</a> of 50.</span>"
            ]
          },
          "metadata": {},
          "execution_count": 58
        }
      ],
      "source": [
        "%%sql\n",
        "\n",
        "SELECT group_id, SUM(value) AS tokens\n",
        "FROM {{feat_1gram_usr}}\n",
        "GROUP BY group_id\n",
        "ORDER BY group_id ASC;"
      ]
    },
    {
      "cell_type": "code",
      "execution_count": null,
      "metadata": {
        "id": "Cx-tj5y9oO1i"
      },
      "outputs": [],
      "source": [
        "feat_mini_liwc_usr = 'feat$cat_mini_LIWC2015$msgs$user_id$1gra '"
      ]
    },
    {
      "cell_type": "code",
      "execution_count": null,
      "metadata": {
        "id": "kN8lOcbMoO1i",
        "colab": {
          "base_uri": "https://localhost:8080/",
          "height": 1000
        },
        "outputId": "b69734f3-219b-42ea-90ed-169d8b6771f0"
      },
      "outputs": [
        {
          "output_type": "display_data",
          "data": {
            "text/plain": [
              "Running query in 'sqlite:///sqlite_data/dla_tutorial.db?charset=utf8mb4'"
            ],
            "text/html": [
              "<span style=\"None\">Running query in &#x27;sqlite:///sqlite_data/dla_tutorial.db?charset=utf8mb4&#x27;</span>"
            ]
          },
          "metadata": {}
        },
        {
          "output_type": "execute_result",
          "data": {
            "text/plain": [
              "+----------+--------+\n",
              "| group_id | tokens |\n",
              "+----------+--------+\n",
              "|  28451   |  132   |\n",
              "|  174357  |  103   |\n",
              "|  216833  |  5927  |\n",
              "|  317581  |  9685  |\n",
              "|  446275  |  345   |\n",
              "|  450169  |   77   |\n",
              "|  468786  |  158   |\n",
              "|  477665  |  4488  |\n",
              "|  483266  |   64   |\n",
              "|  485307  |  228   |\n",
              "|  517266  |  846   |\n",
              "|  518116  | 16850  |\n",
              "|  664485  | 38936  |\n",
              "|  669116  |  8545  |\n",
              "|  671748  |  5135  |\n",
              "|  673235  |  295   |\n",
              "|  715237  |  1596  |\n",
              "|  734023  |  117   |\n",
              "|  743739  |  409   |\n",
              "|  791840  |  338   |\n",
              "|  808956  |  2728  |\n",
              "|  825029  |  4987  |\n",
              "|  828778  |  2800  |\n",
              "|  832265  |  4952  |\n",
              "|  882528  |  1017  |\n",
              "|  911744  |  123   |\n",
              "|  918175  |  604   |\n",
              "|  942828  | 50133  |\n",
              "|  950122  |  2390  |\n",
              "|  979795  | 14953  |\n",
              "| 1007188  |  148   |\n",
              "| 1011311  |  8837  |\n",
              "| 1039908  |  928   |\n",
              "| 1077954  |  221   |\n",
              "| 1111991  |  879   |\n",
              "| 1143104  |  1299  |\n",
              "| 1156278  |  2745  |\n",
              "| 1188176  |  4275  |\n",
              "| 1196970  |  3261  |\n",
              "| 1197086  |   63   |\n",
              "| 1223044  |  337   |\n",
              "| 1223561  |  1890  |\n",
              "| 1225881  |  114   |\n",
              "| 1232458  |  165   |\n",
              "| 1234212  | 31399  |\n",
              "| 1240274  |  2283  |\n",
              "| 1254400  |   71   |\n",
              "| 1261679  |  3286  |\n",
              "| 1270372  |  731   |\n",
              "| 1292625  |  2796  |\n",
              "+----------+--------+\n",
              "Truncated to displaylimit of 50."
            ],
            "text/html": [
              "<table>\n",
              "    <thead>\n",
              "        <tr>\n",
              "            <th>group_id</th>\n",
              "            <th>tokens</th>\n",
              "        </tr>\n",
              "    </thead>\n",
              "    <tbody>\n",
              "        <tr>\n",
              "            <td>28451</td>\n",
              "            <td>132</td>\n",
              "        </tr>\n",
              "        <tr>\n",
              "            <td>174357</td>\n",
              "            <td>103</td>\n",
              "        </tr>\n",
              "        <tr>\n",
              "            <td>216833</td>\n",
              "            <td>5927</td>\n",
              "        </tr>\n",
              "        <tr>\n",
              "            <td>317581</td>\n",
              "            <td>9685</td>\n",
              "        </tr>\n",
              "        <tr>\n",
              "            <td>446275</td>\n",
              "            <td>345</td>\n",
              "        </tr>\n",
              "        <tr>\n",
              "            <td>450169</td>\n",
              "            <td>77</td>\n",
              "        </tr>\n",
              "        <tr>\n",
              "            <td>468786</td>\n",
              "            <td>158</td>\n",
              "        </tr>\n",
              "        <tr>\n",
              "            <td>477665</td>\n",
              "            <td>4488</td>\n",
              "        </tr>\n",
              "        <tr>\n",
              "            <td>483266</td>\n",
              "            <td>64</td>\n",
              "        </tr>\n",
              "        <tr>\n",
              "            <td>485307</td>\n",
              "            <td>228</td>\n",
              "        </tr>\n",
              "        <tr>\n",
              "            <td>517266</td>\n",
              "            <td>846</td>\n",
              "        </tr>\n",
              "        <tr>\n",
              "            <td>518116</td>\n",
              "            <td>16850</td>\n",
              "        </tr>\n",
              "        <tr>\n",
              "            <td>664485</td>\n",
              "            <td>38936</td>\n",
              "        </tr>\n",
              "        <tr>\n",
              "            <td>669116</td>\n",
              "            <td>8545</td>\n",
              "        </tr>\n",
              "        <tr>\n",
              "            <td>671748</td>\n",
              "            <td>5135</td>\n",
              "        </tr>\n",
              "        <tr>\n",
              "            <td>673235</td>\n",
              "            <td>295</td>\n",
              "        </tr>\n",
              "        <tr>\n",
              "            <td>715237</td>\n",
              "            <td>1596</td>\n",
              "        </tr>\n",
              "        <tr>\n",
              "            <td>734023</td>\n",
              "            <td>117</td>\n",
              "        </tr>\n",
              "        <tr>\n",
              "            <td>743739</td>\n",
              "            <td>409</td>\n",
              "        </tr>\n",
              "        <tr>\n",
              "            <td>791840</td>\n",
              "            <td>338</td>\n",
              "        </tr>\n",
              "        <tr>\n",
              "            <td>808956</td>\n",
              "            <td>2728</td>\n",
              "        </tr>\n",
              "        <tr>\n",
              "            <td>825029</td>\n",
              "            <td>4987</td>\n",
              "        </tr>\n",
              "        <tr>\n",
              "            <td>828778</td>\n",
              "            <td>2800</td>\n",
              "        </tr>\n",
              "        <tr>\n",
              "            <td>832265</td>\n",
              "            <td>4952</td>\n",
              "        </tr>\n",
              "        <tr>\n",
              "            <td>882528</td>\n",
              "            <td>1017</td>\n",
              "        </tr>\n",
              "        <tr>\n",
              "            <td>911744</td>\n",
              "            <td>123</td>\n",
              "        </tr>\n",
              "        <tr>\n",
              "            <td>918175</td>\n",
              "            <td>604</td>\n",
              "        </tr>\n",
              "        <tr>\n",
              "            <td>942828</td>\n",
              "            <td>50133</td>\n",
              "        </tr>\n",
              "        <tr>\n",
              "            <td>950122</td>\n",
              "            <td>2390</td>\n",
              "        </tr>\n",
              "        <tr>\n",
              "            <td>979795</td>\n",
              "            <td>14953</td>\n",
              "        </tr>\n",
              "        <tr>\n",
              "            <td>1007188</td>\n",
              "            <td>148</td>\n",
              "        </tr>\n",
              "        <tr>\n",
              "            <td>1011311</td>\n",
              "            <td>8837</td>\n",
              "        </tr>\n",
              "        <tr>\n",
              "            <td>1039908</td>\n",
              "            <td>928</td>\n",
              "        </tr>\n",
              "        <tr>\n",
              "            <td>1077954</td>\n",
              "            <td>221</td>\n",
              "        </tr>\n",
              "        <tr>\n",
              "            <td>1111991</td>\n",
              "            <td>879</td>\n",
              "        </tr>\n",
              "        <tr>\n",
              "            <td>1143104</td>\n",
              "            <td>1299</td>\n",
              "        </tr>\n",
              "        <tr>\n",
              "            <td>1156278</td>\n",
              "            <td>2745</td>\n",
              "        </tr>\n",
              "        <tr>\n",
              "            <td>1188176</td>\n",
              "            <td>4275</td>\n",
              "        </tr>\n",
              "        <tr>\n",
              "            <td>1196970</td>\n",
              "            <td>3261</td>\n",
              "        </tr>\n",
              "        <tr>\n",
              "            <td>1197086</td>\n",
              "            <td>63</td>\n",
              "        </tr>\n",
              "        <tr>\n",
              "            <td>1223044</td>\n",
              "            <td>337</td>\n",
              "        </tr>\n",
              "        <tr>\n",
              "            <td>1223561</td>\n",
              "            <td>1890</td>\n",
              "        </tr>\n",
              "        <tr>\n",
              "            <td>1225881</td>\n",
              "            <td>114</td>\n",
              "        </tr>\n",
              "        <tr>\n",
              "            <td>1232458</td>\n",
              "            <td>165</td>\n",
              "        </tr>\n",
              "        <tr>\n",
              "            <td>1234212</td>\n",
              "            <td>31399</td>\n",
              "        </tr>\n",
              "        <tr>\n",
              "            <td>1240274</td>\n",
              "            <td>2283</td>\n",
              "        </tr>\n",
              "        <tr>\n",
              "            <td>1254400</td>\n",
              "            <td>71</td>\n",
              "        </tr>\n",
              "        <tr>\n",
              "            <td>1261679</td>\n",
              "            <td>3286</td>\n",
              "        </tr>\n",
              "        <tr>\n",
              "            <td>1270372</td>\n",
              "            <td>731</td>\n",
              "        </tr>\n",
              "        <tr>\n",
              "            <td>1292625</td>\n",
              "            <td>2796</td>\n",
              "        </tr>\n",
              "    </tbody>\n",
              "</table>\n",
              "<span style=\"font-style:italic;text-align:center;\">Truncated to <a href=\"https://jupysql.ploomber.io/en/latest/api/configuration.html#displaylimit\">displaylimit</a> of 50.</span>"
            ]
          },
          "metadata": {},
          "execution_count": 60
        }
      ],
      "source": [
        "%%sql\n",
        "\n",
        "SELECT group_id, SUM(value) AS tokens\n",
        "FROM {{feat_mini_liwc_usr}}\n",
        "GROUP BY group_id\n",
        "ORDER BY group_id ASC;"
      ]
    },
    {
      "cell_type": "markdown",
      "metadata": {
        "id": "So1Vc7MAoO1i"
      },
      "source": [
        "\n",
        "Let's look at users who have the largest proportions of `POSEMO`. For proportions we have to look at the\n",
        "`group_norm` field."
      ]
    },
    {
      "cell_type": "markdown",
      "metadata": {
        "id": "yVHVWHgsoO1i"
      },
      "source": [
        "#### 👩‍🔬💻 Exercise\n",
        "\n",
        "Can you now guess the SQL spell to show which users have the largest proportion of LIWC `POSEMO` words?"
      ]
    },
    {
      "cell_type": "code",
      "execution_count": null,
      "metadata": {
        "id": "aQ8vAwQuoO1i"
      },
      "outputs": [],
      "source": [
        "feat_mini_liwc_usr = 'feat$cat_mini_LIWC2015$msgs$user_id$1gra'"
      ]
    },
    {
      "cell_type": "code",
      "execution_count": null,
      "metadata": {
        "id": "yCBZK0eCoO1j",
        "colab": {
          "base_uri": "https://localhost:8080/",
          "height": 271
        },
        "outputId": "cb4b3ff8-870b-4585-ced0-c7cecd56252e"
      },
      "outputs": [
        {
          "output_type": "display_data",
          "data": {
            "text/plain": [
              "Running query in 'sqlite:///sqlite_data/dla_tutorial.db?charset=utf8mb4'"
            ],
            "text/html": [
              "<span style=\"None\">Running query in &#x27;sqlite:///sqlite_data/dla_tutorial.db?charset=utf8mb4&#x27;</span>"
            ]
          },
          "metadata": {}
        },
        {
          "output_type": "execute_result",
          "data": {
            "text/plain": [
              "+---------+--------+---------------------+\n",
              "| user_id |  feat  |      group_norm     |\n",
              "+---------+--------+---------------------+\n",
              "| 3911122 | POSEMO |  0.0921273031825796 |\n",
              "| 3677344 | POSEMO | 0.08806262230919765 |\n",
              "| 3656035 | POSEMO | 0.07001795332136444 |\n",
              "| 3319097 | POSEMO |  0.0687582190494082 |\n",
              "| 3901750 | POSEMO | 0.06677631578947363 |\n",
              "| 3999305 | POSEMO |  0.0664546899841016 |\n",
              "| 3723475 | POSEMO | 0.06494960806270997 |\n",
              "| 3811749 | POSEMO | 0.06389776357827476 |\n",
              "|  174357 | POSEMO | 0.06317411402157168 |\n",
              "| 4122908 | POSEMO | 0.06194690265486724 |\n",
              "+---------+--------+---------------------+"
            ],
            "text/html": [
              "<table>\n",
              "    <thead>\n",
              "        <tr>\n",
              "            <th>user_id</th>\n",
              "            <th>feat</th>\n",
              "            <th>group_norm</th>\n",
              "        </tr>\n",
              "    </thead>\n",
              "    <tbody>\n",
              "        <tr>\n",
              "            <td>3911122</td>\n",
              "            <td>POSEMO</td>\n",
              "            <td>0.0921273031825796</td>\n",
              "        </tr>\n",
              "        <tr>\n",
              "            <td>3677344</td>\n",
              "            <td>POSEMO</td>\n",
              "            <td>0.08806262230919765</td>\n",
              "        </tr>\n",
              "        <tr>\n",
              "            <td>3656035</td>\n",
              "            <td>POSEMO</td>\n",
              "            <td>0.07001795332136444</td>\n",
              "        </tr>\n",
              "        <tr>\n",
              "            <td>3319097</td>\n",
              "            <td>POSEMO</td>\n",
              "            <td>0.0687582190494082</td>\n",
              "        </tr>\n",
              "        <tr>\n",
              "            <td>3901750</td>\n",
              "            <td>POSEMO</td>\n",
              "            <td>0.06677631578947363</td>\n",
              "        </tr>\n",
              "        <tr>\n",
              "            <td>3999305</td>\n",
              "            <td>POSEMO</td>\n",
              "            <td>0.0664546899841016</td>\n",
              "        </tr>\n",
              "        <tr>\n",
              "            <td>3723475</td>\n",
              "            <td>POSEMO</td>\n",
              "            <td>0.06494960806270997</td>\n",
              "        </tr>\n",
              "        <tr>\n",
              "            <td>3811749</td>\n",
              "            <td>POSEMO</td>\n",
              "            <td>0.06389776357827476</td>\n",
              "        </tr>\n",
              "        <tr>\n",
              "            <td>174357</td>\n",
              "            <td>POSEMO</td>\n",
              "            <td>0.06317411402157168</td>\n",
              "        </tr>\n",
              "        <tr>\n",
              "            <td>4122908</td>\n",
              "            <td>POSEMO</td>\n",
              "            <td>0.06194690265486724</td>\n",
              "        </tr>\n",
              "    </tbody>\n",
              "</table>"
            ]
          },
          "metadata": {},
          "execution_count": 62
        }
      ],
      "source": [
        "%%sql\n",
        "\n",
        "SELECT group_id AS user_id, feat, group_norm\n",
        "FROM {{feat_mini_liwc_usr}}\n",
        "WHERE FEAT = \"POSEMO\"\n",
        "ORDER BY group_norm DESC\n",
        "limit 10;"
      ]
    },
    {
      "cell_type": "markdown",
      "metadata": {
        "id": "yM6fjZeAoO1j"
      },
      "source": [
        "Now, let's get the average `group_norm` for each LIWC category."
      ]
    },
    {
      "cell_type": "code",
      "execution_count": null,
      "metadata": {
        "id": "f_tewwWyoO1j",
        "colab": {
          "base_uri": "https://localhost:8080/",
          "height": 143
        },
        "outputId": "c656819d-6bab-41ff-cf06-1b608e056301"
      },
      "outputs": [
        {
          "output_type": "display_data",
          "data": {
            "text/plain": [
              "Running query in 'sqlite:///sqlite_data/dla_tutorial.db?charset=utf8mb4'"
            ],
            "text/html": [
              "<span style=\"None\">Running query in &#x27;sqlite:///sqlite_data/dla_tutorial.db?charset=utf8mb4&#x27;</span>"
            ]
          },
          "metadata": {}
        },
        {
          "output_type": "execute_result",
          "data": {
            "text/plain": [
              "+------------+----------------------+\n",
              "|    feat    |   AVG(group_norm)    |\n",
              "+------------+----------------------+\n",
              "|   NEGEMO   | 0.018002871887595064 |\n",
              "|   POSEMO   | 0.030697855849891553 |\n",
              "|   SOCIAL   | 0.07696711485927378  |\n",
              "| _intercept |         1.0          |\n",
              "+------------+----------------------+"
            ],
            "text/html": [
              "<table>\n",
              "    <thead>\n",
              "        <tr>\n",
              "            <th>feat</th>\n",
              "            <th>AVG(group_norm)</th>\n",
              "        </tr>\n",
              "    </thead>\n",
              "    <tbody>\n",
              "        <tr>\n",
              "            <td>NEGEMO</td>\n",
              "            <td>0.018002871887595064</td>\n",
              "        </tr>\n",
              "        <tr>\n",
              "            <td>POSEMO</td>\n",
              "            <td>0.030697855849891553</td>\n",
              "        </tr>\n",
              "        <tr>\n",
              "            <td>SOCIAL</td>\n",
              "            <td>0.07696711485927378</td>\n",
              "        </tr>\n",
              "        <tr>\n",
              "            <td>_intercept</td>\n",
              "            <td>1.0</td>\n",
              "        </tr>\n",
              "    </tbody>\n",
              "</table>"
            ]
          },
          "metadata": {},
          "execution_count": 63
        }
      ],
      "source": [
        "%%sql\n",
        "\n",
        "SELECT feat, AVG(group_norm)\n",
        "FROM {{feat_mini_liwc_usr}}\n",
        "GROUP BY feat\n",
        "limit 10;"
      ]
    },
    {
      "cell_type": "markdown",
      "metadata": {
        "id": "IP9QecoSoO1j"
      },
      "source": [
        "`POSEMO` is a bit less than twice as frequent than `NEGEMO` overall. And `SOCIAL` is the largest.\n",
        "\n",
        "BTW, here is a way to get more statistics, all at once:"
      ]
    },
    {
      "cell_type": "code",
      "execution_count": null,
      "metadata": {
        "id": "3IIBg4U2oO1j",
        "colab": {
          "base_uri": "https://localhost:8080/",
          "height": 143
        },
        "outputId": "cb2a954e-67bf-4c0b-844f-27f70ce4cab0"
      },
      "outputs": [
        {
          "output_type": "display_data",
          "data": {
            "text/plain": [
              "Running query in 'sqlite:///sqlite_data/dla_tutorial.db?charset=utf8mb4'"
            ],
            "text/html": [
              "<span style=\"None\">Running query in &#x27;sqlite:///sqlite_data/dla_tutorial.db?charset=utf8mb4&#x27;</span>"
            ]
          },
          "metadata": {}
        },
        {
          "output_type": "execute_result",
          "data": {
            "text/plain": [
              "+------------+----------------------+-----------------------+---------------------+----------------+\n",
              "|    feat    |   AVG(group_norm)    |    MIN(group_norm)    |   MAX(group_norm)   | included_users |\n",
              "+------------+----------------------+-----------------------+---------------------+----------------+\n",
              "|   NEGEMO   | 0.018002871887595064 | 0.0007887990534411359 | 0.05504587155963303 |      998       |\n",
              "|   POSEMO   | 0.030697855849891553 |  0.002593473092716663 |  0.0921273031825796 |      1000      |\n",
              "|   SOCIAL   | 0.07696711485927378  |  0.004281207751239298 |  0.1864951768488747 |      1000      |\n",
              "| _intercept |         1.0          |          1.0          |         1.0         |      1000      |\n",
              "+------------+----------------------+-----------------------+---------------------+----------------+"
            ],
            "text/html": [
              "<table>\n",
              "    <thead>\n",
              "        <tr>\n",
              "            <th>feat</th>\n",
              "            <th>AVG(group_norm)</th>\n",
              "            <th>MIN(group_norm)</th>\n",
              "            <th>MAX(group_norm)</th>\n",
              "            <th>included_users</th>\n",
              "        </tr>\n",
              "    </thead>\n",
              "    <tbody>\n",
              "        <tr>\n",
              "            <td>NEGEMO</td>\n",
              "            <td>0.018002871887595064</td>\n",
              "            <td>0.0007887990534411359</td>\n",
              "            <td>0.05504587155963303</td>\n",
              "            <td>998</td>\n",
              "        </tr>\n",
              "        <tr>\n",
              "            <td>POSEMO</td>\n",
              "            <td>0.030697855849891553</td>\n",
              "            <td>0.002593473092716663</td>\n",
              "            <td>0.0921273031825796</td>\n",
              "            <td>1000</td>\n",
              "        </tr>\n",
              "        <tr>\n",
              "            <td>SOCIAL</td>\n",
              "            <td>0.07696711485927378</td>\n",
              "            <td>0.004281207751239298</td>\n",
              "            <td>0.1864951768488747</td>\n",
              "            <td>1000</td>\n",
              "        </tr>\n",
              "        <tr>\n",
              "            <td>_intercept</td>\n",
              "            <td>1.0</td>\n",
              "            <td>1.0</td>\n",
              "            <td>1.0</td>\n",
              "            <td>1000</td>\n",
              "        </tr>\n",
              "    </tbody>\n",
              "</table>"
            ]
          },
          "metadata": {},
          "execution_count": 64
        }
      ],
      "source": [
        "%%sql\n",
        "\n",
        "SELECT feat, AVG(group_norm), MIN(group_norm), MAX(group_norm), count(distinct(group_id)) AS included_users\n",
        "FROM {{feat_mini_liwc_usr}}\n",
        "GROUP BY feat;"
      ]
    },
    {
      "cell_type": "markdown",
      "metadata": {
        "id": "BSWwOQbXoO1j"
      },
      "source": [
        "it's good to include the \"included_users\" column to remind ourselves that we are doing \"dumb\" group_norm averages -- generally an acceptable strategy when it comes to dictionaries with decent coverage. Apparently there were two users who have never used a NEGEMO word in the dataset -- good for theeeeeem."
      ]
    },
    {
      "cell_type": "markdown",
      "metadata": {
        "id": "g_TWZ1suoO1j"
      },
      "source": [
        "## 6) Which words are in a dictionary(s), and drive its frequency?\n",
        "\n",
        "As discussed in the lectures, we need to know what's going on inside a dictionary, we can't really take it at face value. For that we have to know which words drive its occurrence.\n",
        "\n",
        "For that, we have to combine two pieces of information:\n",
        "\n",
        "* Table `feat$1gram$msgs$user_id` contains the number of occurrences of tokens (words) for users\n",
        "* Table `mini_LIWC2015` contains which words belong to a LIWC category.\n",
        "\n",
        "Let us merge the two on words (`feat` in the 1gram table, `term` in the lexicon table) so we can find out for each category, which words occurred the most.\n",
        "\n",
        "This will show us which words are dominant in a category for our corpus."
      ]
    },
    {
      "cell_type": "markdown",
      "metadata": {
        "id": "hBjRJ4oaoO1j"
      },
      "source": [
        "### 6a) Step 1: make a word count table -- counts per words\n",
        "\n",
        "The word counts in `feat$1gram$msgs$user_id` are per user (that's the group_id), and the meta_tables (if you thought of those) too report statistics *per user*. We want total counts per words.\n"
      ]
    },
    {
      "cell_type": "markdown",
      "source": [
        "#### 👩‍🔬💻 Exercise\n",
        "\n",
        "Can you make a new table `word_counts` that will have those?\n"
      ],
      "metadata": {
        "id": "GlnJnyVO2km9"
      }
    },
    {
      "cell_type": "code",
      "execution_count": null,
      "metadata": {
        "id": "BiDyBeIfoO1j"
      },
      "outputs": [],
      "source": [
        "feat_1gram_usr = 'feat$1gram$msgs$user_id'"
      ]
    },
    {
      "cell_type": "code",
      "execution_count": null,
      "metadata": {
        "id": "5LtNRaBboO1j",
        "colab": {
          "base_uri": "https://localhost:8080/",
          "height": 34
        },
        "outputId": "b56e38ce-f9a9-452f-db76-c0d6f32e10fc"
      },
      "outputs": [
        {
          "output_type": "display_data",
          "data": {
            "text/plain": [
              "Running query in 'sqlite:///sqlite_data/dla_tutorial.db?charset=utf8mb4'"
            ],
            "text/html": [
              "<span style=\"None\">Running query in &#x27;sqlite:///sqlite_data/dla_tutorial.db?charset=utf8mb4&#x27;</span>"
            ]
          },
          "metadata": {}
        },
        {
          "output_type": "execute_result",
          "data": {
            "text/plain": [
              "++\n",
              "||\n",
              "++\n",
              "++"
            ],
            "text/html": [
              "<table>\n",
              "    <thead>\n",
              "        <tr>\n",
              "        </tr>\n",
              "    </thead>\n",
              "    <tbody>\n",
              "    </tbody>\n",
              "</table>"
            ]
          },
          "metadata": {},
          "execution_count": 3
        }
      ],
      "source": [
        "%%sql\n",
        "\n",
        "DROP TABLE IF EXISTS word_counts;\n",
        "\n",
        "CREATE TABLE word_counts AS SELECT feat AS word, SUM(value) AS count\n",
        "                             FROM {{feat_1gram_usr}}\n",
        "                             GROUP BY feat;"
      ]
    },
    {
      "cell_type": "markdown",
      "metadata": {
        "id": "wQ1oiVDpoO1k"
      },
      "source": [
        "Great, this gives us a table with overall word counts. Let's just check what are the most frequent ones."
      ]
    },
    {
      "cell_type": "code",
      "execution_count": null,
      "metadata": {
        "id": "ArIKGYiYoO1k",
        "colab": {
          "base_uri": "https://localhost:8080/",
          "height": 271
        },
        "outputId": "8d123268-d98c-4529-d231-309b6ef22363"
      },
      "outputs": [
        {
          "output_type": "display_data",
          "data": {
            "text/plain": [
              "Running query in 'sqlite:///sqlite_data/dla_tutorial.db?charset=utf8mb4'"
            ],
            "text/html": [
              "<span style=\"None\">Running query in &#x27;sqlite:///sqlite_data/dla_tutorial.db?charset=utf8mb4&#x27;</span>"
            ]
          },
          "metadata": {}
        },
        {
          "output_type": "execute_result",
          "data": {
            "text/plain": [
              "+------+--------+\n",
              "| word | count  |\n",
              "+------+--------+\n",
              "|  .   | 365156 |\n",
              "|  ,   | 297114 |\n",
              "| the  | 265240 |\n",
              "|  i   | 224789 |\n",
              "|  to  | 193945 |\n",
              "| and  | 182691 |\n",
              "|  a   | 138493 |\n",
              "|  of  | 121843 |\n",
              "| that | 86253  |\n",
              "|  in  | 85981  |\n",
              "+------+--------+"
            ],
            "text/html": [
              "<table>\n",
              "    <thead>\n",
              "        <tr>\n",
              "            <th>word</th>\n",
              "            <th>count</th>\n",
              "        </tr>\n",
              "    </thead>\n",
              "    <tbody>\n",
              "        <tr>\n",
              "            <td>.</td>\n",
              "            <td>365156</td>\n",
              "        </tr>\n",
              "        <tr>\n",
              "            <td>,</td>\n",
              "            <td>297114</td>\n",
              "        </tr>\n",
              "        <tr>\n",
              "            <td>the</td>\n",
              "            <td>265240</td>\n",
              "        </tr>\n",
              "        <tr>\n",
              "            <td>i</td>\n",
              "            <td>224789</td>\n",
              "        </tr>\n",
              "        <tr>\n",
              "            <td>to</td>\n",
              "            <td>193945</td>\n",
              "        </tr>\n",
              "        <tr>\n",
              "            <td>and</td>\n",
              "            <td>182691</td>\n",
              "        </tr>\n",
              "        <tr>\n",
              "            <td>a</td>\n",
              "            <td>138493</td>\n",
              "        </tr>\n",
              "        <tr>\n",
              "            <td>of</td>\n",
              "            <td>121843</td>\n",
              "        </tr>\n",
              "        <tr>\n",
              "            <td>that</td>\n",
              "            <td>86253</td>\n",
              "        </tr>\n",
              "        <tr>\n",
              "            <td>in</td>\n",
              "            <td>85981</td>\n",
              "        </tr>\n",
              "    </tbody>\n",
              "</table>"
            ]
          },
          "metadata": {},
          "execution_count": 3
        }
      ],
      "source": [
        "%%sql\n",
        "\n",
        "SELECT *\n",
        "FROM word_counts\n",
        "ORDER BY count DESC\n",
        "LIMIT 10;"
      ]
    },
    {
      "cell_type": "markdown",
      "metadata": {
        "id": "OuKKOglloO1k"
      },
      "source": [
        "### 6b) Step 2: merge on the dictionary table\n",
        "\n",
        "Alright! These words make sense. Now, let's filter this table down to only the words in the `mini_LIWC2015` dict.\n",
        "\n",
        "The `a.*` below is clever -- it tells SQL to show us all columns contained in the first table (and then whatever we want from table b -- `b.*` would also be an option.) Make sure you understand the above query. `where a.word = b.term` with two tables is the same as an inner join (it's an **Implicit Inner Join** to be precise)."
      ]
    },
    {
      "cell_type": "code",
      "execution_count": null,
      "metadata": {
        "id": "pqEqd4_xoO1k",
        "colab": {
          "base_uri": "https://localhost:8080/",
          "height": 271
        },
        "outputId": "7eb37434-1b75-4573-aea7-358f27af6b63"
      },
      "outputs": [
        {
          "output_type": "display_data",
          "data": {
            "text/plain": [
              "Running query in 'sqlite:///sqlite_data/dla_tutorial.db?charset=utf8mb4'"
            ],
            "text/html": [
              "<span style=\"None\">Running query in &#x27;sqlite:///sqlite_data/dla_tutorial.db?charset=utf8mb4&#x27;</span>"
            ]
          },
          "metadata": {}
        },
        {
          "output_type": "execute_result",
          "data": {
            "text/plain": [
              "+------+-------+----------+\n",
              "| word | count | category |\n",
              "+------+-------+----------+\n",
              "| you  | 58284 |  SOCIAL  |\n",
              "|  we  | 34652 |  SOCIAL  |\n",
              "|  he  | 29493 |  SOCIAL  |\n",
              "| they | 24339 |  SOCIAL  |\n",
              "| she  | 18642 |  SOCIAL  |\n",
              "| her  | 17899 |  SOCIAL  |\n",
              "| his  | 16757 |  SOCIAL  |\n",
              "| well | 14929 |  POSEMO  |\n",
              "| your | 14505 |  SOCIAL  |\n",
              "| who  | 14413 |  SOCIAL  |\n",
              "+------+-------+----------+"
            ],
            "text/html": [
              "<table>\n",
              "    <thead>\n",
              "        <tr>\n",
              "            <th>word</th>\n",
              "            <th>count</th>\n",
              "            <th>category</th>\n",
              "        </tr>\n",
              "    </thead>\n",
              "    <tbody>\n",
              "        <tr>\n",
              "            <td>you</td>\n",
              "            <td>58284</td>\n",
              "            <td>SOCIAL</td>\n",
              "        </tr>\n",
              "        <tr>\n",
              "            <td>we</td>\n",
              "            <td>34652</td>\n",
              "            <td>SOCIAL</td>\n",
              "        </tr>\n",
              "        <tr>\n",
              "            <td>he</td>\n",
              "            <td>29493</td>\n",
              "            <td>SOCIAL</td>\n",
              "        </tr>\n",
              "        <tr>\n",
              "            <td>they</td>\n",
              "            <td>24339</td>\n",
              "            <td>SOCIAL</td>\n",
              "        </tr>\n",
              "        <tr>\n",
              "            <td>she</td>\n",
              "            <td>18642</td>\n",
              "            <td>SOCIAL</td>\n",
              "        </tr>\n",
              "        <tr>\n",
              "            <td>her</td>\n",
              "            <td>17899</td>\n",
              "            <td>SOCIAL</td>\n",
              "        </tr>\n",
              "        <tr>\n",
              "            <td>his</td>\n",
              "            <td>16757</td>\n",
              "            <td>SOCIAL</td>\n",
              "        </tr>\n",
              "        <tr>\n",
              "            <td>well</td>\n",
              "            <td>14929</td>\n",
              "            <td>POSEMO</td>\n",
              "        </tr>\n",
              "        <tr>\n",
              "            <td>your</td>\n",
              "            <td>14505</td>\n",
              "            <td>SOCIAL</td>\n",
              "        </tr>\n",
              "        <tr>\n",
              "            <td>who</td>\n",
              "            <td>14413</td>\n",
              "            <td>SOCIAL</td>\n",
              "        </tr>\n",
              "    </tbody>\n",
              "</table>"
            ]
          },
          "metadata": {},
          "execution_count": 4
        }
      ],
      "source": [
        "%%sql\n",
        "\n",
        "SELECT a.*, b.category\n",
        "FROM word_counts AS a, dlatk_lexica.mini_LIWC2015 AS b\n",
        "WHERE a.word = b.term\n",
        "ORDER BY count DESC\n",
        "LIMIT 10;"
      ]
    },
    {
      "cell_type": "markdown",
      "metadata": {
        "id": "B1IY4CC4oO1k"
      },
      "source": [
        "🤔 that took a weebit long... I wonder why that is? do you know what we could have done to make it faster?"
      ]
    },
    {
      "cell_type": "code",
      "source": [
        "%%sql\n",
        "\n",
        "CREATE INDEX idx_word_counts_word\n",
        "ON word_counts(word);"
      ],
      "metadata": {
        "id": "W7AC56rhxDTA",
        "outputId": "4ea4e11f-def4-437f-dd1e-69de458df322",
        "colab": {
          "base_uri": "https://localhost:8080/",
          "height": 34
        }
      },
      "execution_count": null,
      "outputs": [
        {
          "output_type": "display_data",
          "data": {
            "text/plain": [
              "Running query in 'sqlite:///sqlite_data/dla_tutorial.db?charset=utf8mb4'"
            ],
            "text/html": [
              "<span style=\"None\">Running query in &#x27;sqlite:///sqlite_data/dla_tutorial.db?charset=utf8mb4&#x27;</span>"
            ]
          },
          "metadata": {}
        },
        {
          "output_type": "execute_result",
          "data": {
            "text/plain": [
              "++\n",
              "||\n",
              "++\n",
              "++"
            ],
            "text/html": [
              "<table>\n",
              "    <thead>\n",
              "        <tr>\n",
              "        </tr>\n",
              "    </thead>\n",
              "    <tbody>\n",
              "    </tbody>\n",
              "</table>"
            ]
          },
          "metadata": {},
          "execution_count": 5
        }
      ]
    },
    {
      "cell_type": "markdown",
      "source": [
        "```\n",
        "🐬🐬🐬\n",
        "ALTER TABLE word_counts ADD index (word);\n",
        "🐬🐬🐬\n",
        "```"
      ],
      "metadata": {
        "id": "FPJKUUOzoO1k"
      }
    },
    {
      "cell_type": "markdown",
      "metadata": {
        "id": "6IxkTVP3oO1k"
      },
      "source": [
        "Now run the cell again that does the implicit join above the one that created the index just now! Faster?? Seeeee-- indices! Like magic, except less exciting."
      ]
    },
    {
      "cell_type": "markdown",
      "metadata": {
        "id": "mfSoZPTpoO1k"
      },
      "source": [
        "Let's save the join as a new table by wrapping a `create table ` around it."
      ]
    },
    {
      "cell_type": "code",
      "execution_count": null,
      "metadata": {
        "id": "0vcxjZqYoO1k",
        "colab": {
          "base_uri": "https://localhost:8080/",
          "height": 34
        },
        "outputId": "a7dead6d-8231-45aa-f68b-e18bd32929f3"
      },
      "outputs": [
        {
          "output_type": "display_data",
          "data": {
            "text/plain": [
              "Running query in 'sqlite:///sqlite_data/dla_tutorial.db?charset=utf8mb4'"
            ],
            "text/html": [
              "<span style=\"None\">Running query in &#x27;sqlite:///sqlite_data/dla_tutorial.db?charset=utf8mb4&#x27;</span>"
            ]
          },
          "metadata": {}
        },
        {
          "output_type": "execute_result",
          "data": {
            "text/plain": [
              "++\n",
              "||\n",
              "++\n",
              "++"
            ],
            "text/html": [
              "<table>\n",
              "    <thead>\n",
              "        <tr>\n",
              "        </tr>\n",
              "    </thead>\n",
              "    <tbody>\n",
              "    </tbody>\n",
              "</table>"
            ]
          },
          "metadata": {},
          "execution_count": 6
        }
      ],
      "source": [
        "%%sql\n",
        "\n",
        "DROP TABLE IF EXISTS miniLiwc_wordcounts;\n",
        "\n",
        "CREATE TABLE miniLiwc_wordcounts AS SELECT a.*, b.category\n",
        "                                    FROM word_counts AS a, dlatk_lexica.mini_LIWC2015 AS b\n",
        "                                    WHERE a.word = b.term\n",
        "                                    ORDER BY count DESC;"
      ]
    },
    {
      "cell_type": "markdown",
      "metadata": {
        "id": "O7voSRpqoO1k"
      },
      "source": [
        "### 6c) Investigating different categories (sub-dictionaries) within the (dlatk_lexica) dictionary"
      ]
    },
    {
      "cell_type": "markdown",
      "metadata": {
        "id": "kypS_Ee8oO1k"
      },
      "source": [
        "Ok, cool! So now let's only look at the `POSEMO` category -- what words occur the most in it?"
      ]
    },
    {
      "cell_type": "code",
      "execution_count": null,
      "metadata": {
        "id": "C6eCn8_-oO1l",
        "colab": {
          "base_uri": "https://localhost:8080/",
          "height": 271
        },
        "outputId": "3e473309-6297-4f12-d591-3a45172a66dc"
      },
      "outputs": [
        {
          "output_type": "display_data",
          "data": {
            "text/plain": [
              "Running query in 'sqlite:///sqlite_data/dla_tutorial.db?charset=utf8mb4'"
            ],
            "text/html": [
              "<span style=\"None\">Running query in &#x27;sqlite:///sqlite_data/dla_tutorial.db?charset=utf8mb4&#x27;</span>"
            ]
          },
          "metadata": {}
        },
        {
          "output_type": "execute_result",
          "data": {
            "text/plain": [
              "+--------+-------+----------+\n",
              "|  word  | count | category |\n",
              "+--------+-------+----------+\n",
              "|  well  | 14929 |  POSEMO  |\n",
              "|  good  | 13161 |  POSEMO  |\n",
              "|  love  |  9346 |  POSEMO  |\n",
              "| great  |  5306 |  POSEMO  |\n",
              "| better |  4721 |  POSEMO  |\n",
              "|  fun   |  4165 |  POSEMO  |\n",
              "| pretty |  4056 |  POSEMO  |\n",
              "|  best  |  3924 |  POSEMO  |\n",
              "|  nice  |  3861 |  POSEMO  |\n",
              "|  hope  |  3688 |  POSEMO  |\n",
              "+--------+-------+----------+"
            ],
            "text/html": [
              "<table>\n",
              "    <thead>\n",
              "        <tr>\n",
              "            <th>word</th>\n",
              "            <th>count</th>\n",
              "            <th>category</th>\n",
              "        </tr>\n",
              "    </thead>\n",
              "    <tbody>\n",
              "        <tr>\n",
              "            <td>well</td>\n",
              "            <td>14929</td>\n",
              "            <td>POSEMO</td>\n",
              "        </tr>\n",
              "        <tr>\n",
              "            <td>good</td>\n",
              "            <td>13161</td>\n",
              "            <td>POSEMO</td>\n",
              "        </tr>\n",
              "        <tr>\n",
              "            <td>love</td>\n",
              "            <td>9346</td>\n",
              "            <td>POSEMO</td>\n",
              "        </tr>\n",
              "        <tr>\n",
              "            <td>great</td>\n",
              "            <td>5306</td>\n",
              "            <td>POSEMO</td>\n",
              "        </tr>\n",
              "        <tr>\n",
              "            <td>better</td>\n",
              "            <td>4721</td>\n",
              "            <td>POSEMO</td>\n",
              "        </tr>\n",
              "        <tr>\n",
              "            <td>fun</td>\n",
              "            <td>4165</td>\n",
              "            <td>POSEMO</td>\n",
              "        </tr>\n",
              "        <tr>\n",
              "            <td>pretty</td>\n",
              "            <td>4056</td>\n",
              "            <td>POSEMO</td>\n",
              "        </tr>\n",
              "        <tr>\n",
              "            <td>best</td>\n",
              "            <td>3924</td>\n",
              "            <td>POSEMO</td>\n",
              "        </tr>\n",
              "        <tr>\n",
              "            <td>nice</td>\n",
              "            <td>3861</td>\n",
              "            <td>POSEMO</td>\n",
              "        </tr>\n",
              "        <tr>\n",
              "            <td>hope</td>\n",
              "            <td>3688</td>\n",
              "            <td>POSEMO</td>\n",
              "        </tr>\n",
              "    </tbody>\n",
              "</table>"
            ]
          },
          "metadata": {},
          "execution_count": 8
        }
      ],
      "source": [
        "%%sql\n",
        "\n",
        "SELECT *\n",
        "FROM miniLiwc_wordcounts\n",
        "WHERE category = \"POSEMO\"\n",
        "ORDER BY count DESC\n",
        "limit 10;"
      ]
    },
    {
      "cell_type": "markdown",
      "metadata": {
        "id": "eegZZ1myoO1l"
      },
      "source": [
        "Turns out, `well`, `good`, `love` are all bad words in that they are highly ambiguous. [see here](https://static1.squarespace.com/static/53d29678e4b04e06965e9423/t/5f2ad5ec2985cb6e8e2e6548/1596642799449/PNAS-2020-subjectiveWellBeing.pdf)\n",
        "\n",
        "Can you mod the query above to show you the POSEMO words only used once?\n",
        "\n",
        "Let's check in on the other two as well."
      ]
    },
    {
      "cell_type": "code",
      "execution_count": null,
      "metadata": {
        "id": "TFrboFzxoO1l",
        "colab": {
          "base_uri": "https://localhost:8080/",
          "height": 271
        },
        "outputId": "3c7535d2-2634-4a91-cf27-ef3a28053293"
      },
      "outputs": [
        {
          "output_type": "display_data",
          "data": {
            "text/plain": [
              "Running query in 'sqlite:///sqlite_data/dla_tutorial.db?charset=utf8mb4'"
            ],
            "text/html": [
              "<span style=\"None\">Running query in &#x27;sqlite:///sqlite_data/dla_tutorial.db?charset=utf8mb4&#x27;</span>"
            ]
          },
          "metadata": {}
        },
        {
          "output_type": "execute_result",
          "data": {
            "text/plain": [
              "+--------+-------+----------+\n",
              "|  word  | count | category |\n",
              "+--------+-------+----------+\n",
              "|  bad   |  4533 |  NEGEMO  |\n",
              "|  hate  |  2394 |  NEGEMO  |\n",
              "| wrong  |  2286 |  NEGEMO  |\n",
              "|  lost  |  2146 |  NEGEMO  |\n",
              "|  hell  |  2071 |  NEGEMO  |\n",
              "| stupid |  1889 |  NEGEMO  |\n",
              "|  miss  |  1753 |  NEGEMO  |\n",
              "| sorry  |  1696 |  NEGEMO  |\n",
              "|  fuck  |  1690 |  NEGEMO  |\n",
              "| alone  |  1664 |  NEGEMO  |\n",
              "+--------+-------+----------+"
            ],
            "text/html": [
              "<table>\n",
              "    <thead>\n",
              "        <tr>\n",
              "            <th>word</th>\n",
              "            <th>count</th>\n",
              "            <th>category</th>\n",
              "        </tr>\n",
              "    </thead>\n",
              "    <tbody>\n",
              "        <tr>\n",
              "            <td>bad</td>\n",
              "            <td>4533</td>\n",
              "            <td>NEGEMO</td>\n",
              "        </tr>\n",
              "        <tr>\n",
              "            <td>hate</td>\n",
              "            <td>2394</td>\n",
              "            <td>NEGEMO</td>\n",
              "        </tr>\n",
              "        <tr>\n",
              "            <td>wrong</td>\n",
              "            <td>2286</td>\n",
              "            <td>NEGEMO</td>\n",
              "        </tr>\n",
              "        <tr>\n",
              "            <td>lost</td>\n",
              "            <td>2146</td>\n",
              "            <td>NEGEMO</td>\n",
              "        </tr>\n",
              "        <tr>\n",
              "            <td>hell</td>\n",
              "            <td>2071</td>\n",
              "            <td>NEGEMO</td>\n",
              "        </tr>\n",
              "        <tr>\n",
              "            <td>stupid</td>\n",
              "            <td>1889</td>\n",
              "            <td>NEGEMO</td>\n",
              "        </tr>\n",
              "        <tr>\n",
              "            <td>miss</td>\n",
              "            <td>1753</td>\n",
              "            <td>NEGEMO</td>\n",
              "        </tr>\n",
              "        <tr>\n",
              "            <td>sorry</td>\n",
              "            <td>1696</td>\n",
              "            <td>NEGEMO</td>\n",
              "        </tr>\n",
              "        <tr>\n",
              "            <td>fuck</td>\n",
              "            <td>1690</td>\n",
              "            <td>NEGEMO</td>\n",
              "        </tr>\n",
              "        <tr>\n",
              "            <td>alone</td>\n",
              "            <td>1664</td>\n",
              "            <td>NEGEMO</td>\n",
              "        </tr>\n",
              "    </tbody>\n",
              "</table>"
            ]
          },
          "metadata": {},
          "execution_count": 9
        }
      ],
      "source": [
        "%%sql\n",
        "\n",
        "SELECT *\n",
        "FROM miniLiwc_wordcounts\n",
        "WHERE category = 'NEGEMO'\n",
        "ORDER BY count DESC\n",
        "LIMIT 10;"
      ]
    },
    {
      "cell_type": "code",
      "execution_count": null,
      "metadata": {
        "id": "24FEUrkBoO1l",
        "colab": {
          "base_uri": "https://localhost:8080/",
          "height": 271
        },
        "outputId": "c5fcb4ef-7010-48c6-ac21-f496e304a3df"
      },
      "outputs": [
        {
          "output_type": "display_data",
          "data": {
            "text/plain": [
              "Running query in 'sqlite:///sqlite_data/dla_tutorial.db?charset=utf8mb4'"
            ],
            "text/html": [
              "<span style=\"None\">Running query in &#x27;sqlite:///sqlite_data/dla_tutorial.db?charset=utf8mb4&#x27;</span>"
            ]
          },
          "metadata": {}
        },
        {
          "output_type": "execute_result",
          "data": {
            "text/plain": [
              "+------+-------+----------+\n",
              "| word | count | category |\n",
              "+------+-------+----------+\n",
              "| you  | 58284 |  SOCIAL  |\n",
              "|  we  | 34652 |  SOCIAL  |\n",
              "|  he  | 29493 |  SOCIAL  |\n",
              "| they | 24339 |  SOCIAL  |\n",
              "| she  | 18642 |  SOCIAL  |\n",
              "| her  | 17899 |  SOCIAL  |\n",
              "| his  | 16757 |  SOCIAL  |\n",
              "| your | 14505 |  SOCIAL  |\n",
              "| who  | 14413 |  SOCIAL  |\n",
              "| him  | 13003 |  SOCIAL  |\n",
              "+------+-------+----------+"
            ],
            "text/html": [
              "<table>\n",
              "    <thead>\n",
              "        <tr>\n",
              "            <th>word</th>\n",
              "            <th>count</th>\n",
              "            <th>category</th>\n",
              "        </tr>\n",
              "    </thead>\n",
              "    <tbody>\n",
              "        <tr>\n",
              "            <td>you</td>\n",
              "            <td>58284</td>\n",
              "            <td>SOCIAL</td>\n",
              "        </tr>\n",
              "        <tr>\n",
              "            <td>we</td>\n",
              "            <td>34652</td>\n",
              "            <td>SOCIAL</td>\n",
              "        </tr>\n",
              "        <tr>\n",
              "            <td>he</td>\n",
              "            <td>29493</td>\n",
              "            <td>SOCIAL</td>\n",
              "        </tr>\n",
              "        <tr>\n",
              "            <td>they</td>\n",
              "            <td>24339</td>\n",
              "            <td>SOCIAL</td>\n",
              "        </tr>\n",
              "        <tr>\n",
              "            <td>she</td>\n",
              "            <td>18642</td>\n",
              "            <td>SOCIAL</td>\n",
              "        </tr>\n",
              "        <tr>\n",
              "            <td>her</td>\n",
              "            <td>17899</td>\n",
              "            <td>SOCIAL</td>\n",
              "        </tr>\n",
              "        <tr>\n",
              "            <td>his</td>\n",
              "            <td>16757</td>\n",
              "            <td>SOCIAL</td>\n",
              "        </tr>\n",
              "        <tr>\n",
              "            <td>your</td>\n",
              "            <td>14505</td>\n",
              "            <td>SOCIAL</td>\n",
              "        </tr>\n",
              "        <tr>\n",
              "            <td>who</td>\n",
              "            <td>14413</td>\n",
              "            <td>SOCIAL</td>\n",
              "        </tr>\n",
              "        <tr>\n",
              "            <td>him</td>\n",
              "            <td>13003</td>\n",
              "            <td>SOCIAL</td>\n",
              "        </tr>\n",
              "    </tbody>\n",
              "</table>"
            ]
          },
          "metadata": {},
          "execution_count": 10
        }
      ],
      "source": [
        "%%sql\n",
        "\n",
        "SELECT *\n",
        "FROM miniLiwc_wordcounts\n",
        "WHERE category = 'SOCIAL'\n",
        "ORDER BY count DESC\n",
        "LIMIT 10;"
      ]
    },
    {
      "cell_type": "markdown",
      "metadata": {
        "id": "4hz6rmX6oO1l"
      },
      "source": [
        "Who would have guessed that `SOCIAL` is full of function word pronouns!? It's basically just a pronoun dictionary, the rest won't matter. Good we checked!!\n",
        "\n",
        "Bahh! Ignorance is bliss, except, of course, it isn't."
      ]
    },
    {
      "cell_type": "markdown",
      "metadata": {
        "id": "_BDuM-5KoO1l"
      },
      "source": [
        "## 7) Message-level extraction: Blog posts that have POSEMO words\n",
        "\n",
        "During the lectures, we saw that to judge the precision of a dictionary, we need to look at (1) of those messages containing dictionary words (2) how many actually express the concept conveyed by the dictionary. Specifically (2)/(1) is \"precision.\"\n",
        "\n",
        "Lets find some blogs with POSEMO words in it -- so that we can look at them, with our eyes, and see if they really are positive emotion-y.\n",
        "\n",
        "For that, we again want to match the words in the POSEMO category against a feature table that contains words -- so 1grams. But now, we don't want to group blog posts from users, we want to get the words in the specific blog posts, so we can fish out blog posts that have POSEMO words in them.\n",
        "\n",
        "DLATK will come to the rescue -- through the clever use of the `correl_field` (=group-by_field) -- we will tell it to extract 1-grams with `message_id` as our `correl_field`. That will get us a `feat$1gram$msgs$message_id` feature table.\n",
        "\n",
        "Then we find `message_id` of `feat` in `feat$1gram$msgs$message_id` that belong `term` in `category` POSEMO in `mini_LIWC2015`.\n",
        "\n",
        "This will take a ~25 minutes!"
      ]
    },
    {
      "cell_type": "code",
      "execution_count": null,
      "metadata": {
        "id": "AVa08BaeoO1l"
      },
      "outputs": [],
      "source": [
        "!dlatkInterface.py \\\n",
        "  --corpdb {database} \\\n",
        "  --corptable {msgs_table} \\\n",
        "  --correl_field message_id \\\n",
        "  --add_ngrams -n 1"
      ]
    },
    {
      "cell_type": "markdown",
      "metadata": {
        "id": "ErtNE7_koO1l"
      },
      "source": [
        "Just to remind ourselves again --\n",
        "* all feature tables have the same columns (`id`, `group_id`, `feat`, `value`, `group_norm`).\n",
        "* the **name** of the feature table tells us how the table came about, and what exactly is in it.\n",
        "\n",
        "### 7a) A feature table for messages!\n",
        "\n",
        "This is now the third time that we are encountering a feature table.\n",
        "\n",
        "Our new table is: `feat$1gram$msgs$message_id`\n",
        "\n",
        "| this column in the feature table... | ...contains this (as recorded in table name)|\n",
        "|------|------|\n",
        "| feat | 1gram |\n",
        "| group_id | message_id |\n",
        "\n",
        "**Note that the group_id field now is no longer users, but messages (here: blog posts. That's what's in the message table).**\n",
        "\n",
        "Previously we had, just for comparison:\n",
        "\n",
        "The dictionary table `feat$cat_mini_LIWC2015$msgs$user_id$1gra`\n",
        "\n",
        "| this column in the feature table... | ...contains this (as recorded in table name)|\n",
        "|------|------|\n",
        "| feat | **categories in _mini_LIWC2015_** |\n",
        "| group_id | user_id |\n",
        "\n",
        "And the 1gram table `feat$1gram$msgs$user_id`\n",
        "\n",
        "| this column in the feature table... | ...contains this (as recorded in table name)|\n",
        "|------|------|\n",
        "| feat | **1gram** |\n",
        "| group_id | user_id |\n",
        "\n",
        "Hopefully you are getting the idea. It's an abstract data structure 🌈\n",
        "\n",
        "Let's sanity check the new table. How many messages does it contain features for?\n",
        "\n",
        "\n"
      ]
    },
    {
      "cell_type": "code",
      "execution_count": null,
      "metadata": {
        "id": "dc1FVb4NoO1l"
      },
      "outputs": [],
      "source": [
        "feat_1gram_msg = 'feat$1gram$msgs$message_id'"
      ]
    },
    {
      "cell_type": "code",
      "execution_count": null,
      "metadata": {
        "id": "s7ykD8zCoO1l",
        "colab": {
          "base_uri": "https://localhost:8080/",
          "height": 79
        },
        "outputId": "d84c791c-84b7-4317-ca14-7f5f75b26088"
      },
      "outputs": [
        {
          "output_type": "display_data",
          "data": {
            "text/plain": [
              "Running query in 'sqlite:///sqlite_data/dla_tutorial.db?charset=utf8mb4'"
            ],
            "text/html": [
              "<span style=\"None\">Running query in &#x27;sqlite:///sqlite_data/dla_tutorial.db?charset=utf8mb4&#x27;</span>"
            ]
          },
          "metadata": {}
        },
        {
          "output_type": "execute_result",
          "data": {
            "text/plain": [
              "+----------+\n",
              "| num_msgs |\n",
              "+----------+\n",
              "|  31502   |\n",
              "+----------+"
            ],
            "text/html": [
              "<table>\n",
              "    <thead>\n",
              "        <tr>\n",
              "            <th>num_msgs</th>\n",
              "        </tr>\n",
              "    </thead>\n",
              "    <tbody>\n",
              "        <tr>\n",
              "            <td>31502</td>\n",
              "        </tr>\n",
              "    </tbody>\n",
              "</table>"
            ]
          },
          "metadata": {},
          "execution_count": 13
        }
      ],
      "source": [
        "%%sql\n",
        "\n",
        "SELECT COUNT(DISTINCT(group_id)) AS num_msgs\n",
        "FROM {{feat_1gram_msg}};"
      ]
    },
    {
      "cell_type": "markdown",
      "metadata": {
        "id": "IBtSOoQqoO1m"
      },
      "source": [
        "So yeah, it's a big table! Because it has 31,000 messages times all their 1gram counts, for a total of how many rows?"
      ]
    },
    {
      "cell_type": "code",
      "execution_count": null,
      "metadata": {
        "id": "KNYYHj_WoO1m"
      },
      "outputs": [],
      "source": [
        "feat_1gram_msg = 'feat$1gram$msgs$message_id'"
      ]
    },
    {
      "cell_type": "code",
      "execution_count": null,
      "metadata": {
        "id": "-6mk-fj0oO1m",
        "colab": {
          "base_uri": "https://localhost:8080/",
          "height": 79
        },
        "outputId": "8a7cec0c-bd31-4bc2-c651-12b368875bf8"
      },
      "outputs": [
        {
          "output_type": "display_data",
          "data": {
            "text/plain": [
              "Running query in 'sqlite:///sqlite_data/dla_tutorial.db?charset=utf8mb4'"
            ],
            "text/html": [
              "<span style=\"None\">Running query in &#x27;sqlite:///sqlite_data/dla_tutorial.db?charset=utf8mb4&#x27;</span>"
            ]
          },
          "metadata": {}
        },
        {
          "output_type": "execute_result",
          "data": {
            "text/plain": [
              "+----------+\n",
              "| num_rows |\n",
              "+----------+\n",
              "| 3764873  |\n",
              "+----------+"
            ],
            "text/html": [
              "<table>\n",
              "    <thead>\n",
              "        <tr>\n",
              "            <th>num_rows</th>\n",
              "        </tr>\n",
              "    </thead>\n",
              "    <tbody>\n",
              "        <tr>\n",
              "            <td>3764873</td>\n",
              "        </tr>\n",
              "    </tbody>\n",
              "</table>"
            ]
          },
          "metadata": {},
          "execution_count": 15
        }
      ],
      "source": [
        "%%sql\n",
        "\n",
        "SELECT COUNT(*) AS num_rows\n",
        "FROM {{feat_1gram_msg}};"
      ]
    },
    {
      "cell_type": "markdown",
      "metadata": {
        "id": "_t_lDqxkoO1m"
      },
      "source": [
        "3.7m rows -- we are not in Excel Land anymore."
      ]
    },
    {
      "cell_type": "markdown",
      "metadata": {
        "id": "EazUQFSNoO1m"
      },
      "source": [
        "Let's keep swimming though.\n",
        "\n",
        "Now we want to create a query that pulls out the `message_id`s that have 1grams that match the `term` column for POSEMO words."
      ]
    },
    {
      "cell_type": "code",
      "execution_count": null,
      "metadata": {
        "id": "G4fDhR9OoO1m"
      },
      "outputs": [],
      "source": [
        "feat_1gram_msg = 'feat$1gram$msgs$message_id'"
      ]
    },
    {
      "cell_type": "code",
      "execution_count": null,
      "metadata": {
        "id": "y64L2OWpoO1m",
        "colab": {
          "base_uri": "https://localhost:8080/",
          "height": 271
        },
        "outputId": "65b1a7d5-b1a5-43bc-e2f3-61fb5631b4b8"
      },
      "outputs": [
        {
          "output_type": "display_data",
          "data": {
            "text/plain": [
              "Running query in 'sqlite:///sqlite_data/dla_tutorial.db?charset=utf8mb4'"
            ],
            "text/html": [
              "<span style=\"None\">Running query in &#x27;sqlite:///sqlite_data/dla_tutorial.db?charset=utf8mb4&#x27;</span>"
            ]
          },
          "metadata": {}
        },
        {
          "output_type": "execute_result",
          "data": {
            "text/plain": [
              "+------------+------+\n",
              "| message_id | feat |\n",
              "+------------+------+\n",
              "|    2523    |  (:  |\n",
              "|    2526    |  (:  |\n",
              "|    2750    |  (:  |\n",
              "|    5896    |  (:  |\n",
              "|    5912    |  (:  |\n",
              "|    5922    |  (:  |\n",
              "|    6000    |  (:  |\n",
              "|    7298    |  (:  |\n",
              "|    7381    |  (:  |\n",
              "|    7382    |  (:  |\n",
              "+------------+------+"
            ],
            "text/html": [
              "<table>\n",
              "    <thead>\n",
              "        <tr>\n",
              "            <th>message_id</th>\n",
              "            <th>feat</th>\n",
              "        </tr>\n",
              "    </thead>\n",
              "    <tbody>\n",
              "        <tr>\n",
              "            <td>2523</td>\n",
              "            <td>(:</td>\n",
              "        </tr>\n",
              "        <tr>\n",
              "            <td>2526</td>\n",
              "            <td>(:</td>\n",
              "        </tr>\n",
              "        <tr>\n",
              "            <td>2750</td>\n",
              "            <td>(:</td>\n",
              "        </tr>\n",
              "        <tr>\n",
              "            <td>5896</td>\n",
              "            <td>(:</td>\n",
              "        </tr>\n",
              "        <tr>\n",
              "            <td>5912</td>\n",
              "            <td>(:</td>\n",
              "        </tr>\n",
              "        <tr>\n",
              "            <td>5922</td>\n",
              "            <td>(:</td>\n",
              "        </tr>\n",
              "        <tr>\n",
              "            <td>6000</td>\n",
              "            <td>(:</td>\n",
              "        </tr>\n",
              "        <tr>\n",
              "            <td>7298</td>\n",
              "            <td>(:</td>\n",
              "        </tr>\n",
              "        <tr>\n",
              "            <td>7381</td>\n",
              "            <td>(:</td>\n",
              "        </tr>\n",
              "        <tr>\n",
              "            <td>7382</td>\n",
              "            <td>(:</td>\n",
              "        </tr>\n",
              "    </tbody>\n",
              "</table>"
            ]
          },
          "metadata": {},
          "execution_count": 17
        }
      ],
      "source": [
        "%%sql\n",
        "\n",
        "SELECT group_id AS message_id, feat\n",
        "FROM feat$1gram$msgs$message_id\n",
        "WHERE feat IN (SELECT term\n",
        "               FROM dlatk_lexica.mini_LIWC2015\n",
        "               WHERE category = 'POSEMO')\n",
        "LIMIT 10;"
      ]
    },
    {
      "cell_type": "markdown",
      "metadata": {
        "id": "fP6iWoW0oO1m"
      },
      "source": [
        "So this tells us that message 2523 had the feature \"(:\" in it, which is in the POSEMO dictionary. Hopefully you get the idea. So let's make ourselves a table that preserves this."
      ]
    },
    {
      "cell_type": "code",
      "execution_count": null,
      "metadata": {
        "id": "xYWrQAScoO1m"
      },
      "outputs": [],
      "source": [
        "feat_1gram_msg = 'feat$1gram$msgs$message_id'"
      ]
    },
    {
      "cell_type": "code",
      "execution_count": null,
      "metadata": {
        "id": "eVbAhx9toO1m",
        "colab": {
          "base_uri": "https://localhost:8080/",
          "height": 34
        },
        "outputId": "04a796ea-f292-426f-b9eb-51c7a7e96383"
      },
      "outputs": [
        {
          "output_type": "display_data",
          "data": {
            "text/plain": [
              "Running query in 'sqlite:///sqlite_data/dla_tutorial.db?charset=utf8mb4'"
            ],
            "text/html": [
              "<span style=\"None\">Running query in &#x27;sqlite:///sqlite_data/dla_tutorial.db?charset=utf8mb4&#x27;</span>"
            ]
          },
          "metadata": {}
        },
        {
          "output_type": "execute_result",
          "data": {
            "text/plain": [
              "++\n",
              "||\n",
              "++\n",
              "++"
            ],
            "text/html": [
              "<table>\n",
              "    <thead>\n",
              "        <tr>\n",
              "        </tr>\n",
              "    </thead>\n",
              "    <tbody>\n",
              "    </tbody>\n",
              "</table>"
            ]
          },
          "metadata": {},
          "execution_count": 19
        }
      ],
      "source": [
        "%%sql\n",
        "\n",
        "DROP TABLE IF EXISTS posemo_blogs;\n",
        "\n",
        "CREATE TABLE posemo_blogs AS SELECT group_id AS message_id, feat\n",
        "                              FROM {{feat_1gram_msg}}\n",
        "                              WHERE feat IN (SELECT term\n",
        "                                             FROM dlatk_lexica.mini_LIWC2015\n",
        "                                             WHERE category = 'POSEMO');"
      ]
    },
    {
      "cell_type": "markdown",
      "metadata": {
        "id": "He0ixB4AoO1m"
      },
      "source": [
        "and let's pull some of those messages for a random sample."
      ]
    },
    {
      "cell_type": "code",
      "execution_count": null,
      "metadata": {
        "id": "y4sbtofCoO1m",
        "colab": {
          "base_uri": "https://localhost:8080/",
          "height": 1000
        },
        "outputId": "9589d624-fde0-442d-9577-462516e1907f"
      },
      "outputs": [
        {
          "output_type": "display_data",
          "data": {
            "text/plain": [
              "Running query in 'sqlite:///sqlite_data/dla_tutorial.db?charset=utf8mb4'"
            ],
            "text/html": [
              "<span style=\"None\">Running query in &#x27;sqlite:///sqlite_data/dla_tutorial.db?charset=utf8mb4&#x27;</span>"
            ]
          },
          "metadata": {}
        },
        {
          "output_type": "execute_result",
          "data": {
            "text/plain": [
              "+-------------+------------+---------+----------------+---------------------+---------------------------------------------------------------------------------------------------------------------------------------------------------------------------------------------------------------------------------------------------------------------------------------------------------------------------------------------------------------------------------------------------------------------------------------------------------------------------------------------------------------------------------------------------------------------------------------------------------------------------------------------------------------------------------------------------------------------------------------------------------------------------------------------------------------------------------------------------------------------------------------------------------------------------------------------------------------------------------------------------------------------------------------------------------------------------------------------------------------------------------------------------------------------------------------------------------------------------------------------------------------------------------------------------------------------------------------------------------------------------------------------------------------------------------------------------------------------------------------------------------------------------------------------------------------------------------------------------------------------------------------------------------------------------------------------------------------------------------------------------------------------------------------------------------------------------------------------------------------------------------------------------------------------------------------------------------------------------------------------------------------------------------------------------------------------------------------------------------------------------------------------------------------------------------------------------------------------------------------------------------------------------------------------------------------------------------------------------------------------------------------------------------------------------------------------------------------------------------------------------------------------------------------------------------------------------------------------------------------------------------------------------------------------------------------------------------------------------------------------------------------------------------------------------------------------------------------------------------------------------------------------------------------------------------------------------------------------------------------------------------------------------------------------------------------------------------------------------------------------------------------------------------------------------------------------------------------------------------------------------------------------------------------------------------------------------------------------------------------------------------------------------------------------------------------------------------------------------------------------------------------------------------------------------------------------------------------------------------------------------------------------------------------------------------------------------------------------------------------------------------------------------------------------------------------------------------------------------------------------------------------------------------------------------------------------------------------------------------------------------------------------------------------------------------------------------------------------------------------------------------------------------------------------------------------------------------------------------------------------------------------------------------------------------------------------------------------------------+\n",
              "| posemo_word | message_id | user_id |      date      |     created_time    |                                                                                                                                                                                                                                                                                                                                                                                                                                                                                                                                                                                                                                                                                                                                                                                                                                                                                                                                                                                                                                                                                                                                                                                                                                                                                                                                                                                                                                                                                                                                                                                                                                                                                                                                                                                                                                                                                                                                                                                                                                                                                                                                                                      message                                                                                                                                                                                                                                                                                                                                                                                                                                                                                                                                                                                                                                                                                                                                                                                                                                                                                                                                                                                                                                                                                                                                                                                                                                                                                                                                                                                                                                                                                                                                                                                                                                                                                                                                                                                                                                                                                                                                                                                                                                                                                                                                                                      |\n",
              "+-------------+------------+---------+----------------+---------------------+---------------------------------------------------------------------------------------------------------------------------------------------------------------------------------------------------------------------------------------------------------------------------------------------------------------------------------------------------------------------------------------------------------------------------------------------------------------------------------------------------------------------------------------------------------------------------------------------------------------------------------------------------------------------------------------------------------------------------------------------------------------------------------------------------------------------------------------------------------------------------------------------------------------------------------------------------------------------------------------------------------------------------------------------------------------------------------------------------------------------------------------------------------------------------------------------------------------------------------------------------------------------------------------------------------------------------------------------------------------------------------------------------------------------------------------------------------------------------------------------------------------------------------------------------------------------------------------------------------------------------------------------------------------------------------------------------------------------------------------------------------------------------------------------------------------------------------------------------------------------------------------------------------------------------------------------------------------------------------------------------------------------------------------------------------------------------------------------------------------------------------------------------------------------------------------------------------------------------------------------------------------------------------------------------------------------------------------------------------------------------------------------------------------------------------------------------------------------------------------------------------------------------------------------------------------------------------------------------------------------------------------------------------------------------------------------------------------------------------------------------------------------------------------------------------------------------------------------------------------------------------------------------------------------------------------------------------------------------------------------------------------------------------------------------------------------------------------------------------------------------------------------------------------------------------------------------------------------------------------------------------------------------------------------------------------------------------------------------------------------------------------------------------------------------------------------------------------------------------------------------------------------------------------------------------------------------------------------------------------------------------------------------------------------------------------------------------------------------------------------------------------------------------------------------------------------------------------------------------------------------------------------------------------------------------------------------------------------------------------------------------------------------------------------------------------------------------------------------------------------------------------------------------------------------------------------------------------------------------------------------------------------------------------------------------------------------------------------------+\n",
              "|  creativity |    2408    | 4040811 | 03,August,2004 | 2004-08-03 00:00:00 |     Hello All!  Yes, Yes We won again. The Zeta Ladies are just BADDDD! Oh my goodness! No Blue and White Sweep though, the Sigmas did not win, but I am still ecstatic about my sorors though. Just beware that this is going to be a long post, but very very entertaining:)  So, this years show was by far the best show that I have been to, and I counted this week and this is my 6th year going! I am getting so old. Everyone stepped except for the Omega's which kind of shocked me because they always step. The Sigma Gamma Rho's opened the show. They had a 70's... old school theme, you get the picture. They had a good show, very high energy and very difficult steps. They did really well.  Then it was time for the main event! Here is what the people came to see! Ha Ha! (In case you do not know me, I talk much trash about sports, my sorority, my church, just about anything I am passionate about.) Our theme was a court case. Pure genius if you ask me. It started with a powerpoint show where it stated that the ladies of Zeta Phi Beta Sorority, Inc. have been accused of theft of stepshows and strolls, something we deny and tonight, you will be the judge. Then the powerpoint introduced the judge and the prosecutor Ivy D. Poodle. Then it introduced us. I can't even remember the song that we came out on but it was hype! I was so excited! I was in the VIP section with a whole lot of sorors and we were screaming! It was great. There show was so hot, not one mistake, steps were difficult, they held the theme the entire show and it made it interesting. I was so proud.  Then it was the Delta's turn. Now at first I was a little frightened because it was like 30 of them stepping and they came out hype too. But then they had no theme they were just out there doing there thing. It got kind of old to look at. They wore casual boots w/no heel or tap so it made their steps sound too clunky and not precise and crisp. At the end I was no longer worried:)  The AKA's, well again they came out hype. They had no theme as well, made about two or three mistakes....We had this puppy in the bag! I knew we won by the intermission. No need to even wait on the judges.  Now here is why I think that we always win. WE ALWAYS HAVE A THEME. A theme is essential to keeping your show interesting. Stepshows are about entertainment, and a plot of some kind entertains. It shows creativity and that you put in a lot of effort. Anyone can put a step together and perform it but, to come up with a theme, get clothes, costumes and props to fit your theme, takes effort and work. Plus your want to maximize all your point categories and those creativity and originality points can go a long way. If you have a theme you have to carry it through the whole show. You can't just have an intro theme; it will make your show start out hot but get cold at the end like so many other shows did.  The men I will sum up here: The Kappa's won, there show was good. The Iota's stepped they did this step with knives and two of the guys threw the knives out at the judges instead of down and one of the knives hit the Delta judge. (She was not injured though)  Now during the show I sat on the 1st row of the balcony in the center (I got there an hour early for those seats). I sat with my friend Candice and her sister Sydney. I was also next to my former protege Kenyatta on my left. At the intermission people started to sit in other peoples seats. So these 3 girls sat in Kenyatta and her friends seats and refused to move. The Alphas tried to be nice but she refused to move. We told her that those seats were taken but she sat there anyway. That kind of thing makes me so mad. I know I should not care, no one was crazy enough to sit in my seat, but I just hate ignorant people! If you get there half way though the show, you need to sit in the back at the top, behind that pole. These people are crazy these days, I guess morals are out the window.  The afterparty was cool, I had fun. I stayed till about 1am and I was off to the bed!  All in all, one of the best dang marchdowns period.  God Bless, Raquel  p.s. I will post latter about what people had on. That deserves special attention.    |\n",
              "|     good    |   17332    | 2413978 |  11,May,2004   | 2004-05-11 00:00:00 |                                                                                                                                                                                                                                                                                                                                                                                                                                                                                                                                                                                                                                                                                                                                                                                                                                                                Man I'm so sick of going to the Dentist. Yesterday they had to numb me  Again  with Novacane, and even asking the Dentist to take it easy, my mouth was still numb for like 4 hours. They had to glue another bracket onto an exposed tooth, and then apply pressure to try and get the tooth to come down.  After I was done at the Dentist my Mom had to get a bunch of stuff done and as it turns out she has to get more then $2000 worth the stuff done on herself, not to mention the $400 she has to pay for my two tooth exposures.  While she had her stuff done I was in the car reading and then napping.  After leaving the Dentist we went to the Air Port and bought some tickets for Phoenix Arizona. We're going sometime in June. I have no idea why as we know no one in Phoenix, but hey, it will be a weekend of relaxation that should be really fun.  Once we left the Air Port we went to this Thai food resturaunt in College Grove and it wasn't too great. I did try Thai Iced Tea that was interesting but all of the food was greesey and had a strange sweetish after taste. Other Thai food I've had didn't have that. But the Tea, as I said, was good. It was regular iced tea with milk and sugar cain juice in it, which made it very unique.  Right before we went to the Thai place my Mom had to go in this damn Sorority store, because College Grove is by SDSU, hence the name, and she was looking around at all this shit she isn't going to possibly buy. She has to go in every fucking store!!! I'm so sick of it.  And then after the Thai place she went to Vons, a grocery store, to buy **MORE** food. Like we need more! Our whole garage is practically a store. And then she has both freezers loaded down. Then she says I want food? I occasionally ask for stuff that **I** actually eat. GRR...parents.  We went to Cold Stone after Vons, I got an interesting Ice Crea with Pineapple, Coconut and Pecan Pralines mixed into French Vanilla (wish I would have gotten Sweet Cream instead) and then we got home **LATE**.  When we got home I still had to Choreograph a dance (32 counts) and then do HMWK, so I was up until 12:30 am.  Then in the middle of the night, around 5:00 am I got up really sick to my stomach. I felt like my Digestive Tract was going to explode, and then I couldn't even go to the bathroom. Constipation is the absolute worst feeling in the whole world. So I almost didn't go to school this morning I felt so bad. I blame it  ALL  on SODA. No more Soda for me. I'm going to stick to Water, Iced Tea and Juice.                                                                                                                                                                                                                                                                                                                                                                                                                                                                                                                                                                                                                                                                                                                                                                                                                                                               |\n",
              "|   respect   |   26368    | 4255254 | 21,August,2004 | 2004-08-21 00:00:00 |                                                                                                                                                                                                                                                                                                                                                                                                                                                                                                                                                                                                                                                                                                                                                                                                                                                                                                                                                                                                                                                                                                                                                                                                                                                                                                                                                                                                                                                                                                                                                                         I m such a disappointment..i gt back my geography test and i flunked it..it may b juz a common test but i did nt xpect to fail..perhaps i was over confident ?? tis daes i dunno wad's exactly rong wif me..sumtimes things may nt be as complicated as i may tink n yet i kip pondering over it..realli TTM !! ish onli abt 70 daes to O levels..and i haf nt started revising..n worse stil, i dun feel any pressure at all..n abt bgr, i haf no comments at all..blame me fer falling fer her but i ve no control over my feelings fer her at all..we may haf doubts fer each other..but plx dun question my feelings fer you..blame it tht i cant made it clear to u..blame it tht i sound so unconvincing coz i ve proven nth at all..u ve ur own dreams and plans and i respect ur decesion..if u feel pressurised, i will leave u alone coz if it ish really meant to be, we will definitely be tgt one day..i m trying to be optimistic though i dun haf high hopes it will turn out da way i long fer..as fer now, i wish u can study hard and nt slack anymore..da same goes fer me..i juz want u to stay happy..i wanna do my bez fer O levels so tht i wun break another promise agn..                                                                                                                                                                                                                                                                                                                                                                                                                                                                                                                                                                                                                                                                                                                                                                                                                                                                                                                                                                                                                                                                                                                                                                                                                                                                                                                                                                                                                                                                                                                                                                        |\n",
              "+-------------+------------+---------+----------------+---------------------+---------------------------------------------------------------------------------------------------------------------------------------------------------------------------------------------------------------------------------------------------------------------------------------------------------------------------------------------------------------------------------------------------------------------------------------------------------------------------------------------------------------------------------------------------------------------------------------------------------------------------------------------------------------------------------------------------------------------------------------------------------------------------------------------------------------------------------------------------------------------------------------------------------------------------------------------------------------------------------------------------------------------------------------------------------------------------------------------------------------------------------------------------------------------------------------------------------------------------------------------------------------------------------------------------------------------------------------------------------------------------------------------------------------------------------------------------------------------------------------------------------------------------------------------------------------------------------------------------------------------------------------------------------------------------------------------------------------------------------------------------------------------------------------------------------------------------------------------------------------------------------------------------------------------------------------------------------------------------------------------------------------------------------------------------------------------------------------------------------------------------------------------------------------------------------------------------------------------------------------------------------------------------------------------------------------------------------------------------------------------------------------------------------------------------------------------------------------------------------------------------------------------------------------------------------------------------------------------------------------------------------------------------------------------------------------------------------------------------------------------------------------------------------------------------------------------------------------------------------------------------------------------------------------------------------------------------------------------------------------------------------------------------------------------------------------------------------------------------------------------------------------------------------------------------------------------------------------------------------------------------------------------------------------------------------------------------------------------------------------------------------------------------------------------------------------------------------------------------------------------------------------------------------------------------------------------------------------------------------------------------------------------------------------------------------------------------------------------------------------------------------------------------------------------------------------------------------------------------------------------------------------------------------------------------------------------------------------------------------------------------------------------------------------------------------------------------------------------------------------------------------------------------------------------------------------------------------------------------------------------------------------------------------------------------------------------------------------------------+"
            ],
            "text/html": [
              "<table>\n",
              "    <thead>\n",
              "        <tr>\n",
              "            <th>posemo_word</th>\n",
              "            <th>message_id</th>\n",
              "            <th>user_id</th>\n",
              "            <th>date</th>\n",
              "            <th>created_time</th>\n",
              "            <th>message</th>\n",
              "        </tr>\n",
              "    </thead>\n",
              "    <tbody>\n",
              "        <tr>\n",
              "            <td>creativity</td>\n",
              "            <td>2408</td>\n",
              "            <td>4040811</td>\n",
              "            <td>03,August,2004</td>\n",
              "            <td>2004-08-03 00:00:00</td>\n",
              "            <td>&nbsp;&nbsp;&nbsp;&nbsp;Hello All!  Yes, Yes We won again. The Zeta Ladies are just BADDDD! Oh my goodness! No Blue and White Sweep though, the Sigmas did not win, but I am still ecstatic about my sorors though. Just beware that this is going to be a long post, but very very entertaining:)  So, this years show was by far the best show that I have been to, and I counted this week and this is my 6th year going! I am getting so old. Everyone stepped except for the Omega's which kind of shocked me because they always step. The Sigma Gamma Rho's opened the show. They had a 70's... old school theme, you get the picture. They had a good show, very high energy and very difficult steps. They did really well.  Then it was time for the main event! Here is what the people came to see! Ha Ha! (In case you do not know me, I talk much trash about sports, my sorority, my church, just about anything I am passionate about.) Our theme was a court case. Pure genius if you ask me. It started with a powerpoint show where it stated that the ladies of Zeta Phi Beta Sorority, Inc. have been accused of theft of stepshows and strolls, something we deny and tonight, you will be the judge. Then the powerpoint introduced the judge and the prosecutor Ivy D. Poodle. Then it introduced us. I can't even remember the song that we came out on but it was hype! I was so excited! I was in the VIP section with a whole lot of sorors and we were screaming! It was great. There show was so hot, not one mistake, steps were difficult, they held the theme the entire show and it made it interesting. I was so proud.  Then it was the Delta's turn. Now at first I was a little frightened because it was like 30 of them stepping and they came out hype too. But then they had no theme they were just out there doing there thing. It got kind of old to look at. They wore casual boots w/no heel or tap so it made their steps sound too clunky and not precise and crisp. At the end I was no longer worried:)  The AKA's, well again they came out hype. They had no theme as well, made about two or three mistakes....We had this puppy in the bag! I knew we won by the intermission. No need to even wait on the judges.  Now here is why I think that we always win. WE ALWAYS HAVE A THEME. A theme is essential to keeping your show interesting. Stepshows are about entertainment, and a plot of some kind entertains. It shows creativity and that you put in a lot of effort. Anyone can put a step together and perform it but, to come up with a theme, get clothes, costumes and props to fit your theme, takes effort and work. Plus your want to maximize all your point categories and those creativity and originality points can go a long way. If you have a theme you have to carry it through the whole show. You can't just have an intro theme; it will make your show start out hot but get cold at the end like so many other shows did.  The men I will sum up here: The Kappa's won, there show was good. The Iota's stepped they did this step with knives and two of the guys threw the knives out at the judges instead of down and one of the knives hit the Delta judge. (She was not injured though)  Now during the show I sat on the 1st row of the balcony in the center (I got there an hour early for those seats). I sat with my friend Candice and her sister Sydney. I was also next to my former protege Kenyatta on my left. At the intermission people started to sit in other peoples seats. So these 3 girls sat in Kenyatta and her friends seats and refused to move. The Alphas tried to be nice but she refused to move. We told her that those seats were taken but she sat there anyway. That kind of thing makes me so mad. I know I should not care, no one was crazy enough to sit in my seat, but I just hate ignorant people! If you get there half way though the show, you need to sit in the back at the top, behind that pole. These people are crazy these days, I guess morals are out the window.  The afterparty was cool, I had fun. I stayed till about 1am and I was off to the bed!  All in all, one of the best dang marchdowns period.  God Bless, Raquel  p.s. I will post latter about what people had on. That deserves special attention.   </td>\n",
              "        </tr>\n",
              "        <tr>\n",
              "            <td>good</td>\n",
              "            <td>17332</td>\n",
              "            <td>2413978</td>\n",
              "            <td>11,May,2004</td>\n",
              "            <td>2004-05-11 00:00:00</td>\n",
              "            <td>&nbsp;&nbsp;&nbsp;Man I'm so sick of going to the Dentist. Yesterday they had to numb me  Again  with Novacane, and even asking the Dentist to take it easy, my mouth was still numb for like 4 hours. They had to glue another bracket onto an exposed tooth, and then apply pressure to try and get the tooth to come down.  After I was done at the Dentist my Mom had to get a bunch of stuff done and as it turns out she has to get more then $2000 worth the stuff done on herself, not to mention the $400 she has to pay for my two tooth exposures.  While she had her stuff done I was in the car reading and then napping.  After leaving the Dentist we went to the Air Port and bought some tickets for Phoenix Arizona. We're going sometime in June. I have no idea why as we know no one in Phoenix, but hey, it will be a weekend of relaxation that should be really fun.  Once we left the Air Port we went to this Thai food resturaunt in College Grove and it wasn't too great. I did try Thai Iced Tea that was interesting but all of the food was greesey and had a strange sweetish after taste. Other Thai food I've had didn't have that. But the Tea, as I said, was good. It was regular iced tea with milk and sugar cain juice in it, which made it very unique.  Right before we went to the Thai place my Mom had to go in this damn Sorority store, because College Grove is by SDSU, hence the name, and she was looking around at all this shit she isn't going to possibly buy. She has to go in every fucking store!!! I'm so sick of it.  And then after the Thai place she went to Vons, a grocery store, to buy **MORE** food. Like we need more! Our whole garage is practically a store. And then she has both freezers loaded down. Then she says I want food? I occasionally ask for stuff that **I** actually eat. GRR...parents.  We went to Cold Stone after Vons, I got an interesting Ice Crea with Pineapple, Coconut and Pecan Pralines mixed into French Vanilla (wish I would have gotten Sweet Cream instead) and then we got home **LATE**.  When we got home I still had to Choreograph a dance (32 counts) and then do HMWK, so I was up until 12:30 am.  Then in the middle of the night, around 5:00 am I got up really sick to my stomach. I felt like my Digestive Tract was going to explode, and then I couldn't even go to the bathroom. Constipation is the absolute worst feeling in the whole world. So I almost didn't go to school this morning I felt so bad. I blame it  ALL  on SODA. No more Soda for me. I'm going to stick to Water, Iced Tea and Juice.  </td>\n",
              "        </tr>\n",
              "        <tr>\n",
              "            <td>respect</td>\n",
              "            <td>26368</td>\n",
              "            <td>4255254</td>\n",
              "            <td>21,August,2004</td>\n",
              "            <td>2004-08-21 00:00:00</td>\n",
              "            <td>&nbsp;&nbsp;&nbsp;I m such a disappointment..i gt back my geography test and i flunked it..it may b juz a common test but i did nt xpect to fail..perhaps i was over confident ?? tis daes i dunno wad's exactly rong wif me..sumtimes things may nt be as complicated as i may tink n yet i kip pondering over it..realli TTM !! ish onli abt 70 daes to O levels..and i haf nt started revising..n worse stil, i dun feel any pressure at all..n abt bgr, i haf no comments at all..blame me fer falling fer her but i ve no control over my feelings fer her at all..we may haf doubts fer each other..but plx dun question my feelings fer you..blame it tht i cant made it clear to u..blame it tht i sound so unconvincing coz i ve proven nth at all..u ve ur own dreams and plans and i respect ur decesion..if u feel pressurised, i will leave u alone coz if it ish really meant to be, we will definitely be tgt one day..i m trying to be optimistic though i dun haf high hopes it will turn out da way i long fer..as fer now, i wish u can study hard and nt slack anymore..da same goes fer me..i juz want u to stay happy..i wanna do my bez fer O levels so tht i wun break another promise agn..  </td>\n",
              "        </tr>\n",
              "    </tbody>\n",
              "</table>"
            ]
          },
          "metadata": {},
          "execution_count": 20
        }
      ],
      "source": [
        "%%sql\n",
        "\n",
        "SELECT a.feat AS posemo_word, b.*\n",
        "FROM posemo_blogs AS a, msgs AS b\n",
        "WHERE a.message_id = b.message_id\n",
        "ORDER BY RANDOM()\n",
        "LIMIT 3;"
      ]
    },
    {
      "cell_type": "markdown",
      "metadata": {
        "id": "yHTIRtt6oO1m"
      },
      "source": [
        "Now we could annotate this to see if the `POSEMO` token really designates positive emotion for a random sample."
      ]
    },
    {
      "cell_type": "markdown",
      "source": [
        "## 8) ‼️ Save your database ‼️\n",
        "\n",
        "The homework assumes that you have extracted feature tables. So let's write a copy of your database to Google Drive! 📝\n",
        "\n",
        "Google will ask you to allow this notebook to access your Drive--click yes and follow prompts to login and allow!"
      ],
      "metadata": {
        "id": "e9ARUuiJwsmU"
      }
    },
    {
      "cell_type": "code",
      "source": [
        "database = \"dla_tutorial\""
      ],
      "metadata": {
        "id": "DOrFgM0VE3CQ"
      },
      "execution_count": null,
      "outputs": []
    },
    {
      "cell_type": "code",
      "source": [
        "# Save your database in Google Drive\n",
        "\n",
        "# mount Google Drive (if you haven't already)\n",
        "from google.colab import drive\n",
        "drive.mount('/content/drive', force_remount=True)\n",
        "\n",
        "# copy the database file to your Drive (`-f` forces it to write over the old database with any changes)\n",
        "!cp -f \"sqlite_data/{database}.db\" \"/content/drive/MyDrive/sqlite_databases/\"\n",
        "\n",
        "print(f\"Database has been copied to your Google Drive with success!\")"
      ],
      "metadata": {
        "id": "tfxZnJW0EP8O"
      },
      "execution_count": null,
      "outputs": []
    },
    {
      "cell_type": "markdown",
      "source": [
        "Now your database is saved in your Google Drive! We can double check it's there by running this:"
      ],
      "metadata": {
        "id": "76d0t7iMJWki"
      }
    },
    {
      "cell_type": "code",
      "source": [
        "!ls -lh \"/content/drive/MyDrive/sqlite_databases\""
      ],
      "metadata": {
        "id": "M02fKknZFLYP"
      },
      "execution_count": null,
      "outputs": []
    },
    {
      "cell_type": "markdown",
      "source": [
        "🧐 Next up, check out the mini tutorial for more practice on saving databases to Google Drive!"
      ],
      "metadata": {
        "id": "6S2NfTJF22Sk"
      }
    }
  ],
  "metadata": {
    "kernelspec": {
      "display_name": "Python 3",
      "language": "python",
      "name": "python3"
    },
    "language_info": {
      "codemirror_mode": {
        "name": "ipython",
        "version": 3
      },
      "file_extension": ".py",
      "mimetype": "text/x-python",
      "name": "python",
      "nbconvert_exporter": "python",
      "pygments_lexer": "ipython3",
      "version": "3.8.8"
    },
    "colab": {
      "provenance": [],
      "toc_visible": true,
      "include_colab_link": true
    }
  },
  "nbformat": 4,
  "nbformat_minor": 0
}