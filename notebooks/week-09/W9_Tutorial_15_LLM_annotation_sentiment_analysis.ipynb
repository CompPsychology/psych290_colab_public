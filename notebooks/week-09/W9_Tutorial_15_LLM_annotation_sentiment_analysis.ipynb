{
  "nbformat": 4,
  "nbformat_minor": 0,
  "metadata": {
    "colab": {
      "provenance": [],
      "collapsed_sections": [
        "3dmRJoCleD4_",
        "h_bdneOWet61",
        "HaV7S_Kf4c1u",
        "TmIVRj545sKX"
      ],
      "include_colab_link": true
    },
    "kernelspec": {
      "name": "python3",
      "display_name": "Python 3"
    },
    "language_info": {
      "name": "python"
    }
  },
  "cells": [
    {
      "cell_type": "markdown",
      "metadata": {
        "id": "view-in-github",
        "colab_type": "text"
      },
      "source": [
        "<a href=\"https://colab.research.google.com/github/CompPsychology/psych290_colab_public/blob/main/notebooks/week-09/W9_Tutorial_15_LLM_annotation_sentiment_analysis.ipynb\" target=\"_parent\"><img src=\"https://colab.research.google.com/assets/colab-badge.svg\" alt=\"Open In Colab\"/></a>"
      ]
    },
    {
      "cell_type": "markdown",
      "source": [
        "# W9 Tutorial 15 -- LLM Sentiment Analysis (DB: dla_tutorial) (2025-05)\n",
        "\n",
        "(c) Samuel Campione, Johannes Eichstaedt & the World Well-Being Project, 2025.\n",
        "\n",
        "✋🏻✋🏻 NOTE - You need to create a copy of this notebook before you work through it. Click on \"Save a copy in Drive\" option in the File menu, and safe it to your Google Drive.\n",
        "\n",
        "✉️🐞 If you find a bug/something doesn't work, please slack us a screenshot, or email johannes.courses@gmail.com."
      ],
      "metadata": {
        "id": "1cF2lE_s3Vik"
      }
    },
    {
      "cell_type": "markdown",
      "source": [
        "This tutorial walks you through the basics of working with a large language model (LLM) to annotate text data.\n",
        "\n",
        "LLMs analyze language data and gain nuanced, context-aware understanding. By providing a clear set of instructions to the model, you can define a feature (like sentiment or some psychological construct) and the LLM can determine if the text contains it.\n",
        "\n",
        "🤩 We'll be usign OpenAI's API which allows access to the latest GPT models. You could also do this with Gemini, Claude, DeepSeek, etc.!"
      ],
      "metadata": {
        "id": "9xMe5DoIzagJ"
      }
    },
    {
      "cell_type": "markdown",
      "source": [
        "## 1) Setting up Colab with DLATK and SQLite\n"
      ],
      "metadata": {
        "id": "3dmRJoCleD4_"
      }
    },
    {
      "cell_type": "markdown",
      "source": [
        "### a) Install DLATK"
      ],
      "metadata": {
        "id": "zVf7Sw7zroJ5"
      }
    },
    {
      "cell_type": "code",
      "execution_count": null,
      "metadata": {
        "id": "3-JeYt4fVXSR"
      },
      "outputs": [],
      "source": [
        "# installing DLATK and necessary packages\n",
        "!git clone -b psych290 https://github.com/dlatk/dlatk.git\n",
        "!pip install -r dlatk/install/requirements.txt\n",
        "!pip install dlatk/\n",
        "!pip install wordcloud langid jupysql"
      ]
    },
    {
      "cell_type": "markdown",
      "source": [
        "### b) Mount Google Drive and copy databases"
      ],
      "metadata": {
        "id": "ORz4GM0ArvYS"
      }
    },
    {
      "cell_type": "markdown",
      "source": [
        "💡 **Uploading your own data**: if you're working with new data (CSVs), see how to upload them [with DLATK in Tutorial 5B](https://github.com/CompPsychology/psych290_colab_public/blob/main/notebooks/week-03/W3_Tutorial_05B_mini_tutorial_saving_SQLite_in_GoogleDrive_(dla_tutorial).ipynb) or [with R in Tutorial 7](https://github.com/CompPsychology/psych290_colab_public/blob/main/notebooks/week-05/W5_Tutorial_07_R_dataImport_metaTablePlots_(csv).ipynb)!\n",
        "\n",
        "For now, `dla_tutorial` should be saved in your Google Drive already 😎"
      ],
      "metadata": {
        "id": "gExftU6iZmQb"
      }
    },
    {
      "cell_type": "code",
      "source": [
        "database = \"dla_tutorial\""
      ],
      "metadata": {
        "id": "hsoYPwaGdDKI"
      },
      "execution_count": null,
      "outputs": []
    },
    {
      "cell_type": "code",
      "source": [
        "# Mount Google Drive & copy to Colab\n",
        "\n",
        "# connects & mounts your Google Drive to this colab space\n",
        "from google.colab import drive\n",
        "drive.mount('/content/drive', force_remount=True)\n",
        "\n",
        "# this copies dlatk_lexica.db from your Google Drive to Colab\n",
        "!cp -f \"/content/drive/MyDrive/sqlite_databases/dlatk_lexica.db\" \"sqlite_data\"\n",
        "\n",
        "# this copies {database}.db from your Google Drive to Colab\n",
        "!cp -f \"/content/drive/MyDrive/sqlite_databases/{database}.db\" \"sqlite_data\""
      ],
      "metadata": {
        "id": "I7XWXktOrzWP"
      },
      "execution_count": null,
      "outputs": []
    },
    {
      "cell_type": "code",
      "source": [
        "### ALTERNATIVE: this creates the database from scratch\n",
        "\n",
        "database = \"dla_tutorial\"\n",
        "!git clone https://github.com/CompPsychology/psych290_data.git\n",
        "\n",
        "# load the required package -- similar to library() function in R\n",
        "import os\n",
        "from dlatk.tools.importmethods import csvToSQLite\n",
        "\n",
        "# complete path to the database in this colab\n",
        "database_path = os.path.join(\"sqlite_data\", database)\n",
        "\n",
        "msgs = \"psych290_data/dla_tutorial/msgs.csv\"\n",
        "csvToSQLite(msgs, database_path, \"msgs\")\n",
        "\n",
        "outcomes = \"psych290_data/dla_tutorial/blog_outcomes.csv\"\n",
        "csvToSQLite(outcomes, database_path, \"outcomes\")"
      ],
      "metadata": {
        "id": "xXPplYnkBPqD"
      },
      "execution_count": null,
      "outputs": []
    },
    {
      "cell_type": "markdown",
      "source": [
        "### c) Setup database connection"
      ],
      "metadata": {
        "id": "oCj9VppSr5Nz"
      }
    },
    {
      "cell_type": "code",
      "source": [
        "# loads the %%sql extension\n",
        "%load_ext sql\n",
        "\n",
        "# connects the extension to the database - mounts both databases as engines\n",
        "from sqlalchemy import create_engine\n",
        "tutorial_db_engine = create_engine(f\"sqlite:///sqlite_data/{database}.db?charset=utf8mb4\")\n",
        "dlatk_lexica_engine = create_engine(f\"sqlite:///sqlite_data/dlatk_lexica.db?charset=utf8mb4\")\n",
        "\n",
        "# attaches the dlatk_lexica.db so tutorial_db_engine can query both databases\n",
        "from IPython import get_ipython\n",
        "from sqlalchemy import event\n",
        "\n",
        "# auto‑attach the lexica db whenever tutorial_db_engine connects\n",
        "@event.listens_for(tutorial_db_engine, \"connect\")\n",
        "def _attach_lexica(dbapi_conn, connection_record):\n",
        "    dbapi_conn.execute(\"ATTACH DATABASE 'sqlite_data/dlatk_lexica.db' AS dlatk_lexica;\")\n",
        "\n",
        "%sql tutorial_db_engine\n",
        "\n",
        "#set the output limit to 50\n",
        "%config SqlMagic.displaylimit = 50"
      ],
      "metadata": {
        "id": "8q73fy-7r50h",
        "outputId": "9708e905-157c-4367-dcc3-6316628b95ce",
        "colab": {
          "base_uri": "https://localhost:8080/"
        }
      },
      "execution_count": null,
      "outputs": [
        {
          "output_type": "stream",
          "name": "stdout",
          "text": [
            "The sql extension is already loaded. To reload it, use:\n",
            "  %reload_ext sql\n"
          ]
        }
      ]
    },
    {
      "cell_type": "markdown",
      "source": [
        "### d) If you have a **\"database lock\"** problem"
      ],
      "metadata": {
        "id": "zEaWoSEh7gi5"
      }
    },
    {
      "cell_type": "markdown",
      "source": [
        "If you face a \"database locked\" issue:\n",
        "  1. **restart the session** (Runtime ==> Restart Session)\n",
        "  2. run this cell to get set back up!"
      ],
      "metadata": {
        "id": "mhYoe9Tu2x8j"
      }
    },
    {
      "cell_type": "code",
      "source": [
        "database = \"dla_tutorial\" # or whichever database you are working with!! (e.g., 'svitlana', 'dla_tutorial', etc)\n",
        "\n",
        "%reload_ext sql\n",
        "\n",
        "from sqlalchemy import create_engine\n",
        "tutorial_db_engine = create_engine(f\"sqlite:///sqlite_data/{database}.db?charset=utf8mb4\")\n",
        "dlatk_lexica_engine = create_engine(f\"sqlite:///sqlite_data/dlatk_lexica.db?charset=utf8mb4\")\n",
        "\n",
        "# set the output limit to 50\n",
        "%config SqlMagic.displaylimit = 50\n",
        "\n",
        "from IPython import get_ipython\n",
        "from sqlalchemy import event\n",
        "\n",
        "# auto‑attach the lexica db whenever tutorial_db_engine connects\n",
        "@event.listens_for(tutorial_db_engine, \"connect\")\n",
        "def _attach_lexica(dbapi_conn, connection_record):\n",
        "    dbapi_conn.execute(\"ATTACH DATABASE 'sqlite_data/dlatk_lexica.db' AS dlatk_lexica;\")\n",
        "\n",
        "%sql tutorial_db_engine"
      ],
      "metadata": {
        "id": "fvWfMDXB7gEr"
      },
      "execution_count": null,
      "outputs": []
    },
    {
      "cell_type": "markdown",
      "source": [
        "## 2) Set up OpenAI connection\n",
        "\n",
        "💡 To annotate our data, we'll use the OpenAI's API (an API is basically how computers talk to each other). These APIs require us to make use of an API \"secret key\" to connect. You can obtain this key from your user profile once you sign-up for an OpenAI platform account here - https://platform.openai.com.\n",
        "\n",
        "☝🏻 If you are paying for ChatGPT, you still have to set up a new platform key with a credit card -- these things are different!\n",
        "\n",
        "🚨 **FYI**: Copy the secret key, store it securely (you won’t be able to see it again!), and do not share it online."
      ],
      "metadata": {
        "id": "dlCBom7Y4KVg"
      }
    },
    {
      "cell_type": "markdown",
      "source": [
        "Let's set up the connection to OpenAI so we can ask it to generate text based on what we send it. Don't forget to set **`OPEN_API_KEY=''`** to your OpenAI secret key."
      ],
      "metadata": {
        "id": "nsj0-2qJhPHx"
      }
    },
    {
      "cell_type": "code",
      "source": [
        "from openai import OpenAI\n",
        "\n",
        "# Assign your OpenAI API key here!\n",
        "OPENAI_API_KEY = \"\"\n",
        "\n",
        "# Set up connection to OpenAI\n",
        "client = OpenAI(api_key=OPENAI_API_KEY)"
      ],
      "metadata": {
        "id": "_ud_v4eO4B1U"
      },
      "execution_count": null,
      "outputs": []
    },
    {
      "cell_type": "markdown",
      "source": [
        "## 3) Annotate using GPT"
      ],
      "metadata": {
        "id": "TLLYUUMzzJyI"
      }
    },
    {
      "cell_type": "markdown",
      "source": [
        "First things first, we want to test this on a subset of the `msgs` table from `dla_tutorial`. We'll get a random sample of 100 messages from there."
      ],
      "metadata": {
        "id": "2al1SlPS18DC"
      }
    },
    {
      "cell_type": "code",
      "source": [
        "%%sql\n",
        "\n",
        "DROP TABLE IF EXISTS msgs_anno;\n",
        "\n",
        "CREATE TABLE msgs_anno AS SELECT * FROM msgs ORDER BY RANDOM() LIMIT 100;"
      ],
      "metadata": {
        "colab": {
          "base_uri": "https://localhost:8080/",
          "height": 34
        },
        "id": "5BkQGvtLHmeo",
        "outputId": "cc503e29-68ff-4db7-ca59-fc4ad1805c39"
      },
      "execution_count": null,
      "outputs": [
        {
          "output_type": "display_data",
          "data": {
            "text/plain": [
              "Running query in 'sqlite:///sqlite_data/dla_tutorial.db?charset=utf8mb4'"
            ],
            "text/html": [
              "<span style=\"None\">Running query in &#x27;sqlite:///sqlite_data/dla_tutorial.db?charset=utf8mb4&#x27;</span>"
            ]
          },
          "metadata": {}
        },
        {
          "output_type": "execute_result",
          "data": {
            "text/plain": [
              "++\n",
              "||\n",
              "++\n",
              "++"
            ],
            "text/html": [
              "<table>\n",
              "    <thead>\n",
              "        <tr>\n",
              "        </tr>\n",
              "    </thead>\n",
              "    <tbody>\n",
              "    </tbody>\n",
              "</table>"
            ]
          },
          "metadata": {},
          "execution_count": 155
        }
      ]
    },
    {
      "cell_type": "markdown",
      "source": [
        "### a) Define a system prompt"
      ],
      "metadata": {
        "id": "tFL4o_988o_M"
      }
    },
    {
      "cell_type": "markdown",
      "source": [
        "We're going to use GPT as a sentiment annotator. For that, we need to provide clear instructions in the form of a *system prompt*. This tells the model exactly what to do when we send it a message.\n",
        "\n",
        "🤓 **Note**: There are several methods for LLM prompting: Zero-shot, Few-shot, Chain-of-thought, etc.. We'll use few-shot learning (giving examples in the prompt of input text and output of how it should be annotated/classified). See more resources on prompt engineering here [OpenAI Prompt Engineering](https://platform.openai.com/docs/guides/text?api-mode=chat)"
      ],
      "metadata": {
        "id": "bjG0Ee0k4qtN"
      }
    },
    {
      "cell_type": "markdown",
      "source": [
        "**Option 1: sentiment as continuous score**"
      ],
      "metadata": {
        "id": "yqYVtrGmEHH1"
      }
    },
    {
      "cell_type": "code",
      "source": [
        "# return values from -1 to 1\n",
        "system_prompt = \"\"\"\n",
        "You are a sentiment scoring model.\n",
        "\n",
        "Instructions:\n",
        "- Read the input message.\n",
        "- Rate its sentiment on a scale from -1 to 1:\n",
        "  - -1 means extremely negative\n",
        "  - 0 means neutral\n",
        "  - 1 means extremely positive\n",
        "- Use decimal values when appropriate to reflect nuance.\n",
        "\n",
        "Formatting Rules:\n",
        "- Respond with a single numeric value only (e.g., -0.8, 0.0, 0.7).\n",
        "- Do not include any text, punctuation, units, or explanation.\n",
        "\n",
        "Examples:\n",
        "Message: Been feeling a bit depressed and empty\n",
        "Response: -0.9\n",
        "\n",
        "Message: Played SimCity 4 today\n",
        "Response: 0.0\n",
        "\n",
        "Message: life's awesome when yur having fun!!!\n",
        "Response: 0.95\n",
        "\n",
        "Only respond with a single number between -1 and 1\n",
        "\"\"\"\n"
      ],
      "metadata": {
        "id": "0kO7RbMz4mbt"
      },
      "execution_count": null,
      "outputs": []
    },
    {
      "cell_type": "markdown",
      "source": [
        "**Option 2: sentiment class** (uncomment if you want to use)"
      ],
      "metadata": {
        "id": "XtG1jevjED_x"
      }
    },
    {
      "cell_type": "code",
      "source": [
        "# # return 'positive' or 'negative'\n",
        "# system_prompt = \"\"\"\n",
        "# You are a sentiment classification model.\n",
        "\n",
        "# Instructions:\n",
        "# - Read the input message.\n",
        "# - Return its sentiment as either 'positive' or 'negative'.\n",
        "\n",
        "# Formatting Rules:\n",
        "# - Output must be exactly one word: either 'positive' or 'negative'.\n",
        "# - Do not include punctuation, explanation, or any additional text.\n",
        "# - Do not return 'neutral' or any other label.\n",
        "\n",
        "# Examples:\n",
        "# Message: I had a horrible day\n",
        "# Response: negative\n",
        "\n",
        "# Message: I love games!\n",
        "# Response: positive\n",
        "\n",
        "# Only respond with: positive OR negative\n",
        "# \"\"\""
      ],
      "metadata": {
        "id": "uJpN_TWPwO9b"
      },
      "execution_count": null,
      "outputs": []
    },
    {
      "cell_type": "markdown",
      "source": [
        "### b) Run the GPT annotation"
      ],
      "metadata": {
        "id": "Tyru9RMq8u1N"
      }
    },
    {
      "cell_type": "markdown",
      "source": [
        "We need to define a Python function to actually send each message to the LLM and receive its response."
      ],
      "metadata": {
        "id": "mRxVmd_J6er_"
      }
    },
    {
      "cell_type": "code",
      "source": [
        "# Function to send the GPT query and get back the response\n",
        "\n",
        "def get_gpt_response(msg, system_prompt):\n",
        "    message = [\n",
        "        {\"role\": \"system\", \"content\": system_prompt},\n",
        "        {\"role\": \"user\", \"content\": msg}]\n",
        "\n",
        "\n",
        "    response = client.chat.completions.create(\n",
        "        model=\"gpt-3.5-turbo\", # this determines which GPT model you want to use!\n",
        "        messages=message)\n",
        "\n",
        "    response = response.choices[0].message.content\n",
        "    return response"
      ],
      "metadata": {
        "id": "SdLGFbf248j5"
      },
      "execution_count": null,
      "outputs": []
    },
    {
      "cell_type": "markdown",
      "source": [
        "Now, let's run the annotation on the `msgs_anno` SQL table\n",
        "\n",
        "We save the annotated dataframe output to a new SQL table called `msgs_anno_gpt`.\n",
        "\n",
        "⏰ On our end, this seemed somewhat slow. Keys also come at different tiers -- your lab may have a higher (faster) key than you do if you just made it..."
      ],
      "metadata": {
        "id": "DKZ3jwq6ZFmT"
      }
    },
    {
      "cell_type": "code",
      "source": [
        "# A Python data manipulation package\n",
        "import pandas as pd\n",
        "\n",
        "# Get the table into Python from SQL\n",
        "df = pd.read_sql(\"SELECT * FROM msgs_anno;\", con=tutorial_db_engine)\n",
        "\n",
        "# Get a sentiment label by applying the get_gpt_response function to each message\n",
        "sentiments = []\n",
        "for i, msg in enumerate(df[\"message\"]):\n",
        "    sentiment = get_gpt_response(msg, system_prompt) # actual LLM annotation happens here!\n",
        "    sentiments.append(sentiment)\n",
        "    if (i + 1) % 10 == 0:\n",
        "        print(f\"{i + 1} messages processed\")\n",
        "\n",
        "df[\"gpt_sentiment\"] = sentiments\n",
        "df[\"gpt_sentiment\"] = df[\"gpt_sentiment\"].astype('float')\n",
        "\n",
        "# Save newly annotated data to SQLite table called msgs_anno_gpt\n",
        "df.to_sql('msgs_anno_gpt', con=tutorial_db_engine)"
      ],
      "metadata": {
        "id": "8eabUDP45145"
      },
      "execution_count": null,
      "outputs": []
    },
    {
      "cell_type": "code",
      "source": [
        "# Look at the top few messages and gpt annotations\n",
        "df.head()"
      ],
      "metadata": {
        "colab": {
          "base_uri": "https://localhost:8080/",
          "height": 206
        },
        "id": "FPLbgUVx-Hsc",
        "outputId": "e5b8fd63-c981-4848-a25e-3e0868b2dcb0"
      },
      "execution_count": null,
      "outputs": [
        {
          "output_type": "execute_result",
          "data": {
            "text/plain": [
              "   message_id  user_id              date         created_time  \\\n",
              "0       16749  4198810    11,August,2004  2004-08-11 00:00:00   \n",
              "1       10824   832265    02,August,2004  2004-08-02 00:00:00   \n",
              "2       20923  3665752    04,August,2004  2004-08-04 00:00:00   \n",
              "3       29800  1011311  29,December,2002  2002-12-29 00:00:00   \n",
              "4       13561  3343256      22,June,2004  2004-06-22 00:00:00   \n",
              "\n",
              "                                             message  gpt_sentiment  \n",
              "0     Ever wonder why people aspire to owning ger...          -0.80  \n",
              "1     The army  urlLink dismissed   nine of its l...          -0.80  \n",
              "2     The internet should not tolerate this kind ...          -0.80  \n",
              "3      So, I just got back from Stratton.  It was...          -0.85  \n",
              "4     Generally when we think of the environment ...           0.80  "
            ],
            "text/html": [
              "\n",
              "  <div id=\"df-5467dabf-6313-47e3-94a0-bc5087a8bd4e\" class=\"colab-df-container\">\n",
              "    <div>\n",
              "<style scoped>\n",
              "    .dataframe tbody tr th:only-of-type {\n",
              "        vertical-align: middle;\n",
              "    }\n",
              "\n",
              "    .dataframe tbody tr th {\n",
              "        vertical-align: top;\n",
              "    }\n",
              "\n",
              "    .dataframe thead th {\n",
              "        text-align: right;\n",
              "    }\n",
              "</style>\n",
              "<table border=\"1\" class=\"dataframe\">\n",
              "  <thead>\n",
              "    <tr style=\"text-align: right;\">\n",
              "      <th></th>\n",
              "      <th>message_id</th>\n",
              "      <th>user_id</th>\n",
              "      <th>date</th>\n",
              "      <th>created_time</th>\n",
              "      <th>message</th>\n",
              "      <th>gpt_sentiment</th>\n",
              "    </tr>\n",
              "  </thead>\n",
              "  <tbody>\n",
              "    <tr>\n",
              "      <th>0</th>\n",
              "      <td>16749</td>\n",
              "      <td>4198810</td>\n",
              "      <td>11,August,2004</td>\n",
              "      <td>2004-08-11 00:00:00</td>\n",
              "      <td>Ever wonder why people aspire to owning ger...</td>\n",
              "      <td>-0.80</td>\n",
              "    </tr>\n",
              "    <tr>\n",
              "      <th>1</th>\n",
              "      <td>10824</td>\n",
              "      <td>832265</td>\n",
              "      <td>02,August,2004</td>\n",
              "      <td>2004-08-02 00:00:00</td>\n",
              "      <td>The army  urlLink dismissed   nine of its l...</td>\n",
              "      <td>-0.80</td>\n",
              "    </tr>\n",
              "    <tr>\n",
              "      <th>2</th>\n",
              "      <td>20923</td>\n",
              "      <td>3665752</td>\n",
              "      <td>04,August,2004</td>\n",
              "      <td>2004-08-04 00:00:00</td>\n",
              "      <td>The internet should not tolerate this kind ...</td>\n",
              "      <td>-0.80</td>\n",
              "    </tr>\n",
              "    <tr>\n",
              "      <th>3</th>\n",
              "      <td>29800</td>\n",
              "      <td>1011311</td>\n",
              "      <td>29,December,2002</td>\n",
              "      <td>2002-12-29 00:00:00</td>\n",
              "      <td>So, I just got back from Stratton.  It was...</td>\n",
              "      <td>-0.85</td>\n",
              "    </tr>\n",
              "    <tr>\n",
              "      <th>4</th>\n",
              "      <td>13561</td>\n",
              "      <td>3343256</td>\n",
              "      <td>22,June,2004</td>\n",
              "      <td>2004-06-22 00:00:00</td>\n",
              "      <td>Generally when we think of the environment ...</td>\n",
              "      <td>0.80</td>\n",
              "    </tr>\n",
              "  </tbody>\n",
              "</table>\n",
              "</div>\n",
              "    <div class=\"colab-df-buttons\">\n",
              "\n",
              "  <div class=\"colab-df-container\">\n",
              "    <button class=\"colab-df-convert\" onclick=\"convertToInteractive('df-5467dabf-6313-47e3-94a0-bc5087a8bd4e')\"\n",
              "            title=\"Convert this dataframe to an interactive table.\"\n",
              "            style=\"display:none;\">\n",
              "\n",
              "  <svg xmlns=\"http://www.w3.org/2000/svg\" height=\"24px\" viewBox=\"0 -960 960 960\">\n",
              "    <path d=\"M120-120v-720h720v720H120Zm60-500h600v-160H180v160Zm220 220h160v-160H400v160Zm0 220h160v-160H400v160ZM180-400h160v-160H180v160Zm440 0h160v-160H620v160ZM180-180h160v-160H180v160Zm440 0h160v-160H620v160Z\"/>\n",
              "  </svg>\n",
              "    </button>\n",
              "\n",
              "  <style>\n",
              "    .colab-df-container {\n",
              "      display:flex;\n",
              "      gap: 12px;\n",
              "    }\n",
              "\n",
              "    .colab-df-convert {\n",
              "      background-color: #E8F0FE;\n",
              "      border: none;\n",
              "      border-radius: 50%;\n",
              "      cursor: pointer;\n",
              "      display: none;\n",
              "      fill: #1967D2;\n",
              "      height: 32px;\n",
              "      padding: 0 0 0 0;\n",
              "      width: 32px;\n",
              "    }\n",
              "\n",
              "    .colab-df-convert:hover {\n",
              "      background-color: #E2EBFA;\n",
              "      box-shadow: 0px 1px 2px rgba(60, 64, 67, 0.3), 0px 1px 3px 1px rgba(60, 64, 67, 0.15);\n",
              "      fill: #174EA6;\n",
              "    }\n",
              "\n",
              "    .colab-df-buttons div {\n",
              "      margin-bottom: 4px;\n",
              "    }\n",
              "\n",
              "    [theme=dark] .colab-df-convert {\n",
              "      background-color: #3B4455;\n",
              "      fill: #D2E3FC;\n",
              "    }\n",
              "\n",
              "    [theme=dark] .colab-df-convert:hover {\n",
              "      background-color: #434B5C;\n",
              "      box-shadow: 0px 1px 3px 1px rgba(0, 0, 0, 0.15);\n",
              "      filter: drop-shadow(0px 1px 2px rgba(0, 0, 0, 0.3));\n",
              "      fill: #FFFFFF;\n",
              "    }\n",
              "  </style>\n",
              "\n",
              "    <script>\n",
              "      const buttonEl =\n",
              "        document.querySelector('#df-5467dabf-6313-47e3-94a0-bc5087a8bd4e button.colab-df-convert');\n",
              "      buttonEl.style.display =\n",
              "        google.colab.kernel.accessAllowed ? 'block' : 'none';\n",
              "\n",
              "      async function convertToInteractive(key) {\n",
              "        const element = document.querySelector('#df-5467dabf-6313-47e3-94a0-bc5087a8bd4e');\n",
              "        const dataTable =\n",
              "          await google.colab.kernel.invokeFunction('convertToInteractive',\n",
              "                                                    [key], {});\n",
              "        if (!dataTable) return;\n",
              "\n",
              "        const docLinkHtml = 'Like what you see? Visit the ' +\n",
              "          '<a target=\"_blank\" href=https://colab.research.google.com/notebooks/data_table.ipynb>data table notebook</a>'\n",
              "          + ' to learn more about interactive tables.';\n",
              "        element.innerHTML = '';\n",
              "        dataTable['output_type'] = 'display_data';\n",
              "        await google.colab.output.renderOutput(dataTable, element);\n",
              "        const docLink = document.createElement('div');\n",
              "        docLink.innerHTML = docLinkHtml;\n",
              "        element.appendChild(docLink);\n",
              "      }\n",
              "    </script>\n",
              "  </div>\n",
              "\n",
              "\n",
              "    <div id=\"df-76aeab02-01ca-4477-9010-9b05ab7ef4a7\">\n",
              "      <button class=\"colab-df-quickchart\" onclick=\"quickchart('df-76aeab02-01ca-4477-9010-9b05ab7ef4a7')\"\n",
              "                title=\"Suggest charts\"\n",
              "                style=\"display:none;\">\n",
              "\n",
              "<svg xmlns=\"http://www.w3.org/2000/svg\" height=\"24px\"viewBox=\"0 0 24 24\"\n",
              "     width=\"24px\">\n",
              "    <g>\n",
              "        <path d=\"M19 3H5c-1.1 0-2 .9-2 2v14c0 1.1.9 2 2 2h14c1.1 0 2-.9 2-2V5c0-1.1-.9-2-2-2zM9 17H7v-7h2v7zm4 0h-2V7h2v10zm4 0h-2v-4h2v4z\"/>\n",
              "    </g>\n",
              "</svg>\n",
              "      </button>\n",
              "\n",
              "<style>\n",
              "  .colab-df-quickchart {\n",
              "      --bg-color: #E8F0FE;\n",
              "      --fill-color: #1967D2;\n",
              "      --hover-bg-color: #E2EBFA;\n",
              "      --hover-fill-color: #174EA6;\n",
              "      --disabled-fill-color: #AAA;\n",
              "      --disabled-bg-color: #DDD;\n",
              "  }\n",
              "\n",
              "  [theme=dark] .colab-df-quickchart {\n",
              "      --bg-color: #3B4455;\n",
              "      --fill-color: #D2E3FC;\n",
              "      --hover-bg-color: #434B5C;\n",
              "      --hover-fill-color: #FFFFFF;\n",
              "      --disabled-bg-color: #3B4455;\n",
              "      --disabled-fill-color: #666;\n",
              "  }\n",
              "\n",
              "  .colab-df-quickchart {\n",
              "    background-color: var(--bg-color);\n",
              "    border: none;\n",
              "    border-radius: 50%;\n",
              "    cursor: pointer;\n",
              "    display: none;\n",
              "    fill: var(--fill-color);\n",
              "    height: 32px;\n",
              "    padding: 0;\n",
              "    width: 32px;\n",
              "  }\n",
              "\n",
              "  .colab-df-quickchart:hover {\n",
              "    background-color: var(--hover-bg-color);\n",
              "    box-shadow: 0 1px 2px rgba(60, 64, 67, 0.3), 0 1px 3px 1px rgba(60, 64, 67, 0.15);\n",
              "    fill: var(--button-hover-fill-color);\n",
              "  }\n",
              "\n",
              "  .colab-df-quickchart-complete:disabled,\n",
              "  .colab-df-quickchart-complete:disabled:hover {\n",
              "    background-color: var(--disabled-bg-color);\n",
              "    fill: var(--disabled-fill-color);\n",
              "    box-shadow: none;\n",
              "  }\n",
              "\n",
              "  .colab-df-spinner {\n",
              "    border: 2px solid var(--fill-color);\n",
              "    border-color: transparent;\n",
              "    border-bottom-color: var(--fill-color);\n",
              "    animation:\n",
              "      spin 1s steps(1) infinite;\n",
              "  }\n",
              "\n",
              "  @keyframes spin {\n",
              "    0% {\n",
              "      border-color: transparent;\n",
              "      border-bottom-color: var(--fill-color);\n",
              "      border-left-color: var(--fill-color);\n",
              "    }\n",
              "    20% {\n",
              "      border-color: transparent;\n",
              "      border-left-color: var(--fill-color);\n",
              "      border-top-color: var(--fill-color);\n",
              "    }\n",
              "    30% {\n",
              "      border-color: transparent;\n",
              "      border-left-color: var(--fill-color);\n",
              "      border-top-color: var(--fill-color);\n",
              "      border-right-color: var(--fill-color);\n",
              "    }\n",
              "    40% {\n",
              "      border-color: transparent;\n",
              "      border-right-color: var(--fill-color);\n",
              "      border-top-color: var(--fill-color);\n",
              "    }\n",
              "    60% {\n",
              "      border-color: transparent;\n",
              "      border-right-color: var(--fill-color);\n",
              "    }\n",
              "    80% {\n",
              "      border-color: transparent;\n",
              "      border-right-color: var(--fill-color);\n",
              "      border-bottom-color: var(--fill-color);\n",
              "    }\n",
              "    90% {\n",
              "      border-color: transparent;\n",
              "      border-bottom-color: var(--fill-color);\n",
              "    }\n",
              "  }\n",
              "</style>\n",
              "\n",
              "      <script>\n",
              "        async function quickchart(key) {\n",
              "          const quickchartButtonEl =\n",
              "            document.querySelector('#' + key + ' button');\n",
              "          quickchartButtonEl.disabled = true;  // To prevent multiple clicks.\n",
              "          quickchartButtonEl.classList.add('colab-df-spinner');\n",
              "          try {\n",
              "            const charts = await google.colab.kernel.invokeFunction(\n",
              "                'suggestCharts', [key], {});\n",
              "          } catch (error) {\n",
              "            console.error('Error during call to suggestCharts:', error);\n",
              "          }\n",
              "          quickchartButtonEl.classList.remove('colab-df-spinner');\n",
              "          quickchartButtonEl.classList.add('colab-df-quickchart-complete');\n",
              "        }\n",
              "        (() => {\n",
              "          let quickchartButtonEl =\n",
              "            document.querySelector('#df-76aeab02-01ca-4477-9010-9b05ab7ef4a7 button');\n",
              "          quickchartButtonEl.style.display =\n",
              "            google.colab.kernel.accessAllowed ? 'block' : 'none';\n",
              "        })();\n",
              "      </script>\n",
              "    </div>\n",
              "\n",
              "    </div>\n",
              "  </div>\n"
            ],
            "application/vnd.google.colaboratory.intrinsic+json": {
              "type": "dataframe",
              "variable_name": "df",
              "summary": "{\n  \"name\": \"df\",\n  \"rows\": 100,\n  \"fields\": [\n    {\n      \"column\": \"message_id\",\n      \"properties\": {\n        \"dtype\": \"number\",\n        \"std\": 8429,\n        \"min\": 664,\n        \"max\": 31592,\n        \"num_unique_values\": 100,\n        \"samples\": [\n          7426,\n          1052,\n          2282\n        ],\n        \"semantic_type\": \"\",\n        \"description\": \"\"\n      }\n    },\n    {\n      \"column\": \"user_id\",\n      \"properties\": {\n        \"dtype\": \"number\",\n        \"std\": 1207474,\n        \"min\": 317581,\n        \"max\": 4198810,\n        \"num_unique_values\": 69,\n        \"samples\": [\n          3051898,\n          4198810,\n          3490316\n        ],\n        \"semantic_type\": \"\",\n        \"description\": \"\"\n      }\n    },\n    {\n      \"column\": \"date\",\n      \"properties\": {\n        \"dtype\": \"object\",\n        \"num_unique_values\": 78,\n        \"samples\": [\n          \"18,May,2003\",\n          \"11,August,2004\",\n          \"02,September,2003\"\n        ],\n        \"semantic_type\": \"\",\n        \"description\": \"\"\n      }\n    },\n    {\n      \"column\": \"created_time\",\n      \"properties\": {\n        \"dtype\": \"object\",\n        \"num_unique_values\": 78,\n        \"samples\": [\n          \"2003-05-18 00:00:00\",\n          \"2004-08-11 00:00:00\",\n          \"2003-09-02 00:00:00\"\n        ],\n        \"semantic_type\": \"\",\n        \"description\": \"\"\n      }\n    },\n    {\n      \"column\": \"message\",\n      \"properties\": {\n        \"dtype\": \"string\",\n        \"num_unique_values\": 100,\n        \"samples\": [\n          \"    At the kind request of one of my international readers (ok, my only international reader), I've decided to take up my blog again and write for the simple satisfaction of it while trying to convince some-body/company/entity to pay me for my efforts.    So, a lot has happened since I last wrote--since, for example, I forewent the hare-brained idea of making a living in Los Angeles.  Den of despair!  I shouldn't say that.  I know plenty of people who are, in fact, very happy living in the city of would-be angels; I just didn't happen to count myself among them.  As was customary in recent years, I made sure to be in San Jose for the annual jazz festival.  My return to L.A. was to happen the following Tuesday, but when that afternoon arrived I found myself physically incapable (or more likely, simply unwilling) to board the lighting-fast, Greyhound bus that was to take me there.  San Jose is indeed the place for me.  I pitched a tent in the living room of my dear friends, Nicole and Raul (and Maya too) and set out to find gainful employment, which I found (well, employment anyway) without too much delay.  Two months later I moved into a groovy (umm) flat, we'll call it, with my best gal Kelsi, and that brings me about to present.  I'm still looking for the job I went into student loan debt for...the one that would make all the late-night term papers worth the trouble (and that is, of course, the most pessimistic viewpoint...the education WAS worth the effort in its own right...but it will be infinitely MORE worth it when I have the means to begin  paying off  those student loans, you dig?)  In the meantime I've been back at an old haunt--Barnes and Noble--which is among the most pleasant environments one might find when it comes to working retail.  It's especially nice to be working in a Barnes and Noble in one of the most liberal areas of the country, where requests for Al Franken's  Lies and the Lying Liars Who Tell Them  outnumber those for Bill O'Reilly's  Who's Looking Out for You?  by about 25-0 and the Evil Anne Coulter's book sits in heaping mounds, growing dusty,  under  a display table.  And that's the short of it, for now.  I'm going to start writing more consistently, sharing some of my favorite public transportation tales of horror, along with other daily observations and embarrassing moments and good news as well.  Hope all is well--whoever you are, reading this, and wherever you might be.   \",\n          \"   Ok so I got the laptop up and running...it purrs like a little itty bitty kitten.  I am now at the mall and now I am updating...ain't technology grand?  I will probably post throughout the day on and off. I am also going to try and get some pictures of twinkies while I am here.  \",\n          \"   It's not so much an issue of who started what, but that  urlLink it's already started .  I've been flipping through alternative news sources over the past couple days and have been appalled at the coverage.  Watch them bitch about the coverage, instead of actually providing ideal coverage. This is what you have to look forward to.    Get ready for eight months of democracy eating itself.  urlLink Full Post and Comments    \"\n        ],\n        \"semantic_type\": \"\",\n        \"description\": \"\"\n      }\n    },\n    {\n      \"column\": \"gpt_sentiment\",\n      \"properties\": {\n        \"dtype\": \"number\",\n        \"std\": 0.600752053931595,\n        \"min\": -0.95,\n        \"max\": 0.95,\n        \"num_unique_values\": 21,\n        \"samples\": [\n          -0.8,\n          -0.3,\n          -0.9\n        ],\n        \"semantic_type\": \"\",\n        \"description\": \"\"\n      }\n    }\n  ]\n}"
            }
          },
          "metadata": {},
          "execution_count": 138
        }
      ]
    },
    {
      "cell_type": "markdown",
      "source": [
        "Now you have LLM annotated messages! 🥳"
      ],
      "metadata": {
        "id": "NOZWVlT6VOL_"
      }
    },
    {
      "cell_type": "markdown",
      "source": [
        "### c) Descriptives on the LLM annotations"
      ],
      "metadata": {
        "id": "CIVVFmUNxBGe"
      }
    },
    {
      "cell_type": "code",
      "source": [
        "# Option 1: continuous sentiment\n",
        "df[\"gpt_sentiment\"].astype('float').describe()\n",
        "\n",
        "# Option 2: sentiment classes\n",
        "# df[\"gpt_sentiment\"].value_counts()"
      ],
      "metadata": {
        "colab": {
          "base_uri": "https://localhost:8080/",
          "height": 335
        },
        "id": "ljbc3iTfQxHl",
        "outputId": "e8b448c6-7ae0-473e-f206-173a26ea84ba"
      },
      "execution_count": null,
      "outputs": [
        {
          "output_type": "execute_result",
          "data": {
            "text/plain": [
              "count    100.000000\n",
              "mean      -0.084000\n",
              "std        0.600752\n",
              "min       -0.950000\n",
              "25%       -0.700000\n",
              "50%        0.050000\n",
              "75%        0.400000\n",
              "max        0.950000\n",
              "Name: gpt_sentiment, dtype: float64"
            ],
            "text/html": [
              "<div>\n",
              "<style scoped>\n",
              "    .dataframe tbody tr th:only-of-type {\n",
              "        vertical-align: middle;\n",
              "    }\n",
              "\n",
              "    .dataframe tbody tr th {\n",
              "        vertical-align: top;\n",
              "    }\n",
              "\n",
              "    .dataframe thead th {\n",
              "        text-align: right;\n",
              "    }\n",
              "</style>\n",
              "<table border=\"1\" class=\"dataframe\">\n",
              "  <thead>\n",
              "    <tr style=\"text-align: right;\">\n",
              "      <th></th>\n",
              "      <th>gpt_sentiment</th>\n",
              "    </tr>\n",
              "  </thead>\n",
              "  <tbody>\n",
              "    <tr>\n",
              "      <th>count</th>\n",
              "      <td>100.000000</td>\n",
              "    </tr>\n",
              "    <tr>\n",
              "      <th>mean</th>\n",
              "      <td>-0.084000</td>\n",
              "    </tr>\n",
              "    <tr>\n",
              "      <th>std</th>\n",
              "      <td>0.600752</td>\n",
              "    </tr>\n",
              "    <tr>\n",
              "      <th>min</th>\n",
              "      <td>-0.950000</td>\n",
              "    </tr>\n",
              "    <tr>\n",
              "      <th>25%</th>\n",
              "      <td>-0.700000</td>\n",
              "    </tr>\n",
              "    <tr>\n",
              "      <th>50%</th>\n",
              "      <td>0.050000</td>\n",
              "    </tr>\n",
              "    <tr>\n",
              "      <th>75%</th>\n",
              "      <td>0.400000</td>\n",
              "    </tr>\n",
              "    <tr>\n",
              "      <th>max</th>\n",
              "      <td>0.950000</td>\n",
              "    </tr>\n",
              "  </tbody>\n",
              "</table>\n",
              "</div><br><label><b>dtype:</b> float64</label>"
            ]
          },
          "metadata": {},
          "execution_count": 124
        }
      ]
    },
    {
      "cell_type": "markdown",
      "source": [
        "Let's quickly look at the distribution of sentiments with Python:"
      ],
      "metadata": {
        "id": "LxADbIRBH0Q9"
      }
    },
    {
      "cell_type": "code",
      "source": [
        "df[\"gpt_sentiment\"].astype(\"float\").hist()"
      ],
      "metadata": {
        "id": "dSw-CNL_FYau",
        "outputId": "0d6760e0-8d9c-42d2-e345-ae042d447a42",
        "colab": {
          "base_uri": "https://localhost:8080/",
          "height": 448
        }
      },
      "execution_count": null,
      "outputs": [
        {
          "output_type": "execute_result",
          "data": {
            "text/plain": [
              "<Axes: >"
            ]
          },
          "metadata": {},
          "execution_count": 125
        },
        {
          "output_type": "display_data",
          "data": {
            "text/plain": [
              "<Figure size 640x480 with 1 Axes>"
            ],
            "image/png": "[encoded data removed]"
          },
          "metadata": {}
        }
      ]
    },
    {
      "cell_type": "markdown",
      "source": [
        "## 4) Optional: Extract NRC sentiment and correlate -- for comparison"
      ],
      "metadata": {
        "id": "TmIVRj545sKX"
      }
    },
    {
      "cell_type": "markdown",
      "source": [
        "Let's compare how the LLM annotation does to NRC (which is a sentiment dictionary)."
      ],
      "metadata": {
        "id": "lAUp_P52xQcX"
      }
    },
    {
      "cell_type": "markdown",
      "source": [
        "### a) Extract NRC sentiment"
      ],
      "metadata": {
        "id": "hmYDfK95Mrr4"
      }
    },
    {
      "cell_type": "markdown",
      "source": [
        "First step, let's extract 1-grams."
      ],
      "metadata": {
        "id": "Y2arauAqx7bq"
      }
    },
    {
      "cell_type": "code",
      "source": [
        "database = \"dla_tutorial\"\n",
        "msgs_table = \"msgs_anno\"\n",
        "correl_field = \"message_id\""
      ],
      "metadata": {
        "id": "EVptUUdhzKUc"
      },
      "execution_count": null,
      "outputs": []
    },
    {
      "cell_type": "code",
      "source": [
        "!dlatkInterface.py \\\n",
        "    --corpdb {database} \\\n",
        "    --corptable {msgs_table} \\\n",
        "    --correl_field {correl_field} \\\n",
        "    --add_ngrams -n 1"
      ],
      "metadata": {
        "id": "EI6wZP4v_z_s"
      },
      "execution_count": null,
      "outputs": []
    },
    {
      "cell_type": "markdown",
      "source": [
        "Now, let's actually extract sentiment features using NRC (table `nrc` in the `dlatk_lexica` database)."
      ],
      "metadata": {
        "id": "vPE_Yg4byB1v"
      }
    },
    {
      "cell_type": "code",
      "source": [
        "database = \"dla_tutorial\"\n",
        "msgs_table = \"msgs_anno\"\n",
        "correl_field = \"message_id\""
      ],
      "metadata": {
        "id": "vWvPptsQx4rC"
      },
      "execution_count": null,
      "outputs": []
    },
    {
      "cell_type": "code",
      "source": [
        "!dlatkInterface.py \\\n",
        "    --corpdb {database} \\\n",
        "    --corptable {msgs_table} \\\n",
        "    --correl_field {correl_field} \\\n",
        "    --add_lex_table -l nrc \\\n",
        "    --weighted_lexicon"
      ],
      "metadata": {
        "id": "lE4XRFX7zNO5"
      },
      "execution_count": null,
      "outputs": []
    },
    {
      "cell_type": "markdown",
      "source": [
        "### b) Correlate NRC and GPT sentiment"
      ],
      "metadata": {
        "id": "IEX_IXDiCOJ5"
      }
    },
    {
      "cell_type": "markdown",
      "source": [
        "Since we have both sets of features for the same messages, let's see how correlated they are using Pearson's r."
      ],
      "metadata": {
        "id": "3Nmt0FsbyYGq"
      }
    },
    {
      "cell_type": "code",
      "source": [
        "# Get the newly extracted table into Python\n",
        "# like dbGetQuery() in R!\n",
        "df_nrc = pd.read_sql(\"SELECT * FROM 'feat$cat_nrc_w$msgs_anno$message_id$1gra' WHERE feat = 'SENT'\", con=tutorial_db_engine)"
      ],
      "metadata": {
        "id": "U_smLNG7CLtJ"
      },
      "execution_count": null,
      "outputs": []
    },
    {
      "cell_type": "markdown",
      "source": [
        "We need to join the dataframe with the `gpt_sentiment` and with nrc sentiment values."
      ],
      "metadata": {
        "id": "3p0DnEydTVaN"
      }
    },
    {
      "cell_type": "code",
      "source": [
        "# Now create a merged dataframe to compare the two\n",
        "df_merged = df_nrc.merge(df, left_on=\"group_id\", right_on=\"message_id\")\n",
        "\n",
        "# Rename NRC group_norm to nrc_sentiment for understandability\n",
        "df_merged = df_merged.rename(columns={'group_norm':'nrc_sentiment'})"
      ],
      "metadata": {
        "id": "w-d25ZMdC8t5"
      },
      "execution_count": null,
      "outputs": []
    },
    {
      "cell_type": "markdown",
      "source": [
        "👀 Finally, look at the correlation."
      ],
      "metadata": {
        "id": "3kTbLipKT5We"
      }
    },
    {
      "cell_type": "code",
      "source": [
        "# Now let's correlate them\n",
        "correlation = df_merged['gpt_sentiment'].corr(df_merged['nrc_sentiment'])\n",
        "print(\"Pearson correlation:\", correlation)"
      ],
      "metadata": {
        "id": "qVAPcb7AT44k",
        "outputId": "9a988d07-f94d-4e02-9113-35402e6da342",
        "colab": {
          "base_uri": "https://localhost:8080/"
        }
      },
      "execution_count": null,
      "outputs": [
        {
          "output_type": "stream",
          "name": "stdout",
          "text": [
            "Pearson correlation: 0.3815643470604168\n"
          ]
        }
      ]
    },
    {
      "cell_type": "markdown",
      "source": [
        "Let's check the distribution of the NRC sentiment values."
      ],
      "metadata": {
        "id": "KBdr23tsSCMr"
      }
    },
    {
      "cell_type": "code",
      "source": [
        "df_merged[\"nrc_sentiment\"].astype(\"float\").hist()"
      ],
      "metadata": {
        "id": "4iakdXv0KGKc",
        "outputId": "c5191f6c-5797-498f-b25f-06950ce32dbb",
        "colab": {
          "base_uri": "https://localhost:8080/",
          "height": 448
        }
      },
      "execution_count": null,
      "outputs": [
        {
          "output_type": "execute_result",
          "data": {
            "text/plain": [
              "<Axes: >"
            ]
          },
          "metadata": {},
          "execution_count": 132
        },
        {
          "output_type": "display_data",
          "data": {
            "text/plain": [
              "<Figure size 640x480 with 1 Axes>"
            ],
            "image/png": "[encoded data removed]"
          },
          "metadata": {}
        }
      ]
    },
    {
      "cell_type": "markdown",
      "source": [
        "😯 A very different distribution than GPT!"
      ],
      "metadata": {
        "id": "mr7ADjFbKUFb"
      }
    },
    {
      "cell_type": "markdown",
      "source": [
        "Quick scatter plot to confirm..."
      ],
      "metadata": {
        "id": "5PsH3sOkItoB"
      }
    },
    {
      "cell_type": "code",
      "source": [
        "df_merged.plot(kind=\"scatter\", x='gpt_sentiment', y='nrc_sentiment')"
      ],
      "metadata": {
        "id": "U8hPQbQPQdUS",
        "outputId": "87711233-1da4-4790-902f-c32319e4fbc0",
        "colab": {
          "base_uri": "https://localhost:8080/",
          "height": 468
        }
      },
      "execution_count": null,
      "outputs": [
        {
          "output_type": "execute_result",
          "data": {
            "text/plain": [
              "<Axes: xlabel='gpt_sentiment', ylabel='nrc_sentiment'>"
            ]
          },
          "metadata": {},
          "execution_count": 133
        },
        {
          "output_type": "display_data",
          "data": {
            "text/plain": [
              "<Figure size 640x480 with 1 Axes>"
            ],
            "image/png": "[encoded data removed]"
          },
          "metadata": {}
        }
      ]
    },
    {
      "cell_type": "markdown",
      "source": [
        "so very different distributions lead to a low correlation."
      ],
      "metadata": {
        "id": "nqnHvAPEGKpp"
      }
    },
    {
      "cell_type": "markdown",
      "source": [
        "So it correlates, but not very highly."
      ],
      "metadata": {
        "id": "_oZakqDeGFmK"
      }
    },
    {
      "cell_type": "markdown",
      "source": [
        "## ‼️ **Save your annotated data and/or database** ‼️"
      ],
      "metadata": {
        "id": "bS4qTq9zJdUS"
      }
    },
    {
      "cell_type": "markdown",
      "source": [
        "Let's save all this work into as a database file in your GDrive `sqlite_databases` folder!"
      ],
      "metadata": {
        "id": "qGExUsbZThmO"
      }
    },
    {
      "cell_type": "code",
      "source": [
        "database = 'dla_tutorial'"
      ],
      "metadata": {
        "id": "F7RlPan-KkYX"
      },
      "execution_count": null,
      "outputs": []
    },
    {
      "cell_type": "code",
      "source": [
        "# mount Google Drive\n",
        "from google.colab import drive\n",
        "drive.mount('/content/drive', force_remount=True)\n",
        "\n",
        "# copy the database file to your Drive\n",
        "!cp -f \"sqlite_data/{database}.db\" \"/content/drive/MyDrive/sqlite_databases/\"\n",
        "\n",
        "print(f\"✅ Database '{database}.db' has been copied to your Google Drive.\")"
      ],
      "metadata": {
        "id": "Ls5d7ZXwJzxV"
      },
      "execution_count": null,
      "outputs": []
    },
    {
      "cell_type": "markdown",
      "source": [
        "You can also just save the newly annotated directly to a CSV by using this:"
      ],
      "metadata": {
        "id": "z8iiUfsqXJm0"
      }
    },
    {
      "cell_type": "code",
      "source": [
        "df.to_csv(\"msgs_anno_gpt.csv\")"
      ],
      "metadata": {
        "id": "JootFYb9XNcz"
      },
      "execution_count": null,
      "outputs": []
    }
  ]
}