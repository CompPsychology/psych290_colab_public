{
  "nbformat": 4,
  "nbformat_minor": 0,
  "metadata": {
    "colab": {
      "provenance": [],
      "include_colab_link": true
    },
    "kernelspec": {
      "name": "python3",
      "display_name": "Python 3"
    },
    "language_info": {
      "name": "python"
    }
  },
  "cells": [
    {
      "cell_type": "markdown",
      "metadata": {
        "id": "view-in-github",
        "colab_type": "text"
      },
      "source": [
        "<a href=\"https://colab.research.google.com/github/CompPsychology/psych290_colab_public/blob/main/notebooks/colab-support/ColabSupport_gettting_fresh_database_files.ipynb\" target=\"_parent\"><img src=\"https://colab.research.google.com/assets/colab-badge.svg\" alt=\"Open In Colab\"/></a>"
      ]
    },
    {
      "cell_type": "markdown",
      "source": [
        "# ColabSupport: How to get a fresh copy of databases\n",
        "\n",
        "(c) Samuel Campione, Johannes Eichstaedt, and the World Well-Being Project, 2025.\n",
        "\n",
        "✋🏻✋🏻 NOTE - You need to create a copy of this notebook before you work through it. Click on \"Save a copy in Drive\" option in the File menu, and safe it to your Google Drive.\n",
        "\n",
        "✉️🐞 If you find a bug/something doesn't work, please slack us a screenshot, or email johannes.courses@gmail.com.\n",
        "\n",
        "🧹🧽 Databases can get messy quickly! If you want a fresh start, you can download new `dla_tutorial` CSVs from GitHub, shape them into SQLite database files, and push them into your Google Drive, from where you can deploy them to your colabs.\n",
        "\n",
        "This notebook will:\n",
        "1. Download `dla_tutorial` message and outcomes tables from GitHub\n",
        "2. Insert CSVs to a new `dla_tutorial.db` SQLite database file\n",
        "3. Write the .db file to Google Drive (then you can copy to your other notebooks!)"
      ],
      "metadata": {
        "id": "kKIC7KEIE3FY"
      }
    },
    {
      "cell_type": "markdown",
      "source": [
        "## **Setup**\n",
        "\n",
        "Set up dlatk & SQLite"
      ],
      "metadata": {
        "id": "Dd8SljsqE16M"
      }
    },
    {
      "cell_type": "code",
      "execution_count": null,
      "metadata": {
        "id": "44doruCkAjp5"
      },
      "outputs": [],
      "source": [
        "# installing DLATK and necessary packages\n",
        "!git clone -b psych290 https://github.com/dlatk/dlatk.git\n",
        "!pip install -r dlatk/install/requirements.txt\n",
        "!pip install dlatk/\n",
        "!pip install wordcloud langid jupysql"
      ]
    },
    {
      "cell_type": "markdown",
      "source": [
        "## **Get/Upload Data & Create Database**"
      ],
      "metadata": {
        "id": "I0j0ergKEwDz"
      }
    },
    {
      "cell_type": "code",
      "source": [
        "# define database name (if you want multiple copies, name it something unique)\n",
        "database = \"dla_tutorial\""
      ],
      "metadata": {
        "id": "nPjIXyRRFKap"
      },
      "execution_count": null,
      "outputs": []
    },
    {
      "cell_type": "code",
      "source": [
        "# downloads the CSVs to the psych290_data folder in this Colab\n",
        "!git clone https://github.com/CompPsychology/psych290_data.git"
      ],
      "metadata": {
        "id": "ezx-_YbeIZlj"
      },
      "execution_count": null,
      "outputs": []
    },
    {
      "cell_type": "markdown",
      "source": [
        "If you were working with your own data, you could either mount Google Drive and copy it into this Colab or simply upload the file to Colab from your computer."
      ],
      "metadata": {
        "id": "IJGTUT2TIzTM"
      }
    },
    {
      "cell_type": "markdown",
      "source": [
        "Now, we insert the data into SQLite as a `.db` file."
      ],
      "metadata": {
        "id": "C-1nhAIwIdmH"
      }
    },
    {
      "cell_type": "code",
      "source": [
        "# load the required package -- similar to library() function in R\n",
        "import os\n",
        "from dlatk.tools.importmethods import csvToSQLite\n",
        "\n",
        "# complete path to the database in this colab\n",
        "database_path = os.path.join(\"sqlite_data\", database)\n",
        "\n",
        "msgs = \"psych290_data/dla_tutorial/msgs.csv\"\n",
        "csvToSQLite(msgs, database_path, \"msgs\")\n",
        "\n",
        "outcomes = \"psych290_data/dla_tutorial/blog_outcomes.csv\"\n",
        "csvToSQLite(outcomes, database_path, \"outcomes\")"
      ],
      "metadata": {
        "id": "Vtq1f2fYEWz1"
      },
      "execution_count": null,
      "outputs": []
    },
    {
      "cell_type": "markdown",
      "source": [
        "## **Save fresh copy to Google Drive!**"
      ],
      "metadata": {
        "id": "mIcG6rI0Ftr5"
      }
    },
    {
      "cell_type": "markdown",
      "source": [
        "⚠️⚠️ This step will overwrite the old database db file (with the name you give it on top) on your google drive\n",
        "(if you named it the same)"
      ],
      "metadata": {
        "id": "LC8m8nxkGOUk"
      }
    },
    {
      "cell_type": "code",
      "source": [
        "# Mount Google Drive & copy database to Colab\n",
        "\n",
        "# connects & mounts your Google Drive to this colab space\n",
        "from google.colab import drive\n",
        "drive.mount('/content/drive', force_remount=True)\n",
        "\n",
        "# force copies {database_name}.db to the sqlite_databases folder in this Google Drive\n",
        "!cp -f \"sqlite_data/{database}.db\" \"/content/drive/MyDrive/sqlite_databases\"\n",
        "\n",
        "print(f\"Saved {database} to Google Drive successfully!\")"
      ],
      "metadata": {
        "id": "rNSsDDirFprS"
      },
      "execution_count": null,
      "outputs": []
    }
  ]
}