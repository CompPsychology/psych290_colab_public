{
  "cells": [
    {
      "cell_type": "markdown",
      "metadata": {
        "id": "view-in-github",
        "colab_type": "text"
      },
      "source": [
        "<a href=\"https://colab.research.google.com/github/CompPsychology/psych290_colab_public/blob/main/notebooks/week-05/W5_Tutorial_08_R_featTable_statsAndPlots_preHW5_(dla_tutorial).ipynb\" target=\"_parent\"><img src=\"https://colab.research.google.com/assets/colab-badge.svg\" alt=\"Open In Colab\"/></a>"
      ]
    },
    {
      "cell_type": "markdown",
      "source": [
        "# W5 Tutorial 8 -- R feat table stats and plots (DB: dla_tutorial) (2025-3)\n",
        "\n",
        "(c) Johannes Eichstaedt & the World Well-Being Project, 2023.\n",
        "\n",
        "✋🏻✋🏻 NOTE - You need to create a copy of this notebook before you work through it. Click on \"Save a copy in Drive\" option in the File menu, and safe it to your Google Drive.\n",
        "\n",
        "✉️🐞 If you find a bug/something doesn't work, please slack us a screenshot, or email johannes.courses@gmail.com."
      ],
      "metadata": {
        "id": "zUFGWXpWh1AZ"
      }
    },
    {
      "cell_type": "markdown",
      "source": [
        "## 1) Setting up Colab with DLATK, SQLite, and R"
      ],
      "metadata": {
        "id": "5QaT52GVTa4W"
      }
    },
    {
      "cell_type": "code",
      "source": [
        "database = \"dla_tutorial\""
      ],
      "metadata": {
        "id": "fBlJPLo0Mxc7"
      },
      "execution_count": null,
      "outputs": []
    },
    {
      "cell_type": "markdown",
      "source": [
        "### 1a) Install DLATK"
      ],
      "metadata": {
        "id": "vXIZXCgbTq1i"
      }
    },
    {
      "cell_type": "code",
      "source": [
        "# installing DLATK and necessary packages\n",
        "!git clone -b psych290 https://github.com/dlatk/dlatk.git\n",
        "!pip install -r dlatk/install/requirements.txt\n",
        "!pip install dlatk/\n",
        "!pip install wordcloud langid jupysql"
      ],
      "metadata": {
        "id": "AMAiPZ6wTsvf"
      },
      "execution_count": null,
      "outputs": []
    },
    {
      "cell_type": "markdown",
      "source": [
        "### 1b) Download custom R script"
      ],
      "metadata": {
        "id": "1LENmEIGagjL"
      }
    },
    {
      "cell_type": "code",
      "source": [
        "# this download the R script we need\n",
        "!git clone https://github.com/CompPsychology/psych290_data.git"
      ],
      "metadata": {
        "id": "pBf1-ZruagJS",
        "outputId": "451976f8-1f5b-4128-fe46-b1c9cbe91335",
        "colab": {
          "base_uri": "https://localhost:8080/"
        }
      },
      "execution_count": null,
      "outputs": [
        {
          "output_type": "stream",
          "name": "stdout",
          "text": [
            "Cloning into 'psych290_data'...\n",
            "remote: Enumerating objects: 30, done.\u001b[K\n",
            "remote: Counting objects:   7% (1/13)\u001b[K\rremote: Counting objects:  15% (2/13)\u001b[K\rremote: Counting objects:  23% (3/13)\u001b[K\rremote: Counting objects:  30% (4/13)\u001b[K\rremote: Counting objects:  38% (5/13)\u001b[K\rremote: Counting objects:  46% (6/13)\u001b[K\rremote: Counting objects:  53% (7/13)\u001b[K\rremote: Counting objects:  61% (8/13)\u001b[K\rremote: Counting objects:  69% (9/13)\u001b[K\rremote: Counting objects:  76% (10/13)\u001b[K\rremote: Counting objects:  84% (11/13)\u001b[K\rremote: Counting objects:  92% (12/13)\u001b[K\rremote: Counting objects: 100% (13/13)\u001b[K\rremote: Counting objects: 100% (13/13), done.\u001b[K\n",
            "remote: Compressing objects: 100% (10/10), done.\u001b[K\n",
            "remote: Total 30 (delta 3), reused 10 (delta 2), pack-reused 17 (from 1)\u001b[K\n",
            "Receiving objects: 100% (30/30), 28.70 MiB | 19.63 MiB/s, done.\n",
            "Resolving deltas: 100% (3/3), done.\n"
          ]
        }
      ]
    },
    {
      "cell_type": "markdown",
      "source": [
        "Look on the left in the file browser, you see `psych290RcodeV1.R` located in ./psych290_data/helper_files (as well as csv files in for `tutorial_07` and `dla_tutorial`!)"
      ],
      "metadata": {
        "id": "ysvvLMjTawaI"
      }
    },
    {
      "cell_type": "markdown",
      "source": [
        "💡 BTW, if you ever need a copy of `psych290RcodeV1.R` (RStudio at home!), [you can download it here!](https://drive.google.com/drive/folders/1LnEKn7tyBiXLsuNl_SXkqljZFRUs9S4k?usp=sharing)"
      ],
      "metadata": {
        "id": "Mq5doVvLa_Nk"
      }
    },
    {
      "cell_type": "markdown",
      "source": [
        "### 1c) Mount Google Drive and copy databases & custom R functions"
      ],
      "metadata": {
        "id": "dtVVbpmAX2l8"
      }
    },
    {
      "cell_type": "markdown",
      "source": [
        "In case you don't have that `dlatk_lexica.db` in your Google Drive, look at Tutorial 5."
      ],
      "metadata": {
        "id": "wAAiyEDpCk5W"
      }
    },
    {
      "cell_type": "code",
      "source": [
        "# Mount Google Drive & copy to Colab\n",
        "\n",
        "# connects & mounts your Google Drive to this colab space\n",
        "from google.colab import drive\n",
        "drive.mount('/content/drive', force_remount=True)\n",
        "\n",
        "# this copies dlatk_lexica.db from your Google Drive to Colab\n",
        "!cp -f \"/content/drive/MyDrive/sqlite_databases/dlatk_lexica.db\" \"sqlite_data\"\n",
        "\n",
        "# this copies {database}.db from your Google Drive to Colab\n",
        "!cp -f \"/content/drive/MyDrive/sqlite_databases/{database}.db\" \"sqlite_data\""
      ],
      "metadata": {
        "id": "wtLRHzw9YKeg",
        "outputId": "22e1348a-3b10-40b7-899c-cca6f56c5ee7",
        "colab": {
          "base_uri": "https://localhost:8080/"
        }
      },
      "execution_count": null,
      "outputs": [
        {
          "output_type": "stream",
          "name": "stdout",
          "text": [
            "Mounted at /content/drive\n"
          ]
        }
      ]
    },
    {
      "cell_type": "markdown",
      "source": [
        "### 1d) Setup database connection"
      ],
      "metadata": {
        "id": "B6vJHRAsYUVb"
      }
    },
    {
      "cell_type": "code",
      "source": [
        "# loads the %%sql extension\n",
        "%load_ext sql\n",
        "\n",
        "# connects the extension to the database - mounts both databases as engines\n",
        "from sqlalchemy import create_engine\n",
        "tutorial_db_engine = create_engine(f\"sqlite:///sqlite_data/{database}.db?charset=utf8mb4\")\n",
        "dlatk_lexica_engine = create_engine(f\"sqlite:///sqlite_data/dlatk_lexica.db?charset=utf8mb4\")\n",
        "\n",
        "# attaches the dlatk_lexica.db so tutorial_db_engine can query both databases\n",
        "from IPython import get_ipython\n",
        "from sqlalchemy import event\n",
        "\n",
        "# auto‑attach the lexica db whenever tutorial_db_engine connects\n",
        "@event.listens_for(tutorial_db_engine, \"connect\")\n",
        "def _attach_lexica(dbapi_conn, connection_record):\n",
        "    dbapi_conn.execute(\"ATTACH DATABASE 'sqlite_data/dlatk_lexica.db' AS dlatk_lexica;\")\n",
        "\n",
        "%sql tutorial_db_engine\n",
        "\n",
        "#set the output limit to 50\n",
        "%config SqlMagic.displaylimit = 50"
      ],
      "metadata": {
        "id": "6a9mgdfQYb8l"
      },
      "execution_count": null,
      "outputs": []
    },
    {
      "cell_type": "markdown",
      "source": [
        "### 1e) (ONLY If nedded: SOFT RELOAD) If you have a **\"database lock\"** problem"
      ],
      "metadata": {
        "id": "zEaWoSEh7gi5"
      }
    },
    {
      "cell_type": "code",
      "source": [
        "# If you face a \"database locked\" issue, restart the session (Runtime ==> Restart Session) & run this cell to get set back up!\n",
        "\n",
        "database = \"dla_tutorial\"\n",
        "\n",
        "%reload_ext sql\n",
        "\n",
        "from sqlalchemy import create_engine\n",
        "tutorial_db_engine = create_engine(f\"sqlite:///sqlite_data/{database}.db?charset=utf8mb4\")\n",
        "dlatk_lexica_engine = create_engine(f\"sqlite:///sqlite_data/dlatk_lexica.db?charset=utf8mb4\")\n",
        "\n",
        "# set the output limit to 50\n",
        "%config SqlMagic.displaylimit = 50\n",
        "\n",
        "from IPython import get_ipython\n",
        "from sqlalchemy import event\n",
        "\n",
        "# auto‑attach the lexica db whenever tutorial_db_engine connects\n",
        "@event.listens_for(tutorial_db_engine, \"connect\")\n",
        "def _attach_lexica(dbapi_conn, connection_record):\n",
        "    dbapi_conn.execute(\"ATTACH DATABASE 'sqlite_data/dlatk_lexica.db' AS dlatk_lexica;\")\n",
        "\n",
        "%sql tutorial_db_engine"
      ],
      "metadata": {
        "id": "fvWfMDXB7gEr"
      },
      "execution_count": null,
      "outputs": []
    },
    {
      "cell_type": "markdown",
      "source": [
        "## 2) Setup R"
      ],
      "metadata": {
        "id": "sfHgbRKlNcvs"
      }
    },
    {
      "cell_type": "markdown",
      "source": [
        "Load the R extension."
      ],
      "metadata": {
        "id": "xiVRIGl8Sjic"
      }
    },
    {
      "cell_type": "code",
      "source": [
        "# load %%R extension\n",
        "%load_ext rpy2.ipython"
      ],
      "metadata": {
        "id": "vyW-BJn0NguN"
      },
      "execution_count": null,
      "outputs": []
    },
    {
      "cell_type": "markdown",
      "source": [
        "Download and load necessary packages!"
      ],
      "metadata": {
        "id": "IoHE2FlISmcw"
      }
    },
    {
      "cell_type": "code",
      "source": [
        "# this is equivalent to install.packages() but much faster!!\n",
        "!apt-get update -qq\n",
        "\n",
        "!apt-get install -y \\\n",
        "  r-cran-ggthemes \\\n",
        "  r-cran-reshape2 \\\n",
        "  r-cran-psych \\\n",
        "  r-cran-apatables \\\n",
        "  r-cran-rsqlite \\\n",
        "  r-cran-ggrepel"
      ],
      "metadata": {
        "id": "8xyXsh7JNtJJ"
      },
      "execution_count": null,
      "outputs": []
    },
    {
      "cell_type": "code",
      "execution_count": null,
      "metadata": {
        "autoscroll": false,
        "id": "SmjWSvlrh0Hk"
      },
      "outputs": [],
      "source": [
        "%%R\n",
        "\n",
        "# custom R script functions for dlatk\n",
        "source(\"./psych290_data/helper_files/psych290RcodeV1.R\")\n",
        "\n",
        "# loads necessary libraries\n",
        "require(tidyverse)\n",
        "require(ggthemes)\n",
        "require(grid)\n",
        "require(reshape2)\n",
        "require(psych)"
      ]
    },
    {
      "cell_type": "markdown",
      "metadata": {
        "id": "kx08tRABh0Hk"
      },
      "source": [
        "\n",
        "Let's connect to our SQLite database using RSQLite.  Remember to assign the `database` variable with your database name!"
      ]
    },
    {
      "cell_type": "code",
      "source": [
        "# constructs the file path based on your database name\n",
        "database_path = f\"sqlite_data/{database}.db\""
      ],
      "metadata": {
        "id": "opmjwc5jOJLs"
      },
      "execution_count": null,
      "outputs": []
    },
    {
      "cell_type": "code",
      "source": [
        "%%R -i database_path\n",
        "\n",
        "# load DBI for generic database functions and RSQLite as the SQLite backend\n",
        "library(DBI)\n",
        "library(RSQLite)\n",
        "\n",
        "# connects to a file-based sqlite DB\n",
        "db_con <- dbConnect(RSQLite::SQLite(),\n",
        "                    dbname = database_path)\n",
        "\n",
        "# enforce UTF-8 encoding\n",
        "dbExecute(db_con, \"PRAGMA encoding = 'UTF-8';\")\n",
        "\n",
        "# this attaches the dlatk_lexica database\n",
        "dbExecute(db_con, \"ATTACH DATABASE 'sqlite_data/dlatk_lexica.db' AS dlatk_lexica;\")"
      ],
      "metadata": {
        "colab": {
          "base_uri": "https://localhost:8080/"
        },
        "id": "NxAwjOFbOHiu",
        "outputId": "10064a04-b254-42ff-cd9b-d87550137924"
      },
      "execution_count": null,
      "outputs": [
        {
          "output_type": "stream",
          "name": "stdout",
          "text": [
            "[1] 0\n"
          ]
        }
      ]
    },
    {
      "cell_type": "markdown",
      "source": [
        "```\n",
        "🐬🐬🐬\n",
        "db_con = dbConnect(MySQL(), user=SUNET, password=\"\", dbname=database, host='localhost', encoding='UTF-8')\n",
        "\n",
        "dbSendQuery(db_con, \"SET NAMES utf8mb4;\")\n",
        "dbSendQuery(db_con, \"SET CHARACTER SET utf8mb4;\")\n",
        "dbSendQuery(db_con, \"SET character_set_connection=utf8mb4;\")\n",
        "🐬🐬🐬\n",
        "```"
      ],
      "metadata": {
        "id": "uD8q-V4zh0Hk"
      }
    },
    {
      "cell_type": "markdown",
      "metadata": {
        "id": "4CFF6wEDh0Hk"
      },
      "source": [
        "Use `dbGetQuery()` from RSQLite with the database connection to fire off SQL commands and get their output! The function has the form `dbGetQuery(db_con, <query>)`, where `<query>` can be any query from your tutorials/homeworks until now."
      ]
    },
    {
      "cell_type": "markdown",
      "source": [
        "Lets use it to see what tables we have in our database!\n",
        "\n",
        "Notice how `dla_tutorial` and `dlatk_lexica` tables are included there too, but part of a different attached database (indicated by the `schema` columns)."
      ],
      "metadata": {
        "id": "YHPy5y3rcC0c"
      }
    },
    {
      "cell_type": "code",
      "source": [
        "%R dbGetQuery(db_con, \"PRAGMA table_list\")"
      ],
      "metadata": {
        "id": "It045htqOdh5"
      },
      "execution_count": null,
      "outputs": []
    },
    {
      "cell_type": "markdown",
      "source": [
        "To see all these tables in MySQL:\n",
        "\n",
        "```\n",
        "🐬🐬🐬\n",
        "dbGetQuery(db_con, \"SHOW DATABASES\")\n",
        "\n",
        "dbGetQuery(db_con, \"USE dla_tutorial\")\n",
        "dbGetQuery(db_con, \"SHOW TABLES\")\n",
        "\n",
        "dbGetQuery(db_con, \"USE dlatk_lexica\")\n",
        "dbGetQuery(db_con, \"SHOW TABLES\")\n",
        "🐬🐬🐬\n",
        "```"
      ],
      "metadata": {
        "id": "vmdtKiZrh0Hl"
      }
    },
    {
      "cell_type": "markdown",
      "metadata": {
        "id": "ErHu0-wgh0Hm"
      },
      "source": [
        "\n",
        "### 2a) Read from database into a dataframe\n",
        "\n",
        "As expected `dbGetQuery()` returns the output of SELECT as well. Here we store it in the dataframe 'df'."
      ]
    },
    {
      "cell_type": "code",
      "execution_count": null,
      "metadata": {
        "autoscroll": false,
        "collapsed": true,
        "id": "xqbejw8Uh0Hm"
      },
      "outputs": [],
      "source": [
        "%%R\n",
        "\n",
        "df <- dbGetQuery(db_con, \"SELECT * FROM msgs LIMIT 3\")"
      ]
    },
    {
      "cell_type": "markdown",
      "source": [
        "You can explore df below.\n",
        "\n",
        "Remember the line magic `%R` sends the df back to python to be displayed nicely, but you could also do `%%R df` 🙂"
      ],
      "metadata": {
        "id": "7HLalkClQDnP"
      }
    },
    {
      "cell_type": "code",
      "source": [
        "%R df"
      ],
      "metadata": {
        "id": "gmgvP111dwiE",
        "outputId": "d2fe5228-2f7e-408c-f5ff-c0e1580168fd",
        "colab": {
          "base_uri": "https://localhost:8080/",
          "height": 143
        }
      },
      "execution_count": null,
      "outputs": [
        {
          "output_type": "execute_result",
          "data": {
            "text/plain": [
              "   message_id  user_id          date         created_time  \\\n",
              "1           1  3991108  31,July,2004  2004-07-31 00:00:00   \n",
              "2           2  3991108  25,July,2004  2004-07-25 00:00:00   \n",
              "3           3  3991108  24,July,2004  2004-07-24 00:00:00   \n",
              "\n",
              "                                             message  \n",
              "1     can you believe it?? my mom wouln't let me ...  \n",
              "2     miss su  used to be my living skills teache...  \n",
              "3     i'm lookin for info about cancer in bm...i ...  "
            ],
            "text/html": [
              "\n",
              "  <div id=\"df-7bccb610-183b-4d47-95ed-06c76063b77b\" class=\"colab-df-container\">\n",
              "    <div>\n",
              "<style scoped>\n",
              "    .dataframe tbody tr th:only-of-type {\n",
              "        vertical-align: middle;\n",
              "    }\n",
              "\n",
              "    .dataframe tbody tr th {\n",
              "        vertical-align: top;\n",
              "    }\n",
              "\n",
              "    .dataframe thead th {\n",
              "        text-align: right;\n",
              "    }\n",
              "</style>\n",
              "<table border=\"1\" class=\"dataframe\">\n",
              "  <thead>\n",
              "    <tr style=\"text-align: right;\">\n",
              "      <th></th>\n",
              "      <th>message_id</th>\n",
              "      <th>user_id</th>\n",
              "      <th>date</th>\n",
              "      <th>created_time</th>\n",
              "      <th>message</th>\n",
              "    </tr>\n",
              "  </thead>\n",
              "  <tbody>\n",
              "    <tr>\n",
              "      <th>1</th>\n",
              "      <td>1</td>\n",
              "      <td>3991108</td>\n",
              "      <td>31,July,2004</td>\n",
              "      <td>2004-07-31 00:00:00</td>\n",
              "      <td>can you believe it?? my mom wouln't let me ...</td>\n",
              "    </tr>\n",
              "    <tr>\n",
              "      <th>2</th>\n",
              "      <td>2</td>\n",
              "      <td>3991108</td>\n",
              "      <td>25,July,2004</td>\n",
              "      <td>2004-07-25 00:00:00</td>\n",
              "      <td>miss su  used to be my living skills teache...</td>\n",
              "    </tr>\n",
              "    <tr>\n",
              "      <th>3</th>\n",
              "      <td>3</td>\n",
              "      <td>3991108</td>\n",
              "      <td>24,July,2004</td>\n",
              "      <td>2004-07-24 00:00:00</td>\n",
              "      <td>i'm lookin for info about cancer in bm...i ...</td>\n",
              "    </tr>\n",
              "  </tbody>\n",
              "</table>\n",
              "</div>\n",
              "    <div class=\"colab-df-buttons\">\n",
              "\n",
              "  <div class=\"colab-df-container\">\n",
              "    <button class=\"colab-df-convert\" onclick=\"convertToInteractive('df-7bccb610-183b-4d47-95ed-06c76063b77b')\"\n",
              "            title=\"Convert this dataframe to an interactive table.\"\n",
              "            style=\"display:none;\">\n",
              "\n",
              "  <svg xmlns=\"http://www.w3.org/2000/svg\" height=\"24px\" viewBox=\"0 -960 960 960\">\n",
              "    <path d=\"M120-120v-720h720v720H120Zm60-500h600v-160H180v160Zm220 220h160v-160H400v160Zm0 220h160v-160H400v160ZM180-400h160v-160H180v160Zm440 0h160v-160H620v160ZM180-180h160v-160H180v160Zm440 0h160v-160H620v160Z\"/>\n",
              "  </svg>\n",
              "    </button>\n",
              "\n",
              "  <style>\n",
              "    .colab-df-container {\n",
              "      display:flex;\n",
              "      gap: 12px;\n",
              "    }\n",
              "\n",
              "    .colab-df-convert {\n",
              "      background-color: #E8F0FE;\n",
              "      border: none;\n",
              "      border-radius: 50%;\n",
              "      cursor: pointer;\n",
              "      display: none;\n",
              "      fill: #1967D2;\n",
              "      height: 32px;\n",
              "      padding: 0 0 0 0;\n",
              "      width: 32px;\n",
              "    }\n",
              "\n",
              "    .colab-df-convert:hover {\n",
              "      background-color: #E2EBFA;\n",
              "      box-shadow: 0px 1px 2px rgba(60, 64, 67, 0.3), 0px 1px 3px 1px rgba(60, 64, 67, 0.15);\n",
              "      fill: #174EA6;\n",
              "    }\n",
              "\n",
              "    .colab-df-buttons div {\n",
              "      margin-bottom: 4px;\n",
              "    }\n",
              "\n",
              "    [theme=dark] .colab-df-convert {\n",
              "      background-color: #3B4455;\n",
              "      fill: #D2E3FC;\n",
              "    }\n",
              "\n",
              "    [theme=dark] .colab-df-convert:hover {\n",
              "      background-color: #434B5C;\n",
              "      box-shadow: 0px 1px 3px 1px rgba(0, 0, 0, 0.15);\n",
              "      filter: drop-shadow(0px 1px 2px rgba(0, 0, 0, 0.3));\n",
              "      fill: #FFFFFF;\n",
              "    }\n",
              "  </style>\n",
              "\n",
              "    <script>\n",
              "      const buttonEl =\n",
              "        document.querySelector('#df-7bccb610-183b-4d47-95ed-06c76063b77b button.colab-df-convert');\n",
              "      buttonEl.style.display =\n",
              "        google.colab.kernel.accessAllowed ? 'block' : 'none';\n",
              "\n",
              "      async function convertToInteractive(key) {\n",
              "        const element = document.querySelector('#df-7bccb610-183b-4d47-95ed-06c76063b77b');\n",
              "        const dataTable =\n",
              "          await google.colab.kernel.invokeFunction('convertToInteractive',\n",
              "                                                    [key], {});\n",
              "        if (!dataTable) return;\n",
              "\n",
              "        const docLinkHtml = 'Like what you see? Visit the ' +\n",
              "          '<a target=\"_blank\" href=https://colab.research.google.com/notebooks/data_table.ipynb>data table notebook</a>'\n",
              "          + ' to learn more about interactive tables.';\n",
              "        element.innerHTML = '';\n",
              "        dataTable['output_type'] = 'display_data';\n",
              "        await google.colab.output.renderOutput(dataTable, element);\n",
              "        const docLink = document.createElement('div');\n",
              "        docLink.innerHTML = docLinkHtml;\n",
              "        element.appendChild(docLink);\n",
              "      }\n",
              "    </script>\n",
              "  </div>\n",
              "\n",
              "\n",
              "    <div id=\"df-a6c2aed9-1bd7-461e-8fbe-0f85e688c05a\">\n",
              "      <button class=\"colab-df-quickchart\" onclick=\"quickchart('df-a6c2aed9-1bd7-461e-8fbe-0f85e688c05a')\"\n",
              "                title=\"Suggest charts\"\n",
              "                style=\"display:none;\">\n",
              "\n",
              "<svg xmlns=\"http://www.w3.org/2000/svg\" height=\"24px\"viewBox=\"0 0 24 24\"\n",
              "     width=\"24px\">\n",
              "    <g>\n",
              "        <path d=\"M19 3H5c-1.1 0-2 .9-2 2v14c0 1.1.9 2 2 2h14c1.1 0 2-.9 2-2V5c0-1.1-.9-2-2-2zM9 17H7v-7h2v7zm4 0h-2V7h2v10zm4 0h-2v-4h2v4z\"/>\n",
              "    </g>\n",
              "</svg>\n",
              "      </button>\n",
              "\n",
              "<style>\n",
              "  .colab-df-quickchart {\n",
              "      --bg-color: #E8F0FE;\n",
              "      --fill-color: #1967D2;\n",
              "      --hover-bg-color: #E2EBFA;\n",
              "      --hover-fill-color: #174EA6;\n",
              "      --disabled-fill-color: #AAA;\n",
              "      --disabled-bg-color: #DDD;\n",
              "  }\n",
              "\n",
              "  [theme=dark] .colab-df-quickchart {\n",
              "      --bg-color: #3B4455;\n",
              "      --fill-color: #D2E3FC;\n",
              "      --hover-bg-color: #434B5C;\n",
              "      --hover-fill-color: #FFFFFF;\n",
              "      --disabled-bg-color: #3B4455;\n",
              "      --disabled-fill-color: #666;\n",
              "  }\n",
              "\n",
              "  .colab-df-quickchart {\n",
              "    background-color: var(--bg-color);\n",
              "    border: none;\n",
              "    border-radius: 50%;\n",
              "    cursor: pointer;\n",
              "    display: none;\n",
              "    fill: var(--fill-color);\n",
              "    height: 32px;\n",
              "    padding: 0;\n",
              "    width: 32px;\n",
              "  }\n",
              "\n",
              "  .colab-df-quickchart:hover {\n",
              "    background-color: var(--hover-bg-color);\n",
              "    box-shadow: 0 1px 2px rgba(60, 64, 67, 0.3), 0 1px 3px 1px rgba(60, 64, 67, 0.15);\n",
              "    fill: var(--button-hover-fill-color);\n",
              "  }\n",
              "\n",
              "  .colab-df-quickchart-complete:disabled,\n",
              "  .colab-df-quickchart-complete:disabled:hover {\n",
              "    background-color: var(--disabled-bg-color);\n",
              "    fill: var(--disabled-fill-color);\n",
              "    box-shadow: none;\n",
              "  }\n",
              "\n",
              "  .colab-df-spinner {\n",
              "    border: 2px solid var(--fill-color);\n",
              "    border-color: transparent;\n",
              "    border-bottom-color: var(--fill-color);\n",
              "    animation:\n",
              "      spin 1s steps(1) infinite;\n",
              "  }\n",
              "\n",
              "  @keyframes spin {\n",
              "    0% {\n",
              "      border-color: transparent;\n",
              "      border-bottom-color: var(--fill-color);\n",
              "      border-left-color: var(--fill-color);\n",
              "    }\n",
              "    20% {\n",
              "      border-color: transparent;\n",
              "      border-left-color: var(--fill-color);\n",
              "      border-top-color: var(--fill-color);\n",
              "    }\n",
              "    30% {\n",
              "      border-color: transparent;\n",
              "      border-left-color: var(--fill-color);\n",
              "      border-top-color: var(--fill-color);\n",
              "      border-right-color: var(--fill-color);\n",
              "    }\n",
              "    40% {\n",
              "      border-color: transparent;\n",
              "      border-right-color: var(--fill-color);\n",
              "      border-top-color: var(--fill-color);\n",
              "    }\n",
              "    60% {\n",
              "      border-color: transparent;\n",
              "      border-right-color: var(--fill-color);\n",
              "    }\n",
              "    80% {\n",
              "      border-color: transparent;\n",
              "      border-right-color: var(--fill-color);\n",
              "      border-bottom-color: var(--fill-color);\n",
              "    }\n",
              "    90% {\n",
              "      border-color: transparent;\n",
              "      border-bottom-color: var(--fill-color);\n",
              "    }\n",
              "  }\n",
              "</style>\n",
              "\n",
              "      <script>\n",
              "        async function quickchart(key) {\n",
              "          const quickchartButtonEl =\n",
              "            document.querySelector('#' + key + ' button');\n",
              "          quickchartButtonEl.disabled = true;  // To prevent multiple clicks.\n",
              "          quickchartButtonEl.classList.add('colab-df-spinner');\n",
              "          try {\n",
              "            const charts = await google.colab.kernel.invokeFunction(\n",
              "                'suggestCharts', [key], {});\n",
              "          } catch (error) {\n",
              "            console.error('Error during call to suggestCharts:', error);\n",
              "          }\n",
              "          quickchartButtonEl.classList.remove('colab-df-spinner');\n",
              "          quickchartButtonEl.classList.add('colab-df-quickchart-complete');\n",
              "        }\n",
              "        (() => {\n",
              "          let quickchartButtonEl =\n",
              "            document.querySelector('#df-a6c2aed9-1bd7-461e-8fbe-0f85e688c05a button');\n",
              "          quickchartButtonEl.style.display =\n",
              "            google.colab.kernel.accessAllowed ? 'block' : 'none';\n",
              "        })();\n",
              "      </script>\n",
              "    </div>\n",
              "\n",
              "    </div>\n",
              "  </div>\n"
            ],
            "application/vnd.google.colaboratory.intrinsic+json": {
              "type": "dataframe",
              "summary": "{\n  \"name\": \"get_ipython()\",\n  \"rows\": 3,\n  \"fields\": [\n    {\n      \"column\": \"message_id\",\n      \"properties\": {\n        \"dtype\": \"int32\",\n        \"num_unique_values\": 3,\n        \"samples\": [\n          1,\n          2,\n          3\n        ],\n        \"semantic_type\": \"\",\n        \"description\": \"\"\n      }\n    },\n    {\n      \"column\": \"user_id\",\n      \"properties\": {\n        \"dtype\": \"int32\",\n        \"num_unique_values\": 1,\n        \"samples\": [\n          3991108\n        ],\n        \"semantic_type\": \"\",\n        \"description\": \"\"\n      }\n    },\n    {\n      \"column\": \"date\",\n      \"properties\": {\n        \"dtype\": \"object\",\n        \"num_unique_values\": 3,\n        \"samples\": [\n          \"31,July,2004\"\n        ],\n        \"semantic_type\": \"\",\n        \"description\": \"\"\n      }\n    },\n    {\n      \"column\": \"created_time\",\n      \"properties\": {\n        \"dtype\": \"object\",\n        \"num_unique_values\": 3,\n        \"samples\": [\n          \"2004-07-31 00:00:00\"\n        ],\n        \"semantic_type\": \"\",\n        \"description\": \"\"\n      }\n    },\n    {\n      \"column\": \"message\",\n      \"properties\": {\n        \"dtype\": \"string\",\n        \"num_unique_values\": 3,\n        \"samples\": [\n          \"   can you believe it?? my mom wouln't let me go out on my b'day...i was really really mad at her. still am. but i got more presents from my friends this year. so thats great.  \"\n        ],\n        \"semantic_type\": \"\",\n        \"description\": \"\"\n      }\n    }\n  ]\n}"
            }
          },
          "metadata": {},
          "execution_count": 13
        }
      ]
    },
    {
      "cell_type": "markdown",
      "source": [
        "## 3) Intro to feature tables in R\n",
        "\n",
        "This section is about revisiting some of our queries from previous homeworks which we had done with DLATK + SQL. Here we'll see (and get impressed) how easy it gets with the addition of R in our workflow.\n",
        "\n",
        "First of all, let's read our user-level feature table and plot the distribution of tokens. Zipf's distibution in all its glory!!\n",
        "\n",
        "Then we have to get the frequency of every token which can be done with a group by followed by a sum as below. Remember to order it in decreasing order of frequency.\n",
        "\n",
        "`checkDf2()` will provide helpful quality control ...\n",
        "\n"
      ],
      "metadata": {
        "id": "xEDuTU6ERpTz"
      }
    },
    {
      "cell_type": "code",
      "execution_count": null,
      "metadata": {
        "autoscroll": false,
        "collapsed": true,
        "id": "PmG7uXoHh0Hm"
      },
      "outputs": [],
      "source": [
        "%%R\n",
        "\n",
        "counts <- dbGetQuery(\n",
        "  db_con,\n",
        "  \"SELECT feat, SUM(value) as freq FROM feat$1gram$msgs$user_id GROUP BY feat ORDER BY freq DESC\")"
      ]
    },
    {
      "cell_type": "code",
      "execution_count": null,
      "metadata": {
        "autoscroll": false,
        "colab": {
          "base_uri": "https://localhost:8080/"
        },
        "id": "Dz8g4H8Gh0Hm",
        "outputId": "1666e514-844c-4262-b7a5-eb88e3e986d6"
      },
      "outputs": [
        {
          "output_type": "stream",
          "name": "stdout",
          "text": [
            "  names na_count is_numericy\n",
            "1  feat        0           0\n",
            "2  freq        0           1\n"
          ]
        }
      ],
      "source": [
        "%%R\n",
        "\n",
        "checkDf(counts)"
      ]
    },
    {
      "cell_type": "code",
      "source": [
        "%%R\n",
        "\n",
        "checkDf2(counts)"
      ],
      "metadata": {
        "colab": {
          "base_uri": "https://localhost:8080/"
        },
        "id": "UybEZ3RuS2fu",
        "outputId": "9fe9ab1c-7fe6-4da1-b3a9-0f1af16ce0db"
      },
      "execution_count": null,
      "outputs": [
        {
          "output_type": "stream",
          "name": "stdout",
          "text": [
            "  names NAs numeric min    max zeroes  nonNA unique\n",
            "1  feat   0       0                                \n",
            "2  freq   0       1   1 365156      0 137687   1459\n"
          ]
        }
      ]
    },
    {
      "cell_type": "markdown",
      "metadata": {
        "id": "tmBTJD0th0Hm"
      },
      "source": [
        "\n",
        "...you can see that frequencies range from 1 to 365158.\n",
        "\n",
        "Let's normalize the frequency (divide by the total count)\n",
        "\n"
      ]
    },
    {
      "cell_type": "code",
      "execution_count": null,
      "metadata": {
        "autoscroll": false,
        "collapsed": true,
        "id": "K3tN1HnKh0Hm"
      },
      "outputs": [],
      "source": [
        "%%R\n",
        "\n",
        "counts$n_freq <- counts$freq / sum(counts$freq)"
      ]
    },
    {
      "cell_type": "markdown",
      "metadata": {
        "id": "wM5mq_drh0Hn"
      },
      "source": [
        "\n",
        "Now we can plot it using `ggplot2`.\n",
        "\n"
      ]
    },
    {
      "cell_type": "code",
      "execution_count": null,
      "metadata": {
        "autoscroll": false,
        "colab": {
          "base_uri": "https://localhost:8080/",
          "height": 551
        },
        "id": "fn7t0FATh0Hn",
        "outputId": "86ffb535-5667-4891-cd4f-32e3b340c7c1"
      },
      "outputs": [
        {
          "output_type": "display_data",
          "data": {
            "text/plain": [
              "In addition: Warning message:\n",
              "`legend.margin` must be specified using `margin()`\n",
              "ℹ For the old behavior use `legend.spacing` \n"
            ]
          },
          "metadata": {}
        },
        {
          "output_type": "display_data",
          "data": {
            "image/png": "[encoded data removed]",
            "text/plain": [
              "<IPython.core.display.Image object>"
            ]
          },
          "metadata": {}
        }
      ],
      "source": [
        "%%R\n",
        "\n",
        "until_which_word <- 500\n",
        "\n",
        "ggplot(\n",
        "  data=counts[1:until_which_word, ],\n",
        "  aes(x=c(1:until_which_word), y=counts$n_freq[1:until_which_word])) +\n",
        "  xlab('Rank') +\n",
        "  ylab('Normalized Frequency') +\n",
        "  geom_line() +\n",
        "  theme_Publication()"
      ]
    },
    {
      "cell_type": "markdown",
      "metadata": {
        "id": "qALrrXJ2h0Hn"
      },
      "source": [
        "\n",
        "That looks like a perfect 1/rank plot! let's look at the top 50 words by annotating the graph with it, using the awesome ggrepel package with gives us the `geom_text_repel` geom for ggplot.\n",
        "\n"
      ]
    },
    {
      "cell_type": "code",
      "execution_count": null,
      "metadata": {
        "autoscroll": false,
        "colab": {
          "base_uri": "https://localhost:8080/",
          "height": 658
        },
        "id": "liOTpuZch0Hn",
        "outputId": "d44b7bdf-43f0-4531-c3c6-2f9025a1ad2f"
      },
      "outputs": [
        {
          "output_type": "stream",
          "name": "stderr",
          "text": [
            "WARNING:rpy2.rinterface_lib.callbacks:R[write to console]: In addition: \n",
            "WARNING:rpy2.rinterface_lib.callbacks:R[write to console]: Warning message:\n",
            "\n",
            "WARNING:rpy2.rinterface_lib.callbacks:R[write to console]: ggrepel: 4 unlabeled data points (too many overlaps). Consider increasing max.overlaps \n",
            "\n"
          ]
        },
        {
          "output_type": "display_data",
          "data": {
            "text/plain": [
              "Loading required package: ggrepel\n",
              "In addition: Warning message:\n",
              "`legend.margin` must be specified using `margin()`\n",
              "ℹ For the old behavior use `legend.spacing` \n"
            ]
          },
          "metadata": {}
        },
        {
          "output_type": "display_data",
          "data": {
            "image/png": "[encoded data removed]",
            "text/plain": [
              "<IPython.core.display.Image object>"
            ]
          },
          "metadata": {}
        }
      ],
      "source": [
        "%%R\n",
        "\n",
        "require(ggrepel)\n",
        "\n",
        "until_which_word <- 50\n",
        "\n",
        "ggplot(\n",
        "  data=counts[1:until_which_word, ],\n",
        "  aes(x=c(1:until_which_word), y=counts$n_freq[1:until_which_word], label = feat)) +\n",
        "  xlab('Rank') +\n",
        "  ylab('Normalized Frequency') +\n",
        "  geom_line() +\n",
        "  theme_Publication() +\n",
        "  geom_text_repel()"
      ]
    },
    {
      "cell_type": "markdown",
      "metadata": {
        "id": "0rSfFKL7h0Hn"
      },
      "source": [
        "Very nice!\n"
      ]
    },
    {
      "cell_type": "markdown",
      "source": [
        "## EXERCISES\n",
        "\n",
        "(note: these [and the videos below] are based on slightly older versions of the homeworks.)\n",
        "\n",
        "If you would like to see johannes do these live, see here:\n",
        "[HW2](https://www.youtube.com/watch?v=MUrgTXZRGrk&list=PLHUagVZ9xkcz6EwJCk7Wj4dveH6M3pUBD),\n",
        "[HW3](https://www.youtube.com/watch?v=zrrY8LBDHME&list=PLHUagVZ9xkcz6EwJCk7Wj4dveH6M3pUBD)"
      ],
      "metadata": {
        "id": "1UXAGOugTRlw"
      }
    },
    {
      "cell_type": "markdown",
      "source": [
        "### HW1 Questions\n",
        "\n",
        "Let's revisit some of the HW1 questions and solve them using R. We'll also check for trade-offs when we solve a question with R v/s SQL. Each tool is good to do certain things over the other."
      ],
      "metadata": {
        "id": "fxpNXukkTbs9"
      }
    },
    {
      "cell_type": "markdown",
      "source": [
        "#### Question 1-3\n",
        "\n",
        "1. Calculate the minmimum, maximum and average age for both genders\n",
        "2. Calculate the average age for every occupation\n",
        "3. What's the average age difference between Libras and Leos?\n",
        "\n",
        "To solve all of the above questions, we need only the `outcomes` table. Let's read that, and describe the columns.\n",
        "\n"
      ],
      "metadata": {
        "id": "DYwyNmuKToT8"
      }
    },
    {
      "cell_type": "code",
      "execution_count": null,
      "metadata": {
        "autoscroll": false,
        "colab": {
          "base_uri": "https://localhost:8080/"
        },
        "id": "fU13HT1Yh0Hn",
        "outputId": "95c51148-0425-455c-9054-c7a2c33b03dc"
      },
      "outputs": [
        {
          "output_type": "stream",
          "name": "stdout",
          "text": [
            "           names NAs numeric   min     max zeroes nonNA unique\n",
            "1        user_id   0       1 28451 4325889      0  1000   1000\n",
            "2         gender   0       1     0       1    502  1000      2\n",
            "3            age   0       1    13      48      0  1000     26\n",
            "4           occu   0       0                                  \n",
            "5           sign   0       0                                  \n",
            "6      is_indunk   0       1     0       1    642  1000      2\n",
            "7     is_student   0       0                                  \n",
            "8   is_education   0       0                                  \n",
            "9  is_technology   0       0                                  \n",
            "10     wordcount   0       1   419  365311      0  1000    917\n"
          ]
        }
      ],
      "source": [
        "%%R\n",
        "\n",
        "outcomes <- dbGetQuery(db_con, \"SELECT * FROM outcomes\")\n",
        "checkDf2(outcomes)"
      ]
    },
    {
      "cell_type": "markdown",
      "metadata": {
        "id": "PwWaiSnth0Hn"
      },
      "source": [
        "\n",
        "Now we just have to use `dplyr` to solve the questions.\n",
        "\n"
      ]
    },
    {
      "cell_type": "markdown",
      "source": [
        "First gender."
      ],
      "metadata": {
        "id": "XjH1xZn4e-Z_"
      }
    },
    {
      "cell_type": "code",
      "execution_count": null,
      "metadata": {
        "autoscroll": false,
        "colab": {
          "base_uri": "https://localhost:8080/"
        },
        "id": "XMnipR9Nh0Hn",
        "outputId": "cb9f1122-af06-4369-fa65-71bbd829e2ca"
      },
      "outputs": [
        {
          "output_type": "stream",
          "name": "stdout",
          "text": [
            "# A tibble: 2 × 4\n",
            "  gender   min   max   avg\n",
            "   <int> <int> <int> <dbl>\n",
            "1      0    13    48  23.1\n",
            "2      1    13    48  23.3\n"
          ]
        }
      ],
      "source": [
        "%%R\n",
        "\n",
        "outcomes %>%\n",
        "  group_by(gender) %>%\n",
        "  summarise(min = min(age), max = max(age), avg = mean(age))"
      ]
    },
    {
      "cell_type": "markdown",
      "source": [
        "---\n",
        "\n",
        "🤓🤓 Try piping to data.frame (i.e., `%>% data.frame()` at the end) to make the output easier to read!\n",
        "\n",
        "---"
      ],
      "metadata": {
        "id": "K9VCDcWPlqm8"
      }
    },
    {
      "cell_type": "code",
      "source": [
        "%%R\n",
        "\n",
        "outcomes %>%\n",
        "  group_by(gender) %>%\n",
        "  summarise(min = min(age), max = max(age), avg = mean(age)) %>%\n",
        "  data.frame() # add data.frame here!"
      ],
      "metadata": {
        "id": "vJnVH68ol2BA",
        "outputId": "ab4bd005-355d-4ac8-e319-0a2bc88e8de8",
        "colab": {
          "base_uri": "https://localhost:8080/"
        }
      },
      "execution_count": null,
      "outputs": [
        {
          "output_type": "stream",
          "name": "stdout",
          "text": [
            "  gender min max      avg\n",
            "1      0  13  48 23.11952\n",
            "2      1  13  48 23.33735\n"
          ]
        }
      ]
    },
    {
      "cell_type": "markdown",
      "source": [
        "See, much cleaner!"
      ],
      "metadata": {
        "id": "lBJVdm_al9Dn"
      }
    },
    {
      "cell_type": "markdown",
      "source": [
        "Now occupations."
      ],
      "metadata": {
        "id": "Z0X8PcJXe8Ep"
      }
    },
    {
      "cell_type": "code",
      "source": [
        "%%R\n",
        "\n",
        "outcomes %>%\n",
        "  group_by(occu) %>%\n",
        "  summarise(mean(age)) %>%\n",
        "  data.frame() # convert to data.frame, much easier to read!"
      ],
      "metadata": {
        "id": "ld9zBXb4enav",
        "outputId": "21b8484f-5a51-4d2a-f41c-2ea86e372c3b",
        "colab": {
          "base_uri": "https://localhost:8080/"
        }
      },
      "execution_count": null,
      "outputs": [
        {
          "output_type": "stream",
          "name": "stdout",
          "text": [
            "                      occu mean.age.\n",
            "1               Accounting  24.50000\n",
            "2              Advertising  25.50000\n",
            "3              Agriculture  17.00000\n",
            "4             Architecture  28.33333\n",
            "5                     Arts  23.06250\n",
            "6               Automotive  30.50000\n",
            "7                  Banking  27.87500\n",
            "8                  Biotech  24.50000\n",
            "9         BusinessServices  29.50000\n",
            "10               Chemicals  15.00000\n",
            "11    Communications-Media  27.66667\n",
            "12            Construction  32.33333\n",
            "13              Consulting  30.85714\n",
            "14               Education  27.48000\n",
            "15             Engineering  23.66667\n",
            "16                 Fashion  26.60000\n",
            "17              Government  28.43750\n",
            "18          HumanResources  34.83333\n",
            "19                Internet  28.29167\n",
            "20                     Law  29.55556\n",
            "21 LawEnforcement-Security  21.00000\n",
            "22           Manufacturing  30.33333\n",
            "23               Marketing  28.60000\n",
            "24                Military  23.60000\n",
            "25       Museums-Libraries  21.50000\n",
            "26              Non-Profit  28.21429\n",
            "27              Publishing  26.66667\n",
            "28              RealEstate  22.66667\n",
            "29                Religion  31.27273\n",
            "30                 Science  23.63636\n",
            "31       Sports-Recreation  26.50000\n",
            "32                 Student  17.02545\n",
            "33              Technology  29.36538\n",
            "34      Telecommunications  26.90000\n",
            "35                 Tourism  25.50000\n",
            "36          Transportation  32.50000\n",
            "37                  indUnk  23.51955\n"
          ]
        }
      ]
    },
    {
      "cell_type": "markdown",
      "metadata": {
        "id": "sGqEk794h0Hn"
      },
      "source": [
        "To find the average ages for `Libra` and `Leo` we first filter users with only these star signs and then group by - summarise.\n",
        "\n"
      ]
    },
    {
      "cell_type": "code",
      "execution_count": null,
      "metadata": {
        "autoscroll": false,
        "colab": {
          "base_uri": "https://localhost:8080/"
        },
        "id": "62CXalthh0Ho",
        "outputId": "c938da0f-21b7-4b18-95b4-379ba9111237"
      },
      "outputs": [
        {
          "output_type": "stream",
          "name": "stdout",
          "text": [
            "   sign mean.age.\n",
            "1   Leo  22.77215\n",
            "2 Libra  24.21687\n"
          ]
        }
      ],
      "source": [
        "%%R\n",
        "\n",
        "outcomes %>%\n",
        "  filter(sign == 'Libra' | sign == 'Leo') %>%\n",
        "  group_by(sign) %>%\n",
        "  summarise(mean(age)) %>%\n",
        "  data.frame()"
      ]
    },
    {
      "cell_type": "markdown",
      "metadata": {
        "id": "Fse9nkV1h0Ho"
      },
      "source": [
        "#### Question 4-5\n",
        "\n",
        "4. How many blog posts do we have from authors from a given age? i.e., how many from age 17, 18, etc\n",
        "5. How many blog posts from authors in an industry?\n",
        "\n",
        "Let's NOT get the entire `msgs` table to R (lots of data for R!), instead we will do the count of blogs per user in SQL and the rest here."
      ]
    },
    {
      "cell_type": "code",
      "execution_count": null,
      "metadata": {
        "autoscroll": false,
        "colab": {
          "base_uri": "https://localhost:8080/"
        },
        "id": "TembnA9qh0Ho",
        "outputId": "3cea614d-6387-4925-a355-4fd5283911f9"
      },
      "outputs": [
        {
          "output_type": "stream",
          "name": "stdout",
          "text": [
            "    names NAs numeric   min     max zeroes nonNA unique\n",
            "1 user_id   0       1 28451 4325889      0  1000   1000\n",
            "2  n_msgs   0       1     1    2068      0  1000    143\n"
          ]
        }
      ],
      "source": [
        "%%R\n",
        "\n",
        "blog_counts <- dbGetQuery(db_con, \"SELECT user_id, COUNT(*) AS n_msgs FROM msgs GROUP BY user_id\")\n",
        "checkDf2(blog_counts)"
      ]
    },
    {
      "cell_type": "markdown",
      "metadata": {
        "id": "j5twOL3zh0Ho"
      },
      "source": [
        "We'll now import `outcomes`.\n",
        "\n"
      ]
    },
    {
      "cell_type": "code",
      "execution_count": null,
      "metadata": {
        "autoscroll": false,
        "colab": {
          "base_uri": "https://localhost:8080/"
        },
        "id": "J6KJeNjSh0Ho",
        "outputId": "85bfc8da-3c5d-4c5a-98f4-45bb5633fb05"
      },
      "outputs": [
        {
          "output_type": "stream",
          "name": "stdout",
          "text": [
            "               vars    n       mean        sd  median    trimmed       mad\n",
            "user_id           1 1000 3466878.55 821083.19 3667234 3634453.51 469820.37\n",
            "gender            2 1000       0.50      0.50       0       0.50      0.00\n",
            "age               3 1000      23.23      8.32      23      22.19      8.90\n",
            "occu*             4 1000      23.05      8.67      19      23.61      8.90\n",
            "sign*             5 1000       6.65      3.44       7       6.64      4.45\n",
            "is_indunk         6 1000       0.36      0.48       0       0.32      0.00\n",
            "is_student*       7 1000       1.99      0.85       2       1.99      1.48\n",
            "is_education*     8 1000       1.00      0.00       1       1.00      0.00\n",
            "is_technology*    9 1000       1.00      0.00       1       1.00      0.00\n",
            "wordcount        10 1000    7764.05  20983.66    2498    3843.64   2556.74\n",
            "                 min     max   range  skew kurtosis       se\n",
            "user_id        28451 4325889 4297438 -1.98     3.73 25964.93\n",
            "gender             0       1       1  0.01    -2.00     0.02\n",
            "age               13      48      35  0.95     0.35     0.26\n",
            "occu*              1      37      36 -0.17    -0.91     0.27\n",
            "sign*              1      12      11  0.00    -1.25     0.11\n",
            "is_indunk          0       1       1  0.59    -1.65     0.02\n",
            "is_student*        1       3       2  0.02    -1.62     0.03\n",
            "is_education*      1       1       0   NaN      NaN     0.00\n",
            "is_technology*     1       1       0   NaN      NaN     0.00\n",
            "wordcount        419  365311  364892  9.72   129.26   663.56\n"
          ]
        }
      ],
      "source": [
        "%%R\n",
        "\n",
        "outcomes <- dbGetQuery(db_con, \"SELECT * FROM outcomes\")\n",
        "describe(outcomes)"
      ]
    },
    {
      "cell_type": "markdown",
      "metadata": {
        "id": "IsKs7Ogxh0Ho"
      },
      "source": [
        " Then we merge blog_counts with `outcomes`."
      ]
    },
    {
      "cell_type": "code",
      "execution_count": null,
      "metadata": {
        "autoscroll": false,
        "id": "74Y7jKSKh0Ho"
      },
      "outputs": [],
      "source": [
        "%%R\n",
        "\n",
        "merged <- merge(blog_counts, outcomes, by = 'user_id')"
      ]
    },
    {
      "cell_type": "markdown",
      "source": [
        "Now take a peak at the first few rows (using the nice %R line-magic)."
      ],
      "metadata": {
        "id": "xGRy5ZqAgR1m"
      }
    },
    {
      "cell_type": "code",
      "source": [
        "%R head(merged)"
      ],
      "metadata": {
        "id": "ZC7bCI-ygLsW",
        "outputId": "e4477f3e-1129-4bee-9ee7-41abb3c987fa",
        "colab": {
          "base_uri": "https://localhost:8080/",
          "height": 238
        }
      },
      "execution_count": null,
      "outputs": [
        {
          "output_type": "execute_result",
          "data": {
            "text/plain": [
              "   user_id  n_msgs  gender  age        occu         sign  is_indunk  \\\n",
              "1    28451      13       0   27    Internet     Aquarius          0   \n",
              "2   174357       3       1   23      indUnk     Aquarius          1   \n",
              "3   216833     222       0   24     Student      Scorpio          0   \n",
              "4   317581     619       0   26  Technology      Scorpio          0   \n",
              "5   446275       8       1   17      indUnk        Virgo          1   \n",
              "6   450169      14       0   17      indUnk  Sagittarius          1   \n",
              "\n",
              "  is_student is_education is_technology  wordcount  \n",
              "1          0           NA            NA       1049  \n",
              "2         NA           NA            NA        649  \n",
              "3          1           NA            NA      55959  \n",
              "4          0           NA            NA      69703  \n",
              "5         NA           NA            NA       2202  \n",
              "6         NA           NA            NA        954  "
            ],
            "text/html": [
              "\n",
              "  <div id=\"df-82511cbe-0d66-43ee-aa74-fb41047b1aed\" class=\"colab-df-container\">\n",
              "    <div>\n",
              "<style scoped>\n",
              "    .dataframe tbody tr th:only-of-type {\n",
              "        vertical-align: middle;\n",
              "    }\n",
              "\n",
              "    .dataframe tbody tr th {\n",
              "        vertical-align: top;\n",
              "    }\n",
              "\n",
              "    .dataframe thead th {\n",
              "        text-align: right;\n",
              "    }\n",
              "</style>\n",
              "<table border=\"1\" class=\"dataframe\">\n",
              "  <thead>\n",
              "    <tr style=\"text-align: right;\">\n",
              "      <th></th>\n",
              "      <th>user_id</th>\n",
              "      <th>n_msgs</th>\n",
              "      <th>gender</th>\n",
              "      <th>age</th>\n",
              "      <th>occu</th>\n",
              "      <th>sign</th>\n",
              "      <th>is_indunk</th>\n",
              "      <th>is_student</th>\n",
              "      <th>is_education</th>\n",
              "      <th>is_technology</th>\n",
              "      <th>wordcount</th>\n",
              "    </tr>\n",
              "  </thead>\n",
              "  <tbody>\n",
              "    <tr>\n",
              "      <th>1</th>\n",
              "      <td>28451</td>\n",
              "      <td>13</td>\n",
              "      <td>0</td>\n",
              "      <td>27</td>\n",
              "      <td>Internet</td>\n",
              "      <td>Aquarius</td>\n",
              "      <td>0</td>\n",
              "      <td>0</td>\n",
              "      <td>NA</td>\n",
              "      <td>NA</td>\n",
              "      <td>1049</td>\n",
              "    </tr>\n",
              "    <tr>\n",
              "      <th>2</th>\n",
              "      <td>174357</td>\n",
              "      <td>3</td>\n",
              "      <td>1</td>\n",
              "      <td>23</td>\n",
              "      <td>indUnk</td>\n",
              "      <td>Aquarius</td>\n",
              "      <td>1</td>\n",
              "      <td>NA</td>\n",
              "      <td>NA</td>\n",
              "      <td>NA</td>\n",
              "      <td>649</td>\n",
              "    </tr>\n",
              "    <tr>\n",
              "      <th>3</th>\n",
              "      <td>216833</td>\n",
              "      <td>222</td>\n",
              "      <td>0</td>\n",
              "      <td>24</td>\n",
              "      <td>Student</td>\n",
              "      <td>Scorpio</td>\n",
              "      <td>0</td>\n",
              "      <td>1</td>\n",
              "      <td>NA</td>\n",
              "      <td>NA</td>\n",
              "      <td>55959</td>\n",
              "    </tr>\n",
              "    <tr>\n",
              "      <th>4</th>\n",
              "      <td>317581</td>\n",
              "      <td>619</td>\n",
              "      <td>0</td>\n",
              "      <td>26</td>\n",
              "      <td>Technology</td>\n",
              "      <td>Scorpio</td>\n",
              "      <td>0</td>\n",
              "      <td>0</td>\n",
              "      <td>NA</td>\n",
              "      <td>NA</td>\n",
              "      <td>69703</td>\n",
              "    </tr>\n",
              "    <tr>\n",
              "      <th>5</th>\n",
              "      <td>446275</td>\n",
              "      <td>8</td>\n",
              "      <td>1</td>\n",
              "      <td>17</td>\n",
              "      <td>indUnk</td>\n",
              "      <td>Virgo</td>\n",
              "      <td>1</td>\n",
              "      <td>NA</td>\n",
              "      <td>NA</td>\n",
              "      <td>NA</td>\n",
              "      <td>2202</td>\n",
              "    </tr>\n",
              "    <tr>\n",
              "      <th>6</th>\n",
              "      <td>450169</td>\n",
              "      <td>14</td>\n",
              "      <td>0</td>\n",
              "      <td>17</td>\n",
              "      <td>indUnk</td>\n",
              "      <td>Sagittarius</td>\n",
              "      <td>1</td>\n",
              "      <td>NA</td>\n",
              "      <td>NA</td>\n",
              "      <td>NA</td>\n",
              "      <td>954</td>\n",
              "    </tr>\n",
              "  </tbody>\n",
              "</table>\n",
              "</div>\n",
              "    <div class=\"colab-df-buttons\">\n",
              "\n",
              "  <div class=\"colab-df-container\">\n",
              "    <button class=\"colab-df-convert\" onclick=\"convertToInteractive('df-82511cbe-0d66-43ee-aa74-fb41047b1aed')\"\n",
              "            title=\"Convert this dataframe to an interactive table.\"\n",
              "            style=\"display:none;\">\n",
              "\n",
              "  <svg xmlns=\"http://www.w3.org/2000/svg\" height=\"24px\" viewBox=\"0 -960 960 960\">\n",
              "    <path d=\"M120-120v-720h720v720H120Zm60-500h600v-160H180v160Zm220 220h160v-160H400v160Zm0 220h160v-160H400v160ZM180-400h160v-160H180v160Zm440 0h160v-160H620v160ZM180-180h160v-160H180v160Zm440 0h160v-160H620v160Z\"/>\n",
              "  </svg>\n",
              "    </button>\n",
              "\n",
              "  <style>\n",
              "    .colab-df-container {\n",
              "      display:flex;\n",
              "      gap: 12px;\n",
              "    }\n",
              "\n",
              "    .colab-df-convert {\n",
              "      background-color: #E8F0FE;\n",
              "      border: none;\n",
              "      border-radius: 50%;\n",
              "      cursor: pointer;\n",
              "      display: none;\n",
              "      fill: #1967D2;\n",
              "      height: 32px;\n",
              "      padding: 0 0 0 0;\n",
              "      width: 32px;\n",
              "    }\n",
              "\n",
              "    .colab-df-convert:hover {\n",
              "      background-color: #E2EBFA;\n",
              "      box-shadow: 0px 1px 2px rgba(60, 64, 67, 0.3), 0px 1px 3px 1px rgba(60, 64, 67, 0.15);\n",
              "      fill: #174EA6;\n",
              "    }\n",
              "\n",
              "    .colab-df-buttons div {\n",
              "      margin-bottom: 4px;\n",
              "    }\n",
              "\n",
              "    [theme=dark] .colab-df-convert {\n",
              "      background-color: #3B4455;\n",
              "      fill: #D2E3FC;\n",
              "    }\n",
              "\n",
              "    [theme=dark] .colab-df-convert:hover {\n",
              "      background-color: #434B5C;\n",
              "      box-shadow: 0px 1px 3px 1px rgba(0, 0, 0, 0.15);\n",
              "      filter: drop-shadow(0px 1px 2px rgba(0, 0, 0, 0.3));\n",
              "      fill: #FFFFFF;\n",
              "    }\n",
              "  </style>\n",
              "\n",
              "    <script>\n",
              "      const buttonEl =\n",
              "        document.querySelector('#df-82511cbe-0d66-43ee-aa74-fb41047b1aed button.colab-df-convert');\n",
              "      buttonEl.style.display =\n",
              "        google.colab.kernel.accessAllowed ? 'block' : 'none';\n",
              "\n",
              "      async function convertToInteractive(key) {\n",
              "        const element = document.querySelector('#df-82511cbe-0d66-43ee-aa74-fb41047b1aed');\n",
              "        const dataTable =\n",
              "          await google.colab.kernel.invokeFunction('convertToInteractive',\n",
              "                                                    [key], {});\n",
              "        if (!dataTable) return;\n",
              "\n",
              "        const docLinkHtml = 'Like what you see? Visit the ' +\n",
              "          '<a target=\"_blank\" href=https://colab.research.google.com/notebooks/data_table.ipynb>data table notebook</a>'\n",
              "          + ' to learn more about interactive tables.';\n",
              "        element.innerHTML = '';\n",
              "        dataTable['output_type'] = 'display_data';\n",
              "        await google.colab.output.renderOutput(dataTable, element);\n",
              "        const docLink = document.createElement('div');\n",
              "        docLink.innerHTML = docLinkHtml;\n",
              "        element.appendChild(docLink);\n",
              "      }\n",
              "    </script>\n",
              "  </div>\n",
              "\n",
              "\n",
              "    <div id=\"df-82930784-7163-4f62-8cdb-ea0916e4627b\">\n",
              "      <button class=\"colab-df-quickchart\" onclick=\"quickchart('df-82930784-7163-4f62-8cdb-ea0916e4627b')\"\n",
              "                title=\"Suggest charts\"\n",
              "                style=\"display:none;\">\n",
              "\n",
              "<svg xmlns=\"http://www.w3.org/2000/svg\" height=\"24px\"viewBox=\"0 0 24 24\"\n",
              "     width=\"24px\">\n",
              "    <g>\n",
              "        <path d=\"M19 3H5c-1.1 0-2 .9-2 2v14c0 1.1.9 2 2 2h14c1.1 0 2-.9 2-2V5c0-1.1-.9-2-2-2zM9 17H7v-7h2v7zm4 0h-2V7h2v10zm4 0h-2v-4h2v4z\"/>\n",
              "    </g>\n",
              "</svg>\n",
              "      </button>\n",
              "\n",
              "<style>\n",
              "  .colab-df-quickchart {\n",
              "      --bg-color: #E8F0FE;\n",
              "      --fill-color: #1967D2;\n",
              "      --hover-bg-color: #E2EBFA;\n",
              "      --hover-fill-color: #174EA6;\n",
              "      --disabled-fill-color: #AAA;\n",
              "      --disabled-bg-color: #DDD;\n",
              "  }\n",
              "\n",
              "  [theme=dark] .colab-df-quickchart {\n",
              "      --bg-color: #3B4455;\n",
              "      --fill-color: #D2E3FC;\n",
              "      --hover-bg-color: #434B5C;\n",
              "      --hover-fill-color: #FFFFFF;\n",
              "      --disabled-bg-color: #3B4455;\n",
              "      --disabled-fill-color: #666;\n",
              "  }\n",
              "\n",
              "  .colab-df-quickchart {\n",
              "    background-color: var(--bg-color);\n",
              "    border: none;\n",
              "    border-radius: 50%;\n",
              "    cursor: pointer;\n",
              "    display: none;\n",
              "    fill: var(--fill-color);\n",
              "    height: 32px;\n",
              "    padding: 0;\n",
              "    width: 32px;\n",
              "  }\n",
              "\n",
              "  .colab-df-quickchart:hover {\n",
              "    background-color: var(--hover-bg-color);\n",
              "    box-shadow: 0 1px 2px rgba(60, 64, 67, 0.3), 0 1px 3px 1px rgba(60, 64, 67, 0.15);\n",
              "    fill: var(--button-hover-fill-color);\n",
              "  }\n",
              "\n",
              "  .colab-df-quickchart-complete:disabled,\n",
              "  .colab-df-quickchart-complete:disabled:hover {\n",
              "    background-color: var(--disabled-bg-color);\n",
              "    fill: var(--disabled-fill-color);\n",
              "    box-shadow: none;\n",
              "  }\n",
              "\n",
              "  .colab-df-spinner {\n",
              "    border: 2px solid var(--fill-color);\n",
              "    border-color: transparent;\n",
              "    border-bottom-color: var(--fill-color);\n",
              "    animation:\n",
              "      spin 1s steps(1) infinite;\n",
              "  }\n",
              "\n",
              "  @keyframes spin {\n",
              "    0% {\n",
              "      border-color: transparent;\n",
              "      border-bottom-color: var(--fill-color);\n",
              "      border-left-color: var(--fill-color);\n",
              "    }\n",
              "    20% {\n",
              "      border-color: transparent;\n",
              "      border-left-color: var(--fill-color);\n",
              "      border-top-color: var(--fill-color);\n",
              "    }\n",
              "    30% {\n",
              "      border-color: transparent;\n",
              "      border-left-color: var(--fill-color);\n",
              "      border-top-color: var(--fill-color);\n",
              "      border-right-color: var(--fill-color);\n",
              "    }\n",
              "    40% {\n",
              "      border-color: transparent;\n",
              "      border-right-color: var(--fill-color);\n",
              "      border-top-color: var(--fill-color);\n",
              "    }\n",
              "    60% {\n",
              "      border-color: transparent;\n",
              "      border-right-color: var(--fill-color);\n",
              "    }\n",
              "    80% {\n",
              "      border-color: transparent;\n",
              "      border-right-color: var(--fill-color);\n",
              "      border-bottom-color: var(--fill-color);\n",
              "    }\n",
              "    90% {\n",
              "      border-color: transparent;\n",
              "      border-bottom-color: var(--fill-color);\n",
              "    }\n",
              "  }\n",
              "</style>\n",
              "\n",
              "      <script>\n",
              "        async function quickchart(key) {\n",
              "          const quickchartButtonEl =\n",
              "            document.querySelector('#' + key + ' button');\n",
              "          quickchartButtonEl.disabled = true;  // To prevent multiple clicks.\n",
              "          quickchartButtonEl.classList.add('colab-df-spinner');\n",
              "          try {\n",
              "            const charts = await google.colab.kernel.invokeFunction(\n",
              "                'suggestCharts', [key], {});\n",
              "          } catch (error) {\n",
              "            console.error('Error during call to suggestCharts:', error);\n",
              "          }\n",
              "          quickchartButtonEl.classList.remove('colab-df-spinner');\n",
              "          quickchartButtonEl.classList.add('colab-df-quickchart-complete');\n",
              "        }\n",
              "        (() => {\n",
              "          let quickchartButtonEl =\n",
              "            document.querySelector('#df-82930784-7163-4f62-8cdb-ea0916e4627b button');\n",
              "          quickchartButtonEl.style.display =\n",
              "            google.colab.kernel.accessAllowed ? 'block' : 'none';\n",
              "        })();\n",
              "      </script>\n",
              "    </div>\n",
              "\n",
              "    </div>\n",
              "  </div>\n"
            ],
            "application/vnd.google.colaboratory.intrinsic+json": {
              "type": "dataframe",
              "summary": "{\n  \"name\": \"get_ipython()\",\n  \"rows\": 6,\n  \"fields\": [\n    {\n      \"column\": \"user_id\",\n      \"properties\": {\n        \"dtype\": \"int32\",\n        \"num_unique_values\": 6,\n        \"samples\": [\n          28451,\n          174357,\n          450169\n        ],\n        \"semantic_type\": \"\",\n        \"description\": \"\"\n      }\n    },\n    {\n      \"column\": \"n_msgs\",\n      \"properties\": {\n        \"dtype\": \"int32\",\n        \"num_unique_values\": 6,\n        \"samples\": [\n          13,\n          3,\n          14\n        ],\n        \"semantic_type\": \"\",\n        \"description\": \"\"\n      }\n    },\n    {\n      \"column\": \"gender\",\n      \"properties\": {\n        \"dtype\": \"int32\",\n        \"num_unique_values\": 2,\n        \"samples\": [\n          1,\n          0\n        ],\n        \"semantic_type\": \"\",\n        \"description\": \"\"\n      }\n    },\n    {\n      \"column\": \"age\",\n      \"properties\": {\n        \"dtype\": \"int32\",\n        \"num_unique_values\": 5,\n        \"samples\": [\n          23,\n          17\n        ],\n        \"semantic_type\": \"\",\n        \"description\": \"\"\n      }\n    },\n    {\n      \"column\": \"occu\",\n      \"properties\": {\n        \"dtype\": \"string\",\n        \"num_unique_values\": 4,\n        \"samples\": [\n          \"indUnk\",\n          \"Technology\"\n        ],\n        \"semantic_type\": \"\",\n        \"description\": \"\"\n      }\n    },\n    {\n      \"column\": \"sign\",\n      \"properties\": {\n        \"dtype\": \"string\",\n        \"num_unique_values\": 4,\n        \"samples\": [\n          \"Scorpio\",\n          \"Sagittarius\"\n        ],\n        \"semantic_type\": \"\",\n        \"description\": \"\"\n      }\n    },\n    {\n      \"column\": \"is_indunk\",\n      \"properties\": {\n        \"dtype\": \"int32\",\n        \"num_unique_values\": 2,\n        \"samples\": [\n          1,\n          0\n        ],\n        \"semantic_type\": \"\",\n        \"description\": \"\"\n      }\n    },\n    {\n      \"column\": \"is_student\",\n      \"properties\": {\n        \"dtype\": \"string\",\n        \"num_unique_values\": 3,\n        \"samples\": [\n          \"0\",\n          \"NA\"\n        ],\n        \"semantic_type\": \"\",\n        \"description\": \"\"\n      }\n    },\n    {\n      \"column\": \"is_education\",\n      \"properties\": {\n        \"dtype\": \"category\",\n        \"num_unique_values\": 1,\n        \"samples\": [\n          \"NA\"\n        ],\n        \"semantic_type\": \"\",\n        \"description\": \"\"\n      }\n    },\n    {\n      \"column\": \"is_technology\",\n      \"properties\": {\n        \"dtype\": \"category\",\n        \"num_unique_values\": 1,\n        \"samples\": [\n          \"NA\"\n        ],\n        \"semantic_type\": \"\",\n        \"description\": \"\"\n      }\n    },\n    {\n      \"column\": \"wordcount\",\n      \"properties\": {\n        \"dtype\": \"int32\",\n        \"num_unique_values\": 6,\n        \"samples\": [\n          1049\n        ],\n        \"semantic_type\": \"\",\n        \"description\": \"\"\n      }\n    }\n  ]\n}"
            }
          },
          "metadata": {},
          "execution_count": 39
        }
      ]
    },
    {
      "cell_type": "markdown",
      "metadata": {
        "id": "uHc7QdNvh0Ho"
      },
      "source": [
        "Now we can solve the questions using `dplyr` group by and summarize.\n",
        "\n"
      ]
    },
    {
      "cell_type": "markdown",
      "source": [
        "First, question 4 (age)."
      ],
      "metadata": {
        "id": "pNmFYWZvAmHU"
      }
    },
    {
      "cell_type": "code",
      "source": [
        "%%R\n",
        "\n",
        "merged %>%\n",
        "  group_by(age) %>%\n",
        "  summarise(n_msgs = sum(n_msgs)) %>% arrange(age) %>%\n",
        "  data.frame()"
      ],
      "metadata": {
        "colab": {
          "base_uri": "https://localhost:8080/"
        },
        "id": "NBI6P3NbUEch",
        "outputId": "795edf18-a0f6-4fc1-dbb7-21151ec17384"
      },
      "execution_count": null,
      "outputs": [
        {
          "output_type": "stream",
          "name": "stdout",
          "text": [
            "   age n_msgs\n",
            "1   13    783\n",
            "2   14   1417\n",
            "3   15   2093\n",
            "4   16   2255\n",
            "5   17   3588\n",
            "6   23   2790\n",
            "7   24   4356\n",
            "8   25   3304\n",
            "9   26   2699\n",
            "10  27   2979\n",
            "11  33    711\n",
            "12  34   2301\n",
            "13  35    461\n",
            "14  36    572\n",
            "15  37    229\n",
            "16  38    129\n",
            "17  39     28\n",
            "18  40    166\n",
            "19  41     62\n",
            "20  42     97\n",
            "21  43    225\n",
            "22  44     38\n",
            "23  45    166\n",
            "24  46      8\n",
            "25  47     49\n",
            "26  48    168\n"
          ]
        }
      ]
    },
    {
      "cell_type": "markdown",
      "source": [
        "And question 5 (industry)?"
      ],
      "metadata": {
        "id": "iMbad1DMAkxE"
      }
    },
    {
      "cell_type": "code",
      "source": [
        "%%R\n",
        "\n",
        "merged %>%\n",
        "  group_by(occu) %>%\n",
        "  summarise(n_msgs = sum(n_msgs)) %>%\n",
        "  arrange(desc(occu)) %>%\n",
        "  data.frame()"
      ],
      "metadata": {
        "id": "k1UN6PuEhDSJ",
        "outputId": "aa9ba153-2259-49bf-c889-c2363a1369be",
        "colab": {
          "base_uri": "https://localhost:8080/"
        }
      },
      "execution_count": null,
      "outputs": [
        {
          "output_type": "stream",
          "name": "stdout",
          "text": [
            "                      occu n_msgs\n",
            "1                   indUnk  11548\n",
            "2           Transportation     83\n",
            "3                  Tourism     39\n",
            "4       Telecommunications    125\n",
            "5               Technology   2203\n",
            "6                  Student   6650\n",
            "7        Sports-Recreation    256\n",
            "8                  Science    627\n",
            "9                 Religion    395\n",
            "10              RealEstate     14\n",
            "11              Publishing     63\n",
            "12              Non-Profit    584\n",
            "13       Museums-Libraries      8\n",
            "14                Military     47\n",
            "15               Marketing    187\n",
            "16           Manufacturing    136\n",
            "17 LawEnforcement-Security     91\n",
            "18                     Law    406\n",
            "19                Internet   1599\n",
            "20          HumanResources    159\n",
            "21              Government    661\n",
            "22                 Fashion     24\n",
            "23             Engineering    202\n",
            "24               Education   1717\n",
            "25              Consulting    179\n",
            "26            Construction     35\n",
            "27    Communications-Media   1625\n",
            "28               Chemicals    234\n",
            "29        BusinessServices     92\n",
            "30                 Biotech    118\n",
            "31                 Banking     82\n",
            "32              Automotive      9\n",
            "33                    Arts   1280\n",
            "34            Architecture    123\n",
            "35             Agriculture      9\n",
            "36             Advertising     36\n",
            "37              Accounting     28\n"
          ]
        }
      ]
    },
    {
      "cell_type": "markdown",
      "metadata": {
        "id": "EYn4ubp-h0Ho"
      },
      "source": [
        "#### Question 6-7\n",
        "\n",
        "6. How many blog posts do we have from a given year?\n",
        "7. How many blog posts do we have from a given year ONLY WRITTEN BY TAURUSES?\n",
        "\n",
        "Since these questions involve counting the rows from the `msgs` table, we better do these in SQL than importing the `msgs` table here. For Question 7, we do the join in SQL onto the outcomes table, that's more efficient."
      ]
    },
    {
      "cell_type": "markdown",
      "source": [
        "### HW2 Questions\n"
      ],
      "metadata": {
        "id": "gE4IkVVcUg1s"
      }
    },
    {
      "cell_type": "markdown",
      "source": [
        "#### 1) How often was the word \"the\" mentioned, both in absolute numbers and as a average relative frequency?\n",
        "\n",
        "Total counts:\n",
        "\n",
        "Let's pick only feat table rows containing \"the\" as their feature.\n",
        "\n",
        "\n"
      ],
      "metadata": {
        "id": "IKy1BHLXU0oX"
      }
    },
    {
      "cell_type": "code",
      "execution_count": null,
      "metadata": {
        "autoscroll": false,
        "collapsed": true,
        "id": "NuSwvKLmh0Hp"
      },
      "outputs": [],
      "source": [
        "%%R\n",
        "\n",
        "feat_the <- dbGetQuery(db_con, \"SELECT * FROM `feat$1gram$msgs$user_id` WHERE feat = 'the'\")"
      ]
    },
    {
      "cell_type": "markdown",
      "source": [
        "Sanity-check:"
      ],
      "metadata": {
        "id": "mZMbRMThhlJt"
      }
    },
    {
      "cell_type": "code",
      "source": [
        "%R head(feat_the)"
      ],
      "metadata": {
        "id": "KwS8tc9chiBr",
        "outputId": "a5b061f7-49e3-4199-9134-b9c6c83f958c",
        "colab": {
          "base_uri": "https://localhost:8080/",
          "height": 238
        }
      },
      "execution_count": null,
      "outputs": [
        {
          "output_type": "execute_result",
          "data": {
            "text/plain": [
              "      id  group_id feat  value  group_norm\n",
              "1     20     28451  the     28    0.026692\n",
              "2    478    174357  the      6    0.009245\n",
              "3    699    216833  the   2005    0.035830\n",
              "4   6374    317581  the   1692    0.024274\n",
              "5  12122    446275  the     85    0.038601\n",
              "6  13019    450169  the     27    0.028302"
            ],
            "text/html": [
              "\n",
              "  <div id=\"df-4d516bd5-8dfe-43f8-8230-1c359c7b8d3b\" class=\"colab-df-container\">\n",
              "    <div>\n",
              "<style scoped>\n",
              "    .dataframe tbody tr th:only-of-type {\n",
              "        vertical-align: middle;\n",
              "    }\n",
              "\n",
              "    .dataframe tbody tr th {\n",
              "        vertical-align: top;\n",
              "    }\n",
              "\n",
              "    .dataframe thead th {\n",
              "        text-align: right;\n",
              "    }\n",
              "</style>\n",
              "<table border=\"1\" class=\"dataframe\">\n",
              "  <thead>\n",
              "    <tr style=\"text-align: right;\">\n",
              "      <th></th>\n",
              "      <th>id</th>\n",
              "      <th>group_id</th>\n",
              "      <th>feat</th>\n",
              "      <th>value</th>\n",
              "      <th>group_norm</th>\n",
              "    </tr>\n",
              "  </thead>\n",
              "  <tbody>\n",
              "    <tr>\n",
              "      <th>1</th>\n",
              "      <td>20</td>\n",
              "      <td>28451</td>\n",
              "      <td>the</td>\n",
              "      <td>28</td>\n",
              "      <td>0.026692</td>\n",
              "    </tr>\n",
              "    <tr>\n",
              "      <th>2</th>\n",
              "      <td>478</td>\n",
              "      <td>174357</td>\n",
              "      <td>the</td>\n",
              "      <td>6</td>\n",
              "      <td>0.009245</td>\n",
              "    </tr>\n",
              "    <tr>\n",
              "      <th>3</th>\n",
              "      <td>699</td>\n",
              "      <td>216833</td>\n",
              "      <td>the</td>\n",
              "      <td>2005</td>\n",
              "      <td>0.035830</td>\n",
              "    </tr>\n",
              "    <tr>\n",
              "      <th>4</th>\n",
              "      <td>6374</td>\n",
              "      <td>317581</td>\n",
              "      <td>the</td>\n",
              "      <td>1692</td>\n",
              "      <td>0.024274</td>\n",
              "    </tr>\n",
              "    <tr>\n",
              "      <th>5</th>\n",
              "      <td>12122</td>\n",
              "      <td>446275</td>\n",
              "      <td>the</td>\n",
              "      <td>85</td>\n",
              "      <td>0.038601</td>\n",
              "    </tr>\n",
              "    <tr>\n",
              "      <th>6</th>\n",
              "      <td>13019</td>\n",
              "      <td>450169</td>\n",
              "      <td>the</td>\n",
              "      <td>27</td>\n",
              "      <td>0.028302</td>\n",
              "    </tr>\n",
              "  </tbody>\n",
              "</table>\n",
              "</div>\n",
              "    <div class=\"colab-df-buttons\">\n",
              "\n",
              "  <div class=\"colab-df-container\">\n",
              "    <button class=\"colab-df-convert\" onclick=\"convertToInteractive('df-4d516bd5-8dfe-43f8-8230-1c359c7b8d3b')\"\n",
              "            title=\"Convert this dataframe to an interactive table.\"\n",
              "            style=\"display:none;\">\n",
              "\n",
              "  <svg xmlns=\"http://www.w3.org/2000/svg\" height=\"24px\" viewBox=\"0 -960 960 960\">\n",
              "    <path d=\"M120-120v-720h720v720H120Zm60-500h600v-160H180v160Zm220 220h160v-160H400v160Zm0 220h160v-160H400v160ZM180-400h160v-160H180v160Zm440 0h160v-160H620v160ZM180-180h160v-160H180v160Zm440 0h160v-160H620v160Z\"/>\n",
              "  </svg>\n",
              "    </button>\n",
              "\n",
              "  <style>\n",
              "    .colab-df-container {\n",
              "      display:flex;\n",
              "      gap: 12px;\n",
              "    }\n",
              "\n",
              "    .colab-df-convert {\n",
              "      background-color: #E8F0FE;\n",
              "      border: none;\n",
              "      border-radius: 50%;\n",
              "      cursor: pointer;\n",
              "      display: none;\n",
              "      fill: #1967D2;\n",
              "      height: 32px;\n",
              "      padding: 0 0 0 0;\n",
              "      width: 32px;\n",
              "    }\n",
              "\n",
              "    .colab-df-convert:hover {\n",
              "      background-color: #E2EBFA;\n",
              "      box-shadow: 0px 1px 2px rgba(60, 64, 67, 0.3), 0px 1px 3px 1px rgba(60, 64, 67, 0.15);\n",
              "      fill: #174EA6;\n",
              "    }\n",
              "\n",
              "    .colab-df-buttons div {\n",
              "      margin-bottom: 4px;\n",
              "    }\n",
              "\n",
              "    [theme=dark] .colab-df-convert {\n",
              "      background-color: #3B4455;\n",
              "      fill: #D2E3FC;\n",
              "    }\n",
              "\n",
              "    [theme=dark] .colab-df-convert:hover {\n",
              "      background-color: #434B5C;\n",
              "      box-shadow: 0px 1px 3px 1px rgba(0, 0, 0, 0.15);\n",
              "      filter: drop-shadow(0px 1px 2px rgba(0, 0, 0, 0.3));\n",
              "      fill: #FFFFFF;\n",
              "    }\n",
              "  </style>\n",
              "\n",
              "    <script>\n",
              "      const buttonEl =\n",
              "        document.querySelector('#df-4d516bd5-8dfe-43f8-8230-1c359c7b8d3b button.colab-df-convert');\n",
              "      buttonEl.style.display =\n",
              "        google.colab.kernel.accessAllowed ? 'block' : 'none';\n",
              "\n",
              "      async function convertToInteractive(key) {\n",
              "        const element = document.querySelector('#df-4d516bd5-8dfe-43f8-8230-1c359c7b8d3b');\n",
              "        const dataTable =\n",
              "          await google.colab.kernel.invokeFunction('convertToInteractive',\n",
              "                                                    [key], {});\n",
              "        if (!dataTable) return;\n",
              "\n",
              "        const docLinkHtml = 'Like what you see? Visit the ' +\n",
              "          '<a target=\"_blank\" href=https://colab.research.google.com/notebooks/data_table.ipynb>data table notebook</a>'\n",
              "          + ' to learn more about interactive tables.';\n",
              "        element.innerHTML = '';\n",
              "        dataTable['output_type'] = 'display_data';\n",
              "        await google.colab.output.renderOutput(dataTable, element);\n",
              "        const docLink = document.createElement('div');\n",
              "        docLink.innerHTML = docLinkHtml;\n",
              "        element.appendChild(docLink);\n",
              "      }\n",
              "    </script>\n",
              "  </div>\n",
              "\n",
              "\n",
              "    <div id=\"df-e56f5da0-aac9-4e45-82ea-db3eb999922b\">\n",
              "      <button class=\"colab-df-quickchart\" onclick=\"quickchart('df-e56f5da0-aac9-4e45-82ea-db3eb999922b')\"\n",
              "                title=\"Suggest charts\"\n",
              "                style=\"display:none;\">\n",
              "\n",
              "<svg xmlns=\"http://www.w3.org/2000/svg\" height=\"24px\"viewBox=\"0 0 24 24\"\n",
              "     width=\"24px\">\n",
              "    <g>\n",
              "        <path d=\"M19 3H5c-1.1 0-2 .9-2 2v14c0 1.1.9 2 2 2h14c1.1 0 2-.9 2-2V5c0-1.1-.9-2-2-2zM9 17H7v-7h2v7zm4 0h-2V7h2v10zm4 0h-2v-4h2v4z\"/>\n",
              "    </g>\n",
              "</svg>\n",
              "      </button>\n",
              "\n",
              "<style>\n",
              "  .colab-df-quickchart {\n",
              "      --bg-color: #E8F0FE;\n",
              "      --fill-color: #1967D2;\n",
              "      --hover-bg-color: #E2EBFA;\n",
              "      --hover-fill-color: #174EA6;\n",
              "      --disabled-fill-color: #AAA;\n",
              "      --disabled-bg-color: #DDD;\n",
              "  }\n",
              "\n",
              "  [theme=dark] .colab-df-quickchart {\n",
              "      --bg-color: #3B4455;\n",
              "      --fill-color: #D2E3FC;\n",
              "      --hover-bg-color: #434B5C;\n",
              "      --hover-fill-color: #FFFFFF;\n",
              "      --disabled-bg-color: #3B4455;\n",
              "      --disabled-fill-color: #666;\n",
              "  }\n",
              "\n",
              "  .colab-df-quickchart {\n",
              "    background-color: var(--bg-color);\n",
              "    border: none;\n",
              "    border-radius: 50%;\n",
              "    cursor: pointer;\n",
              "    display: none;\n",
              "    fill: var(--fill-color);\n",
              "    height: 32px;\n",
              "    padding: 0;\n",
              "    width: 32px;\n",
              "  }\n",
              "\n",
              "  .colab-df-quickchart:hover {\n",
              "    background-color: var(--hover-bg-color);\n",
              "    box-shadow: 0 1px 2px rgba(60, 64, 67, 0.3), 0 1px 3px 1px rgba(60, 64, 67, 0.15);\n",
              "    fill: var(--button-hover-fill-color);\n",
              "  }\n",
              "\n",
              "  .colab-df-quickchart-complete:disabled,\n",
              "  .colab-df-quickchart-complete:disabled:hover {\n",
              "    background-color: var(--disabled-bg-color);\n",
              "    fill: var(--disabled-fill-color);\n",
              "    box-shadow: none;\n",
              "  }\n",
              "\n",
              "  .colab-df-spinner {\n",
              "    border: 2px solid var(--fill-color);\n",
              "    border-color: transparent;\n",
              "    border-bottom-color: var(--fill-color);\n",
              "    animation:\n",
              "      spin 1s steps(1) infinite;\n",
              "  }\n",
              "\n",
              "  @keyframes spin {\n",
              "    0% {\n",
              "      border-color: transparent;\n",
              "      border-bottom-color: var(--fill-color);\n",
              "      border-left-color: var(--fill-color);\n",
              "    }\n",
              "    20% {\n",
              "      border-color: transparent;\n",
              "      border-left-color: var(--fill-color);\n",
              "      border-top-color: var(--fill-color);\n",
              "    }\n",
              "    30% {\n",
              "      border-color: transparent;\n",
              "      border-left-color: var(--fill-color);\n",
              "      border-top-color: var(--fill-color);\n",
              "      border-right-color: var(--fill-color);\n",
              "    }\n",
              "    40% {\n",
              "      border-color: transparent;\n",
              "      border-right-color: var(--fill-color);\n",
              "      border-top-color: var(--fill-color);\n",
              "    }\n",
              "    60% {\n",
              "      border-color: transparent;\n",
              "      border-right-color: var(--fill-color);\n",
              "    }\n",
              "    80% {\n",
              "      border-color: transparent;\n",
              "      border-right-color: var(--fill-color);\n",
              "      border-bottom-color: var(--fill-color);\n",
              "    }\n",
              "    90% {\n",
              "      border-color: transparent;\n",
              "      border-bottom-color: var(--fill-color);\n",
              "    }\n",
              "  }\n",
              "</style>\n",
              "\n",
              "      <script>\n",
              "        async function quickchart(key) {\n",
              "          const quickchartButtonEl =\n",
              "            document.querySelector('#' + key + ' button');\n",
              "          quickchartButtonEl.disabled = true;  // To prevent multiple clicks.\n",
              "          quickchartButtonEl.classList.add('colab-df-spinner');\n",
              "          try {\n",
              "            const charts = await google.colab.kernel.invokeFunction(\n",
              "                'suggestCharts', [key], {});\n",
              "          } catch (error) {\n",
              "            console.error('Error during call to suggestCharts:', error);\n",
              "          }\n",
              "          quickchartButtonEl.classList.remove('colab-df-spinner');\n",
              "          quickchartButtonEl.classList.add('colab-df-quickchart-complete');\n",
              "        }\n",
              "        (() => {\n",
              "          let quickchartButtonEl =\n",
              "            document.querySelector('#df-e56f5da0-aac9-4e45-82ea-db3eb999922b button');\n",
              "          quickchartButtonEl.style.display =\n",
              "            google.colab.kernel.accessAllowed ? 'block' : 'none';\n",
              "        })();\n",
              "      </script>\n",
              "    </div>\n",
              "\n",
              "    </div>\n",
              "  </div>\n"
            ],
            "application/vnd.google.colaboratory.intrinsic+json": {
              "type": "dataframe",
              "summary": "{\n  \"name\": \"get_ipython()\",\n  \"rows\": 6,\n  \"fields\": [\n    {\n      \"column\": \"id\",\n      \"properties\": {\n        \"dtype\": \"int32\",\n        \"num_unique_values\": 6,\n        \"samples\": [\n          20,\n          478,\n          13019\n        ],\n        \"semantic_type\": \"\",\n        \"description\": \"\"\n      }\n    },\n    {\n      \"column\": \"group_id\",\n      \"properties\": {\n        \"dtype\": \"int32\",\n        \"num_unique_values\": 6,\n        \"samples\": [\n          28451,\n          174357,\n          450169\n        ],\n        \"semantic_type\": \"\",\n        \"description\": \"\"\n      }\n    },\n    {\n      \"column\": \"feat\",\n      \"properties\": {\n        \"dtype\": \"category\",\n        \"num_unique_values\": 1,\n        \"samples\": [\n          \"the\"\n        ],\n        \"semantic_type\": \"\",\n        \"description\": \"\"\n      }\n    },\n    {\n      \"column\": \"value\",\n      \"properties\": {\n        \"dtype\": \"int32\",\n        \"num_unique_values\": 6,\n        \"samples\": [\n          28\n        ],\n        \"semantic_type\": \"\",\n        \"description\": \"\"\n      }\n    },\n    {\n      \"column\": \"group_norm\",\n      \"properties\": {\n        \"dtype\": \"number\",\n        \"std\": 0.010362095034709,\n        \"min\": 0.009244992295839754,\n        \"max\": 0.03860127157129882,\n        \"num_unique_values\": 6,\n        \"samples\": [\n          0.02669208770257388\n        ],\n        \"semantic_type\": \"\",\n        \"description\": \"\"\n      }\n    }\n  ]\n}"
            }
          },
          "metadata": {},
          "execution_count": 46
        }
      ]
    },
    {
      "cell_type": "markdown",
      "metadata": {
        "id": "q8invhrFh0Hp"
      },
      "source": [
        "Looks good.\n",
        "\n",
        "Let's plot the number of users using \"the\"."
      ]
    },
    {
      "cell_type": "code",
      "execution_count": null,
      "metadata": {
        "autoscroll": false,
        "colab": {
          "base_uri": "https://localhost:8080/",
          "height": 622
        },
        "id": "hVzuh4qnh0Hp",
        "outputId": "78f9ade5-fa70-4ad0-97f2-147651136de5"
      },
      "outputs": [
        {
          "output_type": "display_data",
          "data": {
            "text/plain": [
              "In addition: Warning messages:\n",
              "1: `qplot()` was deprecated in ggplot2 3.4.0.\n",
              "This warning is displayed once every 8 hours.\n",
              "Call `lifecycle::last_lifecycle_warnings()` to see where this warning was\n",
              "generated. \n",
              "2: `legend.margin` must be specified using `margin()`\n",
              "ℹ For the old behavior use `legend.spacing` \n"
            ]
          },
          "metadata": {}
        },
        {
          "output_type": "display_data",
          "data": {
            "image/png": "[encoded data removed]",
            "text/plain": [
              "<IPython.core.display.Image object>"
            ]
          },
          "metadata": {}
        }
      ],
      "source": [
        "%%R\n",
        "\n",
        "qplot(feat_the$value, bins = 1000) +\n",
        "  theme_Publication() +\n",
        "  xlab(\"Frequency of 'the'\") +\n",
        "  ylab(\"People count\")"
      ]
    },
    {
      "cell_type": "markdown",
      "metadata": {
        "id": "gZOpoUh1h0Hy"
      },
      "source": [
        "`qplot()` is simply a shorter version of what `ggplot()` does below."
      ]
    },
    {
      "cell_type": "code",
      "execution_count": null,
      "metadata": {
        "autoscroll": false,
        "colab": {
          "base_uri": "https://localhost:8080/",
          "height": 551
        },
        "id": "K306AIm3h0Hy",
        "outputId": "2125e46e-c87e-4cef-8b32-647260add6e1"
      },
      "outputs": [
        {
          "output_type": "display_data",
          "data": {
            "text/plain": [
              "In addition: Warning message:\n",
              "`legend.margin` must be specified using `margin()`\n",
              "ℹ For the old behavior use `legend.spacing` \n"
            ]
          },
          "metadata": {}
        },
        {
          "output_type": "display_data",
          "data": {
            "image/png": "[encoded data removed]",
            "text/plain": [
              "<IPython.core.display.Image object>"
            ]
          },
          "metadata": {}
        }
      ],
      "source": [
        "%%R\n",
        "\n",
        "ggplot(data = feat_the, aes(x = value)) +\n",
        "  geom_histogram(bins = 1000) +\n",
        "  theme_Publication() +\n",
        "  xlab(\"Frequency of 'the'\") +\n",
        "  ylab(\"People count\")"
      ]
    },
    {
      "cell_type": "markdown",
      "metadata": {
        "id": "RGMeajeth0Hy"
      },
      "source": [
        "Let's put this on a log scale:"
      ]
    },
    {
      "cell_type": "code",
      "execution_count": null,
      "metadata": {
        "autoscroll": false,
        "colab": {
          "base_uri": "https://localhost:8080/",
          "height": 551
        },
        "id": "wqxjeP3dh0Hy",
        "outputId": "62971a75-021b-418c-9566-eba985d0d3d9"
      },
      "outputs": [
        {
          "output_type": "display_data",
          "data": {
            "text/plain": [
              "In addition: Warning message:\n",
              "`legend.margin` must be specified using `margin()`\n",
              "ℹ For the old behavior use `legend.spacing` \n"
            ]
          },
          "metadata": {}
        },
        {
          "output_type": "display_data",
          "data": {
            "image/png": "[encoded data removed]",
            "text/plain": [
              "<IPython.core.display.Image object>"
            ]
          },
          "metadata": {}
        }
      ],
      "source": [
        "%%R\n",
        "\n",
        "qplot(feat_the$value, bins = 1000) +\n",
        "  theme_Publication() +\n",
        "  xlab(\"Frequency of 'the'\") +\n",
        "  ylab(\"People count\") +\n",
        "  scale_x_log10()"
      ]
    },
    {
      "cell_type": "markdown",
      "metadata": {
        "id": "NWcdRgzVh0Hy"
      },
      "source": [
        "Now, descriptives for the counts:"
      ]
    },
    {
      "cell_type": "code",
      "execution_count": null,
      "metadata": {
        "autoscroll": false,
        "colab": {
          "base_uri": "https://localhost:8080/"
        },
        "id": "ekR5OfIfh0Hy",
        "outputId": "69365e37-3415-428c-c7ae-a8f5357a16ed"
      },
      "outputs": [
        {
          "output_type": "stream",
          "name": "stdout",
          "text": [
            "   vars   n   mean     sd median trimmed   mad min   max range  skew kurtosis\n",
            "X1    1 998 265.77 826.86     74  120.99 78.58   1 17513 17512 12.31   214.69\n",
            "      se\n",
            "X1 26.17\n"
          ]
        }
      ],
      "source": [
        "%%R\n",
        "\n",
        "describe(feat_the$value)"
      ]
    },
    {
      "cell_type": "markdown",
      "source": [
        "For the relative count, see the answer below."
      ],
      "metadata": {
        "id": "yZpvJ3I1VDOY"
      }
    },
    {
      "cell_type": "markdown",
      "metadata": {
        "id": "_MFiHA2Sh0Hy"
      },
      "source": [
        "#### 2) Please compute the average relative frequency of \"they\"\n",
        "\n",
        "the dumb way: across all users who have said they\n",
        "the right way: across all users\n",
        "Is the relative percentage difference between these numbers bigger or larger than that for love and backpack? Why is that?\n"
      ]
    },
    {
      "cell_type": "markdown",
      "source": [
        "##### *Dumb way*\n",
        "The dumb way is to get the rows with \"they\" from the feature tables, and then averaging the `group_norm`.\n",
        "\n"
      ],
      "metadata": {
        "id": "2vWRhwjVVLAV"
      }
    },
    {
      "cell_type": "code",
      "execution_count": null,
      "metadata": {
        "autoscroll": false,
        "colab": {
          "base_uri": "https://localhost:8080/"
        },
        "id": "7Ak6nPuqh0Hy",
        "outputId": "2332f3aa-352c-413d-c17d-7f4d3723bb3f"
      },
      "outputs": [
        {
          "output_type": "stream",
          "name": "stdout",
          "text": [
            "[1] 0.003274295\n"
          ]
        }
      ],
      "source": [
        "%%R\n",
        "\n",
        "feat_they <- dbGetQuery(db_con, \"SELECT * FROM feat$1gram$msgs$user_id WHERE feat = 'they'\")\n",
        "mean(feat_they$group_norm)"
      ]
    },
    {
      "cell_type": "markdown",
      "metadata": {
        "id": "SX_jboRSh0Hy"
      },
      "source": [
        "##### *Right way*\n",
        "To solve this the right way, let's first extract rows where `feat` is \"they\". To make sure that they are imported right, we'll describe the feature table using `checkDf2` from our custom R package.\n",
        "\n"
      ]
    },
    {
      "cell_type": "code",
      "execution_count": null,
      "metadata": {
        "autoscroll": false,
        "id": "TcX8fEOJh0Hz"
      },
      "outputs": [],
      "source": [
        "%%R\n",
        "\n",
        "feat_they <- dbGetQuery(db_con, \"SELECT * FROM feat$1gram$msgs$user_id WHERE feat = 'they'\")\n",
        "checkDf2(feat_they)"
      ]
    },
    {
      "cell_type": "markdown",
      "metadata": {
        "id": "u0em00jjh0Hz"
      },
      "source": [
        "Now, the steps we all were waiting for... We'll change our feature table from the long format to wide format using `importFeat` from our R script file."
      ]
    },
    {
      "cell_type": "code",
      "execution_count": null,
      "metadata": {
        "autoscroll": false,
        "id": "VzDj538qh0Hz"
      },
      "outputs": [],
      "source": [
        "%%R\n",
        "\n",
        "feat_they <- importFeat(feat_they)\n",
        "checkDf2(feat_they)"
      ]
    },
    {
      "cell_type": "markdown",
      "metadata": {
        "id": "neQ3P_Qnh0Hz"
      },
      "source": [
        "\n",
        "Note that it only has 887 rows! So we still are missing 113 `group_id`s who did not show up because the table is sparse.\n",
        "\n",
        "Let's also import `outcomes`\n",
        "\n"
      ]
    },
    {
      "cell_type": "code",
      "execution_count": null,
      "metadata": {
        "autoscroll": false,
        "collapsed": true,
        "id": "IkFhDU4Lh0Hz"
      },
      "outputs": [],
      "source": [
        "%%R\n",
        "\n",
        "outcomes <- dbGetQuery(db_con, \"SELECT * FROM outcomes\")"
      ]
    },
    {
      "cell_type": "markdown",
      "metadata": {
        "id": "X2hXiV1Oh0Hz"
      },
      "source": [
        "\n",
        "To get statistics across all 1000 users, we'll do a join with `outcomes` retaining all the user_ids in it - a right join in this case. Note the `all.y = TRUE`.\n",
        "\n"
      ]
    },
    {
      "cell_type": "code",
      "execution_count": null,
      "metadata": {
        "autoscroll": false,
        "id": "9BJI-R78h0Hz"
      },
      "outputs": [],
      "source": [
        "%%R\n",
        "\n",
        "FO <- merge(feat_they, outcomes, by.x = 'group_id', by.y = 'user_id', all.y = TRUE)\n",
        "checkDf2(FO)"
      ]
    },
    {
      "cell_type": "markdown",
      "metadata": {
        "id": "YCvnZ0Dth0Hz"
      },
      "source": [
        "\n",
        "Note the NAs among the \"they\" column. Let's replace those with 0s.\n",
        "\n"
      ]
    },
    {
      "cell_type": "code",
      "execution_count": null,
      "metadata": {
        "autoscroll": false,
        "colab": {
          "base_uri": "https://localhost:8080/"
        },
        "id": "Arpqjc4Hh0Hz",
        "outputId": "50c3f7a8-9a5f-48f1-d6ef-a6aaf70fe097"
      },
      "outputs": [
        {
          "output_type": "stream",
          "name": "stdout",
          "text": [
            "           names NAs numeric   min                max zeroes nonNA unique\n",
            "1       group_id   0       1 28451            4325889      0  1000   1000\n",
            "2           they   0       1     0 0.0198343504795118    113  1000    862\n",
            "3         gender   0       1     0                  1    502  1000      2\n",
            "4            age   0       1    13                 48      0  1000     26\n",
            "5           occu   0       0                                             \n",
            "6           sign   0       0                                             \n",
            "7      is_indunk   0       1     0                  1    642  1000      2\n",
            "8     is_student   0       0                                             \n",
            "9   is_education   0       0                                             \n",
            "10 is_technology   0       0                                             \n",
            "11     wordcount   0       1   419             365311      0  1000    917\n"
          ]
        }
      ],
      "source": [
        "%%R\n",
        "\n",
        "# now let's add 0 they frequncies that are NA\n",
        "FO[is.na(FO$they), \"they\"] <- 0\n",
        "checkDf2(FO)"
      ]
    },
    {
      "cell_type": "markdown",
      "metadata": {
        "id": "s5XQDoiSh0Hz"
      },
      "source": [
        "\n",
        "NOW we have a complete table!\n",
        "\n",
        "Now that we have merged it, it's an easy summary using `tidyverse`.\n",
        "\n"
      ]
    },
    {
      "cell_type": "code",
      "execution_count": null,
      "metadata": {
        "autoscroll": false,
        "colab": {
          "base_uri": "https://localhost:8080/"
        },
        "id": "utgs_663h0Hz",
        "outputId": "231d4226-143d-400e-c85a-ff915c05a14f"
      },
      "outputs": [
        {
          "output_type": "stream",
          "name": "stdout",
          "text": [
            "  mean(they)\n",
            "1  0.0029043\n"
          ]
        }
      ],
      "source": [
        "%%R\n",
        "\n",
        "FO %>%\n",
        "  summarise(mean(they))"
      ]
    },
    {
      "cell_type": "markdown",
      "metadata": {
        "id": "XU21OgJoh0H0"
      },
      "source": [
        "#### 3) Averaging the correct way, how often was \"of\", as an average relative frequency across users mentioned by women? and by men?\n",
        "\n",
        "As in the above question, get the rows from feature table that have `of`.\n",
        "\n"
      ]
    },
    {
      "cell_type": "code",
      "execution_count": null,
      "metadata": {
        "autoscroll": false,
        "id": "J58tQKBLh0H0"
      },
      "outputs": [],
      "source": [
        "%%R\n",
        "\n",
        "feat_of <- dbGetQuery(db_con, \"SELECT * FROM feat$1gram$msgs$user_id WHERE feat = 'of'\")\n",
        "checkDf2(feat_of)"
      ]
    },
    {
      "cell_type": "markdown",
      "metadata": {
        "id": "ffSefJ-ih0H0"
      },
      "source": [
        "\n",
        "And convert the feature table into wide format.\n",
        "\n"
      ]
    },
    {
      "cell_type": "code",
      "execution_count": null,
      "metadata": {
        "autoscroll": false,
        "colab": {
          "base_uri": "https://localhost:8080/"
        },
        "id": "Xj5mu16-h0H0",
        "outputId": "f207a5c7-32df-4eb1-d948-cff4f4df14d2"
      },
      "outputs": [
        {
          "output_type": "stream",
          "name": "stdout",
          "text": [
            "     names NAs numeric                 min                max zeroes nonNA\n",
            "1 group_id   0       1               28451            4325889      0   999\n",
            "2       of   0       1 0.00067598017124831 0.0407673860911271      0   999\n",
            "  unique\n",
            "1    999\n",
            "2    974\n"
          ]
        }
      ],
      "source": [
        "%%R\n",
        "\n",
        "feat_of <- importFeat(feat_of)\n",
        "checkDf2(feat_of)"
      ]
    },
    {
      "cell_type": "markdown",
      "metadata": {
        "id": "-YbQQfj2h0H0"
      },
      "source": [
        "Let's also read the `outcomes` table.\n",
        "\n"
      ]
    },
    {
      "cell_type": "code",
      "execution_count": null,
      "metadata": {
        "autoscroll": false,
        "collapsed": true,
        "id": "PgxeVK4vh0H0"
      },
      "outputs": [],
      "source": [
        "%%R\n",
        "\n",
        "outcomes <- dbGetQuery(db_con, \"SELECT * FROM outcomes\")"
      ]
    },
    {
      "cell_type": "markdown",
      "metadata": {
        "id": "R2MHxWhCh0H0"
      },
      "source": [
        "\n",
        "Similar to above question, let's merge the two tables to include all users.\n",
        "\n"
      ]
    },
    {
      "cell_type": "code",
      "execution_count": null,
      "metadata": {
        "autoscroll": false,
        "id": "WdU6uY-9h0H0"
      },
      "outputs": [],
      "source": [
        "%%R\n",
        "\n",
        "FO <- merge(feat_of, outcomes, by.x = 'group_id', by.y = 'user_id', all.y = TRUE)\n",
        "checkDf2(FO)"
      ]
    },
    {
      "cell_type": "markdown",
      "source": [
        "Note in the output that there was one NA for of, so let's set it to 0."
      ],
      "metadata": {
        "id": "BAAEvz5NjXkn"
      }
    },
    {
      "cell_type": "code",
      "source": [
        "%%R\n",
        "\n",
        "#setting NA to 0\n",
        "FO[is.na(FO$of), \"of\"] <- 0\n",
        "checkDf2(FO)"
      ],
      "metadata": {
        "id": "2j_kT4nYjV89",
        "outputId": "519c0085-de34-460b-e422-ac68530afbe3",
        "colab": {
          "base_uri": "https://localhost:8080/"
        }
      },
      "execution_count": null,
      "outputs": [
        {
          "output_type": "stream",
          "name": "stdout",
          "text": [
            "           names NAs numeric   min                max zeroes nonNA unique\n",
            "1       group_id   0       1 28451            4325889      0  1000   1000\n",
            "2             of   0       1     0 0.0407673860911271      1  1000    975\n",
            "3         gender   0       1     0                  1    502  1000      2\n",
            "4            age   0       1    13                 48      0  1000     26\n",
            "5           occu   0       0                                             \n",
            "6           sign   0       0                                             \n",
            "7      is_indunk   0       1     0                  1    642  1000      2\n",
            "8     is_student   0       0                                             \n",
            "9   is_education   0       0                                             \n",
            "10 is_technology   0       0                                             \n",
            "11     wordcount   0       1   419             365311      0  1000    917\n"
          ]
        }
      ]
    },
    {
      "cell_type": "markdown",
      "metadata": {
        "id": "VnKVZOF7h0H0"
      },
      "source": [
        "With vanilla R, we can get the results using"
      ]
    },
    {
      "cell_type": "code",
      "execution_count": null,
      "metadata": {
        "autoscroll": false,
        "colab": {
          "base_uri": "https://localhost:8080/"
        },
        "id": "oSQc_t0Mh0H0",
        "outputId": "292dd4ad-1afd-41c6-e2d7-0910cc83998c"
      },
      "outputs": [
        {
          "output_type": "stream",
          "name": "stdout",
          "text": [
            "[1] 0.01287938\n"
          ]
        }
      ],
      "source": [
        "%%R\n",
        "mean(FO[FO$gender == 1,\"of\"])"
      ]
    },
    {
      "cell_type": "code",
      "source": [
        "%%R\n",
        "mean(FO[FO$gender == 0,\"of\"])"
      ],
      "metadata": {
        "colab": {
          "base_uri": "https://localhost:8080/"
        },
        "id": "WE8PD7qBViRC",
        "outputId": "3a6d8e03-90be-4aab-b046-390c945dac30"
      },
      "execution_count": null,
      "outputs": [
        {
          "output_type": "stream",
          "name": "stdout",
          "text": [
            "[1] 0.01548485\n"
          ]
        }
      ]
    },
    {
      "cell_type": "markdown",
      "metadata": {
        "id": "rKNXlcaph0H0"
      },
      "source": [
        "\n",
        "But it's much more elegant with `tidyverse`.\n",
        "\n"
      ]
    },
    {
      "cell_type": "code",
      "execution_count": null,
      "metadata": {
        "autoscroll": false,
        "colab": {
          "base_uri": "https://localhost:8080/"
        },
        "id": "bo-XFmmJh0H0",
        "outputId": "ec9976e1-d1d6-4665-ac80-1231e101b9b9"
      },
      "outputs": [
        {
          "output_type": "stream",
          "name": "stdout",
          "text": [
            "  gender        avg\n",
            "1      0 0.01548485\n",
            "2      1 0.01287938\n"
          ]
        }
      ],
      "source": [
        "%%R\n",
        "\n",
        "FO %>%\n",
        "  group_by(gender) %>%\n",
        "  summarize(avg = mean(of)) %>%\n",
        "  data.frame()"
      ]
    },
    {
      "cell_type": "markdown",
      "source": [
        "Or even more by using the line-magic!"
      ],
      "metadata": {
        "id": "6URxwTDpjvft"
      }
    },
    {
      "cell_type": "markdown",
      "metadata": {
        "id": "csC9gJxAh0H0"
      },
      "source": [
        "#### Questions 4-5\n",
        "\n",
        "4. What are top 100 most frequent words across all users?\n",
        "5. Do women use more distinct tokens (types) than men?\n",
        "\n",
        "Since both the above questions involve `COUNT()` over large tables, it's better to solve them over SQL than bring them into R.\n"
      ]
    },
    {
      "cell_type": "markdown",
      "source": [
        "#### Questions 7-8\n",
        "\n",
        "7. Averaging the dumb way (across those who use the word) in terms of relative frequency, which zodiac sign uses the f-word the most?\n",
        "8. Averaging the dumb way (across those who use the feature) in terms of relative frequency, which age uses \"I\" the most? Are you surprised?\n",
        "\n",
        "Both the questions are similar, and also involve joining large tables. We'll solve only 8 below. Make sure to look for the lower case feature.\n",
        "\n",
        "We'll merge the `outcomes` and `msgs` tables below!!\n",
        "\n"
      ],
      "metadata": {
        "id": "ZkI4LmrYVohn"
      }
    },
    {
      "cell_type": "code",
      "execution_count": null,
      "metadata": {
        "autoscroll": false,
        "id": "RclBq3qSh0H0"
      },
      "outputs": [],
      "source": [
        "%%R\n",
        "\n",
        "feat_i <- dbGetQuery(db_con, \"SELECT * FROM feat$1gram$msgs$user_id where feat = 'i'\")\n",
        "feat_i <- importFeat(feat_i)\n",
        "checkDf2(feat_i)"
      ]
    },
    {
      "cell_type": "markdown",
      "metadata": {
        "id": "WRRYwHkSh0H1"
      },
      "source": [
        "Definitely not a good idea to do a `importFeat()` over the entire feature table. Guess we'll make do with long format this time.\n",
        "\n"
      ]
    },
    {
      "cell_type": "code",
      "execution_count": null,
      "metadata": {
        "autoscroll": false,
        "id": "SmRWW055h0H1"
      },
      "outputs": [],
      "source": [
        "%%R\n",
        "\n",
        "outcomes <- dbGetQuery(db_con, \"SELECT * FROM outcomes\")\n",
        "FO <- merge(feat_i, outcomes, by.x = 'group_id', by.y = 'user_id')\n",
        "checkDf2(FO)"
      ]
    },
    {
      "cell_type": "markdown",
      "metadata": {
        "id": "ztf1xoGYh0H1"
      },
      "source": [
        "Then follow it with filter on the feature \"I\", followed with a group by over the age, and summarize."
      ]
    },
    {
      "cell_type": "code",
      "execution_count": null,
      "metadata": {
        "autoscroll": false,
        "id": "G8jZeuVNh0H1",
        "colab": {
          "base_uri": "https://localhost:8080/"
        },
        "outputId": "b066a60b-8073-4a0f-e9c5-d3d88b54eaea"
      },
      "outputs": [
        {
          "output_type": "stream",
          "name": "stdout",
          "text": [
            "   age      avg_i\n",
            "1   39 0.03860288\n",
            "2   17 0.03519592\n",
            "3   15 0.03447915\n",
            "4   16 0.03417368\n",
            "5   34 0.03294492\n",
            "6   23 0.03223567\n",
            "7   14 0.03199712\n",
            "8   13 0.03122030\n",
            "9   47 0.03042196\n",
            "10  46 0.02938090\n",
            "11  33 0.02932894\n",
            "12  24 0.02901421\n",
            "13  27 0.02890808\n",
            "14  26 0.02871526\n",
            "15  25 0.02806317\n",
            "16  35 0.02762723\n",
            "17  38 0.02678365\n",
            "18  42 0.02482612\n",
            "19  40 0.02396859\n",
            "20  41 0.02315208\n",
            "21  45 0.02305329\n",
            "22  36 0.02288434\n",
            "23  44 0.02225048\n",
            "24  37 0.01947021\n",
            "25  43 0.01930372\n",
            "26  48 0.01640089\n"
          ]
        }
      ],
      "source": [
        "%%R\n",
        "\n",
        "FO %>%\n",
        "  group_by(age) %>%\n",
        "  summarise(avg_i = mean(i)) %>%\n",
        "  arrange(desc(avg_i)) %>%\n",
        "  data.frame()"
      ]
    },
    {
      "cell_type": "markdown",
      "metadata": {
        "id": "hGnjJJ8Rh0H1"
      },
      "source": [
        "\n",
        "It's very easy to mod the above code so that you get \"the right\" average for I for the age groups -- can you do that here? It's just an attention check based on the code segments we just went thruogh.\n",
        "\n",
        "\n",
        "#### 9. Double points: Which star sign has the biggest vocabulary, on average?\n",
        "Let's do this one properly. First, we need the vocab size for every person. Then, we need to average them by star sign. Also include in your output how many people we have per star sign, how many tokens they have on average, and the percentage of women in that group. Looking at your output, what's the best explanation for the apparent vocabulary size of the star signs? Is it their zodiac sign, or something else?\n",
        "\n",
        "We would get the person level table into R (with counts and distincts -- that's best done in SQL), and then do the star sign aggregation here. See HW2 solutions.\n"
      ]
    },
    {
      "cell_type": "markdown",
      "source": [
        "### HW3 Questions\n"
      ],
      "metadata": {
        "id": "ur6v-NRpVu43"
      }
    },
    {
      "cell_type": "markdown",
      "source": [
        "#### 1) Now please extract all of LIWC2015 for the users of the blog sample (extract = add the dictionary feature table).\n",
        "\n",
        "To extract the LIWC2015 features, use this DLATK command!\n"
      ],
      "metadata": {
        "id": "nzcUnwcuWhDD"
      }
    },
    {
      "cell_type": "code",
      "execution_count": null,
      "metadata": {
        "id": "XLZwOErEXKTC"
      },
      "outputs": [],
      "source": [
        "database = \"dla_tutorial\"\n",
        "msgs_table = 'msgs'"
      ]
    },
    {
      "cell_type": "code",
      "execution_count": null,
      "metadata": {
        "id": "ZQhZYNMbXKTD"
      },
      "outputs": [],
      "source": [
        "!dlatkInterface.py \\\n",
        "    --corpdb {database} \\\n",
        "    --corptable {msgs_table} \\\n",
        "    --correl_field user_id \\\n",
        "    --add_lex_table -l LIWC2015"
      ]
    },
    {
      "cell_type": "markdown",
      "source": [
        "#### 2) Which gender has a higher relative frequency of MONEY words? (female = 1). Please do it the right way\n",
        "\n",
        "Let's get the required feature table and the `blog_outcomes` first.\n",
        "\n"
      ],
      "metadata": {
        "id": "_fcDQaYlWid8"
      }
    },
    {
      "cell_type": "code",
      "execution_count": null,
      "metadata": {
        "autoscroll": false,
        "id": "oeXUj0Uyh0H1",
        "colab": {
          "base_uri": "https://localhost:8080/"
        },
        "outputId": "bd7c1ad0-04f1-4883-98b9-12730e05d44f"
      },
      "outputs": [
        {
          "output_type": "stream",
          "name": "stdout",
          "text": [
            "           names NAs numeric   min     max zeroes nonNA unique\n",
            "1        user_id   0       1 28451 4325889      0  1000   1000\n",
            "2         gender   0       1     0       1    502  1000      2\n",
            "3            age   0       1    13      48      0  1000     26\n",
            "4           occu   0       0                                  \n",
            "5           sign   0       0                                  \n",
            "6      is_indunk   0       1     0       1    642  1000      2\n",
            "7     is_student   0       0                                  \n",
            "8   is_education   0       0                                  \n",
            "9  is_technology   0       0                                  \n",
            "10     wordcount   0       1   419  365311      0  1000    917\n"
          ]
        }
      ],
      "source": [
        "%%R\n",
        "\n",
        "feat_liwc <- dbGetQuery(db_con, \"SELECT * FROM feat$cat_LIWC2015$msgs$user_id$1gra\")\n",
        "checkDf2(feat_liwc)\n",
        "\n",
        "outcomes <- dbGetQuery(db_con, \"SELECT * FROM outcomes\")\n",
        "checkDf2(outcomes)"
      ]
    },
    {
      "cell_type": "markdown",
      "metadata": {
        "id": "8GhhpYwDh0H1"
      },
      "source": [
        "\n",
        "To solve this, we convert the feature table in long format to wide (the right way) and then merge it with the outcomes.\n",
        "\n"
      ]
    },
    {
      "cell_type": "code",
      "execution_count": null,
      "metadata": {
        "autoscroll": false,
        "id": "PAPbSHqGh0H1"
      },
      "outputs": [],
      "source": [
        "%%R\n",
        "\n",
        "feat_liwc <- importFeat(feat_liwc)\n",
        "checkDf2(feat_liwc)\n",
        "\n",
        "FO <- merge(feat_liwc, outcomes, by.x = \"group_id\", by.y = \"user_id\")\n",
        "checkDf2(FO)"
      ]
    },
    {
      "cell_type": "markdown",
      "metadata": {
        "id": "voOEvpQ3h0H1"
      },
      "source": [
        "Note that you don't need to specify `all.y = TRUE` anymore, because feat table has an intercept feature, and so you get all group_id's. The importFeat() function already sets 0's for all feats for all group_id that were in the table.\n",
        "\n",
        "\n",
        "Now, we just have to get the averages per group from the merged table.\n",
        "\n"
      ]
    },
    {
      "cell_type": "code",
      "execution_count": null,
      "metadata": {
        "autoscroll": false,
        "id": "LFhLk0Sjh0H1",
        "colab": {
          "base_uri": "https://localhost:8080/"
        },
        "outputId": "6427d3bd-ad65-4a8d-801b-bb1137cd2495"
      },
      "outputs": [
        {
          "output_type": "stream",
          "name": "stdout",
          "text": [
            "[1] 0.004136605\n"
          ]
        }
      ],
      "source": [
        "%%R\n",
        "\n",
        "mean(FO[FO$gender == 1,\"MONEY\"])"
      ]
    },
    {
      "cell_type": "code",
      "source": [
        "%%R\n",
        "\n",
        "mean(FO[FO$gender == 0,\"MONEY\"])"
      ],
      "metadata": {
        "colab": {
          "base_uri": "https://localhost:8080/"
        },
        "id": "GIjqPrHoycgJ",
        "outputId": "4d52f533-63a8-4f44-b0df-890fad9fbace"
      },
      "execution_count": null,
      "outputs": [
        {
          "output_type": "stream",
          "name": "stdout",
          "text": [
            "[1] 0.005389312\n"
          ]
        }
      ]
    },
    {
      "cell_type": "markdown",
      "metadata": {
        "id": "0mrCvhG5h0H1"
      },
      "source": [
        "We can do the same using `tidyverse` as shown below.\n",
        "\n"
      ]
    },
    {
      "cell_type": "code",
      "execution_count": null,
      "metadata": {
        "autoscroll": false,
        "id": "4yKv2qKbh0H1",
        "colab": {
          "base_uri": "https://localhost:8080/"
        },
        "outputId": "7cd35254-7edd-4d0b-f038-76bd2974511d"
      },
      "outputs": [
        {
          "output_type": "stream",
          "name": "stdout",
          "text": [
            "  gender mean.MONEY.\n",
            "1      0 0.005389312\n",
            "2      1 0.004136605\n"
          ]
        }
      ],
      "source": [
        "%%R\n",
        "\n",
        "FO %>%\n",
        "  group_by(gender) %>%\n",
        "  summarize(mean(MONEY)) %>%\n",
        "  data.frame()"
      ]
    },
    {
      "cell_type": "markdown",
      "metadata": {
        "id": "TcmTMl6vh0H1"
      },
      "source": [
        "#### 3) Get the 10 occupations that have the highest proportion of POSEMO to NEGEMO langauge\n",
        "\n",
        "From the homework we already know that we can do this in 2 ways. Let's stick to the one where we extract occupation level features and then calculate the proportion. So, the first thing is to extract occupation level features. (`--correl occu`)\n",
        "\n"
      ]
    },
    {
      "cell_type": "markdown",
      "source": [
        "Step 1 of this is to create a merged messages and outcomes (specifically occupations) table."
      ],
      "metadata": {
        "id": "8Rxo0vjFXkqU"
      }
    },
    {
      "cell_type": "code",
      "execution_count": null,
      "metadata": {
        "outputId": "e18e8901-a10a-4ed9-b16c-b7f53ea7c9a3",
        "colab": {
          "base_uri": "https://localhost:8080/",
          "height": 34
        },
        "id": "zdFyURr1XkqV"
      },
      "outputs": [
        {
          "output_type": "display_data",
          "data": {
            "text/plain": [
              "Running query in 'sqlite:///sqlite_data/dla_tutorial.db?charset=utf8mb4'"
            ],
            "text/html": [
              "<span style=\"None\">Running query in &#x27;sqlite:///sqlite_data/dla_tutorial.db?charset=utf8mb4&#x27;</span>"
            ]
          },
          "metadata": {}
        },
        {
          "output_type": "execute_result",
          "data": {
            "text/plain": [
              "++\n",
              "||\n",
              "++\n",
              "++"
            ],
            "text/html": [
              "<table>\n",
              "    <thead>\n",
              "        <tr>\n",
              "        </tr>\n",
              "    </thead>\n",
              "    <tbody>\n",
              "    </tbody>\n",
              "</table>"
            ]
          },
          "metadata": {},
          "execution_count": 175
        }
      ],
      "source": [
        "%%sql\n",
        "\n",
        "DROP TABLE IF EXISTS merged_msgs_with_occu;\n",
        "\n",
        "CREATE TABLE merged_msgs_with_occu AS SELECT msgs.*, outcomes.occu\n",
        "                                      FROM msgs, outcomes\n",
        "                                      WHERE msgs.user_id = outcomes.user_id;\n",
        "\n",
        "CREATE INDEX idx_merged_msgs_with_occu_occu ON merged_msgs_with_occu (occu);"
      ]
    },
    {
      "cell_type": "markdown",
      "source": [
        "Now extract occupation-level features!"
      ],
      "metadata": {
        "id": "X4zxhuZPXkqV"
      }
    },
    {
      "cell_type": "code",
      "execution_count": null,
      "metadata": {
        "id": "CklQWl9VXkqV"
      },
      "outputs": [],
      "source": [
        "database = \"dla_tutorial\"\n",
        "msgs_table = 'merged_msgs_with_occu'"
      ]
    },
    {
      "cell_type": "code",
      "execution_count": null,
      "metadata": {
        "id": "v-h8PWPtXkqW"
      },
      "outputs": [],
      "source": [
        "!dlatkInterface.py \\\n",
        "    --corpdb {database} \\\n",
        "    --corptable {msgs_table} \\\n",
        "    --correl_field occu \\\n",
        "    --add_lex_table -l mini_LIWC2015"
      ]
    },
    {
      "cell_type": "markdown",
      "source": [
        "Now that we have done that, let's import the table and then convert it into wide format as in above question."
      ],
      "metadata": {
        "id": "NtisrQRCW_lN"
      }
    },
    {
      "cell_type": "code",
      "execution_count": null,
      "metadata": {
        "autoscroll": false,
        "id": "AcvJ8Af_h0H1"
      },
      "outputs": [],
      "source": [
        "%%R\n",
        "\n",
        "feat_occu_liwc <- dbGetQuery(\n",
        "  db_con,\n",
        "  \"SELECT * FROM feat$cat_mini_LIWC2015$merged_msgs_with_occu$occu$1gra\")\n",
        "checkDf2(feat_occu_liwc)\n",
        "\n",
        "feat_occu_liwc <- importFeat(feat_occu_liwc)\n",
        "checkDf2(feat_occu_liwc)"
      ]
    },
    {
      "cell_type": "markdown",
      "metadata": {
        "id": "3UuUYsCLh0H2"
      },
      "source": [
        "\n",
        "Since the table is in the wide format, it's easy to get the proportion using the command below.\n",
        "\n"
      ]
    },
    {
      "cell_type": "code",
      "execution_count": null,
      "metadata": {
        "autoscroll": false,
        "id": "RkmcsYMTh0H2",
        "colab": {
          "base_uri": "https://localhost:8080/",
          "height": 568
        },
        "outputId": "73834862-ad39-4301-b0fb-5dd94d3997b7"
      },
      "outputs": [
        {
          "output_type": "stream",
          "name": "stdout",
          "text": [
            "`stat_bin()` using `bins = 30`. Pick better value with `binwidth`.\n"
          ]
        },
        {
          "output_type": "display_data",
          "data": {
            "text/plain": [
              "In addition: Warning message:\n",
              "`legend.margin` must be specified using `margin()`\n",
              "ℹ For the old behavior use `legend.spacing` \n"
            ]
          },
          "metadata": {}
        },
        {
          "output_type": "display_data",
          "data": {
            "image/png": "[encoded data removed]",
            "text/plain": [
              "<IPython.core.display.Image object>"
            ]
          },
          "metadata": {}
        }
      ],
      "source": [
        "%%R\n",
        "\n",
        "feat_occu_liwc$posneg <- feat_occu_liwc$POSEMO / feat_occu_liwc$NEGEMO\n",
        "qplot(feat_occu_liwc$posneg) +\n",
        "  theme_Publication()"
      ]
    },
    {
      "cell_type": "markdown",
      "metadata": {
        "id": "pOwWLYFEh0H2"
      },
      "source": [
        "Finally, let's get the top ones.\n",
        "\n"
      ]
    },
    {
      "cell_type": "code",
      "execution_count": null,
      "metadata": {
        "autoscroll": false,
        "id": "Fyj3gAJGh0H2"
      },
      "outputs": [],
      "source": [
        "%R feat_occu_liwc %>% arrange(desc(posneg))"
      ]
    },
    {
      "cell_type": "markdown",
      "source": [
        "SO MUCH EASIER THAN SQL!!"
      ],
      "metadata": {
        "id": "phL8QOixYFw8"
      }
    },
    {
      "cell_type": "markdown",
      "metadata": {
        "id": "y86ztBCwh0H2"
      },
      "source": [
        "#### 4) Please pull out 10 random blogs that contain MONEY words."
      ]
    },
    {
      "cell_type": "markdown",
      "source": [
        "That's for SQL! Let's not pull the message table into R.x"
      ],
      "metadata": {
        "id": "lQZ2dqC3YYlR"
      }
    },
    {
      "cell_type": "markdown",
      "source": [
        "#### 8) Which are the 10 most frequent words within the LIWC BIO dictionary? Which fraction of total dictionary occurrences do the sum of the occurrences of these 10 words account for?\n",
        "\n",
        "To solve this, we'll get the word counts from SQL and also the BIO dictionary. Let's get those first."
      ],
      "metadata": {
        "id": "ME9MF7naYT_Z"
      }
    },
    {
      "cell_type": "code",
      "execution_count": null,
      "metadata": {
        "autoscroll": false,
        "collapsed": true,
        "id": "HvmPNhkYh0H2",
        "colab": {
          "base_uri": "https://localhost:8080/"
        },
        "outputId": "34665818-13b1-4723-bab8-ac70e913399a"
      },
      "outputs": [
        {
          "output_type": "stream",
          "name": "stdout",
          "text": [
            "  names NAs numeric min    max zeroes  nonNA unique\n",
            "1  feat   0       0                                \n",
            "2 count   0       1   1 365156      0 137687   1459\n"
          ]
        }
      ],
      "source": [
        "%%R\n",
        "\n",
        "wc <- dbGetQuery(db_con, \"SELECT feat, SUM(value) AS count FROM feat$1gram$msgs$user_id GROUP BY feat\")\n",
        "checkDf2(wc)"
      ]
    },
    {
      "cell_type": "code",
      "source": [
        "%%R\n",
        "\n",
        "bio <- dbGetQuery(db_con, \"SELECT * FROM dlatk_lexica.LIWC2015 WHERE category = 'BIO'\")"
      ],
      "metadata": {
        "id": "Xve6ZkQRyvb9"
      },
      "execution_count": null,
      "outputs": []
    },
    {
      "cell_type": "markdown",
      "metadata": {
        "id": "8YgB62owh0H2"
      },
      "source": [
        "Then we merge it with the `BIO` dictionary to get the top 10 words (using savvy piping `%>% head() %>% data.frame()` )."
      ]
    },
    {
      "cell_type": "code",
      "execution_count": null,
      "metadata": {
        "autoscroll": false,
        "id": "sRRbLhegh0H2",
        "colab": {
          "base_uri": "https://localhost:8080/"
        },
        "outputId": "bc072475-4b29-482b-a8ad-6880d33dfa0a"
      },
      "outputs": [
        {
          "output_type": "stream",
          "name": "stdout",
          "text": [
            "    term   id category weight count\n",
            "1   love 5491      BIO      1  9346\n",
            "2   life 5480      BIO      1  8732\n",
            "3   head 5404      BIO      1  2755\n",
            "4   live 5485      BIO      1  2591\n",
            "5  heart 5417      BIO      1  2502\n",
            "6  sleep 5686      BIO      1  2205\n",
            "7   face 5334      BIO      1  2015\n",
            "8  tired 5769      BIO      1  1858\n",
            "9   hand 5400      BIO      1  1741\n",
            "10  fuck 5369      BIO      1  1690\n"
          ]
        }
      ],
      "source": [
        "%%R\n",
        "\n",
        "BW <- merge(bio, wc, by.x = 'term', by.y = 'feat')\n",
        "BW %>%\n",
        "  arrange(desc(count)) %>%\n",
        "  head(10) %>% data.frame()"
      ]
    },
    {
      "cell_type": "markdown",
      "metadata": {
        "id": "vxu94atch0H2"
      },
      "source": [
        "To get relative frequencies:\n",
        "\n"
      ]
    },
    {
      "cell_type": "code",
      "execution_count": null,
      "metadata": {
        "autoscroll": false,
        "id": "hhKDrSfrh0H2",
        "colab": {
          "base_uri": "https://localhost:8080/"
        },
        "outputId": "376f93b8-6351-44d3-cae0-ffe4374d332b"
      },
      "outputs": [
        {
          "output_type": "stream",
          "name": "stdout",
          "text": [
            "    term   id category weight count count_normalized\n",
            "1   love 5491      BIO      1  9346       0.11307925\n",
            "2   life 5480      BIO      1  8732       0.10565033\n",
            "3   head 5404      BIO      1  2755       0.03333333\n",
            "4   live 5485      BIO      1  2591       0.03134906\n",
            "5  heart 5417      BIO      1  2502       0.03027223\n",
            "6  sleep 5686      BIO      1  2205       0.02667877\n",
            "7   face 5334      BIO      1  2015       0.02437992\n",
            "8  tired 5769      BIO      1  1858       0.02248034\n",
            "9   hand 5400      BIO      1  1741       0.02106473\n",
            "10  fuck 5369      BIO      1  1690       0.02044767\n"
          ]
        }
      ],
      "source": [
        "%%R\n",
        "\n",
        "sum_of_bio_words <- sum(BW$count)\n",
        "BW$count_normalized <- BW$count / sum_of_bio_words\n",
        "\n",
        "BW %>%\n",
        "  arrange(desc(count_normalized)) %>%\n",
        "  head(10) %>%\n",
        "  data.frame()"
      ]
    },
    {
      "cell_type": "markdown",
      "source": [
        "And then just sum the top 10 normalized counts in R. (leaving as Exercise)"
      ],
      "metadata": {
        "id": "iVjDU5ZtZHnl"
      }
    },
    {
      "cell_type": "code",
      "source": [],
      "metadata": {
        "id": "0uQNsaXlnqvd"
      },
      "execution_count": null,
      "outputs": []
    },
    {
      "cell_type": "markdown",
      "metadata": {
        "id": "Yt0AnGPYh0H2"
      },
      "source": [
        "#### 10) Which age group generally uses the most POSEMO? (using simple averages of group_norms)?\n",
        "\n",
        "In the first step, read the LIWC features and `blog_outcomes`.\n",
        "\n"
      ]
    },
    {
      "cell_type": "code",
      "execution_count": null,
      "metadata": {
        "autoscroll": false,
        "collapsed": true,
        "id": "GJ_KcoqUh0H2",
        "colab": {
          "base_uri": "https://localhost:8080/"
        },
        "outputId": "f813c2d4-f254-490a-bffc-e282ce226231"
      },
      "outputs": [
        {
          "output_type": "stream",
          "name": "stdout",
          "text": [
            "       names NAs numeric                  min     max zeroes nonNA unique\n",
            "1         id   0       1                    1   71393      0 71393  71393\n",
            "2   group_id   0       1                28451 4325889      0 71393   1000\n",
            "3       feat   0       0                                                 \n",
            "4      value   0       1                    1  161281      0 71393   3174\n",
            "5 group_norm   0       1 4.37982978886483e-05       1      0 71393  54417\n"
          ]
        }
      ],
      "source": [
        "%%R\n",
        "\n",
        "feat_liwc <- dbGetQuery(db_con, \"SELECT * FROM feat$cat_LIWC2015$msgs$user_id$1gra\")\n",
        "checkDf2(feat_liwc)"
      ]
    },
    {
      "cell_type": "markdown",
      "metadata": {
        "id": "n7l7_IQeh0H2"
      },
      "source": [
        "Change it to wide format\n",
        "\n"
      ]
    },
    {
      "cell_type": "code",
      "execution_count": null,
      "metadata": {
        "autoscroll": false,
        "id": "MYxlxeU1h0H2"
      },
      "outputs": [],
      "source": [
        "%%R\n",
        "\n",
        "feat_liwc <- importFeat(feat_liwc)\n",
        "checkDf2(feat_liwc)"
      ]
    },
    {
      "cell_type": "markdown",
      "metadata": {
        "id": "eH99LJ15h0H2"
      },
      "source": [
        "\n",
        "Remember the \"dummy\" `_intercept` feature, well that makes sure here to retain all the users here unlike one-gram tables.\n",
        "\n",
        "Anyway, let's read the outcomes table.\n",
        "\n"
      ]
    },
    {
      "cell_type": "code",
      "execution_count": null,
      "metadata": {
        "autoscroll": false,
        "id": "LEBsiFEVh0H2",
        "colab": {
          "base_uri": "https://localhost:8080/"
        },
        "outputId": "1dd3dfc4-f11f-4ad2-906f-937f9cfa17b6"
      },
      "outputs": [
        {
          "output_type": "stream",
          "name": "stdout",
          "text": [
            "           names NAs numeric   min     max zeroes nonNA unique\n",
            "1        user_id   0       1 28451 4325889      0  1000   1000\n",
            "2         gender   0       1     0       1    502  1000      2\n",
            "3            age   0       1    13      48      0  1000     26\n",
            "4           occu   0       0                                  \n",
            "5           sign   0       0                                  \n",
            "6      is_indunk   0       1     0       1    642  1000      2\n",
            "7     is_student   0       0                                  \n",
            "8   is_education   0       0                                  \n",
            "9  is_technology   0       0                                  \n",
            "10     wordcount   0       1   419  365311      0  1000    917\n"
          ]
        }
      ],
      "source": [
        "%%R\n",
        "\n",
        "outcomes <- dbGetQuery(db_con, \"SELECT * FROM outcomes\")\n",
        "checkDf2(outcomes)"
      ]
    },
    {
      "cell_type": "markdown",
      "metadata": {
        "id": "ehmRyQbZh0H3"
      },
      "source": [
        "\n",
        "This is followed by a merge as usual.\n",
        "\n"
      ]
    },
    {
      "cell_type": "code",
      "execution_count": null,
      "metadata": {
        "autoscroll": false,
        "id": "K1mfVqW2h0H3"
      },
      "outputs": [],
      "source": [
        "%%R\n",
        "\n",
        "FO <- merge(feat_liwc, outcomes, by.x = 'group_id', by.y = 'user_id')\n",
        "checkDf2(FO)"
      ]
    },
    {
      "cell_type": "markdown",
      "metadata": {
        "id": "e8Oy_sPvh0H3"
      },
      "source": [
        "\n",
        "Later, `tidyverse` does the trick.\n",
        "\n",
        "This are actually done the right way -- 0's were inserted by importFeat -- so these are the real relative frequencies.\n",
        "\n",
        "Exercise: can you plot this over age?\n",
        "\n"
      ]
    },
    {
      "cell_type": "code",
      "execution_count": null,
      "metadata": {
        "autoscroll": false,
        "id": "CsBQASZph0H3",
        "colab": {
          "base_uri": "https://localhost:8080/"
        },
        "outputId": "a8495d4c-5d01-4d32-fbb3-24e65448d86f"
      },
      "outputs": [
        {
          "output_type": "stream",
          "name": "stdout",
          "text": [
            "   age       mean\n",
            "1   16 0.03365538\n",
            "2   38 0.03364668\n",
            "3   14 0.03362801\n",
            "4   15 0.03322201\n",
            "5   17 0.03275249\n",
            "6   13 0.03270106\n",
            "7   36 0.03154150\n",
            "8   45 0.03105807\n",
            "9   44 0.03018316\n",
            "10  33 0.02980422\n",
            "11  23 0.02940412\n",
            "12  25 0.02919368\n",
            "13  27 0.02915218\n",
            "14  24 0.02867853\n",
            "15  26 0.02838988\n",
            "16  40 0.02822496\n",
            "17  43 0.02808062\n",
            "18  47 0.02790364\n",
            "19  39 0.02787737\n",
            "20  35 0.02786563\n",
            "21  48 0.02745807\n",
            "22  37 0.02731702\n",
            "23  34 0.02707156\n",
            "24  42 0.02691967\n",
            "25  46 0.02497994\n",
            "26  41 0.02309515\n"
          ]
        }
      ],
      "source": [
        "%%R\n",
        "\n",
        "FO %>%\n",
        "  group_by(age) %>%\n",
        "  summarise(mean = mean(POSEMO)) %>%\n",
        "  arrange(desc(mean)) %>%\n",
        "  data.frame()"
      ]
    },
    {
      "cell_type": "markdown",
      "source": [
        "Yay! 😃"
      ],
      "metadata": {
        "id": "0J-vrmZBn34_"
      }
    },
    {
      "cell_type": "markdown",
      "source": [
        "## ‼️ **Save your database and/or output files** ‼️"
      ],
      "metadata": {
        "id": "bS4qTq9zJdUS"
      }
    },
    {
      "cell_type": "markdown",
      "source": [
        "Let's save all this work into your Google Drive `sqlite_databases` folder!"
      ],
      "metadata": {
        "id": "qGExUsbZThmO"
      }
    },
    {
      "cell_type": "code",
      "source": [
        "database = 'dla_tutorial'"
      ],
      "metadata": {
        "id": "F7RlPan-KkYX"
      },
      "execution_count": null,
      "outputs": []
    },
    {
      "cell_type": "code",
      "source": [
        "# mount Google Drive\n",
        "from google.colab import drive\n",
        "drive.mount('/content/drive', force_remount=True)\n",
        "\n",
        "# copy the database file to your Drive\n",
        "!cp -f \"sqlite_data/{database}.db\" \"/content/drive/MyDrive/sqlite_databases/\"\n",
        "\n",
        "print(f\"✅ Database '{database}.db' has been copied to your Google Drive.\")"
      ],
      "metadata": {
        "id": "Ls5d7ZXwJzxV",
        "outputId": "8fd7a5bc-aa49-41e7-a35f-1be7f8c3acdd",
        "colab": {
          "base_uri": "https://localhost:8080/"
        }
      },
      "execution_count": null,
      "outputs": [
        {
          "output_type": "stream",
          "name": "stdout",
          "text": [
            "Mounted at /content/drive\n",
            "✅ Database 'dla_tutorial.db' has been copied to your Google Drive.\n"
          ]
        }
      ]
    }
  ],
  "metadata": {
    "Rmd_header": {
      "output": "html_document",
      "title": "W5_Tutorial_08_R_featTable_statsAndPlots_preHW5_withSolutions"
    },
    "kernelspec": {
      "display_name": "Python 3",
      "name": "python3"
    },
    "language_info": {
      "name": "python"
    },
    "colab": {
      "provenance": [],
      "collapsed_sections": [
        "zEaWoSEh7gi5"
      ],
      "toc_visible": true,
      "include_colab_link": true
    }
  },
  "nbformat": 4,
  "nbformat_minor": 0
}